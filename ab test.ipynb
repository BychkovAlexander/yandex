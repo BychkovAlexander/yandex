{
 "cells": [
  {
   "cell_type": "markdown",
   "metadata": {},
   "source": [
    "# Описание проекта\n",
    "\n",
    "Описание данных\n",
    "\n",
    "Файл /datasets/hypothesis.csv.\n",
    "- Hypothesis — краткое описание гипотезы;\n",
    "- Reach — охват пользователей по 10-балльной шкале;\n",
    "- Impact — влияние на пользователей по 10-балльной шкале;\n",
    "- Confidence — уверенность в гипотезе по 10-балльной шкале;\n",
    "- Efforts — затраты ресурсов на проверку гипотезы по 10-балльной шкале. Чем больше значение Efforts, тем дороже проверка гипотезы.\n",
    "\n",
    "Файл /datasets/orders.csv. Скачать датасет\n",
    "- transactionId — идентификатор заказа;\n",
    "- visitorId — идентификатор пользователя, совершившего заказ;\n",
    "- date — дата, когда был совершён заказ;\n",
    "- revenue — выручка заказа;\n",
    "- group — группа A/B-теста, в которую попал заказ.\n",
    "- Файл /datasets/visitors.csv. Скачать датасет\n",
    "- date — дата;\n",
    "- group — группа A/B-теста;\n",
    "- visitors — количество пользователей в указанную дату в указанной группе A/B-теста\n",
    "Описание проекта\n",
    "Вы — аналитик крупного интернет-магазина. Вместе с отделом маркетинга вы подготовили список гипотез для увеличения выручки.\n",
    "Приоритизируйте гипотезы, запустите A/B-тест и проанализируйте результаты.\n",
    "\n",
    "Задача\n",
    "- Примените фреймворк ICE для приоритизации гипотез. Отсортируйте их по убыванию приоритета.\n",
    "- Примените фреймворк RICE для приоритизации гипотез. Отсортируйте их по убыванию приоритета.\n",
    "- Укажите, как изменилась приоритизация гипотез при применении RICE вместо ICE. Объясните, почему так произошло.\n",
    "\n",
    "Вы провели A/B-тест и получили результаты, которые описаны в файлах /datasets/orders.csv и /datasets/visitors.csv.\n",
    "\n",
    "Задача\n",
    "- Проанализируйте A/B-тест:\n",
    "- Постройте график кумулятивной выручки по группам. Сделайте выводы и предположения.\n",
    "- Постройте график кумулятивного среднего чека по группам. Сделайте выводы и предположения.\n",
    "- Постройте график относительного изменения кумулятивного среднего чека группы B к группе A. Сделайте выводы и предположения.\n",
    "- Постройте график кумулятивной конверсии по группам. Сделайте выводы и предположения.\n",
    "- Постройте график относительного изменения кумулятивной конверсии группы B к группе A. Сделайте выводы и предположения.\n",
    "- Постройте точечный график количества заказов по пользователям. Сделайте выводы и предположения.\n",
    "- Посчитайте 95-й и 99-й перцентили количества заказов на пользователя. Выберите границу для определения аномальных пользователей.\n",
    "- Постройте точечный график стоимостей заказов. Сделайте выводы и предположения.\n",
    "- Посчитайте 95-й и 99-й перцентили стоимости заказов. Выберите границу для определения аномальных заказов.\n",
    "- Посчитайте статистическую значимость различий в конверсии между группами по «сырым» данным. Сделайте выводы и предположения.\n",
    "- Посчитайте статистическую значимость различий в среднем чеке заказа между группами по «сырым» данным. Сделайте выводы и предположения.\n",
    "- Посчитайте статистическую значимость различий в конверсии между группами по «очищенным» данным. Сделайте выводы и предположения.\n",
    "- Посчитайте статистическую значимость различий в среднем чеке заказа между группами по «очищенным» данным. Сделайте выводы и предположения.\n",
    "- Примите решение по результатам теста и объясните его. Варианты решений: 1. Остановить тест, зафиксировать победу одной из групп. 2. Остановить тест, зафиксировать отсутствие различий между группами. 3. Продолжить тест."
   ]
  },
  {
   "cell_type": "markdown",
   "metadata": {},
   "source": [
    "## Часть 1. Приоритизация гипотез."
   ]
  },
  {
   "cell_type": "code",
   "execution_count": 1,
   "metadata": {},
   "outputs": [],
   "source": [
    "import pandas as pd\n",
    "import numpy as np\n",
    "from matplotlib import pyplot as plt\n",
    "\n",
    "import math\n",
    "from scipy import stats\n",
    "\n",
    "from datetime import timedelta\n",
    "import datetime as dt"
   ]
  },
  {
   "cell_type": "code",
   "execution_count": 2,
   "metadata": {},
   "outputs": [
    {
     "data": {
      "text/html": [
       "<div>\n",
       "<style scoped>\n",
       "    .dataframe tbody tr th:only-of-type {\n",
       "        vertical-align: middle;\n",
       "    }\n",
       "\n",
       "    .dataframe tbody tr th {\n",
       "        vertical-align: top;\n",
       "    }\n",
       "\n",
       "    .dataframe thead th {\n",
       "        text-align: right;\n",
       "    }\n",
       "</style>\n",
       "<table border=\"1\" class=\"dataframe\">\n",
       "  <thead>\n",
       "    <tr style=\"text-align: right;\">\n",
       "      <th></th>\n",
       "      <th>Hypothesis</th>\n",
       "      <th>Reach</th>\n",
       "      <th>Impact</th>\n",
       "      <th>Confidence</th>\n",
       "      <th>Efforts</th>\n",
       "    </tr>\n",
       "  </thead>\n",
       "  <tbody>\n",
       "    <tr>\n",
       "      <th>0</th>\n",
       "      <td>Добавить два новых канала привлечения трафика,...</td>\n",
       "      <td>3</td>\n",
       "      <td>10</td>\n",
       "      <td>8</td>\n",
       "      <td>6</td>\n",
       "    </tr>\n",
       "    <tr>\n",
       "      <th>1</th>\n",
       "      <td>Запустить собственную службу доставки, что сок...</td>\n",
       "      <td>2</td>\n",
       "      <td>5</td>\n",
       "      <td>4</td>\n",
       "      <td>10</td>\n",
       "    </tr>\n",
       "    <tr>\n",
       "      <th>2</th>\n",
       "      <td>Добавить блоки рекомендаций товаров на сайт ин...</td>\n",
       "      <td>8</td>\n",
       "      <td>3</td>\n",
       "      <td>7</td>\n",
       "      <td>3</td>\n",
       "    </tr>\n",
       "    <tr>\n",
       "      <th>3</th>\n",
       "      <td>Изменить структура категорий, что увеличит кон...</td>\n",
       "      <td>8</td>\n",
       "      <td>3</td>\n",
       "      <td>3</td>\n",
       "      <td>8</td>\n",
       "    </tr>\n",
       "    <tr>\n",
       "      <th>4</th>\n",
       "      <td>Изменить цвет фона главной страницы, чтобы уве...</td>\n",
       "      <td>3</td>\n",
       "      <td>1</td>\n",
       "      <td>1</td>\n",
       "      <td>1</td>\n",
       "    </tr>\n",
       "    <tr>\n",
       "      <th>5</th>\n",
       "      <td>Добавить страницу отзывов клиентов о магазине,...</td>\n",
       "      <td>3</td>\n",
       "      <td>2</td>\n",
       "      <td>2</td>\n",
       "      <td>3</td>\n",
       "    </tr>\n",
       "    <tr>\n",
       "      <th>6</th>\n",
       "      <td>Показать на главной странице баннеры с актуаль...</td>\n",
       "      <td>5</td>\n",
       "      <td>3</td>\n",
       "      <td>8</td>\n",
       "      <td>3</td>\n",
       "    </tr>\n",
       "    <tr>\n",
       "      <th>7</th>\n",
       "      <td>Добавить форму подписки на все основные страни...</td>\n",
       "      <td>10</td>\n",
       "      <td>7</td>\n",
       "      <td>8</td>\n",
       "      <td>5</td>\n",
       "    </tr>\n",
       "    <tr>\n",
       "      <th>8</th>\n",
       "      <td>Запустить акцию, дающую скидку на товар в день...</td>\n",
       "      <td>1</td>\n",
       "      <td>9</td>\n",
       "      <td>9</td>\n",
       "      <td>5</td>\n",
       "    </tr>\n",
       "  </tbody>\n",
       "</table>\n",
       "</div>"
      ],
      "text/plain": [
       "                                          Hypothesis  Reach  Impact  \\\n",
       "0  Добавить два новых канала привлечения трафика,...      3      10   \n",
       "1  Запустить собственную службу доставки, что сок...      2       5   \n",
       "2  Добавить блоки рекомендаций товаров на сайт ин...      8       3   \n",
       "3  Изменить структура категорий, что увеличит кон...      8       3   \n",
       "4  Изменить цвет фона главной страницы, чтобы уве...      3       1   \n",
       "5  Добавить страницу отзывов клиентов о магазине,...      3       2   \n",
       "6  Показать на главной странице баннеры с актуаль...      5       3   \n",
       "7  Добавить форму подписки на все основные страни...     10       7   \n",
       "8  Запустить акцию, дающую скидку на товар в день...      1       9   \n",
       "\n",
       "   Confidence  Efforts  \n",
       "0           8        6  \n",
       "1           4       10  \n",
       "2           7        3  \n",
       "3           3        8  \n",
       "4           1        1  \n",
       "5           2        3  \n",
       "6           8        3  \n",
       "7           8        5  \n",
       "8           9        5  "
      ]
     },
     "execution_count": 2,
     "metadata": {},
     "output_type": "execute_result"
    }
   ],
   "source": [
    "hypothesis = pd.read_csv('/datasets/hypothesis.csv')\n",
    "hypothesis.head(10)"
   ]
  },
  {
   "cell_type": "code",
   "execution_count": 3,
   "metadata": {},
   "outputs": [
    {
     "name": "stdout",
     "output_type": "stream",
     "text": [
      "<class 'pandas.core.frame.DataFrame'>\n",
      "RangeIndex: 9 entries, 0 to 8\n",
      "Data columns (total 5 columns):\n",
      " #   Column      Non-Null Count  Dtype \n",
      "---  ------      --------------  ----- \n",
      " 0   Hypothesis  9 non-null      object\n",
      " 1   Reach       9 non-null      int64 \n",
      " 2   Impact      9 non-null      int64 \n",
      " 3   Confidence  9 non-null      int64 \n",
      " 4   Efforts     9 non-null      int64 \n",
      "dtypes: int64(4), object(1)\n",
      "memory usage: 488.0+ bytes\n"
     ]
    }
   ],
   "source": [
    "hypothesis.info()"
   ]
  },
  {
   "cell_type": "code",
   "execution_count": 4,
   "metadata": {},
   "outputs": [
    {
     "data": {
      "text/plain": [
       "0"
      ]
     },
     "execution_count": 4,
     "metadata": {},
     "output_type": "execute_result"
    }
   ],
   "source": [
    "hypothesis.duplicated().sum() # 0 дубликатов "
   ]
  },
  {
   "cell_type": "code",
   "execution_count": 5,
   "metadata": {},
   "outputs": [],
   "source": [
    "hypothesis.columns = hypothesis.columns.str.lower() # приведем данные к нижнему регистру"
   ]
  },
  {
   "cell_type": "markdown",
   "metadata": {},
   "source": [
    "# Примените фреймворк ICE для приоритизации гипотез. Отсортируйте их по убыванию приоритета."
   ]
  },
  {
   "cell_type": "code",
   "execution_count": 6,
   "metadata": {},
   "outputs": [
    {
     "data": {
      "text/html": [
       "<div>\n",
       "<style scoped>\n",
       "    .dataframe tbody tr th:only-of-type {\n",
       "        vertical-align: middle;\n",
       "    }\n",
       "\n",
       "    .dataframe tbody tr th {\n",
       "        vertical-align: top;\n",
       "    }\n",
       "\n",
       "    .dataframe thead th {\n",
       "        text-align: right;\n",
       "    }\n",
       "</style>\n",
       "<table border=\"1\" class=\"dataframe\">\n",
       "  <thead>\n",
       "    <tr style=\"text-align: right;\">\n",
       "      <th></th>\n",
       "      <th>hypothesis</th>\n",
       "      <th>ICE</th>\n",
       "    </tr>\n",
       "  </thead>\n",
       "  <tbody>\n",
       "    <tr>\n",
       "      <th>8</th>\n",
       "      <td>Запустить акцию, дающую скидку на товар в день рождения</td>\n",
       "      <td>16.2</td>\n",
       "    </tr>\n",
       "    <tr>\n",
       "      <th>0</th>\n",
       "      <td>Добавить два новых канала привлечения трафика, что позволит привлекать на 30% больше пользователей</td>\n",
       "      <td>13.3</td>\n",
       "    </tr>\n",
       "    <tr>\n",
       "      <th>7</th>\n",
       "      <td>Добавить форму подписки на все основные страницы, чтобы собрать базу клиентов для email-рассылок</td>\n",
       "      <td>11.2</td>\n",
       "    </tr>\n",
       "    <tr>\n",
       "      <th>6</th>\n",
       "      <td>Показать на главной странице баннеры с актуальными акциями и распродажами, чтобы увеличить конверсию</td>\n",
       "      <td>8.0</td>\n",
       "    </tr>\n",
       "    <tr>\n",
       "      <th>2</th>\n",
       "      <td>Добавить блоки рекомендаций товаров на сайт интернет магазина, чтобы повысить конверсию и средний чек заказа</td>\n",
       "      <td>7.0</td>\n",
       "    </tr>\n",
       "    <tr>\n",
       "      <th>1</th>\n",
       "      <td>Запустить собственную службу доставки, что сократит срок доставки заказов</td>\n",
       "      <td>2.0</td>\n",
       "    </tr>\n",
       "    <tr>\n",
       "      <th>5</th>\n",
       "      <td>Добавить страницу отзывов клиентов о магазине, что позволит увеличить количество заказов</td>\n",
       "      <td>1.3</td>\n",
       "    </tr>\n",
       "    <tr>\n",
       "      <th>3</th>\n",
       "      <td>Изменить структура категорий, что увеличит конверсию, т.к. пользователи быстрее найдут нужный товар</td>\n",
       "      <td>1.1</td>\n",
       "    </tr>\n",
       "    <tr>\n",
       "      <th>4</th>\n",
       "      <td>Изменить цвет фона главной страницы, чтобы увеличить вовлеченность пользователей</td>\n",
       "      <td>1.0</td>\n",
       "    </tr>\n",
       "  </tbody>\n",
       "</table>\n",
       "</div>"
      ],
      "text/plain": [
       "                                                                                                     hypothesis  \\\n",
       "8                                                       Запустить акцию, дающую скидку на товар в день рождения   \n",
       "0            Добавить два новых канала привлечения трафика, что позволит привлекать на 30% больше пользователей   \n",
       "7              Добавить форму подписки на все основные страницы, чтобы собрать базу клиентов для email-рассылок   \n",
       "6          Показать на главной странице баннеры с актуальными акциями и распродажами, чтобы увеличить конверсию   \n",
       "2  Добавить блоки рекомендаций товаров на сайт интернет магазина, чтобы повысить конверсию и средний чек заказа   \n",
       "1                                     Запустить собственную службу доставки, что сократит срок доставки заказов   \n",
       "5                      Добавить страницу отзывов клиентов о магазине, что позволит увеличить количество заказов   \n",
       "3           Изменить структура категорий, что увеличит конверсию, т.к. пользователи быстрее найдут нужный товар   \n",
       "4                              Изменить цвет фона главной страницы, чтобы увеличить вовлеченность пользователей   \n",
       "\n",
       "    ICE  \n",
       "8  16.2  \n",
       "0  13.3  \n",
       "7  11.2  \n",
       "6   8.0  \n",
       "2   7.0  \n",
       "1   2.0  \n",
       "5   1.3  \n",
       "3   1.1  \n",
       "4   1.0  "
      ]
     },
     "execution_count": 6,
     "metadata": {},
     "output_type": "execute_result"
    }
   ],
   "source": [
    "hypothesis['ICE'] = ((hypothesis['impact'] * hypothesis['confidence']) / hypothesis['efforts']).round(1)\n",
    "pd.options.display.max_colwidth = 150\n",
    "hypothesis[['hypothesis', 'ICE']].sort_values(by='ICE', ascending=False)"
   ]
  },
  {
   "cell_type": "markdown",
   "metadata": {},
   "source": [
    "Судя по ICE наиболее перспективные гипотезы : \"Запустить акцию, дающую скидку на товар в день рождения\" и \"Добавить два новых канала привлечения трафика, что позволит привлекать на 30% больше пользователей\", а наименее перспективная - \"Изменить цвет фона главной страницы, чтобы увеличить вовлеченность пользователей\""
   ]
  },
  {
   "cell_type": "markdown",
   "metadata": {},
   "source": [
    "# Примените фреймворк RICE для приоритизации гипотез. Отсортируйте их по убыванию приоритета."
   ]
  },
  {
   "cell_type": "code",
   "execution_count": 7,
   "metadata": {},
   "outputs": [
    {
     "data": {
      "text/html": [
       "<div>\n",
       "<style scoped>\n",
       "    .dataframe tbody tr th:only-of-type {\n",
       "        vertical-align: middle;\n",
       "    }\n",
       "\n",
       "    .dataframe tbody tr th {\n",
       "        vertical-align: top;\n",
       "    }\n",
       "\n",
       "    .dataframe thead th {\n",
       "        text-align: right;\n",
       "    }\n",
       "</style>\n",
       "<table border=\"1\" class=\"dataframe\">\n",
       "  <thead>\n",
       "    <tr style=\"text-align: right;\">\n",
       "      <th></th>\n",
       "      <th>hypothesis</th>\n",
       "      <th>RICE</th>\n",
       "    </tr>\n",
       "  </thead>\n",
       "  <tbody>\n",
       "    <tr>\n",
       "      <th>7</th>\n",
       "      <td>Добавить форму подписки на все основные страницы, чтобы собрать базу клиентов для email-рассылок</td>\n",
       "      <td>112.0</td>\n",
       "    </tr>\n",
       "    <tr>\n",
       "      <th>2</th>\n",
       "      <td>Добавить блоки рекомендаций товаров на сайт интернет магазина, чтобы повысить конверсию и средний чек заказа</td>\n",
       "      <td>56.0</td>\n",
       "    </tr>\n",
       "    <tr>\n",
       "      <th>0</th>\n",
       "      <td>Добавить два новых канала привлечения трафика, что позволит привлекать на 30% больше пользователей</td>\n",
       "      <td>40.0</td>\n",
       "    </tr>\n",
       "    <tr>\n",
       "      <th>6</th>\n",
       "      <td>Показать на главной странице баннеры с актуальными акциями и распродажами, чтобы увеличить конверсию</td>\n",
       "      <td>40.0</td>\n",
       "    </tr>\n",
       "    <tr>\n",
       "      <th>8</th>\n",
       "      <td>Запустить акцию, дающую скидку на товар в день рождения</td>\n",
       "      <td>16.2</td>\n",
       "    </tr>\n",
       "    <tr>\n",
       "      <th>3</th>\n",
       "      <td>Изменить структура категорий, что увеличит конверсию, т.к. пользователи быстрее найдут нужный товар</td>\n",
       "      <td>9.0</td>\n",
       "    </tr>\n",
       "    <tr>\n",
       "      <th>1</th>\n",
       "      <td>Запустить собственную службу доставки, что сократит срок доставки заказов</td>\n",
       "      <td>4.0</td>\n",
       "    </tr>\n",
       "    <tr>\n",
       "      <th>5</th>\n",
       "      <td>Добавить страницу отзывов клиентов о магазине, что позволит увеличить количество заказов</td>\n",
       "      <td>4.0</td>\n",
       "    </tr>\n",
       "    <tr>\n",
       "      <th>4</th>\n",
       "      <td>Изменить цвет фона главной страницы, чтобы увеличить вовлеченность пользователей</td>\n",
       "      <td>3.0</td>\n",
       "    </tr>\n",
       "  </tbody>\n",
       "</table>\n",
       "</div>"
      ],
      "text/plain": [
       "                                                                                                     hypothesis  \\\n",
       "7              Добавить форму подписки на все основные страницы, чтобы собрать базу клиентов для email-рассылок   \n",
       "2  Добавить блоки рекомендаций товаров на сайт интернет магазина, чтобы повысить конверсию и средний чек заказа   \n",
       "0            Добавить два новых канала привлечения трафика, что позволит привлекать на 30% больше пользователей   \n",
       "6          Показать на главной странице баннеры с актуальными акциями и распродажами, чтобы увеличить конверсию   \n",
       "8                                                       Запустить акцию, дающую скидку на товар в день рождения   \n",
       "3           Изменить структура категорий, что увеличит конверсию, т.к. пользователи быстрее найдут нужный товар   \n",
       "1                                     Запустить собственную службу доставки, что сократит срок доставки заказов   \n",
       "5                      Добавить страницу отзывов клиентов о магазине, что позволит увеличить количество заказов   \n",
       "4                              Изменить цвет фона главной страницы, чтобы увеличить вовлеченность пользователей   \n",
       "\n",
       "    RICE  \n",
       "7  112.0  \n",
       "2   56.0  \n",
       "0   40.0  \n",
       "6   40.0  \n",
       "8   16.2  \n",
       "3    9.0  \n",
       "1    4.0  \n",
       "5    4.0  \n",
       "4    3.0  "
      ]
     },
     "execution_count": 7,
     "metadata": {},
     "output_type": "execute_result"
    }
   ],
   "source": [
    "hypothesis['RICE'] = ((hypothesis['reach']*hypothesis['impact']*hypothesis['confidence']) / hypothesis['efforts']).round(1)\n",
    "pd.options.display.max_colwidth = 150\n",
    "hypothesis[['hypothesis', 'RICE']].sort_values(by='RICE', ascending=False)"
   ]
  },
  {
   "cell_type": "markdown",
   "metadata": {},
   "source": [
    "Судя по RICE наиболее перспективные гипотезы:  \"Добавить форму подписки на все основные страницы, чтобы собрать базу клиентов для email-рассылок\" и \"Добавить блоки рекомендаций товаров на сайт интернет магазина, чтобы повысить конверсию и средний чек заказа\", наименее перспективная все также - \"Изменить цвет фона главной страницы, чтобы увеличить вовлеченность пользователей\""
   ]
  },
  {
   "cell_type": "markdown",
   "metadata": {},
   "source": [
    "# Укажите, как изменилась приоритизация гипотез при применении RICE вместо ICE. Объясните, почему так произошло."
   ]
  },
  {
   "cell_type": "code",
   "execution_count": 8,
   "metadata": {},
   "outputs": [
    {
     "data": {
      "text/html": [
       "<div>\n",
       "<style scoped>\n",
       "    .dataframe tbody tr th:only-of-type {\n",
       "        vertical-align: middle;\n",
       "    }\n",
       "\n",
       "    .dataframe tbody tr th {\n",
       "        vertical-align: top;\n",
       "    }\n",
       "\n",
       "    .dataframe thead th {\n",
       "        text-align: right;\n",
       "    }\n",
       "</style>\n",
       "<table border=\"1\" class=\"dataframe\">\n",
       "  <thead>\n",
       "    <tr style=\"text-align: right;\">\n",
       "      <th></th>\n",
       "      <th>hypothesis</th>\n",
       "      <th>ICE</th>\n",
       "      <th>RICE</th>\n",
       "    </tr>\n",
       "  </thead>\n",
       "  <tbody>\n",
       "    <tr>\n",
       "      <th>0</th>\n",
       "      <td>Добавить два новых канала привлечения трафика, что позволит привлекать на 30% больше пользователей</td>\n",
       "      <td>13.3</td>\n",
       "      <td>40.0</td>\n",
       "    </tr>\n",
       "    <tr>\n",
       "      <th>1</th>\n",
       "      <td>Запустить собственную службу доставки, что сократит срок доставки заказов</td>\n",
       "      <td>2.0</td>\n",
       "      <td>4.0</td>\n",
       "    </tr>\n",
       "    <tr>\n",
       "      <th>2</th>\n",
       "      <td>Добавить блоки рекомендаций товаров на сайт интернет магазина, чтобы повысить конверсию и средний чек заказа</td>\n",
       "      <td>7.0</td>\n",
       "      <td>56.0</td>\n",
       "    </tr>\n",
       "    <tr>\n",
       "      <th>3</th>\n",
       "      <td>Изменить структура категорий, что увеличит конверсию, т.к. пользователи быстрее найдут нужный товар</td>\n",
       "      <td>1.1</td>\n",
       "      <td>9.0</td>\n",
       "    </tr>\n",
       "    <tr>\n",
       "      <th>4</th>\n",
       "      <td>Изменить цвет фона главной страницы, чтобы увеличить вовлеченность пользователей</td>\n",
       "      <td>1.0</td>\n",
       "      <td>3.0</td>\n",
       "    </tr>\n",
       "    <tr>\n",
       "      <th>5</th>\n",
       "      <td>Добавить страницу отзывов клиентов о магазине, что позволит увеличить количество заказов</td>\n",
       "      <td>1.3</td>\n",
       "      <td>4.0</td>\n",
       "    </tr>\n",
       "    <tr>\n",
       "      <th>6</th>\n",
       "      <td>Показать на главной странице баннеры с актуальными акциями и распродажами, чтобы увеличить конверсию</td>\n",
       "      <td>8.0</td>\n",
       "      <td>40.0</td>\n",
       "    </tr>\n",
       "    <tr>\n",
       "      <th>7</th>\n",
       "      <td>Добавить форму подписки на все основные страницы, чтобы собрать базу клиентов для email-рассылок</td>\n",
       "      <td>11.2</td>\n",
       "      <td>112.0</td>\n",
       "    </tr>\n",
       "    <tr>\n",
       "      <th>8</th>\n",
       "      <td>Запустить акцию, дающую скидку на товар в день рождения</td>\n",
       "      <td>16.2</td>\n",
       "      <td>16.2</td>\n",
       "    </tr>\n",
       "  </tbody>\n",
       "</table>\n",
       "</div>"
      ],
      "text/plain": [
       "                                                                                                     hypothesis  \\\n",
       "0            Добавить два новых канала привлечения трафика, что позволит привлекать на 30% больше пользователей   \n",
       "1                                     Запустить собственную службу доставки, что сократит срок доставки заказов   \n",
       "2  Добавить блоки рекомендаций товаров на сайт интернет магазина, чтобы повысить конверсию и средний чек заказа   \n",
       "3           Изменить структура категорий, что увеличит конверсию, т.к. пользователи быстрее найдут нужный товар   \n",
       "4                              Изменить цвет фона главной страницы, чтобы увеличить вовлеченность пользователей   \n",
       "5                      Добавить страницу отзывов клиентов о магазине, что позволит увеличить количество заказов   \n",
       "6          Показать на главной странице баннеры с актуальными акциями и распродажами, чтобы увеличить конверсию   \n",
       "7              Добавить форму подписки на все основные страницы, чтобы собрать базу клиентов для email-рассылок   \n",
       "8                                                       Запустить акцию, дающую скидку на товар в день рождения   \n",
       "\n",
       "    ICE   RICE  \n",
       "0  13.3   40.0  \n",
       "1   2.0    4.0  \n",
       "2   7.0   56.0  \n",
       "3   1.1    9.0  \n",
       "4   1.0    3.0  \n",
       "5   1.3    4.0  \n",
       "6   8.0   40.0  \n",
       "7  11.2  112.0  \n",
       "8  16.2   16.2  "
      ]
     },
     "execution_count": 8,
     "metadata": {},
     "output_type": "execute_result"
    }
   ],
   "source": [
    "hypothesis[['hypothesis', 'ICE', 'RICE']]"
   ]
  },
  {
   "cell_type": "markdown",
   "metadata": {},
   "source": [
    "Ожидаемо, что ICE и RICE отличаются, поскольку в RICE присутствует \"reach\" \n",
    "\n",
    "Поскольку мы рассматриваем крупный интернет магазин, нам больше подойдет исход RICE, поскольку он включает в себе охват пользователей."
   ]
  },
  {
   "cell_type": "markdown",
   "metadata": {},
   "source": [
    "## Часть 2. Анализ A/B-теста"
   ]
  },
  {
   "cell_type": "markdown",
   "metadata": {},
   "source": [
    "# Предобработка данных"
   ]
  },
  {
   "cell_type": "code",
   "execution_count": 9,
   "metadata": {},
   "outputs": [],
   "source": [
    "orders = pd.read_csv('/datasets/orders.csv')\n",
    "visitors = pd.read_csv('/datasets/visitors.csv')"
   ]
  },
  {
   "cell_type": "code",
   "execution_count": 10,
   "metadata": {},
   "outputs": [
    {
     "data": {
      "text/html": [
       "<div>\n",
       "<style scoped>\n",
       "    .dataframe tbody tr th:only-of-type {\n",
       "        vertical-align: middle;\n",
       "    }\n",
       "\n",
       "    .dataframe tbody tr th {\n",
       "        vertical-align: top;\n",
       "    }\n",
       "\n",
       "    .dataframe thead th {\n",
       "        text-align: right;\n",
       "    }\n",
       "</style>\n",
       "<table border=\"1\" class=\"dataframe\">\n",
       "  <thead>\n",
       "    <tr style=\"text-align: right;\">\n",
       "      <th></th>\n",
       "      <th>transactionId</th>\n",
       "      <th>visitorId</th>\n",
       "      <th>date</th>\n",
       "      <th>revenue</th>\n",
       "      <th>group</th>\n",
       "    </tr>\n",
       "  </thead>\n",
       "  <tbody>\n",
       "    <tr>\n",
       "      <th>0</th>\n",
       "      <td>3667963787</td>\n",
       "      <td>3312258926</td>\n",
       "      <td>2019-08-15</td>\n",
       "      <td>1650</td>\n",
       "      <td>B</td>\n",
       "    </tr>\n",
       "    <tr>\n",
       "      <th>1</th>\n",
       "      <td>2804400009</td>\n",
       "      <td>3642806036</td>\n",
       "      <td>2019-08-15</td>\n",
       "      <td>730</td>\n",
       "      <td>B</td>\n",
       "    </tr>\n",
       "    <tr>\n",
       "      <th>2</th>\n",
       "      <td>2961555356</td>\n",
       "      <td>4069496402</td>\n",
       "      <td>2019-08-15</td>\n",
       "      <td>400</td>\n",
       "      <td>A</td>\n",
       "    </tr>\n",
       "    <tr>\n",
       "      <th>3</th>\n",
       "      <td>3797467345</td>\n",
       "      <td>1196621759</td>\n",
       "      <td>2019-08-15</td>\n",
       "      <td>9759</td>\n",
       "      <td>B</td>\n",
       "    </tr>\n",
       "    <tr>\n",
       "      <th>4</th>\n",
       "      <td>2282983706</td>\n",
       "      <td>2322279887</td>\n",
       "      <td>2019-08-15</td>\n",
       "      <td>2308</td>\n",
       "      <td>B</td>\n",
       "    </tr>\n",
       "  </tbody>\n",
       "</table>\n",
       "</div>"
      ],
      "text/plain": [
       "   transactionId   visitorId        date  revenue group\n",
       "0     3667963787  3312258926  2019-08-15     1650     B\n",
       "1     2804400009  3642806036  2019-08-15      730     B\n",
       "2     2961555356  4069496402  2019-08-15      400     A\n",
       "3     3797467345  1196621759  2019-08-15     9759     B\n",
       "4     2282983706  2322279887  2019-08-15     2308     B"
      ]
     },
     "execution_count": 10,
     "metadata": {},
     "output_type": "execute_result"
    }
   ],
   "source": [
    "orders.head()"
   ]
  },
  {
   "cell_type": "code",
   "execution_count": 11,
   "metadata": {},
   "outputs": [
    {
     "name": "stdout",
     "output_type": "stream",
     "text": [
      "<class 'pandas.core.frame.DataFrame'>\n",
      "RangeIndex: 1197 entries, 0 to 1196\n",
      "Data columns (total 5 columns):\n",
      " #   Column         Non-Null Count  Dtype \n",
      "---  ------         --------------  ----- \n",
      " 0   transactionId  1197 non-null   int64 \n",
      " 1   visitorId      1197 non-null   int64 \n",
      " 2   date           1197 non-null   object\n",
      " 3   revenue        1197 non-null   int64 \n",
      " 4   group          1197 non-null   object\n",
      "dtypes: int64(3), object(2)\n",
      "memory usage: 46.9+ KB\n"
     ]
    }
   ],
   "source": [
    "orders.info()"
   ]
  },
  {
   "cell_type": "code",
   "execution_count": 12,
   "metadata": {},
   "outputs": [],
   "source": [
    "orders['date'] = pd.to_datetime(orders['date'], format='%Y-%m-%d') # приведем к формату дата"
   ]
  },
  {
   "cell_type": "code",
   "execution_count": 13,
   "metadata": {},
   "outputs": [],
   "source": [
    "orders = orders.rename(columns={\"transactionId\": \"order_id\", \"visitorId\": \"user_id\"}) # переименуем столбцы "
   ]
  },
  {
   "cell_type": "code",
   "execution_count": 14,
   "metadata": {},
   "outputs": [
    {
     "data": {
      "text/plain": [
       "1658608862    1\n",
       "2211880073    1\n",
       "3913205113    1\n",
       "437656952     1\n",
       "3592105335    1\n",
       "             ..\n",
       "2872509092    1\n",
       "2013919907    1\n",
       "3154167297    1\n",
       "2960804513    1\n",
       "4281129020    1\n",
       "Name: order_id, Length: 1197, dtype: int64"
      ]
     },
     "execution_count": 14,
     "metadata": {},
     "output_type": "execute_result"
    }
   ],
   "source": [
    "orders['order_id'].value_counts() #1197 уникальных строк "
   ]
  },
  {
   "cell_type": "code",
   "execution_count": 15,
   "metadata": {},
   "outputs": [
    {
     "data": {
      "text/plain": [
       "4256040402    11\n",
       "2458001652    11\n",
       "2378935119     9\n",
       "2038680547     8\n",
       "199603092      5\n",
       "              ..\n",
       "2406916810     1\n",
       "1255412427     1\n",
       "3866069709     1\n",
       "54447517       1\n",
       "3013339133     1\n",
       "Name: user_id, Length: 1031, dtype: int64"
      ]
     },
     "execution_count": 15,
     "metadata": {},
     "output_type": "execute_result"
    }
   ],
   "source": [
    "orders['user_id'].value_counts()"
   ]
  },
  {
   "cell_type": "code",
   "execution_count": 16,
   "metadata": {},
   "outputs": [
    {
     "data": {
      "text/plain": [
       "<bound method Series.count of 0       3312258926\n",
       "1       3642806036\n",
       "2       4069496402\n",
       "3       1196621759\n",
       "4       2322279887\n",
       "           ...    \n",
       "1192    3733762160\n",
       "1193     370388673\n",
       "1194     573423106\n",
       "1195    1614305549\n",
       "1196    2108080724\n",
       "Name: user_id, Length: 1197, dtype: int64>"
      ]
     },
     "execution_count": 16,
     "metadata": {},
     "output_type": "execute_result"
    }
   ],
   "source": [
    "orders['user_id'].count # получаем 1197 пользователей из них 1031 уникальных, самое большое число заказов у двух покупателей - по 11 заказов"
   ]
  },
  {
   "cell_type": "code",
   "execution_count": 17,
   "metadata": {
    "scrolled": false
   },
   "outputs": [
    {
     "data": {
      "text/plain": [
       "2019-08-05    48\n",
       "2019-08-12    47\n",
       "2019-08-14    47\n",
       "2019-08-15    46\n",
       "2019-08-06    46\n",
       "2019-08-01    45\n",
       "2019-08-28    45\n",
       "2019-08-02    44\n",
       "2019-08-27    44\n",
       "2019-08-08    43\n",
       "2019-08-19    43\n",
       "2019-08-29    42\n",
       "2019-08-07    42\n",
       "2019-08-26    41\n",
       "2019-08-22    41\n",
       "2019-08-09    41\n",
       "2019-08-03    40\n",
       "2019-08-23    40\n",
       "2019-08-10    39\n",
       "2019-08-16    38\n",
       "2019-08-21    37\n",
       "2019-08-30    35\n",
       "2019-08-13    35\n",
       "2019-08-04    33\n",
       "2019-08-20    32\n",
       "2019-08-31    32\n",
       "2019-08-24    31\n",
       "2019-08-18    26\n",
       "2019-08-11    26\n",
       "2019-08-17    24\n",
       "2019-08-25    24\n",
       "Name: date, dtype: int64"
      ]
     },
     "execution_count": 17,
     "metadata": {},
     "output_type": "execute_result"
    }
   ],
   "source": [
    "orders['date'].value_counts()"
   ]
  },
  {
   "cell_type": "code",
   "execution_count": 18,
   "metadata": {
    "scrolled": true
   },
   "outputs": [
    {
     "name": "stderr",
     "output_type": "stream",
     "text": [
      "/tmp/ipykernel_106/2530440450.py:1: FutureWarning: Treating datetime data as categorical rather than numeric in `.describe` is deprecated and will be removed in a future version of pandas. Specify `datetime_is_numeric=True` to silence this warning and adopt the future behavior now.\n",
      "  orders['date'].describe() # данные представлены за 31 день августа 2019 года, больше всего заказов было 5 августа - 48 заказов,\n"
     ]
    },
    {
     "data": {
      "text/plain": [
       "count                    1197\n",
       "unique                     31\n",
       "top       2019-08-05 00:00:00\n",
       "freq                       48\n",
       "first     2019-08-01 00:00:00\n",
       "last      2019-08-31 00:00:00\n",
       "Name: date, dtype: object"
      ]
     },
     "execution_count": 18,
     "metadata": {},
     "output_type": "execute_result"
    }
   ],
   "source": [
    "orders['date'].describe() # данные представлены за 31 день августа 2019 года, больше всего заказов было 5 августа - 48 заказов,\n",
    "# а меньше всего 17-го и 25-го - по 24 заказа "
   ]
  },
  {
   "cell_type": "code",
   "execution_count": 19,
   "metadata": {},
   "outputs": [
    {
     "data": {
      "text/plain": [
       "B    640\n",
       "A    557\n",
       "Name: group, dtype: int64"
      ]
     },
     "execution_count": 19,
     "metadata": {},
     "output_type": "execute_result"
    }
   ],
   "source": [
    "orders['group'].value_counts() # в группе А у нас - 640 человек, а в группе B - 557"
   ]
  },
  {
   "cell_type": "code",
   "execution_count": 20,
   "metadata": {},
   "outputs": [
    {
     "data": {
      "text/html": [
       "<div>\n",
       "<style scoped>\n",
       "    .dataframe tbody tr th:only-of-type {\n",
       "        vertical-align: middle;\n",
       "    }\n",
       "\n",
       "    .dataframe tbody tr th {\n",
       "        vertical-align: top;\n",
       "    }\n",
       "\n",
       "    .dataframe thead th {\n",
       "        text-align: right;\n",
       "    }\n",
       "</style>\n",
       "<table border=\"1\" class=\"dataframe\">\n",
       "  <thead>\n",
       "    <tr style=\"text-align: right;\">\n",
       "      <th></th>\n",
       "      <th>order_id</th>\n",
       "      <th>user_id</th>\n",
       "      <th>date</th>\n",
       "      <th>revenue</th>\n",
       "      <th>group</th>\n",
       "    </tr>\n",
       "  </thead>\n",
       "  <tbody>\n",
       "  </tbody>\n",
       "</table>\n",
       "</div>"
      ],
      "text/plain": [
       "Empty DataFrame\n",
       "Columns: [order_id, user_id, date, revenue, group]\n",
       "Index: []"
      ]
     },
     "execution_count": 20,
     "metadata": {},
     "output_type": "execute_result"
    }
   ],
   "source": [
    "#проверим на дубликаты\n",
    "orders[orders.duplicated()]"
   ]
  },
  {
   "cell_type": "code",
   "execution_count": 21,
   "metadata": {},
   "outputs": [
    {
     "data": {
      "text/html": [
       "<div>\n",
       "<style scoped>\n",
       "    .dataframe tbody tr th:only-of-type {\n",
       "        vertical-align: middle;\n",
       "    }\n",
       "\n",
       "    .dataframe tbody tr th {\n",
       "        vertical-align: top;\n",
       "    }\n",
       "\n",
       "    .dataframe thead th {\n",
       "        text-align: right;\n",
       "    }\n",
       "</style>\n",
       "<table border=\"1\" class=\"dataframe\">\n",
       "  <thead>\n",
       "    <tr style=\"text-align: right;\">\n",
       "      <th></th>\n",
       "      <th>0</th>\n",
       "    </tr>\n",
       "  </thead>\n",
       "  <tbody>\n",
       "    <tr>\n",
       "      <th>order_id</th>\n",
       "      <td>0.0</td>\n",
       "    </tr>\n",
       "    <tr>\n",
       "      <th>user_id</th>\n",
       "      <td>0.0</td>\n",
       "    </tr>\n",
       "    <tr>\n",
       "      <th>date</th>\n",
       "      <td>0.0</td>\n",
       "    </tr>\n",
       "    <tr>\n",
       "      <th>revenue</th>\n",
       "      <td>0.0</td>\n",
       "    </tr>\n",
       "    <tr>\n",
       "      <th>group</th>\n",
       "      <td>0.0</td>\n",
       "    </tr>\n",
       "  </tbody>\n",
       "</table>\n",
       "</div>"
      ],
      "text/plain": [
       "            0\n",
       "order_id  0.0\n",
       "user_id   0.0\n",
       "date      0.0\n",
       "revenue   0.0\n",
       "group     0.0"
      ]
     },
     "execution_count": 21,
     "metadata": {},
     "output_type": "execute_result"
    }
   ],
   "source": [
    "pd.DataFrame(round((orders.isna().mean()*100))) # Дубликатов и нулевых значений не обнаружено"
   ]
  },
  {
   "cell_type": "code",
   "execution_count": 22,
   "metadata": {},
   "outputs": [
    {
     "data": {
      "text/html": [
       "<div>\n",
       "<style scoped>\n",
       "    .dataframe tbody tr th:only-of-type {\n",
       "        vertical-align: middle;\n",
       "    }\n",
       "\n",
       "    .dataframe tbody tr th {\n",
       "        vertical-align: top;\n",
       "    }\n",
       "\n",
       "    .dataframe thead th {\n",
       "        text-align: right;\n",
       "    }\n",
       "</style>\n",
       "<table border=\"1\" class=\"dataframe\">\n",
       "  <thead>\n",
       "    <tr style=\"text-align: right;\">\n",
       "      <th></th>\n",
       "      <th>date</th>\n",
       "      <th>group</th>\n",
       "      <th>visitors</th>\n",
       "    </tr>\n",
       "  </thead>\n",
       "  <tbody>\n",
       "    <tr>\n",
       "      <th>0</th>\n",
       "      <td>2019-08-01</td>\n",
       "      <td>A</td>\n",
       "      <td>719</td>\n",
       "    </tr>\n",
       "    <tr>\n",
       "      <th>1</th>\n",
       "      <td>2019-08-02</td>\n",
       "      <td>A</td>\n",
       "      <td>619</td>\n",
       "    </tr>\n",
       "    <tr>\n",
       "      <th>2</th>\n",
       "      <td>2019-08-03</td>\n",
       "      <td>A</td>\n",
       "      <td>507</td>\n",
       "    </tr>\n",
       "    <tr>\n",
       "      <th>3</th>\n",
       "      <td>2019-08-04</td>\n",
       "      <td>A</td>\n",
       "      <td>717</td>\n",
       "    </tr>\n",
       "    <tr>\n",
       "      <th>4</th>\n",
       "      <td>2019-08-05</td>\n",
       "      <td>A</td>\n",
       "      <td>756</td>\n",
       "    </tr>\n",
       "  </tbody>\n",
       "</table>\n",
       "</div>"
      ],
      "text/plain": [
       "         date group  visitors\n",
       "0  2019-08-01     A       719\n",
       "1  2019-08-02     A       619\n",
       "2  2019-08-03     A       507\n",
       "3  2019-08-04     A       717\n",
       "4  2019-08-05     A       756"
      ]
     },
     "execution_count": 22,
     "metadata": {},
     "output_type": "execute_result"
    }
   ],
   "source": [
    "visitors.head() # разберем visitors"
   ]
  },
  {
   "cell_type": "code",
   "execution_count": 23,
   "metadata": {},
   "outputs": [
    {
     "name": "stdout",
     "output_type": "stream",
     "text": [
      "<class 'pandas.core.frame.DataFrame'>\n",
      "RangeIndex: 62 entries, 0 to 61\n",
      "Data columns (total 3 columns):\n",
      " #   Column    Non-Null Count  Dtype \n",
      "---  ------    --------------  ----- \n",
      " 0   date      62 non-null     object\n",
      " 1   group     62 non-null     object\n",
      " 2   visitors  62 non-null     int64 \n",
      "dtypes: int64(1), object(2)\n",
      "memory usage: 1.6+ KB\n"
     ]
    }
   ],
   "source": [
    "visitors.info()"
   ]
  },
  {
   "cell_type": "code",
   "execution_count": 24,
   "metadata": {},
   "outputs": [],
   "source": [
    "visitors['date'] = pd.to_datetime(visitors['date'], format='%Y-%m-%d') # приведем к формату даты"
   ]
  },
  {
   "cell_type": "code",
   "execution_count": 25,
   "metadata": {},
   "outputs": [
    {
     "name": "stderr",
     "output_type": "stream",
     "text": [
      "/tmp/ipykernel_106/1779580153.py:1: FutureWarning: Treating datetime data as categorical rather than numeric in `.describe` is deprecated and will be removed in a future version of pandas. Specify `datetime_is_numeric=True` to silence this warning and adopt the future behavior now.\n",
      "  visitors['date'].describe() # 62 строки, уникальных 31 т.к. даты повторяются для групп А и B\n"
     ]
    },
    {
     "data": {
      "text/plain": [
       "count                      62\n",
       "unique                     31\n",
       "top       2019-08-27 00:00:00\n",
       "freq                        2\n",
       "first     2019-08-01 00:00:00\n",
       "last      2019-08-31 00:00:00\n",
       "Name: date, dtype: object"
      ]
     },
     "execution_count": 25,
     "metadata": {},
     "output_type": "execute_result"
    }
   ],
   "source": [
    "visitors['date'].describe() # 62 строки, уникальных 31 т.к. даты повторяются для групп А и B"
   ]
  },
  {
   "cell_type": "code",
   "execution_count": 26,
   "metadata": {},
   "outputs": [
    {
     "data": {
      "text/plain": [
       "A    31\n",
       "B    31\n",
       "Name: group, dtype: int64"
      ]
     },
     "execution_count": 26,
     "metadata": {},
     "output_type": "execute_result"
    }
   ],
   "source": [
    "visitors['group'].value_counts() # равное количество записей в группах "
   ]
  },
  {
   "cell_type": "code",
   "execution_count": 27,
   "metadata": {},
   "outputs": [
    {
     "data": {
      "text/plain": [
       "count     62.000000\n",
       "mean     607.290323\n",
       "std      114.400560\n",
       "min      361.000000\n",
       "25%      534.000000\n",
       "50%      624.500000\n",
       "75%      710.500000\n",
       "max      770.000000\n",
       "Name: visitors, dtype: float64"
      ]
     },
     "execution_count": 27,
     "metadata": {},
     "output_type": "execute_result"
    }
   ],
   "source": [
    "visitors['visitors'].describe() "
   ]
  },
  {
   "cell_type": "markdown",
   "metadata": {},
   "source": [
    "Самое большое число посетителей 770, самое маленькое 361. Медианное и среднее значения близки: 607 и 624, сильных выбросов не ожидаем"
   ]
  },
  {
   "cell_type": "code",
   "execution_count": 28,
   "metadata": {},
   "outputs": [
    {
     "data": {
      "text/html": [
       "<div>\n",
       "<style scoped>\n",
       "    .dataframe tbody tr th:only-of-type {\n",
       "        vertical-align: middle;\n",
       "    }\n",
       "\n",
       "    .dataframe tbody tr th {\n",
       "        vertical-align: top;\n",
       "    }\n",
       "\n",
       "    .dataframe thead th {\n",
       "        text-align: right;\n",
       "    }\n",
       "</style>\n",
       "<table border=\"1\" class=\"dataframe\">\n",
       "  <thead>\n",
       "    <tr style=\"text-align: right;\">\n",
       "      <th></th>\n",
       "      <th>date</th>\n",
       "      <th>group</th>\n",
       "      <th>visitors</th>\n",
       "    </tr>\n",
       "  </thead>\n",
       "  <tbody>\n",
       "  </tbody>\n",
       "</table>\n",
       "</div>"
      ],
      "text/plain": [
       "Empty DataFrame\n",
       "Columns: [date, group, visitors]\n",
       "Index: []"
      ]
     },
     "execution_count": 28,
     "metadata": {},
     "output_type": "execute_result"
    }
   ],
   "source": [
    "visitors[visitors.duplicated()]"
   ]
  },
  {
   "cell_type": "code",
   "execution_count": 29,
   "metadata": {},
   "outputs": [
    {
     "data": {
      "text/html": [
       "<div>\n",
       "<style scoped>\n",
       "    .dataframe tbody tr th:only-of-type {\n",
       "        vertical-align: middle;\n",
       "    }\n",
       "\n",
       "    .dataframe tbody tr th {\n",
       "        vertical-align: top;\n",
       "    }\n",
       "\n",
       "    .dataframe thead th {\n",
       "        text-align: right;\n",
       "    }\n",
       "</style>\n",
       "<table border=\"1\" class=\"dataframe\">\n",
       "  <thead>\n",
       "    <tr style=\"text-align: right;\">\n",
       "      <th></th>\n",
       "      <th>0</th>\n",
       "    </tr>\n",
       "  </thead>\n",
       "  <tbody>\n",
       "    <tr>\n",
       "      <th>date</th>\n",
       "      <td>0.0</td>\n",
       "    </tr>\n",
       "    <tr>\n",
       "      <th>group</th>\n",
       "      <td>0.0</td>\n",
       "    </tr>\n",
       "    <tr>\n",
       "      <th>visitors</th>\n",
       "      <td>0.0</td>\n",
       "    </tr>\n",
       "  </tbody>\n",
       "</table>\n",
       "</div>"
      ],
      "text/plain": [
       "            0\n",
       "date      0.0\n",
       "group     0.0\n",
       "visitors  0.0"
      ]
     },
     "execution_count": 29,
     "metadata": {},
     "output_type": "execute_result"
    }
   ],
   "source": [
    "pd.DataFrame(round((visitors.isna().mean()*100)))# дубликатов и нулевых значение нет"
   ]
  },
  {
   "cell_type": "code",
   "execution_count": 30,
   "metadata": {},
   "outputs": [],
   "source": [
    "# отбираем группы из данных с заказами \n",
    "group_a = orders.query('group == \"A\"') \n",
    "group_b = orders.query('group == \"B\"') \n",
    "  \n",
    "# получаем пользователей, попавших в обе группы \n",
    "two_groups = list(np.intersect1d(group_a['user_id'], group_b['user_id']))"
   ]
  },
  {
   "cell_type": "code",
   "execution_count": 31,
   "metadata": {},
   "outputs": [
    {
     "data": {
      "text/plain": [
       "58"
      ]
     },
     "execution_count": 31,
     "metadata": {},
     "output_type": "execute_result"
    }
   ],
   "source": [
    "len(two_groups)"
   ]
  },
  {
   "cell_type": "code",
   "execution_count": 92,
   "metadata": {},
   "outputs": [],
   "source": [
    "two_groups_clear = orders.query('user_id not in @two_groups')"
   ]
  },
  {
   "cell_type": "markdown",
   "metadata": {},
   "source": [
    "# Постройте график кумулятивной выручки по группам. Сделайте выводы и предположения."
   ]
  },
  {
   "cell_type": "code",
   "execution_count": 33,
   "metadata": {},
   "outputs": [],
   "source": [
    "groups = orders[['date','group']].drop_duplicates() #датафрейм с уникальными значениями"
   ]
  },
  {
   "cell_type": "code",
   "execution_count": 34,
   "metadata": {},
   "outputs": [
    {
     "data": {
      "text/html": [
       "<div>\n",
       "<style scoped>\n",
       "    .dataframe tbody tr th:only-of-type {\n",
       "        vertical-align: middle;\n",
       "    }\n",
       "\n",
       "    .dataframe tbody tr th {\n",
       "        vertical-align: top;\n",
       "    }\n",
       "\n",
       "    .dataframe thead th {\n",
       "        text-align: right;\n",
       "    }\n",
       "</style>\n",
       "<table border=\"1\" class=\"dataframe\">\n",
       "  <thead>\n",
       "    <tr style=\"text-align: right;\">\n",
       "      <th></th>\n",
       "      <th>date</th>\n",
       "      <th>group</th>\n",
       "    </tr>\n",
       "  </thead>\n",
       "  <tbody>\n",
       "    <tr>\n",
       "      <th>0</th>\n",
       "      <td>2019-08-15</td>\n",
       "      <td>B</td>\n",
       "    </tr>\n",
       "    <tr>\n",
       "      <th>2</th>\n",
       "      <td>2019-08-15</td>\n",
       "      <td>A</td>\n",
       "    </tr>\n",
       "    <tr>\n",
       "      <th>45</th>\n",
       "      <td>2019-08-16</td>\n",
       "      <td>A</td>\n",
       "    </tr>\n",
       "    <tr>\n",
       "      <th>47</th>\n",
       "      <td>2019-08-16</td>\n",
       "      <td>B</td>\n",
       "    </tr>\n",
       "    <tr>\n",
       "      <th>55</th>\n",
       "      <td>2019-08-01</td>\n",
       "      <td>A</td>\n",
       "    </tr>\n",
       "  </tbody>\n",
       "</table>\n",
       "</div>"
      ],
      "text/plain": [
       "         date group\n",
       "0  2019-08-15     B\n",
       "2  2019-08-15     A\n",
       "45 2019-08-16     A\n",
       "47 2019-08-16     B\n",
       "55 2019-08-01     A"
      ]
     },
     "execution_count": 34,
     "metadata": {},
     "output_type": "execute_result"
    }
   ],
   "source": [
    "groups.head()"
   ]
  },
  {
   "cell_type": "code",
   "execution_count": 35,
   "metadata": {},
   "outputs": [
    {
     "data": {
      "text/html": [
       "<div>\n",
       "<style scoped>\n",
       "    .dataframe tbody tr th:only-of-type {\n",
       "        vertical-align: middle;\n",
       "    }\n",
       "\n",
       "    .dataframe tbody tr th {\n",
       "        vertical-align: top;\n",
       "    }\n",
       "\n",
       "    .dataframe thead th {\n",
       "        text-align: right;\n",
       "    }\n",
       "</style>\n",
       "<table border=\"1\" class=\"dataframe\">\n",
       "  <thead>\n",
       "    <tr style=\"text-align: right;\">\n",
       "      <th></th>\n",
       "      <th>order_id</th>\n",
       "      <th>user_id</th>\n",
       "      <th>date</th>\n",
       "      <th>revenue</th>\n",
       "      <th>group</th>\n",
       "    </tr>\n",
       "  </thead>\n",
       "  <tbody>\n",
       "    <tr>\n",
       "      <th>0</th>\n",
       "      <td>3667963787</td>\n",
       "      <td>3312258926</td>\n",
       "      <td>2019-08-15</td>\n",
       "      <td>1650</td>\n",
       "      <td>B</td>\n",
       "    </tr>\n",
       "    <tr>\n",
       "      <th>1</th>\n",
       "      <td>2804400009</td>\n",
       "      <td>3642806036</td>\n",
       "      <td>2019-08-15</td>\n",
       "      <td>730</td>\n",
       "      <td>B</td>\n",
       "    </tr>\n",
       "    <tr>\n",
       "      <th>2</th>\n",
       "      <td>2961555356</td>\n",
       "      <td>4069496402</td>\n",
       "      <td>2019-08-15</td>\n",
       "      <td>400</td>\n",
       "      <td>A</td>\n",
       "    </tr>\n",
       "    <tr>\n",
       "      <th>3</th>\n",
       "      <td>3797467345</td>\n",
       "      <td>1196621759</td>\n",
       "      <td>2019-08-15</td>\n",
       "      <td>9759</td>\n",
       "      <td>B</td>\n",
       "    </tr>\n",
       "    <tr>\n",
       "      <th>4</th>\n",
       "      <td>2282983706</td>\n",
       "      <td>2322279887</td>\n",
       "      <td>2019-08-15</td>\n",
       "      <td>2308</td>\n",
       "      <td>B</td>\n",
       "    </tr>\n",
       "  </tbody>\n",
       "</table>\n",
       "</div>"
      ],
      "text/plain": [
       "     order_id     user_id       date  revenue group\n",
       "0  3667963787  3312258926 2019-08-15     1650     B\n",
       "1  2804400009  3642806036 2019-08-15      730     B\n",
       "2  2961555356  4069496402 2019-08-15      400     A\n",
       "3  3797467345  1196621759 2019-08-15     9759     B\n",
       "4  2282983706  2322279887 2019-08-15     2308     B"
      ]
     },
     "execution_count": 35,
     "metadata": {},
     "output_type": "execute_result"
    }
   ],
   "source": [
    "orders.head()"
   ]
  },
  {
   "cell_type": "code",
   "execution_count": 36,
   "metadata": {},
   "outputs": [],
   "source": [
    "orders_group = groups.apply(  #создадим функцию агрегированных куммилятивных по дням\n",
    "    lambda x: orders[\n",
    "        np.logical_and(\n",
    "            orders['date'] <= x['date'], orders['group'] == x['group']\n",
    "        )\n",
    "    ].agg(\n",
    "        {\n",
    "            'date': 'max',\n",
    "            'group': 'max',\n",
    "            'order_id': pd.Series.nunique,\n",
    "            'user_id': pd.Series.nunique,\n",
    "            'revenue': 'sum',\n",
    "        }\n",
    "    ),\n",
    "    axis=1,\n",
    ").sort_values(by=['date', 'group'])"
   ]
  },
  {
   "cell_type": "code",
   "execution_count": 37,
   "metadata": {},
   "outputs": [
    {
     "data": {
      "text/html": [
       "<div>\n",
       "<style scoped>\n",
       "    .dataframe tbody tr th:only-of-type {\n",
       "        vertical-align: middle;\n",
       "    }\n",
       "\n",
       "    .dataframe tbody tr th {\n",
       "        vertical-align: top;\n",
       "    }\n",
       "\n",
       "    .dataframe thead th {\n",
       "        text-align: right;\n",
       "    }\n",
       "</style>\n",
       "<table border=\"1\" class=\"dataframe\">\n",
       "  <thead>\n",
       "    <tr style=\"text-align: right;\">\n",
       "      <th></th>\n",
       "      <th>date</th>\n",
       "      <th>group</th>\n",
       "      <th>order_id</th>\n",
       "      <th>user_id</th>\n",
       "      <th>revenue</th>\n",
       "    </tr>\n",
       "  </thead>\n",
       "  <tbody>\n",
       "    <tr>\n",
       "      <th>55</th>\n",
       "      <td>2019-08-01</td>\n",
       "      <td>A</td>\n",
       "      <td>24</td>\n",
       "      <td>20</td>\n",
       "      <td>148579</td>\n",
       "    </tr>\n",
       "    <tr>\n",
       "      <th>66</th>\n",
       "      <td>2019-08-01</td>\n",
       "      <td>B</td>\n",
       "      <td>21</td>\n",
       "      <td>20</td>\n",
       "      <td>101217</td>\n",
       "    </tr>\n",
       "    <tr>\n",
       "      <th>175</th>\n",
       "      <td>2019-08-02</td>\n",
       "      <td>A</td>\n",
       "      <td>44</td>\n",
       "      <td>38</td>\n",
       "      <td>242401</td>\n",
       "    </tr>\n",
       "    <tr>\n",
       "      <th>173</th>\n",
       "      <td>2019-08-02</td>\n",
       "      <td>B</td>\n",
       "      <td>45</td>\n",
       "      <td>43</td>\n",
       "      <td>266748</td>\n",
       "    </tr>\n",
       "    <tr>\n",
       "      <th>291</th>\n",
       "      <td>2019-08-03</td>\n",
       "      <td>A</td>\n",
       "      <td>68</td>\n",
       "      <td>62</td>\n",
       "      <td>354874</td>\n",
       "    </tr>\n",
       "  </tbody>\n",
       "</table>\n",
       "</div>"
      ],
      "text/plain": [
       "          date group  order_id  user_id  revenue\n",
       "55  2019-08-01     A        24       20   148579\n",
       "66  2019-08-01     B        21       20   101217\n",
       "175 2019-08-02     A        44       38   242401\n",
       "173 2019-08-02     B        45       43   266748\n",
       "291 2019-08-03     A        68       62   354874"
      ]
     },
     "execution_count": 37,
     "metadata": {},
     "output_type": "execute_result"
    }
   ],
   "source": [
    "orders_group.head()"
   ]
  },
  {
   "cell_type": "code",
   "execution_count": 38,
   "metadata": {},
   "outputs": [
    {
     "data": {
      "text/html": [
       "<div>\n",
       "<style scoped>\n",
       "    .dataframe tbody tr th:only-of-type {\n",
       "        vertical-align: middle;\n",
       "    }\n",
       "\n",
       "    .dataframe tbody tr th {\n",
       "        vertical-align: top;\n",
       "    }\n",
       "\n",
       "    .dataframe thead th {\n",
       "        text-align: right;\n",
       "    }\n",
       "</style>\n",
       "<table border=\"1\" class=\"dataframe\">\n",
       "  <thead>\n",
       "    <tr style=\"text-align: right;\">\n",
       "      <th></th>\n",
       "      <th>date</th>\n",
       "      <th>group</th>\n",
       "      <th>visitors</th>\n",
       "    </tr>\n",
       "  </thead>\n",
       "  <tbody>\n",
       "    <tr>\n",
       "      <th>0</th>\n",
       "      <td>2019-08-01</td>\n",
       "      <td>A</td>\n",
       "      <td>719</td>\n",
       "    </tr>\n",
       "    <tr>\n",
       "      <th>1</th>\n",
       "      <td>2019-08-02</td>\n",
       "      <td>A</td>\n",
       "      <td>619</td>\n",
       "    </tr>\n",
       "    <tr>\n",
       "      <th>2</th>\n",
       "      <td>2019-08-03</td>\n",
       "      <td>A</td>\n",
       "      <td>507</td>\n",
       "    </tr>\n",
       "    <tr>\n",
       "      <th>3</th>\n",
       "      <td>2019-08-04</td>\n",
       "      <td>A</td>\n",
       "      <td>717</td>\n",
       "    </tr>\n",
       "    <tr>\n",
       "      <th>4</th>\n",
       "      <td>2019-08-05</td>\n",
       "      <td>A</td>\n",
       "      <td>756</td>\n",
       "    </tr>\n",
       "  </tbody>\n",
       "</table>\n",
       "</div>"
      ],
      "text/plain": [
       "        date group  visitors\n",
       "0 2019-08-01     A       719\n",
       "1 2019-08-02     A       619\n",
       "2 2019-08-03     A       507\n",
       "3 2019-08-04     A       717\n",
       "4 2019-08-05     A       756"
      ]
     },
     "execution_count": 38,
     "metadata": {},
     "output_type": "execute_result"
    }
   ],
   "source": [
    "visitors.head()"
   ]
  },
  {
   "cell_type": "code",
   "execution_count": 39,
   "metadata": {},
   "outputs": [],
   "source": [
    "visitors_group = groups.apply( # создадим функцию по посетителям\n",
    "    lambda x: visitors[\n",
    "        np.logical_and(\n",
    "            visitors['date'] <= x['date'], visitors['group'] == x['group']\n",
    "        )\n",
    "    ].agg({'date': 'max', 'group': 'max', 'visitors': 'sum'}),\n",
    "    axis=1,\n",
    ").sort_values(by=['date', 'group'])"
   ]
  },
  {
   "cell_type": "code",
   "execution_count": 40,
   "metadata": {},
   "outputs": [
    {
     "data": {
      "text/html": [
       "<div>\n",
       "<style scoped>\n",
       "    .dataframe tbody tr th:only-of-type {\n",
       "        vertical-align: middle;\n",
       "    }\n",
       "\n",
       "    .dataframe tbody tr th {\n",
       "        vertical-align: top;\n",
       "    }\n",
       "\n",
       "    .dataframe thead th {\n",
       "        text-align: right;\n",
       "    }\n",
       "</style>\n",
       "<table border=\"1\" class=\"dataframe\">\n",
       "  <thead>\n",
       "    <tr style=\"text-align: right;\">\n",
       "      <th></th>\n",
       "      <th>date</th>\n",
       "      <th>group</th>\n",
       "      <th>visitors</th>\n",
       "    </tr>\n",
       "  </thead>\n",
       "  <tbody>\n",
       "    <tr>\n",
       "      <th>55</th>\n",
       "      <td>2019-08-01</td>\n",
       "      <td>A</td>\n",
       "      <td>719</td>\n",
       "    </tr>\n",
       "    <tr>\n",
       "      <th>66</th>\n",
       "      <td>2019-08-01</td>\n",
       "      <td>B</td>\n",
       "      <td>713</td>\n",
       "    </tr>\n",
       "    <tr>\n",
       "      <th>175</th>\n",
       "      <td>2019-08-02</td>\n",
       "      <td>A</td>\n",
       "      <td>1338</td>\n",
       "    </tr>\n",
       "    <tr>\n",
       "      <th>173</th>\n",
       "      <td>2019-08-02</td>\n",
       "      <td>B</td>\n",
       "      <td>1294</td>\n",
       "    </tr>\n",
       "    <tr>\n",
       "      <th>291</th>\n",
       "      <td>2019-08-03</td>\n",
       "      <td>A</td>\n",
       "      <td>1845</td>\n",
       "    </tr>\n",
       "  </tbody>\n",
       "</table>\n",
       "</div>"
      ],
      "text/plain": [
       "          date group  visitors\n",
       "55  2019-08-01     A       719\n",
       "66  2019-08-01     B       713\n",
       "175 2019-08-02     A      1338\n",
       "173 2019-08-02     B      1294\n",
       "291 2019-08-03     A      1845"
      ]
     },
     "execution_count": 40,
     "metadata": {},
     "output_type": "execute_result"
    }
   ],
   "source": [
    "visitors_group.head()"
   ]
  },
  {
   "cell_type": "code",
   "execution_count": 41,
   "metadata": {},
   "outputs": [],
   "source": [
    "cumulative_total = orders_group.merge( # объеденим данные в одной таблице \n",
    "    visitors_group, left_on=['date', 'group'], right_on=['date', 'group']\n",
    ")\n",
    "cumulative_total.columns = [\n",
    "    'date',\n",
    "    'group',\n",
    "    'orders',\n",
    "    'buyers',\n",
    "    'revenue',\n",
    "    'visitors',\n",
    "]"
   ]
  },
  {
   "cell_type": "code",
   "execution_count": 42,
   "metadata": {},
   "outputs": [
    {
     "data": {
      "text/html": [
       "<div>\n",
       "<style scoped>\n",
       "    .dataframe tbody tr th:only-of-type {\n",
       "        vertical-align: middle;\n",
       "    }\n",
       "\n",
       "    .dataframe tbody tr th {\n",
       "        vertical-align: top;\n",
       "    }\n",
       "\n",
       "    .dataframe thead th {\n",
       "        text-align: right;\n",
       "    }\n",
       "</style>\n",
       "<table border=\"1\" class=\"dataframe\">\n",
       "  <thead>\n",
       "    <tr style=\"text-align: right;\">\n",
       "      <th></th>\n",
       "      <th>date</th>\n",
       "      <th>group</th>\n",
       "      <th>orders</th>\n",
       "      <th>buyers</th>\n",
       "      <th>revenue</th>\n",
       "      <th>visitors</th>\n",
       "    </tr>\n",
       "  </thead>\n",
       "  <tbody>\n",
       "    <tr>\n",
       "      <th>0</th>\n",
       "      <td>2019-08-01</td>\n",
       "      <td>A</td>\n",
       "      <td>24</td>\n",
       "      <td>20</td>\n",
       "      <td>148579</td>\n",
       "      <td>719</td>\n",
       "    </tr>\n",
       "    <tr>\n",
       "      <th>1</th>\n",
       "      <td>2019-08-01</td>\n",
       "      <td>B</td>\n",
       "      <td>21</td>\n",
       "      <td>20</td>\n",
       "      <td>101217</td>\n",
       "      <td>713</td>\n",
       "    </tr>\n",
       "    <tr>\n",
       "      <th>2</th>\n",
       "      <td>2019-08-02</td>\n",
       "      <td>A</td>\n",
       "      <td>44</td>\n",
       "      <td>38</td>\n",
       "      <td>242401</td>\n",
       "      <td>1338</td>\n",
       "    </tr>\n",
       "    <tr>\n",
       "      <th>3</th>\n",
       "      <td>2019-08-02</td>\n",
       "      <td>B</td>\n",
       "      <td>45</td>\n",
       "      <td>43</td>\n",
       "      <td>266748</td>\n",
       "      <td>1294</td>\n",
       "    </tr>\n",
       "    <tr>\n",
       "      <th>4</th>\n",
       "      <td>2019-08-03</td>\n",
       "      <td>A</td>\n",
       "      <td>68</td>\n",
       "      <td>62</td>\n",
       "      <td>354874</td>\n",
       "      <td>1845</td>\n",
       "    </tr>\n",
       "  </tbody>\n",
       "</table>\n",
       "</div>"
      ],
      "text/plain": [
       "        date group  orders  buyers  revenue  visitors\n",
       "0 2019-08-01     A      24      20   148579       719\n",
       "1 2019-08-01     B      21      20   101217       713\n",
       "2 2019-08-02     A      44      38   242401      1338\n",
       "3 2019-08-02     B      45      43   266748      1294\n",
       "4 2019-08-03     A      68      62   354874      1845"
      ]
     },
     "execution_count": 42,
     "metadata": {},
     "output_type": "execute_result"
    }
   ],
   "source": [
    "cumulative_total.head()"
   ]
  },
  {
   "cell_type": "code",
   "execution_count": 43,
   "metadata": {},
   "outputs": [
    {
     "data": {
      "text/html": [
       "<div>\n",
       "<style scoped>\n",
       "    .dataframe tbody tr th:only-of-type {\n",
       "        vertical-align: middle;\n",
       "    }\n",
       "\n",
       "    .dataframe tbody tr th {\n",
       "        vertical-align: top;\n",
       "    }\n",
       "\n",
       "    .dataframe thead th {\n",
       "        text-align: right;\n",
       "    }\n",
       "</style>\n",
       "<table border=\"1\" class=\"dataframe\">\n",
       "  <thead>\n",
       "    <tr style=\"text-align: right;\">\n",
       "      <th></th>\n",
       "      <th>date</th>\n",
       "      <th>revenue</th>\n",
       "      <th>orders</th>\n",
       "    </tr>\n",
       "  </thead>\n",
       "  <tbody>\n",
       "    <tr>\n",
       "      <th>0</th>\n",
       "      <td>2019-08-01</td>\n",
       "      <td>148579</td>\n",
       "      <td>24</td>\n",
       "    </tr>\n",
       "    <tr>\n",
       "      <th>2</th>\n",
       "      <td>2019-08-02</td>\n",
       "      <td>242401</td>\n",
       "      <td>44</td>\n",
       "    </tr>\n",
       "    <tr>\n",
       "      <th>4</th>\n",
       "      <td>2019-08-03</td>\n",
       "      <td>354874</td>\n",
       "      <td>68</td>\n",
       "    </tr>\n",
       "    <tr>\n",
       "      <th>6</th>\n",
       "      <td>2019-08-04</td>\n",
       "      <td>425699</td>\n",
       "      <td>84</td>\n",
       "    </tr>\n",
       "    <tr>\n",
       "      <th>8</th>\n",
       "      <td>2019-08-05</td>\n",
       "      <td>549917</td>\n",
       "      <td>109</td>\n",
       "    </tr>\n",
       "  </tbody>\n",
       "</table>\n",
       "</div>"
      ],
      "text/plain": [
       "        date  revenue  orders\n",
       "0 2019-08-01   148579      24\n",
       "2 2019-08-02   242401      44\n",
       "4 2019-08-03   354874      68\n",
       "6 2019-08-04   425699      84\n",
       "8 2019-08-05   549917     109"
      ]
     },
     "execution_count": 43,
     "metadata": {},
     "output_type": "execute_result"
    }
   ],
   "source": [
    "cumulative_a  = cumulative_total[cumulative_total['group']=='A'][['date','revenue', 'orders']] # датафрейм для группы А\n",
    "cumulative_a.head()"
   ]
  },
  {
   "cell_type": "code",
   "execution_count": 44,
   "metadata": {},
   "outputs": [
    {
     "data": {
      "text/html": [
       "<div>\n",
       "<style scoped>\n",
       "    .dataframe tbody tr th:only-of-type {\n",
       "        vertical-align: middle;\n",
       "    }\n",
       "\n",
       "    .dataframe tbody tr th {\n",
       "        vertical-align: top;\n",
       "    }\n",
       "\n",
       "    .dataframe thead th {\n",
       "        text-align: right;\n",
       "    }\n",
       "</style>\n",
       "<table border=\"1\" class=\"dataframe\">\n",
       "  <thead>\n",
       "    <tr style=\"text-align: right;\">\n",
       "      <th></th>\n",
       "      <th>date</th>\n",
       "      <th>revenue</th>\n",
       "      <th>orders</th>\n",
       "    </tr>\n",
       "  </thead>\n",
       "  <tbody>\n",
       "    <tr>\n",
       "      <th>1</th>\n",
       "      <td>2019-08-01</td>\n",
       "      <td>101217</td>\n",
       "      <td>21</td>\n",
       "    </tr>\n",
       "    <tr>\n",
       "      <th>3</th>\n",
       "      <td>2019-08-02</td>\n",
       "      <td>266748</td>\n",
       "      <td>45</td>\n",
       "    </tr>\n",
       "    <tr>\n",
       "      <th>5</th>\n",
       "      <td>2019-08-03</td>\n",
       "      <td>380996</td>\n",
       "      <td>61</td>\n",
       "    </tr>\n",
       "    <tr>\n",
       "      <th>7</th>\n",
       "      <td>2019-08-04</td>\n",
       "      <td>489567</td>\n",
       "      <td>78</td>\n",
       "    </tr>\n",
       "    <tr>\n",
       "      <th>9</th>\n",
       "      <td>2019-08-05</td>\n",
       "      <td>581995</td>\n",
       "      <td>101</td>\n",
       "    </tr>\n",
       "  </tbody>\n",
       "</table>\n",
       "</div>"
      ],
      "text/plain": [
       "        date  revenue  orders\n",
       "1 2019-08-01   101217      21\n",
       "3 2019-08-02   266748      45\n",
       "5 2019-08-03   380996      61\n",
       "7 2019-08-04   489567      78\n",
       "9 2019-08-05   581995     101"
      ]
     },
     "execution_count": 44,
     "metadata": {},
     "output_type": "execute_result"
    }
   ],
   "source": [
    "cumulative_b  = cumulative_total[cumulative_total['group']=='B'][['date','revenue', 'orders']] # датафрейм для группы B\n",
    "cumulative_b.head()"
   ]
  },
  {
   "cell_type": "code",
   "execution_count": 45,
   "metadata": {},
   "outputs": [
    {
     "data": {
      "image/png": "[encoded data removed]",
      "text/plain": [
       "<Figure size 432x288 with 1 Axes>"
      ]
     },
     "metadata": {
      "needs_background": "light"
     },
     "output_type": "display_data"
    }
   ],
   "source": [
    "# строим график\n",
    "plt.plot(cumulative_a['date'], cumulative_a['revenue'], label='group A')\n",
    "\n",
    "plt.plot(cumulative_b['date'], cumulative_b['revenue'], label='group B')\n",
    "\n",
    "plt.xticks(rotation=90)\n",
    "plt.legend() \n",
    "plt.title(' выручка по группам')\n",
    "plt.xlabel('день')\n",
    "plt.ylabel('Выручка, руб')\n",
    "\n",
    "plt.show()"
   ]
  },
  {
   "cell_type": "markdown",
   "metadata": {},
   "source": [
    "По графикам видим , что у обоих групп выручка растет по ходе теста, но у группы B между 17 и 21 числом заметен сильный скачок, возможно это связанно с появлении дорогих заказов или об общем увеличении заказов в этот период"
   ]
  },
  {
   "cell_type": "markdown",
   "metadata": {},
   "source": [
    "# Постройте график кумулятивного среднего чека по группам. Сделайте выводы и предположения."
   ]
  },
  {
   "cell_type": "code",
   "execution_count": 46,
   "metadata": {},
   "outputs": [
    {
     "data": {
      "image/png": "[encoded data removed]",
      "text/plain": [
       "<Figure size 432x288 with 1 Axes>"
      ]
     },
     "metadata": {
      "needs_background": "light"
     },
     "output_type": "display_data"
    }
   ],
   "source": [
    "plt.plot(cumulative_a['date'], cumulative_a['revenue']/cumulative_a['orders'], label='group A')\n",
    "plt.plot(cumulative_b['date'], cumulative_b['revenue']/cumulative_b['orders'], label='group B')\n",
    "plt.xticks(rotation=90)\n",
    "plt.title('средний чек по группам')\n",
    "plt.xlabel('Дата, день')\n",
    "plt.ylabel('Средний чек, руб')\n",
    "plt.legend() \n",
    "\n",
    "plt.show()"
   ]
  },
  {
   "cell_type": "markdown",
   "metadata": {},
   "source": [
    "Средний чек у обеих групп достаточно не стабилен:\n",
    "- У группы А мы видим в начале небольшой спад, после чего идет активный рост вплоть до 13 августа, а дальше небольшие изменения до конца периода\n",
    "- В группе B мы видим спокойный рост с небольшими просадками вплоть до приблизительно 19 августа, после чего резкий рост до 10000 в период 1-2 дня, а после наблюдаем медленный спад до конца периода\n",
    "\n",
    "Для выводов требуется дополнительный анализ"
   ]
  },
  {
   "cell_type": "markdown",
   "metadata": {},
   "source": [
    "# Постройте график относительного изменения кумулятивного среднего чека группы B к группе A. Сделайте выводы и предположения."
   ]
  },
  {
   "cell_type": "code",
   "execution_count": 47,
   "metadata": {},
   "outputs": [],
   "source": [
    "# объединим таблицы\n",
    "revenue_ab = cumulative_a.merge(cumulative_b, left_on='date', right_on='date', how='left', suffixes=['A', 'B'])"
   ]
  },
  {
   "cell_type": "code",
   "execution_count": 48,
   "metadata": {},
   "outputs": [
    {
     "data": {
      "text/html": [
       "<div>\n",
       "<style scoped>\n",
       "    .dataframe tbody tr th:only-of-type {\n",
       "        vertical-align: middle;\n",
       "    }\n",
       "\n",
       "    .dataframe tbody tr th {\n",
       "        vertical-align: top;\n",
       "    }\n",
       "\n",
       "    .dataframe thead th {\n",
       "        text-align: right;\n",
       "    }\n",
       "</style>\n",
       "<table border=\"1\" class=\"dataframe\">\n",
       "  <thead>\n",
       "    <tr style=\"text-align: right;\">\n",
       "      <th></th>\n",
       "      <th>date</th>\n",
       "      <th>revenueA</th>\n",
       "      <th>ordersA</th>\n",
       "      <th>revenueB</th>\n",
       "      <th>ordersB</th>\n",
       "    </tr>\n",
       "  </thead>\n",
       "  <tbody>\n",
       "    <tr>\n",
       "      <th>0</th>\n",
       "      <td>2019-08-01</td>\n",
       "      <td>148579</td>\n",
       "      <td>24</td>\n",
       "      <td>101217</td>\n",
       "      <td>21</td>\n",
       "    </tr>\n",
       "    <tr>\n",
       "      <th>1</th>\n",
       "      <td>2019-08-02</td>\n",
       "      <td>242401</td>\n",
       "      <td>44</td>\n",
       "      <td>266748</td>\n",
       "      <td>45</td>\n",
       "    </tr>\n",
       "    <tr>\n",
       "      <th>2</th>\n",
       "      <td>2019-08-03</td>\n",
       "      <td>354874</td>\n",
       "      <td>68</td>\n",
       "      <td>380996</td>\n",
       "      <td>61</td>\n",
       "    </tr>\n",
       "    <tr>\n",
       "      <th>3</th>\n",
       "      <td>2019-08-04</td>\n",
       "      <td>425699</td>\n",
       "      <td>84</td>\n",
       "      <td>489567</td>\n",
       "      <td>78</td>\n",
       "    </tr>\n",
       "    <tr>\n",
       "      <th>4</th>\n",
       "      <td>2019-08-05</td>\n",
       "      <td>549917</td>\n",
       "      <td>109</td>\n",
       "      <td>581995</td>\n",
       "      <td>101</td>\n",
       "    </tr>\n",
       "  </tbody>\n",
       "</table>\n",
       "</div>"
      ],
      "text/plain": [
       "        date  revenueA  ordersA  revenueB  ordersB\n",
       "0 2019-08-01    148579       24    101217       21\n",
       "1 2019-08-02    242401       44    266748       45\n",
       "2 2019-08-03    354874       68    380996       61\n",
       "3 2019-08-04    425699       84    489567       78\n",
       "4 2019-08-05    549917      109    581995      101"
      ]
     },
     "execution_count": 48,
     "metadata": {},
     "output_type": "execute_result"
    }
   ],
   "source": [
    "revenue_ab.head()"
   ]
  },
  {
   "cell_type": "code",
   "execution_count": 49,
   "metadata": {},
   "outputs": [
    {
     "data": {
      "image/png": "[encoded data removed]",
      "text/plain": [
       "<Figure size 432x288 with 1 Axes>"
      ]
     },
     "metadata": {
      "needs_background": "light"
     },
     "output_type": "display_data"
    }
   ],
   "source": [
    "# cтроим график\n",
    "plt.plot(revenue_ab ['date'], (revenue_ab ['revenueB']/revenue_ab ['ordersB'])/(revenue_ab ['revenueA']/revenue_ab ['ordersA'])-1)\n",
    "plt.xticks(rotation=90)\n",
    "plt.title('отношение среднего чека группы А к группе B')\n",
    "plt.xlabel('Дата, день')\n",
    "plt.ylabel('Отношение средних чеков')\n",
    "\n",
    "plt.show()"
   ]
  },
  {
   "cell_type": "markdown",
   "metadata": {},
   "source": [
    "График несколько раз резко меняется то в рост то в спад, скорей всего в эти даты были крупные заказы."
   ]
  },
  {
   "cell_type": "markdown",
   "metadata": {},
   "source": [
    "# Постройте график кумулятивной конверсии по группам. Сделайте выводы и предположения."
   ]
  },
  {
   "cell_type": "code",
   "execution_count": 50,
   "metadata": {},
   "outputs": [
    {
     "data": {
      "text/html": [
       "<div>\n",
       "<style scoped>\n",
       "    .dataframe tbody tr th:only-of-type {\n",
       "        vertical-align: middle;\n",
       "    }\n",
       "\n",
       "    .dataframe tbody tr th {\n",
       "        vertical-align: top;\n",
       "    }\n",
       "\n",
       "    .dataframe thead th {\n",
       "        text-align: right;\n",
       "    }\n",
       "</style>\n",
       "<table border=\"1\" class=\"dataframe\">\n",
       "  <thead>\n",
       "    <tr style=\"text-align: right;\">\n",
       "      <th></th>\n",
       "      <th>date</th>\n",
       "      <th>group</th>\n",
       "      <th>orders</th>\n",
       "      <th>buyers</th>\n",
       "      <th>revenue</th>\n",
       "      <th>visitors</th>\n",
       "      <th>conversion</th>\n",
       "    </tr>\n",
       "  </thead>\n",
       "  <tbody>\n",
       "    <tr>\n",
       "      <th>0</th>\n",
       "      <td>2019-08-01</td>\n",
       "      <td>A</td>\n",
       "      <td>24</td>\n",
       "      <td>20</td>\n",
       "      <td>148579</td>\n",
       "      <td>719</td>\n",
       "      <td>0.033380</td>\n",
       "    </tr>\n",
       "    <tr>\n",
       "      <th>1</th>\n",
       "      <td>2019-08-01</td>\n",
       "      <td>B</td>\n",
       "      <td>21</td>\n",
       "      <td>20</td>\n",
       "      <td>101217</td>\n",
       "      <td>713</td>\n",
       "      <td>0.029453</td>\n",
       "    </tr>\n",
       "    <tr>\n",
       "      <th>2</th>\n",
       "      <td>2019-08-02</td>\n",
       "      <td>A</td>\n",
       "      <td>44</td>\n",
       "      <td>38</td>\n",
       "      <td>242401</td>\n",
       "      <td>1338</td>\n",
       "      <td>0.032885</td>\n",
       "    </tr>\n",
       "    <tr>\n",
       "      <th>3</th>\n",
       "      <td>2019-08-02</td>\n",
       "      <td>B</td>\n",
       "      <td>45</td>\n",
       "      <td>43</td>\n",
       "      <td>266748</td>\n",
       "      <td>1294</td>\n",
       "      <td>0.034776</td>\n",
       "    </tr>\n",
       "    <tr>\n",
       "      <th>4</th>\n",
       "      <td>2019-08-03</td>\n",
       "      <td>A</td>\n",
       "      <td>68</td>\n",
       "      <td>62</td>\n",
       "      <td>354874</td>\n",
       "      <td>1845</td>\n",
       "      <td>0.036856</td>\n",
       "    </tr>\n",
       "    <tr>\n",
       "      <th>5</th>\n",
       "      <td>2019-08-03</td>\n",
       "      <td>B</td>\n",
       "      <td>61</td>\n",
       "      <td>59</td>\n",
       "      <td>380996</td>\n",
       "      <td>1803</td>\n",
       "      <td>0.033833</td>\n",
       "    </tr>\n",
       "    <tr>\n",
       "      <th>6</th>\n",
       "      <td>2019-08-04</td>\n",
       "      <td>A</td>\n",
       "      <td>84</td>\n",
       "      <td>77</td>\n",
       "      <td>425699</td>\n",
       "      <td>2562</td>\n",
       "      <td>0.032787</td>\n",
       "    </tr>\n",
       "    <tr>\n",
       "      <th>7</th>\n",
       "      <td>2019-08-04</td>\n",
       "      <td>B</td>\n",
       "      <td>78</td>\n",
       "      <td>75</td>\n",
       "      <td>489567</td>\n",
       "      <td>2573</td>\n",
       "      <td>0.030315</td>\n",
       "    </tr>\n",
       "    <tr>\n",
       "      <th>8</th>\n",
       "      <td>2019-08-05</td>\n",
       "      <td>A</td>\n",
       "      <td>109</td>\n",
       "      <td>100</td>\n",
       "      <td>549917</td>\n",
       "      <td>3318</td>\n",
       "      <td>0.032851</td>\n",
       "    </tr>\n",
       "    <tr>\n",
       "      <th>9</th>\n",
       "      <td>2019-08-05</td>\n",
       "      <td>B</td>\n",
       "      <td>101</td>\n",
       "      <td>98</td>\n",
       "      <td>581995</td>\n",
       "      <td>3280</td>\n",
       "      <td>0.030793</td>\n",
       "    </tr>\n",
       "  </tbody>\n",
       "</table>\n",
       "</div>"
      ],
      "text/plain": [
       "        date group  orders  buyers  revenue  visitors  conversion\n",
       "0 2019-08-01     A      24      20   148579       719    0.033380\n",
       "1 2019-08-01     B      21      20   101217       713    0.029453\n",
       "2 2019-08-02     A      44      38   242401      1338    0.032885\n",
       "3 2019-08-02     B      45      43   266748      1294    0.034776\n",
       "4 2019-08-03     A      68      62   354874      1845    0.036856\n",
       "5 2019-08-03     B      61      59   380996      1803    0.033833\n",
       "6 2019-08-04     A      84      77   425699      2562    0.032787\n",
       "7 2019-08-04     B      78      75   489567      2573    0.030315\n",
       "8 2019-08-05     A     109     100   549917      3318    0.032851\n",
       "9 2019-08-05     B     101      98   581995      3280    0.030793"
      ]
     },
     "execution_count": 50,
     "metadata": {},
     "output_type": "execute_result"
    }
   ],
   "source": [
    "cumulative_total['conversion'] = cumulative_total['orders']/cumulative_total['visitors'] # добавим столбец конверсии\n",
    "cumulative_total.head(10)"
   ]
  },
  {
   "cell_type": "code",
   "execution_count": 51,
   "metadata": {},
   "outputs": [],
   "source": [
    "# обозначим группы \n",
    "conversion_a = cumulative_total[cumulative_total['group']=='A']\n",
    " \n",
    "\n",
    "conversion_b = cumulative_total[cumulative_total['group']=='B']"
   ]
  },
  {
   "cell_type": "code",
   "execution_count": 52,
   "metadata": {},
   "outputs": [
    {
     "data": {
      "image/png": "[encoded data removed]",
      "text/plain": [
       "<Figure size 432x288 with 1 Axes>"
      ]
     },
     "metadata": {
      "needs_background": "light"
     },
     "output_type": "display_data"
    }
   ],
   "source": [
    "# строим графики\n",
    "plt.plot(conversion_a['date'], conversion_a['conversion'], label='group A')\n",
    "plt.plot(conversion_b['date'], conversion_b['conversion'], label='group B')\n",
    "plt.legend()\n",
    "plt.xticks(rotation=90)\n",
    "plt.title(\"конверсия по группам\")\n",
    "plt.xlabel('Дата, день')\n",
    "plt.ylabel('Конверсия')\n",
    "\n",
    "plt.show()"
   ]
  },
  {
   "cell_type": "markdown",
   "metadata": {},
   "source": [
    "Судя по графику:\n",
    "- Изначально конверсия группы А была больше, но после роста длинной примерно в 1-2 дня (2-3 августа), пошел спад в плоть до 9 августа, а дальше конверсия держалась примерно на одном уровне (около 0.03)\n",
    "- В группе B наоборот конверсия изначально была ниже, потом в теже дни произошел подъем и спад, после чего конверсия начала рости вплоть до приблизительно 11-го числа, после пошел небольшой спад, но конверсия держалась примерно на одном уровне (0.034)"
   ]
  },
  {
   "cell_type": "markdown",
   "metadata": {},
   "source": [
    "# Постройте график относительного изменения кумулятивной конверсии группы B к группе A. Сделайте выводы и предположения."
   ]
  },
  {
   "cell_type": "code",
   "execution_count": 53,
   "metadata": {},
   "outputs": [
    {
     "data": {
      "text/html": [
       "<div>\n",
       "<style scoped>\n",
       "    .dataframe tbody tr th:only-of-type {\n",
       "        vertical-align: middle;\n",
       "    }\n",
       "\n",
       "    .dataframe tbody tr th {\n",
       "        vertical-align: top;\n",
       "    }\n",
       "\n",
       "    .dataframe thead th {\n",
       "        text-align: right;\n",
       "    }\n",
       "</style>\n",
       "<table border=\"1\" class=\"dataframe\">\n",
       "  <thead>\n",
       "    <tr style=\"text-align: right;\">\n",
       "      <th></th>\n",
       "      <th>date</th>\n",
       "      <th>conversionA</th>\n",
       "      <th>conversionB</th>\n",
       "    </tr>\n",
       "  </thead>\n",
       "  <tbody>\n",
       "    <tr>\n",
       "      <th>0</th>\n",
       "      <td>2019-08-01</td>\n",
       "      <td>0.033380</td>\n",
       "      <td>0.029453</td>\n",
       "    </tr>\n",
       "    <tr>\n",
       "      <th>1</th>\n",
       "      <td>2019-08-02</td>\n",
       "      <td>0.032885</td>\n",
       "      <td>0.034776</td>\n",
       "    </tr>\n",
       "    <tr>\n",
       "      <th>2</th>\n",
       "      <td>2019-08-03</td>\n",
       "      <td>0.036856</td>\n",
       "      <td>0.033833</td>\n",
       "    </tr>\n",
       "    <tr>\n",
       "      <th>3</th>\n",
       "      <td>2019-08-04</td>\n",
       "      <td>0.032787</td>\n",
       "      <td>0.030315</td>\n",
       "    </tr>\n",
       "    <tr>\n",
       "      <th>4</th>\n",
       "      <td>2019-08-05</td>\n",
       "      <td>0.032851</td>\n",
       "      <td>0.030793</td>\n",
       "    </tr>\n",
       "  </tbody>\n",
       "</table>\n",
       "</div>"
      ],
      "text/plain": [
       "        date  conversionA  conversionB\n",
       "0 2019-08-01     0.033380     0.029453\n",
       "1 2019-08-02     0.032885     0.034776\n",
       "2 2019-08-03     0.036856     0.033833\n",
       "3 2019-08-04     0.032787     0.030315\n",
       "4 2019-08-05     0.032851     0.030793"
      ]
     },
     "execution_count": 53,
     "metadata": {},
     "output_type": "execute_result"
    }
   ],
   "source": [
    "#объединим таблицы \n",
    "conversion_ab = conversion_a[['date','conversion']].merge( \n",
    "    conversion_b[['date','conversion']], left_on='date', right_on='date', how='left', suffixes=['A', 'B'])\n",
    "conversion_ab.head()"
   ]
  },
  {
   "cell_type": "code",
   "execution_count": 54,
   "metadata": {},
   "outputs": [
    {
     "data": {
      "image/png": "[encoded data removed]",
      "text/plain": [
       "<Figure size 720x720 with 1 Axes>"
      ]
     },
     "metadata": {
      "needs_background": "light"
     },
     "output_type": "display_data"
    }
   ],
   "source": [
    "# строим график \n",
    "plt.figure(figsize=(10,10))\n",
    "plt.plot(\n",
    "    conversion_ab['date'], conversion_ab['conversionB']/conversion_ab['conversionA']-1, label=\"Относительный прирост конверсии группы B относительно группы A\"\n",
    ")\n",
    "plt.legend()\n",
    "plt.xlabel('Дата, день')\n",
    "plt.ylabel('прирост')\n",
    "\n",
    "plt.xticks(rotation=90)\n",
    "\n",
    "\n",
    "plt.show()"
   ]
  },
  {
   "cell_type": "markdown",
   "metadata": {},
   "source": [
    "Судя по графику: в начале конверсия группы B была ниже после чего произошел резкий подъем и спуск, после 3 августа пошел подъем примерно до 15 августа, дальше конверсия уравнялась постепенно падая но держась на уровне примерно 0.13, что все еще выше группы А"
   ]
  },
  {
   "cell_type": "markdown",
   "metadata": {},
   "source": [
    "# Постройте точечный график количества заказов по пользователям. Сделайте выводы и предположения."
   ]
  },
  {
   "cell_type": "code",
   "execution_count": 55,
   "metadata": {},
   "outputs": [
    {
     "data": {
      "text/html": [
       "<div>\n",
       "<style scoped>\n",
       "    .dataframe tbody tr th:only-of-type {\n",
       "        vertical-align: middle;\n",
       "    }\n",
       "\n",
       "    .dataframe tbody tr th {\n",
       "        vertical-align: top;\n",
       "    }\n",
       "\n",
       "    .dataframe thead th {\n",
       "        text-align: right;\n",
       "    }\n",
       "</style>\n",
       "<table border=\"1\" class=\"dataframe\">\n",
       "  <thead>\n",
       "    <tr style=\"text-align: right;\">\n",
       "      <th></th>\n",
       "      <th>user_id</th>\n",
       "      <th>orders</th>\n",
       "    </tr>\n",
       "  </thead>\n",
       "  <tbody>\n",
       "    <tr>\n",
       "      <th>908</th>\n",
       "      <td>3967698036</td>\n",
       "      <td>3</td>\n",
       "    </tr>\n",
       "    <tr>\n",
       "      <th>55</th>\n",
       "      <td>249864742</td>\n",
       "      <td>3</td>\n",
       "    </tr>\n",
       "    <tr>\n",
       "      <th>478</th>\n",
       "      <td>2108163459</td>\n",
       "      <td>3</td>\n",
       "    </tr>\n",
       "    <tr>\n",
       "      <th>687</th>\n",
       "      <td>2988190573</td>\n",
       "      <td>3</td>\n",
       "    </tr>\n",
       "    <tr>\n",
       "      <th>890</th>\n",
       "      <td>3908431265</td>\n",
       "      <td>3</td>\n",
       "    </tr>\n",
       "    <tr>\n",
       "      <th>138</th>\n",
       "      <td>611059232</td>\n",
       "      <td>3</td>\n",
       "    </tr>\n",
       "    <tr>\n",
       "      <th>632</th>\n",
       "      <td>2742574263</td>\n",
       "      <td>3</td>\n",
       "    </tr>\n",
       "    <tr>\n",
       "      <th>157</th>\n",
       "      <td>678354126</td>\n",
       "      <td>2</td>\n",
       "    </tr>\n",
       "    <tr>\n",
       "      <th>323</th>\n",
       "      <td>1404560065</td>\n",
       "      <td>2</td>\n",
       "    </tr>\n",
       "    <tr>\n",
       "      <th>452</th>\n",
       "      <td>1985475298</td>\n",
       "      <td>2</td>\n",
       "    </tr>\n",
       "  </tbody>\n",
       "</table>\n",
       "</div>"
      ],
      "text/plain": [
       "        user_id  orders\n",
       "908  3967698036       3\n",
       "55    249864742       3\n",
       "478  2108163459       3\n",
       "687  2988190573       3\n",
       "890  3908431265       3\n",
       "138   611059232       3\n",
       "632  2742574263       3\n",
       "157   678354126       2\n",
       "323  1404560065       2\n",
       "452  1985475298       2"
      ]
     },
     "execution_count": 55,
     "metadata": {},
     "output_type": "execute_result"
    }
   ],
   "source": [
    "# создадим датафрейм количества заказов по пользователям\n",
    "users_orders = (\n",
    "    two_groups_clear.drop(['group', 'revenue', 'date'], axis=1)\n",
    "    .groupby('user_id', as_index=False)\n",
    "    .agg({'order_id': pd.Series.nunique})\n",
    ")\n",
    "\n",
    "users_orders.columns = ['user_id', 'orders']\n",
    "\n",
    "users_orders.sort_values(by='orders', ascending=False).head(10)"
   ]
  },
  {
   "cell_type": "code",
   "execution_count": 56,
   "metadata": {},
   "outputs": [
    {
     "data": {
      "image/png": "[encoded data removed]",
      "text/plain": [
       "<Figure size 432x288 with 1 Axes>"
      ]
     },
     "metadata": {
      "needs_background": "light"
     },
     "output_type": "display_data"
    }
   ],
   "source": [
    "#строим график\n",
    "x_values = pd.Series(range(0, len(users_orders)))\n",
    "\n",
    "plt.scatter(x_values, users_orders['orders']) \n",
    "\n",
    "plt.title('количество заказов по пользователям')\n",
    "plt.xlabel('количество пользователей')\n",
    "plt.ylabel('количество заказов')\n",
    "plt.show()"
   ]
  },
  {
   "cell_type": "markdown",
   "metadata": {},
   "source": [
    "# Посчитайте 95-й и 99-й перцентили количества заказов на пользователя. Выберите границу для определения аномальных пользователей."
   ]
  },
  {
   "cell_type": "code",
   "execution_count": 57,
   "metadata": {},
   "outputs": [
    {
     "name": "stdout",
     "output_type": "stream",
     "text": [
      "[1. 2.]\n"
     ]
    }
   ],
   "source": [
    "print(np.percentile(users_orders['orders'], [95, 99]))"
   ]
  },
  {
   "cell_type": "markdown",
   "metadata": {},
   "source": [
    "Не более 5% пользователей совершали больше одного заказа. И не более 1% пользователей - больше двух заказов."
   ]
  },
  {
   "cell_type": "markdown",
   "metadata": {},
   "source": [
    "# Постройте точечный график стоимостей заказов. Сделайте выводы и предположения."
   ]
  },
  {
   "cell_type": "code",
   "execution_count": 58,
   "metadata": {},
   "outputs": [
    {
     "data": {
      "image/png": "[encoded data removed]",
      "text/plain": [
       "<Figure size 432x288 with 1 Axes>"
      ]
     },
     "metadata": {
      "needs_background": "light"
     },
     "output_type": "display_data"
    }
   ],
   "source": [
    "x_values = pd.Series(range(0, len(orders['revenue'])))\n",
    "\n",
    "plt.scatter(x_values, orders['revenue']) \n",
    "\n",
    "plt.title('стоимость заказов')\n",
    "plt.xlabel('количетсво пользователей')\n",
    "plt.ylabel('Стоимость заказов')\n",
    "plt.axis([0, 1250, 0, 100000])\n",
    "\n",
    "plt.show()"
   ]
  },
  {
   "cell_type": "markdown",
   "metadata": {},
   "source": [
    "Видим небольшое количество дорогих заказов"
   ]
  },
  {
   "cell_type": "markdown",
   "metadata": {},
   "source": [
    "# Посчитайте 95-й и 99-й перцентили стоимости заказов. Выберите границу для определения аномальных заказов."
   ]
  },
  {
   "cell_type": "code",
   "execution_count": 59,
   "metadata": {},
   "outputs": [
    {
     "name": "stdout",
     "output_type": "stream",
     "text": [
      "[28000.  58233.2]\n"
     ]
    }
   ],
   "source": [
    "print(np.percentile(orders['revenue'], [95, 99]))"
   ]
  },
  {
   "cell_type": "markdown",
   "metadata": {},
   "source": [
    "Не более, чем у 5% заказов чек дороже 28000. И не больше, чем у 1% заказов чек дороже 58233 т.р."
   ]
  },
  {
   "cell_type": "markdown",
   "metadata": {},
   "source": [
    "# Посчитайте статистическую значимость различий в конверсии между группами по «сырым» данным. Сделайте выводы и предположения."
   ]
  },
  {
   "cell_type": "code",
   "execution_count": 60,
   "metadata": {},
   "outputs": [
    {
     "data": {
      "text/html": [
       "<div>\n",
       "<style scoped>\n",
       "    .dataframe tbody tr th:only-of-type {\n",
       "        vertical-align: middle;\n",
       "    }\n",
       "\n",
       "    .dataframe tbody tr th {\n",
       "        vertical-align: top;\n",
       "    }\n",
       "\n",
       "    .dataframe thead th {\n",
       "        text-align: right;\n",
       "    }\n",
       "</style>\n",
       "<table border=\"1\" class=\"dataframe\">\n",
       "  <thead>\n",
       "    <tr style=\"text-align: right;\">\n",
       "      <th></th>\n",
       "      <th>date</th>\n",
       "      <th>visitors_a</th>\n",
       "    </tr>\n",
       "  </thead>\n",
       "  <tbody>\n",
       "    <tr>\n",
       "      <th>0</th>\n",
       "      <td>2019-08-01</td>\n",
       "      <td>719</td>\n",
       "    </tr>\n",
       "    <tr>\n",
       "      <th>1</th>\n",
       "      <td>2019-08-02</td>\n",
       "      <td>619</td>\n",
       "    </tr>\n",
       "    <tr>\n",
       "      <th>2</th>\n",
       "      <td>2019-08-03</td>\n",
       "      <td>507</td>\n",
       "    </tr>\n",
       "    <tr>\n",
       "      <th>3</th>\n",
       "      <td>2019-08-04</td>\n",
       "      <td>717</td>\n",
       "    </tr>\n",
       "    <tr>\n",
       "      <th>4</th>\n",
       "      <td>2019-08-05</td>\n",
       "      <td>756</td>\n",
       "    </tr>\n",
       "  </tbody>\n",
       "</table>\n",
       "</div>"
      ],
      "text/plain": [
       "        date  visitors_a\n",
       "0 2019-08-01         719\n",
       "1 2019-08-02         619\n",
       "2 2019-08-03         507\n",
       "3 2019-08-04         717\n",
       "4 2019-08-05         756"
      ]
     },
     "execution_count": 60,
     "metadata": {},
     "output_type": "execute_result"
    }
   ],
   "source": [
    "# получаем  данные по дням о группе А\n",
    "visitors_day_a = visitors[visitors['group'] == 'A'][['date', 'visitors']]\n",
    "visitors_day_a.columns = ['date', 'visitors_a']\n",
    "visitors_day_a.head()"
   ]
  },
  {
   "cell_type": "code",
   "execution_count": 61,
   "metadata": {},
   "outputs": [
    {
     "data": {
      "text/html": [
       "<div>\n",
       "<style scoped>\n",
       "    .dataframe tbody tr th:only-of-type {\n",
       "        vertical-align: middle;\n",
       "    }\n",
       "\n",
       "    .dataframe tbody tr th {\n",
       "        vertical-align: top;\n",
       "    }\n",
       "\n",
       "    .dataframe thead th {\n",
       "        text-align: right;\n",
       "    }\n",
       "</style>\n",
       "<table border=\"1\" class=\"dataframe\">\n",
       "  <thead>\n",
       "    <tr style=\"text-align: right;\">\n",
       "      <th></th>\n",
       "      <th>date</th>\n",
       "      <th>visitors_total_a</th>\n",
       "    </tr>\n",
       "  </thead>\n",
       "  <tbody>\n",
       "    <tr>\n",
       "      <th>0</th>\n",
       "      <td>2019-08-01</td>\n",
       "      <td>719</td>\n",
       "    </tr>\n",
       "    <tr>\n",
       "      <th>1</th>\n",
       "      <td>2019-08-02</td>\n",
       "      <td>1338</td>\n",
       "    </tr>\n",
       "    <tr>\n",
       "      <th>2</th>\n",
       "      <td>2019-08-03</td>\n",
       "      <td>1845</td>\n",
       "    </tr>\n",
       "    <tr>\n",
       "      <th>3</th>\n",
       "      <td>2019-08-04</td>\n",
       "      <td>2562</td>\n",
       "    </tr>\n",
       "    <tr>\n",
       "      <th>4</th>\n",
       "      <td>2019-08-05</td>\n",
       "      <td>3318</td>\n",
       "    </tr>\n",
       "  </tbody>\n",
       "</table>\n",
       "</div>"
      ],
      "text/plain": [
       "        date  visitors_total_a\n",
       "0 2019-08-01               719\n",
       "1 2019-08-02              1338\n",
       "2 2019-08-03              1845\n",
       "3 2019-08-04              2562\n",
       "4 2019-08-05              3318"
      ]
     },
     "execution_count": 61,
     "metadata": {},
     "output_type": "execute_result"
    }
   ],
   "source": [
    "visitors_total_a = visitors_day_a.apply(\n",
    "    lambda x: visitors_day_a[visitors_day_a['date'] <= x['date']].agg(\n",
    "        {'date': 'max', 'visitors_a': 'sum'}\n",
    "    ),\n",
    "    axis=1,\n",
    ")\n",
    "visitors_total_a.columns = ['date', 'visitors_total_a']\n",
    "visitors_total_a.head()"
   ]
  },
  {
   "cell_type": "code",
   "execution_count": 62,
   "metadata": {},
   "outputs": [
    {
     "data": {
      "text/html": [
       "<div>\n",
       "<style scoped>\n",
       "    .dataframe tbody tr th:only-of-type {\n",
       "        vertical-align: middle;\n",
       "    }\n",
       "\n",
       "    .dataframe tbody tr th {\n",
       "        vertical-align: top;\n",
       "    }\n",
       "\n",
       "    .dataframe thead th {\n",
       "        text-align: right;\n",
       "    }\n",
       "</style>\n",
       "<table border=\"1\" class=\"dataframe\">\n",
       "  <thead>\n",
       "    <tr style=\"text-align: right;\">\n",
       "      <th></th>\n",
       "      <th>date</th>\n",
       "      <th>visitors_b</th>\n",
       "    </tr>\n",
       "  </thead>\n",
       "  <tbody>\n",
       "    <tr>\n",
       "      <th>31</th>\n",
       "      <td>2019-08-01</td>\n",
       "      <td>713</td>\n",
       "    </tr>\n",
       "    <tr>\n",
       "      <th>32</th>\n",
       "      <td>2019-08-02</td>\n",
       "      <td>581</td>\n",
       "    </tr>\n",
       "    <tr>\n",
       "      <th>33</th>\n",
       "      <td>2019-08-03</td>\n",
       "      <td>509</td>\n",
       "    </tr>\n",
       "    <tr>\n",
       "      <th>34</th>\n",
       "      <td>2019-08-04</td>\n",
       "      <td>770</td>\n",
       "    </tr>\n",
       "    <tr>\n",
       "      <th>35</th>\n",
       "      <td>2019-08-05</td>\n",
       "      <td>707</td>\n",
       "    </tr>\n",
       "  </tbody>\n",
       "</table>\n",
       "</div>"
      ],
      "text/plain": [
       "         date  visitors_b\n",
       "31 2019-08-01         713\n",
       "32 2019-08-02         581\n",
       "33 2019-08-03         509\n",
       "34 2019-08-04         770\n",
       "35 2019-08-05         707"
      ]
     },
     "execution_count": 62,
     "metadata": {},
     "output_type": "execute_result"
    }
   ],
   "source": [
    "# получаем  данные по дням о группе B\n",
    "visitors_day_b = visitors[visitors['group'] == 'B'][['date', 'visitors']]\n",
    "visitors_day_b.columns = ['date', 'visitors_b']\n",
    "visitors_day_b.head()"
   ]
  },
  {
   "cell_type": "code",
   "execution_count": 63,
   "metadata": {},
   "outputs": [
    {
     "data": {
      "text/html": [
       "<div>\n",
       "<style scoped>\n",
       "    .dataframe tbody tr th:only-of-type {\n",
       "        vertical-align: middle;\n",
       "    }\n",
       "\n",
       "    .dataframe tbody tr th {\n",
       "        vertical-align: top;\n",
       "    }\n",
       "\n",
       "    .dataframe thead th {\n",
       "        text-align: right;\n",
       "    }\n",
       "</style>\n",
       "<table border=\"1\" class=\"dataframe\">\n",
       "  <thead>\n",
       "    <tr style=\"text-align: right;\">\n",
       "      <th></th>\n",
       "      <th>date</th>\n",
       "      <th>visitors_total_b</th>\n",
       "    </tr>\n",
       "  </thead>\n",
       "  <tbody>\n",
       "    <tr>\n",
       "      <th>31</th>\n",
       "      <td>2019-08-01</td>\n",
       "      <td>713</td>\n",
       "    </tr>\n",
       "    <tr>\n",
       "      <th>32</th>\n",
       "      <td>2019-08-02</td>\n",
       "      <td>1294</td>\n",
       "    </tr>\n",
       "    <tr>\n",
       "      <th>33</th>\n",
       "      <td>2019-08-03</td>\n",
       "      <td>1803</td>\n",
       "    </tr>\n",
       "    <tr>\n",
       "      <th>34</th>\n",
       "      <td>2019-08-04</td>\n",
       "      <td>2573</td>\n",
       "    </tr>\n",
       "    <tr>\n",
       "      <th>35</th>\n",
       "      <td>2019-08-05</td>\n",
       "      <td>3280</td>\n",
       "    </tr>\n",
       "  </tbody>\n",
       "</table>\n",
       "</div>"
      ],
      "text/plain": [
       "         date  visitors_total_b\n",
       "31 2019-08-01               713\n",
       "32 2019-08-02              1294\n",
       "33 2019-08-03              1803\n",
       "34 2019-08-04              2573\n",
       "35 2019-08-05              3280"
      ]
     },
     "execution_count": 63,
     "metadata": {},
     "output_type": "execute_result"
    }
   ],
   "source": [
    "visitors_total_b = visitors_day_b.apply(\n",
    "    lambda x: visitors_day_b[visitors_day_b['date'] <= x['date']].agg(\n",
    "        {'date': 'max', 'visitors_b': 'sum'}\n",
    "    ),\n",
    "    axis=1,\n",
    ")\n",
    "visitors_total_b.columns = ['date', 'visitors_total_b']\n",
    "visitors_total_b.head()"
   ]
  },
  {
   "cell_type": "code",
   "execution_count": 64,
   "metadata": {},
   "outputs": [
    {
     "data": {
      "text/html": [
       "<div>\n",
       "<style scoped>\n",
       "    .dataframe tbody tr th:only-of-type {\n",
       "        vertical-align: middle;\n",
       "    }\n",
       "\n",
       "    .dataframe tbody tr th {\n",
       "        vertical-align: top;\n",
       "    }\n",
       "\n",
       "    .dataframe thead th {\n",
       "        text-align: right;\n",
       "    }\n",
       "</style>\n",
       "<table border=\"1\" class=\"dataframe\">\n",
       "  <thead>\n",
       "    <tr style=\"text-align: right;\">\n",
       "      <th></th>\n",
       "      <th>date</th>\n",
       "      <th>orders_a</th>\n",
       "      <th>revenue_a</th>\n",
       "    </tr>\n",
       "  </thead>\n",
       "  <tbody>\n",
       "    <tr>\n",
       "      <th>0</th>\n",
       "      <td>2019-08-01</td>\n",
       "      <td>24</td>\n",
       "      <td>148579</td>\n",
       "    </tr>\n",
       "    <tr>\n",
       "      <th>1</th>\n",
       "      <td>2019-08-02</td>\n",
       "      <td>20</td>\n",
       "      <td>93822</td>\n",
       "    </tr>\n",
       "    <tr>\n",
       "      <th>2</th>\n",
       "      <td>2019-08-03</td>\n",
       "      <td>24</td>\n",
       "      <td>112473</td>\n",
       "    </tr>\n",
       "    <tr>\n",
       "      <th>3</th>\n",
       "      <td>2019-08-04</td>\n",
       "      <td>16</td>\n",
       "      <td>70825</td>\n",
       "    </tr>\n",
       "    <tr>\n",
       "      <th>4</th>\n",
       "      <td>2019-08-05</td>\n",
       "      <td>25</td>\n",
       "      <td>124218</td>\n",
       "    </tr>\n",
       "  </tbody>\n",
       "</table>\n",
       "</div>"
      ],
      "text/plain": [
       "        date  orders_a  revenue_a\n",
       "0 2019-08-01        24     148579\n",
       "1 2019-08-02        20      93822\n",
       "2 2019-08-03        24     112473\n",
       "3 2019-08-04        16      70825\n",
       "4 2019-08-05        25     124218"
      ]
     },
     "execution_count": 64,
     "metadata": {},
     "output_type": "execute_result"
    }
   ],
   "source": [
    "# данные о заказах и выручке группы А по дням\n",
    "orders_day_a = (\n",
    "    orders[orders['group'] == 'A'][['date', 'order_id', 'user_id', 'revenue']]\n",
    "    .groupby('date', as_index=False)\n",
    "    .agg({'order_id': pd.Series.nunique, 'revenue': 'sum'})\n",
    ")\n",
    "orders_day_a.columns = ['date', 'orders_a', 'revenue_a']\n",
    "orders_day_a.head()"
   ]
  },
  {
   "cell_type": "code",
   "execution_count": 65,
   "metadata": {},
   "outputs": [
    {
     "data": {
      "text/html": [
       "<div>\n",
       "<style scoped>\n",
       "    .dataframe tbody tr th:only-of-type {\n",
       "        vertical-align: middle;\n",
       "    }\n",
       "\n",
       "    .dataframe tbody tr th {\n",
       "        vertical-align: top;\n",
       "    }\n",
       "\n",
       "    .dataframe thead th {\n",
       "        text-align: right;\n",
       "    }\n",
       "</style>\n",
       "<table border=\"1\" class=\"dataframe\">\n",
       "  <thead>\n",
       "    <tr style=\"text-align: right;\">\n",
       "      <th></th>\n",
       "      <th>date</th>\n",
       "      <th>cumulative_orders_a</th>\n",
       "      <th>cumulative_revenue_a</th>\n",
       "    </tr>\n",
       "  </thead>\n",
       "  <tbody>\n",
       "    <tr>\n",
       "      <th>0</th>\n",
       "      <td>2019-08-01</td>\n",
       "      <td>24</td>\n",
       "      <td>148579</td>\n",
       "    </tr>\n",
       "    <tr>\n",
       "      <th>1</th>\n",
       "      <td>2019-08-02</td>\n",
       "      <td>44</td>\n",
       "      <td>242401</td>\n",
       "    </tr>\n",
       "    <tr>\n",
       "      <th>2</th>\n",
       "      <td>2019-08-03</td>\n",
       "      <td>68</td>\n",
       "      <td>354874</td>\n",
       "    </tr>\n",
       "    <tr>\n",
       "      <th>3</th>\n",
       "      <td>2019-08-04</td>\n",
       "      <td>84</td>\n",
       "      <td>425699</td>\n",
       "    </tr>\n",
       "    <tr>\n",
       "      <th>4</th>\n",
       "      <td>2019-08-05</td>\n",
       "      <td>109</td>\n",
       "      <td>549917</td>\n",
       "    </tr>\n",
       "  </tbody>\n",
       "</table>\n",
       "</div>"
      ],
      "text/plain": [
       "        date  cumulative_orders_a  cumulative_revenue_a\n",
       "0 2019-08-01                   24                148579\n",
       "1 2019-08-02                   44                242401\n",
       "2 2019-08-03                   68                354874\n",
       "3 2019-08-04                   84                425699\n",
       "4 2019-08-05                  109                549917"
      ]
     },
     "execution_count": 65,
     "metadata": {},
     "output_type": "execute_result"
    }
   ],
   "source": [
    "# получаем кумулятивные о заказах и выручке группы А по дням\n",
    "cumulative_orders_a = orders_day_a.apply(\n",
    "    lambda x: orders_day_a[orders_day_a['date'] <= x['date']].agg(\n",
    "        {'date': 'max', 'orders_a': 'sum', 'revenue_a': 'sum'}\n",
    "    ),\n",
    "    axis=1,\n",
    ").sort_values(by=['date'])\n",
    "\n",
    "cumulative_orders_a.columns = [\n",
    "    'date',\n",
    "    'cumulative_orders_a',\n",
    "    'cumulative_revenue_a',\n",
    "]\n",
    "\n",
    "cumulative_orders_a.head()"
   ]
  },
  {
   "cell_type": "code",
   "execution_count": 66,
   "metadata": {},
   "outputs": [
    {
     "data": {
      "text/html": [
       "<div>\n",
       "<style scoped>\n",
       "    .dataframe tbody tr th:only-of-type {\n",
       "        vertical-align: middle;\n",
       "    }\n",
       "\n",
       "    .dataframe tbody tr th {\n",
       "        vertical-align: top;\n",
       "    }\n",
       "\n",
       "    .dataframe thead th {\n",
       "        text-align: right;\n",
       "    }\n",
       "</style>\n",
       "<table border=\"1\" class=\"dataframe\">\n",
       "  <thead>\n",
       "    <tr style=\"text-align: right;\">\n",
       "      <th></th>\n",
       "      <th>date</th>\n",
       "      <th>orders_b</th>\n",
       "      <th>revenue_b</th>\n",
       "    </tr>\n",
       "  </thead>\n",
       "  <tbody>\n",
       "    <tr>\n",
       "      <th>0</th>\n",
       "      <td>2019-08-01</td>\n",
       "      <td>21</td>\n",
       "      <td>101217</td>\n",
       "    </tr>\n",
       "    <tr>\n",
       "      <th>1</th>\n",
       "      <td>2019-08-02</td>\n",
       "      <td>24</td>\n",
       "      <td>165531</td>\n",
       "    </tr>\n",
       "    <tr>\n",
       "      <th>2</th>\n",
       "      <td>2019-08-03</td>\n",
       "      <td>16</td>\n",
       "      <td>114248</td>\n",
       "    </tr>\n",
       "    <tr>\n",
       "      <th>3</th>\n",
       "      <td>2019-08-04</td>\n",
       "      <td>17</td>\n",
       "      <td>108571</td>\n",
       "    </tr>\n",
       "    <tr>\n",
       "      <th>4</th>\n",
       "      <td>2019-08-05</td>\n",
       "      <td>23</td>\n",
       "      <td>92428</td>\n",
       "    </tr>\n",
       "  </tbody>\n",
       "</table>\n",
       "</div>"
      ],
      "text/plain": [
       "        date  orders_b  revenue_b\n",
       "0 2019-08-01        21     101217\n",
       "1 2019-08-02        24     165531\n",
       "2 2019-08-03        16     114248\n",
       "3 2019-08-04        17     108571\n",
       "4 2019-08-05        23      92428"
      ]
     },
     "execution_count": 66,
     "metadata": {},
     "output_type": "execute_result"
    }
   ],
   "source": [
    "# данные о заказах и выручке группы B по дням\n",
    "orders_day_b = (\n",
    "    orders[orders['group'] == 'B'][['date', 'order_id', 'user_id', 'revenue']]\n",
    "    .groupby('date', as_index=False)\n",
    "    .agg({'order_id': pd.Series.nunique, 'revenue': 'sum'})\n",
    ")\n",
    "orders_day_b.columns = ['date', 'orders_b', 'revenue_b']\n",
    "orders_day_b.head()"
   ]
  },
  {
   "cell_type": "code",
   "execution_count": 67,
   "metadata": {},
   "outputs": [
    {
     "data": {
      "text/html": [
       "<div>\n",
       "<style scoped>\n",
       "    .dataframe tbody tr th:only-of-type {\n",
       "        vertical-align: middle;\n",
       "    }\n",
       "\n",
       "    .dataframe tbody tr th {\n",
       "        vertical-align: top;\n",
       "    }\n",
       "\n",
       "    .dataframe thead th {\n",
       "        text-align: right;\n",
       "    }\n",
       "</style>\n",
       "<table border=\"1\" class=\"dataframe\">\n",
       "  <thead>\n",
       "    <tr style=\"text-align: right;\">\n",
       "      <th></th>\n",
       "      <th>date</th>\n",
       "      <th>cumulative_orders_b</th>\n",
       "      <th>cumulative_revenue_b</th>\n",
       "    </tr>\n",
       "  </thead>\n",
       "  <tbody>\n",
       "    <tr>\n",
       "      <th>0</th>\n",
       "      <td>2019-08-01</td>\n",
       "      <td>21</td>\n",
       "      <td>101217</td>\n",
       "    </tr>\n",
       "    <tr>\n",
       "      <th>1</th>\n",
       "      <td>2019-08-02</td>\n",
       "      <td>45</td>\n",
       "      <td>266748</td>\n",
       "    </tr>\n",
       "    <tr>\n",
       "      <th>2</th>\n",
       "      <td>2019-08-03</td>\n",
       "      <td>61</td>\n",
       "      <td>380996</td>\n",
       "    </tr>\n",
       "    <tr>\n",
       "      <th>3</th>\n",
       "      <td>2019-08-04</td>\n",
       "      <td>78</td>\n",
       "      <td>489567</td>\n",
       "    </tr>\n",
       "    <tr>\n",
       "      <th>4</th>\n",
       "      <td>2019-08-05</td>\n",
       "      <td>101</td>\n",
       "      <td>581995</td>\n",
       "    </tr>\n",
       "  </tbody>\n",
       "</table>\n",
       "</div>"
      ],
      "text/plain": [
       "        date  cumulative_orders_b  cumulative_revenue_b\n",
       "0 2019-08-01                   21                101217\n",
       "1 2019-08-02                   45                266748\n",
       "2 2019-08-03                   61                380996\n",
       "3 2019-08-04                   78                489567\n",
       "4 2019-08-05                  101                581995"
      ]
     },
     "execution_count": 67,
     "metadata": {},
     "output_type": "execute_result"
    }
   ],
   "source": [
    "# получаем кумулятивные о заказах и выручке группы B по дням\n",
    "cumulative_orders_b = orders_day_b.apply(\n",
    "    lambda x: orders_day_b[orders_day_b['date'] <= x['date']].agg(\n",
    "        {'date': 'max', 'orders_b': 'sum', 'revenue_b': 'sum'}\n",
    "    ),\n",
    "    axis=1,\n",
    ").sort_values(by=['date'])\n",
    "\n",
    "cumulative_orders_b.columns = [\n",
    "    'date',\n",
    "    'cumulative_orders_b',\n",
    "    'cumulative_revenue_b',\n",
    "]\n",
    "\n",
    "cumulative_orders_b.head()"
   ]
  },
  {
   "cell_type": "code",
   "execution_count": 68,
   "metadata": {
    "scrolled": true
   },
   "outputs": [
    {
     "data": {
      "text/html": [
       "<div>\n",
       "<style scoped>\n",
       "    .dataframe tbody tr th:only-of-type {\n",
       "        vertical-align: middle;\n",
       "    }\n",
       "\n",
       "    .dataframe tbody tr th {\n",
       "        vertical-align: top;\n",
       "    }\n",
       "\n",
       "    .dataframe thead th {\n",
       "        text-align: right;\n",
       "    }\n",
       "</style>\n",
       "<table border=\"1\" class=\"dataframe\">\n",
       "  <thead>\n",
       "    <tr style=\"text-align: right;\">\n",
       "      <th></th>\n",
       "      <th>date</th>\n",
       "      <th>orders_a</th>\n",
       "      <th>revenue_a</th>\n",
       "      <th>orders_b</th>\n",
       "      <th>revenue_b</th>\n",
       "      <th>cumulative_orders_a</th>\n",
       "      <th>cumulative_revenue_a</th>\n",
       "      <th>cumulative_orders_b</th>\n",
       "      <th>cumulative_revenue_b</th>\n",
       "      <th>visitors_a</th>\n",
       "      <th>visitors_b</th>\n",
       "      <th>visitors_total_a</th>\n",
       "      <th>visitors_total_b</th>\n",
       "    </tr>\n",
       "  </thead>\n",
       "  <tbody>\n",
       "    <tr>\n",
       "      <th>0</th>\n",
       "      <td>2019-08-01</td>\n",
       "      <td>24</td>\n",
       "      <td>148579</td>\n",
       "      <td>21</td>\n",
       "      <td>101217</td>\n",
       "      <td>24</td>\n",
       "      <td>148579</td>\n",
       "      <td>21</td>\n",
       "      <td>101217</td>\n",
       "      <td>719</td>\n",
       "      <td>713</td>\n",
       "      <td>719</td>\n",
       "      <td>713</td>\n",
       "    </tr>\n",
       "    <tr>\n",
       "      <th>1</th>\n",
       "      <td>2019-08-02</td>\n",
       "      <td>20</td>\n",
       "      <td>93822</td>\n",
       "      <td>24</td>\n",
       "      <td>165531</td>\n",
       "      <td>44</td>\n",
       "      <td>242401</td>\n",
       "      <td>45</td>\n",
       "      <td>266748</td>\n",
       "      <td>619</td>\n",
       "      <td>581</td>\n",
       "      <td>1338</td>\n",
       "      <td>1294</td>\n",
       "    </tr>\n",
       "    <tr>\n",
       "      <th>2</th>\n",
       "      <td>2019-08-03</td>\n",
       "      <td>24</td>\n",
       "      <td>112473</td>\n",
       "      <td>16</td>\n",
       "      <td>114248</td>\n",
       "      <td>68</td>\n",
       "      <td>354874</td>\n",
       "      <td>61</td>\n",
       "      <td>380996</td>\n",
       "      <td>507</td>\n",
       "      <td>509</td>\n",
       "      <td>1845</td>\n",
       "      <td>1803</td>\n",
       "    </tr>\n",
       "    <tr>\n",
       "      <th>3</th>\n",
       "      <td>2019-08-04</td>\n",
       "      <td>16</td>\n",
       "      <td>70825</td>\n",
       "      <td>17</td>\n",
       "      <td>108571</td>\n",
       "      <td>84</td>\n",
       "      <td>425699</td>\n",
       "      <td>78</td>\n",
       "      <td>489567</td>\n",
       "      <td>717</td>\n",
       "      <td>770</td>\n",
       "      <td>2562</td>\n",
       "      <td>2573</td>\n",
       "    </tr>\n",
       "    <tr>\n",
       "      <th>4</th>\n",
       "      <td>2019-08-05</td>\n",
       "      <td>25</td>\n",
       "      <td>124218</td>\n",
       "      <td>23</td>\n",
       "      <td>92428</td>\n",
       "      <td>109</td>\n",
       "      <td>549917</td>\n",
       "      <td>101</td>\n",
       "      <td>581995</td>\n",
       "      <td>756</td>\n",
       "      <td>707</td>\n",
       "      <td>3318</td>\n",
       "      <td>3280</td>\n",
       "    </tr>\n",
       "  </tbody>\n",
       "</table>\n",
       "</div>"
      ],
      "text/plain": [
       "        date  orders_a  revenue_a  orders_b  revenue_b  cumulative_orders_a  \\\n",
       "0 2019-08-01        24     148579        21     101217                   24   \n",
       "1 2019-08-02        20      93822        24     165531                   44   \n",
       "2 2019-08-03        24     112473        16     114248                   68   \n",
       "3 2019-08-04        16      70825        17     108571                   84   \n",
       "4 2019-08-05        25     124218        23      92428                  109   \n",
       "\n",
       "   cumulative_revenue_a  cumulative_orders_b  cumulative_revenue_b  \\\n",
       "0                148579                   21                101217   \n",
       "1                242401                   45                266748   \n",
       "2                354874                   61                380996   \n",
       "3                425699                   78                489567   \n",
       "4                549917                  101                581995   \n",
       "\n",
       "   visitors_a  visitors_b  visitors_total_a  visitors_total_b  \n",
       "0         719         713               719               713  \n",
       "1         619         581              1338              1294  \n",
       "2         507         509              1845              1803  \n",
       "3         717         770              2562              2573  \n",
       "4         756         707              3318              3280  "
      ]
     },
     "execution_count": 68,
     "metadata": {},
     "output_type": "execute_result"
    }
   ],
   "source": [
    "# Объединяем данные\n",
    "data = (\n",
    "    orders_day_a.merge(\n",
    "        orders_day_b, left_on='date', right_on='date', how='left'\n",
    "    )\n",
    "    .merge(cumulative_orders_a, left_on='date', right_on='date', how='left')\n",
    "    .merge(cumulative_orders_b, left_on='date', right_on='date', how='left')\n",
    "    .merge(visitors_day_a, left_on='date', right_on='date', how='left')\n",
    "    .merge(visitors_day_b, left_on='date', right_on='date', how='left')\n",
    "    .merge(visitors_total_a, left_on='date', right_on='date', how='left')\n",
    "    .merge(visitors_total_b, left_on='date', right_on='date', how='left')\n",
    ")\n",
    "\n",
    "data.head(5)"
   ]
  },
  {
   "cell_type": "markdown",
   "metadata": {},
   "source": [
    "Создадим переменные с пользователями имевшими хотя бы 1 заказ и количеством их заказов"
   ]
  },
  {
   "cell_type": "code",
   "execution_count": 69,
   "metadata": {},
   "outputs": [
    {
     "data": {
      "text/html": [
       "<div>\n",
       "<style scoped>\n",
       "    .dataframe tbody tr th:only-of-type {\n",
       "        vertical-align: middle;\n",
       "    }\n",
       "\n",
       "    .dataframe tbody tr th {\n",
       "        vertical-align: top;\n",
       "    }\n",
       "\n",
       "    .dataframe thead th {\n",
       "        text-align: right;\n",
       "    }\n",
       "</style>\n",
       "<table border=\"1\" class=\"dataframe\">\n",
       "  <thead>\n",
       "    <tr style=\"text-align: right;\">\n",
       "      <th></th>\n",
       "      <th>user_id</th>\n",
       "      <th>orders</th>\n",
       "    </tr>\n",
       "  </thead>\n",
       "  <tbody>\n",
       "    <tr>\n",
       "      <th>0</th>\n",
       "      <td>8300375</td>\n",
       "      <td>1</td>\n",
       "    </tr>\n",
       "    <tr>\n",
       "      <th>1</th>\n",
       "      <td>11685486</td>\n",
       "      <td>1</td>\n",
       "    </tr>\n",
       "    <tr>\n",
       "      <th>2</th>\n",
       "      <td>54447517</td>\n",
       "      <td>1</td>\n",
       "    </tr>\n",
       "    <tr>\n",
       "      <th>3</th>\n",
       "      <td>66685450</td>\n",
       "      <td>1</td>\n",
       "    </tr>\n",
       "    <tr>\n",
       "      <th>4</th>\n",
       "      <td>78758296</td>\n",
       "      <td>1</td>\n",
       "    </tr>\n",
       "    <tr>\n",
       "      <th>5</th>\n",
       "      <td>85103373</td>\n",
       "      <td>1</td>\n",
       "    </tr>\n",
       "    <tr>\n",
       "      <th>6</th>\n",
       "      <td>87885904</td>\n",
       "      <td>1</td>\n",
       "    </tr>\n",
       "    <tr>\n",
       "      <th>7</th>\n",
       "      <td>109615108</td>\n",
       "      <td>1</td>\n",
       "    </tr>\n",
       "    <tr>\n",
       "      <th>8</th>\n",
       "      <td>130417038</td>\n",
       "      <td>1</td>\n",
       "    </tr>\n",
       "    <tr>\n",
       "      <th>9</th>\n",
       "      <td>132143192</td>\n",
       "      <td>1</td>\n",
       "    </tr>\n",
       "  </tbody>\n",
       "</table>\n",
       "</div>"
      ],
      "text/plain": [
       "     user_id  orders\n",
       "0    8300375       1\n",
       "1   11685486       1\n",
       "2   54447517       1\n",
       "3   66685450       1\n",
       "4   78758296       1\n",
       "5   85103373       1\n",
       "6   87885904       1\n",
       "7  109615108       1\n",
       "8  130417038       1\n",
       "9  132143192       1"
      ]
     },
     "execution_count": 69,
     "metadata": {},
     "output_type": "execute_result"
    }
   ],
   "source": [
    "users_with_orders_a = (\n",
    "    orders[orders['group'] == 'A']\n",
    "    .groupby('user_id', as_index=False)\n",
    "    .agg({'order_id': pd.Series.nunique})\n",
    ")\n",
    "users_with_orders_a.columns = ['user_id', 'orders']\n",
    "users_with_orders_a.head(10)"
   ]
  },
  {
   "cell_type": "code",
   "execution_count": 70,
   "metadata": {},
   "outputs": [
    {
     "data": {
      "text/html": [
       "<div>\n",
       "<style scoped>\n",
       "    .dataframe tbody tr th:only-of-type {\n",
       "        vertical-align: middle;\n",
       "    }\n",
       "\n",
       "    .dataframe tbody tr th {\n",
       "        vertical-align: top;\n",
       "    }\n",
       "\n",
       "    .dataframe thead th {\n",
       "        text-align: right;\n",
       "    }\n",
       "</style>\n",
       "<table border=\"1\" class=\"dataframe\">\n",
       "  <thead>\n",
       "    <tr style=\"text-align: right;\">\n",
       "      <th></th>\n",
       "      <th>user_id</th>\n",
       "      <th>orders</th>\n",
       "    </tr>\n",
       "  </thead>\n",
       "  <tbody>\n",
       "    <tr>\n",
       "      <th>0</th>\n",
       "      <td>5114589</td>\n",
       "      <td>1</td>\n",
       "    </tr>\n",
       "    <tr>\n",
       "      <th>1</th>\n",
       "      <td>6958315</td>\n",
       "      <td>1</td>\n",
       "    </tr>\n",
       "    <tr>\n",
       "      <th>2</th>\n",
       "      <td>8300375</td>\n",
       "      <td>1</td>\n",
       "    </tr>\n",
       "    <tr>\n",
       "      <th>3</th>\n",
       "      <td>39475350</td>\n",
       "      <td>1</td>\n",
       "    </tr>\n",
       "    <tr>\n",
       "      <th>4</th>\n",
       "      <td>47206413</td>\n",
       "      <td>1</td>\n",
       "    </tr>\n",
       "    <tr>\n",
       "      <th>5</th>\n",
       "      <td>48147722</td>\n",
       "      <td>1</td>\n",
       "    </tr>\n",
       "    <tr>\n",
       "      <th>6</th>\n",
       "      <td>56960363</td>\n",
       "      <td>1</td>\n",
       "    </tr>\n",
       "    <tr>\n",
       "      <th>7</th>\n",
       "      <td>71018815</td>\n",
       "      <td>1</td>\n",
       "    </tr>\n",
       "    <tr>\n",
       "      <th>8</th>\n",
       "      <td>78678012</td>\n",
       "      <td>1</td>\n",
       "    </tr>\n",
       "    <tr>\n",
       "      <th>9</th>\n",
       "      <td>91069833</td>\n",
       "      <td>1</td>\n",
       "    </tr>\n",
       "  </tbody>\n",
       "</table>\n",
       "</div>"
      ],
      "text/plain": [
       "    user_id  orders\n",
       "0   5114589       1\n",
       "1   6958315       1\n",
       "2   8300375       1\n",
       "3  39475350       1\n",
       "4  47206413       1\n",
       "5  48147722       1\n",
       "6  56960363       1\n",
       "7  71018815       1\n",
       "8  78678012       1\n",
       "9  91069833       1"
      ]
     },
     "execution_count": 70,
     "metadata": {},
     "output_type": "execute_result"
    }
   ],
   "source": [
    "users_with_orders_b = (\n",
    "    orders[orders['group'] == 'B']\n",
    "    .groupby('user_id', as_index=False)\n",
    "    .agg({'order_id': pd.Series.nunique})\n",
    ")\n",
    "users_with_orders_b.columns = ['user_id', 'orders']\n",
    "users_with_orders_b.head(10)"
   ]
  },
  {
   "cell_type": "markdown",
   "metadata": {},
   "source": [
    "Подготовим данные к проверке методом Уилкоксона-Манна-Уитни"
   ]
  },
  {
   "cell_type": "code",
   "execution_count": 71,
   "metadata": {},
   "outputs": [
    {
     "data": {
      "text/plain": [
       "18736"
      ]
     },
     "execution_count": 71,
     "metadata": {},
     "output_type": "execute_result"
    }
   ],
   "source": [
    "tabl_for_group_a = pd.concat(\n",
    "    [\n",
    "        users_with_orders_a['orders'],\n",
    "        pd.Series(\n",
    "            0,\n",
    "            index=np.arange(\n",
    "                data['visitors_a'].sum() - len(users_with_orders_a['orders'])\n",
    "            ),\n",
    "            name='orders',\n",
    "        ),\n",
    "    ],\n",
    "    axis=0,\n",
    ")\n",
    "tabl_for_group_a.count()"
   ]
  },
  {
   "cell_type": "code",
   "execution_count": 72,
   "metadata": {},
   "outputs": [
    {
     "data": {
      "text/plain": [
       "18916"
      ]
     },
     "execution_count": 72,
     "metadata": {},
     "output_type": "execute_result"
    }
   ],
   "source": [
    "tabl_for_group_b = pd.concat(\n",
    "    [\n",
    "        users_with_orders_a['orders'],\n",
    "        pd.Series(\n",
    "            0,\n",
    "            index=np.arange(\n",
    "                data['visitors_b'].sum() - len(users_with_orders_a['orders'])\n",
    "            ),\n",
    "            name='orders',\n",
    "        ),\n",
    "    ],\n",
    "    axis=0,\n",
    ")\n",
    "tabl_for_group_b.count()"
   ]
  },
  {
   "cell_type": "markdown",
   "metadata": {},
   "source": [
    "Сформулируем гипотезы:\n",
    "\n",
    "H0 - статистическая значимость различий в конверсии между группами по «сырым» данным не значима\n",
    "\n",
    "H1 - статистическая значимость различий в конверсии между группами по «сырым» данным  значима\n",
    "\n",
    "Alpha примем за 0.05"
   ]
  },
  {
   "cell_type": "code",
   "execution_count": 73,
   "metadata": {},
   "outputs": [
    {
     "name": "stdout",
     "output_type": "stream",
     "text": [
      "P-value по конверсии до очистки данных : 0.878\n"
     ]
    }
   ],
   "source": [
    "increase_conversion = (stats.mannwhitneyu(tabl_for_group_a, tabl_for_group_b)[1])\n",
    "print(\"P-value по конверсии до очистки данных : {0:.3f}\".format(increase_conversion))"
   ]
  },
  {
   "cell_type": "code",
   "execution_count": 74,
   "metadata": {},
   "outputs": [
    {
     "data": {
      "text/plain": [
       "'Относительный прирост конверсии группы B 13.8%'"
      ]
     },
     "metadata": {},
     "output_type": "display_data"
    }
   ],
   "source": [
    "display(\"Относительный прирост конверсии группы B {0:.1%}\".format((orders_day_b['orders_b'].sum()/visitors_day_b['visitors_b'].sum())\n",
    "                       /(orders_day_a['orders_a'].sum()/visitors_day_a['visitors_a'].sum())-1))"
   ]
  },
  {
   "cell_type": "code",
   "execution_count": 75,
   "metadata": {},
   "outputs": [
    {
     "name": "stdout",
     "output_type": "stream",
     "text": [
      "Не получилось отвергнуть нулевую гипотезу\n"
     ]
    }
   ],
   "source": [
    "alpha = .05\n",
    "\n",
    "if (increase_conversion < alpha):\n",
    "    print(\"Отвергаем нулевую гипотезу\")\n",
    "else:\n",
    "    print(\"Не получилось отвергнуть нулевую гипотезу\")"
   ]
  },
  {
   "cell_type": "markdown",
   "metadata": {},
   "source": [
    "P-value больше 0.05, поэтому не отвергаем нулевую гипотезу. Анализ сырых данных показывает,что различия в конверсии между группами не значимы. Относительный прирост конверсии группы B к конверсии группы А равен 13.8%."
   ]
  },
  {
   "cell_type": "markdown",
   "metadata": {},
   "source": [
    "# Посчитайте статистическую значимость различий в среднем чеке заказа между группами по «сырым» данным. Сделайте выводы и предположения."
   ]
  },
  {
   "cell_type": "markdown",
   "metadata": {},
   "source": [
    "Сформулируем гипотезы\n",
    "\n",
    "Н0 - различия в среднем чеке заказа между группами по «сырым» данным статистически не значимы\n",
    "\n",
    "Н1 - различия в среднем чеке заказа между группами по «сырым» данным статистически значимы\n",
    "\n",
    "Пороговое значение alpha примем за 0.05."
   ]
  },
  {
   "cell_type": "code",
   "execution_count": 76,
   "metadata": {},
   "outputs": [
    {
     "name": "stdout",
     "output_type": "stream",
     "text": [
      "P-value по среднему чеку до очистки данных: 0.729\n"
     ]
    }
   ],
   "source": [
    "avg_check = (stats.mannwhitneyu(orders[orders['group']=='A']['revenue'], orders[orders['group']=='B']['revenue'])[1])\n",
    "print('P-value по среднему чеку до очистки данных: {0:.3f}'.format(avg_check))"
   ]
  },
  {
   "cell_type": "code",
   "execution_count": 77,
   "metadata": {},
   "outputs": [
    {
     "data": {
      "text/plain": [
       "'Относительный прирост среднего чека группы B к среднему чеку группы А до очистки данных: 25.9%'"
      ]
     },
     "metadata": {},
     "output_type": "display_data"
    }
   ],
   "source": [
    "display(\"Относительный прирост среднего чека группы B к среднему чеку группы А до очистки данных: {0:.1%}\"\n",
    "        .format(orders[orders['group']=='B']['revenue'].mean()/orders[orders['group']=='A']['revenue'].mean()-1))"
   ]
  },
  {
   "cell_type": "code",
   "execution_count": 78,
   "metadata": {},
   "outputs": [
    {
     "name": "stdout",
     "output_type": "stream",
     "text": [
      "Не получилось отвергнуть нулевую гипотезу\n"
     ]
    }
   ],
   "source": [
    "alpha = .05\n",
    "\n",
    "if (avg_check < alpha):\n",
    "    print(\"Отвергаем нулевую гипотезу\")\n",
    "else:\n",
    "    print(\"Не получилось отвергнуть нулевую гипотезу\")\n",
    "    "
   ]
  },
  {
   "cell_type": "markdown",
   "metadata": {},
   "source": [
    "P-value больше 0.05, значит  различия в среднем чеке заказа между группами по «сырым» данным статистически не значимы. Относительное различие среднего чека между группами 2.6%."
   ]
  },
  {
   "cell_type": "markdown",
   "metadata": {},
   "source": [
    "# Посчитайте статистическую значимость различий в конверсии между группами по «очищенным» данным. Сделайте выводы и предположения."
   ]
  },
  {
   "cell_type": "markdown",
   "metadata": {},
   "source": [
    "- 95-й и 99-й перцентили средних чеков равны 28 000 и 58 233 рублям.\n",
    "- 95-й и 99-й перцентили количества заказов на одного пользователя равны 1 и 2 заказа на пользователя.\n",
    "\n",
    "Примем за аномальных пользователей тех, кто совершил от больше 2 заказов или совершил заказ дороже 28 000 рублей. Так мы уберём пользователей с наибольшим числом заказов и пользователей с дорогими заказами."
   ]
  },
  {
   "cell_type": "markdown",
   "metadata": {},
   "source": [
    "Сформулируем гипотезы\n",
    "\n",
    "Н0 - различия в конверсии между группами по «очищенным» данным статистически не значимы\n",
    "\n",
    "Н1 - различия в конверсии между группами по «очищенным» данным статистически значимы\n",
    "\n",
    "Пороговое значение alpha примем за 0.05."
   ]
  },
  {
   "cell_type": "code",
   "execution_count": 79,
   "metadata": {
    "scrolled": true
   },
   "outputs": [
    {
     "data": {
      "text/plain": [
       "(60,)"
      ]
     },
     "metadata": {},
     "output_type": "display_data"
    }
   ],
   "source": [
    "anomaly_pay = orders[orders['revenue'] > 28000]['user_id'] # сколько пользователей заплатили больше 28000\n",
    "display(anomaly_pay.shape)"
   ]
  },
  {
   "cell_type": "markdown",
   "metadata": {},
   "source": [
    "посмотрим сколько пользователей имеют больше 2-ух заказов"
   ]
  },
  {
   "cell_type": "code",
   "execution_count": 80,
   "metadata": {},
   "outputs": [],
   "source": [
    "users_with_orders = orders.drop(['group', 'revenue', 'date'], axis=1)"
   ]
  },
  {
   "cell_type": "code",
   "execution_count": 81,
   "metadata": {},
   "outputs": [
    {
     "data": {
      "text/html": [
       "<div>\n",
       "<style scoped>\n",
       "    .dataframe tbody tr th:only-of-type {\n",
       "        vertical-align: middle;\n",
       "    }\n",
       "\n",
       "    .dataframe tbody tr th {\n",
       "        vertical-align: top;\n",
       "    }\n",
       "\n",
       "    .dataframe thead th {\n",
       "        text-align: right;\n",
       "    }\n",
       "</style>\n",
       "<table border=\"1\" class=\"dataframe\">\n",
       "  <thead>\n",
       "    <tr style=\"text-align: right;\">\n",
       "      <th></th>\n",
       "      <th>user_id</th>\n",
       "      <th>orders</th>\n",
       "    </tr>\n",
       "  </thead>\n",
       "  <tbody>\n",
       "    <tr>\n",
       "      <th>1023</th>\n",
       "      <td>4256040402</td>\n",
       "      <td>11</td>\n",
       "    </tr>\n",
       "    <tr>\n",
       "      <th>591</th>\n",
       "      <td>2458001652</td>\n",
       "      <td>11</td>\n",
       "    </tr>\n",
       "    <tr>\n",
       "      <th>569</th>\n",
       "      <td>2378935119</td>\n",
       "      <td>9</td>\n",
       "    </tr>\n",
       "    <tr>\n",
       "      <th>487</th>\n",
       "      <td>2038680547</td>\n",
       "      <td>8</td>\n",
       "    </tr>\n",
       "    <tr>\n",
       "      <th>44</th>\n",
       "      <td>199603092</td>\n",
       "      <td>5</td>\n",
       "    </tr>\n",
       "    <tr>\n",
       "      <th>744</th>\n",
       "      <td>3062433592</td>\n",
       "      <td>5</td>\n",
       "    </tr>\n",
       "    <tr>\n",
       "      <th>55</th>\n",
       "      <td>237748145</td>\n",
       "      <td>5</td>\n",
       "    </tr>\n",
       "    <tr>\n",
       "      <th>917</th>\n",
       "      <td>3803269165</td>\n",
       "      <td>5</td>\n",
       "    </tr>\n",
       "    <tr>\n",
       "      <th>299</th>\n",
       "      <td>1230306981</td>\n",
       "      <td>5</td>\n",
       "    </tr>\n",
       "    <tr>\n",
       "      <th>897</th>\n",
       "      <td>3717692402</td>\n",
       "      <td>5</td>\n",
       "    </tr>\n",
       "  </tbody>\n",
       "</table>\n",
       "</div>"
      ],
      "text/plain": [
       "         user_id  orders\n",
       "1023  4256040402      11\n",
       "591   2458001652      11\n",
       "569   2378935119       9\n",
       "487   2038680547       8\n",
       "44     199603092       5\n",
       "744   3062433592       5\n",
       "55     237748145       5\n",
       "917   3803269165       5\n",
       "299   1230306981       5\n",
       "897   3717692402       5"
      ]
     },
     "metadata": {},
     "output_type": "display_data"
    }
   ],
   "source": [
    "users_with_orders = users_with_orders.groupby('user_id').agg({'order_id':'nunique'}).reset_index()\n",
    "users_with_orders.columns = ['user_id','orders']\n",
    "display(users_with_orders.sort_values(by='orders',ascending=False).head(10))"
   ]
  },
  {
   "cell_type": "code",
   "execution_count": 82,
   "metadata": {},
   "outputs": [
    {
     "data": {
      "text/plain": [
       "(30,)"
      ]
     },
     "metadata": {},
     "output_type": "display_data"
    }
   ],
   "source": [
    "anomaly_orders = users_with_orders[users_with_orders['orders'] > 2]['user_id']\n",
    "display(anomaly_orders.shape)"
   ]
  },
  {
   "cell_type": "code",
   "execution_count": 83,
   "metadata": {},
   "outputs": [
    {
     "data": {
      "text/plain": [
       "18      199603092\n",
       "23      237748145\n",
       "68      611059232\n",
       "146    1230306981\n",
       "189    1614305549\n",
       "Name: user_id, dtype: int64"
      ]
     },
     "metadata": {},
     "output_type": "display_data"
    },
    {
     "data": {
      "text/plain": [
       "1099    148427295\n",
       "18      199603092\n",
       "928     204675465\n",
       "23      237748145\n",
       "37      249864742\n",
       "Name: user_id, dtype: int64"
      ]
     },
     "metadata": {},
     "output_type": "display_data"
    }
   ],
   "source": [
    "# объединим этих пользователей\n",
    "much_orders_users = pd.concat([users_with_orders_a[users_with_orders_a['orders'] > 2]['user_id'],\n",
    "                                 users_with_orders_b[users_with_orders_b['orders'] > 2]['user_id']], axis = 0)\n",
    "display(much_orders_users.head())\n",
    "exp_orders = orders[orders['revenue'] > 28000]['user_id']\n",
    "\n",
    "abnormal_users = pd.concat([much_orders_users, exp_orders], axis = 0).drop_duplicates().sort_values()\n",
    "display(abnormal_users.head())"
   ]
  },
  {
   "cell_type": "code",
   "execution_count": 84,
   "metadata": {},
   "outputs": [],
   "source": [
    "filtered_sample_a = pd.concat([users_with_orders_a[np.logical_not(users_with_orders_a['user_id'].isin(abnormal_users))]['orders'],\n",
    "                             pd.Series(0, index=np.arange(visitors_day_a['visitors_a'].sum() - len(users_with_orders_a['orders'])),\n",
    "                                       name='orders')],axis=0)\n",
    "filtered_sample_b = pd.concat([users_with_orders_b[np.logical_not(users_with_orders_b['user_id'].isin(abnormal_users))]['orders'],\n",
    "                             pd.Series(0, index=np.arange(visitors_day_b['visitors_b'].sum() - len(users_with_orders_b['orders'])),\n",
    "                                       name='orders')],axis=0)\n"
   ]
  },
  {
   "cell_type": "code",
   "execution_count": 85,
   "metadata": {},
   "outputs": [
    {
     "name": "stdout",
     "output_type": "stream",
     "text": [
      "P-value по конверсии после очистки данных: 0.01304\n"
     ]
    }
   ],
   "source": [
    "clean_conversion = (stats.mannwhitneyu(filtered_sample_a, filtered_sample_b)[1])\n",
    "print('P-value по конверсии после очистки данных: {0:.5f}'.format(clean_conversion))"
   ]
  },
  {
   "cell_type": "code",
   "execution_count": 86,
   "metadata": {},
   "outputs": [
    {
     "name": "stdout",
     "output_type": "stream",
     "text": [
      "Относительный прирост конверсии группы B к конверсии группы А после очистки данных: 17.3%\n"
     ]
    }
   ],
   "source": [
    "print(\"Относительный прирост конверсии группы B к конверсии группы А после очистки данных: {0:.1%}\".format(filtered_sample_b.mean()/filtered_sample_a.mean()-1))"
   ]
  },
  {
   "cell_type": "code",
   "execution_count": 87,
   "metadata": {},
   "outputs": [
    {
     "name": "stdout",
     "output_type": "stream",
     "text": [
      "Отвергаем нулевую гипотезу\n"
     ]
    }
   ],
   "source": [
    "alpha = .05\n",
    "\n",
    "if (clean_conversion < alpha):\n",
    "    print(\"Отвергаем нулевую гипотезу\")\n",
    "else:\n",
    "    print(\"Не получилось отвергнуть нулевую гипотезу\")"
   ]
  },
  {
   "cell_type": "markdown",
   "metadata": {},
   "source": [
    "Отвергаем нулевую гипотезу. Сегмент B лучше сегмента А. Очищенная Конверсия группы В больше чем конверсия группы А на 17.3%"
   ]
  },
  {
   "cell_type": "markdown",
   "metadata": {},
   "source": [
    "# Посчитайте статистическую значимость различий в среднем чеке заказа между группами по «очищенным» данным. Сделайте выводы и предположения."
   ]
  },
  {
   "cell_type": "markdown",
   "metadata": {},
   "source": [
    "Сформулируем гипотезы\n",
    "\n",
    "Н0 - различия в среднем чеке заказа между группами по «очищенным» данным статистически не значимы\n",
    "\n",
    "Н1 - различия в среднем чеке заказа между группами по «очищенным» данным статистически значимы\n",
    "\n",
    "Пороговое значение alpha примем за 0.05."
   ]
  },
  {
   "cell_type": "code",
   "execution_count": 88,
   "metadata": {},
   "outputs": [
    {
     "name": "stdout",
     "output_type": "stream",
     "text": [
      "P-value по среднему чеку после очистки данных: 0.738\n"
     ]
    }
   ],
   "source": [
    "avg_check_clean = (stats.mannwhitneyu(\n",
    "    orders[np.logical_and(\n",
    "        orders['group']=='A',\n",
    "        np.logical_not(orders['user_id'].isin(abnormal_users)))]['revenue'],\n",
    "    orders[np.logical_and(\n",
    "        orders['group']=='B',\n",
    "        np.logical_not(orders['user_id'].isin(abnormal_users)))]['revenue'])[1])\n",
    "print('P-value по среднему чеку после очистки данных: {0:.3f}'.format(avg_check_clean))"
   ]
  },
  {
   "cell_type": "code",
   "execution_count": 89,
   "metadata": {},
   "outputs": [
    {
     "name": "stdout",
     "output_type": "stream",
     "text": [
      "Относительный прирост среднего чека группы B к среднему чеку группы А после очистки данных: -2.0%\n"
     ]
    }
   ],
   "source": [
    "print(\"Относительный прирост среднего чека группы B к среднему чеку группы А после очистки данных: {0:.1%}\".format(\n",
    "    orders[np.logical_and(orders['group']=='B',np.logical_not(orders['user_id'].isin(abnormal_users)))]['revenue'].mean()/\n",
    "    orders[np.logical_and(\n",
    "        orders['group']=='A',\n",
    "        np.logical_not(orders['user_id'].isin(abnormal_users)))]['revenue'].mean() - 1)) "
   ]
  },
  {
   "cell_type": "code",
   "execution_count": 90,
   "metadata": {},
   "outputs": [
    {
     "name": "stdout",
     "output_type": "stream",
     "text": [
      "Не получилось отвергнуть нулевую гипотезу\n"
     ]
    }
   ],
   "source": [
    "alpha = .05\n",
    "\n",
    "if (avg_check_clean < alpha):\n",
    "    print(\"Отвергаем нулевую гипотезу\")\n",
    "else:\n",
    "    print(\"Не получилось отвергнуть нулевую гипотезу\")"
   ]
  },
  {
   "cell_type": "markdown",
   "metadata": {},
   "source": [
    "Различия в среднем чеке заказа между группами по «очищенным» данным статистически не значимы, Относительный прирост среднего чека группы B к среднему чеку группы А после очистки данных: -2.0%"
   ]
  },
  {
   "cell_type": "markdown",
   "metadata": {},
   "source": [
    "# Примите решение по результатам теста и объясните его. Варианты решений: \n",
    "1. Остановить тест, зафиксировать победу одной из групп. \n",
    "2. Остановить тест, зафиксировать отсутствие различий между группами. \n",
    "3. Продолжить тест."
   ]
  },
  {
   "cell_type": "markdown",
   "metadata": {},
   "source": [
    "Нужно остановить тест и признать победу группы B, несмотря на то, что по среднему чеку статистической значимости не обнаружено,  поскольку конверсия влияет на выручку, а группа B лучше группы A по конверсии. "
   ]
  },
  {
   "cell_type": "markdown",
   "metadata": {},
   "source": [
    "# Общий вывод:"
   ]
  },
  {
   "cell_type": "markdown",
   "metadata": {},
   "source": [
    "- Проведена приоритезация гипотез\n",
    "- Изучены кумулятивные метрики\n",
    "- Посчитана статистическая значимость различий в конверсии между группами по «сырым» данным. (Анализ сырых данных показывает,что различия в конверсии между группами не значимы. Относительный прирост конверсии группы B к конверсии группы А равен 13.8%.)\n",
    "- Посчитана статистическая значимость различий в среднем чеке заказа между группами по «сырым» данным. (различия в среднем чеке заказа между группами по «сырым» данным статистически не значимы. Относительное различие среднего чека между группами 2.6%.)\n",
    "- Посчитана статистическая значимость различий в конверсии между группами по «очищенным» данным. (Сегмент B лучше сегмента А. Очищенная Конверсия группы В больше чем конверсия группы А на 17.3%)\n",
    "- Посчитана статистическая значимость различий в среднем чеке заказа между группами по «очищенным» данным.(Различия в среднем чеке заказа между группами по «очищенным» данным статистически не значимы, Относительный прирост среднего чека группы B к среднему чеку группы А после очистки данных: -2.0%)"
   ]
  }
 ],
 "metadata": {
  "ExecuteTimeLog": [
   {
    "duration": 1351,
    "start_time": "2022-05-18T11:27:52.147Z"
   },
   {
    "duration": 86,
    "start_time": "2022-05-18T11:28:04.861Z"
   },
   {
    "duration": 30,
    "start_time": "2022-05-18T11:28:11.716Z"
   },
   {
    "duration": 31,
    "start_time": "2022-05-18T11:28:16.368Z"
   },
   {
    "duration": 29,
    "start_time": "2022-05-18T11:28:22.070Z"
   },
   {
    "duration": 30,
    "start_time": "2022-05-18T11:28:32.352Z"
   },
   {
    "duration": 33,
    "start_time": "2022-05-18T11:28:35.692Z"
   },
   {
    "duration": 29,
    "start_time": "2022-05-18T11:28:39.569Z"
   },
   {
    "duration": 29,
    "start_time": "2022-05-18T11:28:49.067Z"
   },
   {
    "duration": 29,
    "start_time": "2022-05-18T11:29:05.163Z"
   },
   {
    "duration": 12,
    "start_time": "2022-05-18T11:29:28.735Z"
   },
   {
    "duration": 1013,
    "start_time": "2022-05-18T11:31:18.650Z"
   },
   {
    "duration": 32,
    "start_time": "2022-05-18T11:31:19.665Z"
   },
   {
    "duration": 10,
    "start_time": "2022-05-18T11:31:19.698Z"
   },
   {
    "duration": 3,
    "start_time": "2022-05-18T11:31:43.501Z"
   },
   {
    "duration": 8,
    "start_time": "2022-05-18T11:31:56.557Z"
   },
   {
    "duration": 3,
    "start_time": "2022-05-18T11:32:08.548Z"
   },
   {
    "duration": 12,
    "start_time": "2022-05-18T11:32:57.588Z"
   },
   {
    "duration": 13,
    "start_time": "2022-05-18T11:33:38.679Z"
   },
   {
    "duration": 14,
    "start_time": "2022-05-18T11:33:44.753Z"
   },
   {
    "duration": 11,
    "start_time": "2022-05-18T11:37:13.586Z"
   },
   {
    "duration": 10,
    "start_time": "2022-05-18T11:37:36.617Z"
   },
   {
    "duration": 9,
    "start_time": "2022-05-18T11:41:05.343Z"
   },
   {
    "duration": 3,
    "start_time": "2022-05-18T11:45:16.267Z"
   },
   {
    "duration": 97,
    "start_time": "2022-05-18T11:45:17.843Z"
   },
   {
    "duration": 6,
    "start_time": "2022-05-18T11:45:24.300Z"
   },
   {
    "duration": 29,
    "start_time": "2022-05-18T11:46:05.075Z"
   },
   {
    "duration": 10,
    "start_time": "2022-05-18T11:46:08.153Z"
   },
   {
    "duration": 6,
    "start_time": "2022-05-18T11:46:11.823Z"
   },
   {
    "duration": 3,
    "start_time": "2022-05-18T11:46:17.555Z"
   },
   {
    "duration": 11,
    "start_time": "2022-05-18T11:46:29.697Z"
   },
   {
    "duration": 9,
    "start_time": "2022-05-18T11:46:44.669Z"
   },
   {
    "duration": 10,
    "start_time": "2022-05-18T11:46:49.124Z"
   },
   {
    "duration": 155,
    "start_time": "2022-05-18T11:54:14.281Z"
   },
   {
    "duration": 8,
    "start_time": "2022-05-18T11:54:28.429Z"
   },
   {
    "duration": 10,
    "start_time": "2022-05-18T11:54:31.584Z"
   },
   {
    "duration": 12,
    "start_time": "2022-05-18T11:55:41.044Z"
   },
   {
    "duration": 12,
    "start_time": "2022-05-18T11:55:47.137Z"
   },
   {
    "duration": 6,
    "start_time": "2022-05-18T11:56:38.073Z"
   },
   {
    "duration": 12,
    "start_time": "2022-05-18T11:56:38.689Z"
   },
   {
    "duration": 6,
    "start_time": "2022-05-18T12:07:27.296Z"
   },
   {
    "duration": 3,
    "start_time": "2022-05-18T12:08:37.781Z"
   },
   {
    "duration": 8,
    "start_time": "2022-05-18T12:08:39.867Z"
   },
   {
    "duration": 4,
    "start_time": "2022-05-18T12:08:45.502Z"
   },
   {
    "duration": 8,
    "start_time": "2022-05-18T12:08:46.134Z"
   },
   {
    "duration": 4,
    "start_time": "2022-05-18T12:09:25.765Z"
   },
   {
    "duration": 8,
    "start_time": "2022-05-18T12:09:26.211Z"
   },
   {
    "duration": 4,
    "start_time": "2022-05-18T12:09:32.953Z"
   },
   {
    "duration": 11,
    "start_time": "2022-05-18T12:09:33.385Z"
   },
   {
    "duration": 1156,
    "start_time": "2022-05-18T12:09:48.966Z"
   },
   {
    "duration": 35,
    "start_time": "2022-05-18T12:09:50.124Z"
   },
   {
    "duration": 11,
    "start_time": "2022-05-18T12:09:50.161Z"
   },
   {
    "duration": 10,
    "start_time": "2022-05-18T12:09:50.174Z"
   },
   {
    "duration": 7,
    "start_time": "2022-05-18T12:09:50.185Z"
   },
   {
    "duration": 28,
    "start_time": "2022-05-18T12:09:50.193Z"
   },
   {
    "duration": 18,
    "start_time": "2022-05-18T12:09:50.223Z"
   },
   {
    "duration": 13,
    "start_time": "2022-05-18T12:09:50.243Z"
   },
   {
    "duration": 54,
    "start_time": "2022-05-18T12:09:50.258Z"
   },
   {
    "duration": 8,
    "start_time": "2022-05-18T12:09:50.315Z"
   },
   {
    "duration": 14,
    "start_time": "2022-05-18T12:09:50.324Z"
   },
   {
    "duration": 9,
    "start_time": "2022-05-18T12:09:50.340Z"
   },
   {
    "duration": 10,
    "start_time": "2022-05-18T12:09:50.351Z"
   },
   {
    "duration": 13,
    "start_time": "2022-05-18T12:09:50.362Z"
   },
   {
    "duration": 3,
    "start_time": "2022-05-18T12:10:50.087Z"
   },
   {
    "duration": 9,
    "start_time": "2022-05-18T12:10:50.388Z"
   },
   {
    "duration": 3,
    "start_time": "2022-05-18T12:11:03.903Z"
   },
   {
    "duration": 8,
    "start_time": "2022-05-18T12:11:04.659Z"
   },
   {
    "duration": 4,
    "start_time": "2022-05-18T12:11:20.277Z"
   },
   {
    "duration": 8,
    "start_time": "2022-05-18T12:11:22.560Z"
   },
   {
    "duration": 1100,
    "start_time": "2022-05-18T12:11:34.005Z"
   },
   {
    "duration": 34,
    "start_time": "2022-05-18T12:11:35.107Z"
   },
   {
    "duration": 11,
    "start_time": "2022-05-18T12:11:35.146Z"
   },
   {
    "duration": 9,
    "start_time": "2022-05-18T12:11:35.158Z"
   },
   {
    "duration": 8,
    "start_time": "2022-05-18T12:11:35.168Z"
   },
   {
    "duration": 18,
    "start_time": "2022-05-18T12:11:35.177Z"
   },
   {
    "duration": 12,
    "start_time": "2022-05-18T12:11:35.197Z"
   },
   {
    "duration": 11,
    "start_time": "2022-05-18T12:11:35.210Z"
   },
   {
    "duration": 47,
    "start_time": "2022-05-18T12:11:35.223Z"
   },
   {
    "duration": 8,
    "start_time": "2022-05-18T12:11:35.272Z"
   },
   {
    "duration": 12,
    "start_time": "2022-05-18T12:11:35.282Z"
   },
   {
    "duration": 12,
    "start_time": "2022-05-18T12:11:35.295Z"
   },
   {
    "duration": 5,
    "start_time": "2022-05-18T12:11:35.309Z"
   },
   {
    "duration": 15,
    "start_time": "2022-05-18T12:11:35.316Z"
   },
   {
    "duration": 7,
    "start_time": "2022-05-18T12:13:39.637Z"
   },
   {
    "duration": 8,
    "start_time": "2022-05-18T12:14:16.797Z"
   },
   {
    "duration": 6,
    "start_time": "2022-05-18T12:14:46.731Z"
   },
   {
    "duration": 8,
    "start_time": "2022-05-18T12:16:29.193Z"
   },
   {
    "duration": 6,
    "start_time": "2022-05-18T12:17:08.345Z"
   },
   {
    "duration": 9,
    "start_time": "2022-05-18T12:17:19.336Z"
   },
   {
    "duration": 8,
    "start_time": "2022-05-18T12:19:10.428Z"
   },
   {
    "duration": 6,
    "start_time": "2022-05-18T12:19:40.323Z"
   },
   {
    "duration": 6,
    "start_time": "2022-05-18T12:20:11.023Z"
   },
   {
    "duration": 9,
    "start_time": "2022-05-18T12:20:25.505Z"
   },
   {
    "duration": 10,
    "start_time": "2022-05-18T12:20:49.612Z"
   },
   {
    "duration": 98,
    "start_time": "2022-05-18T12:20:59.769Z"
   },
   {
    "duration": 75,
    "start_time": "2022-05-18T12:21:01.590Z"
   },
   {
    "duration": 10,
    "start_time": "2022-05-18T12:21:04.320Z"
   },
   {
    "duration": 14,
    "start_time": "2022-05-18T12:21:26.333Z"
   },
   {
    "duration": 12,
    "start_time": "2022-05-18T12:22:00.856Z"
   },
   {
    "duration": 3,
    "start_time": "2022-05-18T12:22:44.794Z"
   },
   {
    "duration": 11,
    "start_time": "2022-05-18T12:22:46.964Z"
   },
   {
    "duration": 13,
    "start_time": "2022-05-18T12:22:52.221Z"
   },
   {
    "duration": 4,
    "start_time": "2022-05-18T12:23:23.846Z"
   },
   {
    "duration": 11,
    "start_time": "2022-05-18T12:23:29.598Z"
   },
   {
    "duration": 5,
    "start_time": "2022-05-18T12:23:44.627Z"
   },
   {
    "duration": 9,
    "start_time": "2022-05-18T12:23:52.148Z"
   },
   {
    "duration": 8,
    "start_time": "2022-05-18T12:24:40.148Z"
   },
   {
    "duration": 6,
    "start_time": "2022-05-18T12:24:57.853Z"
   },
   {
    "duration": 6,
    "start_time": "2022-05-18T12:25:19.326Z"
   },
   {
    "duration": 8,
    "start_time": "2022-05-18T12:25:26.507Z"
   },
   {
    "duration": 8,
    "start_time": "2022-05-18T12:27:37.619Z"
   },
   {
    "duration": 10,
    "start_time": "2022-05-18T12:27:47.826Z"
   },
   {
    "duration": 11,
    "start_time": "2022-05-18T12:28:03.899Z"
   },
   {
    "duration": 273,
    "start_time": "2022-05-18T12:28:40.299Z"
   },
   {
    "duration": 10,
    "start_time": "2022-05-18T12:59:59.394Z"
   },
   {
    "duration": 8,
    "start_time": "2022-05-18T13:00:47.994Z"
   },
   {
    "duration": 13,
    "start_time": "2022-05-18T13:01:21.394Z"
   },
   {
    "duration": 9,
    "start_time": "2022-05-18T13:01:41.840Z"
   },
   {
    "duration": 38,
    "start_time": "2022-05-18T13:03:34.020Z"
   },
   {
    "duration": 189,
    "start_time": "2022-05-18T13:03:47.801Z"
   },
   {
    "duration": 205,
    "start_time": "2022-05-18T13:04:30.009Z"
   },
   {
    "duration": 10,
    "start_time": "2022-05-18T13:04:54.016Z"
   },
   {
    "duration": 1463,
    "start_time": "2022-05-18T13:05:01.866Z"
   },
   {
    "duration": 0,
    "start_time": "2022-05-18T13:05:03.331Z"
   },
   {
    "duration": 1109,
    "start_time": "2022-05-18T13:05:20.833Z"
   },
   {
    "duration": 54,
    "start_time": "2022-05-18T13:05:25.825Z"
   },
   {
    "duration": 63,
    "start_time": "2022-05-18T13:05:35.694Z"
   },
   {
    "duration": 37,
    "start_time": "2022-05-18T13:05:38.129Z"
   },
   {
    "duration": 70,
    "start_time": "2022-05-18T13:05:41.353Z"
   },
   {
    "duration": 43,
    "start_time": "2022-05-18T13:05:44.004Z"
   },
   {
    "duration": 48,
    "start_time": "2022-05-18T13:05:45.860Z"
   },
   {
    "duration": 1482,
    "start_time": "2022-05-18T13:06:19.009Z"
   },
   {
    "duration": 0,
    "start_time": "2022-05-18T13:06:20.493Z"
   },
   {
    "duration": 76,
    "start_time": "2022-05-18T13:06:24.241Z"
   },
   {
    "duration": 201,
    "start_time": "2022-05-18T13:06:28.153Z"
   },
   {
    "duration": 8,
    "start_time": "2022-05-18T13:06:30.027Z"
   },
   {
    "duration": 8,
    "start_time": "2022-05-18T13:07:05.208Z"
   },
   {
    "duration": 126,
    "start_time": "2022-05-18T13:08:16.304Z"
   },
   {
    "duration": 8,
    "start_time": "2022-05-18T13:08:26.437Z"
   },
   {
    "duration": 193,
    "start_time": "2022-05-18T13:11:16.810Z"
   },
   {
    "duration": 8,
    "start_time": "2022-05-18T13:11:17.219Z"
   },
   {
    "duration": 14,
    "start_time": "2022-05-18T13:11:17.890Z"
   },
   {
    "duration": 121,
    "start_time": "2022-05-18T13:11:18.255Z"
   },
   {
    "duration": 8,
    "start_time": "2022-05-18T13:11:18.928Z"
   },
   {
    "duration": 11,
    "start_time": "2022-05-18T13:11:19.659Z"
   },
   {
    "duration": 8,
    "start_time": "2022-05-18T13:11:41.930Z"
   },
   {
    "duration": 11,
    "start_time": "2022-05-18T13:11:55.002Z"
   },
   {
    "duration": 9,
    "start_time": "2022-05-18T13:13:04.642Z"
   },
   {
    "duration": 9,
    "start_time": "2022-05-18T13:13:26.513Z"
   },
   {
    "duration": 9,
    "start_time": "2022-05-18T13:14:23.618Z"
   },
   {
    "duration": 742,
    "start_time": "2022-05-18T13:15:35.438Z"
   },
   {
    "duration": 1133,
    "start_time": "2022-05-18T13:15:58.442Z"
   },
   {
    "duration": 41,
    "start_time": "2022-05-18T13:15:59.577Z"
   },
   {
    "duration": 11,
    "start_time": "2022-05-18T13:15:59.620Z"
   },
   {
    "duration": 6,
    "start_time": "2022-05-18T13:15:59.634Z"
   },
   {
    "duration": 8,
    "start_time": "2022-05-18T13:15:59.641Z"
   },
   {
    "duration": 15,
    "start_time": "2022-05-18T13:15:59.651Z"
   },
   {
    "duration": 31,
    "start_time": "2022-05-18T13:15:59.668Z"
   },
   {
    "duration": 25,
    "start_time": "2022-05-18T13:15:59.704Z"
   },
   {
    "duration": 52,
    "start_time": "2022-05-18T13:15:59.731Z"
   },
   {
    "duration": 8,
    "start_time": "2022-05-18T13:15:59.785Z"
   },
   {
    "duration": 27,
    "start_time": "2022-05-18T13:15:59.799Z"
   },
   {
    "duration": 8,
    "start_time": "2022-05-18T13:15:59.828Z"
   },
   {
    "duration": 6,
    "start_time": "2022-05-18T13:15:59.837Z"
   },
   {
    "duration": 7,
    "start_time": "2022-05-18T13:15:59.845Z"
   },
   {
    "duration": 6,
    "start_time": "2022-05-18T13:15:59.854Z"
   },
   {
    "duration": 6,
    "start_time": "2022-05-18T13:15:59.861Z"
   },
   {
    "duration": 10,
    "start_time": "2022-05-18T13:15:59.868Z"
   },
   {
    "duration": 9,
    "start_time": "2022-05-18T13:15:59.896Z"
   },
   {
    "duration": 11,
    "start_time": "2022-05-18T13:15:59.908Z"
   },
   {
    "duration": 11,
    "start_time": "2022-05-18T13:15:59.921Z"
   },
   {
    "duration": 9,
    "start_time": "2022-05-18T13:15:59.933Z"
   },
   {
    "duration": 10,
    "start_time": "2022-05-18T13:15:59.944Z"
   },
   {
    "duration": 12,
    "start_time": "2022-05-18T13:15:59.955Z"
   },
   {
    "duration": 43,
    "start_time": "2022-05-18T13:15:59.968Z"
   },
   {
    "duration": 13,
    "start_time": "2022-05-18T13:16:00.013Z"
   },
   {
    "duration": 11,
    "start_time": "2022-05-18T13:16:00.028Z"
   },
   {
    "duration": 13,
    "start_time": "2022-05-18T13:16:00.040Z"
   },
   {
    "duration": 11,
    "start_time": "2022-05-18T13:16:00.056Z"
   },
   {
    "duration": 10,
    "start_time": "2022-05-18T13:16:00.068Z"
   },
   {
    "duration": 19,
    "start_time": "2022-05-18T13:16:00.080Z"
   },
   {
    "duration": 20,
    "start_time": "2022-05-18T13:16:00.116Z"
   },
   {
    "duration": 12,
    "start_time": "2022-05-18T13:16:00.138Z"
   },
   {
    "duration": 218,
    "start_time": "2022-05-18T13:16:00.152Z"
   },
   {
    "duration": 8,
    "start_time": "2022-05-18T13:16:00.372Z"
   },
   {
    "duration": 20,
    "start_time": "2022-05-18T13:16:00.382Z"
   },
   {
    "duration": 153,
    "start_time": "2022-05-18T13:16:00.407Z"
   },
   {
    "duration": 60,
    "start_time": "2022-05-18T13:16:00.561Z"
   },
   {
    "duration": 41,
    "start_time": "2022-05-18T13:16:00.623Z"
   },
   {
    "duration": 35,
    "start_time": "2022-05-18T13:16:00.665Z"
   },
   {
    "duration": 37,
    "start_time": "2022-05-18T13:16:00.702Z"
   },
   {
    "duration": 46,
    "start_time": "2022-05-18T13:16:00.741Z"
   },
   {
    "duration": 255,
    "start_time": "2022-05-18T13:16:00.788Z"
   },
   {
    "duration": 300,
    "start_time": "2022-05-18T13:16:50.756Z"
   },
   {
    "duration": 207,
    "start_time": "2022-05-18T13:17:22.242Z"
   },
   {
    "duration": 202,
    "start_time": "2022-05-18T13:17:30.633Z"
   },
   {
    "duration": 207,
    "start_time": "2022-05-18T13:17:41.705Z"
   },
   {
    "duration": 241,
    "start_time": "2022-05-18T13:17:50.551Z"
   },
   {
    "duration": 210,
    "start_time": "2022-05-18T13:17:57.635Z"
   },
   {
    "duration": 201,
    "start_time": "2022-05-18T13:19:14.932Z"
   },
   {
    "duration": 233,
    "start_time": "2022-05-18T13:24:05.317Z"
   },
   {
    "duration": 6,
    "start_time": "2022-05-18T13:31:02.833Z"
   },
   {
    "duration": 10,
    "start_time": "2022-05-18T13:31:14.552Z"
   },
   {
    "duration": 370,
    "start_time": "2022-05-18T13:32:10.851Z"
   },
   {
    "duration": 186,
    "start_time": "2022-05-18T13:32:19.345Z"
   },
   {
    "duration": 215,
    "start_time": "2022-05-18T13:32:43.619Z"
   },
   {
    "duration": 196,
    "start_time": "2022-05-18T13:33:09.110Z"
   },
   {
    "duration": 25,
    "start_time": "2022-05-18T13:35:58.095Z"
   },
   {
    "duration": 11,
    "start_time": "2022-05-18T13:36:06.345Z"
   },
   {
    "duration": 5,
    "start_time": "2022-05-18T13:38:41.864Z"
   },
   {
    "duration": 319,
    "start_time": "2022-05-18T13:39:36.443Z"
   },
   {
    "duration": 1373,
    "start_time": "2022-05-18T13:40:55.253Z"
   },
   {
    "duration": 210,
    "start_time": "2022-05-18T13:41:09.320Z"
   },
   {
    "duration": 11,
    "start_time": "2022-05-18T14:04:44.355Z"
   },
   {
    "duration": 13,
    "start_time": "2022-05-18T14:05:11.741Z"
   },
   {
    "duration": 12,
    "start_time": "2022-05-18T14:05:13.442Z"
   },
   {
    "duration": 15,
    "start_time": "2022-05-18T14:05:32.649Z"
   },
   {
    "duration": 16,
    "start_time": "2022-05-18T14:05:39.109Z"
   },
   {
    "duration": 264,
    "start_time": "2022-05-18T14:06:29.210Z"
   },
   {
    "duration": 262,
    "start_time": "2022-05-18T14:06:32.155Z"
   },
   {
    "duration": 224,
    "start_time": "2022-05-18T14:07:06.631Z"
   },
   {
    "duration": 234,
    "start_time": "2022-05-18T14:07:14.012Z"
   },
   {
    "duration": 337,
    "start_time": "2022-05-18T14:07:18.992Z"
   },
   {
    "duration": 215,
    "start_time": "2022-05-18T14:07:38.951Z"
   },
   {
    "duration": 231,
    "start_time": "2022-05-18T14:07:46.195Z"
   },
   {
    "duration": 120,
    "start_time": "2022-05-18T14:14:04.514Z"
   },
   {
    "duration": 160,
    "start_time": "2022-05-18T14:14:13.601Z"
   },
   {
    "duration": 129,
    "start_time": "2022-05-18T14:15:01.014Z"
   },
   {
    "duration": 138,
    "start_time": "2022-05-18T14:15:47.628Z"
   },
   {
    "duration": 10,
    "start_time": "2022-05-18T14:18:31.037Z"
   },
   {
    "duration": 6,
    "start_time": "2022-05-18T14:18:40.890Z"
   },
   {
    "duration": 10,
    "start_time": "2022-05-18T14:20:29.013Z"
   },
   {
    "duration": 14,
    "start_time": "2022-05-18T14:20:41.710Z"
   },
   {
    "duration": 7,
    "start_time": "2022-05-18T14:20:53.090Z"
   },
   {
    "duration": 143,
    "start_time": "2022-05-18T14:22:41.244Z"
   },
   {
    "duration": 154,
    "start_time": "2022-05-18T14:23:14.391Z"
   },
   {
    "duration": 252,
    "start_time": "2022-05-18T14:23:17.591Z"
   },
   {
    "duration": 183,
    "start_time": "2022-05-18T14:23:37.969Z"
   },
   {
    "duration": 167,
    "start_time": "2022-05-18T14:23:50.043Z"
   },
   {
    "duration": 151,
    "start_time": "2022-05-18T14:23:56.547Z"
   },
   {
    "duration": 134,
    "start_time": "2022-05-18T14:24:09.444Z"
   },
   {
    "duration": 184,
    "start_time": "2022-05-18T14:24:17.228Z"
   },
   {
    "duration": 135,
    "start_time": "2022-05-18T14:24:21.956Z"
   },
   {
    "duration": 5,
    "start_time": "2022-05-18T14:25:20.743Z"
   },
   {
    "duration": 13,
    "start_time": "2022-05-18T14:26:33.244Z"
   },
   {
    "duration": 9,
    "start_time": "2022-05-18T14:27:38.319Z"
   },
   {
    "duration": 21,
    "start_time": "2022-05-18T14:30:25.842Z"
   },
   {
    "duration": 51,
    "start_time": "2022-05-18T14:31:32.015Z"
   },
   {
    "duration": 23,
    "start_time": "2022-05-18T14:31:41.940Z"
   },
   {
    "duration": 51,
    "start_time": "2022-05-18T14:31:48.742Z"
   },
   {
    "duration": 10,
    "start_time": "2022-05-18T14:32:59.846Z"
   },
   {
    "duration": 9,
    "start_time": "2022-05-18T14:33:05.879Z"
   },
   {
    "duration": 50,
    "start_time": "2022-05-18T14:33:28.744Z"
   },
   {
    "duration": 10,
    "start_time": "2022-05-18T14:34:18.904Z"
   },
   {
    "duration": 7,
    "start_time": "2022-05-18T14:34:38.035Z"
   },
   {
    "duration": 8,
    "start_time": "2022-05-18T14:34:49.431Z"
   },
   {
    "duration": 60,
    "start_time": "2022-05-18T14:35:24.759Z"
   },
   {
    "duration": 21,
    "start_time": "2022-05-18T14:38:56.938Z"
   },
   {
    "duration": 59,
    "start_time": "2022-05-18T14:41:30.822Z"
   },
   {
    "duration": 18,
    "start_time": "2022-05-18T14:42:29.266Z"
   },
   {
    "duration": 55,
    "start_time": "2022-05-18T14:43:18.800Z"
   },
   {
    "duration": 28,
    "start_time": "2022-05-18T14:45:12.420Z"
   },
   {
    "duration": 1456,
    "start_time": "2022-05-19T12:04:34.857Z"
   },
   {
    "duration": 69,
    "start_time": "2022-05-19T12:04:36.316Z"
   },
   {
    "duration": 17,
    "start_time": "2022-05-19T12:04:36.387Z"
   },
   {
    "duration": 6,
    "start_time": "2022-05-19T12:04:36.407Z"
   },
   {
    "duration": 11,
    "start_time": "2022-05-19T12:04:36.415Z"
   },
   {
    "duration": 42,
    "start_time": "2022-05-19T12:04:36.428Z"
   },
   {
    "duration": 18,
    "start_time": "2022-05-19T12:04:36.476Z"
   },
   {
    "duration": 31,
    "start_time": "2022-05-19T12:04:36.496Z"
   },
   {
    "duration": 98,
    "start_time": "2022-05-19T12:04:36.528Z"
   },
   {
    "duration": 8,
    "start_time": "2022-05-19T12:04:36.629Z"
   },
   {
    "duration": 12,
    "start_time": "2022-05-19T12:04:36.639Z"
   },
   {
    "duration": 13,
    "start_time": "2022-05-19T12:04:36.653Z"
   },
   {
    "duration": 20,
    "start_time": "2022-05-19T12:04:36.672Z"
   },
   {
    "duration": 10,
    "start_time": "2022-05-19T12:04:36.694Z"
   },
   {
    "duration": 6,
    "start_time": "2022-05-19T12:04:36.705Z"
   },
   {
    "duration": 5,
    "start_time": "2022-05-19T12:04:36.713Z"
   },
   {
    "duration": 10,
    "start_time": "2022-05-19T12:04:36.720Z"
   },
   {
    "duration": 10,
    "start_time": "2022-05-19T12:04:36.731Z"
   },
   {
    "duration": 37,
    "start_time": "2022-05-19T12:04:36.743Z"
   },
   {
    "duration": 14,
    "start_time": "2022-05-19T12:04:36.783Z"
   },
   {
    "duration": 10,
    "start_time": "2022-05-19T12:04:36.799Z"
   },
   {
    "duration": 20,
    "start_time": "2022-05-19T12:04:36.811Z"
   },
   {
    "duration": 11,
    "start_time": "2022-05-19T12:04:36.833Z"
   },
   {
    "duration": 26,
    "start_time": "2022-05-19T12:04:36.846Z"
   },
   {
    "duration": 36,
    "start_time": "2022-05-19T12:04:36.873Z"
   },
   {
    "duration": 14,
    "start_time": "2022-05-19T12:04:36.912Z"
   },
   {
    "duration": 15,
    "start_time": "2022-05-19T12:04:36.928Z"
   },
   {
    "duration": 10,
    "start_time": "2022-05-19T12:04:36.948Z"
   },
   {
    "duration": 34,
    "start_time": "2022-05-19T12:04:36.960Z"
   },
   {
    "duration": 8,
    "start_time": "2022-05-19T12:04:36.996Z"
   },
   {
    "duration": 13,
    "start_time": "2022-05-19T12:04:37.005Z"
   },
   {
    "duration": 19,
    "start_time": "2022-05-19T12:04:37.023Z"
   },
   {
    "duration": 230,
    "start_time": "2022-05-19T12:04:37.044Z"
   },
   {
    "duration": 9,
    "start_time": "2022-05-19T12:04:37.276Z"
   },
   {
    "duration": 13,
    "start_time": "2022-05-19T12:04:37.287Z"
   },
   {
    "duration": 153,
    "start_time": "2022-05-19T12:04:37.302Z"
   },
   {
    "duration": 16,
    "start_time": "2022-05-19T12:04:37.457Z"
   },
   {
    "duration": 8,
    "start_time": "2022-05-19T12:04:37.475Z"
   },
   {
    "duration": 15,
    "start_time": "2022-05-19T12:04:37.485Z"
   },
   {
    "duration": 12,
    "start_time": "2022-05-19T12:04:37.502Z"
   },
   {
    "duration": 11,
    "start_time": "2022-05-19T12:04:37.516Z"
   },
   {
    "duration": 424,
    "start_time": "2022-05-19T12:04:37.528Z"
   },
   {
    "duration": 343,
    "start_time": "2022-05-19T12:04:37.954Z"
   },
   {
    "duration": 6,
    "start_time": "2022-05-19T12:04:38.299Z"
   },
   {
    "duration": 13,
    "start_time": "2022-05-19T12:04:38.307Z"
   },
   {
    "duration": 227,
    "start_time": "2022-05-19T12:04:38.322Z"
   },
   {
    "duration": 34,
    "start_time": "2022-05-19T12:04:38.550Z"
   },
   {
    "duration": 8,
    "start_time": "2022-05-19T12:04:38.586Z"
   },
   {
    "duration": 238,
    "start_time": "2022-05-19T12:04:38.595Z"
   },
   {
    "duration": 17,
    "start_time": "2022-05-19T12:04:38.835Z"
   },
   {
    "duration": 340,
    "start_time": "2022-05-19T12:04:38.854Z"
   },
   {
    "duration": 198,
    "start_time": "2022-05-19T12:04:39.196Z"
   },
   {
    "duration": 197,
    "start_time": "2022-05-19T12:04:39.396Z"
   },
   {
    "duration": 6,
    "start_time": "2022-05-19T12:04:39.595Z"
   },
   {
    "duration": 186,
    "start_time": "2022-05-19T12:04:39.603Z"
   },
   {
    "duration": 6,
    "start_time": "2022-05-19T12:04:39.791Z"
   },
   {
    "duration": 13,
    "start_time": "2022-05-19T12:04:39.799Z"
   },
   {
    "duration": 93,
    "start_time": "2022-05-19T12:04:39.814Z"
   },
   {
    "duration": 14,
    "start_time": "2022-05-19T12:04:39.909Z"
   },
   {
    "duration": 71,
    "start_time": "2022-05-19T12:04:39.924Z"
   },
   {
    "duration": 21,
    "start_time": "2022-05-19T12:04:39.997Z"
   },
   {
    "duration": 84,
    "start_time": "2022-05-19T12:04:40.021Z"
   },
   {
    "duration": 24,
    "start_time": "2022-05-19T12:04:40.107Z"
   },
   {
    "duration": 89,
    "start_time": "2022-05-19T12:04:40.133Z"
   },
   {
    "duration": 58,
    "start_time": "2022-05-19T12:04:40.224Z"
   },
   {
    "duration": 60,
    "start_time": "2022-05-19T12:08:15.594Z"
   },
   {
    "duration": 65,
    "start_time": "2022-05-19T12:08:26.321Z"
   },
   {
    "duration": 63,
    "start_time": "2022-05-19T12:08:48.168Z"
   },
   {
    "duration": 50,
    "start_time": "2022-05-19T12:08:49.031Z"
   },
   {
    "duration": 122,
    "start_time": "2022-05-19T12:11:35.176Z"
   },
   {
    "duration": 76,
    "start_time": "2022-05-19T12:11:46.518Z"
   },
   {
    "duration": 101,
    "start_time": "2022-05-19T12:11:50.902Z"
   },
   {
    "duration": 75,
    "start_time": "2022-05-19T12:12:46.980Z"
   },
   {
    "duration": 76,
    "start_time": "2022-05-19T12:12:59.878Z"
   },
   {
    "duration": 91,
    "start_time": "2022-05-19T12:13:04.501Z"
   },
   {
    "duration": 93,
    "start_time": "2022-05-19T12:13:19.745Z"
   },
   {
    "duration": 96,
    "start_time": "2022-05-19T12:13:33.212Z"
   },
   {
    "duration": 84,
    "start_time": "2022-05-19T12:14:15.228Z"
   },
   {
    "duration": 494,
    "start_time": "2022-05-19T12:20:35.307Z"
   },
   {
    "duration": 7,
    "start_time": "2022-05-19T12:20:41.408Z"
   },
   {
    "duration": 6,
    "start_time": "2022-05-19T12:21:05.407Z"
   },
   {
    "duration": 33,
    "start_time": "2022-05-19T12:26:00.789Z"
   },
   {
    "duration": 39,
    "start_time": "2022-05-19T12:29:01.646Z"
   },
   {
    "duration": 11,
    "start_time": "2022-05-19T12:30:34.605Z"
   },
   {
    "duration": 1218,
    "start_time": "2022-05-19T12:30:39.163Z"
   },
   {
    "duration": 23,
    "start_time": "2022-05-19T12:30:40.384Z"
   },
   {
    "duration": 13,
    "start_time": "2022-05-19T12:30:40.409Z"
   },
   {
    "duration": 8,
    "start_time": "2022-05-19T12:30:40.424Z"
   },
   {
    "duration": 6,
    "start_time": "2022-05-19T12:30:40.434Z"
   },
   {
    "duration": 35,
    "start_time": "2022-05-19T12:30:40.442Z"
   },
   {
    "duration": 16,
    "start_time": "2022-05-19T12:30:40.479Z"
   },
   {
    "duration": 19,
    "start_time": "2022-05-19T12:30:40.497Z"
   },
   {
    "duration": 40,
    "start_time": "2022-05-19T12:30:40.518Z"
   },
   {
    "duration": 31,
    "start_time": "2022-05-19T12:30:40.561Z"
   },
   {
    "duration": 15,
    "start_time": "2022-05-19T12:30:40.593Z"
   },
   {
    "duration": 10,
    "start_time": "2022-05-19T12:30:40.610Z"
   },
   {
    "duration": 7,
    "start_time": "2022-05-19T12:30:40.622Z"
   },
   {
    "duration": 10,
    "start_time": "2022-05-19T12:30:40.631Z"
   },
   {
    "duration": 10,
    "start_time": "2022-05-19T12:30:40.642Z"
   },
   {
    "duration": 19,
    "start_time": "2022-05-19T12:30:40.654Z"
   },
   {
    "duration": 8,
    "start_time": "2022-05-19T12:30:40.675Z"
   },
   {
    "duration": 10,
    "start_time": "2022-05-19T12:30:40.685Z"
   },
   {
    "duration": 12,
    "start_time": "2022-05-19T12:30:40.696Z"
   },
   {
    "duration": 20,
    "start_time": "2022-05-19T12:30:40.710Z"
   },
   {
    "duration": 8,
    "start_time": "2022-05-19T12:30:40.732Z"
   },
   {
    "duration": 35,
    "start_time": "2022-05-19T12:30:40.742Z"
   },
   {
    "duration": 17,
    "start_time": "2022-05-19T12:30:40.781Z"
   },
   {
    "duration": 6,
    "start_time": "2022-05-19T12:30:40.799Z"
   },
   {
    "duration": 13,
    "start_time": "2022-05-19T12:30:40.806Z"
   },
   {
    "duration": 9,
    "start_time": "2022-05-19T12:30:40.820Z"
   },
   {
    "duration": 12,
    "start_time": "2022-05-19T12:30:40.830Z"
   },
   {
    "duration": 10,
    "start_time": "2022-05-19T12:30:40.867Z"
   },
   {
    "duration": 14,
    "start_time": "2022-05-19T12:30:40.879Z"
   },
   {
    "duration": 9,
    "start_time": "2022-05-19T12:30:40.895Z"
   },
   {
    "duration": 13,
    "start_time": "2022-05-19T12:30:40.905Z"
   },
   {
    "duration": 11,
    "start_time": "2022-05-19T12:30:40.920Z"
   },
   {
    "duration": 242,
    "start_time": "2022-05-19T12:30:40.933Z"
   },
   {
    "duration": 9,
    "start_time": "2022-05-19T12:30:41.177Z"
   },
   {
    "duration": 11,
    "start_time": "2022-05-19T12:30:41.188Z"
   },
   {
    "duration": 136,
    "start_time": "2022-05-19T12:30:41.201Z"
   },
   {
    "duration": 8,
    "start_time": "2022-05-19T12:30:41.338Z"
   },
   {
    "duration": 29,
    "start_time": "2022-05-19T12:30:41.347Z"
   },
   {
    "duration": 10,
    "start_time": "2022-05-19T12:30:41.378Z"
   },
   {
    "duration": 21,
    "start_time": "2022-05-19T12:30:41.390Z"
   },
   {
    "duration": 13,
    "start_time": "2022-05-19T12:30:41.413Z"
   },
   {
    "duration": 357,
    "start_time": "2022-05-19T12:30:41.427Z"
   },
   {
    "duration": 298,
    "start_time": "2022-05-19T12:30:41.785Z"
   },
   {
    "duration": 7,
    "start_time": "2022-05-19T12:30:42.084Z"
   },
   {
    "duration": 30,
    "start_time": "2022-05-19T12:30:42.092Z"
   },
   {
    "duration": 201,
    "start_time": "2022-05-19T12:30:42.124Z"
   },
   {
    "duration": 13,
    "start_time": "2022-05-19T12:30:42.327Z"
   },
   {
    "duration": 25,
    "start_time": "2022-05-19T12:30:42.341Z"
   },
   {
    "duration": 249,
    "start_time": "2022-05-19T12:30:42.368Z"
   },
   {
    "duration": 15,
    "start_time": "2022-05-19T12:30:42.619Z"
   },
   {
    "duration": 260,
    "start_time": "2022-05-19T12:30:42.636Z"
   },
   {
    "duration": 151,
    "start_time": "2022-05-19T12:30:42.898Z"
   },
   {
    "duration": 152,
    "start_time": "2022-05-19T12:30:43.051Z"
   },
   {
    "duration": 5,
    "start_time": "2022-05-19T12:30:43.204Z"
   },
   {
    "duration": 168,
    "start_time": "2022-05-19T12:30:43.211Z"
   },
   {
    "duration": 4,
    "start_time": "2022-05-19T12:30:43.381Z"
   },
   {
    "duration": 13,
    "start_time": "2022-05-19T12:30:43.387Z"
   },
   {
    "duration": 84,
    "start_time": "2022-05-19T12:30:43.402Z"
   },
   {
    "duration": 13,
    "start_time": "2022-05-19T12:30:43.487Z"
   },
   {
    "duration": 78,
    "start_time": "2022-05-19T12:30:43.501Z"
   },
   {
    "duration": 23,
    "start_time": "2022-05-19T12:30:43.581Z"
   },
   {
    "duration": 80,
    "start_time": "2022-05-19T12:30:43.606Z"
   },
   {
    "duration": 27,
    "start_time": "2022-05-19T12:30:43.688Z"
   },
   {
    "duration": 76,
    "start_time": "2022-05-19T12:30:43.717Z"
   },
   {
    "duration": 30,
    "start_time": "2022-05-19T12:30:43.795Z"
   },
   {
    "duration": 146,
    "start_time": "2022-05-19T12:30:43.827Z"
   },
   {
    "duration": 0,
    "start_time": "2022-05-19T12:30:43.975Z"
   },
   {
    "duration": 0,
    "start_time": "2022-05-19T12:30:43.976Z"
   },
   {
    "duration": 0,
    "start_time": "2022-05-19T12:30:43.978Z"
   },
   {
    "duration": 0,
    "start_time": "2022-05-19T12:30:43.979Z"
   },
   {
    "duration": 0,
    "start_time": "2022-05-19T12:30:43.981Z"
   },
   {
    "duration": 17,
    "start_time": "2022-05-19T12:31:29.422Z"
   },
   {
    "duration": 17,
    "start_time": "2022-05-19T12:31:56.553Z"
   },
   {
    "duration": 103,
    "start_time": "2022-05-19T12:33:48.508Z"
   },
   {
    "duration": 91,
    "start_time": "2022-05-19T12:33:49.929Z"
   },
   {
    "duration": 8,
    "start_time": "2022-05-19T12:33:51.471Z"
   },
   {
    "duration": 8,
    "start_time": "2022-05-19T12:33:52.183Z"
   },
   {
    "duration": 12,
    "start_time": "2022-05-19T12:34:21.473Z"
   },
   {
    "duration": 10,
    "start_time": "2022-05-19T12:34:53.093Z"
   },
   {
    "duration": 14,
    "start_time": "2022-05-19T12:35:59.822Z"
   },
   {
    "duration": 13,
    "start_time": "2022-05-19T12:36:17.609Z"
   },
   {
    "duration": 36,
    "start_time": "2022-05-19T12:38:03.015Z"
   },
   {
    "duration": 30,
    "start_time": "2022-05-19T12:39:04.617Z"
   },
   {
    "duration": 1212,
    "start_time": "2022-05-19T12:40:21.241Z"
   },
   {
    "duration": 25,
    "start_time": "2022-05-19T12:40:22.455Z"
   },
   {
    "duration": 14,
    "start_time": "2022-05-19T12:40:22.482Z"
   },
   {
    "duration": 9,
    "start_time": "2022-05-19T12:40:22.499Z"
   },
   {
    "duration": 6,
    "start_time": "2022-05-19T12:40:22.510Z"
   },
   {
    "duration": 47,
    "start_time": "2022-05-19T12:40:22.519Z"
   },
   {
    "duration": 16,
    "start_time": "2022-05-19T12:40:22.568Z"
   },
   {
    "duration": 12,
    "start_time": "2022-05-19T12:40:22.585Z"
   },
   {
    "duration": 34,
    "start_time": "2022-05-19T12:40:22.599Z"
   },
   {
    "duration": 21,
    "start_time": "2022-05-19T12:40:22.637Z"
   },
   {
    "duration": 17,
    "start_time": "2022-05-19T12:40:22.660Z"
   },
   {
    "duration": 10,
    "start_time": "2022-05-19T12:40:22.678Z"
   },
   {
    "duration": 11,
    "start_time": "2022-05-19T12:40:22.690Z"
   },
   {
    "duration": 21,
    "start_time": "2022-05-19T12:40:22.703Z"
   },
   {
    "duration": 7,
    "start_time": "2022-05-19T12:40:22.726Z"
   },
   {
    "duration": 34,
    "start_time": "2022-05-19T12:40:22.735Z"
   },
   {
    "duration": 10,
    "start_time": "2022-05-19T12:40:22.771Z"
   },
   {
    "duration": 13,
    "start_time": "2022-05-19T12:40:22.782Z"
   },
   {
    "duration": 8,
    "start_time": "2022-05-19T12:40:22.797Z"
   },
   {
    "duration": 11,
    "start_time": "2022-05-19T12:40:22.806Z"
   },
   {
    "duration": 8,
    "start_time": "2022-05-19T12:40:22.819Z"
   },
   {
    "duration": 8,
    "start_time": "2022-05-19T12:40:22.865Z"
   },
   {
    "duration": 13,
    "start_time": "2022-05-19T12:40:22.875Z"
   },
   {
    "duration": 5,
    "start_time": "2022-05-19T12:40:22.890Z"
   },
   {
    "duration": 10,
    "start_time": "2022-05-19T12:40:22.897Z"
   },
   {
    "duration": 11,
    "start_time": "2022-05-19T12:40:22.909Z"
   },
   {
    "duration": 43,
    "start_time": "2022-05-19T12:40:22.926Z"
   },
   {
    "duration": 9,
    "start_time": "2022-05-19T12:40:22.974Z"
   },
   {
    "duration": 11,
    "start_time": "2022-05-19T12:40:22.985Z"
   },
   {
    "duration": 8,
    "start_time": "2022-05-19T12:40:22.999Z"
   },
   {
    "duration": 10,
    "start_time": "2022-05-19T12:40:23.009Z"
   },
   {
    "duration": 50,
    "start_time": "2022-05-19T12:40:23.021Z"
   },
   {
    "duration": 212,
    "start_time": "2022-05-19T12:40:23.072Z"
   },
   {
    "duration": 8,
    "start_time": "2022-05-19T12:40:23.287Z"
   },
   {
    "duration": 9,
    "start_time": "2022-05-19T12:40:23.297Z"
   },
   {
    "duration": 165,
    "start_time": "2022-05-19T12:40:23.308Z"
   },
   {
    "duration": 13,
    "start_time": "2022-05-19T12:40:23.475Z"
   },
   {
    "duration": 10,
    "start_time": "2022-05-19T12:40:23.490Z"
   },
   {
    "duration": 22,
    "start_time": "2022-05-19T12:40:23.502Z"
   },
   {
    "duration": 15,
    "start_time": "2022-05-19T12:40:23.527Z"
   },
   {
    "duration": 27,
    "start_time": "2022-05-19T12:40:23.544Z"
   },
   {
    "duration": 345,
    "start_time": "2022-05-19T12:40:23.573Z"
   },
   {
    "duration": 291,
    "start_time": "2022-05-19T12:40:23.920Z"
   },
   {
    "duration": 7,
    "start_time": "2022-05-19T12:40:24.213Z"
   },
   {
    "duration": 13,
    "start_time": "2022-05-19T12:40:24.222Z"
   },
   {
    "duration": 206,
    "start_time": "2022-05-19T12:40:24.237Z"
   },
   {
    "duration": 21,
    "start_time": "2022-05-19T12:40:24.445Z"
   },
   {
    "duration": 7,
    "start_time": "2022-05-19T12:40:24.469Z"
   },
   {
    "duration": 277,
    "start_time": "2022-05-19T12:40:24.478Z"
   },
   {
    "duration": 18,
    "start_time": "2022-05-19T12:40:24.757Z"
   },
   {
    "duration": 250,
    "start_time": "2022-05-19T12:40:24.777Z"
   },
   {
    "duration": 167,
    "start_time": "2022-05-19T12:40:25.029Z"
   },
   {
    "duration": 148,
    "start_time": "2022-05-19T12:40:25.198Z"
   },
   {
    "duration": 4,
    "start_time": "2022-05-19T12:40:25.348Z"
   },
   {
    "duration": 157,
    "start_time": "2022-05-19T12:40:25.354Z"
   },
   {
    "duration": 4,
    "start_time": "2022-05-19T12:40:25.513Z"
   },
   {
    "duration": 16,
    "start_time": "2022-05-19T12:40:25.519Z"
   },
   {
    "duration": 74,
    "start_time": "2022-05-19T12:40:25.537Z"
   },
   {
    "duration": 14,
    "start_time": "2022-05-19T12:40:25.613Z"
   },
   {
    "duration": 66,
    "start_time": "2022-05-19T12:40:25.630Z"
   },
   {
    "duration": 23,
    "start_time": "2022-05-19T12:40:25.698Z"
   },
   {
    "duration": 78,
    "start_time": "2022-05-19T12:40:25.722Z"
   },
   {
    "duration": 22,
    "start_time": "2022-05-19T12:40:25.802Z"
   },
   {
    "duration": 86,
    "start_time": "2022-05-19T12:40:25.826Z"
   },
   {
    "duration": 34,
    "start_time": "2022-05-19T12:40:25.915Z"
   },
   {
    "duration": 84,
    "start_time": "2022-05-19T12:40:25.951Z"
   },
   {
    "duration": 145,
    "start_time": "2022-05-19T12:40:26.037Z"
   },
   {
    "duration": 8,
    "start_time": "2022-05-19T12:40:26.184Z"
   },
   {
    "duration": 7,
    "start_time": "2022-05-19T12:40:26.194Z"
   },
   {
    "duration": 63,
    "start_time": "2022-05-19T12:40:26.202Z"
   },
   {
    "duration": 5,
    "start_time": "2022-05-19T12:41:55.087Z"
   },
   {
    "duration": 4,
    "start_time": "2022-05-19T12:42:10.332Z"
   },
   {
    "duration": 31,
    "start_time": "2022-05-19T12:43:06.672Z"
   },
   {
    "duration": 29,
    "start_time": "2022-05-19T12:43:18.604Z"
   },
   {
    "duration": 5,
    "start_time": "2022-05-19T12:45:25.735Z"
   },
   {
    "duration": 42,
    "start_time": "2022-05-19T12:46:44.903Z"
   },
   {
    "duration": 29,
    "start_time": "2022-05-19T12:47:11.946Z"
   },
   {
    "duration": 141,
    "start_time": "2022-05-19T12:47:19.734Z"
   },
   {
    "duration": 29,
    "start_time": "2022-05-19T12:48:29.957Z"
   },
   {
    "duration": 65,
    "start_time": "2022-05-19T12:48:33.029Z"
   },
   {
    "duration": 30,
    "start_time": "2022-05-19T12:48:37.750Z"
   },
   {
    "duration": 28,
    "start_time": "2022-05-19T12:50:26.270Z"
   },
   {
    "duration": 4,
    "start_time": "2022-05-19T12:50:32.413Z"
   },
   {
    "duration": 32,
    "start_time": "2022-05-19T12:50:58.325Z"
   },
   {
    "duration": 5,
    "start_time": "2022-05-19T12:51:09.464Z"
   },
   {
    "duration": 7,
    "start_time": "2022-05-19T12:51:28.979Z"
   },
   {
    "duration": 1147,
    "start_time": "2022-05-19T12:51:34.931Z"
   },
   {
    "duration": 25,
    "start_time": "2022-05-19T12:51:36.080Z"
   },
   {
    "duration": 12,
    "start_time": "2022-05-19T12:51:36.107Z"
   },
   {
    "duration": 10,
    "start_time": "2022-05-19T12:51:36.121Z"
   },
   {
    "duration": 32,
    "start_time": "2022-05-19T12:51:36.133Z"
   },
   {
    "duration": 16,
    "start_time": "2022-05-19T12:51:36.167Z"
   },
   {
    "duration": 13,
    "start_time": "2022-05-19T12:51:36.184Z"
   },
   {
    "duration": 14,
    "start_time": "2022-05-19T12:51:36.198Z"
   },
   {
    "duration": 50,
    "start_time": "2022-05-19T12:51:36.214Z"
   },
   {
    "duration": 32,
    "start_time": "2022-05-19T12:51:36.267Z"
   },
   {
    "duration": 12,
    "start_time": "2022-05-19T12:51:36.301Z"
   },
   {
    "duration": 6,
    "start_time": "2022-05-19T12:51:36.315Z"
   },
   {
    "duration": 6,
    "start_time": "2022-05-19T12:51:36.323Z"
   },
   {
    "duration": 8,
    "start_time": "2022-05-19T12:51:36.331Z"
   },
   {
    "duration": 25,
    "start_time": "2022-05-19T12:51:36.341Z"
   },
   {
    "duration": 5,
    "start_time": "2022-05-19T12:51:36.368Z"
   },
   {
    "duration": 7,
    "start_time": "2022-05-19T12:51:36.375Z"
   },
   {
    "duration": 10,
    "start_time": "2022-05-19T12:51:36.383Z"
   },
   {
    "duration": 10,
    "start_time": "2022-05-19T12:51:36.394Z"
   },
   {
    "duration": 62,
    "start_time": "2022-05-19T12:51:36.405Z"
   },
   {
    "duration": 11,
    "start_time": "2022-05-19T12:51:36.468Z"
   },
   {
    "duration": 8,
    "start_time": "2022-05-19T12:51:36.480Z"
   },
   {
    "duration": 13,
    "start_time": "2022-05-19T12:51:36.489Z"
   },
   {
    "duration": 8,
    "start_time": "2022-05-19T12:51:36.503Z"
   },
   {
    "duration": 57,
    "start_time": "2022-05-19T12:51:36.513Z"
   },
   {
    "duration": 10,
    "start_time": "2022-05-19T12:51:36.571Z"
   },
   {
    "duration": 13,
    "start_time": "2022-05-19T12:51:36.584Z"
   },
   {
    "duration": 8,
    "start_time": "2022-05-19T12:51:36.602Z"
   },
   {
    "duration": 11,
    "start_time": "2022-05-19T12:51:36.612Z"
   },
   {
    "duration": 42,
    "start_time": "2022-05-19T12:51:36.625Z"
   },
   {
    "duration": 8,
    "start_time": "2022-05-19T12:51:36.668Z"
   },
   {
    "duration": 9,
    "start_time": "2022-05-19T12:51:36.678Z"
   },
   {
    "duration": 233,
    "start_time": "2022-05-19T12:51:36.689Z"
   },
   {
    "duration": 9,
    "start_time": "2022-05-19T12:51:36.924Z"
   },
   {
    "duration": 17,
    "start_time": "2022-05-19T12:51:36.935Z"
   },
   {
    "duration": 153,
    "start_time": "2022-05-19T12:51:36.954Z"
   },
   {
    "duration": 8,
    "start_time": "2022-05-19T12:51:37.108Z"
   },
   {
    "duration": 14,
    "start_time": "2022-05-19T12:51:37.118Z"
   },
   {
    "duration": 12,
    "start_time": "2022-05-19T12:51:37.133Z"
   },
   {
    "duration": 14,
    "start_time": "2022-05-19T12:51:37.166Z"
   },
   {
    "duration": 13,
    "start_time": "2022-05-19T12:51:37.182Z"
   },
   {
    "duration": 372,
    "start_time": "2022-05-19T12:51:37.198Z"
   },
   {
    "duration": 301,
    "start_time": "2022-05-19T12:51:37.572Z"
   },
   {
    "duration": 7,
    "start_time": "2022-05-19T12:51:37.876Z"
   },
   {
    "duration": 13,
    "start_time": "2022-05-19T12:51:37.885Z"
   },
   {
    "duration": 236,
    "start_time": "2022-05-19T12:51:37.900Z"
   },
   {
    "duration": 13,
    "start_time": "2022-05-19T12:51:38.138Z"
   },
   {
    "duration": 5,
    "start_time": "2022-05-19T12:51:38.165Z"
   },
   {
    "duration": 237,
    "start_time": "2022-05-19T12:51:38.172Z"
   },
   {
    "duration": 14,
    "start_time": "2022-05-19T12:51:38.411Z"
   },
   {
    "duration": 261,
    "start_time": "2022-05-19T12:51:38.427Z"
   },
   {
    "duration": 175,
    "start_time": "2022-05-19T12:51:38.689Z"
   },
   {
    "duration": 189,
    "start_time": "2022-05-19T12:51:38.867Z"
   },
   {
    "duration": 6,
    "start_time": "2022-05-19T12:51:39.061Z"
   },
   {
    "duration": 207,
    "start_time": "2022-05-19T12:51:39.069Z"
   },
   {
    "duration": 4,
    "start_time": "2022-05-19T12:51:39.278Z"
   },
   {
    "duration": 17,
    "start_time": "2022-05-19T12:51:39.284Z"
   },
   {
    "duration": 75,
    "start_time": "2022-05-19T12:51:39.303Z"
   },
   {
    "duration": 14,
    "start_time": "2022-05-19T12:51:39.379Z"
   },
   {
    "duration": 71,
    "start_time": "2022-05-19T12:51:39.395Z"
   },
   {
    "duration": 45,
    "start_time": "2022-05-19T12:51:39.468Z"
   },
   {
    "duration": 61,
    "start_time": "2022-05-19T12:51:39.515Z"
   },
   {
    "duration": 59,
    "start_time": "2022-05-19T12:51:39.578Z"
   },
   {
    "duration": 58,
    "start_time": "2022-05-19T12:51:39.639Z"
   },
   {
    "duration": 30,
    "start_time": "2022-05-19T12:51:39.698Z"
   },
   {
    "duration": 109,
    "start_time": "2022-05-19T12:51:39.730Z"
   },
   {
    "duration": 135,
    "start_time": "2022-05-19T12:51:39.841Z"
   },
   {
    "duration": 7,
    "start_time": "2022-05-19T12:51:39.978Z"
   },
   {
    "duration": 10,
    "start_time": "2022-05-19T12:51:39.986Z"
   },
   {
    "duration": 32,
    "start_time": "2022-05-19T12:51:39.998Z"
   },
   {
    "duration": 13,
    "start_time": "2022-05-19T12:51:40.066Z"
   },
   {
    "duration": 13,
    "start_time": "2022-05-19T12:51:40.082Z"
   },
   {
    "duration": 1345,
    "start_time": "2022-05-20T19:30:07.022Z"
   },
   {
    "duration": 43,
    "start_time": "2022-05-20T19:30:08.369Z"
   },
   {
    "duration": 12,
    "start_time": "2022-05-20T19:30:08.413Z"
   },
   {
    "duration": 28,
    "start_time": "2022-05-20T19:30:08.427Z"
   },
   {
    "duration": 10,
    "start_time": "2022-05-20T19:30:08.457Z"
   },
   {
    "duration": 23,
    "start_time": "2022-05-20T19:30:08.468Z"
   },
   {
    "duration": 14,
    "start_time": "2022-05-20T19:30:08.493Z"
   },
   {
    "duration": 16,
    "start_time": "2022-05-20T19:30:08.510Z"
   },
   {
    "duration": 89,
    "start_time": "2022-05-20T19:30:08.527Z"
   },
   {
    "duration": 22,
    "start_time": "2022-05-20T19:30:08.619Z"
   },
   {
    "duration": 40,
    "start_time": "2022-05-20T19:30:08.643Z"
   },
   {
    "duration": 14,
    "start_time": "2022-05-20T19:30:08.685Z"
   },
   {
    "duration": 13,
    "start_time": "2022-05-20T19:30:08.701Z"
   },
   {
    "duration": 15,
    "start_time": "2022-05-20T19:30:08.716Z"
   },
   {
    "duration": 20,
    "start_time": "2022-05-20T19:30:08.733Z"
   },
   {
    "duration": 11,
    "start_time": "2022-05-20T19:30:08.755Z"
   },
   {
    "duration": 10,
    "start_time": "2022-05-20T19:30:08.768Z"
   },
   {
    "duration": 14,
    "start_time": "2022-05-20T19:30:08.779Z"
   },
   {
    "duration": 11,
    "start_time": "2022-05-20T19:30:08.794Z"
   },
   {
    "duration": 10,
    "start_time": "2022-05-20T19:30:08.806Z"
   },
   {
    "duration": 16,
    "start_time": "2022-05-20T19:30:08.818Z"
   },
   {
    "duration": 19,
    "start_time": "2022-05-20T19:30:08.836Z"
   },
   {
    "duration": 16,
    "start_time": "2022-05-20T19:30:08.857Z"
   },
   {
    "duration": 7,
    "start_time": "2022-05-20T19:30:08.875Z"
   },
   {
    "duration": 10,
    "start_time": "2022-05-20T19:30:08.883Z"
   },
   {
    "duration": 13,
    "start_time": "2022-05-20T19:30:08.894Z"
   },
   {
    "duration": 28,
    "start_time": "2022-05-20T19:30:08.909Z"
   },
   {
    "duration": 37,
    "start_time": "2022-05-20T19:30:08.943Z"
   },
   {
    "duration": 14,
    "start_time": "2022-05-20T19:30:08.982Z"
   },
   {
    "duration": 11,
    "start_time": "2022-05-20T19:30:08.998Z"
   },
   {
    "duration": 25,
    "start_time": "2022-05-20T19:30:09.011Z"
   },
   {
    "duration": 11,
    "start_time": "2022-05-20T19:30:09.041Z"
   },
   {
    "duration": 189,
    "start_time": "2022-05-20T19:30:09.053Z"
   },
   {
    "duration": 8,
    "start_time": "2022-05-20T19:30:09.244Z"
   },
   {
    "duration": 10,
    "start_time": "2022-05-20T19:30:09.253Z"
   },
   {
    "duration": 132,
    "start_time": "2022-05-20T19:30:09.265Z"
   },
   {
    "duration": 16,
    "start_time": "2022-05-20T19:30:09.399Z"
   },
   {
    "duration": 13,
    "start_time": "2022-05-20T19:30:09.416Z"
   },
   {
    "duration": 18,
    "start_time": "2022-05-20T19:30:09.435Z"
   },
   {
    "duration": 12,
    "start_time": "2022-05-20T19:30:09.455Z"
   },
   {
    "duration": 12,
    "start_time": "2022-05-20T19:30:09.469Z"
   },
   {
    "duration": 402,
    "start_time": "2022-05-20T19:30:09.483Z"
   },
   {
    "duration": 209,
    "start_time": "2022-05-20T19:30:09.887Z"
   },
   {
    "duration": 18,
    "start_time": "2022-05-20T19:30:10.098Z"
   },
   {
    "duration": 28,
    "start_time": "2022-05-20T19:30:10.118Z"
   },
   {
    "duration": 188,
    "start_time": "2022-05-20T19:30:10.148Z"
   },
   {
    "duration": 15,
    "start_time": "2022-05-20T19:30:10.338Z"
   },
   {
    "duration": 7,
    "start_time": "2022-05-20T19:30:10.355Z"
   },
   {
    "duration": 227,
    "start_time": "2022-05-20T19:30:10.363Z"
   },
   {
    "duration": 13,
    "start_time": "2022-05-20T19:30:10.591Z"
   },
   {
    "duration": 241,
    "start_time": "2022-05-20T19:30:10.606Z"
   },
   {
    "duration": 138,
    "start_time": "2022-05-20T19:30:10.849Z"
   },
   {
    "duration": 158,
    "start_time": "2022-05-20T19:30:10.988Z"
   },
   {
    "duration": 5,
    "start_time": "2022-05-20T19:30:11.148Z"
   },
   {
    "duration": 147,
    "start_time": "2022-05-20T19:30:11.154Z"
   },
   {
    "duration": 4,
    "start_time": "2022-05-20T19:30:11.303Z"
   },
   {
    "duration": 26,
    "start_time": "2022-05-20T19:30:11.309Z"
   },
   {
    "duration": 61,
    "start_time": "2022-05-20T19:30:11.338Z"
   },
   {
    "duration": 13,
    "start_time": "2022-05-20T19:30:11.401Z"
   },
   {
    "duration": 54,
    "start_time": "2022-05-20T19:30:11.416Z"
   },
   {
    "duration": 23,
    "start_time": "2022-05-20T19:30:11.472Z"
   },
   {
    "duration": 69,
    "start_time": "2022-05-20T19:30:11.496Z"
   },
   {
    "duration": 32,
    "start_time": "2022-05-20T19:30:11.567Z"
   },
   {
    "duration": 64,
    "start_time": "2022-05-20T19:30:11.601Z"
   },
   {
    "duration": 29,
    "start_time": "2022-05-20T19:30:11.667Z"
   },
   {
    "duration": 87,
    "start_time": "2022-05-20T19:30:11.697Z"
   },
   {
    "duration": 82,
    "start_time": "2022-05-20T19:30:11.786Z"
   },
   {
    "duration": 6,
    "start_time": "2022-05-20T19:30:11.870Z"
   },
   {
    "duration": 6,
    "start_time": "2022-05-20T19:30:11.878Z"
   },
   {
    "duration": 56,
    "start_time": "2022-05-20T19:30:11.885Z"
   },
   {
    "duration": 5,
    "start_time": "2022-05-20T19:30:11.943Z"
   },
   {
    "duration": 15,
    "start_time": "2022-05-20T19:30:11.949Z"
   },
   {
    "duration": 1281,
    "start_time": "2022-05-21T10:37:09.839Z"
   },
   {
    "duration": 84,
    "start_time": "2022-05-21T10:37:11.123Z"
   },
   {
    "duration": 12,
    "start_time": "2022-05-21T10:37:11.210Z"
   },
   {
    "duration": 8,
    "start_time": "2022-05-21T10:37:11.223Z"
   },
   {
    "duration": 6,
    "start_time": "2022-05-21T10:37:11.233Z"
   },
   {
    "duration": 14,
    "start_time": "2022-05-21T10:37:11.240Z"
   },
   {
    "duration": 11,
    "start_time": "2022-05-21T10:37:11.256Z"
   },
   {
    "duration": 15,
    "start_time": "2022-05-21T10:37:11.298Z"
   },
   {
    "duration": 173,
    "start_time": "2022-05-21T10:37:11.315Z"
   },
   {
    "duration": 9,
    "start_time": "2022-05-21T10:37:11.491Z"
   },
   {
    "duration": 23,
    "start_time": "2022-05-21T10:37:11.502Z"
   },
   {
    "duration": 15,
    "start_time": "2022-05-21T10:37:11.527Z"
   },
   {
    "duration": 9,
    "start_time": "2022-05-21T10:37:11.544Z"
   },
   {
    "duration": 16,
    "start_time": "2022-05-21T10:37:11.555Z"
   },
   {
    "duration": 6,
    "start_time": "2022-05-21T10:37:11.573Z"
   },
   {
    "duration": 9,
    "start_time": "2022-05-21T10:37:11.581Z"
   },
   {
    "duration": 12,
    "start_time": "2022-05-21T10:37:11.597Z"
   },
   {
    "duration": 10,
    "start_time": "2022-05-21T10:37:11.611Z"
   },
   {
    "duration": 9,
    "start_time": "2022-05-21T10:37:11.623Z"
   },
   {
    "duration": 11,
    "start_time": "2022-05-21T10:37:11.634Z"
   },
   {
    "duration": 11,
    "start_time": "2022-05-21T10:37:11.647Z"
   },
   {
    "duration": 11,
    "start_time": "2022-05-21T10:37:11.660Z"
   },
   {
    "duration": 13,
    "start_time": "2022-05-21T10:37:11.696Z"
   },
   {
    "duration": 7,
    "start_time": "2022-05-21T10:37:11.711Z"
   },
   {
    "duration": 12,
    "start_time": "2022-05-21T10:37:11.720Z"
   },
   {
    "duration": 9,
    "start_time": "2022-05-21T10:37:11.734Z"
   },
   {
    "duration": 10,
    "start_time": "2022-05-21T10:37:11.744Z"
   },
   {
    "duration": 10,
    "start_time": "2022-05-21T10:37:11.758Z"
   },
   {
    "duration": 35,
    "start_time": "2022-05-21T10:37:11.770Z"
   },
   {
    "duration": 16,
    "start_time": "2022-05-21T10:37:11.806Z"
   },
   {
    "duration": 10,
    "start_time": "2022-05-21T10:37:11.824Z"
   },
   {
    "duration": 10,
    "start_time": "2022-05-21T10:37:11.836Z"
   },
   {
    "duration": 198,
    "start_time": "2022-05-21T10:37:11.848Z"
   },
   {
    "duration": 9,
    "start_time": "2022-05-21T10:37:12.048Z"
   },
   {
    "duration": 11,
    "start_time": "2022-05-21T10:37:12.058Z"
   },
   {
    "duration": 143,
    "start_time": "2022-05-21T10:37:12.071Z"
   },
   {
    "duration": 13,
    "start_time": "2022-05-21T10:37:12.218Z"
   },
   {
    "duration": 25,
    "start_time": "2022-05-21T10:37:12.234Z"
   },
   {
    "duration": 14,
    "start_time": "2022-05-21T10:37:12.261Z"
   },
   {
    "duration": 15,
    "start_time": "2022-05-21T10:37:12.277Z"
   },
   {
    "duration": 21,
    "start_time": "2022-05-21T10:37:12.296Z"
   },
   {
    "duration": 316,
    "start_time": "2022-05-21T10:37:12.318Z"
   },
   {
    "duration": 275,
    "start_time": "2022-05-21T10:37:12.636Z"
   },
   {
    "duration": 6,
    "start_time": "2022-05-21T10:37:12.912Z"
   },
   {
    "duration": 11,
    "start_time": "2022-05-21T10:37:12.920Z"
   },
   {
    "duration": 187,
    "start_time": "2022-05-21T10:37:12.933Z"
   },
   {
    "duration": 12,
    "start_time": "2022-05-21T10:37:13.123Z"
   },
   {
    "duration": 9,
    "start_time": "2022-05-21T10:37:13.137Z"
   },
   {
    "duration": 243,
    "start_time": "2022-05-21T10:37:13.148Z"
   },
   {
    "duration": 15,
    "start_time": "2022-05-21T10:37:13.396Z"
   },
   {
    "duration": 240,
    "start_time": "2022-05-21T10:37:13.415Z"
   },
   {
    "duration": 150,
    "start_time": "2022-05-21T10:37:13.657Z"
   },
   {
    "duration": 146,
    "start_time": "2022-05-21T10:37:13.813Z"
   },
   {
    "duration": 5,
    "start_time": "2022-05-21T10:37:13.960Z"
   },
   {
    "duration": 161,
    "start_time": "2022-05-21T10:37:13.966Z"
   },
   {
    "duration": 5,
    "start_time": "2022-05-21T10:37:14.130Z"
   },
   {
    "duration": 13,
    "start_time": "2022-05-21T10:37:14.139Z"
   },
   {
    "duration": 83,
    "start_time": "2022-05-21T10:37:14.155Z"
   },
   {
    "duration": 9,
    "start_time": "2022-05-21T10:37:14.240Z"
   },
   {
    "duration": 79,
    "start_time": "2022-05-21T10:37:14.251Z"
   },
   {
    "duration": 23,
    "start_time": "2022-05-21T10:37:14.332Z"
   },
   {
    "duration": 88,
    "start_time": "2022-05-21T10:37:14.357Z"
   },
   {
    "duration": 19,
    "start_time": "2022-05-21T10:37:14.446Z"
   },
   {
    "duration": 71,
    "start_time": "2022-05-21T10:37:14.467Z"
   },
   {
    "duration": 40,
    "start_time": "2022-05-21T10:37:14.540Z"
   },
   {
    "duration": 87,
    "start_time": "2022-05-21T10:37:14.581Z"
   },
   {
    "duration": 105,
    "start_time": "2022-05-21T10:37:14.670Z"
   },
   {
    "duration": 20,
    "start_time": "2022-05-21T10:37:14.776Z"
   },
   {
    "duration": 15,
    "start_time": "2022-05-21T10:37:14.798Z"
   },
   {
    "duration": 66,
    "start_time": "2022-05-21T10:37:14.814Z"
   },
   {
    "duration": 6,
    "start_time": "2022-05-21T10:37:14.883Z"
   },
   {
    "duration": 21,
    "start_time": "2022-05-21T10:37:14.899Z"
   },
   {
    "duration": 33,
    "start_time": "2022-05-21T10:38:07.133Z"
   },
   {
    "duration": 30,
    "start_time": "2022-05-21T10:38:52.530Z"
   },
   {
    "duration": 752,
    "start_time": "2022-05-21T10:39:02.529Z"
   },
   {
    "duration": 705,
    "start_time": "2022-05-21T10:39:07.487Z"
   },
   {
    "duration": 1286,
    "start_time": "2022-05-21T10:39:18.476Z"
   },
   {
    "duration": 36,
    "start_time": "2022-05-21T10:39:19.764Z"
   },
   {
    "duration": 15,
    "start_time": "2022-05-21T10:39:19.804Z"
   },
   {
    "duration": 34,
    "start_time": "2022-05-21T10:39:19.823Z"
   },
   {
    "duration": 4,
    "start_time": "2022-05-21T10:39:19.859Z"
   },
   {
    "duration": 13,
    "start_time": "2022-05-21T10:39:19.864Z"
   },
   {
    "duration": 13,
    "start_time": "2022-05-21T10:39:19.879Z"
   },
   {
    "duration": 59,
    "start_time": "2022-05-21T10:39:19.894Z"
   },
   {
    "duration": 70,
    "start_time": "2022-05-21T10:39:19.955Z"
   },
   {
    "duration": 13,
    "start_time": "2022-05-21T10:39:20.028Z"
   },
   {
    "duration": 15,
    "start_time": "2022-05-21T10:39:20.043Z"
   },
   {
    "duration": 11,
    "start_time": "2022-05-21T10:39:20.059Z"
   },
   {
    "duration": 7,
    "start_time": "2022-05-21T10:39:20.072Z"
   },
   {
    "duration": 10,
    "start_time": "2022-05-21T10:39:20.081Z"
   },
   {
    "duration": 47,
    "start_time": "2022-05-21T10:39:20.093Z"
   },
   {
    "duration": 10,
    "start_time": "2022-05-21T10:39:20.142Z"
   },
   {
    "duration": 7,
    "start_time": "2022-05-21T10:39:20.154Z"
   },
   {
    "duration": 8,
    "start_time": "2022-05-21T10:39:20.163Z"
   },
   {
    "duration": 8,
    "start_time": "2022-05-21T10:39:20.173Z"
   },
   {
    "duration": 12,
    "start_time": "2022-05-21T10:39:20.183Z"
   },
   {
    "duration": 21,
    "start_time": "2022-05-21T10:39:20.197Z"
   },
   {
    "duration": 38,
    "start_time": "2022-05-21T10:39:20.220Z"
   },
   {
    "duration": 13,
    "start_time": "2022-05-21T10:39:20.260Z"
   },
   {
    "duration": 6,
    "start_time": "2022-05-21T10:39:20.275Z"
   },
   {
    "duration": 11,
    "start_time": "2022-05-21T10:39:20.283Z"
   },
   {
    "duration": 47,
    "start_time": "2022-05-21T10:39:20.300Z"
   },
   {
    "duration": 18,
    "start_time": "2022-05-21T10:39:20.348Z"
   },
   {
    "duration": 7,
    "start_time": "2022-05-21T10:39:20.371Z"
   },
   {
    "duration": 23,
    "start_time": "2022-05-21T10:39:20.380Z"
   },
   {
    "duration": 42,
    "start_time": "2022-05-21T10:39:20.409Z"
   },
   {
    "duration": 11,
    "start_time": "2022-05-21T10:39:20.453Z"
   },
   {
    "duration": 13,
    "start_time": "2022-05-21T10:39:20.466Z"
   },
   {
    "duration": 261,
    "start_time": "2022-05-21T10:39:20.480Z"
   },
   {
    "duration": 13,
    "start_time": "2022-05-21T10:39:20.744Z"
   },
   {
    "duration": 14,
    "start_time": "2022-05-21T10:39:20.759Z"
   },
   {
    "duration": 186,
    "start_time": "2022-05-21T10:39:20.775Z"
   },
   {
    "duration": 8,
    "start_time": "2022-05-21T10:39:20.962Z"
   },
   {
    "duration": 9,
    "start_time": "2022-05-21T10:39:20.972Z"
   },
   {
    "duration": 10,
    "start_time": "2022-05-21T10:39:20.982Z"
   },
   {
    "duration": 52,
    "start_time": "2022-05-21T10:39:20.996Z"
   },
   {
    "duration": 11,
    "start_time": "2022-05-21T10:39:21.050Z"
   },
   {
    "duration": 419,
    "start_time": "2022-05-21T10:39:21.063Z"
   },
   {
    "duration": 352,
    "start_time": "2022-05-21T10:39:21.484Z"
   },
   {
    "duration": 10,
    "start_time": "2022-05-21T10:39:21.838Z"
   },
   {
    "duration": 12,
    "start_time": "2022-05-21T10:39:21.850Z"
   },
   {
    "duration": 249,
    "start_time": "2022-05-21T10:39:21.864Z"
   },
   {
    "duration": 16,
    "start_time": "2022-05-21T10:39:22.116Z"
   },
   {
    "duration": 26,
    "start_time": "2022-05-21T10:39:22.134Z"
   },
   {
    "duration": 301,
    "start_time": "2022-05-21T10:39:22.162Z"
   },
   {
    "duration": 17,
    "start_time": "2022-05-21T10:39:22.465Z"
   },
   {
    "duration": 308,
    "start_time": "2022-05-21T10:39:22.484Z"
   },
   {
    "duration": 180,
    "start_time": "2022-05-21T10:39:22.795Z"
   },
   {
    "duration": 177,
    "start_time": "2022-05-21T10:39:22.977Z"
   },
   {
    "duration": 4,
    "start_time": "2022-05-21T10:39:23.155Z"
   },
   {
    "duration": 192,
    "start_time": "2022-05-21T10:39:23.161Z"
   },
   {
    "duration": 5,
    "start_time": "2022-05-21T10:39:23.355Z"
   },
   {
    "duration": 22,
    "start_time": "2022-05-21T10:39:23.361Z"
   },
   {
    "duration": 108,
    "start_time": "2022-05-21T10:39:23.385Z"
   },
   {
    "duration": 69,
    "start_time": "2022-05-21T10:39:23.494Z"
   },
   {
    "duration": 77,
    "start_time": "2022-05-21T10:39:23.565Z"
   },
   {
    "duration": 29,
    "start_time": "2022-05-21T10:39:23.644Z"
   },
   {
    "duration": 80,
    "start_time": "2022-05-21T10:39:23.675Z"
   },
   {
    "duration": 17,
    "start_time": "2022-05-21T10:39:23.757Z"
   },
   {
    "duration": 94,
    "start_time": "2022-05-21T10:39:23.776Z"
   },
   {
    "duration": 47,
    "start_time": "2022-05-21T10:39:23.872Z"
   },
   {
    "duration": 121,
    "start_time": "2022-05-21T10:39:23.924Z"
   },
   {
    "duration": 123,
    "start_time": "2022-05-21T10:39:24.046Z"
   },
   {
    "duration": 7,
    "start_time": "2022-05-21T10:39:24.170Z"
   },
   {
    "duration": 21,
    "start_time": "2022-05-21T10:39:24.178Z"
   },
   {
    "duration": 82,
    "start_time": "2022-05-21T10:39:24.201Z"
   },
   {
    "duration": 6,
    "start_time": "2022-05-21T10:39:24.285Z"
   },
   {
    "duration": 45,
    "start_time": "2022-05-21T10:39:24.293Z"
   },
   {
    "duration": 11,
    "start_time": "2022-05-21T10:39:32.467Z"
   },
   {
    "duration": 37,
    "start_time": "2022-05-21T10:39:39.119Z"
   },
   {
    "duration": 14,
    "start_time": "2022-05-21T10:39:41.618Z"
   },
   {
    "duration": 12,
    "start_time": "2022-05-21T10:39:42.010Z"
   },
   {
    "duration": 4,
    "start_time": "2022-05-21T10:39:42.369Z"
   },
   {
    "duration": 13,
    "start_time": "2022-05-21T10:44:00.822Z"
   },
   {
    "duration": 12,
    "start_time": "2022-05-21T10:44:07.171Z"
   },
   {
    "duration": 41,
    "start_time": "2022-05-21T10:44:25.866Z"
   },
   {
    "duration": 124,
    "start_time": "2022-05-21T10:46:03.476Z"
   },
   {
    "duration": 139,
    "start_time": "2022-05-21T10:46:12.033Z"
   },
   {
    "duration": 1192,
    "start_time": "2022-05-21T10:49:03.768Z"
   },
   {
    "duration": 36,
    "start_time": "2022-05-21T10:49:04.962Z"
   },
   {
    "duration": 22,
    "start_time": "2022-05-21T10:49:05.000Z"
   },
   {
    "duration": 21,
    "start_time": "2022-05-21T10:49:05.025Z"
   },
   {
    "duration": 6,
    "start_time": "2022-05-21T10:49:05.048Z"
   },
   {
    "duration": 14,
    "start_time": "2022-05-21T10:49:05.056Z"
   },
   {
    "duration": 10,
    "start_time": "2022-05-21T10:49:05.072Z"
   },
   {
    "duration": 33,
    "start_time": "2022-05-21T10:49:05.084Z"
   },
   {
    "duration": 52,
    "start_time": "2022-05-21T10:49:05.121Z"
   },
   {
    "duration": 8,
    "start_time": "2022-05-21T10:49:05.174Z"
   },
   {
    "duration": 11,
    "start_time": "2022-05-21T10:49:05.184Z"
   },
   {
    "duration": 18,
    "start_time": "2022-05-21T10:49:05.197Z"
   },
   {
    "duration": 8,
    "start_time": "2022-05-21T10:49:05.217Z"
   },
   {
    "duration": 6,
    "start_time": "2022-05-21T10:49:05.228Z"
   },
   {
    "duration": 6,
    "start_time": "2022-05-21T10:49:05.236Z"
   },
   {
    "duration": 6,
    "start_time": "2022-05-21T10:49:05.243Z"
   },
   {
    "duration": 9,
    "start_time": "2022-05-21T10:49:05.250Z"
   },
   {
    "duration": 10,
    "start_time": "2022-05-21T10:49:05.261Z"
   },
   {
    "duration": 39,
    "start_time": "2022-05-21T10:49:05.273Z"
   },
   {
    "duration": 12,
    "start_time": "2022-05-21T10:49:05.314Z"
   },
   {
    "duration": 9,
    "start_time": "2022-05-21T10:49:05.328Z"
   },
   {
    "duration": 14,
    "start_time": "2022-05-21T10:49:05.339Z"
   },
   {
    "duration": 13,
    "start_time": "2022-05-21T10:49:05.354Z"
   },
   {
    "duration": 40,
    "start_time": "2022-05-21T10:49:05.369Z"
   },
   {
    "duration": 17,
    "start_time": "2022-05-21T10:49:05.413Z"
   },
   {
    "duration": 8,
    "start_time": "2022-05-21T10:49:05.432Z"
   },
   {
    "duration": 12,
    "start_time": "2022-05-21T10:49:05.442Z"
   },
   {
    "duration": 28,
    "start_time": "2022-05-21T10:49:05.456Z"
   },
   {
    "duration": 11,
    "start_time": "2022-05-21T10:49:05.485Z"
   },
   {
    "duration": 153,
    "start_time": "2022-05-21T10:49:05.500Z"
   },
   {
    "duration": 0,
    "start_time": "2022-05-21T10:49:05.656Z"
   },
   {
    "duration": 0,
    "start_time": "2022-05-21T10:49:05.657Z"
   },
   {
    "duration": 0,
    "start_time": "2022-05-21T10:49:05.658Z"
   },
   {
    "duration": 0,
    "start_time": "2022-05-21T10:49:05.659Z"
   },
   {
    "duration": 0,
    "start_time": "2022-05-21T10:49:05.661Z"
   },
   {
    "duration": 0,
    "start_time": "2022-05-21T10:49:05.663Z"
   },
   {
    "duration": 0,
    "start_time": "2022-05-21T10:49:05.665Z"
   },
   {
    "duration": 0,
    "start_time": "2022-05-21T10:49:05.667Z"
   },
   {
    "duration": 0,
    "start_time": "2022-05-21T10:49:05.669Z"
   },
   {
    "duration": 0,
    "start_time": "2022-05-21T10:49:05.695Z"
   },
   {
    "duration": 0,
    "start_time": "2022-05-21T10:49:05.696Z"
   },
   {
    "duration": 0,
    "start_time": "2022-05-21T10:49:05.697Z"
   },
   {
    "duration": 0,
    "start_time": "2022-05-21T10:49:05.698Z"
   },
   {
    "duration": 0,
    "start_time": "2022-05-21T10:49:05.700Z"
   },
   {
    "duration": 0,
    "start_time": "2022-05-21T10:49:05.701Z"
   },
   {
    "duration": 0,
    "start_time": "2022-05-21T10:49:05.701Z"
   },
   {
    "duration": 0,
    "start_time": "2022-05-21T10:49:05.702Z"
   },
   {
    "duration": 0,
    "start_time": "2022-05-21T10:49:05.705Z"
   },
   {
    "duration": 0,
    "start_time": "2022-05-21T10:49:05.706Z"
   },
   {
    "duration": 0,
    "start_time": "2022-05-21T10:49:05.707Z"
   },
   {
    "duration": 0,
    "start_time": "2022-05-21T10:49:05.711Z"
   },
   {
    "duration": 0,
    "start_time": "2022-05-21T10:49:05.713Z"
   },
   {
    "duration": 0,
    "start_time": "2022-05-21T10:49:05.715Z"
   },
   {
    "duration": 0,
    "start_time": "2022-05-21T10:49:05.719Z"
   },
   {
    "duration": 0,
    "start_time": "2022-05-21T10:49:05.721Z"
   },
   {
    "duration": 0,
    "start_time": "2022-05-21T10:49:05.723Z"
   },
   {
    "duration": 0,
    "start_time": "2022-05-21T10:49:05.725Z"
   },
   {
    "duration": 0,
    "start_time": "2022-05-21T10:49:05.727Z"
   },
   {
    "duration": 0,
    "start_time": "2022-05-21T10:49:05.728Z"
   },
   {
    "duration": 0,
    "start_time": "2022-05-21T10:49:05.730Z"
   },
   {
    "duration": 0,
    "start_time": "2022-05-21T10:49:05.732Z"
   },
   {
    "duration": 0,
    "start_time": "2022-05-21T10:49:05.734Z"
   },
   {
    "duration": 0,
    "start_time": "2022-05-21T10:49:05.735Z"
   },
   {
    "duration": 0,
    "start_time": "2022-05-21T10:49:05.737Z"
   },
   {
    "duration": 0,
    "start_time": "2022-05-21T10:49:05.738Z"
   },
   {
    "duration": 0,
    "start_time": "2022-05-21T10:49:05.803Z"
   },
   {
    "duration": 0,
    "start_time": "2022-05-21T10:49:05.803Z"
   },
   {
    "duration": 0,
    "start_time": "2022-05-21T10:49:05.805Z"
   },
   {
    "duration": 0,
    "start_time": "2022-05-21T10:49:05.806Z"
   },
   {
    "duration": 0,
    "start_time": "2022-05-21T10:49:05.808Z"
   },
   {
    "duration": 0,
    "start_time": "2022-05-21T10:49:05.809Z"
   },
   {
    "duration": 0,
    "start_time": "2022-05-21T10:49:05.810Z"
   },
   {
    "duration": 0,
    "start_time": "2022-05-21T10:49:05.810Z"
   },
   {
    "duration": 168,
    "start_time": "2022-05-21T10:50:43.166Z"
   },
   {
    "duration": 463,
    "start_time": "2022-05-21T10:50:44.966Z"
   },
   {
    "duration": 128,
    "start_time": "2022-05-21T10:51:20.318Z"
   },
   {
    "duration": 9,
    "start_time": "2022-05-21T10:51:57.125Z"
   },
   {
    "duration": 173,
    "start_time": "2022-05-21T10:52:08.209Z"
   },
   {
    "duration": 1192,
    "start_time": "2022-05-21T10:54:26.567Z"
   },
   {
    "duration": 39,
    "start_time": "2022-05-21T10:54:27.761Z"
   },
   {
    "duration": 16,
    "start_time": "2022-05-21T10:54:27.808Z"
   },
   {
    "duration": 7,
    "start_time": "2022-05-21T10:54:27.826Z"
   },
   {
    "duration": 6,
    "start_time": "2022-05-21T10:54:27.836Z"
   },
   {
    "duration": 14,
    "start_time": "2022-05-21T10:54:27.844Z"
   },
   {
    "duration": 12,
    "start_time": "2022-05-21T10:54:27.859Z"
   },
   {
    "duration": 48,
    "start_time": "2022-05-21T10:54:27.873Z"
   },
   {
    "duration": 48,
    "start_time": "2022-05-21T10:54:27.923Z"
   },
   {
    "duration": 7,
    "start_time": "2022-05-21T10:54:27.973Z"
   },
   {
    "duration": 15,
    "start_time": "2022-05-21T10:54:27.982Z"
   },
   {
    "duration": 30,
    "start_time": "2022-05-21T10:54:28.002Z"
   },
   {
    "duration": 10,
    "start_time": "2022-05-21T10:54:28.034Z"
   },
   {
    "duration": 10,
    "start_time": "2022-05-21T10:54:28.047Z"
   },
   {
    "duration": 8,
    "start_time": "2022-05-21T10:54:28.059Z"
   },
   {
    "duration": 6,
    "start_time": "2022-05-21T10:54:28.069Z"
   },
   {
    "duration": 9,
    "start_time": "2022-05-21T10:54:28.076Z"
   },
   {
    "duration": 17,
    "start_time": "2022-05-21T10:54:28.086Z"
   },
   {
    "duration": 24,
    "start_time": "2022-05-21T10:54:28.106Z"
   },
   {
    "duration": 14,
    "start_time": "2022-05-21T10:54:28.132Z"
   },
   {
    "duration": 9,
    "start_time": "2022-05-21T10:54:28.148Z"
   },
   {
    "duration": 9,
    "start_time": "2022-05-21T10:54:28.159Z"
   },
   {
    "duration": 16,
    "start_time": "2022-05-21T10:54:28.170Z"
   },
   {
    "duration": 14,
    "start_time": "2022-05-21T10:54:28.188Z"
   },
   {
    "duration": 33,
    "start_time": "2022-05-21T10:54:28.209Z"
   },
   {
    "duration": 18,
    "start_time": "2022-05-21T10:54:28.243Z"
   },
   {
    "duration": 17,
    "start_time": "2022-05-21T10:54:28.263Z"
   },
   {
    "duration": 11,
    "start_time": "2022-05-21T10:54:28.281Z"
   },
   {
    "duration": 38,
    "start_time": "2022-05-21T10:54:28.294Z"
   },
   {
    "duration": 7,
    "start_time": "2022-05-21T10:54:28.333Z"
   },
   {
    "duration": 10,
    "start_time": "2022-05-21T10:54:28.342Z"
   },
   {
    "duration": 16,
    "start_time": "2022-05-21T10:54:28.354Z"
   },
   {
    "duration": 205,
    "start_time": "2022-05-21T10:54:28.371Z"
   },
   {
    "duration": 8,
    "start_time": "2022-05-21T10:54:28.577Z"
   },
   {
    "duration": 23,
    "start_time": "2022-05-21T10:54:28.587Z"
   },
   {
    "duration": 139,
    "start_time": "2022-05-21T10:54:28.612Z"
   },
   {
    "duration": 12,
    "start_time": "2022-05-21T10:54:28.752Z"
   },
   {
    "duration": 13,
    "start_time": "2022-05-21T10:54:28.765Z"
   },
   {
    "duration": 11,
    "start_time": "2022-05-21T10:54:28.779Z"
   },
   {
    "duration": 22,
    "start_time": "2022-05-21T10:54:28.792Z"
   },
   {
    "duration": 9,
    "start_time": "2022-05-21T10:54:28.825Z"
   },
   {
    "duration": 336,
    "start_time": "2022-05-21T10:54:28.836Z"
   },
   {
    "duration": 304,
    "start_time": "2022-05-21T10:54:29.174Z"
   },
   {
    "duration": 5,
    "start_time": "2022-05-21T10:54:29.480Z"
   },
   {
    "duration": 22,
    "start_time": "2022-05-21T10:54:29.487Z"
   },
   {
    "duration": 215,
    "start_time": "2022-05-21T10:54:29.512Z"
   },
   {
    "duration": 12,
    "start_time": "2022-05-21T10:54:29.728Z"
   },
   {
    "duration": 7,
    "start_time": "2022-05-21T10:54:29.741Z"
   },
   {
    "duration": 275,
    "start_time": "2022-05-21T10:54:29.750Z"
   },
   {
    "duration": 18,
    "start_time": "2022-05-21T10:54:30.027Z"
   },
   {
    "duration": 298,
    "start_time": "2022-05-21T10:54:30.047Z"
   },
   {
    "duration": 141,
    "start_time": "2022-05-21T10:54:30.347Z"
   },
   {
    "duration": 165,
    "start_time": "2022-05-21T10:54:30.490Z"
   },
   {
    "duration": 5,
    "start_time": "2022-05-21T10:54:30.656Z"
   },
   {
    "duration": 186,
    "start_time": "2022-05-21T10:54:30.662Z"
   },
   {
    "duration": 5,
    "start_time": "2022-05-21T10:54:30.850Z"
   },
   {
    "duration": 27,
    "start_time": "2022-05-21T10:54:30.857Z"
   },
   {
    "duration": 74,
    "start_time": "2022-05-21T10:54:30.886Z"
   },
   {
    "duration": 9,
    "start_time": "2022-05-21T10:54:30.961Z"
   },
   {
    "duration": 86,
    "start_time": "2022-05-21T10:54:30.972Z"
   },
   {
    "duration": 19,
    "start_time": "2022-05-21T10:54:31.060Z"
   },
   {
    "duration": 64,
    "start_time": "2022-05-21T10:54:31.081Z"
   },
   {
    "duration": 18,
    "start_time": "2022-05-21T10:54:31.147Z"
   },
   {
    "duration": 79,
    "start_time": "2022-05-21T10:54:31.167Z"
   },
   {
    "duration": 34,
    "start_time": "2022-05-21T10:54:31.248Z"
   },
   {
    "duration": 101,
    "start_time": "2022-05-21T10:54:31.284Z"
   },
   {
    "duration": 98,
    "start_time": "2022-05-21T10:54:31.386Z"
   },
   {
    "duration": 29,
    "start_time": "2022-05-21T10:54:31.486Z"
   },
   {
    "duration": 18,
    "start_time": "2022-05-21T10:54:31.517Z"
   },
   {
    "duration": 32,
    "start_time": "2022-05-21T10:54:31.537Z"
   },
   {
    "duration": 5,
    "start_time": "2022-05-21T10:54:31.571Z"
   },
   {
    "duration": 10,
    "start_time": "2022-05-21T10:54:31.578Z"
   },
   {
    "duration": 275,
    "start_time": "2022-05-21T10:55:40.371Z"
   },
   {
    "duration": 9,
    "start_time": "2022-05-21T11:10:44.730Z"
   },
   {
    "duration": 130,
    "start_time": "2022-05-21T11:10:50.772Z"
   },
   {
    "duration": 125,
    "start_time": "2022-05-21T11:11:09.710Z"
   },
   {
    "duration": 132,
    "start_time": "2022-05-21T11:11:18.134Z"
   },
   {
    "duration": 16,
    "start_time": "2022-05-21T11:11:22.701Z"
   },
   {
    "duration": 16,
    "start_time": "2022-05-21T11:11:58.233Z"
   },
   {
    "duration": 8,
    "start_time": "2022-05-21T11:12:07.967Z"
   },
   {
    "duration": 9,
    "start_time": "2022-05-21T11:12:33.988Z"
   },
   {
    "duration": 9,
    "start_time": "2022-05-21T11:12:39.376Z"
   },
   {
    "duration": 7,
    "start_time": "2022-05-21T11:14:22.066Z"
   },
   {
    "duration": 7,
    "start_time": "2022-05-21T11:14:30.274Z"
   },
   {
    "duration": 4,
    "start_time": "2022-05-21T11:14:45.397Z"
   },
   {
    "duration": 6,
    "start_time": "2022-05-21T11:14:50.082Z"
   },
   {
    "duration": 6,
    "start_time": "2022-05-21T11:15:34.807Z"
   },
   {
    "duration": 11,
    "start_time": "2022-05-21T11:15:44.462Z"
   },
   {
    "duration": 12,
    "start_time": "2022-05-21T11:15:47.633Z"
   },
   {
    "duration": 9,
    "start_time": "2022-05-21T11:16:02.904Z"
   },
   {
    "duration": 1156,
    "start_time": "2022-05-21T11:16:06.935Z"
   },
   {
    "duration": 55,
    "start_time": "2022-05-21T11:16:08.095Z"
   },
   {
    "duration": 12,
    "start_time": "2022-05-21T11:16:08.151Z"
   },
   {
    "duration": 12,
    "start_time": "2022-05-21T11:16:08.165Z"
   },
   {
    "duration": 5,
    "start_time": "2022-05-21T11:16:08.178Z"
   },
   {
    "duration": 15,
    "start_time": "2022-05-21T11:16:08.184Z"
   },
   {
    "duration": 17,
    "start_time": "2022-05-21T11:16:08.201Z"
   },
   {
    "duration": 13,
    "start_time": "2022-05-21T11:16:08.219Z"
   },
   {
    "duration": 49,
    "start_time": "2022-05-21T11:16:08.233Z"
   },
   {
    "duration": 8,
    "start_time": "2022-05-21T11:16:08.285Z"
   },
   {
    "duration": 16,
    "start_time": "2022-05-21T11:16:08.294Z"
   },
   {
    "duration": 11,
    "start_time": "2022-05-21T11:16:08.311Z"
   },
   {
    "duration": 7,
    "start_time": "2022-05-21T11:16:08.323Z"
   },
   {
    "duration": 9,
    "start_time": "2022-05-21T11:16:08.331Z"
   },
   {
    "duration": 7,
    "start_time": "2022-05-21T11:16:08.342Z"
   },
   {
    "duration": 11,
    "start_time": "2022-05-21T11:16:08.351Z"
   },
   {
    "duration": 21,
    "start_time": "2022-05-21T11:16:08.364Z"
   },
   {
    "duration": 20,
    "start_time": "2022-05-21T11:16:08.387Z"
   },
   {
    "duration": 6,
    "start_time": "2022-05-21T11:16:08.409Z"
   },
   {
    "duration": 11,
    "start_time": "2022-05-21T11:16:08.416Z"
   },
   {
    "duration": 10,
    "start_time": "2022-05-21T11:16:08.428Z"
   },
   {
    "duration": 8,
    "start_time": "2022-05-21T11:16:08.439Z"
   },
   {
    "duration": 16,
    "start_time": "2022-05-21T11:16:08.448Z"
   },
   {
    "duration": 30,
    "start_time": "2022-05-21T11:16:08.465Z"
   },
   {
    "duration": 7,
    "start_time": "2022-05-21T11:16:08.496Z"
   },
   {
    "duration": 10,
    "start_time": "2022-05-21T11:16:08.504Z"
   },
   {
    "duration": 8,
    "start_time": "2022-05-21T11:16:08.516Z"
   },
   {
    "duration": 8,
    "start_time": "2022-05-21T11:16:08.528Z"
   },
   {
    "duration": 8,
    "start_time": "2022-05-21T11:16:08.538Z"
   },
   {
    "duration": 16,
    "start_time": "2022-05-21T11:16:08.548Z"
   },
   {
    "duration": 34,
    "start_time": "2022-05-21T11:16:08.566Z"
   },
   {
    "duration": 111,
    "start_time": "2022-05-21T11:16:08.601Z"
   },
   {
    "duration": 0,
    "start_time": "2022-05-21T11:16:08.714Z"
   },
   {
    "duration": 0,
    "start_time": "2022-05-21T11:16:08.715Z"
   },
   {
    "duration": 0,
    "start_time": "2022-05-21T11:16:08.716Z"
   },
   {
    "duration": 0,
    "start_time": "2022-05-21T11:16:08.717Z"
   },
   {
    "duration": 0,
    "start_time": "2022-05-21T11:16:08.717Z"
   },
   {
    "duration": 0,
    "start_time": "2022-05-21T11:16:08.718Z"
   },
   {
    "duration": 0,
    "start_time": "2022-05-21T11:16:08.719Z"
   },
   {
    "duration": 0,
    "start_time": "2022-05-21T11:16:08.720Z"
   },
   {
    "duration": 0,
    "start_time": "2022-05-21T11:16:08.721Z"
   },
   {
    "duration": 0,
    "start_time": "2022-05-21T11:16:08.722Z"
   },
   {
    "duration": 0,
    "start_time": "2022-05-21T11:16:08.723Z"
   },
   {
    "duration": 0,
    "start_time": "2022-05-21T11:16:08.724Z"
   },
   {
    "duration": 0,
    "start_time": "2022-05-21T11:16:08.725Z"
   },
   {
    "duration": 0,
    "start_time": "2022-05-21T11:16:08.726Z"
   },
   {
    "duration": 0,
    "start_time": "2022-05-21T11:16:08.727Z"
   },
   {
    "duration": 0,
    "start_time": "2022-05-21T11:16:08.728Z"
   },
   {
    "duration": 0,
    "start_time": "2022-05-21T11:16:08.729Z"
   },
   {
    "duration": 0,
    "start_time": "2022-05-21T11:16:08.730Z"
   },
   {
    "duration": 0,
    "start_time": "2022-05-21T11:16:08.731Z"
   },
   {
    "duration": 0,
    "start_time": "2022-05-21T11:16:08.732Z"
   },
   {
    "duration": 0,
    "start_time": "2022-05-21T11:16:08.733Z"
   },
   {
    "duration": 0,
    "start_time": "2022-05-21T11:16:08.734Z"
   },
   {
    "duration": 0,
    "start_time": "2022-05-21T11:16:08.735Z"
   },
   {
    "duration": 0,
    "start_time": "2022-05-21T11:16:08.736Z"
   },
   {
    "duration": 0,
    "start_time": "2022-05-21T11:16:08.737Z"
   },
   {
    "duration": 0,
    "start_time": "2022-05-21T11:16:08.738Z"
   },
   {
    "duration": 0,
    "start_time": "2022-05-21T11:16:08.739Z"
   },
   {
    "duration": 0,
    "start_time": "2022-05-21T11:16:08.740Z"
   },
   {
    "duration": 0,
    "start_time": "2022-05-21T11:16:08.741Z"
   },
   {
    "duration": 0,
    "start_time": "2022-05-21T11:16:08.742Z"
   },
   {
    "duration": 0,
    "start_time": "2022-05-21T11:16:08.743Z"
   },
   {
    "duration": 0,
    "start_time": "2022-05-21T11:16:08.744Z"
   },
   {
    "duration": 0,
    "start_time": "2022-05-21T11:16:08.745Z"
   },
   {
    "duration": 0,
    "start_time": "2022-05-21T11:16:08.746Z"
   },
   {
    "duration": 0,
    "start_time": "2022-05-21T11:16:08.746Z"
   },
   {
    "duration": 0,
    "start_time": "2022-05-21T11:16:08.795Z"
   },
   {
    "duration": 0,
    "start_time": "2022-05-21T11:16:08.796Z"
   },
   {
    "duration": 0,
    "start_time": "2022-05-21T11:16:08.797Z"
   },
   {
    "duration": 0,
    "start_time": "2022-05-21T11:16:08.798Z"
   },
   {
    "duration": 0,
    "start_time": "2022-05-21T11:16:08.799Z"
   },
   {
    "duration": 0,
    "start_time": "2022-05-21T11:16:08.800Z"
   },
   {
    "duration": 0,
    "start_time": "2022-05-21T11:16:08.801Z"
   },
   {
    "duration": 0,
    "start_time": "2022-05-21T11:16:08.802Z"
   },
   {
    "duration": 14,
    "start_time": "2022-05-21T11:16:40.171Z"
   },
   {
    "duration": 19,
    "start_time": "2022-05-21T11:16:49.024Z"
   },
   {
    "duration": 14,
    "start_time": "2022-05-21T11:17:01.278Z"
   },
   {
    "duration": 6,
    "start_time": "2022-05-21T11:20:54.204Z"
   },
   {
    "duration": 7,
    "start_time": "2022-05-21T11:20:57.914Z"
   },
   {
    "duration": 9,
    "start_time": "2022-05-21T11:21:07.086Z"
   },
   {
    "duration": 5,
    "start_time": "2022-05-21T11:21:34.377Z"
   },
   {
    "duration": 13,
    "start_time": "2022-05-21T11:21:41.693Z"
   },
   {
    "duration": 9,
    "start_time": "2022-05-21T11:21:54.966Z"
   },
   {
    "duration": 17,
    "start_time": "2022-05-21T11:21:59.926Z"
   },
   {
    "duration": 22,
    "start_time": "2022-05-21T11:23:17.493Z"
   },
   {
    "duration": 6,
    "start_time": "2022-05-21T11:23:21.661Z"
   },
   {
    "duration": 9,
    "start_time": "2022-05-21T11:23:31.893Z"
   },
   {
    "duration": 445,
    "start_time": "2022-05-21T11:23:42.625Z"
   },
   {
    "duration": 1083,
    "start_time": "2022-05-21T11:23:55.114Z"
   },
   {
    "duration": 42,
    "start_time": "2022-05-21T11:23:56.203Z"
   },
   {
    "duration": 11,
    "start_time": "2022-05-21T11:23:56.247Z"
   },
   {
    "duration": 5,
    "start_time": "2022-05-21T11:23:56.260Z"
   },
   {
    "duration": 4,
    "start_time": "2022-05-21T11:23:56.266Z"
   },
   {
    "duration": 12,
    "start_time": "2022-05-21T11:23:56.272Z"
   },
   {
    "duration": 13,
    "start_time": "2022-05-21T11:23:56.286Z"
   },
   {
    "duration": 16,
    "start_time": "2022-05-21T11:23:56.302Z"
   },
   {
    "duration": 49,
    "start_time": "2022-05-21T11:23:56.319Z"
   },
   {
    "duration": 8,
    "start_time": "2022-05-21T11:23:56.371Z"
   },
   {
    "duration": 12,
    "start_time": "2022-05-21T11:23:56.380Z"
   },
   {
    "duration": 17,
    "start_time": "2022-05-21T11:23:56.394Z"
   },
   {
    "duration": 7,
    "start_time": "2022-05-21T11:23:56.412Z"
   },
   {
    "duration": 10,
    "start_time": "2022-05-21T11:23:56.420Z"
   },
   {
    "duration": 5,
    "start_time": "2022-05-21T11:23:56.432Z"
   },
   {
    "duration": 5,
    "start_time": "2022-05-21T11:23:56.438Z"
   },
   {
    "duration": 15,
    "start_time": "2022-05-21T11:23:56.445Z"
   },
   {
    "duration": 18,
    "start_time": "2022-05-21T11:23:56.462Z"
   },
   {
    "duration": 28,
    "start_time": "2022-05-21T11:23:56.481Z"
   },
   {
    "duration": 13,
    "start_time": "2022-05-21T11:23:56.511Z"
   },
   {
    "duration": 9,
    "start_time": "2022-05-21T11:23:56.525Z"
   },
   {
    "duration": 8,
    "start_time": "2022-05-21T11:23:56.535Z"
   },
   {
    "duration": 12,
    "start_time": "2022-05-21T11:23:56.544Z"
   },
   {
    "duration": 7,
    "start_time": "2022-05-21T11:23:56.557Z"
   },
   {
    "duration": 10,
    "start_time": "2022-05-21T11:23:56.565Z"
   },
   {
    "duration": 24,
    "start_time": "2022-05-21T11:23:56.576Z"
   },
   {
    "duration": 7,
    "start_time": "2022-05-21T11:23:56.607Z"
   },
   {
    "duration": 14,
    "start_time": "2022-05-21T11:23:56.618Z"
   },
   {
    "duration": 11,
    "start_time": "2022-05-21T11:23:56.633Z"
   },
   {
    "duration": 16,
    "start_time": "2022-05-21T11:23:56.645Z"
   },
   {
    "duration": 6,
    "start_time": "2022-05-21T11:23:56.663Z"
   },
   {
    "duration": 144,
    "start_time": "2022-05-21T11:23:56.670Z"
   },
   {
    "duration": 0,
    "start_time": "2022-05-21T11:23:56.816Z"
   },
   {
    "duration": 0,
    "start_time": "2022-05-21T11:23:56.817Z"
   },
   {
    "duration": 1,
    "start_time": "2022-05-21T11:23:56.818Z"
   },
   {
    "duration": 0,
    "start_time": "2022-05-21T11:23:56.820Z"
   },
   {
    "duration": 0,
    "start_time": "2022-05-21T11:23:56.821Z"
   },
   {
    "duration": 0,
    "start_time": "2022-05-21T11:23:56.822Z"
   },
   {
    "duration": 0,
    "start_time": "2022-05-21T11:23:56.823Z"
   },
   {
    "duration": 0,
    "start_time": "2022-05-21T11:23:56.824Z"
   },
   {
    "duration": 0,
    "start_time": "2022-05-21T11:23:56.824Z"
   },
   {
    "duration": 0,
    "start_time": "2022-05-21T11:23:56.825Z"
   },
   {
    "duration": 0,
    "start_time": "2022-05-21T11:23:56.827Z"
   },
   {
    "duration": 0,
    "start_time": "2022-05-21T11:23:56.828Z"
   },
   {
    "duration": 0,
    "start_time": "2022-05-21T11:23:56.829Z"
   },
   {
    "duration": 0,
    "start_time": "2022-05-21T11:23:56.830Z"
   },
   {
    "duration": 0,
    "start_time": "2022-05-21T11:23:56.831Z"
   },
   {
    "duration": 0,
    "start_time": "2022-05-21T11:23:56.832Z"
   },
   {
    "duration": 0,
    "start_time": "2022-05-21T11:23:56.833Z"
   },
   {
    "duration": 0,
    "start_time": "2022-05-21T11:23:56.834Z"
   },
   {
    "duration": 0,
    "start_time": "2022-05-21T11:23:56.835Z"
   },
   {
    "duration": 0,
    "start_time": "2022-05-21T11:23:56.836Z"
   },
   {
    "duration": 0,
    "start_time": "2022-05-21T11:23:56.837Z"
   },
   {
    "duration": 0,
    "start_time": "2022-05-21T11:23:56.838Z"
   },
   {
    "duration": 0,
    "start_time": "2022-05-21T11:23:56.840Z"
   },
   {
    "duration": 0,
    "start_time": "2022-05-21T11:23:56.840Z"
   },
   {
    "duration": 0,
    "start_time": "2022-05-21T11:23:56.841Z"
   },
   {
    "duration": 0,
    "start_time": "2022-05-21T11:23:56.842Z"
   },
   {
    "duration": 0,
    "start_time": "2022-05-21T11:23:56.843Z"
   },
   {
    "duration": 0,
    "start_time": "2022-05-21T11:23:56.844Z"
   },
   {
    "duration": 0,
    "start_time": "2022-05-21T11:23:56.845Z"
   },
   {
    "duration": 0,
    "start_time": "2022-05-21T11:23:56.846Z"
   },
   {
    "duration": 0,
    "start_time": "2022-05-21T11:23:56.848Z"
   },
   {
    "duration": 0,
    "start_time": "2022-05-21T11:23:56.848Z"
   },
   {
    "duration": 0,
    "start_time": "2022-05-21T11:23:56.894Z"
   },
   {
    "duration": 0,
    "start_time": "2022-05-21T11:23:56.895Z"
   },
   {
    "duration": 0,
    "start_time": "2022-05-21T11:23:56.903Z"
   },
   {
    "duration": 0,
    "start_time": "2022-05-21T11:23:56.904Z"
   },
   {
    "duration": 0,
    "start_time": "2022-05-21T11:23:56.905Z"
   },
   {
    "duration": 0,
    "start_time": "2022-05-21T11:23:56.905Z"
   },
   {
    "duration": 0,
    "start_time": "2022-05-21T11:23:56.906Z"
   },
   {
    "duration": 0,
    "start_time": "2022-05-21T11:23:56.907Z"
   },
   {
    "duration": 0,
    "start_time": "2022-05-21T11:23:56.907Z"
   },
   {
    "duration": 0,
    "start_time": "2022-05-21T11:23:56.910Z"
   },
   {
    "duration": 0,
    "start_time": "2022-05-21T11:23:56.912Z"
   },
   {
    "duration": 14,
    "start_time": "2022-05-21T11:24:15.967Z"
   },
   {
    "duration": 7,
    "start_time": "2022-05-21T11:24:16.514Z"
   },
   {
    "duration": 13,
    "start_time": "2022-05-21T11:24:24.772Z"
   },
   {
    "duration": 8,
    "start_time": "2022-05-21T11:24:25.235Z"
   },
   {
    "duration": 14,
    "start_time": "2022-05-21T11:24:34.470Z"
   },
   {
    "duration": 14,
    "start_time": "2022-05-21T11:24:34.892Z"
   },
   {
    "duration": 31,
    "start_time": "2022-05-21T11:24:35.316Z"
   },
   {
    "duration": 22,
    "start_time": "2022-05-21T11:24:38.290Z"
   },
   {
    "duration": 15,
    "start_time": "2022-05-21T11:24:45.784Z"
   },
   {
    "duration": 16,
    "start_time": "2022-05-21T11:24:50.600Z"
   },
   {
    "duration": 8,
    "start_time": "2022-05-21T11:24:54.975Z"
   },
   {
    "duration": 102,
    "start_time": "2022-05-21T11:25:02.113Z"
   },
   {
    "duration": 8,
    "start_time": "2022-05-21T11:25:21.299Z"
   },
   {
    "duration": 16,
    "start_time": "2022-05-21T11:26:02.568Z"
   },
   {
    "duration": 8,
    "start_time": "2022-05-21T11:26:03.577Z"
   },
   {
    "duration": 37,
    "start_time": "2022-05-21T11:26:04.789Z"
   },
   {
    "duration": 17,
    "start_time": "2022-05-21T11:26:08.682Z"
   },
   {
    "duration": 8,
    "start_time": "2022-05-21T11:26:09.113Z"
   },
   {
    "duration": 30,
    "start_time": "2022-05-21T11:26:10.918Z"
   },
   {
    "duration": 17,
    "start_time": "2022-05-21T11:26:29.001Z"
   },
   {
    "duration": 9,
    "start_time": "2022-05-21T11:26:30.293Z"
   },
   {
    "duration": 26,
    "start_time": "2022-05-21T11:26:30.524Z"
   },
   {
    "duration": 18,
    "start_time": "2022-05-21T11:26:33.521Z"
   },
   {
    "duration": 664,
    "start_time": "2022-05-21T11:27:36.871Z"
   },
   {
    "duration": 578,
    "start_time": "2022-05-21T11:27:51.965Z"
   },
   {
    "duration": 743,
    "start_time": "2022-05-21T11:28:19.322Z"
   },
   {
    "duration": 8,
    "start_time": "2022-05-21T11:31:46.937Z"
   },
   {
    "duration": 11,
    "start_time": "2022-05-21T11:31:50.487Z"
   },
   {
    "duration": 7,
    "start_time": "2022-05-21T11:31:54.185Z"
   },
   {
    "duration": 9,
    "start_time": "2022-05-21T11:32:26.362Z"
   },
   {
    "duration": 13,
    "start_time": "2022-05-21T11:32:30.875Z"
   },
   {
    "duration": 90,
    "start_time": "2022-05-21T11:32:42.662Z"
   },
   {
    "duration": 4,
    "start_time": "2022-05-21T11:34:21.024Z"
   },
   {
    "duration": 12,
    "start_time": "2022-05-21T11:34:31.719Z"
   },
   {
    "duration": 8,
    "start_time": "2022-05-21T11:34:48.427Z"
   },
   {
    "duration": 35,
    "start_time": "2022-05-21T11:35:14.987Z"
   },
   {
    "duration": 11,
    "start_time": "2022-05-21T11:35:21.734Z"
   },
   {
    "duration": 8,
    "start_time": "2022-05-21T11:38:49.172Z"
   },
   {
    "duration": 15,
    "start_time": "2022-05-21T11:40:14.664Z"
   },
   {
    "duration": 703,
    "start_time": "2022-05-21T11:40:18.382Z"
   },
   {
    "duration": 1080,
    "start_time": "2022-05-21T11:40:26.022Z"
   },
   {
    "duration": 35,
    "start_time": "2022-05-21T11:40:27.104Z"
   },
   {
    "duration": 12,
    "start_time": "2022-05-21T11:40:27.141Z"
   },
   {
    "duration": 7,
    "start_time": "2022-05-21T11:40:27.155Z"
   },
   {
    "duration": 3,
    "start_time": "2022-05-21T11:40:27.163Z"
   },
   {
    "duration": 13,
    "start_time": "2022-05-21T11:40:27.168Z"
   },
   {
    "duration": 21,
    "start_time": "2022-05-21T11:40:27.183Z"
   },
   {
    "duration": 24,
    "start_time": "2022-05-21T11:40:27.206Z"
   },
   {
    "duration": 54,
    "start_time": "2022-05-21T11:40:27.232Z"
   },
   {
    "duration": 11,
    "start_time": "2022-05-21T11:40:27.289Z"
   },
   {
    "duration": 23,
    "start_time": "2022-05-21T11:40:27.302Z"
   },
   {
    "duration": 19,
    "start_time": "2022-05-21T11:40:27.327Z"
   },
   {
    "duration": 7,
    "start_time": "2022-05-21T11:40:27.348Z"
   },
   {
    "duration": 16,
    "start_time": "2022-05-21T11:40:27.357Z"
   },
   {
    "duration": 10,
    "start_time": "2022-05-21T11:40:27.375Z"
   },
   {
    "duration": 9,
    "start_time": "2022-05-21T11:40:27.387Z"
   },
   {
    "duration": 10,
    "start_time": "2022-05-21T11:40:27.397Z"
   },
   {
    "duration": 16,
    "start_time": "2022-05-21T11:40:27.411Z"
   },
   {
    "duration": 16,
    "start_time": "2022-05-21T11:40:27.429Z"
   },
   {
    "duration": 13,
    "start_time": "2022-05-21T11:40:27.447Z"
   },
   {
    "duration": 11,
    "start_time": "2022-05-21T11:40:27.462Z"
   },
   {
    "duration": 26,
    "start_time": "2022-05-21T11:40:27.475Z"
   },
   {
    "duration": 19,
    "start_time": "2022-05-21T11:40:27.503Z"
   },
   {
    "duration": 7,
    "start_time": "2022-05-21T11:40:27.523Z"
   },
   {
    "duration": 8,
    "start_time": "2022-05-21T11:40:27.531Z"
   },
   {
    "duration": 8,
    "start_time": "2022-05-21T11:40:27.541Z"
   },
   {
    "duration": 11,
    "start_time": "2022-05-21T11:40:27.550Z"
   },
   {
    "duration": 7,
    "start_time": "2022-05-21T11:40:27.564Z"
   },
   {
    "duration": 32,
    "start_time": "2022-05-21T11:40:27.572Z"
   },
   {
    "duration": 18,
    "start_time": "2022-05-21T11:40:27.605Z"
   },
   {
    "duration": 5,
    "start_time": "2022-05-21T11:40:27.625Z"
   },
   {
    "duration": 8,
    "start_time": "2022-05-21T11:40:27.631Z"
   },
   {
    "duration": 11,
    "start_time": "2022-05-21T11:40:27.640Z"
   },
   {
    "duration": 207,
    "start_time": "2022-05-21T11:40:27.652Z"
   },
   {
    "duration": 8,
    "start_time": "2022-05-21T11:40:27.860Z"
   },
   {
    "duration": 21,
    "start_time": "2022-05-21T11:40:27.869Z"
   },
   {
    "duration": 134,
    "start_time": "2022-05-21T11:40:27.892Z"
   },
   {
    "duration": 7,
    "start_time": "2022-05-21T11:40:28.028Z"
   },
   {
    "duration": 17,
    "start_time": "2022-05-21T11:40:28.037Z"
   },
   {
    "duration": 20,
    "start_time": "2022-05-21T11:40:28.056Z"
   },
   {
    "duration": 19,
    "start_time": "2022-05-21T11:40:28.077Z"
   },
   {
    "duration": 32,
    "start_time": "2022-05-21T11:40:28.097Z"
   },
   {
    "duration": 339,
    "start_time": "2022-05-21T11:40:28.130Z"
   },
   {
    "duration": 282,
    "start_time": "2022-05-21T11:40:28.471Z"
   },
   {
    "duration": 6,
    "start_time": "2022-05-21T11:40:28.755Z"
   },
   {
    "duration": 11,
    "start_time": "2022-05-21T11:40:28.762Z"
   },
   {
    "duration": 186,
    "start_time": "2022-05-21T11:40:28.774Z"
   },
   {
    "duration": 11,
    "start_time": "2022-05-21T11:40:28.961Z"
   },
   {
    "duration": 6,
    "start_time": "2022-05-21T11:40:28.973Z"
   },
   {
    "duration": 221,
    "start_time": "2022-05-21T11:40:28.981Z"
   },
   {
    "duration": 13,
    "start_time": "2022-05-21T11:40:29.204Z"
   },
   {
    "duration": 229,
    "start_time": "2022-05-21T11:40:29.219Z"
   },
   {
    "duration": 129,
    "start_time": "2022-05-21T11:40:29.450Z"
   },
   {
    "duration": 136,
    "start_time": "2022-05-21T11:40:29.581Z"
   },
   {
    "duration": 5,
    "start_time": "2022-05-21T11:40:29.718Z"
   },
   {
    "duration": 144,
    "start_time": "2022-05-21T11:40:29.724Z"
   },
   {
    "duration": 4,
    "start_time": "2022-05-21T11:40:29.870Z"
   },
   {
    "duration": 21,
    "start_time": "2022-05-21T11:40:29.875Z"
   },
   {
    "duration": 53,
    "start_time": "2022-05-21T11:40:29.898Z"
   },
   {
    "duration": 16,
    "start_time": "2022-05-21T11:40:29.953Z"
   },
   {
    "duration": 62,
    "start_time": "2022-05-21T11:40:29.970Z"
   },
   {
    "duration": 22,
    "start_time": "2022-05-21T11:40:30.034Z"
   },
   {
    "duration": 72,
    "start_time": "2022-05-21T11:40:30.058Z"
   },
   {
    "duration": 21,
    "start_time": "2022-05-21T11:40:30.131Z"
   },
   {
    "duration": 75,
    "start_time": "2022-05-21T11:40:30.153Z"
   },
   {
    "duration": 36,
    "start_time": "2022-05-21T11:40:30.229Z"
   },
   {
    "duration": 74,
    "start_time": "2022-05-21T11:40:30.266Z"
   },
   {
    "duration": 83,
    "start_time": "2022-05-21T11:40:30.342Z"
   },
   {
    "duration": 6,
    "start_time": "2022-05-21T11:40:30.426Z"
   },
   {
    "duration": 18,
    "start_time": "2022-05-21T11:40:30.434Z"
   },
   {
    "duration": 29,
    "start_time": "2022-05-21T11:40:30.454Z"
   },
   {
    "duration": 12,
    "start_time": "2022-05-21T11:40:30.485Z"
   },
   {
    "duration": 13,
    "start_time": "2022-05-21T11:40:30.498Z"
   },
   {
    "duration": 8,
    "start_time": "2022-05-21T11:40:52.534Z"
   },
   {
    "duration": 4,
    "start_time": "2022-05-21T11:41:02.966Z"
   },
   {
    "duration": 8,
    "start_time": "2022-05-21T11:41:16.713Z"
   },
   {
    "duration": 10,
    "start_time": "2022-05-21T11:41:38.282Z"
   },
   {
    "duration": 6,
    "start_time": "2022-05-21T11:41:53.505Z"
   },
   {
    "duration": 12,
    "start_time": "2022-05-21T11:42:45.998Z"
   },
   {
    "duration": 621,
    "start_time": "2022-05-21T11:43:21.521Z"
   },
   {
    "duration": 455,
    "start_time": "2022-05-21T11:43:32.506Z"
   },
   {
    "duration": 7,
    "start_time": "2022-05-21T11:43:49.198Z"
   },
   {
    "duration": 6,
    "start_time": "2022-05-21T11:44:01.464Z"
   },
   {
    "duration": 6,
    "start_time": "2022-05-21T11:44:10.866Z"
   },
   {
    "duration": 1126,
    "start_time": "2022-05-21T11:45:28.674Z"
   },
   {
    "duration": 38,
    "start_time": "2022-05-21T11:45:29.802Z"
   },
   {
    "duration": 10,
    "start_time": "2022-05-21T11:45:29.842Z"
   },
   {
    "duration": 10,
    "start_time": "2022-05-21T11:45:29.855Z"
   },
   {
    "duration": 6,
    "start_time": "2022-05-21T11:45:29.867Z"
   },
   {
    "duration": 16,
    "start_time": "2022-05-21T11:45:29.874Z"
   },
   {
    "duration": 21,
    "start_time": "2022-05-21T11:45:29.892Z"
   },
   {
    "duration": 13,
    "start_time": "2022-05-21T11:45:29.914Z"
   },
   {
    "duration": 48,
    "start_time": "2022-05-21T11:45:29.929Z"
   },
   {
    "duration": 7,
    "start_time": "2022-05-21T11:45:29.980Z"
   },
   {
    "duration": 20,
    "start_time": "2022-05-21T11:45:29.989Z"
   },
   {
    "duration": 14,
    "start_time": "2022-05-21T11:45:30.012Z"
   },
   {
    "duration": 7,
    "start_time": "2022-05-21T11:45:30.028Z"
   },
   {
    "duration": 11,
    "start_time": "2022-05-21T11:45:30.037Z"
   },
   {
    "duration": 5,
    "start_time": "2022-05-21T11:45:30.050Z"
   },
   {
    "duration": 5,
    "start_time": "2022-05-21T11:45:30.057Z"
   },
   {
    "duration": 11,
    "start_time": "2022-05-21T11:45:30.063Z"
   },
   {
    "duration": 9,
    "start_time": "2022-05-21T11:45:30.076Z"
   },
   {
    "duration": 10,
    "start_time": "2022-05-21T11:45:30.096Z"
   },
   {
    "duration": 13,
    "start_time": "2022-05-21T11:45:30.108Z"
   },
   {
    "duration": 13,
    "start_time": "2022-05-21T11:45:30.123Z"
   },
   {
    "duration": 12,
    "start_time": "2022-05-21T11:45:30.138Z"
   },
   {
    "duration": 20,
    "start_time": "2022-05-21T11:45:30.151Z"
   },
   {
    "duration": 10,
    "start_time": "2022-05-21T11:45:30.173Z"
   },
   {
    "duration": 13,
    "start_time": "2022-05-21T11:45:30.185Z"
   },
   {
    "duration": 21,
    "start_time": "2022-05-21T11:45:30.199Z"
   },
   {
    "duration": 11,
    "start_time": "2022-05-21T11:45:30.222Z"
   },
   {
    "duration": 23,
    "start_time": "2022-05-21T11:45:30.239Z"
   },
   {
    "duration": 10,
    "start_time": "2022-05-21T11:45:30.264Z"
   },
   {
    "duration": 31,
    "start_time": "2022-05-21T11:45:30.276Z"
   },
   {
    "duration": 10,
    "start_time": "2022-05-21T11:45:30.309Z"
   },
   {
    "duration": 10,
    "start_time": "2022-05-21T11:45:30.320Z"
   },
   {
    "duration": 18,
    "start_time": "2022-05-21T11:45:30.332Z"
   },
   {
    "duration": 23,
    "start_time": "2022-05-21T11:45:30.352Z"
   },
   {
    "duration": 146,
    "start_time": "2022-05-21T11:45:30.376Z"
   },
   {
    "duration": 0,
    "start_time": "2022-05-21T11:45:30.524Z"
   },
   {
    "duration": 0,
    "start_time": "2022-05-21T11:45:30.525Z"
   },
   {
    "duration": 0,
    "start_time": "2022-05-21T11:45:30.526Z"
   },
   {
    "duration": 0,
    "start_time": "2022-05-21T11:45:30.527Z"
   },
   {
    "duration": 0,
    "start_time": "2022-05-21T11:45:30.529Z"
   },
   {
    "duration": 0,
    "start_time": "2022-05-21T11:45:30.530Z"
   },
   {
    "duration": 0,
    "start_time": "2022-05-21T11:45:30.530Z"
   },
   {
    "duration": 0,
    "start_time": "2022-05-21T11:45:30.532Z"
   },
   {
    "duration": 0,
    "start_time": "2022-05-21T11:45:30.532Z"
   },
   {
    "duration": 0,
    "start_time": "2022-05-21T11:45:30.533Z"
   },
   {
    "duration": 0,
    "start_time": "2022-05-21T11:45:30.534Z"
   },
   {
    "duration": 0,
    "start_time": "2022-05-21T11:45:30.535Z"
   },
   {
    "duration": 0,
    "start_time": "2022-05-21T11:45:30.536Z"
   },
   {
    "duration": 0,
    "start_time": "2022-05-21T11:45:30.537Z"
   },
   {
    "duration": 0,
    "start_time": "2022-05-21T11:45:30.538Z"
   },
   {
    "duration": 0,
    "start_time": "2022-05-21T11:45:30.539Z"
   },
   {
    "duration": 0,
    "start_time": "2022-05-21T11:45:30.540Z"
   },
   {
    "duration": 0,
    "start_time": "2022-05-21T11:45:30.541Z"
   },
   {
    "duration": 0,
    "start_time": "2022-05-21T11:45:30.542Z"
   },
   {
    "duration": 0,
    "start_time": "2022-05-21T11:45:30.543Z"
   },
   {
    "duration": 0,
    "start_time": "2022-05-21T11:45:30.544Z"
   },
   {
    "duration": 0,
    "start_time": "2022-05-21T11:45:30.544Z"
   },
   {
    "duration": 0,
    "start_time": "2022-05-21T11:45:30.545Z"
   },
   {
    "duration": 0,
    "start_time": "2022-05-21T11:45:30.546Z"
   },
   {
    "duration": 0,
    "start_time": "2022-05-21T11:45:30.547Z"
   },
   {
    "duration": 0,
    "start_time": "2022-05-21T11:45:30.548Z"
   },
   {
    "duration": 0,
    "start_time": "2022-05-21T11:45:30.549Z"
   },
   {
    "duration": 0,
    "start_time": "2022-05-21T11:45:30.549Z"
   },
   {
    "duration": 0,
    "start_time": "2022-05-21T11:45:30.551Z"
   },
   {
    "duration": 0,
    "start_time": "2022-05-21T11:45:30.552Z"
   },
   {
    "duration": 0,
    "start_time": "2022-05-21T11:45:30.553Z"
   },
   {
    "duration": 0,
    "start_time": "2022-05-21T11:45:30.553Z"
   },
   {
    "duration": 0,
    "start_time": "2022-05-21T11:45:30.555Z"
   },
   {
    "duration": 0,
    "start_time": "2022-05-21T11:45:30.556Z"
   },
   {
    "duration": 0,
    "start_time": "2022-05-21T11:45:30.600Z"
   },
   {
    "duration": 0,
    "start_time": "2022-05-21T11:45:30.601Z"
   },
   {
    "duration": 0,
    "start_time": "2022-05-21T11:45:30.601Z"
   },
   {
    "duration": 0,
    "start_time": "2022-05-21T11:45:30.602Z"
   },
   {
    "duration": 0,
    "start_time": "2022-05-21T11:45:30.603Z"
   },
   {
    "duration": 0,
    "start_time": "2022-05-21T11:45:30.604Z"
   },
   {
    "duration": 0,
    "start_time": "2022-05-21T11:45:30.609Z"
   },
   {
    "duration": 0,
    "start_time": "2022-05-21T11:45:30.610Z"
   },
   {
    "duration": 0,
    "start_time": "2022-05-21T11:45:30.611Z"
   },
   {
    "duration": 0,
    "start_time": "2022-05-21T11:45:30.612Z"
   },
   {
    "duration": 15,
    "start_time": "2022-05-21T11:46:51.072Z"
   },
   {
    "duration": 1181,
    "start_time": "2022-05-21T11:46:56.683Z"
   },
   {
    "duration": 35,
    "start_time": "2022-05-21T11:46:57.865Z"
   },
   {
    "duration": 14,
    "start_time": "2022-05-21T11:46:57.901Z"
   },
   {
    "duration": 5,
    "start_time": "2022-05-21T11:46:57.917Z"
   },
   {
    "duration": 5,
    "start_time": "2022-05-21T11:46:57.923Z"
   },
   {
    "duration": 15,
    "start_time": "2022-05-21T11:46:57.929Z"
   },
   {
    "duration": 11,
    "start_time": "2022-05-21T11:46:57.945Z"
   },
   {
    "duration": 47,
    "start_time": "2022-05-21T11:46:57.958Z"
   },
   {
    "duration": 48,
    "start_time": "2022-05-21T11:46:58.009Z"
   },
   {
    "duration": 9,
    "start_time": "2022-05-21T11:46:58.058Z"
   },
   {
    "duration": 13,
    "start_time": "2022-05-21T11:46:58.068Z"
   },
   {
    "duration": 7,
    "start_time": "2022-05-21T11:46:58.082Z"
   },
   {
    "duration": 19,
    "start_time": "2022-05-21T11:46:58.090Z"
   },
   {
    "duration": 10,
    "start_time": "2022-05-21T11:46:58.112Z"
   },
   {
    "duration": 5,
    "start_time": "2022-05-21T11:46:58.124Z"
   },
   {
    "duration": 6,
    "start_time": "2022-05-21T11:46:58.131Z"
   },
   {
    "duration": 8,
    "start_time": "2022-05-21T11:46:58.138Z"
   },
   {
    "duration": 9,
    "start_time": "2022-05-21T11:46:58.148Z"
   },
   {
    "duration": 9,
    "start_time": "2022-05-21T11:46:58.158Z"
   },
   {
    "duration": 9,
    "start_time": "2022-05-21T11:46:58.168Z"
   },
   {
    "duration": 29,
    "start_time": "2022-05-21T11:46:58.179Z"
   },
   {
    "duration": 11,
    "start_time": "2022-05-21T11:46:58.209Z"
   },
   {
    "duration": 12,
    "start_time": "2022-05-21T11:46:58.221Z"
   },
   {
    "duration": 6,
    "start_time": "2022-05-21T11:46:58.234Z"
   },
   {
    "duration": 10,
    "start_time": "2022-05-21T11:46:58.241Z"
   },
   {
    "duration": 6,
    "start_time": "2022-05-21T11:46:58.253Z"
   },
   {
    "duration": 9,
    "start_time": "2022-05-21T11:46:58.260Z"
   },
   {
    "duration": 44,
    "start_time": "2022-05-21T11:46:58.271Z"
   },
   {
    "duration": 10,
    "start_time": "2022-05-21T11:46:58.316Z"
   },
   {
    "duration": 19,
    "start_time": "2022-05-21T11:46:58.327Z"
   },
   {
    "duration": 5,
    "start_time": "2022-05-21T11:46:58.348Z"
   },
   {
    "duration": 10,
    "start_time": "2022-05-21T11:46:58.355Z"
   },
   {
    "duration": 12,
    "start_time": "2022-05-21T11:46:58.367Z"
   },
   {
    "duration": 204,
    "start_time": "2022-05-21T11:46:58.395Z"
   },
   {
    "duration": 9,
    "start_time": "2022-05-21T11:46:58.605Z"
   },
   {
    "duration": 23,
    "start_time": "2022-05-21T11:46:58.615Z"
   },
   {
    "duration": 130,
    "start_time": "2022-05-21T11:46:58.640Z"
   },
   {
    "duration": 32,
    "start_time": "2022-05-21T11:46:58.771Z"
   },
   {
    "duration": 19,
    "start_time": "2022-05-21T11:46:58.804Z"
   },
   {
    "duration": 19,
    "start_time": "2022-05-21T11:46:58.825Z"
   },
   {
    "duration": 16,
    "start_time": "2022-05-21T11:46:58.849Z"
   },
   {
    "duration": 11,
    "start_time": "2022-05-21T11:46:58.867Z"
   },
   {
    "duration": 335,
    "start_time": "2022-05-21T11:46:58.879Z"
   },
   {
    "duration": 280,
    "start_time": "2022-05-21T11:46:59.215Z"
   },
   {
    "duration": 9,
    "start_time": "2022-05-21T11:46:59.498Z"
   },
   {
    "duration": 12,
    "start_time": "2022-05-21T11:46:59.509Z"
   },
   {
    "duration": 201,
    "start_time": "2022-05-21T11:46:59.522Z"
   },
   {
    "duration": 12,
    "start_time": "2022-05-21T11:46:59.724Z"
   },
   {
    "duration": 10,
    "start_time": "2022-05-21T11:46:59.737Z"
   },
   {
    "duration": 226,
    "start_time": "2022-05-21T11:46:59.748Z"
   },
   {
    "duration": 12,
    "start_time": "2022-05-21T11:46:59.976Z"
   },
   {
    "duration": 249,
    "start_time": "2022-05-21T11:46:59.995Z"
   },
   {
    "duration": 141,
    "start_time": "2022-05-21T11:47:00.245Z"
   },
   {
    "duration": 141,
    "start_time": "2022-05-21T11:47:00.394Z"
   },
   {
    "duration": 8,
    "start_time": "2022-05-21T11:47:00.537Z"
   },
   {
    "duration": 19,
    "start_time": "2022-05-21T11:47:00.547Z"
   },
   {
    "duration": 154,
    "start_time": "2022-05-21T11:47:00.568Z"
   },
   {
    "duration": 4,
    "start_time": "2022-05-21T11:47:00.724Z"
   },
   {
    "duration": 25,
    "start_time": "2022-05-21T11:47:00.729Z"
   },
   {
    "duration": 70,
    "start_time": "2022-05-21T11:47:00.756Z"
   },
   {
    "duration": 19,
    "start_time": "2022-05-21T11:47:00.828Z"
   },
   {
    "duration": 76,
    "start_time": "2022-05-21T11:47:00.849Z"
   },
   {
    "duration": 33,
    "start_time": "2022-05-21T11:47:00.927Z"
   },
   {
    "duration": 77,
    "start_time": "2022-05-21T11:47:00.962Z"
   },
   {
    "duration": 34,
    "start_time": "2022-05-21T11:47:01.041Z"
   },
   {
    "duration": 69,
    "start_time": "2022-05-21T11:47:01.076Z"
   },
   {
    "duration": 42,
    "start_time": "2022-05-21T11:47:01.147Z"
   },
   {
    "duration": 87,
    "start_time": "2022-05-21T11:47:01.191Z"
   },
   {
    "duration": 94,
    "start_time": "2022-05-21T11:47:01.280Z"
   },
   {
    "duration": 7,
    "start_time": "2022-05-21T11:47:01.375Z"
   },
   {
    "duration": 47,
    "start_time": "2022-05-21T11:47:01.384Z"
   },
   {
    "duration": 36,
    "start_time": "2022-05-21T11:47:01.434Z"
   },
   {
    "duration": 4,
    "start_time": "2022-05-21T11:47:01.472Z"
   },
   {
    "duration": 23,
    "start_time": "2022-05-21T11:47:01.478Z"
   },
   {
    "duration": 6,
    "start_time": "2022-05-21T11:47:39.778Z"
   },
   {
    "duration": 5,
    "start_time": "2022-05-21T11:47:46.275Z"
   },
   {
    "duration": 5,
    "start_time": "2022-05-21T11:47:56.866Z"
   },
   {
    "duration": 119,
    "start_time": "2022-05-21T11:48:00.692Z"
   },
   {
    "duration": 36,
    "start_time": "2022-05-21T11:49:05.909Z"
   },
   {
    "duration": 5,
    "start_time": "2022-05-21T11:51:54.717Z"
   },
   {
    "duration": 10,
    "start_time": "2022-05-21T11:53:06.627Z"
   },
   {
    "duration": 669,
    "start_time": "2022-05-21T11:58:02.868Z"
   },
   {
    "duration": 11,
    "start_time": "2022-05-21T12:00:26.291Z"
   },
   {
    "duration": 5,
    "start_time": "2022-05-21T12:00:33.037Z"
   },
   {
    "duration": 7,
    "start_time": "2022-05-21T12:01:04.977Z"
   },
   {
    "duration": 17,
    "start_time": "2022-05-21T12:01:11.981Z"
   },
   {
    "duration": 6,
    "start_time": "2022-05-21T12:01:35.431Z"
   },
   {
    "duration": 4,
    "start_time": "2022-05-21T12:12:37.080Z"
   },
   {
    "duration": 10,
    "start_time": "2022-05-21T12:12:43.540Z"
   },
   {
    "duration": 4,
    "start_time": "2022-05-21T12:13:37.629Z"
   },
   {
    "duration": 6,
    "start_time": "2022-05-21T12:13:42.622Z"
   },
   {
    "duration": 22,
    "start_time": "2022-05-21T12:13:45.717Z"
   },
   {
    "duration": 614,
    "start_time": "2022-05-21T12:14:44.576Z"
   },
   {
    "duration": 16,
    "start_time": "2022-05-21T12:14:47.620Z"
   },
   {
    "duration": 9,
    "start_time": "2022-05-21T12:14:57.548Z"
   },
   {
    "duration": 16,
    "start_time": "2022-05-21T12:15:46.218Z"
   },
   {
    "duration": 10,
    "start_time": "2022-05-21T12:20:15.919Z"
   },
   {
    "duration": 8,
    "start_time": "2022-05-21T12:20:51.683Z"
   },
   {
    "duration": 5,
    "start_time": "2022-05-21T12:20:57.712Z"
   },
   {
    "duration": 5,
    "start_time": "2022-05-21T12:21:01.979Z"
   },
   {
    "duration": 9,
    "start_time": "2022-05-21T12:21:11.243Z"
   },
   {
    "duration": 6,
    "start_time": "2022-05-21T12:21:49.446Z"
   },
   {
    "duration": 6,
    "start_time": "2022-05-21T12:22:05.187Z"
   },
   {
    "duration": 18,
    "start_time": "2022-05-21T12:22:10.420Z"
   },
   {
    "duration": 1420,
    "start_time": "2022-05-21T12:22:20.088Z"
   },
   {
    "duration": 45,
    "start_time": "2022-05-21T12:22:21.518Z"
   },
   {
    "duration": 12,
    "start_time": "2022-05-21T12:22:21.565Z"
   },
   {
    "duration": 8,
    "start_time": "2022-05-21T12:22:21.579Z"
   },
   {
    "duration": 15,
    "start_time": "2022-05-21T12:22:21.589Z"
   },
   {
    "duration": 64,
    "start_time": "2022-05-21T12:22:21.606Z"
   },
   {
    "duration": 16,
    "start_time": "2022-05-21T12:22:21.672Z"
   },
   {
    "duration": 70,
    "start_time": "2022-05-21T12:22:21.689Z"
   },
   {
    "duration": 76,
    "start_time": "2022-05-21T12:22:21.761Z"
   },
   {
    "duration": 10,
    "start_time": "2022-05-21T12:22:21.839Z"
   },
   {
    "duration": 28,
    "start_time": "2022-05-21T12:22:21.851Z"
   },
   {
    "duration": 8,
    "start_time": "2022-05-21T12:22:21.881Z"
   },
   {
    "duration": 30,
    "start_time": "2022-05-21T12:22:21.891Z"
   },
   {
    "duration": 38,
    "start_time": "2022-05-21T12:22:21.925Z"
   },
   {
    "duration": 7,
    "start_time": "2022-05-21T12:22:21.965Z"
   },
   {
    "duration": 11,
    "start_time": "2022-05-21T12:22:21.974Z"
   },
   {
    "duration": 43,
    "start_time": "2022-05-21T12:22:21.987Z"
   },
   {
    "duration": 40,
    "start_time": "2022-05-21T12:22:22.033Z"
   },
   {
    "duration": 13,
    "start_time": "2022-05-21T12:22:22.075Z"
   },
   {
    "duration": 25,
    "start_time": "2022-05-21T12:22:22.090Z"
   },
   {
    "duration": 36,
    "start_time": "2022-05-21T12:22:22.122Z"
   },
   {
    "duration": 23,
    "start_time": "2022-05-21T12:22:22.160Z"
   },
   {
    "duration": 31,
    "start_time": "2022-05-21T12:22:22.185Z"
   },
   {
    "duration": 51,
    "start_time": "2022-05-21T12:22:22.222Z"
   },
   {
    "duration": 15,
    "start_time": "2022-05-21T12:22:22.276Z"
   },
   {
    "duration": 88,
    "start_time": "2022-05-21T12:22:22.294Z"
   },
   {
    "duration": 84,
    "start_time": "2022-05-21T12:22:22.384Z"
   },
   {
    "duration": 14,
    "start_time": "2022-05-21T12:22:22.470Z"
   },
   {
    "duration": 69,
    "start_time": "2022-05-21T12:22:22.485Z"
   },
   {
    "duration": 22,
    "start_time": "2022-05-21T12:22:22.556Z"
   },
   {
    "duration": 8,
    "start_time": "2022-05-21T12:22:22.579Z"
   },
   {
    "duration": 74,
    "start_time": "2022-05-21T12:22:22.588Z"
   },
   {
    "duration": 11,
    "start_time": "2022-05-21T12:22:22.663Z"
   },
   {
    "duration": 9,
    "start_time": "2022-05-21T12:22:22.676Z"
   },
   {
    "duration": 31,
    "start_time": "2022-05-21T12:22:22.687Z"
   },
   {
    "duration": 269,
    "start_time": "2022-05-21T12:22:22.721Z"
   },
   {
    "duration": 25,
    "start_time": "2022-05-21T12:22:22.992Z"
   },
   {
    "duration": 42,
    "start_time": "2022-05-21T12:22:23.019Z"
   },
   {
    "duration": 179,
    "start_time": "2022-05-21T12:22:23.063Z"
   },
   {
    "duration": 10,
    "start_time": "2022-05-21T12:22:23.246Z"
   },
   {
    "duration": 14,
    "start_time": "2022-05-21T12:22:23.261Z"
   },
   {
    "duration": 14,
    "start_time": "2022-05-21T12:22:23.277Z"
   },
   {
    "duration": 48,
    "start_time": "2022-05-21T12:22:23.293Z"
   },
   {
    "duration": 24,
    "start_time": "2022-05-21T12:22:23.343Z"
   },
   {
    "duration": 409,
    "start_time": "2022-05-21T12:22:23.369Z"
   },
   {
    "duration": 389,
    "start_time": "2022-05-21T12:22:23.780Z"
   },
   {
    "duration": 8,
    "start_time": "2022-05-21T12:22:24.171Z"
   },
   {
    "duration": 9,
    "start_time": "2022-05-21T12:22:24.182Z"
   },
   {
    "duration": 267,
    "start_time": "2022-05-21T12:22:24.202Z"
   },
   {
    "duration": 12,
    "start_time": "2022-05-21T12:22:24.471Z"
   },
   {
    "duration": 68,
    "start_time": "2022-05-21T12:22:24.485Z"
   },
   {
    "duration": 319,
    "start_time": "2022-05-21T12:22:24.555Z"
   },
   {
    "duration": 15,
    "start_time": "2022-05-21T12:22:24.877Z"
   },
   {
    "duration": 360,
    "start_time": "2022-05-21T12:22:24.894Z"
   },
   {
    "duration": 168,
    "start_time": "2022-05-21T12:22:25.256Z"
   },
   {
    "duration": 207,
    "start_time": "2022-05-21T12:22:25.427Z"
   },
   {
    "duration": 15,
    "start_time": "2022-05-21T12:22:25.637Z"
   },
   {
    "duration": 25,
    "start_time": "2022-05-21T12:22:25.659Z"
   },
   {
    "duration": 194,
    "start_time": "2022-05-21T12:22:25.686Z"
   },
   {
    "duration": 22,
    "start_time": "2022-05-21T12:22:25.882Z"
   },
   {
    "duration": 66,
    "start_time": "2022-05-21T12:22:25.907Z"
   },
   {
    "duration": 84,
    "start_time": "2022-05-21T12:22:25.975Z"
   },
   {
    "duration": 17,
    "start_time": "2022-05-21T12:22:26.064Z"
   },
   {
    "duration": 86,
    "start_time": "2022-05-21T12:22:26.083Z"
   },
   {
    "duration": 30,
    "start_time": "2022-05-21T12:22:26.171Z"
   },
   {
    "duration": 138,
    "start_time": "2022-05-21T12:22:26.203Z"
   },
   {
    "duration": 40,
    "start_time": "2022-05-21T12:22:26.342Z"
   },
   {
    "duration": 78,
    "start_time": "2022-05-21T12:22:26.385Z"
   },
   {
    "duration": 45,
    "start_time": "2022-05-21T12:22:26.465Z"
   },
   {
    "duration": 151,
    "start_time": "2022-05-21T12:22:26.512Z"
   },
   {
    "duration": 108,
    "start_time": "2022-05-21T12:22:26.667Z"
   },
   {
    "duration": 8,
    "start_time": "2022-05-21T12:22:26.777Z"
   },
   {
    "duration": 39,
    "start_time": "2022-05-21T12:22:26.786Z"
   },
   {
    "duration": 64,
    "start_time": "2022-05-21T12:22:26.828Z"
   },
   {
    "duration": 16,
    "start_time": "2022-05-21T12:22:26.893Z"
   },
   {
    "duration": 67,
    "start_time": "2022-05-21T12:22:26.911Z"
   },
   {
    "duration": 9,
    "start_time": "2022-05-21T12:23:18.834Z"
   },
   {
    "duration": 29,
    "start_time": "2022-05-21T12:23:38.891Z"
   },
   {
    "duration": 14,
    "start_time": "2022-05-21T12:24:39.088Z"
   },
   {
    "duration": 182,
    "start_time": "2022-05-21T12:25:14.588Z"
   },
   {
    "duration": 14,
    "start_time": "2022-05-21T12:25:36.522Z"
   },
   {
    "duration": 22,
    "start_time": "2022-05-21T12:25:42.920Z"
   },
   {
    "duration": 12,
    "start_time": "2022-05-21T12:25:55.940Z"
   },
   {
    "duration": 215,
    "start_time": "2022-05-21T12:26:32.022Z"
   },
   {
    "duration": 23,
    "start_time": "2022-05-21T12:26:37.427Z"
   },
   {
    "duration": 218,
    "start_time": "2022-05-21T12:26:43.251Z"
   },
   {
    "duration": 9,
    "start_time": "2022-05-21T12:26:58.483Z"
   },
   {
    "duration": 5,
    "start_time": "2022-05-21T12:27:06.451Z"
   },
   {
    "duration": 1228,
    "start_time": "2022-05-21T13:10:13.924Z"
   },
   {
    "duration": 34,
    "start_time": "2022-05-21T13:10:15.154Z"
   },
   {
    "duration": 29,
    "start_time": "2022-05-21T13:10:15.190Z"
   },
   {
    "duration": 25,
    "start_time": "2022-05-21T13:10:15.223Z"
   },
   {
    "duration": 6,
    "start_time": "2022-05-21T13:10:15.251Z"
   },
   {
    "duration": 15,
    "start_time": "2022-05-21T13:10:15.258Z"
   },
   {
    "duration": 12,
    "start_time": "2022-05-21T13:10:15.274Z"
   },
   {
    "duration": 28,
    "start_time": "2022-05-21T13:10:15.288Z"
   },
   {
    "duration": 82,
    "start_time": "2022-05-21T13:10:15.321Z"
   },
   {
    "duration": 14,
    "start_time": "2022-05-21T13:10:15.405Z"
   },
   {
    "duration": 38,
    "start_time": "2022-05-21T13:10:15.421Z"
   },
   {
    "duration": 8,
    "start_time": "2022-05-21T13:10:15.460Z"
   },
   {
    "duration": 6,
    "start_time": "2022-05-21T13:10:15.469Z"
   },
   {
    "duration": 14,
    "start_time": "2022-05-21T13:10:15.477Z"
   },
   {
    "duration": 27,
    "start_time": "2022-05-21T13:10:15.492Z"
   },
   {
    "duration": 53,
    "start_time": "2022-05-21T13:10:15.521Z"
   },
   {
    "duration": 12,
    "start_time": "2022-05-21T13:10:15.575Z"
   },
   {
    "duration": 42,
    "start_time": "2022-05-21T13:10:15.589Z"
   },
   {
    "duration": 16,
    "start_time": "2022-05-21T13:10:15.640Z"
   },
   {
    "duration": 10,
    "start_time": "2022-05-21T13:10:15.658Z"
   },
   {
    "duration": 10,
    "start_time": "2022-05-21T13:10:15.669Z"
   },
   {
    "duration": 10,
    "start_time": "2022-05-21T13:10:15.680Z"
   },
   {
    "duration": 43,
    "start_time": "2022-05-21T13:10:15.691Z"
   },
   {
    "duration": 11,
    "start_time": "2022-05-21T13:10:15.737Z"
   },
   {
    "duration": 10,
    "start_time": "2022-05-21T13:10:15.750Z"
   },
   {
    "duration": 9,
    "start_time": "2022-05-21T13:10:15.763Z"
   },
   {
    "duration": 11,
    "start_time": "2022-05-21T13:10:15.779Z"
   },
   {
    "duration": 35,
    "start_time": "2022-05-21T13:10:15.792Z"
   },
   {
    "duration": 21,
    "start_time": "2022-05-21T13:10:15.832Z"
   },
   {
    "duration": 10,
    "start_time": "2022-05-21T13:10:15.855Z"
   },
   {
    "duration": 6,
    "start_time": "2022-05-21T13:10:15.867Z"
   },
   {
    "duration": 8,
    "start_time": "2022-05-21T13:10:15.875Z"
   },
   {
    "duration": 8,
    "start_time": "2022-05-21T13:10:15.885Z"
   },
   {
    "duration": 41,
    "start_time": "2022-05-21T13:10:15.901Z"
   },
   {
    "duration": 24,
    "start_time": "2022-05-21T13:10:15.944Z"
   },
   {
    "duration": 257,
    "start_time": "2022-05-21T13:10:15.970Z"
   },
   {
    "duration": 13,
    "start_time": "2022-05-21T13:10:16.235Z"
   },
   {
    "duration": 21,
    "start_time": "2022-05-21T13:10:16.250Z"
   },
   {
    "duration": 152,
    "start_time": "2022-05-21T13:10:16.273Z"
   },
   {
    "duration": 10,
    "start_time": "2022-05-21T13:10:16.432Z"
   },
   {
    "duration": 10,
    "start_time": "2022-05-21T13:10:16.443Z"
   },
   {
    "duration": 12,
    "start_time": "2022-05-21T13:10:16.455Z"
   },
   {
    "duration": 12,
    "start_time": "2022-05-21T13:10:16.469Z"
   },
   {
    "duration": 34,
    "start_time": "2022-05-21T13:10:16.483Z"
   },
   {
    "duration": 432,
    "start_time": "2022-05-21T13:10:16.520Z"
   },
   {
    "duration": 322,
    "start_time": "2022-05-21T13:10:16.953Z"
   },
   {
    "duration": 8,
    "start_time": "2022-05-21T13:10:17.277Z"
   },
   {
    "duration": 50,
    "start_time": "2022-05-21T13:10:17.301Z"
   },
   {
    "duration": 270,
    "start_time": "2022-05-21T13:10:17.354Z"
   },
   {
    "duration": 34,
    "start_time": "2022-05-21T13:10:17.628Z"
   },
   {
    "duration": 15,
    "start_time": "2022-05-21T13:10:17.666Z"
   },
   {
    "duration": 366,
    "start_time": "2022-05-21T13:10:17.684Z"
   },
   {
    "duration": 14,
    "start_time": "2022-05-21T13:10:18.052Z"
   },
   {
    "duration": 279,
    "start_time": "2022-05-21T13:10:18.068Z"
   },
   {
    "duration": 144,
    "start_time": "2022-05-21T13:10:18.349Z"
   },
   {
    "duration": 167,
    "start_time": "2022-05-21T13:10:18.504Z"
   },
   {
    "duration": 5,
    "start_time": "2022-05-21T13:10:18.673Z"
   },
   {
    "duration": 195,
    "start_time": "2022-05-21T13:10:18.680Z"
   },
   {
    "duration": 4,
    "start_time": "2022-05-21T13:10:18.877Z"
   },
   {
    "duration": 30,
    "start_time": "2022-05-21T13:10:18.903Z"
   },
   {
    "duration": 57,
    "start_time": "2022-05-21T13:10:18.935Z"
   },
   {
    "duration": 50,
    "start_time": "2022-05-21T13:10:18.994Z"
   },
   {
    "duration": 74,
    "start_time": "2022-05-21T13:10:19.047Z"
   },
   {
    "duration": 38,
    "start_time": "2022-05-21T13:10:19.130Z"
   },
   {
    "duration": 58,
    "start_time": "2022-05-21T13:10:19.170Z"
   },
   {
    "duration": 27,
    "start_time": "2022-05-21T13:10:19.229Z"
   },
   {
    "duration": 85,
    "start_time": "2022-05-21T13:10:19.257Z"
   },
   {
    "duration": 31,
    "start_time": "2022-05-21T13:10:19.344Z"
   },
   {
    "duration": 93,
    "start_time": "2022-05-21T13:10:19.377Z"
   },
   {
    "duration": 98,
    "start_time": "2022-05-21T13:10:19.472Z"
   },
   {
    "duration": 7,
    "start_time": "2022-05-21T13:10:19.573Z"
   },
   {
    "duration": 44,
    "start_time": "2022-05-21T13:10:19.596Z"
   },
   {
    "duration": 28,
    "start_time": "2022-05-21T13:10:19.643Z"
   },
   {
    "duration": 5,
    "start_time": "2022-05-21T13:10:19.673Z"
   },
   {
    "duration": 9,
    "start_time": "2022-05-21T13:10:19.680Z"
   },
   {
    "duration": 11,
    "start_time": "2022-05-21T13:15:40.281Z"
   },
   {
    "duration": 12,
    "start_time": "2022-05-21T13:16:08.390Z"
   },
   {
    "duration": 5,
    "start_time": "2022-05-21T13:17:17.375Z"
   },
   {
    "duration": 5,
    "start_time": "2022-05-21T13:17:40.983Z"
   },
   {
    "duration": 7,
    "start_time": "2022-05-21T13:17:55.940Z"
   },
   {
    "duration": 4,
    "start_time": "2022-05-21T13:18:33.363Z"
   },
   {
    "duration": 32,
    "start_time": "2022-05-21T13:18:40.535Z"
   },
   {
    "duration": 10,
    "start_time": "2022-05-21T13:18:48.567Z"
   },
   {
    "duration": 7,
    "start_time": "2022-05-21T13:19:18.261Z"
   },
   {
    "duration": 9,
    "start_time": "2022-05-21T13:19:35.094Z"
   },
   {
    "duration": 6,
    "start_time": "2022-05-21T13:23:27.966Z"
   },
   {
    "duration": 5,
    "start_time": "2022-05-21T13:23:54.669Z"
   },
   {
    "duration": 8,
    "start_time": "2022-05-21T13:26:08.362Z"
   },
   {
    "duration": 4,
    "start_time": "2022-05-21T13:26:19.534Z"
   },
   {
    "duration": 686,
    "start_time": "2022-05-21T13:26:39.403Z"
   },
   {
    "duration": 16,
    "start_time": "2022-05-21T13:28:35.892Z"
   },
   {
    "duration": 5,
    "start_time": "2022-05-21T13:28:39.481Z"
   },
   {
    "duration": 12,
    "start_time": "2022-05-21T13:34:51.363Z"
   },
   {
    "duration": 15,
    "start_time": "2022-05-21T13:34:57.126Z"
   },
   {
    "duration": 6,
    "start_time": "2022-05-21T13:35:41.856Z"
   },
   {
    "duration": 13,
    "start_time": "2022-05-21T13:36:40.320Z"
   },
   {
    "duration": 9,
    "start_time": "2022-05-21T13:36:52.724Z"
   },
   {
    "duration": 11,
    "start_time": "2022-05-21T13:38:20.465Z"
   },
   {
    "duration": 36,
    "start_time": "2022-05-21T13:38:34.929Z"
   },
   {
    "duration": 22,
    "start_time": "2022-05-21T13:38:57.579Z"
   },
   {
    "duration": 11,
    "start_time": "2022-05-21T13:39:49.474Z"
   },
   {
    "duration": 10,
    "start_time": "2022-05-21T13:41:10.827Z"
   },
   {
    "duration": 4,
    "start_time": "2022-05-21T13:41:28.187Z"
   },
   {
    "duration": 3,
    "start_time": "2022-05-21T13:41:41.962Z"
   },
   {
    "duration": 3,
    "start_time": "2022-05-21T13:42:24.967Z"
   },
   {
    "duration": 7,
    "start_time": "2022-05-21T13:43:05.325Z"
   },
   {
    "duration": 4,
    "start_time": "2022-05-21T13:46:28.968Z"
   },
   {
    "duration": 19,
    "start_time": "2022-05-21T13:46:31.892Z"
   },
   {
    "duration": 23,
    "start_time": "2022-05-21T13:47:26.214Z"
   },
   {
    "duration": 7,
    "start_time": "2022-05-21T13:48:34.863Z"
   },
   {
    "duration": 5,
    "start_time": "2022-05-21T13:48:59.674Z"
   },
   {
    "duration": 5,
    "start_time": "2022-05-21T13:50:12.894Z"
   },
   {
    "duration": 1189,
    "start_time": "2022-05-21T13:50:17.487Z"
   },
   {
    "duration": 64,
    "start_time": "2022-05-21T13:50:18.678Z"
   },
   {
    "duration": 12,
    "start_time": "2022-05-21T13:50:18.744Z"
   },
   {
    "duration": 7,
    "start_time": "2022-05-21T13:50:18.757Z"
   },
   {
    "duration": 3,
    "start_time": "2022-05-21T13:50:18.766Z"
   },
   {
    "duration": 17,
    "start_time": "2022-05-21T13:50:18.771Z"
   },
   {
    "duration": 26,
    "start_time": "2022-05-21T13:50:18.789Z"
   },
   {
    "duration": 43,
    "start_time": "2022-05-21T13:50:18.817Z"
   },
   {
    "duration": 79,
    "start_time": "2022-05-21T13:50:18.863Z"
   },
   {
    "duration": 8,
    "start_time": "2022-05-21T13:50:18.943Z"
   },
   {
    "duration": 12,
    "start_time": "2022-05-21T13:50:18.953Z"
   },
   {
    "duration": 9,
    "start_time": "2022-05-21T13:50:18.967Z"
   },
   {
    "duration": 6,
    "start_time": "2022-05-21T13:50:18.978Z"
   },
   {
    "duration": 14,
    "start_time": "2022-05-21T13:50:18.987Z"
   },
   {
    "duration": 43,
    "start_time": "2022-05-21T13:50:19.006Z"
   },
   {
    "duration": 5,
    "start_time": "2022-05-21T13:50:19.051Z"
   },
   {
    "duration": 7,
    "start_time": "2022-05-21T13:50:19.058Z"
   },
   {
    "duration": 8,
    "start_time": "2022-05-21T13:50:19.067Z"
   },
   {
    "duration": 7,
    "start_time": "2022-05-21T13:50:19.077Z"
   },
   {
    "duration": 26,
    "start_time": "2022-05-21T13:50:19.085Z"
   },
   {
    "duration": 35,
    "start_time": "2022-05-21T13:50:19.113Z"
   },
   {
    "duration": 11,
    "start_time": "2022-05-21T13:50:19.150Z"
   },
   {
    "duration": 23,
    "start_time": "2022-05-21T13:50:19.163Z"
   },
   {
    "duration": 11,
    "start_time": "2022-05-21T13:50:19.188Z"
   },
   {
    "duration": 35,
    "start_time": "2022-05-21T13:50:19.200Z"
   },
   {
    "duration": 13,
    "start_time": "2022-05-21T13:50:19.236Z"
   },
   {
    "duration": 11,
    "start_time": "2022-05-21T13:50:19.250Z"
   },
   {
    "duration": 9,
    "start_time": "2022-05-21T13:50:19.262Z"
   },
   {
    "duration": 8,
    "start_time": "2022-05-21T13:50:19.273Z"
   },
   {
    "duration": 10,
    "start_time": "2022-05-21T13:50:19.283Z"
   },
   {
    "duration": 32,
    "start_time": "2022-05-21T13:50:19.305Z"
   },
   {
    "duration": 7,
    "start_time": "2022-05-21T13:50:19.339Z"
   },
   {
    "duration": 10,
    "start_time": "2022-05-21T13:50:19.347Z"
   },
   {
    "duration": 15,
    "start_time": "2022-05-21T13:50:19.358Z"
   },
   {
    "duration": 10,
    "start_time": "2022-05-21T13:50:19.375Z"
   },
   {
    "duration": 238,
    "start_time": "2022-05-21T13:50:19.386Z"
   },
   {
    "duration": 11,
    "start_time": "2022-05-21T13:50:19.626Z"
   },
   {
    "duration": 12,
    "start_time": "2022-05-21T13:50:19.638Z"
   },
   {
    "duration": 135,
    "start_time": "2022-05-21T13:50:19.651Z"
   },
   {
    "duration": 9,
    "start_time": "2022-05-21T13:50:19.787Z"
   },
   {
    "duration": 41,
    "start_time": "2022-05-21T13:50:19.802Z"
   },
   {
    "duration": 13,
    "start_time": "2022-05-21T13:50:19.845Z"
   },
   {
    "duration": 9,
    "start_time": "2022-05-21T13:50:19.860Z"
   },
   {
    "duration": 10,
    "start_time": "2022-05-21T13:50:19.871Z"
   },
   {
    "duration": 365,
    "start_time": "2022-05-21T13:50:19.883Z"
   },
   {
    "duration": 288,
    "start_time": "2022-05-21T13:50:20.250Z"
   },
   {
    "duration": 6,
    "start_time": "2022-05-21T13:50:20.539Z"
   },
   {
    "duration": 13,
    "start_time": "2022-05-21T13:50:20.547Z"
   },
   {
    "duration": 208,
    "start_time": "2022-05-21T13:50:20.562Z"
   },
   {
    "duration": 11,
    "start_time": "2022-05-21T13:50:20.772Z"
   },
   {
    "duration": 12,
    "start_time": "2022-05-21T13:50:20.784Z"
   },
   {
    "duration": 265,
    "start_time": "2022-05-21T13:50:20.798Z"
   },
   {
    "duration": 31,
    "start_time": "2022-05-21T13:50:21.065Z"
   },
   {
    "duration": 268,
    "start_time": "2022-05-21T13:50:21.103Z"
   },
   {
    "duration": 138,
    "start_time": "2022-05-21T13:50:21.372Z"
   },
   {
    "duration": 165,
    "start_time": "2022-05-21T13:50:21.512Z"
   },
   {
    "duration": 4,
    "start_time": "2022-05-21T13:50:21.678Z"
   },
   {
    "duration": 192,
    "start_time": "2022-05-21T13:50:21.684Z"
   },
   {
    "duration": 6,
    "start_time": "2022-05-21T13:50:21.878Z"
   },
   {
    "duration": 10,
    "start_time": "2022-05-21T13:50:21.895Z"
   },
   {
    "duration": 78,
    "start_time": "2022-05-21T13:50:21.907Z"
   },
   {
    "duration": 17,
    "start_time": "2022-05-21T13:50:21.987Z"
   },
   {
    "duration": 78,
    "start_time": "2022-05-21T13:50:22.007Z"
   },
   {
    "duration": 29,
    "start_time": "2022-05-21T13:50:22.086Z"
   },
   {
    "duration": 69,
    "start_time": "2022-05-21T13:50:22.122Z"
   },
   {
    "duration": 67,
    "start_time": "2022-05-21T13:50:22.193Z"
   },
   {
    "duration": 68,
    "start_time": "2022-05-21T13:50:22.262Z"
   },
   {
    "duration": 29,
    "start_time": "2022-05-21T13:50:22.337Z"
   },
   {
    "duration": 80,
    "start_time": "2022-05-21T13:50:22.368Z"
   },
   {
    "duration": 105,
    "start_time": "2022-05-21T13:50:22.450Z"
   },
   {
    "duration": 7,
    "start_time": "2022-05-21T13:50:22.556Z"
   },
   {
    "duration": 7,
    "start_time": "2022-05-21T13:50:22.564Z"
   },
   {
    "duration": 60,
    "start_time": "2022-05-21T13:50:22.573Z"
   },
   {
    "duration": 5,
    "start_time": "2022-05-21T13:50:22.637Z"
   },
   {
    "duration": 8,
    "start_time": "2022-05-21T13:50:22.644Z"
   },
   {
    "duration": 11,
    "start_time": "2022-05-21T13:50:22.653Z"
   },
   {
    "duration": 8,
    "start_time": "2022-05-21T13:50:22.666Z"
   },
   {
    "duration": 4,
    "start_time": "2022-05-21T13:50:22.675Z"
   },
   {
    "duration": 21,
    "start_time": "2022-05-21T13:50:22.681Z"
   },
   {
    "duration": 9,
    "start_time": "2022-05-21T13:50:22.704Z"
   },
   {
    "duration": 26,
    "start_time": "2022-05-21T13:50:22.722Z"
   },
   {
    "duration": 5,
    "start_time": "2022-05-21T13:50:22.749Z"
   },
   {
    "duration": 14,
    "start_time": "2022-05-21T13:50:22.756Z"
   },
   {
    "duration": 8,
    "start_time": "2022-05-21T13:50:22.771Z"
   },
   {
    "duration": 50,
    "start_time": "2022-05-21T13:50:22.780Z"
   },
   {
    "duration": 7,
    "start_time": "2022-05-21T13:50:22.831Z"
   },
   {
    "duration": 6,
    "start_time": "2022-05-21T13:50:22.839Z"
   },
   {
    "duration": 13,
    "start_time": "2022-05-21T13:50:22.846Z"
   },
   {
    "duration": 7,
    "start_time": "2022-05-21T13:50:22.860Z"
   },
   {
    "duration": 4,
    "start_time": "2022-05-21T13:50:22.869Z"
   },
   {
    "duration": 1168,
    "start_time": "2022-06-03T11:55:20.802Z"
   },
   {
    "duration": 80,
    "start_time": "2022-06-03T11:55:21.973Z"
   },
   {
    "duration": 12,
    "start_time": "2022-06-03T11:55:22.056Z"
   },
   {
    "duration": 19,
    "start_time": "2022-06-03T11:55:22.070Z"
   },
   {
    "duration": 9,
    "start_time": "2022-06-03T11:55:22.091Z"
   },
   {
    "duration": 24,
    "start_time": "2022-06-03T11:55:22.101Z"
   },
   {
    "duration": 12,
    "start_time": "2022-06-03T11:55:22.127Z"
   },
   {
    "duration": 31,
    "start_time": "2022-06-03T11:55:22.141Z"
   },
   {
    "duration": 124,
    "start_time": "2022-06-03T11:55:22.173Z"
   },
   {
    "duration": 8,
    "start_time": "2022-06-03T11:55:22.300Z"
   },
   {
    "duration": 14,
    "start_time": "2022-06-03T11:55:22.309Z"
   },
   {
    "duration": 7,
    "start_time": "2022-06-03T11:55:22.325Z"
   },
   {
    "duration": 6,
    "start_time": "2022-06-03T11:55:22.333Z"
   },
   {
    "duration": 28,
    "start_time": "2022-06-03T11:55:22.340Z"
   },
   {
    "duration": 7,
    "start_time": "2022-06-03T11:55:22.370Z"
   },
   {
    "duration": 7,
    "start_time": "2022-06-03T11:55:22.378Z"
   },
   {
    "duration": 8,
    "start_time": "2022-06-03T11:55:22.387Z"
   },
   {
    "duration": 10,
    "start_time": "2022-06-03T11:55:22.396Z"
   },
   {
    "duration": 6,
    "start_time": "2022-06-03T11:55:22.407Z"
   },
   {
    "duration": 14,
    "start_time": "2022-06-03T11:55:22.414Z"
   },
   {
    "duration": 37,
    "start_time": "2022-06-03T11:55:22.430Z"
   },
   {
    "duration": 12,
    "start_time": "2022-06-03T11:55:22.469Z"
   },
   {
    "duration": 12,
    "start_time": "2022-06-03T11:55:22.483Z"
   },
   {
    "duration": 6,
    "start_time": "2022-06-03T11:55:22.497Z"
   },
   {
    "duration": 13,
    "start_time": "2022-06-03T11:55:22.504Z"
   },
   {
    "duration": 14,
    "start_time": "2022-06-03T11:55:22.518Z"
   },
   {
    "duration": 24,
    "start_time": "2022-06-03T11:55:22.542Z"
   },
   {
    "duration": 8,
    "start_time": "2022-06-03T11:55:22.571Z"
   },
   {
    "duration": 14,
    "start_time": "2022-06-03T11:55:22.580Z"
   },
   {
    "duration": 11,
    "start_time": "2022-06-03T11:55:22.596Z"
   },
   {
    "duration": 6,
    "start_time": "2022-06-03T11:55:22.609Z"
   },
   {
    "duration": 7,
    "start_time": "2022-06-03T11:55:22.617Z"
   },
   {
    "duration": 19,
    "start_time": "2022-06-03T11:55:22.626Z"
   },
   {
    "duration": 19,
    "start_time": "2022-06-03T11:55:22.646Z"
   },
   {
    "duration": 11,
    "start_time": "2022-06-03T11:55:22.667Z"
   },
   {
    "duration": 208,
    "start_time": "2022-06-03T11:55:22.680Z"
   },
   {
    "duration": 8,
    "start_time": "2022-06-03T11:55:22.890Z"
   },
   {
    "duration": 9,
    "start_time": "2022-06-03T11:55:22.900Z"
   },
   {
    "duration": 167,
    "start_time": "2022-06-03T11:55:22.911Z"
   },
   {
    "duration": 8,
    "start_time": "2022-06-03T11:55:23.079Z"
   },
   {
    "duration": 8,
    "start_time": "2022-06-03T11:55:23.089Z"
   },
   {
    "duration": 16,
    "start_time": "2022-06-03T11:55:23.098Z"
   },
   {
    "duration": 10,
    "start_time": "2022-06-03T11:55:23.116Z"
   },
   {
    "duration": 17,
    "start_time": "2022-06-03T11:55:23.148Z"
   },
   {
    "duration": 348,
    "start_time": "2022-06-03T11:55:23.167Z"
   },
   {
    "duration": 322,
    "start_time": "2022-06-03T11:55:23.516Z"
   },
   {
    "duration": 18,
    "start_time": "2022-06-03T11:55:23.841Z"
   },
   {
    "duration": 16,
    "start_time": "2022-06-03T11:55:23.861Z"
   },
   {
    "duration": 224,
    "start_time": "2022-06-03T11:55:23.878Z"
   },
   {
    "duration": 13,
    "start_time": "2022-06-03T11:55:24.104Z"
   },
   {
    "duration": 10,
    "start_time": "2022-06-03T11:55:24.119Z"
   },
   {
    "duration": 243,
    "start_time": "2022-06-03T11:55:24.141Z"
   },
   {
    "duration": 13,
    "start_time": "2022-06-03T11:55:24.386Z"
   },
   {
    "duration": 271,
    "start_time": "2022-06-03T11:55:24.401Z"
   },
   {
    "duration": 144,
    "start_time": "2022-06-03T11:55:24.684Z"
   },
   {
    "duration": 174,
    "start_time": "2022-06-03T11:55:24.841Z"
   },
   {
    "duration": 5,
    "start_time": "2022-06-03T11:55:25.017Z"
   },
   {
    "duration": 164,
    "start_time": "2022-06-03T11:55:25.041Z"
   },
   {
    "duration": 4,
    "start_time": "2022-06-03T11:55:25.207Z"
   },
   {
    "duration": 13,
    "start_time": "2022-06-03T11:55:25.213Z"
   },
   {
    "duration": 70,
    "start_time": "2022-06-03T11:55:25.228Z"
   },
   {
    "duration": 10,
    "start_time": "2022-06-03T11:55:25.300Z"
   },
   {
    "duration": 60,
    "start_time": "2022-06-03T11:55:25.312Z"
   },
   {
    "duration": 23,
    "start_time": "2022-06-03T11:55:25.373Z"
   },
   {
    "duration": 83,
    "start_time": "2022-06-03T11:55:25.398Z"
   },
   {
    "duration": 24,
    "start_time": "2022-06-03T11:55:25.483Z"
   },
   {
    "duration": 74,
    "start_time": "2022-06-03T11:55:25.509Z"
   },
   {
    "duration": 27,
    "start_time": "2022-06-03T11:55:25.585Z"
   },
   {
    "duration": 96,
    "start_time": "2022-06-03T11:55:25.614Z"
   },
   {
    "duration": 97,
    "start_time": "2022-06-03T11:55:25.712Z"
   },
   {
    "duration": 7,
    "start_time": "2022-06-03T11:55:25.810Z"
   },
   {
    "duration": 28,
    "start_time": "2022-06-03T11:55:25.818Z"
   },
   {
    "duration": 34,
    "start_time": "2022-06-03T11:55:25.852Z"
   },
   {
    "duration": 5,
    "start_time": "2022-06-03T11:55:25.888Z"
   },
   {
    "duration": 11,
    "start_time": "2022-06-03T11:55:25.895Z"
   },
   {
    "duration": 12,
    "start_time": "2022-06-03T11:55:25.908Z"
   },
   {
    "duration": 8,
    "start_time": "2022-06-03T11:55:25.921Z"
   },
   {
    "duration": 5,
    "start_time": "2022-06-03T11:55:25.942Z"
   },
   {
    "duration": 16,
    "start_time": "2022-06-03T11:55:25.950Z"
   },
   {
    "duration": 10,
    "start_time": "2022-06-03T11:55:25.968Z"
   },
   {
    "duration": 14,
    "start_time": "2022-06-03T11:55:25.980Z"
   },
   {
    "duration": 8,
    "start_time": "2022-06-03T11:55:25.999Z"
   },
   {
    "duration": 16,
    "start_time": "2022-06-03T11:55:26.009Z"
   },
   {
    "duration": 30,
    "start_time": "2022-06-03T11:55:26.027Z"
   },
   {
    "duration": 37,
    "start_time": "2022-06-03T11:55:26.059Z"
   },
   {
    "duration": 4,
    "start_time": "2022-06-03T11:55:26.098Z"
   },
   {
    "duration": 6,
    "start_time": "2022-06-03T11:55:26.103Z"
   },
   {
    "duration": 13,
    "start_time": "2022-06-03T11:55:26.110Z"
   },
   {
    "duration": 20,
    "start_time": "2022-06-03T11:55:26.142Z"
   },
   {
    "duration": 5,
    "start_time": "2022-06-03T11:55:26.164Z"
   },
   {
    "duration": 25,
    "start_time": "2022-06-03T11:55:40.933Z"
   },
   {
    "duration": 6,
    "start_time": "2022-06-03T12:05:31.816Z"
   }
  ],
  "kernelspec": {
   "display_name": "Python 3 (ipykernel)",
   "language": "python",
   "name": "python3"
  },
  "language_info": {
   "codemirror_mode": {
    "name": "ipython",
    "version": 3
   },
   "file_extension": ".py",
   "mimetype": "text/x-python",
   "name": "python",
   "nbconvert_exporter": "python",
   "pygments_lexer": "ipython3",
   "version": "3.9.5"
  },
  "toc": {
   "base_numbering": 1,
   "nav_menu": {},
   "number_sections": true,
   "sideBar": true,
   "skip_h1_title": true,
   "title_cell": "Table of Contents",
   "title_sidebar": "Contents",
   "toc_cell": false,
   "toc_position": {},
   "toc_section_display": true,
   "toc_window_display": true
  }
 },
 "nbformat": 4,
 "nbformat_minor": 2
}
