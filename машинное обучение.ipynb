{
 "cells": [
  {
   "cell_type": "markdown",
   "metadata": {},
   "source": [
    "# Описание проекта\n",
    "Сеть фитнес-центров «Культурист-датасаентист» разрабатывает стратегию взаимодействия с клиентами на основе аналитических данных.\n",
    "Распространённая проблема фитнес-клубов и других сервисов — отток клиентов. Как понять, что клиент больше не с вами? Можно записать в отток тех, кто попросил закрыть договор или удалил аккаунт. Однако клиенты не всегда уходят демонстративно: чаще перестают пользоваться сервисом тихо.\n",
    "Индикаторы оттока зависят от специфики отрасли. Когда пользователь редко, но стабильно закупается в интернет-магазине — не похоже, что он «отвалился». А вот если две недели не заходит на канал с ежедневно обновляемым контентом, дела плохи: подписчик заскучал и, кажется, оставил вас.\n",
    "Для фитнес-центра можно считать, что клиент попал в отток, если за последний месяц ни разу не посетил спортзал. Конечно, не исключено, что он уехал на Бали и по приезде обязательно продолжит ходить на фитнес. Однако чаще бывает наоборот. Если клиент начал новую жизнь с понедельника, немного походил в спортзал, а потом пропал — скорее всего, он не вернётся.\n",
    "Чтобы бороться с оттоком, отдел по работе с клиентами «Культуриста-датасаентиста» перевёл в электронный вид множество клиентских анкет. "
   ]
  },
  {
   "cell_type": "markdown",
   "metadata": {},
   "source": [
    "# Задачи\n",
    "- научиться прогнозировать вероятность оттока (на уровне следующего месяца) для каждого клиента;\n",
    "- сформировать типичные портреты клиентов: выделить несколько наиболее ярких групп и охарактеризовать их основные свойства;\n",
    "- проанализировать основные признаки, наиболее сильно влияющие на отток;\n",
    "- сформулировать основные выводы и разработать рекомендации по повышению качества работы с клиентами:\n",
    "\n",
    "1) выделить целевые группы клиентов;\n",
    "\n",
    "2) предложить меры по снижению оттока;\n",
    "\n",
    "3) определить другие особенности взаимодействия с клиентами."
   ]
  },
  {
   "cell_type": "markdown",
   "metadata": {},
   "source": [
    "# Описание данных \n",
    "Данные клиента за предыдущий до проверки факта оттока месяц:\n",
    "- 'gender' — пол;\n",
    "- 'Near_Location' — проживание или работа в районе, где находится фитнес-центр;\n",
    "- 'Partner' — сотрудник компании-партнёра клуба (сотрудничество с компаниями, чьи сотрудники могут получать скидки на абонемент  в таком случае фитнес-центр хранит информацию о работодателе клиента);\n",
    "- Promo_friends — факт первоначальной записи в рамках акции «приведи друга» (использовал промо-код от знакомого при оплате первого абонемента);\n",
    "- 'Phone' — наличие контактного телефона;\n",
    "- 'Age' — возраст;\n",
    "- 'Lifetime' — время с момента первого обращения в фитнес-центр (в месяцах).\n",
    "\n",
    "Информация на основе журнала посещений, покупок и информация о текущем статусе абонемента клиента:\n",
    "\n",
    "- 'Contract_period' — длительность текущего действующего абонемента (месяц, 6 месяцев, год);\n",
    "- 'Month_to_end_contract' — срок до окончания текущего действующего абонемента (в месяцах);\n",
    "- 'Group_visits' — факт посещения групповых занятий;\n",
    "- 'Avg_class_frequency_total' — средняя частота посещений в неделю за все время с начала действия абонемента;\n",
    "- 'Avg_class_frequency_current_month' — средняя частота посещений в неделю за предыдущий месяц;\n",
    "- 'Avg_additional_charges_total' — суммарная выручка от других услуг фитнес-центра: кафе, спорттовары, косметический и массажный салон.\n",
    "- 'Churn' — факт оттока в текущем месяце."
   ]
  },
  {
   "cell_type": "markdown",
   "metadata": {},
   "source": [
    "# Шаг 1. Загрузка данных"
   ]
  },
  {
   "cell_type": "code",
   "execution_count": 1,
   "metadata": {},
   "outputs": [],
   "source": [
    "import pandas as pd\n",
    "from sklearn.preprocessing import StandardScaler\n",
    "from sklearn.model_selection import train_test_split\n",
    "from sklearn.linear_model import Lasso, Ridge\n",
    "from sklearn.tree import DecisionTreeRegressor\n",
    "from sklearn.ensemble import RandomForestRegressor, GradientBoostingRegressor\n",
    "import matplotlib.pyplot as plt\n",
    "from sklearn.metrics import mean_absolute_error, mean_squared_error, r2_score\n",
    "from scipy.cluster.hierarchy import dendrogram, linkage\n",
    "from sklearn.cluster import KMeans\n",
    "import seaborn as sns, numpy as np\n",
    "\n",
    "from sklearn.linear_model import LogisticRegression\n",
    "from sklearn.ensemble import RandomForestClassifier\n",
    "import matplotlib.pyplot as plt\n",
    "from sklearn.metrics import accuracy_score, precision_score, recall_score\n",
    "\n",
    "import warnings\n",
    "warnings.filterwarnings('ignore')"
   ]
  },
  {
   "cell_type": "code",
   "execution_count": 2,
   "metadata": {
    "scrolled": true
   },
   "outputs": [
    {
     "data": {
      "text/html": [
       "<div>\n",
       "<style scoped>\n",
       "    .dataframe tbody tr th:only-of-type {\n",
       "        vertical-align: middle;\n",
       "    }\n",
       "\n",
       "    .dataframe tbody tr th {\n",
       "        vertical-align: top;\n",
       "    }\n",
       "\n",
       "    .dataframe thead th {\n",
       "        text-align: right;\n",
       "    }\n",
       "</style>\n",
       "<table border=\"1\" class=\"dataframe\">\n",
       "  <thead>\n",
       "    <tr style=\"text-align: right;\">\n",
       "      <th></th>\n",
       "      <th>gender</th>\n",
       "      <th>Near_Location</th>\n",
       "      <th>Partner</th>\n",
       "      <th>Promo_friends</th>\n",
       "      <th>Phone</th>\n",
       "      <th>Contract_period</th>\n",
       "      <th>Group_visits</th>\n",
       "      <th>Age</th>\n",
       "      <th>Avg_additional_charges_total</th>\n",
       "      <th>Month_to_end_contract</th>\n",
       "      <th>Lifetime</th>\n",
       "      <th>Avg_class_frequency_total</th>\n",
       "      <th>Avg_class_frequency_current_month</th>\n",
       "      <th>Churn</th>\n",
       "    </tr>\n",
       "  </thead>\n",
       "  <tbody>\n",
       "    <tr>\n",
       "      <th>0</th>\n",
       "      <td>1</td>\n",
       "      <td>1</td>\n",
       "      <td>1</td>\n",
       "      <td>1</td>\n",
       "      <td>0</td>\n",
       "      <td>6</td>\n",
       "      <td>1</td>\n",
       "      <td>29</td>\n",
       "      <td>14.227470</td>\n",
       "      <td>5.0</td>\n",
       "      <td>3</td>\n",
       "      <td>0.020398</td>\n",
       "      <td>0.000000</td>\n",
       "      <td>0</td>\n",
       "    </tr>\n",
       "    <tr>\n",
       "      <th>1</th>\n",
       "      <td>0</td>\n",
       "      <td>1</td>\n",
       "      <td>0</td>\n",
       "      <td>0</td>\n",
       "      <td>1</td>\n",
       "      <td>12</td>\n",
       "      <td>1</td>\n",
       "      <td>31</td>\n",
       "      <td>113.202938</td>\n",
       "      <td>12.0</td>\n",
       "      <td>7</td>\n",
       "      <td>1.922936</td>\n",
       "      <td>1.910244</td>\n",
       "      <td>0</td>\n",
       "    </tr>\n",
       "    <tr>\n",
       "      <th>2</th>\n",
       "      <td>0</td>\n",
       "      <td>1</td>\n",
       "      <td>1</td>\n",
       "      <td>0</td>\n",
       "      <td>1</td>\n",
       "      <td>1</td>\n",
       "      <td>0</td>\n",
       "      <td>28</td>\n",
       "      <td>129.448479</td>\n",
       "      <td>1.0</td>\n",
       "      <td>2</td>\n",
       "      <td>1.859098</td>\n",
       "      <td>1.736502</td>\n",
       "      <td>0</td>\n",
       "    </tr>\n",
       "    <tr>\n",
       "      <th>3</th>\n",
       "      <td>0</td>\n",
       "      <td>1</td>\n",
       "      <td>1</td>\n",
       "      <td>1</td>\n",
       "      <td>1</td>\n",
       "      <td>12</td>\n",
       "      <td>1</td>\n",
       "      <td>33</td>\n",
       "      <td>62.669863</td>\n",
       "      <td>12.0</td>\n",
       "      <td>2</td>\n",
       "      <td>3.205633</td>\n",
       "      <td>3.357215</td>\n",
       "      <td>0</td>\n",
       "    </tr>\n",
       "    <tr>\n",
       "      <th>4</th>\n",
       "      <td>1</td>\n",
       "      <td>1</td>\n",
       "      <td>1</td>\n",
       "      <td>1</td>\n",
       "      <td>1</td>\n",
       "      <td>1</td>\n",
       "      <td>0</td>\n",
       "      <td>26</td>\n",
       "      <td>198.362265</td>\n",
       "      <td>1.0</td>\n",
       "      <td>3</td>\n",
       "      <td>1.113884</td>\n",
       "      <td>1.120078</td>\n",
       "      <td>0</td>\n",
       "    </tr>\n",
       "  </tbody>\n",
       "</table>\n",
       "</div>"
      ],
      "text/plain": [
       "   gender  Near_Location  Partner  Promo_friends  Phone  Contract_period  \\\n",
       "0       1              1        1              1      0                6   \n",
       "1       0              1        0              0      1               12   \n",
       "2       0              1        1              0      1                1   \n",
       "3       0              1        1              1      1               12   \n",
       "4       1              1        1              1      1                1   \n",
       "\n",
       "   Group_visits  Age  Avg_additional_charges_total  Month_to_end_contract  \\\n",
       "0             1   29                     14.227470                    5.0   \n",
       "1             1   31                    113.202938                   12.0   \n",
       "2             0   28                    129.448479                    1.0   \n",
       "3             1   33                     62.669863                   12.0   \n",
       "4             0   26                    198.362265                    1.0   \n",
       "\n",
       "   Lifetime  Avg_class_frequency_total  Avg_class_frequency_current_month  \\\n",
       "0         3                   0.020398                           0.000000   \n",
       "1         7                   1.922936                           1.910244   \n",
       "2         2                   1.859098                           1.736502   \n",
       "3         2                   3.205633                           3.357215   \n",
       "4         3                   1.113884                           1.120078   \n",
       "\n",
       "   Churn  \n",
       "0      0  \n",
       "1      0  \n",
       "2      0  \n",
       "3      0  \n",
       "4      0  "
      ]
     },
     "execution_count": 2,
     "metadata": {},
     "output_type": "execute_result"
    }
   ],
   "source": [
    "gym = pd.read_csv('/datasets/gym_churn.csv')\n",
    "gym.head()"
   ]
  },
  {
   "cell_type": "code",
   "execution_count": 3,
   "metadata": {},
   "outputs": [
    {
     "name": "stdout",
     "output_type": "stream",
     "text": [
      "<class 'pandas.core.frame.DataFrame'>\n",
      "RangeIndex: 4000 entries, 0 to 3999\n",
      "Data columns (total 14 columns):\n",
      " #   Column                             Non-Null Count  Dtype  \n",
      "---  ------                             --------------  -----  \n",
      " 0   gender                             4000 non-null   int64  \n",
      " 1   Near_Location                      4000 non-null   int64  \n",
      " 2   Partner                            4000 non-null   int64  \n",
      " 3   Promo_friends                      4000 non-null   int64  \n",
      " 4   Phone                              4000 non-null   int64  \n",
      " 5   Contract_period                    4000 non-null   int64  \n",
      " 6   Group_visits                       4000 non-null   int64  \n",
      " 7   Age                                4000 non-null   int64  \n",
      " 8   Avg_additional_charges_total       4000 non-null   float64\n",
      " 9   Month_to_end_contract              4000 non-null   float64\n",
      " 10  Lifetime                           4000 non-null   int64  \n",
      " 11  Avg_class_frequency_total          4000 non-null   float64\n",
      " 12  Avg_class_frequency_current_month  4000 non-null   float64\n",
      " 13  Churn                              4000 non-null   int64  \n",
      "dtypes: float64(4), int64(10)\n",
      "memory usage: 437.6 KB\n"
     ]
    }
   ],
   "source": [
    "gym.info() # с данными все в порядке 14 колонок, пропусков нет, тип данных выглядит нормальным"
   ]
  },
  {
   "cell_type": "code",
   "execution_count": 4,
   "metadata": {},
   "outputs": [],
   "source": [
    "gym.columns = gym.columns.str.lower() # приведем названия столбцов к нижнему регистру"
   ]
  },
  {
   "cell_type": "markdown",
   "metadata": {},
   "source": [
    "# Шаг 2. Проведите исследовательский анализ данных (EDA)"
   ]
  },
  {
   "cell_type": "markdown",
   "metadata": {},
   "source": [
    "## Посмотрите на датасет: есть ли в нем отсутствующие признаки, изучите средние значения и стандартные отклонения (пригодится метод describe())"
   ]
  },
  {
   "cell_type": "code",
   "execution_count": 5,
   "metadata": {
    "scrolled": true
   },
   "outputs": [
    {
     "data": {
      "text/html": [
       "<div>\n",
       "<style scoped>\n",
       "    .dataframe tbody tr th:only-of-type {\n",
       "        vertical-align: middle;\n",
       "    }\n",
       "\n",
       "    .dataframe tbody tr th {\n",
       "        vertical-align: top;\n",
       "    }\n",
       "\n",
       "    .dataframe thead th {\n",
       "        text-align: right;\n",
       "    }\n",
       "</style>\n",
       "<table border=\"1\" class=\"dataframe\">\n",
       "  <thead>\n",
       "    <tr style=\"text-align: right;\">\n",
       "      <th></th>\n",
       "      <th>gender</th>\n",
       "      <th>near_location</th>\n",
       "      <th>partner</th>\n",
       "      <th>promo_friends</th>\n",
       "      <th>phone</th>\n",
       "      <th>contract_period</th>\n",
       "      <th>group_visits</th>\n",
       "      <th>age</th>\n",
       "      <th>avg_additional_charges_total</th>\n",
       "      <th>month_to_end_contract</th>\n",
       "      <th>lifetime</th>\n",
       "      <th>avg_class_frequency_total</th>\n",
       "      <th>avg_class_frequency_current_month</th>\n",
       "      <th>churn</th>\n",
       "    </tr>\n",
       "  </thead>\n",
       "  <tbody>\n",
       "    <tr>\n",
       "      <th>0</th>\n",
       "      <td>1</td>\n",
       "      <td>1</td>\n",
       "      <td>1</td>\n",
       "      <td>1</td>\n",
       "      <td>0</td>\n",
       "      <td>6</td>\n",
       "      <td>1</td>\n",
       "      <td>29</td>\n",
       "      <td>14.227470</td>\n",
       "      <td>5.0</td>\n",
       "      <td>3</td>\n",
       "      <td>0.020398</td>\n",
       "      <td>0.000000</td>\n",
       "      <td>0</td>\n",
       "    </tr>\n",
       "    <tr>\n",
       "      <th>1</th>\n",
       "      <td>0</td>\n",
       "      <td>1</td>\n",
       "      <td>0</td>\n",
       "      <td>0</td>\n",
       "      <td>1</td>\n",
       "      <td>12</td>\n",
       "      <td>1</td>\n",
       "      <td>31</td>\n",
       "      <td>113.202938</td>\n",
       "      <td>12.0</td>\n",
       "      <td>7</td>\n",
       "      <td>1.922936</td>\n",
       "      <td>1.910244</td>\n",
       "      <td>0</td>\n",
       "    </tr>\n",
       "    <tr>\n",
       "      <th>2</th>\n",
       "      <td>0</td>\n",
       "      <td>1</td>\n",
       "      <td>1</td>\n",
       "      <td>0</td>\n",
       "      <td>1</td>\n",
       "      <td>1</td>\n",
       "      <td>0</td>\n",
       "      <td>28</td>\n",
       "      <td>129.448479</td>\n",
       "      <td>1.0</td>\n",
       "      <td>2</td>\n",
       "      <td>1.859098</td>\n",
       "      <td>1.736502</td>\n",
       "      <td>0</td>\n",
       "    </tr>\n",
       "    <tr>\n",
       "      <th>3</th>\n",
       "      <td>0</td>\n",
       "      <td>1</td>\n",
       "      <td>1</td>\n",
       "      <td>1</td>\n",
       "      <td>1</td>\n",
       "      <td>12</td>\n",
       "      <td>1</td>\n",
       "      <td>33</td>\n",
       "      <td>62.669863</td>\n",
       "      <td>12.0</td>\n",
       "      <td>2</td>\n",
       "      <td>3.205633</td>\n",
       "      <td>3.357215</td>\n",
       "      <td>0</td>\n",
       "    </tr>\n",
       "    <tr>\n",
       "      <th>4</th>\n",
       "      <td>1</td>\n",
       "      <td>1</td>\n",
       "      <td>1</td>\n",
       "      <td>1</td>\n",
       "      <td>1</td>\n",
       "      <td>1</td>\n",
       "      <td>0</td>\n",
       "      <td>26</td>\n",
       "      <td>198.362265</td>\n",
       "      <td>1.0</td>\n",
       "      <td>3</td>\n",
       "      <td>1.113884</td>\n",
       "      <td>1.120078</td>\n",
       "      <td>0</td>\n",
       "    </tr>\n",
       "  </tbody>\n",
       "</table>\n",
       "</div>"
      ],
      "text/plain": [
       "   gender  near_location  partner  promo_friends  phone  contract_period  \\\n",
       "0       1              1        1              1      0                6   \n",
       "1       0              1        0              0      1               12   \n",
       "2       0              1        1              0      1                1   \n",
       "3       0              1        1              1      1               12   \n",
       "4       1              1        1              1      1                1   \n",
       "\n",
       "   group_visits  age  avg_additional_charges_total  month_to_end_contract  \\\n",
       "0             1   29                     14.227470                    5.0   \n",
       "1             1   31                    113.202938                   12.0   \n",
       "2             0   28                    129.448479                    1.0   \n",
       "3             1   33                     62.669863                   12.0   \n",
       "4             0   26                    198.362265                    1.0   \n",
       "\n",
       "   lifetime  avg_class_frequency_total  avg_class_frequency_current_month  \\\n",
       "0         3                   0.020398                           0.000000   \n",
       "1         7                   1.922936                           1.910244   \n",
       "2         2                   1.859098                           1.736502   \n",
       "3         2                   3.205633                           3.357215   \n",
       "4         3                   1.113884                           1.120078   \n",
       "\n",
       "   churn  \n",
       "0      0  \n",
       "1      0  \n",
       "2      0  \n",
       "3      0  \n",
       "4      0  "
      ]
     },
     "execution_count": 5,
     "metadata": {},
     "output_type": "execute_result"
    }
   ],
   "source": [
    "gym.head()"
   ]
  },
  {
   "cell_type": "code",
   "execution_count": 6,
   "metadata": {},
   "outputs": [
    {
     "data": {
      "text/plain": [
       "count    4000.000000\n",
       "mean        0.510250\n",
       "std         0.499957\n",
       "min         0.000000\n",
       "25%         0.000000\n",
       "50%         1.000000\n",
       "75%         1.000000\n",
       "max         1.000000\n",
       "Name: gender, dtype: float64"
      ]
     },
     "execution_count": 6,
     "metadata": {},
     "output_type": "execute_result"
    }
   ],
   "source": [
    "gym['gender'].describe() # распределение по полу почти 50/50, стандартное отклонение 0.5"
   ]
  },
  {
   "cell_type": "code",
   "execution_count": 7,
   "metadata": {},
   "outputs": [
    {
     "data": {
      "text/plain": [
       "count    4000.000000\n",
       "mean        0.845250\n",
       "std         0.361711\n",
       "min         0.000000\n",
       "25%         1.000000\n",
       "50%         1.000000\n",
       "75%         1.000000\n",
       "max         1.000000\n",
       "Name: near_location, dtype: float64"
      ]
     },
     "execution_count": 7,
     "metadata": {},
     "output_type": "execute_result"
    }
   ],
   "source": [
    "gym['near_location'].describe() # примерно 84% клиентов проживает в одной районе с фитнес центром, стандартное отклонение 0.36"
   ]
  },
  {
   "cell_type": "code",
   "execution_count": 8,
   "metadata": {},
   "outputs": [
    {
     "data": {
      "text/plain": [
       "count    4000.000000\n",
       "mean        0.486750\n",
       "std         0.499887\n",
       "min         0.000000\n",
       "25%         0.000000\n",
       "50%         0.000000\n",
       "75%         1.000000\n",
       "max         1.000000\n",
       "Name: partner, dtype: float64"
      ]
     },
     "execution_count": 8,
     "metadata": {},
     "output_type": "execute_result"
    }
   ],
   "source": [
    "gym['partner'].describe() # почти половина клиентов это сотрудники компании-партнёра клуба, стандартное отклонение 0.5"
   ]
  },
  {
   "cell_type": "code",
   "execution_count": 9,
   "metadata": {},
   "outputs": [
    {
     "data": {
      "text/plain": [
       "count    4000.000000\n",
       "mean        0.308500\n",
       "std         0.461932\n",
       "min         0.000000\n",
       "25%         0.000000\n",
       "50%         0.000000\n",
       "75%         1.000000\n",
       "max         1.000000\n",
       "Name: promo_friends, dtype: float64"
      ]
     },
     "execution_count": 9,
     "metadata": {},
     "output_type": "execute_result"
    }
   ],
   "source": [
    "gym['promo_friends'].describe() # примерно 30% использовали промо-код от знакомого при оплате первого абонемента, стандартное отклонение 0.46"
   ]
  },
  {
   "cell_type": "code",
   "execution_count": 10,
   "metadata": {},
   "outputs": [
    {
     "data": {
      "text/plain": [
       "count    4000.000000\n",
       "mean        0.903500\n",
       "std         0.295313\n",
       "min         0.000000\n",
       "25%         1.000000\n",
       "50%         1.000000\n",
       "75%         1.000000\n",
       "max         1.000000\n",
       "Name: phone, dtype: float64"
      ]
     },
     "execution_count": 10,
     "metadata": {},
     "output_type": "execute_result"
    }
   ],
   "source": [
    "gym['phone'].describe() # 90% клиентов указали телефон, стандартное отклонение 0.29"
   ]
  },
  {
   "cell_type": "code",
   "execution_count": 11,
   "metadata": {},
   "outputs": [
    {
     "data": {
      "text/plain": [
       "count    4000.000000\n",
       "mean        4.681250\n",
       "std         4.549706\n",
       "min         1.000000\n",
       "25%         1.000000\n",
       "50%         1.000000\n",
       "75%         6.000000\n",
       "max        12.000000\n",
       "Name: contract_period, dtype: float64"
      ]
     },
     "execution_count": 11,
     "metadata": {},
     "output_type": "execute_result"
    }
   ],
   "source": [
    "gym['contract_period'].describe() #Средняя длительность текущего абонемента - 4-5 месяцев, медиана - 1 месяц. \n",
    "# возможно, присутствуют выбросы. Максимальное значение - 12 месяцев, стандартное отклонение 4.5"
   ]
  },
  {
   "cell_type": "code",
   "execution_count": 12,
   "metadata": {},
   "outputs": [
    {
     "data": {
      "text/plain": [
       "count    4000.000000\n",
       "mean        0.412250\n",
       "std         0.492301\n",
       "min         0.000000\n",
       "25%         0.000000\n",
       "50%         0.000000\n",
       "75%         1.000000\n",
       "max         1.000000\n",
       "Name: group_visits, dtype: float64"
      ]
     },
     "execution_count": 12,
     "metadata": {},
     "output_type": "execute_result"
    }
   ],
   "source": [
    "gym['group_visits'].describe() # 41% клиентов посещают групповые занятия. Стандартное отклонение - 0.49."
   ]
  },
  {
   "cell_type": "code",
   "execution_count": 13,
   "metadata": {},
   "outputs": [
    {
     "data": {
      "text/plain": [
       "count    4000.000000\n",
       "mean       29.184250\n",
       "std         3.258367\n",
       "min        18.000000\n",
       "25%        27.000000\n",
       "50%        29.000000\n",
       "75%        31.000000\n",
       "max        41.000000\n",
       "Name: age, dtype: float64"
      ]
     },
     "execution_count": 13,
     "metadata": {},
     "output_type": "execute_result"
    }
   ],
   "source": [
    "gym['age'].describe() # Максимальный возраст клиентов - 41 год, медиана и среднее значение  - 29 лет, Минимальный возраст клиентов - 18 лет.\n",
    "# скорее всего, с распределением возрастов все в порядке."
   ]
  },
  {
   "cell_type": "code",
   "execution_count": 14,
   "metadata": {},
   "outputs": [
    {
     "data": {
      "text/plain": [
       "count    4000.000000\n",
       "mean      146.943728\n",
       "std        96.355602\n",
       "min         0.148205\n",
       "25%        68.868830\n",
       "50%       136.220159\n",
       "75%       210.949625\n",
       "max       552.590740\n",
       "Name: avg_additional_charges_total, dtype: float64"
      ]
     },
     "execution_count": 14,
     "metadata": {},
     "output_type": "execute_result"
    }
   ],
   "source": [
    "gym['avg_additional_charges_total'].describe() #суммарная выручка от других услуг фитнес-центра: кафе, спорттовары, косметический и массажный салон. "
   ]
  },
  {
   "cell_type": "markdown",
   "metadata": {},
   "source": [
    "Суммарная выручка от других услуг фитнес-центра: кафе, спорттовары, косметический и массажный салон, в среднем 147 у.е., Максимальный размер трат - 552 у.е. медианное и среднее достаточно близки 136 и 147 у.е., стандартное отклонение достаточно большое - 96.3\n"
   ]
  },
  {
   "cell_type": "code",
   "execution_count": 15,
   "metadata": {},
   "outputs": [
    {
     "data": {
      "text/plain": [
       "count    4000.000000\n",
       "mean        4.322750\n",
       "std         4.191297\n",
       "min         1.000000\n",
       "25%         1.000000\n",
       "50%         1.000000\n",
       "75%         6.000000\n",
       "max        12.000000\n",
       "Name: month_to_end_contract, dtype: float64"
      ]
     },
     "execution_count": 15,
     "metadata": {},
     "output_type": "execute_result"
    }
   ],
   "source": [
    "gym['month_to_end_contract'].describe()"
   ]
  },
  {
   "cell_type": "markdown",
   "metadata": {},
   "source": [
    "Медианный срок до окончания текущего действующего абонемента - 1 месяц, средний - 4 месяца. Следовательно на среднее значение имеют влияние выбросы. Помимо этого можно заметить, что клиентов у которых абонемент подходит к концу больше чем тех, у кого он только начался.\n"
   ]
  },
  {
   "cell_type": "code",
   "execution_count": 16,
   "metadata": {},
   "outputs": [
    {
     "data": {
      "text/plain": [
       "count    4000.000000\n",
       "mean        3.724750\n",
       "std         3.749267\n",
       "min         0.000000\n",
       "25%         1.000000\n",
       "50%         3.000000\n",
       "75%         5.000000\n",
       "max        31.000000\n",
       "Name: lifetime, dtype: float64"
      ]
     },
     "execution_count": 16,
     "metadata": {},
     "output_type": "execute_result"
    }
   ],
   "source": [
    "gym['lifetime'].describe()"
   ]
  },
  {
   "cell_type": "markdown",
   "metadata": {},
   "source": [
    "Большинство клиентов обратились в фитнес-центр около 3-х месяцев назад. Максимальное значение - 31 месяц"
   ]
  },
  {
   "cell_type": "code",
   "execution_count": 17,
   "metadata": {},
   "outputs": [
    {
     "data": {
      "text/plain": [
       "count    4000.000000\n",
       "mean        1.879020\n",
       "std         0.972245\n",
       "min         0.000000\n",
       "25%         1.180875\n",
       "50%         1.832768\n",
       "75%         2.536078\n",
       "max         6.023668\n",
       "Name: avg_class_frequency_total, dtype: float64"
      ]
     },
     "execution_count": 17,
     "metadata": {},
     "output_type": "execute_result"
    }
   ],
   "source": [
    "gym['avg_class_frequency_total'].describe()"
   ]
  },
  {
   "cell_type": "markdown",
   "metadata": {},
   "source": [
    "Средняя частота посещения фитнес-центра 1-2 раза в неделю, максимальное значение 6 раз. Стандартное отклонение - 0.97"
   ]
  },
  {
   "cell_type": "code",
   "execution_count": 18,
   "metadata": {},
   "outputs": [
    {
     "data": {
      "text/plain": [
       "count    4000.000000\n",
       "mean        1.767052\n",
       "std         1.052906\n",
       "min         0.000000\n",
       "25%         0.963003\n",
       "50%         1.719574\n",
       "75%         2.510336\n",
       "max         6.146783\n",
       "Name: avg_class_frequency_current_month, dtype: float64"
      ]
     },
     "execution_count": 18,
     "metadata": {},
     "output_type": "execute_result"
    }
   ],
   "source": [
    "gym['avg_class_frequency_current_month'].describe()"
   ]
  },
  {
   "cell_type": "markdown",
   "metadata": {},
   "source": [
    "Средняя частота посещений за последний месяц достаточно близка к общей"
   ]
  },
  {
   "cell_type": "code",
   "execution_count": 19,
   "metadata": {},
   "outputs": [
    {
     "data": {
      "text/plain": [
       "count    4000.000000\n",
       "mean        0.265250\n",
       "std         0.441521\n",
       "min         0.000000\n",
       "25%         0.000000\n",
       "50%         0.000000\n",
       "75%         1.000000\n",
       "max         1.000000\n",
       "Name: churn, dtype: float64"
      ]
     },
     "execution_count": 19,
     "metadata": {},
     "output_type": "execute_result"
    }
   ],
   "source": [
    "gym['churn'].describe()"
   ]
  },
  {
   "cell_type": "markdown",
   "metadata": {},
   "source": [
    "Отток в текущем месяце составил 26%. Стандартное отклонение - 0.44."
   ]
  },
  {
   "cell_type": "code",
   "execution_count": 20,
   "metadata": {
    "scrolled": true
   },
   "outputs": [
    {
     "data": {
      "text/html": [
       "<div>\n",
       "<style scoped>\n",
       "    .dataframe tbody tr th:only-of-type {\n",
       "        vertical-align: middle;\n",
       "    }\n",
       "\n",
       "    .dataframe tbody tr th {\n",
       "        vertical-align: top;\n",
       "    }\n",
       "\n",
       "    .dataframe thead th {\n",
       "        text-align: right;\n",
       "    }\n",
       "</style>\n",
       "<table border=\"1\" class=\"dataframe\">\n",
       "  <thead>\n",
       "    <tr style=\"text-align: right;\">\n",
       "      <th></th>\n",
       "      <th>gender</th>\n",
       "      <th>near_location</th>\n",
       "      <th>partner</th>\n",
       "      <th>promo_friends</th>\n",
       "      <th>phone</th>\n",
       "      <th>contract_period</th>\n",
       "      <th>group_visits</th>\n",
       "      <th>age</th>\n",
       "      <th>avg_additional_charges_total</th>\n",
       "      <th>month_to_end_contract</th>\n",
       "      <th>lifetime</th>\n",
       "      <th>avg_class_frequency_total</th>\n",
       "      <th>avg_class_frequency_current_month</th>\n",
       "      <th>churn</th>\n",
       "    </tr>\n",
       "  </thead>\n",
       "  <tbody>\n",
       "    <tr>\n",
       "      <th>mean</th>\n",
       "      <td>0.510250</td>\n",
       "      <td>0.845250</td>\n",
       "      <td>0.486750</td>\n",
       "      <td>0.308500</td>\n",
       "      <td>0.903500</td>\n",
       "      <td>4.681250</td>\n",
       "      <td>0.412250</td>\n",
       "      <td>29.184250</td>\n",
       "      <td>146.943728</td>\n",
       "      <td>4.322750</td>\n",
       "      <td>3.724750</td>\n",
       "      <td>1.879020</td>\n",
       "      <td>1.767052</td>\n",
       "      <td>0.265250</td>\n",
       "    </tr>\n",
       "    <tr>\n",
       "      <th>std</th>\n",
       "      <td>0.499957</td>\n",
       "      <td>0.361711</td>\n",
       "      <td>0.499887</td>\n",
       "      <td>0.461932</td>\n",
       "      <td>0.295313</td>\n",
       "      <td>4.549706</td>\n",
       "      <td>0.492301</td>\n",
       "      <td>3.258367</td>\n",
       "      <td>96.355602</td>\n",
       "      <td>4.191297</td>\n",
       "      <td>3.749267</td>\n",
       "      <td>0.972245</td>\n",
       "      <td>1.052906</td>\n",
       "      <td>0.441521</td>\n",
       "    </tr>\n",
       "  </tbody>\n",
       "</table>\n",
       "</div>"
      ],
      "text/plain": [
       "        gender  near_location   partner  promo_friends     phone  \\\n",
       "mean  0.510250       0.845250  0.486750       0.308500  0.903500   \n",
       "std   0.499957       0.361711  0.499887       0.461932  0.295313   \n",
       "\n",
       "      contract_period  group_visits        age  avg_additional_charges_total  \\\n",
       "mean         4.681250      0.412250  29.184250                    146.943728   \n",
       "std          4.549706      0.492301   3.258367                     96.355602   \n",
       "\n",
       "      month_to_end_contract  lifetime  avg_class_frequency_total  \\\n",
       "mean               4.322750  3.724750                   1.879020   \n",
       "std                4.191297  3.749267                   0.972245   \n",
       "\n",
       "      avg_class_frequency_current_month     churn  \n",
       "mean                           1.767052  0.265250  \n",
       "std                            1.052906  0.441521  "
      ]
     },
     "metadata": {},
     "output_type": "display_data"
    }
   ],
   "source": [
    "display(gym.agg(['mean','std'])) # выведем средние значения и стандартное отклонение в одну таблицу"
   ]
  },
  {
   "cell_type": "code",
   "execution_count": 21,
   "metadata": {
    "scrolled": true
   },
   "outputs": [
    {
     "data": {
      "text/html": [
       "<div>\n",
       "<style scoped>\n",
       "    .dataframe tbody tr th:only-of-type {\n",
       "        vertical-align: middle;\n",
       "    }\n",
       "\n",
       "    .dataframe tbody tr th {\n",
       "        vertical-align: top;\n",
       "    }\n",
       "\n",
       "    .dataframe thead th {\n",
       "        text-align: right;\n",
       "    }\n",
       "</style>\n",
       "<table border=\"1\" class=\"dataframe\">\n",
       "  <thead>\n",
       "    <tr style=\"text-align: right;\">\n",
       "      <th></th>\n",
       "      <th>gender</th>\n",
       "      <th>near_location</th>\n",
       "      <th>partner</th>\n",
       "      <th>promo_friends</th>\n",
       "      <th>phone</th>\n",
       "      <th>contract_period</th>\n",
       "      <th>group_visits</th>\n",
       "      <th>age</th>\n",
       "      <th>avg_additional_charges_total</th>\n",
       "      <th>month_to_end_contract</th>\n",
       "      <th>lifetime</th>\n",
       "      <th>avg_class_frequency_total</th>\n",
       "      <th>avg_class_frequency_current_month</th>\n",
       "      <th>churn</th>\n",
       "    </tr>\n",
       "  </thead>\n",
       "  <tbody>\n",
       "  </tbody>\n",
       "</table>\n",
       "</div>"
      ],
      "text/plain": [
       "Empty DataFrame\n",
       "Columns: [gender, near_location, partner, promo_friends, phone, contract_period, group_visits, age, avg_additional_charges_total, month_to_end_contract, lifetime, avg_class_frequency_total, avg_class_frequency_current_month, churn]\n",
       "Index: []"
      ]
     },
     "execution_count": 21,
     "metadata": {},
     "output_type": "execute_result"
    }
   ],
   "source": [
    "gym[gym.duplicated()] # проверим дубликаты"
   ]
  },
  {
   "cell_type": "markdown",
   "metadata": {},
   "source": [
    "## Посмотрите на средние значения признаков в двух группах — тех, кто ушел в отток и тех, кто остался (воспользуйтесь методом groupby());"
   ]
  },
  {
   "cell_type": "code",
   "execution_count": 22,
   "metadata": {},
   "outputs": [
    {
     "data": {
      "text/plain": [
       "churn\n",
       "0    2939\n",
       "1    1061\n",
       "Name: gender, dtype: int64"
      ]
     },
     "metadata": {},
     "output_type": "display_data"
    }
   ],
   "source": [
    "display(gym.groupby('churn')['gender'].agg('count'))"
   ]
  },
  {
   "cell_type": "markdown",
   "metadata": {},
   "source": [
    "Ушло -  1061 клиент , осталось 2939"
   ]
  },
  {
   "cell_type": "code",
   "execution_count": 23,
   "metadata": {
    "scrolled": true
   },
   "outputs": [
    {
     "data": {
      "text/html": [
       "<div>\n",
       "<style scoped>\n",
       "    .dataframe tbody tr th:only-of-type {\n",
       "        vertical-align: middle;\n",
       "    }\n",
       "\n",
       "    .dataframe tbody tr th {\n",
       "        vertical-align: top;\n",
       "    }\n",
       "\n",
       "    .dataframe thead th {\n",
       "        text-align: right;\n",
       "    }\n",
       "</style>\n",
       "<table border=\"1\" class=\"dataframe\">\n",
       "  <thead>\n",
       "    <tr style=\"text-align: right;\">\n",
       "      <th></th>\n",
       "      <th>gender</th>\n",
       "      <th>near_location</th>\n",
       "      <th>partner</th>\n",
       "      <th>promo_friends</th>\n",
       "      <th>phone</th>\n",
       "      <th>contract_period</th>\n",
       "      <th>group_visits</th>\n",
       "      <th>age</th>\n",
       "      <th>avg_additional_charges_total</th>\n",
       "      <th>month_to_end_contract</th>\n",
       "      <th>lifetime</th>\n",
       "      <th>avg_class_frequency_total</th>\n",
       "      <th>avg_class_frequency_current_month</th>\n",
       "    </tr>\n",
       "    <tr>\n",
       "      <th>churn</th>\n",
       "      <th></th>\n",
       "      <th></th>\n",
       "      <th></th>\n",
       "      <th></th>\n",
       "      <th></th>\n",
       "      <th></th>\n",
       "      <th></th>\n",
       "      <th></th>\n",
       "      <th></th>\n",
       "      <th></th>\n",
       "      <th></th>\n",
       "      <th></th>\n",
       "      <th></th>\n",
       "    </tr>\n",
       "  </thead>\n",
       "  <tbody>\n",
       "    <tr>\n",
       "      <th>0</th>\n",
       "      <td>0.510037</td>\n",
       "      <td>0.873086</td>\n",
       "      <td>0.534195</td>\n",
       "      <td>0.353522</td>\n",
       "      <td>0.903709</td>\n",
       "      <td>5.747193</td>\n",
       "      <td>0.464103</td>\n",
       "      <td>29.976523</td>\n",
       "      <td>158.445715</td>\n",
       "      <td>5.283089</td>\n",
       "      <td>4.711807</td>\n",
       "      <td>2.024876</td>\n",
       "      <td>2.027882</td>\n",
       "    </tr>\n",
       "    <tr>\n",
       "      <th>1</th>\n",
       "      <td>0.510839</td>\n",
       "      <td>0.768143</td>\n",
       "      <td>0.355325</td>\n",
       "      <td>0.183789</td>\n",
       "      <td>0.902922</td>\n",
       "      <td>1.728558</td>\n",
       "      <td>0.268615</td>\n",
       "      <td>26.989632</td>\n",
       "      <td>115.082899</td>\n",
       "      <td>1.662582</td>\n",
       "      <td>0.990575</td>\n",
       "      <td>1.474995</td>\n",
       "      <td>1.044546</td>\n",
       "    </tr>\n",
       "  </tbody>\n",
       "</table>\n",
       "</div>"
      ],
      "text/plain": [
       "         gender  near_location   partner  promo_friends     phone  \\\n",
       "churn                                                               \n",
       "0      0.510037       0.873086  0.534195       0.353522  0.903709   \n",
       "1      0.510839       0.768143  0.355325       0.183789  0.902922   \n",
       "\n",
       "       contract_period  group_visits        age  avg_additional_charges_total  \\\n",
       "churn                                                                           \n",
       "0             5.747193      0.464103  29.976523                    158.445715   \n",
       "1             1.728558      0.268615  26.989632                    115.082899   \n",
       "\n",
       "       month_to_end_contract  lifetime  avg_class_frequency_total  \\\n",
       "churn                                                               \n",
       "0                   5.283089  4.711807                   2.024876   \n",
       "1                   1.662582  0.990575                   1.474995   \n",
       "\n",
       "       avg_class_frequency_current_month  \n",
       "churn                                     \n",
       "0                               2.027882  \n",
       "1                               1.044546  "
      ]
     },
     "metadata": {},
     "output_type": "display_data"
    }
   ],
   "source": [
    "display(gym.groupby('churn').agg('mean'))"
   ]
  },
  {
   "cell_type": "markdown",
   "metadata": {},
   "source": [
    "- По полу примерное равное количество клиентов ушло и осталось\n",
    "- 76% тех кто ушел жили или работали в одном районе с фитнес центром\n",
    "- 35% тех кто ушел были сотрудники компании-партнёра клуба\n",
    "- 18% тех кто ушел записывались в рамках акции «приведи друга».\n",
    "- по телефону ситуация равная 90% для обеих групп\n",
    "- 26% ушедших посещали групповые занятия , а осталось 46%\n",
    "- возраст для обеих групп 26-30 лет\n",
    "- Среди ушедших траты 115 у.е., а среди оставшихся 158 у.е.\n",
    "- Среди ушедших большинство ушло в течение месяца, значит есть проблемы с удержанием клиента\n",
    "- Среди ушедших посещения примерно 1 раз в неделю, а среди оставшихся больше 2 раз"
   ]
  },
  {
   "cell_type": "markdown",
   "metadata": {},
   "source": [
    "## Постройте столбчатые гистограммы и распределения признаков для тех, кто ушёл (отток) и тех, кто остался (не попали в отток);"
   ]
  },
  {
   "cell_type": "code",
   "execution_count": 24,
   "metadata": {},
   "outputs": [],
   "source": [
    "def hist_out(i):\n",
    "    gym_one = gym[gym['churn'] == 1]\n",
    "    gym_zero = gym[gym['churn'] == 0]\n",
    "    plt.figure(figsize = (9, 3.5))\n",
    "    sns.distplot(gym_one[i])\n",
    "    sns.distplot(gym_zero[i])\n",
    "    plt.legend(labels=['Ушедшие', 'Оставшиеся'], fontsize = 12)\n",
    "    plt.title(i, fontsize=12);"
   ]
  },
  {
   "cell_type": "code",
   "execution_count": 25,
   "metadata": {},
   "outputs": [
    {
     "data": {
      "text/plain": [
       "['gender',\n",
       " 'near_location',\n",
       " 'partner',\n",
       " 'promo_friends',\n",
       " 'phone',\n",
       " 'contract_period',\n",
       " 'group_visits',\n",
       " 'age',\n",
       " 'avg_additional_charges_total',\n",
       " 'month_to_end_contract',\n",
       " 'lifetime',\n",
       " 'avg_class_frequency_total',\n",
       " 'avg_class_frequency_current_month']"
      ]
     },
     "metadata": {},
     "output_type": "display_data"
    }
   ],
   "source": [
    "list_columns = gym.columns.tolist()\n",
    "display(list_columns[:-1])"
   ]
  },
  {
   "cell_type": "code",
   "execution_count": 26,
   "metadata": {},
   "outputs": [
    {
     "data": {
      "image/png": "[encoded data removed]",
      "text/plain": [
       "<Figure size 648x252 with 1 Axes>"
      ]
     },
     "metadata": {
      "needs_background": "light"
     },
     "output_type": "display_data"
    },
    {
     "data": {
      "image/png": "[encoded data removed]",
      "text/plain": [
       "<Figure size 648x252 with 1 Axes>"
      ]
     },
     "metadata": {
      "needs_background": "light"
     },
     "output_type": "display_data"
    },
    {
     "data": {
      "image/png": "[encoded data removed]",
      "text/plain": [
       "<Figure size 648x252 with 1 Axes>"
      ]
     },
     "metadata": {
      "needs_background": "light"
     },
     "output_type": "display_data"
    },
    {
     "data": {
      "image/png": "[encoded data removed]",
      "text/plain": [
       "<Figure size 648x252 with 1 Axes>"
      ]
     },
     "metadata": {
      "needs_background": "light"
     },
     "output_type": "display_data"
    },
    {
     "data": {
      "image/png": "[encoded data removed]",
      "text/plain": [
       "<Figure size 648x252 with 1 Axes>"
      ]
     },
     "metadata": {
      "needs_background": "light"
     },
     "output_type": "display_data"
    },
    {
     "data": {
      "image/png": "[encoded data removed]",
      "text/plain": [
       "<Figure size 648x252 with 1 Axes>"
      ]
     },
     "metadata": {
      "needs_background": "light"
     },
     "output_type": "display_data"
    },
    {
     "data": {
      "image/png": "[encoded data removed]",
      "text/plain": [
       "<Figure size 648x252 with 1 Axes>"
      ]
     },
     "metadata": {
      "needs_background": "light"
     },
     "output_type": "display_data"
    },
    {
     "data": {
      "image/png": "[encoded data removed]",
      "text/plain": [
       "<Figure size 648x252 with 1 Axes>"
      ]
     },
     "metadata": {
      "needs_background": "light"
     },
     "output_type": "display_data"
    },
    {
     "data": {
      "image/png": "[encoded data removed]",
      "text/plain": [
       "<Figure size 648x252 with 1 Axes>"
      ]
     },
     "metadata": {
      "needs_background": "light"
     },
     "output_type": "display_data"
    },
    {
     "data": {
      "image/png": "[encoded data removed]",
      "text/plain": [
       "<Figure size 648x252 with 1 Axes>"
      ]
     },
     "metadata": {
      "needs_background": "light"
     },
     "output_type": "display_data"
    },
    {
     "data": {
      "image/png": "[encoded data removed]",
      "text/plain": [
       "<Figure size 648x252 with 1 Axes>"
      ]
     },
     "metadata": {
      "needs_background": "light"
     },
     "output_type": "display_data"
    },
    {
     "data": {
      "image/png": "[encoded data removed]",
      "text/plain": [
       "<Figure size 648x252 with 1 Axes>"
      ]
     },
     "metadata": {
      "needs_background": "light"
     },
     "output_type": "display_data"
    },
    {
     "data": {
      "image/png": "[encoded data removed]",
      "text/plain": [
       "<Figure size 648x252 with 1 Axes>"
      ]
     },
     "metadata": {
      "needs_background": "light"
     },
     "output_type": "display_data"
    }
   ],
   "source": [
    "for i in list_columns[0:13]:\n",
    "    hist_out(i)"
   ]
  },
  {
   "cell_type": "markdown",
   "metadata": {},
   "source": [
    "## Постройте матрицу корреляций и отобразите её."
   ]
  },
  {
   "cell_type": "code",
   "execution_count": 27,
   "metadata": {
    "scrolled": true
   },
   "outputs": [
    {
     "data": {
      "text/html": [
       "<style  type=\"text/css\" >\n",
       "#T_dd76e_row0_col0,#T_dd76e_row1_col1,#T_dd76e_row2_col2,#T_dd76e_row3_col3,#T_dd76e_row4_col4,#T_dd76e_row5_col5,#T_dd76e_row6_col6,#T_dd76e_row7_col7,#T_dd76e_row8_col8,#T_dd76e_row9_col9,#T_dd76e_row10_col10,#T_dd76e_row11_col11,#T_dd76e_row12_col12,#T_dd76e_row13_col13{\n",
       "            background-color:  #023858;\n",
       "            color:  #f1f1f1;\n",
       "        }#T_dd76e_row0_col1{\n",
       "            background-color:  #ede8f3;\n",
       "            color:  #000000;\n",
       "        }#T_dd76e_row0_col2{\n",
       "            background-color:  #ece7f2;\n",
       "            color:  #000000;\n",
       "        }#T_dd76e_row0_col3{\n",
       "            background-color:  #eae6f1;\n",
       "            color:  #000000;\n",
       "        }#T_dd76e_row0_col4,#T_dd76e_row5_col0,#T_dd76e_row5_col4,#T_dd76e_row6_col4,#T_dd76e_row9_col0,#T_dd76e_row13_col0{\n",
       "            background-color:  #fef6fa;\n",
       "            color:  #000000;\n",
       "        }#T_dd76e_row0_col5,#T_dd76e_row1_col6,#T_dd76e_row4_col7{\n",
       "            background-color:  #c6cce3;\n",
       "            color:  #000000;\n",
       "        }#T_dd76e_row0_col6,#T_dd76e_row7_col1,#T_dd76e_row8_col13{\n",
       "            background-color:  #e3e0ee;\n",
       "            color:  #000000;\n",
       "        }#T_dd76e_row0_col7,#T_dd76e_row0_col12,#T_dd76e_row3_col1{\n",
       "            background-color:  #c0c9e2;\n",
       "            color:  #000000;\n",
       "        }#T_dd76e_row0_col8,#T_dd76e_row11_col2{\n",
       "            background-color:  #e5e1ef;\n",
       "            color:  #000000;\n",
       "        }#T_dd76e_row0_col9,#T_dd76e_row4_col5,#T_dd76e_row5_col11{\n",
       "            background-color:  #c8cde4;\n",
       "            color:  #000000;\n",
       "        }#T_dd76e_row0_col10{\n",
       "            background-color:  #bbc7e0;\n",
       "            color:  #000000;\n",
       "        }#T_dd76e_row0_col11,#T_dd76e_row10_col6,#T_dd76e_row12_col6{\n",
       "            background-color:  #d9d8ea;\n",
       "            color:  #000000;\n",
       "        }#T_dd76e_row0_col13{\n",
       "            background-color:  #bdc8e1;\n",
       "            color:  #000000;\n",
       "        }#T_dd76e_row1_col0,#T_dd76e_row12_col0,#T_dd76e_row12_col13,#T_dd76e_row13_col4{\n",
       "            background-color:  #fdf5fa;\n",
       "            color:  #000000;\n",
       "        }#T_dd76e_row1_col2,#T_dd76e_row11_col13{\n",
       "            background-color:  #ebe6f2;\n",
       "            color:  #000000;\n",
       "        }#T_dd76e_row1_col3,#T_dd76e_row2_col7,#T_dd76e_row2_col12,#T_dd76e_row3_col7{\n",
       "            background-color:  #b8c6e0;\n",
       "            color:  #000000;\n",
       "        }#T_dd76e_row1_col4,#T_dd76e_row2_col0,#T_dd76e_row4_col0,#T_dd76e_row8_col0,#T_dd76e_row10_col4,#T_dd76e_row10_col13,#T_dd76e_row13_col1,#T_dd76e_row13_col2,#T_dd76e_row13_col3,#T_dd76e_row13_col5,#T_dd76e_row13_col6,#T_dd76e_row13_col7,#T_dd76e_row13_col8,#T_dd76e_row13_col9,#T_dd76e_row13_col10,#T_dd76e_row13_col11,#T_dd76e_row13_col12{\n",
       "            background-color:  #fff7fb;\n",
       "            color:  #000000;\n",
       "        }#T_dd76e_row1_col5{\n",
       "            background-color:  #a1bbda;\n",
       "            color:  #000000;\n",
       "        }#T_dd76e_row1_col7,#T_dd76e_row3_col12{\n",
       "            background-color:  #b5c4df;\n",
       "            color:  #000000;\n",
       "        }#T_dd76e_row1_col8,#T_dd76e_row10_col3,#T_dd76e_row11_col8{\n",
       "            background-color:  #dbdaeb;\n",
       "            color:  #000000;\n",
       "        }#T_dd76e_row1_col9,#T_dd76e_row7_col5,#T_dd76e_row11_col10{\n",
       "            background-color:  #a4bcda;\n",
       "            color:  #000000;\n",
       "        }#T_dd76e_row1_col10,#T_dd76e_row3_col10{\n",
       "            background-color:  #adc1dd;\n",
       "            color:  #000000;\n",
       "        }#T_dd76e_row1_col11,#T_dd76e_row7_col8,#T_dd76e_row10_col8,#T_dd76e_row12_col8{\n",
       "            background-color:  #d4d4e8;\n",
       "            color:  #000000;\n",
       "        }#T_dd76e_row1_col12,#T_dd76e_row11_col9{\n",
       "            background-color:  #b3c3de;\n",
       "            color:  #000000;\n",
       "        }#T_dd76e_row1_col13,#T_dd76e_row7_col6{\n",
       "            background-color:  #d8d7e9;\n",
       "            color:  #000000;\n",
       "        }#T_dd76e_row2_col1{\n",
       "            background-color:  #efe9f3;\n",
       "            color:  #000000;\n",
       "        }#T_dd76e_row2_col3{\n",
       "            background-color:  #65a3cb;\n",
       "            color:  #000000;\n",
       "        }#T_dd76e_row2_col4,#T_dd76e_row6_col0,#T_dd76e_row8_col4{\n",
       "            background-color:  #fbf3f9;\n",
       "            color:  #000000;\n",
       "        }#T_dd76e_row2_col5{\n",
       "            background-color:  #73a9cf;\n",
       "            color:  #000000;\n",
       "        }#T_dd76e_row2_col6,#T_dd76e_row8_col3,#T_dd76e_row12_col1{\n",
       "            background-color:  #e2dfee;\n",
       "            color:  #000000;\n",
       "        }#T_dd76e_row2_col8,#T_dd76e_row12_col3{\n",
       "            background-color:  #dfddec;\n",
       "            color:  #000000;\n",
       "        }#T_dd76e_row2_col9{\n",
       "            background-color:  #78abd0;\n",
       "            color:  #000000;\n",
       "        }#T_dd76e_row2_col10,#T_dd76e_row6_col7,#T_dd76e_row6_col12,#T_dd76e_row8_col7,#T_dd76e_row9_col3{\n",
       "            background-color:  #b0c2de;\n",
       "            color:  #000000;\n",
       "        }#T_dd76e_row2_col11,#T_dd76e_row3_col11{\n",
       "            background-color:  #d7d6e9;\n",
       "            color:  #000000;\n",
       "        }#T_dd76e_row2_col13,#T_dd76e_row3_col13,#T_dd76e_row6_col8{\n",
       "            background-color:  #dddbec;\n",
       "            color:  #000000;\n",
       "        }#T_dd76e_row3_col0,#T_dd76e_row7_col4,#T_dd76e_row9_col4{\n",
       "            background-color:  #fef6fb;\n",
       "            color:  #000000;\n",
       "        }#T_dd76e_row3_col2{\n",
       "            background-color:  #67a4cc;\n",
       "            color:  #000000;\n",
       "        }#T_dd76e_row3_col4,#T_dd76e_row7_col13{\n",
       "            background-color:  #fcf4fa;\n",
       "            color:  #000000;\n",
       "        }#T_dd76e_row3_col5{\n",
       "            background-color:  #86b0d3;\n",
       "            color:  #000000;\n",
       "        }#T_dd76e_row3_col6,#T_dd76e_row6_col1{\n",
       "            background-color:  #d0d1e6;\n",
       "            color:  #000000;\n",
       "        }#T_dd76e_row3_col8,#T_dd76e_row11_col6{\n",
       "            background-color:  #dcdaeb;\n",
       "            color:  #000000;\n",
       "        }#T_dd76e_row3_col9{\n",
       "            background-color:  #88b1d4;\n",
       "            color:  #000000;\n",
       "        }#T_dd76e_row4_col1{\n",
       "            background-color:  #f0eaf4;\n",
       "            color:  #000000;\n",
       "        }#T_dd76e_row4_col2,#T_dd76e_row8_col1,#T_dd76e_row11_col1{\n",
       "            background-color:  #e7e3f0;\n",
       "            color:  #000000;\n",
       "        }#T_dd76e_row4_col3{\n",
       "            background-color:  #e8e4f0;\n",
       "            color:  #000000;\n",
       "        }#T_dd76e_row4_col6{\n",
       "            background-color:  #e9e5f1;\n",
       "            color:  #000000;\n",
       "        }#T_dd76e_row4_col8,#T_dd76e_row12_col2{\n",
       "            background-color:  #e1dfed;\n",
       "            color:  #000000;\n",
       "        }#T_dd76e_row4_col9,#T_dd76e_row9_col11{\n",
       "            background-color:  #cacee5;\n",
       "            color:  #000000;\n",
       "        }#T_dd76e_row4_col10,#T_dd76e_row10_col11{\n",
       "            background-color:  #c2cbe2;\n",
       "            color:  #000000;\n",
       "        }#T_dd76e_row4_col11{\n",
       "            background-color:  #dad9ea;\n",
       "            color:  #000000;\n",
       "        }#T_dd76e_row4_col12,#T_dd76e_row4_col13{\n",
       "            background-color:  #bfc9e1;\n",
       "            color:  #000000;\n",
       "        }#T_dd76e_row5_col1{\n",
       "            background-color:  #d1d2e6;\n",
       "            color:  #000000;\n",
       "        }#T_dd76e_row5_col2{\n",
       "            background-color:  #9cb9d9;\n",
       "            color:  #000000;\n",
       "        }#T_dd76e_row5_col3,#T_dd76e_row8_col12,#T_dd76e_row11_col5{\n",
       "            background-color:  #afc1dd;\n",
       "            color:  #000000;\n",
       "        }#T_dd76e_row5_col6,#T_dd76e_row7_col11{\n",
       "            background-color:  #c1cae2;\n",
       "            color:  #000000;\n",
       "        }#T_dd76e_row5_col7,#T_dd76e_row9_col7,#T_dd76e_row12_col9{\n",
       "            background-color:  #a2bcda;\n",
       "            color:  #000000;\n",
       "        }#T_dd76e_row5_col8,#T_dd76e_row9_col8{\n",
       "            background-color:  #cdd0e5;\n",
       "            color:  #000000;\n",
       "        }#T_dd76e_row5_col9,#T_dd76e_row9_col5{\n",
       "            background-color:  #023c5f;\n",
       "            color:  #f1f1f1;\n",
       "        }#T_dd76e_row5_col10{\n",
       "            background-color:  #93b5d6;\n",
       "            color:  #000000;\n",
       "        }#T_dd76e_row5_col12,#T_dd76e_row6_col5,#T_dd76e_row10_col5,#T_dd76e_row10_col7{\n",
       "            background-color:  #9ab8d8;\n",
       "            color:  #000000;\n",
       "        }#T_dd76e_row5_col13,#T_dd76e_row12_col4{\n",
       "            background-color:  #faf3f9;\n",
       "            color:  #000000;\n",
       "        }#T_dd76e_row6_col2,#T_dd76e_row8_col2{\n",
       "            background-color:  #e6e2ef;\n",
       "            color:  #000000;\n",
       "        }#T_dd76e_row6_col3,#T_dd76e_row6_col11{\n",
       "            background-color:  #d2d2e7;\n",
       "            color:  #000000;\n",
       "        }#T_dd76e_row6_col9,#T_dd76e_row9_col12,#T_dd76e_row12_col5{\n",
       "            background-color:  #9ebad9;\n",
       "            color:  #000000;\n",
       "        }#T_dd76e_row6_col10,#T_dd76e_row8_col9{\n",
       "            background-color:  #acc0dd;\n",
       "            color:  #000000;\n",
       "        }#T_dd76e_row6_col13,#T_dd76e_row7_col3{\n",
       "            background-color:  #e0dded;\n",
       "            color:  #000000;\n",
       "        }#T_dd76e_row7_col0,#T_dd76e_row10_col0,#T_dd76e_row11_col0,#T_dd76e_row11_col4{\n",
       "            background-color:  #fbf4f9;\n",
       "            color:  #000000;\n",
       "        }#T_dd76e_row7_col2,#T_dd76e_row8_col6,#T_dd76e_row10_col1{\n",
       "            background-color:  #e0deed;\n",
       "            color:  #000000;\n",
       "        }#T_dd76e_row7_col9,#T_dd76e_row11_col7{\n",
       "            background-color:  #a7bddb;\n",
       "            color:  #000000;\n",
       "        }#T_dd76e_row7_col10,#T_dd76e_row7_col12,#T_dd76e_row10_col12,#T_dd76e_row12_col7{\n",
       "            background-color:  #94b6d7;\n",
       "            color:  #000000;\n",
       "        }#T_dd76e_row8_col5,#T_dd76e_row8_col10{\n",
       "            background-color:  #abbfdc;\n",
       "            color:  #000000;\n",
       "        }#T_dd76e_row8_col11{\n",
       "            background-color:  #d3d4e7;\n",
       "            color:  #000000;\n",
       "        }#T_dd76e_row9_col1{\n",
       "            background-color:  #d2d3e7;\n",
       "            color:  #000000;\n",
       "        }#T_dd76e_row9_col2,#T_dd76e_row10_col9{\n",
       "            background-color:  #9fbad9;\n",
       "            color:  #000000;\n",
       "        }#T_dd76e_row9_col6{\n",
       "            background-color:  #c4cbe3;\n",
       "            color:  #000000;\n",
       "        }#T_dd76e_row9_col10{\n",
       "            background-color:  #96b6d7;\n",
       "            color:  #000000;\n",
       "        }#T_dd76e_row9_col13{\n",
       "            background-color:  #f9f2f8;\n",
       "            color:  #000000;\n",
       "        }#T_dd76e_row10_col2{\n",
       "            background-color:  #dedcec;\n",
       "            color:  #000000;\n",
       "        }#T_dd76e_row11_col3{\n",
       "            background-color:  #e4e1ef;\n",
       "            color:  #000000;\n",
       "        }#T_dd76e_row11_col12{\n",
       "            background-color:  #034165;\n",
       "            color:  #f1f1f1;\n",
       "        }#T_dd76e_row12_col10{\n",
       "            background-color:  #8fb4d6;\n",
       "            color:  #000000;\n",
       "        }#T_dd76e_row12_col11{\n",
       "            background-color:  #034267;\n",
       "            color:  #f1f1f1;\n",
       "        }</style><table id=\"T_dd76e_\" ><thead>    <tr>        <th class=\"blank level0\" ></th>        <th class=\"col_heading level0 col0\" >gender</th>        <th class=\"col_heading level0 col1\" >near_location</th>        <th class=\"col_heading level0 col2\" >partner</th>        <th class=\"col_heading level0 col3\" >promo_friends</th>        <th class=\"col_heading level0 col4\" >phone</th>        <th class=\"col_heading level0 col5\" >contract_period</th>        <th class=\"col_heading level0 col6\" >group_visits</th>        <th class=\"col_heading level0 col7\" >age</th>        <th class=\"col_heading level0 col8\" >avg_additional_charges_total</th>        <th class=\"col_heading level0 col9\" >month_to_end_contract</th>        <th class=\"col_heading level0 col10\" >lifetime</th>        <th class=\"col_heading level0 col11\" >avg_class_frequency_total</th>        <th class=\"col_heading level0 col12\" >avg_class_frequency_current_month</th>        <th class=\"col_heading level0 col13\" >churn</th>    </tr></thead><tbody>\n",
       "                <tr>\n",
       "                        <th id=\"T_dd76e_level0_row0\" class=\"row_heading level0 row0\" >gender</th>\n",
       "                        <td id=\"T_dd76e_row0_col0\" class=\"data row0 col0\" >1.000000</td>\n",
       "                        <td id=\"T_dd76e_row0_col1\" class=\"data row0 col1\" >0.006699</td>\n",
       "                        <td id=\"T_dd76e_row0_col2\" class=\"data row0 col2\" >-0.010463</td>\n",
       "                        <td id=\"T_dd76e_row0_col3\" class=\"data row0 col3\" >-0.005033</td>\n",
       "                        <td id=\"T_dd76e_row0_col4\" class=\"data row0 col4\" >-0.008542</td>\n",
       "                        <td id=\"T_dd76e_row0_col5\" class=\"data row0 col5\" >0.000502</td>\n",
       "                        <td id=\"T_dd76e_row0_col6\" class=\"data row0 col6\" >0.017879</td>\n",
       "                        <td id=\"T_dd76e_row0_col7\" class=\"data row0 col7\" >0.013807</td>\n",
       "                        <td id=\"T_dd76e_row0_col8\" class=\"data row0 col8\" >-0.009334</td>\n",
       "                        <td id=\"T_dd76e_row0_col9\" class=\"data row0 col9\" >-0.001281</td>\n",
       "                        <td id=\"T_dd76e_row0_col10\" class=\"data row0 col10\" >0.013579</td>\n",
       "                        <td id=\"T_dd76e_row0_col11\" class=\"data row0 col11\" >0.014620</td>\n",
       "                        <td id=\"T_dd76e_row0_col12\" class=\"data row0 col12\" >0.009156</td>\n",
       "                        <td id=\"T_dd76e_row0_col13\" class=\"data row0 col13\" >0.000708</td>\n",
       "            </tr>\n",
       "            <tr>\n",
       "                        <th id=\"T_dd76e_level0_row1\" class=\"row_heading level0 row1\" >near_location</th>\n",
       "                        <td id=\"T_dd76e_row1_col0\" class=\"data row1 col0\" >0.006699</td>\n",
       "                        <td id=\"T_dd76e_row1_col1\" class=\"data row1 col1\" >1.000000</td>\n",
       "                        <td id=\"T_dd76e_row1_col2\" class=\"data row1 col2\" >-0.005119</td>\n",
       "                        <td id=\"T_dd76e_row1_col3\" class=\"data row1 col3\" >0.210964</td>\n",
       "                        <td id=\"T_dd76e_row1_col4\" class=\"data row1 col4\" >-0.015763</td>\n",
       "                        <td id=\"T_dd76e_row1_col5\" class=\"data row1 col5\" >0.150233</td>\n",
       "                        <td id=\"T_dd76e_row1_col6\" class=\"data row1 col6\" >0.154728</td>\n",
       "                        <td id=\"T_dd76e_row1_col7\" class=\"data row1 col7\" >0.058358</td>\n",
       "                        <td id=\"T_dd76e_row1_col8\" class=\"data row1 col8\" >0.040761</td>\n",
       "                        <td id=\"T_dd76e_row1_col9\" class=\"data row1 col9\" >0.143961</td>\n",
       "                        <td id=\"T_dd76e_row1_col10\" class=\"data row1 col10\" >0.070921</td>\n",
       "                        <td id=\"T_dd76e_row1_col11\" class=\"data row1 col11\" >0.043127</td>\n",
       "                        <td id=\"T_dd76e_row1_col12\" class=\"data row1 col12\" >0.062664</td>\n",
       "                        <td id=\"T_dd76e_row1_col13\" class=\"data row1 col13\" >-0.128098</td>\n",
       "            </tr>\n",
       "            <tr>\n",
       "                        <th id=\"T_dd76e_level0_row2\" class=\"row_heading level0 row2\" >partner</th>\n",
       "                        <td id=\"T_dd76e_row2_col0\" class=\"data row2 col0\" >-0.010463</td>\n",
       "                        <td id=\"T_dd76e_row2_col1\" class=\"data row2 col1\" >-0.005119</td>\n",
       "                        <td id=\"T_dd76e_row2_col2\" class=\"data row2 col2\" >1.000000</td>\n",
       "                        <td id=\"T_dd76e_row2_col3\" class=\"data row2 col3\" >0.451960</td>\n",
       "                        <td id=\"T_dd76e_row2_col4\" class=\"data row2 col4\" >0.009970</td>\n",
       "                        <td id=\"T_dd76e_row2_col5\" class=\"data row2 col5\" >0.306166</td>\n",
       "                        <td id=\"T_dd76e_row2_col6\" class=\"data row2 col6\" >0.022710</td>\n",
       "                        <td id=\"T_dd76e_row2_col7\" class=\"data row2 col7\" >0.047480</td>\n",
       "                        <td id=\"T_dd76e_row2_col8\" class=\"data row2 col8\" >0.022941</td>\n",
       "                        <td id=\"T_dd76e_row2_col9\" class=\"data row2 col9\" >0.294632</td>\n",
       "                        <td id=\"T_dd76e_row2_col10\" class=\"data row2 col10\" >0.061229</td>\n",
       "                        <td id=\"T_dd76e_row2_col11\" class=\"data row2 col11\" >0.024938</td>\n",
       "                        <td id=\"T_dd76e_row2_col12\" class=\"data row2 col12\" >0.045561</td>\n",
       "                        <td id=\"T_dd76e_row2_col13\" class=\"data row2 col13\" >-0.157986</td>\n",
       "            </tr>\n",
       "            <tr>\n",
       "                        <th id=\"T_dd76e_level0_row3\" class=\"row_heading level0 row3\" >promo_friends</th>\n",
       "                        <td id=\"T_dd76e_row3_col0\" class=\"data row3 col0\" >-0.005033</td>\n",
       "                        <td id=\"T_dd76e_row3_col1\" class=\"data row3 col1\" >0.210964</td>\n",
       "                        <td id=\"T_dd76e_row3_col2\" class=\"data row3 col2\" >0.451960</td>\n",
       "                        <td id=\"T_dd76e_row3_col3\" class=\"data row3 col3\" >1.000000</td>\n",
       "                        <td id=\"T_dd76e_row3_col4\" class=\"data row3 col4\" >0.001982</td>\n",
       "                        <td id=\"T_dd76e_row3_col5\" class=\"data row3 col5\" >0.244552</td>\n",
       "                        <td id=\"T_dd76e_row3_col6\" class=\"data row3 col6\" >0.120170</td>\n",
       "                        <td id=\"T_dd76e_row3_col7\" class=\"data row3 col7\" >0.050113</td>\n",
       "                        <td id=\"T_dd76e_row3_col8\" class=\"data row3 col8\" >0.036898</td>\n",
       "                        <td id=\"T_dd76e_row3_col9\" class=\"data row3 col9\" >0.239553</td>\n",
       "                        <td id=\"T_dd76e_row3_col10\" class=\"data row3 col10\" >0.072721</td>\n",
       "                        <td id=\"T_dd76e_row3_col11\" class=\"data row3 col11\" >0.028063</td>\n",
       "                        <td id=\"T_dd76e_row3_col12\" class=\"data row3 col12\" >0.053768</td>\n",
       "                        <td id=\"T_dd76e_row3_col13\" class=\"data row3 col13\" >-0.162233</td>\n",
       "            </tr>\n",
       "            <tr>\n",
       "                        <th id=\"T_dd76e_level0_row4\" class=\"row_heading level0 row4\" >phone</th>\n",
       "                        <td id=\"T_dd76e_row4_col0\" class=\"data row4 col0\" >-0.008542</td>\n",
       "                        <td id=\"T_dd76e_row4_col1\" class=\"data row4 col1\" >-0.015763</td>\n",
       "                        <td id=\"T_dd76e_row4_col2\" class=\"data row4 col2\" >0.009970</td>\n",
       "                        <td id=\"T_dd76e_row4_col3\" class=\"data row4 col3\" >0.001982</td>\n",
       "                        <td id=\"T_dd76e_row4_col4\" class=\"data row4 col4\" >1.000000</td>\n",
       "                        <td id=\"T_dd76e_row4_col5\" class=\"data row4 col5\" >-0.006893</td>\n",
       "                        <td id=\"T_dd76e_row4_col6\" class=\"data row4 col6\" >-0.010099</td>\n",
       "                        <td id=\"T_dd76e_row4_col7\" class=\"data row4 col7\" >-0.011403</td>\n",
       "                        <td id=\"T_dd76e_row4_col8\" class=\"data row4 col8\" >0.009279</td>\n",
       "                        <td id=\"T_dd76e_row4_col9\" class=\"data row4 col9\" >-0.011196</td>\n",
       "                        <td id=\"T_dd76e_row4_col10\" class=\"data row4 col10\" >-0.018801</td>\n",
       "                        <td id=\"T_dd76e_row4_col11\" class=\"data row4 col11\" >0.008340</td>\n",
       "                        <td id=\"T_dd76e_row4_col12\" class=\"data row4 col12\" >0.013375</td>\n",
       "                        <td id=\"T_dd76e_row4_col13\" class=\"data row4 col13\" >-0.001177</td>\n",
       "            </tr>\n",
       "            <tr>\n",
       "                        <th id=\"T_dd76e_level0_row5\" class=\"row_heading level0 row5\" >contract_period</th>\n",
       "                        <td id=\"T_dd76e_row5_col0\" class=\"data row5 col0\" >0.000502</td>\n",
       "                        <td id=\"T_dd76e_row5_col1\" class=\"data row5 col1\" >0.150233</td>\n",
       "                        <td id=\"T_dd76e_row5_col2\" class=\"data row5 col2\" >0.306166</td>\n",
       "                        <td id=\"T_dd76e_row5_col3\" class=\"data row5 col3\" >0.244552</td>\n",
       "                        <td id=\"T_dd76e_row5_col4\" class=\"data row5 col4\" >-0.006893</td>\n",
       "                        <td id=\"T_dd76e_row5_col5\" class=\"data row5 col5\" >1.000000</td>\n",
       "                        <td id=\"T_dd76e_row5_col6\" class=\"data row5 col6\" >0.169991</td>\n",
       "                        <td id=\"T_dd76e_row5_col7\" class=\"data row5 col7\" >0.138249</td>\n",
       "                        <td id=\"T_dd76e_row5_col8\" class=\"data row5 col8\" >0.111445</td>\n",
       "                        <td id=\"T_dd76e_row5_col9\" class=\"data row5 col9\" >0.973064</td>\n",
       "                        <td id=\"T_dd76e_row5_col10\" class=\"data row5 col10\" >0.170725</td>\n",
       "                        <td id=\"T_dd76e_row5_col11\" class=\"data row5 col11\" >0.096211</td>\n",
       "                        <td id=\"T_dd76e_row5_col12\" class=\"data row5 col12\" >0.159407</td>\n",
       "                        <td id=\"T_dd76e_row5_col13\" class=\"data row5 col13\" >-0.389984</td>\n",
       "            </tr>\n",
       "            <tr>\n",
       "                        <th id=\"T_dd76e_level0_row6\" class=\"row_heading level0 row6\" >group_visits</th>\n",
       "                        <td id=\"T_dd76e_row6_col0\" class=\"data row6 col0\" >0.017879</td>\n",
       "                        <td id=\"T_dd76e_row6_col1\" class=\"data row6 col1\" >0.154728</td>\n",
       "                        <td id=\"T_dd76e_row6_col2\" class=\"data row6 col2\" >0.022710</td>\n",
       "                        <td id=\"T_dd76e_row6_col3\" class=\"data row6 col3\" >0.120170</td>\n",
       "                        <td id=\"T_dd76e_row6_col4\" class=\"data row6 col4\" >-0.010099</td>\n",
       "                        <td id=\"T_dd76e_row6_col5\" class=\"data row6 col5\" >0.169991</td>\n",
       "                        <td id=\"T_dd76e_row6_col6\" class=\"data row6 col6\" >1.000000</td>\n",
       "                        <td id=\"T_dd76e_row6_col7\" class=\"data row6 col7\" >0.080934</td>\n",
       "                        <td id=\"T_dd76e_row6_col8\" class=\"data row6 col8\" >0.032079</td>\n",
       "                        <td id=\"T_dd76e_row6_col9\" class=\"data row6 col9\" >0.163703</td>\n",
       "                        <td id=\"T_dd76e_row6_col10\" class=\"data row6 col10\" >0.075853</td>\n",
       "                        <td id=\"T_dd76e_row6_col11\" class=\"data row6 col11\" >0.056695</td>\n",
       "                        <td id=\"T_dd76e_row6_col12\" class=\"data row6 col12\" >0.075923</td>\n",
       "                        <td id=\"T_dd76e_row6_col13\" class=\"data row6 col13\" >-0.175325</td>\n",
       "            </tr>\n",
       "            <tr>\n",
       "                        <th id=\"T_dd76e_level0_row7\" class=\"row_heading level0 row7\" >age</th>\n",
       "                        <td id=\"T_dd76e_row7_col0\" class=\"data row7 col0\" >0.013807</td>\n",
       "                        <td id=\"T_dd76e_row7_col1\" class=\"data row7 col1\" >0.058358</td>\n",
       "                        <td id=\"T_dd76e_row7_col2\" class=\"data row7 col2\" >0.047480</td>\n",
       "                        <td id=\"T_dd76e_row7_col3\" class=\"data row7 col3\" >0.050113</td>\n",
       "                        <td id=\"T_dd76e_row7_col4\" class=\"data row7 col4\" >-0.011403</td>\n",
       "                        <td id=\"T_dd76e_row7_col5\" class=\"data row7 col5\" >0.138249</td>\n",
       "                        <td id=\"T_dd76e_row7_col6\" class=\"data row7 col6\" >0.080934</td>\n",
       "                        <td id=\"T_dd76e_row7_col7\" class=\"data row7 col7\" >1.000000</td>\n",
       "                        <td id=\"T_dd76e_row7_col8\" class=\"data row7 col8\" >0.080240</td>\n",
       "                        <td id=\"T_dd76e_row7_col9\" class=\"data row7 col9\" >0.134511</td>\n",
       "                        <td id=\"T_dd76e_row7_col10\" class=\"data row7 col10\" >0.164693</td>\n",
       "                        <td id=\"T_dd76e_row7_col11\" class=\"data row7 col11\" >0.119953</td>\n",
       "                        <td id=\"T_dd76e_row7_col12\" class=\"data row7 col12\" >0.183095</td>\n",
       "                        <td id=\"T_dd76e_row7_col13\" class=\"data row7 col13\" >-0.404735</td>\n",
       "            </tr>\n",
       "            <tr>\n",
       "                        <th id=\"T_dd76e_level0_row8\" class=\"row_heading level0 row8\" >avg_additional_charges_total</th>\n",
       "                        <td id=\"T_dd76e_row8_col0\" class=\"data row8 col0\" >-0.009334</td>\n",
       "                        <td id=\"T_dd76e_row8_col1\" class=\"data row8 col1\" >0.040761</td>\n",
       "                        <td id=\"T_dd76e_row8_col2\" class=\"data row8 col2\" >0.022941</td>\n",
       "                        <td id=\"T_dd76e_row8_col3\" class=\"data row8 col3\" >0.036898</td>\n",
       "                        <td id=\"T_dd76e_row8_col4\" class=\"data row8 col4\" >0.009279</td>\n",
       "                        <td id=\"T_dd76e_row8_col5\" class=\"data row8 col5\" >0.111445</td>\n",
       "                        <td id=\"T_dd76e_row8_col6\" class=\"data row8 col6\" >0.032079</td>\n",
       "                        <td id=\"T_dd76e_row8_col7\" class=\"data row8 col7\" >0.080240</td>\n",
       "                        <td id=\"T_dd76e_row8_col8\" class=\"data row8 col8\" >1.000000</td>\n",
       "                        <td id=\"T_dd76e_row8_col9\" class=\"data row8 col9\" >0.113958</td>\n",
       "                        <td id=\"T_dd76e_row8_col10\" class=\"data row8 col10\" >0.079028</td>\n",
       "                        <td id=\"T_dd76e_row8_col11\" class=\"data row8 col11\" >0.044426</td>\n",
       "                        <td id=\"T_dd76e_row8_col12\" class=\"data row8 col12\" >0.079570</td>\n",
       "                        <td id=\"T_dd76e_row8_col13\" class=\"data row8 col13\" >-0.198697</td>\n",
       "            </tr>\n",
       "            <tr>\n",
       "                        <th id=\"T_dd76e_level0_row9\" class=\"row_heading level0 row9\" >month_to_end_contract</th>\n",
       "                        <td id=\"T_dd76e_row9_col0\" class=\"data row9 col0\" >-0.001281</td>\n",
       "                        <td id=\"T_dd76e_row9_col1\" class=\"data row9 col1\" >0.143961</td>\n",
       "                        <td id=\"T_dd76e_row9_col2\" class=\"data row9 col2\" >0.294632</td>\n",
       "                        <td id=\"T_dd76e_row9_col3\" class=\"data row9 col3\" >0.239553</td>\n",
       "                        <td id=\"T_dd76e_row9_col4\" class=\"data row9 col4\" >-0.011196</td>\n",
       "                        <td id=\"T_dd76e_row9_col5\" class=\"data row9 col5\" >0.973064</td>\n",
       "                        <td id=\"T_dd76e_row9_col6\" class=\"data row9 col6\" >0.163703</td>\n",
       "                        <td id=\"T_dd76e_row9_col7\" class=\"data row9 col7\" >0.134511</td>\n",
       "                        <td id=\"T_dd76e_row9_col8\" class=\"data row9 col8\" >0.113958</td>\n",
       "                        <td id=\"T_dd76e_row9_col9\" class=\"data row9 col9\" >1.000000</td>\n",
       "                        <td id=\"T_dd76e_row9_col10\" class=\"data row9 col10\" >0.161078</td>\n",
       "                        <td id=\"T_dd76e_row9_col11\" class=\"data row9 col11\" >0.085387</td>\n",
       "                        <td id=\"T_dd76e_row9_col12\" class=\"data row9 col12\" >0.147605</td>\n",
       "                        <td id=\"T_dd76e_row9_col13\" class=\"data row9 col13\" >-0.381393</td>\n",
       "            </tr>\n",
       "            <tr>\n",
       "                        <th id=\"T_dd76e_level0_row10\" class=\"row_heading level0 row10\" >lifetime</th>\n",
       "                        <td id=\"T_dd76e_row10_col0\" class=\"data row10 col0\" >0.013579</td>\n",
       "                        <td id=\"T_dd76e_row10_col1\" class=\"data row10 col1\" >0.070921</td>\n",
       "                        <td id=\"T_dd76e_row10_col2\" class=\"data row10 col2\" >0.061229</td>\n",
       "                        <td id=\"T_dd76e_row10_col3\" class=\"data row10 col3\" >0.072721</td>\n",
       "                        <td id=\"T_dd76e_row10_col4\" class=\"data row10 col4\" >-0.018801</td>\n",
       "                        <td id=\"T_dd76e_row10_col5\" class=\"data row10 col5\" >0.170725</td>\n",
       "                        <td id=\"T_dd76e_row10_col6\" class=\"data row10 col6\" >0.075853</td>\n",
       "                        <td id=\"T_dd76e_row10_col7\" class=\"data row10 col7\" >0.164693</td>\n",
       "                        <td id=\"T_dd76e_row10_col8\" class=\"data row10 col8\" >0.079028</td>\n",
       "                        <td id=\"T_dd76e_row10_col9\" class=\"data row10 col9\" >0.161078</td>\n",
       "                        <td id=\"T_dd76e_row10_col10\" class=\"data row10 col10\" >1.000000</td>\n",
       "                        <td id=\"T_dd76e_row10_col11\" class=\"data row10 col11\" >0.112338</td>\n",
       "                        <td id=\"T_dd76e_row10_col12\" class=\"data row10 col12\" >0.181975</td>\n",
       "                        <td id=\"T_dd76e_row10_col13\" class=\"data row10 col13\" >-0.438220</td>\n",
       "            </tr>\n",
       "            <tr>\n",
       "                        <th id=\"T_dd76e_level0_row11\" class=\"row_heading level0 row11\" >avg_class_frequency_total</th>\n",
       "                        <td id=\"T_dd76e_row11_col0\" class=\"data row11 col0\" >0.014620</td>\n",
       "                        <td id=\"T_dd76e_row11_col1\" class=\"data row11 col1\" >0.043127</td>\n",
       "                        <td id=\"T_dd76e_row11_col2\" class=\"data row11 col2\" >0.024938</td>\n",
       "                        <td id=\"T_dd76e_row11_col3\" class=\"data row11 col3\" >0.028063</td>\n",
       "                        <td id=\"T_dd76e_row11_col4\" class=\"data row11 col4\" >0.008340</td>\n",
       "                        <td id=\"T_dd76e_row11_col5\" class=\"data row11 col5\" >0.096211</td>\n",
       "                        <td id=\"T_dd76e_row11_col6\" class=\"data row11 col6\" >0.056695</td>\n",
       "                        <td id=\"T_dd76e_row11_col7\" class=\"data row11 col7\" >0.119953</td>\n",
       "                        <td id=\"T_dd76e_row11_col8\" class=\"data row11 col8\" >0.044426</td>\n",
       "                        <td id=\"T_dd76e_row11_col9\" class=\"data row11 col9\" >0.085387</td>\n",
       "                        <td id=\"T_dd76e_row11_col10\" class=\"data row11 col10\" >0.112338</td>\n",
       "                        <td id=\"T_dd76e_row11_col11\" class=\"data row11 col11\" >1.000000</td>\n",
       "                        <td id=\"T_dd76e_row11_col12\" class=\"data row11 col12\" >0.952739</td>\n",
       "                        <td id=\"T_dd76e_row11_col13\" class=\"data row11 col13\" >-0.249715</td>\n",
       "            </tr>\n",
       "            <tr>\n",
       "                        <th id=\"T_dd76e_level0_row12\" class=\"row_heading level0 row12\" >avg_class_frequency_current_month</th>\n",
       "                        <td id=\"T_dd76e_row12_col0\" class=\"data row12 col0\" >0.009156</td>\n",
       "                        <td id=\"T_dd76e_row12_col1\" class=\"data row12 col1\" >0.062664</td>\n",
       "                        <td id=\"T_dd76e_row12_col2\" class=\"data row12 col2\" >0.045561</td>\n",
       "                        <td id=\"T_dd76e_row12_col3\" class=\"data row12 col3\" >0.053768</td>\n",
       "                        <td id=\"T_dd76e_row12_col4\" class=\"data row12 col4\" >0.013375</td>\n",
       "                        <td id=\"T_dd76e_row12_col5\" class=\"data row12 col5\" >0.159407</td>\n",
       "                        <td id=\"T_dd76e_row12_col6\" class=\"data row12 col6\" >0.075923</td>\n",
       "                        <td id=\"T_dd76e_row12_col7\" class=\"data row12 col7\" >0.183095</td>\n",
       "                        <td id=\"T_dd76e_row12_col8\" class=\"data row12 col8\" >0.079570</td>\n",
       "                        <td id=\"T_dd76e_row12_col9\" class=\"data row12 col9\" >0.147605</td>\n",
       "                        <td id=\"T_dd76e_row12_col10\" class=\"data row12 col10\" >0.181975</td>\n",
       "                        <td id=\"T_dd76e_row12_col11\" class=\"data row12 col11\" >0.952739</td>\n",
       "                        <td id=\"T_dd76e_row12_col12\" class=\"data row12 col12\" >1.000000</td>\n",
       "                        <td id=\"T_dd76e_row12_col13\" class=\"data row12 col13\" >-0.412348</td>\n",
       "            </tr>\n",
       "            <tr>\n",
       "                        <th id=\"T_dd76e_level0_row13\" class=\"row_heading level0 row13\" >churn</th>\n",
       "                        <td id=\"T_dd76e_row13_col0\" class=\"data row13 col0\" >0.000708</td>\n",
       "                        <td id=\"T_dd76e_row13_col1\" class=\"data row13 col1\" >-0.128098</td>\n",
       "                        <td id=\"T_dd76e_row13_col2\" class=\"data row13 col2\" >-0.157986</td>\n",
       "                        <td id=\"T_dd76e_row13_col3\" class=\"data row13 col3\" >-0.162233</td>\n",
       "                        <td id=\"T_dd76e_row13_col4\" class=\"data row13 col4\" >-0.001177</td>\n",
       "                        <td id=\"T_dd76e_row13_col5\" class=\"data row13 col5\" >-0.389984</td>\n",
       "                        <td id=\"T_dd76e_row13_col6\" class=\"data row13 col6\" >-0.175325</td>\n",
       "                        <td id=\"T_dd76e_row13_col7\" class=\"data row13 col7\" >-0.404735</td>\n",
       "                        <td id=\"T_dd76e_row13_col8\" class=\"data row13 col8\" >-0.198697</td>\n",
       "                        <td id=\"T_dd76e_row13_col9\" class=\"data row13 col9\" >-0.381393</td>\n",
       "                        <td id=\"T_dd76e_row13_col10\" class=\"data row13 col10\" >-0.438220</td>\n",
       "                        <td id=\"T_dd76e_row13_col11\" class=\"data row13 col11\" >-0.249715</td>\n",
       "                        <td id=\"T_dd76e_row13_col12\" class=\"data row13 col12\" >-0.412348</td>\n",
       "                        <td id=\"T_dd76e_row13_col13\" class=\"data row13 col13\" >1.000000</td>\n",
       "            </tr>\n",
       "    </tbody></table>"
      ],
      "text/plain": [
       "<pandas.io.formats.style.Styler at 0x7f03b5f42490>"
      ]
     },
     "execution_count": 27,
     "metadata": {},
     "output_type": "execute_result"
    }
   ],
   "source": [
    "gym.corr().style.background_gradient()"
   ]
  },
  {
   "cell_type": "code",
   "execution_count": 28,
   "metadata": {},
   "outputs": [],
   "source": [
    "gym = gym.drop(columns=['contract_period', 'avg_class_frequency_current_month']) # #исключим мультиколлинеарность, чтобы не мешало в обучении модели "
   ]
  },
  {
   "cell_type": "markdown",
   "metadata": {},
   "source": [
    "Клиенты пришедшие по промо коду от друзей и сотрудники компании-партнёра клуба занимаются в зале дольше других"
   ]
  },
  {
   "cell_type": "markdown",
   "metadata": {},
   "source": [
    "# Шаг 3. Постройте модель прогнозирования оттока клиентов"
   ]
  },
  {
   "cell_type": "markdown",
   "metadata": {},
   "source": [
    "# Разбейте данные на обучающую и валидационную выборку функцией train_test_split()."
   ]
  },
  {
   "cell_type": "code",
   "execution_count": 29,
   "metadata": {},
   "outputs": [],
   "source": [
    "# разделим наши данные на признаки (матрица X) и целевую переменную (y)\n",
    "X = gym.drop(columns=['churn'])\n",
    "y = gym['churn']\n",
    "# разделяем модель на обучающую и валидационную выборку\n",
    "X_train, X_test, y_train, y_test = train_test_split(X, y, test_size=0.2, random_state=0)"
   ]
  },
  {
   "cell_type": "markdown",
   "metadata": {},
   "source": [
    "# Обучите модель на train-выборке двумя способами:логистической регрессией и случайным лесом."
   ]
  },
  {
   "cell_type": "code",
   "execution_count": 30,
   "metadata": {},
   "outputs": [],
   "source": [
    "# зададим список моделей\n",
    "models = [\n",
    "    LogisticRegression(random_state=0),\n",
    "    RandomForestClassifier(random_state=0)\n",
    "]\n",
    "\n",
    "# построим функцию, которая принимает на вход модель и данные и выводит метрики\n",
    "def predict_model(m, X_train, y_train, X_test, y_test):\n",
    "    model = m\n",
    "    model.fit(X_train, y_train)\n",
    "    y_pred = model.predict(X_test)\n",
    "    print(\n",
    "        'Accuracy:{:.2f} Precision:{:.2f} Recall:{:.2f}'.format(\n",
    "            accuracy_score(y_test, y_pred),\n",
    "            precision_score(y_test, y_pred),\n",
    "            recall_score(y_test, y_pred),\n",
    "        )\n",
    "    )"
   ]
  },
  {
   "cell_type": "markdown",
   "metadata": {},
   "source": [
    "## Оцените метрики accuracy, precision и recall для обеих моделей на валидационной выборке. Сравните по ним модели. Какая модель показала себя лучше на основании метрик?"
   ]
  },
  {
   "cell_type": "code",
   "execution_count": 31,
   "metadata": {},
   "outputs": [
    {
     "name": "stdout",
     "output_type": "stream",
     "text": [
      "LogisticRegression(random_state=0)\n",
      "Accuracy:0.88 Precision:0.75 Recall:0.74\n",
      "RandomForestClassifier(random_state=0)\n",
      "Accuracy:0.90 Precision:0.80 Recall:0.77\n"
     ]
    }
   ],
   "source": [
    "for i in models:\n",
    "    print(i)\n",
    "    predict_model(\n",
    "        m=i,\n",
    "        X_train=X_train,\n",
    "        y_train=y_train,\n",
    "        X_test=X_test,\n",
    "        y_test=y_test\n",
    "    )"
   ]
  },
  {
   "cell_type": "markdown",
   "metadata": {},
   "source": [
    "Обе модели имеют хороший показатель правильных ответов, 88% на логистической регрессии и 90% случайным лесом. Над точностью и полнотой еще следует поработать."
   ]
  },
  {
   "cell_type": "markdown",
   "metadata": {},
   "source": [
    "# Шаг 4. Сделайте кластеризацию клиентов"
   ]
  },
  {
   "cell_type": "markdown",
   "metadata": {},
   "source": [
    "# Стандартизируйте данные."
   ]
  },
  {
   "cell_type": "code",
   "execution_count": 32,
   "metadata": {},
   "outputs": [],
   "source": [
    "# стандартизируем данные\n",
    "sc = StandardScaler()\n",
    "X_sc = sc.fit_transform(X)\n",
    "\n",
    "linked = linkage(X_sc, method = 'ward') "
   ]
  },
  {
   "cell_type": "markdown",
   "metadata": {},
   "source": [
    "# Постройте матрицу расстояний функцией linkage() на стандартизованной матрице признаков и нарисуйте дендрограмму. Внимание: отрисовка дендрограммы может занять время! На основании полученного графика предположите, какое количество кластеров можно выделить."
   ]
  },
  {
   "cell_type": "code",
   "execution_count": 33,
   "metadata": {},
   "outputs": [
    {
     "data": {
      "image/png": "[encoded data removed]",
      "text/plain": [
       "<Figure size 1080x720 with 1 Axes>"
      ]
     },
     "metadata": {
      "needs_background": "light"
     },
     "output_type": "display_data"
    }
   ],
   "source": [
    "plt.figure(figsize=(15, 10))  \n",
    "dendrogram(linked, orientation='top')\n",
    "plt.show() "
   ]
  },
  {
   "cell_type": "markdown",
   "metadata": {},
   "source": [
    "Можно выделить 4 кластера. поскольку 4-ый кластер очень объемный, будем считать выборку по 5-ю кластерам"
   ]
  },
  {
   "cell_type": "markdown",
   "metadata": {},
   "source": [
    "# Обучите модель кластеризации на основании алгоритма K-Means и спрогнозируйте кластеры клиентов. Договоримся за число кластеров принять n=5, чтобы ваши результаты можно было сравнивать с результатами остальных студентов. Однако, конечно, в жизни никто не скажет вам правильный ответ, и решение остаётся за вами (на основании изучения графика из предыдущего пункта)."
   ]
  },
  {
   "cell_type": "code",
   "execution_count": 34,
   "metadata": {},
   "outputs": [],
   "source": [
    "km = KMeans(n_clusters = 5, random_state=0) # задаём число кластеров, равное 5\n",
    "labels = km.fit_predict(X_sc) # применяем алгоритм к данным и формируем вектор кластеров "
   ]
  },
  {
   "cell_type": "markdown",
   "metadata": {},
   "source": [
    "# Посмотрите на средние значения признаков для кластеров. Можно ли сразу что-то заметить?"
   ]
  },
  {
   "cell_type": "code",
   "execution_count": 35,
   "metadata": {
    "scrolled": true
   },
   "outputs": [
    {
     "data": {
      "text/html": [
       "<div>\n",
       "<style scoped>\n",
       "    .dataframe tbody tr th:only-of-type {\n",
       "        vertical-align: middle;\n",
       "    }\n",
       "\n",
       "    .dataframe tbody tr th {\n",
       "        vertical-align: top;\n",
       "    }\n",
       "\n",
       "    .dataframe thead th {\n",
       "        text-align: right;\n",
       "    }\n",
       "</style>\n",
       "<table border=\"1\" class=\"dataframe\">\n",
       "  <thead>\n",
       "    <tr style=\"text-align: right;\">\n",
       "      <th></th>\n",
       "      <th>gender</th>\n",
       "      <th>near_location</th>\n",
       "      <th>partner</th>\n",
       "      <th>promo_friends</th>\n",
       "      <th>phone</th>\n",
       "      <th>group_visits</th>\n",
       "      <th>age</th>\n",
       "      <th>avg_additional_charges_total</th>\n",
       "      <th>month_to_end_contract</th>\n",
       "      <th>lifetime</th>\n",
       "      <th>avg_class_frequency_total</th>\n",
       "      <th>churn</th>\n",
       "    </tr>\n",
       "    <tr>\n",
       "      <th>cluster_km</th>\n",
       "      <th></th>\n",
       "      <th></th>\n",
       "      <th></th>\n",
       "      <th></th>\n",
       "      <th></th>\n",
       "      <th></th>\n",
       "      <th></th>\n",
       "      <th></th>\n",
       "      <th></th>\n",
       "      <th></th>\n",
       "      <th></th>\n",
       "      <th></th>\n",
       "    </tr>\n",
       "  </thead>\n",
       "  <tbody>\n",
       "    <tr>\n",
       "      <th>0</th>\n",
       "      <td>0.498501</td>\n",
       "      <td>0.995005</td>\n",
       "      <td>0.889111</td>\n",
       "      <td>1.000000</td>\n",
       "      <td>1.0</td>\n",
       "      <td>0.519481</td>\n",
       "      <td>29.543457</td>\n",
       "      <td>152.139417</td>\n",
       "      <td>6.265734</td>\n",
       "      <td>4.210789</td>\n",
       "      <td>1.951909</td>\n",
       "      <td>0.132867</td>\n",
       "    </tr>\n",
       "    <tr>\n",
       "      <th>1</th>\n",
       "      <td>0.500898</td>\n",
       "      <td>0.000000</td>\n",
       "      <td>0.488330</td>\n",
       "      <td>0.077199</td>\n",
       "      <td>1.0</td>\n",
       "      <td>0.231598</td>\n",
       "      <td>28.685817</td>\n",
       "      <td>137.277472</td>\n",
       "      <td>2.804309</td>\n",
       "      <td>2.978456</td>\n",
       "      <td>1.762672</td>\n",
       "      <td>0.402154</td>\n",
       "    </tr>\n",
       "    <tr>\n",
       "      <th>2</th>\n",
       "      <td>0.521158</td>\n",
       "      <td>0.995546</td>\n",
       "      <td>0.417595</td>\n",
       "      <td>0.011136</td>\n",
       "      <td>1.0</td>\n",
       "      <td>0.546771</td>\n",
       "      <td>30.805122</td>\n",
       "      <td>177.103564</td>\n",
       "      <td>6.162584</td>\n",
       "      <td>5.701559</td>\n",
       "      <td>2.318701</td>\n",
       "      <td>0.016704</td>\n",
       "    </tr>\n",
       "    <tr>\n",
       "      <th>3</th>\n",
       "      <td>0.512090</td>\n",
       "      <td>1.000000</td>\n",
       "      <td>0.196891</td>\n",
       "      <td>0.053541</td>\n",
       "      <td>1.0</td>\n",
       "      <td>0.297064</td>\n",
       "      <td>27.818653</td>\n",
       "      <td>124.625600</td>\n",
       "      <td>1.898964</td>\n",
       "      <td>2.058722</td>\n",
       "      <td>1.539284</td>\n",
       "      <td>0.506045</td>\n",
       "    </tr>\n",
       "    <tr>\n",
       "      <th>4</th>\n",
       "      <td>0.523316</td>\n",
       "      <td>0.862694</td>\n",
       "      <td>0.471503</td>\n",
       "      <td>0.305699</td>\n",
       "      <td>0.0</td>\n",
       "      <td>0.427461</td>\n",
       "      <td>29.297927</td>\n",
       "      <td>144.208179</td>\n",
       "      <td>4.466321</td>\n",
       "      <td>3.940415</td>\n",
       "      <td>1.854211</td>\n",
       "      <td>0.266839</td>\n",
       "    </tr>\n",
       "  </tbody>\n",
       "</table>\n",
       "</div>"
      ],
      "text/plain": [
       "              gender  near_location   partner  promo_friends  phone  \\\n",
       "cluster_km                                                            \n",
       "0           0.498501       0.995005  0.889111       1.000000    1.0   \n",
       "1           0.500898       0.000000  0.488330       0.077199    1.0   \n",
       "2           0.521158       0.995546  0.417595       0.011136    1.0   \n",
       "3           0.512090       1.000000  0.196891       0.053541    1.0   \n",
       "4           0.523316       0.862694  0.471503       0.305699    0.0   \n",
       "\n",
       "            group_visits        age  avg_additional_charges_total  \\\n",
       "cluster_km                                                          \n",
       "0               0.519481  29.543457                    152.139417   \n",
       "1               0.231598  28.685817                    137.277472   \n",
       "2               0.546771  30.805122                    177.103564   \n",
       "3               0.297064  27.818653                    124.625600   \n",
       "4               0.427461  29.297927                    144.208179   \n",
       "\n",
       "            month_to_end_contract  lifetime  avg_class_frequency_total  \\\n",
       "cluster_km                                                               \n",
       "0                        6.265734  4.210789                   1.951909   \n",
       "1                        2.804309  2.978456                   1.762672   \n",
       "2                        6.162584  5.701559                   2.318701   \n",
       "3                        1.898964  2.058722                   1.539284   \n",
       "4                        4.466321  3.940415                   1.854211   \n",
       "\n",
       "               churn  \n",
       "cluster_km            \n",
       "0           0.132867  \n",
       "1           0.402154  \n",
       "2           0.016704  \n",
       "3           0.506045  \n",
       "4           0.266839  "
      ]
     },
     "execution_count": 35,
     "metadata": {},
     "output_type": "execute_result"
    }
   ],
   "source": [
    "# сохраняем метки кластеров\n",
    "gym['cluster_km'] = labels\n",
    "\n",
    "# выводим статистику по средним значениям наших признаков по кластеру\n",
    "gym.groupby('cluster_km').agg('mean')"
   ]
  },
  {
   "cell_type": "markdown",
   "metadata": {},
   "source": [
    "1. Клиенты в нулевом кластере - живут или работают рядом с клубом, а также  пришли по акции друзей. Большинство - это сотрудники компании-партнёра клуба. Ходят в клуб около 4-х месяцев, на дополнительные услуги тратят - 152 у.е., до конца абонемента осталось около 6 месяцев. Частота посещения около 2-х раз в неделю.\n",
    "2. Клиенты в первом кластере - пришли не по акции друзей, живут или работают далеко от клуба и почти не ходят на групповые занятия. Отток таких клиентов примерно 40%\n",
    "3. Клиенты во втором кластере -  живут или работают близко к клубу, пришли не по акции друзей. Средний возраст - 31 год, на дополнительные услуги тратят около - 177 у.е.,  до конца абонемента осталось около 6-ти месяцев. Посещают зал примерно 2 раза в неделю . Отток примерно 1%.\n",
    "4. Клиенты в третьем кластере -  живутили работают около клуба. Большинство - это не сотрудники компании-партнёра клуба и пришли не по акции друзей. Редко посещают групповые занятия,  тратят на доп. услуги в клубе примерно - 124 у.е., до конца абонемента осталось около 2-х месяцев, начали заниматься недавно. Отток примерно 50%.\n",
    "5. Клиенты в 4-м кластере - не дали номер телефона. Живут или работаютблизко к клубу, половина из клиентов - сотрудники компании-партнёра клуба. До конца абонемента примерно 4 месяца, отток примерно 26%."
   ]
  },
  {
   "cell_type": "markdown",
   "metadata": {},
   "source": [
    "# Постройте распределения признаков для кластеров. Можно ли что-то заметить по ним?"
   ]
  },
  {
   "cell_type": "code",
   "execution_count": 39,
   "metadata": {
    "scrolled": true
   },
   "outputs": [
    {
     "data": {
      "image/png": "[encoded data removed]",
      "text/plain": [
       "<Figure size 1080x432 with 1 Axes>"
      ]
     },
     "metadata": {
      "needs_background": "light"
     },
     "output_type": "display_data"
    },
    {
     "data": {
      "image/png": "[encoded data removed]",
      "text/plain": [
       "<Figure size 1080x432 with 1 Axes>"
      ]
     },
     "metadata": {
      "needs_background": "light"
     },
     "output_type": "display_data"
    },
    {
     "data": {
      "image/png": "[encoded data removed]",
      "text/plain": [
       "<Figure size 1080x432 with 1 Axes>"
      ]
     },
     "metadata": {
      "needs_background": "light"
     },
     "output_type": "display_data"
    },
    {
     "data": {
      "image/png": "[encoded data removed]",
      "text/plain": [
       "<Figure size 1080x432 with 1 Axes>"
      ]
     },
     "metadata": {
      "needs_background": "light"
     },
     "output_type": "display_data"
    },
    {
     "data": {
      "image/png": "[encoded data removed]",
      "text/plain": [
       "<Figure size 1080x432 with 1 Axes>"
      ]
     },
     "metadata": {
      "needs_background": "light"
     },
     "output_type": "display_data"
    },
    {
     "data": {
      "image/png": "[encoded data removed]",
      "text/plain": [
       "<Figure size 1080x432 with 1 Axes>"
      ]
     },
     "metadata": {
      "needs_background": "light"
     },
     "output_type": "display_data"
    },
    {
     "data": {
      "image/png": "[encoded data removed]",
      "text/plain": [
       "<Figure size 1080x432 with 1 Axes>"
      ]
     },
     "metadata": {
      "needs_background": "light"
     },
     "output_type": "display_data"
    },
    {
     "data": {
      "image/png": "[encoded data removed]",
      "text/plain": [
       "<Figure size 1080x432 with 1 Axes>"
      ]
     },
     "metadata": {
      "needs_background": "light"
     },
     "output_type": "display_data"
    },
    {
     "data": {
      "image/png": "[encoded data removed]",
      "text/plain": [
       "<Figure size 1080x432 with 1 Axes>"
      ]
     },
     "metadata": {
      "needs_background": "light"
     },
     "output_type": "display_data"
    },
    {
     "data": {
      "image/png": "[encoded data removed]",
      "text/plain": [
       "<Figure size 1080x432 with 1 Axes>"
      ]
     },
     "metadata": {
      "needs_background": "light"
     },
     "output_type": "display_data"
    },
    {
     "data": {
      "image/png": "[encoded data removed]",
      "text/plain": [
       "<Figure size 1080x432 with 1 Axes>"
      ]
     },
     "metadata": {
      "needs_background": "light"
     },
     "output_type": "display_data"
    },
    {
     "data": {
      "image/png": "[encoded data removed]",
      "text/plain": [
       "<Figure size 1080x432 with 1 Axes>"
      ]
     },
     "metadata": {
      "needs_background": "light"
     },
     "output_type": "display_data"
    },
    {
     "data": {
      "image/png": "[encoded data removed]",
      "text/plain": [
       "<Figure size 1080x432 with 1 Axes>"
      ]
     },
     "metadata": {
      "needs_background": "light"
     },
     "output_type": "display_data"
    }
   ],
   "source": [
    "for f in gym:\n",
    "    g = sns.displot(gym, x=gym[f], hue='cluster_km', palette=\"tab10\", kind='hist' ) \n",
    "    plt.title(f'Признак - {f}')\n",
    "    plt.ylabel(\"Кол-во клиентов\")\n",
    "    plt.xlabel(\"\")\n",
    "    g.fig.set_figwidth(15)\n",
    "    g.fig.set_figheight(6)\n",
    "    g.fig.patch.set_linewidth(5)"
   ]
  },
  {
   "cell_type": "markdown",
   "metadata": {},
   "source": [
    "- 'gender' - нет ничего особенного\n",
    "- 'near_location' - В кластерах 0, 2, 3, 4 клиенты проживают или работают в районе, где находится фитнес-ценр. Кластер 1 содержит клиентов, которые живут в других районах, то есть, дальше от центра.\n",
    "- 'partner'- В кластере 0 большая часть клиентов  - сотрудники компании-партнёра клуба. В кластерах 1, 2 и 4 почти половина клиентов - это сотрудники компании-партнёра клуба. В кластере 3 сосредоточились клиенты, в большинстве своём не являющиеся сотрудниками партнеров клуба.\n",
    "- 'promo_friends' - В кластерах 1, 2 и 3 содержится информация о клиентах, которые в большинстве своем пришли в клуб не по акции. В кластере 0 находятся клиенты, пришедшие по акции «приведи друга».\n",
    "- 'phone' - В кластере 4 клиенты не оставившие номер телефона\n",
    "- 'group_visits' - Большинство клиентов из кластеров 1,3,4 не ходили на групповые занятия. Из кластеров 0 и 2 половина ходила, а половина нет\n",
    "- 'age' - Распределение возраста по кластером достаточно равномерное, в районе 28-30 лет\n",
    "- 'avg_additional_charges_total' - Меньше всего трат в кластере 3, чуть больше остальных у кластеров 0 и 2\n",
    "- 'month_to_end_contract' - До окончания абонемента меньше всего времени у кластера 3 (около 2 месяцев), больше всего у кластеров 0 и 2 - приблизительно 6 месяцев\n",
    "- 'lifetime' - Время с момента первого посещения у кластера 3 около 2 месяцев, у кластеров 0 и 2 около 5 месяцев\n",
    "- 'avg_class_frequency_total' - Самая низкая средняя частота посещений у кластера 2 - около 2 раз в неделю \n",
    "- 'churn' - В 0 и 2 кластерах отток клиентов меньше, чем в 1 и 3"
   ]
  },
  {
   "cell_type": "markdown",
   "metadata": {},
   "source": [
    "# Для каждого полученного кластера посчитайте долю оттока (методом groupby()). Отличаются ли они по доле оттока? Какие кластеры склонны к оттоку, а какие — надёжны?"
   ]
  },
  {
   "cell_type": "code",
   "execution_count": 37,
   "metadata": {},
   "outputs": [
    {
     "data": {
      "text/plain": [
       "cluster_km\n",
       "0    0.132867\n",
       "1    0.402154\n",
       "2    0.016704\n",
       "3    0.506045\n",
       "4    0.266839\n",
       "Name: churn, dtype: float64"
      ]
     },
     "metadata": {},
     "output_type": "display_data"
    }
   ],
   "source": [
    "#посчитаем долю оттока\n",
    "churn_share = gym.groupby('cluster_km')['churn'].agg('sum') / gym.groupby('cluster_km')['churn'].size()\n",
    "display(churn_share)"
   ]
  },
  {
   "cell_type": "markdown",
   "metadata": {},
   "source": [
    "Более склонны к оттоку кластеры 1 и 3 (ушло 40-50% клиентов), наиболее надежны кластеры 0 и 2 ( ушло 1-13% клиентов)"
   ]
  },
  {
   "cell_type": "markdown",
   "metadata": {},
   "source": [
    "# Шаг 5. Выводы и базовые рекомендации по работе с клиентами"
   ]
  },
  {
   "cell_type": "markdown",
   "metadata": {},
   "source": [
    "После анализа данных сети фитнес-центров «Культурист-датасаентист», можно сделать следующие выводы:\n",
    "\n",
    "Сформированы 3 основные группы клиентов:\n",
    "\n",
    "- 1 группа - клиенты жувут или работают рядом с клубом, имеют малый отток, порядка 13%, большинство пришли по акции приведи друга или от компании-партнера, половина клиентов посещает групповые занятия , тратят примерно 150 у.е. на дополнительные услуги, занимаются уже около 4-х месяцев.\n",
    "- Также клиенты живущие близко к клубу, пришедшие не по акции приведи друга, со средней активностью посещают групповые занятия, до конца абонемента осталось около 6 месяцев. Средняя частота посещения примерно 2 раза в неделю.\n",
    "\n",
    "- 2 группа - Клиенты живущие или работающие в другом районе, имеют отток примерно 40%, пришли не по акции приведи друга, почти не посещают групповые занятия и состоят в клубе примерно 3 месяца.\n",
    "\n",
    "- 3 группа - Большинство клиентов пришло не по акции приведи друга, имеют отток примерно 50%, мало посещают групповые занятия, тратят на доп. услуги примерно 120 у.е., до конца абонемента осталось около 2 месяцев, при этом начали заниматься недавно.\n",
    "\n",
    "Выводы на основании этих групп:\n",
    "\n",
    "- У клиентов пришедших не по акции приведи друга, больше вероятность раньше забросить фитнес-центр, таких клиентов следует заинтересовать групповыми занятиями, т.к. коллективные занятия помогут стимулировать желание продолжать заниматься\n",
    "- Если клиент стал реже ходить на групповые занятия увеличивается вероятность, что клиент уйдет\n",
    "- Нужно больше внимания уделять новым клиентам, т.к. среди них отток наиболее вероятен\n",
    "- Также клиенты живущие далеко от фитнес-центра имеют большую вероятность забросить посещение клуба.\n",
    "\n",
    "Рекомендации по удержанию клиента:\n",
    "- Предлагать более выгодные цены на абонементы на 12 месяцев\n",
    "- Предлагать различные партнерсик программы и промо-акции\n",
    "- Создать более приятную атмосферу, чтобы клиенты ходили в клуб чаще 2-3 раз в неделю\n",
    "- Активнее завлекать клиентов участвовать в групповых занятиях"
   ]
  }
 ],
 "metadata": {
  "ExecuteTimeLog": [
   {
    "duration": 1548,
    "start_time": "2022-07-02T13:47:33.694Z"
   },
   {
    "duration": 58,
    "start_time": "2022-07-02T13:47:54.407Z"
   },
   {
    "duration": 15,
    "start_time": "2022-07-02T13:48:24.487Z"
   },
   {
    "duration": 110,
    "start_time": "2022-07-02T13:48:50.194Z"
   },
   {
    "duration": 3,
    "start_time": "2022-07-02T13:51:05.301Z"
   },
   {
    "duration": 12,
    "start_time": "2022-07-02T13:51:10.404Z"
   },
   {
    "duration": 11,
    "start_time": "2022-07-02T13:52:22.514Z"
   },
   {
    "duration": 3,
    "start_time": "2022-07-02T13:52:37.948Z"
   },
   {
    "duration": 15,
    "start_time": "2022-07-02T13:53:52.869Z"
   },
   {
    "duration": 8,
    "start_time": "2022-07-02T13:54:00.598Z"
   },
   {
    "duration": 8,
    "start_time": "2022-07-02T13:54:40.733Z"
   },
   {
    "duration": 9,
    "start_time": "2022-07-02T13:54:49.544Z"
   },
   {
    "duration": 9,
    "start_time": "2022-07-02T13:55:41.002Z"
   },
   {
    "duration": 7,
    "start_time": "2022-07-02T13:55:55.902Z"
   },
   {
    "duration": 8,
    "start_time": "2022-07-02T13:56:07.625Z"
   },
   {
    "duration": 9,
    "start_time": "2022-07-02T13:56:50.435Z"
   },
   {
    "duration": 8,
    "start_time": "2022-07-02T13:57:45.311Z"
   },
   {
    "duration": 7,
    "start_time": "2022-07-02T13:57:54.519Z"
   },
   {
    "duration": 9,
    "start_time": "2022-07-02T13:58:12.877Z"
   },
   {
    "duration": 8,
    "start_time": "2022-07-02T13:58:36.902Z"
   },
   {
    "duration": 8,
    "start_time": "2022-07-02T13:59:59.467Z"
   },
   {
    "duration": 8,
    "start_time": "2022-07-02T14:00:12.189Z"
   },
   {
    "duration": 9,
    "start_time": "2022-07-02T14:00:28.557Z"
   },
   {
    "duration": 9,
    "start_time": "2022-07-02T14:01:52.626Z"
   },
   {
    "duration": 8,
    "start_time": "2022-07-02T14:01:59.378Z"
   },
   {
    "duration": 8,
    "start_time": "2022-07-02T14:02:18.631Z"
   },
   {
    "duration": 22,
    "start_time": "2022-07-02T14:02:27.893Z"
   },
   {
    "duration": 8,
    "start_time": "2022-07-02T14:04:49.245Z"
   },
   {
    "duration": 9,
    "start_time": "2022-07-02T14:04:57.792Z"
   },
   {
    "duration": 9,
    "start_time": "2022-07-02T14:08:19.897Z"
   },
   {
    "duration": 9,
    "start_time": "2022-07-02T14:08:34.997Z"
   },
   {
    "duration": 8,
    "start_time": "2022-07-02T14:11:39.488Z"
   },
   {
    "duration": 8,
    "start_time": "2022-07-02T14:13:45.650Z"
   },
   {
    "duration": 8,
    "start_time": "2022-07-02T14:22:36.886Z"
   },
   {
    "duration": 7,
    "start_time": "2022-07-02T14:23:39.287Z"
   },
   {
    "duration": 26,
    "start_time": "2022-07-02T14:25:03.721Z"
   },
   {
    "duration": 27,
    "start_time": "2022-07-02T14:25:29.989Z"
   },
   {
    "duration": 11,
    "start_time": "2022-07-02T14:26:10.727Z"
   },
   {
    "duration": 28,
    "start_time": "2022-07-02T14:26:21.852Z"
   },
   {
    "duration": 6,
    "start_time": "2022-07-02T14:27:08.024Z"
   },
   {
    "duration": 15,
    "start_time": "2022-07-02T14:29:46.937Z"
   },
   {
    "duration": 20,
    "start_time": "2022-07-02T14:34:23.964Z"
   },
   {
    "duration": 19,
    "start_time": "2022-07-02T14:43:01.832Z"
   },
   {
    "duration": 27,
    "start_time": "2022-07-02T14:43:09.415Z"
   },
   {
    "duration": 4,
    "start_time": "2022-07-02T14:46:44.491Z"
   },
   {
    "duration": 9,
    "start_time": "2022-07-02T14:46:53.802Z"
   },
   {
    "duration": 5,
    "start_time": "2022-07-02T14:47:31.124Z"
   },
   {
    "duration": 17,
    "start_time": "2022-07-02T14:47:32.663Z"
   },
   {
    "duration": 5,
    "start_time": "2022-07-02T14:47:56.252Z"
   },
   {
    "duration": 5,
    "start_time": "2022-07-02T14:47:56.869Z"
   },
   {
    "duration": 18,
    "start_time": "2022-07-02T14:47:57.260Z"
   },
   {
    "duration": 4,
    "start_time": "2022-07-02T14:48:12.832Z"
   },
   {
    "duration": 5,
    "start_time": "2022-07-02T14:48:13.284Z"
   },
   {
    "duration": 3705,
    "start_time": "2022-07-02T14:48:13.596Z"
   },
   {
    "duration": 5,
    "start_time": "2022-07-02T14:48:47.620Z"
   },
   {
    "duration": 3808,
    "start_time": "2022-07-02T14:48:51.366Z"
   },
   {
    "duration": 6,
    "start_time": "2022-07-02T14:53:02.828Z"
   },
   {
    "duration": 6,
    "start_time": "2022-07-02T14:53:03.398Z"
   },
   {
    "duration": 3760,
    "start_time": "2022-07-02T14:53:03.794Z"
   },
   {
    "duration": 74,
    "start_time": "2022-07-02T14:53:53.264Z"
   },
   {
    "duration": 4,
    "start_time": "2022-07-02T14:54:25.786Z"
   },
   {
    "duration": 21,
    "start_time": "2022-07-02T14:57:12.810Z"
   },
   {
    "duration": 15,
    "start_time": "2022-07-02T14:57:21.187Z"
   },
   {
    "duration": 15,
    "start_time": "2022-07-02T14:57:25.354Z"
   },
   {
    "duration": 1534,
    "start_time": "2022-07-02T14:57:33.489Z"
   },
   {
    "duration": 36,
    "start_time": "2022-07-02T14:57:35.026Z"
   },
   {
    "duration": 14,
    "start_time": "2022-07-02T14:57:35.064Z"
   },
   {
    "duration": 6,
    "start_time": "2022-07-02T14:57:35.080Z"
   },
   {
    "duration": 15,
    "start_time": "2022-07-02T14:57:35.088Z"
   },
   {
    "duration": 26,
    "start_time": "2022-07-02T14:57:35.105Z"
   },
   {
    "duration": 13,
    "start_time": "2022-07-02T14:57:35.132Z"
   },
   {
    "duration": 10,
    "start_time": "2022-07-02T14:57:35.148Z"
   },
   {
    "duration": 8,
    "start_time": "2022-07-02T14:57:35.160Z"
   },
   {
    "duration": 11,
    "start_time": "2022-07-02T14:57:35.171Z"
   },
   {
    "duration": 58,
    "start_time": "2022-07-02T14:57:35.185Z"
   },
   {
    "duration": 20,
    "start_time": "2022-07-02T14:57:35.246Z"
   },
   {
    "duration": 18,
    "start_time": "2022-07-02T14:57:35.269Z"
   },
   {
    "duration": 15,
    "start_time": "2022-07-02T14:57:35.289Z"
   },
   {
    "duration": 10,
    "start_time": "2022-07-02T14:57:35.307Z"
   },
   {
    "duration": 11,
    "start_time": "2022-07-02T14:57:35.319Z"
   },
   {
    "duration": 18,
    "start_time": "2022-07-02T14:57:35.332Z"
   },
   {
    "duration": 21,
    "start_time": "2022-07-02T14:57:35.352Z"
   },
   {
    "duration": 21,
    "start_time": "2022-07-02T14:57:35.376Z"
   },
   {
    "duration": 33,
    "start_time": "2022-07-02T14:57:35.399Z"
   },
   {
    "duration": 12,
    "start_time": "2022-07-02T14:57:35.433Z"
   },
   {
    "duration": 8,
    "start_time": "2022-07-02T14:57:35.447Z"
   },
   {
    "duration": 30,
    "start_time": "2022-07-02T14:57:35.457Z"
   },
   {
    "duration": 4,
    "start_time": "2022-07-02T14:57:35.489Z"
   },
   {
    "duration": 35,
    "start_time": "2022-07-02T14:57:35.495Z"
   },
   {
    "duration": 3636,
    "start_time": "2022-07-02T14:57:35.532Z"
   },
   {
    "duration": 92,
    "start_time": "2022-07-02T14:57:39.170Z"
   },
   {
    "duration": 4,
    "start_time": "2022-07-02T14:57:39.266Z"
   },
   {
    "duration": 8,
    "start_time": "2022-07-02T15:03:10.079Z"
   },
   {
    "duration": 9,
    "start_time": "2022-07-02T15:03:23.387Z"
   },
   {
    "duration": 7,
    "start_time": "2022-07-02T15:04:32.697Z"
   },
   {
    "duration": 5,
    "start_time": "2022-07-02T15:04:41.562Z"
   },
   {
    "duration": 5,
    "start_time": "2022-07-02T15:05:50.910Z"
   },
   {
    "duration": 6,
    "start_time": "2022-07-02T15:06:33.167Z"
   },
   {
    "duration": 1565,
    "start_time": "2022-07-02T15:07:14.693Z"
   },
   {
    "duration": 663,
    "start_time": "2022-07-02T15:26:05.036Z"
   },
   {
    "duration": 130763,
    "start_time": "2022-07-02T15:28:36.228Z"
   },
   {
    "duration": 1404,
    "start_time": "2022-07-02T15:32:47.125Z"
   },
   {
    "duration": 20,
    "start_time": "2022-07-02T15:33:23.819Z"
   },
   {
    "duration": 46,
    "start_time": "2022-07-02T15:46:24.351Z"
   },
   {
    "duration": 21,
    "start_time": "2022-07-02T15:46:27.507Z"
   },
   {
    "duration": 174,
    "start_time": "2022-07-02T15:46:39.438Z"
   },
   {
    "duration": 18,
    "start_time": "2022-07-02T15:48:13.191Z"
   },
   {
    "duration": 20,
    "start_time": "2022-07-02T15:48:25.694Z"
   },
   {
    "duration": 2647,
    "start_time": "2022-07-02T15:48:35.807Z"
   },
   {
    "duration": 2883,
    "start_time": "2022-07-02T15:48:48.084Z"
   },
   {
    "duration": 786,
    "start_time": "2022-07-02T15:49:04.015Z"
   },
   {
    "duration": 26,
    "start_time": "2022-07-02T15:51:03.918Z"
   },
   {
    "duration": 1382,
    "start_time": "2022-07-02T15:51:22.552Z"
   },
   {
    "duration": 881,
    "start_time": "2022-07-02T15:51:36.182Z"
   },
   {
    "duration": 15,
    "start_time": "2022-07-02T15:54:22.150Z"
   },
   {
    "duration": 2686,
    "start_time": "2022-07-02T15:54:29.089Z"
   },
   {
    "duration": 15,
    "start_time": "2022-07-02T15:56:42.099Z"
   },
   {
    "duration": 18,
    "start_time": "2022-07-02T15:56:54.849Z"
   },
   {
    "duration": 26,
    "start_time": "2022-07-02T15:57:01.856Z"
   },
   {
    "duration": 37,
    "start_time": "2022-07-02T15:57:15.918Z"
   },
   {
    "duration": 13,
    "start_time": "2022-07-02T15:58:33.448Z"
   },
   {
    "duration": 15,
    "start_time": "2022-07-02T15:58:54.365Z"
   },
   {
    "duration": 21,
    "start_time": "2022-07-02T15:59:01.764Z"
   },
   {
    "duration": 12560,
    "start_time": "2022-07-02T15:59:09.640Z"
   },
   {
    "duration": 10130,
    "start_time": "2022-07-02T16:05:05.963Z"
   },
   {
    "duration": 13322,
    "start_time": "2022-07-02T16:05:28.859Z"
   },
   {
    "duration": 9025,
    "start_time": "2022-07-02T17:14:00.682Z"
   },
   {
    "duration": 9090,
    "start_time": "2022-07-02T17:14:23.885Z"
   },
   {
    "duration": 9631,
    "start_time": "2022-07-02T17:14:46.468Z"
   },
   {
    "duration": 9416,
    "start_time": "2022-07-02T17:15:06.085Z"
   },
   {
    "duration": 11076,
    "start_time": "2022-07-02T17:15:21.814Z"
   },
   {
    "duration": 11033,
    "start_time": "2022-07-02T17:15:35.730Z"
   },
   {
    "duration": 11184,
    "start_time": "2022-07-02T17:15:59.064Z"
   },
   {
    "duration": 35,
    "start_time": "2022-07-02T17:16:20.757Z"
   },
   {
    "duration": 23,
    "start_time": "2022-07-02T17:16:27.764Z"
   },
   {
    "duration": 23,
    "start_time": "2022-07-02T17:16:43.531Z"
   },
   {
    "duration": 10700,
    "start_time": "2022-07-02T17:16:47.488Z"
   },
   {
    "duration": 29,
    "start_time": "2022-07-02T17:17:31.714Z"
   },
   {
    "duration": 26,
    "start_time": "2022-07-02T17:17:37.530Z"
   },
   {
    "duration": 25,
    "start_time": "2022-07-02T17:17:43.115Z"
   },
   {
    "duration": 33,
    "start_time": "2022-07-02T17:17:47.249Z"
   },
   {
    "duration": 10961,
    "start_time": "2022-07-02T17:17:50.942Z"
   },
   {
    "duration": 12242,
    "start_time": "2022-07-02T17:21:27.530Z"
   },
   {
    "duration": 1491,
    "start_time": "2022-07-02T17:23:38.342Z"
   },
   {
    "duration": 35,
    "start_time": "2022-07-02T17:23:39.835Z"
   },
   {
    "duration": 15,
    "start_time": "2022-07-02T17:23:39.872Z"
   },
   {
    "duration": 8,
    "start_time": "2022-07-02T17:23:39.889Z"
   },
   {
    "duration": 29,
    "start_time": "2022-07-02T17:23:39.899Z"
   },
   {
    "duration": 10,
    "start_time": "2022-07-02T17:23:39.930Z"
   },
   {
    "duration": 9,
    "start_time": "2022-07-02T17:23:39.942Z"
   },
   {
    "duration": 11,
    "start_time": "2022-07-02T17:23:39.953Z"
   },
   {
    "duration": 17,
    "start_time": "2022-07-02T17:23:39.966Z"
   },
   {
    "duration": 42,
    "start_time": "2022-07-02T17:23:39.986Z"
   },
   {
    "duration": 10,
    "start_time": "2022-07-02T17:23:40.029Z"
   },
   {
    "duration": 10,
    "start_time": "2022-07-02T17:23:40.041Z"
   },
   {
    "duration": 8,
    "start_time": "2022-07-02T17:23:40.053Z"
   },
   {
    "duration": 26,
    "start_time": "2022-07-02T17:23:40.063Z"
   },
   {
    "duration": 11,
    "start_time": "2022-07-02T17:23:40.091Z"
   },
   {
    "duration": 28,
    "start_time": "2022-07-02T17:23:40.104Z"
   },
   {
    "duration": 20,
    "start_time": "2022-07-02T17:23:40.134Z"
   },
   {
    "duration": 9,
    "start_time": "2022-07-02T17:23:40.155Z"
   },
   {
    "duration": 8,
    "start_time": "2022-07-02T17:23:40.165Z"
   },
   {
    "duration": 54,
    "start_time": "2022-07-02T17:23:40.174Z"
   },
   {
    "duration": 15,
    "start_time": "2022-07-02T17:23:40.229Z"
   },
   {
    "duration": 7,
    "start_time": "2022-07-02T17:23:40.246Z"
   },
   {
    "duration": 19,
    "start_time": "2022-07-02T17:23:40.254Z"
   },
   {
    "duration": 5,
    "start_time": "2022-07-02T17:23:40.275Z"
   },
   {
    "duration": 11,
    "start_time": "2022-07-02T17:23:40.282Z"
   },
   {
    "duration": 3660,
    "start_time": "2022-07-02T17:23:40.328Z"
   },
   {
    "duration": 81,
    "start_time": "2022-07-02T17:23:43.991Z"
   },
   {
    "duration": 5,
    "start_time": "2022-07-02T17:23:44.076Z"
   },
   {
    "duration": 10,
    "start_time": "2022-07-02T17:23:44.082Z"
   },
   {
    "duration": 11,
    "start_time": "2022-07-02T17:23:44.094Z"
   },
   {
    "duration": 1865,
    "start_time": "2022-07-02T17:23:44.106Z"
   },
   {
    "duration": 607,
    "start_time": "2022-07-02T17:23:45.973Z"
   },
   {
    "duration": 118287,
    "start_time": "2022-07-02T17:23:46.582Z"
   },
   {
    "duration": 1769,
    "start_time": "2022-07-02T17:25:44.872Z"
   },
   {
    "duration": 19,
    "start_time": "2022-07-02T17:25:46.726Z"
   },
   {
    "duration": 11331,
    "start_time": "2022-07-02T17:25:46.746Z"
   },
   {
    "duration": 9,
    "start_time": "2022-07-02T17:50:54.878Z"
   },
   {
    "duration": 1758,
    "start_time": "2022-07-02T18:45:46.809Z"
   },
   {
    "duration": 64,
    "start_time": "2022-07-02T18:45:48.570Z"
   },
   {
    "duration": 19,
    "start_time": "2022-07-02T18:45:48.639Z"
   },
   {
    "duration": 3,
    "start_time": "2022-07-02T18:45:48.660Z"
   },
   {
    "duration": 13,
    "start_time": "2022-07-02T18:45:48.666Z"
   },
   {
    "duration": 11,
    "start_time": "2022-07-02T18:45:48.681Z"
   },
   {
    "duration": 7,
    "start_time": "2022-07-02T18:45:48.694Z"
   },
   {
    "duration": 20,
    "start_time": "2022-07-02T18:45:48.726Z"
   },
   {
    "duration": 9,
    "start_time": "2022-07-02T18:45:48.748Z"
   },
   {
    "duration": 11,
    "start_time": "2022-07-02T18:45:48.759Z"
   },
   {
    "duration": 9,
    "start_time": "2022-07-02T18:45:48.773Z"
   },
   {
    "duration": 14,
    "start_time": "2022-07-02T18:45:48.784Z"
   },
   {
    "duration": 41,
    "start_time": "2022-07-02T18:45:48.801Z"
   },
   {
    "duration": 15,
    "start_time": "2022-07-02T18:45:48.846Z"
   },
   {
    "duration": 9,
    "start_time": "2022-07-02T18:45:48.863Z"
   },
   {
    "duration": 9,
    "start_time": "2022-07-02T18:45:48.873Z"
   },
   {
    "duration": 7,
    "start_time": "2022-07-02T18:45:48.884Z"
   },
   {
    "duration": 38,
    "start_time": "2022-07-02T18:45:48.893Z"
   },
   {
    "duration": 17,
    "start_time": "2022-07-02T18:45:48.933Z"
   },
   {
    "duration": 27,
    "start_time": "2022-07-02T18:45:48.951Z"
   },
   {
    "duration": 14,
    "start_time": "2022-07-02T18:45:48.980Z"
   },
   {
    "duration": 9,
    "start_time": "2022-07-02T18:45:48.997Z"
   },
   {
    "duration": 20,
    "start_time": "2022-07-02T18:45:49.030Z"
   },
   {
    "duration": 6,
    "start_time": "2022-07-02T18:45:49.052Z"
   },
   {
    "duration": 9,
    "start_time": "2022-07-02T18:45:49.060Z"
   },
   {
    "duration": 3890,
    "start_time": "2022-07-02T18:45:49.071Z"
   },
   {
    "duration": 99,
    "start_time": "2022-07-02T18:45:52.963Z"
   },
   {
    "duration": 5,
    "start_time": "2022-07-02T18:45:53.064Z"
   },
   {
    "duration": 10,
    "start_time": "2022-07-02T18:45:53.072Z"
   },
   {
    "duration": 5,
    "start_time": "2022-07-02T18:45:53.085Z"
   },
   {
    "duration": 2878,
    "start_time": "2022-07-02T18:45:53.092Z"
   },
   {
    "duration": 751,
    "start_time": "2022-07-02T18:45:55.972Z"
   },
   {
    "duration": 123023,
    "start_time": "2022-07-02T18:45:56.727Z"
   },
   {
    "duration": 883,
    "start_time": "2022-07-02T18:47:59.751Z"
   },
   {
    "duration": 101,
    "start_time": "2022-07-02T18:48:00.636Z"
   },
   {
    "duration": 11462,
    "start_time": "2022-07-02T18:48:00.741Z"
   },
   {
    "duration": 28,
    "start_time": "2022-07-02T18:48:12.205Z"
   },
   {
    "duration": 11953,
    "start_time": "2022-07-02T19:00:09.744Z"
   },
   {
    "duration": 12443,
    "start_time": "2022-07-02T19:00:27.823Z"
   }
  ],
  "kernelspec": {
   "display_name": "Python 3 (ipykernel)",
   "language": "python",
   "name": "python3"
  },
  "language_info": {
   "codemirror_mode": {
    "name": "ipython",
    "version": 3
   },
   "file_extension": ".py",
   "mimetype": "text/x-python",
   "name": "python",
   "nbconvert_exporter": "python",
   "pygments_lexer": "ipython3",
   "version": "3.9.5"
  },
  "toc": {
   "base_numbering": 1,
   "nav_menu": {},
   "number_sections": true,
   "sideBar": true,
   "skip_h1_title": true,
   "title_cell": "Table of Contents",
   "title_sidebar": "Contents",
   "toc_cell": false,
   "toc_position": {},
   "toc_section_display": true,
   "toc_window_display": false
  }
 },
 "nbformat": 4,
 "nbformat_minor": 2
}
