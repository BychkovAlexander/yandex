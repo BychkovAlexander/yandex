{
 "cells": [
  {
   "cell_type": "markdown",
   "metadata": {},
   "source": [
    "# Сборный проект - 1"
   ]
  },
  {
   "cell_type": "markdown",
   "metadata": {},
   "source": [
    "# Описание проекта\n",
    "Вы работаете в интернет-магазине «Стримчик», который продаёт по всему миру компьютерные игры. Из открытых источников доступны исторические данные о продажах игр, оценки пользователей и экспертов, жанры и платформы (например, Xbox или PlayStation). Вам нужно выявить определяющие успешность игры закономерности. Это позволит сделать ставку на потенциально популярный продукт и спланировать рекламные кампании.\n",
    "\n",
    "Перед вами данные до 2016 года. Представим, что сейчас декабрь 2016 г., и вы планируете кампанию на 2017-й. Нужно отработать принцип работы с данными. Неважно, прогнозируете ли вы продажи на 2017 год по данным 2016-го или же 2027-й — по данным 2026 года.\n",
    "\n",
    "В наборе данных попадается аббревиатура ESRB (Entertainment Software Rating Board) — это ассоциация, определяющая возрастной рейтинг компьютерных игр. ESRB оценивает игровой контент и присваивает ему подходящую возрастную категорию, например, «Для взрослых», «Для детей младшего возраста» или «Для подростков».\n",
    "# Задачи исследования\n",
    "# Шаг 1. Откройте файл с данными и изучите общую информацию\n",
    "Путь к файлу: /datasets/games.csv. \n",
    "# Шаг 2. Подготовьте данные\n",
    "- Замените названия столбцов (приведите к нижнему регистру);\n",
    "- Преобразуйте данные в нужные типы. Опишите, в каких столбцах заменили тип данных и почему;\n",
    "- Обработайте пропуски при необходимости:\n",
    "- Объясните, почему заполнили пропуски определённым образом или почему не стали это делать;\n",
    "- Опишите причины, которые могли привести к пропускам;\n",
    "- Обратите внимание на аббревиатуру 'tbd' в столбце с оценкой пользователей. Отдельно разберите это значение и опишите, как его обработать;\n",
    "- Посчитайте суммарные продажи во всех регионах и запишите их в отдельный столбец.\n",
    "# Шаг 3. Проведите исследовательский анализ данных\n",
    "- Посмотрите, сколько игр выпускалось в разные годы. Важны ли данные за все периоды?\n",
    "- Посмотрите, как менялись продажи по платформам. Выберите платформы с наибольшими суммарными продажами и постройте распределение по годам. За какой характерный срок появляются новые и исчезают старые платформы?\n",
    "- Возьмите данные за соответствующий актуальный период. Актуальный период определите самостоятельно в результате исследования предыдущих вопросов. Основной фактор — эти данные помогут построить прогноз на 2017 год.\n",
    "- Не учитывайте в работе данные за предыдущие годы.\n",
    "- Какие платформы лидируют по продажам, растут или падают? Выберите несколько потенциально прибыльных платформ.\n",
    "- Постройте график «ящик с усами» по глобальным продажам игр в разбивке по платформам. Опишите результат.\n",
    "- Посмотрите, как влияют на продажи внутри одной популярной платформы отзывы пользователей и критиков. Постройте диаграмму рассеяния и посчитайте корреляцию между отзывами и продажами. Сформулируйте выводы.\n",
    "- Соотнесите выводы с продажами игр на других платформах.\n",
    "- Посмотрите на общее распределение игр по жанрам. Что можно сказать о самых прибыльных жанрах? Выделяются ли жанры с высокими и низкими продажами?\n",
    "# Шаг 4. Составьте портрет пользователя каждого региона\n",
    "- Определите для пользователя каждого региона (NA, EU, JP):\n",
    "- Самые популярные платформы (топ-5). Опишите различия в долях продаж.\n",
    "- Самые популярные жанры (топ-5). Поясните разницу.\n",
    "- Влияет ли рейтинг ESRB на продажи в отдельном регионе?\n",
    "# Шаг 5. Проверьте гипотезы\n",
    "- Средние пользовательские рейтинги платформ Xbox One и PC одинаковые;\n",
    "- Средние пользовательские рейтинги жанров Action (англ. «действие», экшен-игры) и Sports (англ. «спортивные соревнования») разные.\n",
    "\n",
    "# Шаг 6. Напишите общий вывод\n"
   ]
  },
  {
   "cell_type": "markdown",
   "metadata": {},
   "source": [
    "# Описание данных\n",
    "- Name — название игры\n",
    "- Platform — платформа\n",
    "- Year_of_Release — год выпуска\n",
    "- Genre — жанр игры\n",
    "- NA_sales — продажи в Северной Америке (миллионы проданных копий)\n",
    "- EU_sales — продажи в Европе (миллионы проданных копий)\n",
    "- JP_sales — продажи в Японии (миллионы проданных копий)\n",
    "- Other_sales — продажи в других странах (миллионы проданных копий)\n",
    "- Critic_Score — оценка критиков (максимум 100)\n",
    "- User_Score — оценка пользователей (максимум 10)\n",
    "- Rating — рейтинг от организации ESRB (англ. Entertainment Software Rating Board). Эта ассоциация определяет рейтинг компьютерных игр и присваивает им подходящую возрастную категорию."
   ]
  },
  {
   "cell_type": "code",
   "execution_count": 1,
   "metadata": {},
   "outputs": [],
   "source": [
    "import pandas as pd\n",
    "import numpy as np\n",
    "import matplotlib.pyplot as plt\n",
    "from datetime import datetime\n",
    "import pprint\n",
    "import random\n",
    "import seaborn as sns\n",
    "\n",
    "from math import factorial\n",
    "from scipy import stats as st\n",
    "from scipy.stats import norm\n",
    "from scipy.stats import ttest_ind\n",
    "\n",
    "from pymystem3 import Mystem\n",
    "from collections import Counter\n",
    "from matplotlib.axes._axes import _log as matplotlib_axes_logger\n"
   ]
  },
  {
   "cell_type": "code",
   "execution_count": 2,
   "metadata": {},
   "outputs": [
    {
     "data": {
      "text/html": [
       "<div>\n",
       "<style scoped>\n",
       "    .dataframe tbody tr th:only-of-type {\n",
       "        vertical-align: middle;\n",
       "    }\n",
       "\n",
       "    .dataframe tbody tr th {\n",
       "        vertical-align: top;\n",
       "    }\n",
       "\n",
       "    .dataframe thead th {\n",
       "        text-align: right;\n",
       "    }\n",
       "</style>\n",
       "<table border=\"1\" class=\"dataframe\">\n",
       "  <thead>\n",
       "    <tr style=\"text-align: right;\">\n",
       "      <th></th>\n",
       "      <th>Name</th>\n",
       "      <th>Platform</th>\n",
       "      <th>Year_of_Release</th>\n",
       "      <th>Genre</th>\n",
       "      <th>NA_sales</th>\n",
       "      <th>EU_sales</th>\n",
       "      <th>JP_sales</th>\n",
       "      <th>Other_sales</th>\n",
       "      <th>Critic_Score</th>\n",
       "      <th>User_Score</th>\n",
       "      <th>Rating</th>\n",
       "    </tr>\n",
       "  </thead>\n",
       "  <tbody>\n",
       "    <tr>\n",
       "      <th>0</th>\n",
       "      <td>Wii Sports</td>\n",
       "      <td>Wii</td>\n",
       "      <td>2006.0</td>\n",
       "      <td>Sports</td>\n",
       "      <td>41.36</td>\n",
       "      <td>28.96</td>\n",
       "      <td>3.77</td>\n",
       "      <td>8.45</td>\n",
       "      <td>76.0</td>\n",
       "      <td>8</td>\n",
       "      <td>E</td>\n",
       "    </tr>\n",
       "    <tr>\n",
       "      <th>1</th>\n",
       "      <td>Super Mario Bros.</td>\n",
       "      <td>NES</td>\n",
       "      <td>1985.0</td>\n",
       "      <td>Platform</td>\n",
       "      <td>29.08</td>\n",
       "      <td>3.58</td>\n",
       "      <td>6.81</td>\n",
       "      <td>0.77</td>\n",
       "      <td>NaN</td>\n",
       "      <td>NaN</td>\n",
       "      <td>NaN</td>\n",
       "    </tr>\n",
       "    <tr>\n",
       "      <th>2</th>\n",
       "      <td>Mario Kart Wii</td>\n",
       "      <td>Wii</td>\n",
       "      <td>2008.0</td>\n",
       "      <td>Racing</td>\n",
       "      <td>15.68</td>\n",
       "      <td>12.76</td>\n",
       "      <td>3.79</td>\n",
       "      <td>3.29</td>\n",
       "      <td>82.0</td>\n",
       "      <td>8.3</td>\n",
       "      <td>E</td>\n",
       "    </tr>\n",
       "    <tr>\n",
       "      <th>3</th>\n",
       "      <td>Wii Sports Resort</td>\n",
       "      <td>Wii</td>\n",
       "      <td>2009.0</td>\n",
       "      <td>Sports</td>\n",
       "      <td>15.61</td>\n",
       "      <td>10.93</td>\n",
       "      <td>3.28</td>\n",
       "      <td>2.95</td>\n",
       "      <td>80.0</td>\n",
       "      <td>8</td>\n",
       "      <td>E</td>\n",
       "    </tr>\n",
       "    <tr>\n",
       "      <th>4</th>\n",
       "      <td>Pokemon Red/Pokemon Blue</td>\n",
       "      <td>GB</td>\n",
       "      <td>1996.0</td>\n",
       "      <td>Role-Playing</td>\n",
       "      <td>11.27</td>\n",
       "      <td>8.89</td>\n",
       "      <td>10.22</td>\n",
       "      <td>1.00</td>\n",
       "      <td>NaN</td>\n",
       "      <td>NaN</td>\n",
       "      <td>NaN</td>\n",
       "    </tr>\n",
       "  </tbody>\n",
       "</table>\n",
       "</div>"
      ],
      "text/plain": [
       "                       Name Platform  Year_of_Release         Genre  NA_sales  \\\n",
       "0                Wii Sports      Wii           2006.0        Sports     41.36   \n",
       "1         Super Mario Bros.      NES           1985.0      Platform     29.08   \n",
       "2            Mario Kart Wii      Wii           2008.0        Racing     15.68   \n",
       "3         Wii Sports Resort      Wii           2009.0        Sports     15.61   \n",
       "4  Pokemon Red/Pokemon Blue       GB           1996.0  Role-Playing     11.27   \n",
       "\n",
       "   EU_sales  JP_sales  Other_sales  Critic_Score User_Score Rating  \n",
       "0     28.96      3.77         8.45          76.0          8      E  \n",
       "1      3.58      6.81         0.77           NaN        NaN    NaN  \n",
       "2     12.76      3.79         3.29          82.0        8.3      E  \n",
       "3     10.93      3.28         2.95          80.0          8      E  \n",
       "4      8.89     10.22         1.00           NaN        NaN    NaN  "
      ]
     },
     "execution_count": 2,
     "metadata": {},
     "output_type": "execute_result"
    }
   ],
   "source": [
    "games = pd.read_csv('/datasets/games.csv')\n",
    "games.head()"
   ]
  },
  {
   "cell_type": "code",
   "execution_count": 3,
   "metadata": {},
   "outputs": [
    {
     "data": {
      "text/html": [
       "<div>\n",
       "<style scoped>\n",
       "    .dataframe tbody tr th:only-of-type {\n",
       "        vertical-align: middle;\n",
       "    }\n",
       "\n",
       "    .dataframe tbody tr th {\n",
       "        vertical-align: top;\n",
       "    }\n",
       "\n",
       "    .dataframe thead th {\n",
       "        text-align: right;\n",
       "    }\n",
       "</style>\n",
       "<table border=\"1\" class=\"dataframe\">\n",
       "  <thead>\n",
       "    <tr style=\"text-align: right;\">\n",
       "      <th></th>\n",
       "      <th>Year_of_Release</th>\n",
       "      <th>NA_sales</th>\n",
       "      <th>EU_sales</th>\n",
       "      <th>JP_sales</th>\n",
       "      <th>Other_sales</th>\n",
       "      <th>Critic_Score</th>\n",
       "    </tr>\n",
       "  </thead>\n",
       "  <tbody>\n",
       "    <tr>\n",
       "      <th>count</th>\n",
       "      <td>16446.000000</td>\n",
       "      <td>16715.000000</td>\n",
       "      <td>16715.000000</td>\n",
       "      <td>16715.000000</td>\n",
       "      <td>16715.000000</td>\n",
       "      <td>8137.000000</td>\n",
       "    </tr>\n",
       "    <tr>\n",
       "      <th>mean</th>\n",
       "      <td>2006.484616</td>\n",
       "      <td>0.263377</td>\n",
       "      <td>0.145060</td>\n",
       "      <td>0.077617</td>\n",
       "      <td>0.047342</td>\n",
       "      <td>68.967679</td>\n",
       "    </tr>\n",
       "    <tr>\n",
       "      <th>std</th>\n",
       "      <td>5.877050</td>\n",
       "      <td>0.813604</td>\n",
       "      <td>0.503339</td>\n",
       "      <td>0.308853</td>\n",
       "      <td>0.186731</td>\n",
       "      <td>13.938165</td>\n",
       "    </tr>\n",
       "    <tr>\n",
       "      <th>min</th>\n",
       "      <td>1980.000000</td>\n",
       "      <td>0.000000</td>\n",
       "      <td>0.000000</td>\n",
       "      <td>0.000000</td>\n",
       "      <td>0.000000</td>\n",
       "      <td>13.000000</td>\n",
       "    </tr>\n",
       "    <tr>\n",
       "      <th>25%</th>\n",
       "      <td>2003.000000</td>\n",
       "      <td>0.000000</td>\n",
       "      <td>0.000000</td>\n",
       "      <td>0.000000</td>\n",
       "      <td>0.000000</td>\n",
       "      <td>60.000000</td>\n",
       "    </tr>\n",
       "    <tr>\n",
       "      <th>50%</th>\n",
       "      <td>2007.000000</td>\n",
       "      <td>0.080000</td>\n",
       "      <td>0.020000</td>\n",
       "      <td>0.000000</td>\n",
       "      <td>0.010000</td>\n",
       "      <td>71.000000</td>\n",
       "    </tr>\n",
       "    <tr>\n",
       "      <th>75%</th>\n",
       "      <td>2010.000000</td>\n",
       "      <td>0.240000</td>\n",
       "      <td>0.110000</td>\n",
       "      <td>0.040000</td>\n",
       "      <td>0.030000</td>\n",
       "      <td>79.000000</td>\n",
       "    </tr>\n",
       "    <tr>\n",
       "      <th>max</th>\n",
       "      <td>2016.000000</td>\n",
       "      <td>41.360000</td>\n",
       "      <td>28.960000</td>\n",
       "      <td>10.220000</td>\n",
       "      <td>10.570000</td>\n",
       "      <td>98.000000</td>\n",
       "    </tr>\n",
       "  </tbody>\n",
       "</table>\n",
       "</div>"
      ],
      "text/plain": [
       "       Year_of_Release      NA_sales      EU_sales      JP_sales  \\\n",
       "count     16446.000000  16715.000000  16715.000000  16715.000000   \n",
       "mean       2006.484616      0.263377      0.145060      0.077617   \n",
       "std           5.877050      0.813604      0.503339      0.308853   \n",
       "min        1980.000000      0.000000      0.000000      0.000000   \n",
       "25%        2003.000000      0.000000      0.000000      0.000000   \n",
       "50%        2007.000000      0.080000      0.020000      0.000000   \n",
       "75%        2010.000000      0.240000      0.110000      0.040000   \n",
       "max        2016.000000     41.360000     28.960000     10.220000   \n",
       "\n",
       "        Other_sales  Critic_Score  \n",
       "count  16715.000000   8137.000000  \n",
       "mean       0.047342     68.967679  \n",
       "std        0.186731     13.938165  \n",
       "min        0.000000     13.000000  \n",
       "25%        0.000000     60.000000  \n",
       "50%        0.010000     71.000000  \n",
       "75%        0.030000     79.000000  \n",
       "max       10.570000     98.000000  "
      ]
     },
     "execution_count": 3,
     "metadata": {},
     "output_type": "execute_result"
    }
   ],
   "source": [
    "games.describe()"
   ]
  },
  {
   "cell_type": "code",
   "execution_count": 4,
   "metadata": {},
   "outputs": [
    {
     "name": "stdout",
     "output_type": "stream",
     "text": [
      "<class 'pandas.core.frame.DataFrame'>\n",
      "RangeIndex: 16715 entries, 0 to 16714\n",
      "Data columns (total 11 columns):\n",
      " #   Column           Non-Null Count  Dtype  \n",
      "---  ------           --------------  -----  \n",
      " 0   Name             16713 non-null  object \n",
      " 1   Platform         16715 non-null  object \n",
      " 2   Year_of_Release  16446 non-null  float64\n",
      " 3   Genre            16713 non-null  object \n",
      " 4   NA_sales         16715 non-null  float64\n",
      " 5   EU_sales         16715 non-null  float64\n",
      " 6   JP_sales         16715 non-null  float64\n",
      " 7   Other_sales      16715 non-null  float64\n",
      " 8   Critic_Score     8137 non-null   float64\n",
      " 9   User_Score       10014 non-null  object \n",
      " 10  Rating           9949 non-null   object \n",
      "dtypes: float64(6), object(5)\n",
      "memory usage: 1.4+ MB\n"
     ]
    }
   ],
   "source": [
    "games.info()"
   ]
  },
  {
   "cell_type": "markdown",
   "metadata": {},
   "source": [
    "ВЫВОД:\n",
    "\n",
    "Необходимо поправить данные для будущего анализа : выяснить причины появления пропусков, изменить тип данных, привести данные к нижнему регистру и проверить наличие дубликатов."
   ]
  },
  {
   "cell_type": "markdown",
   "metadata": {},
   "source": [
    "# Шаг 2. Подготовьте данные\n",
    "- Замена названий столбцов (привод к нижнему регистру);\n",
    "- Преобразавание данных в нужные типы. \n",
    "- Обработка пропусков \n",
    "- Описание причин, которые могли привести к пропускам;\n",
    "- Подсчет суммарных продаж во всех регионах и запись их в отдельный столбец."
   ]
  },
  {
   "cell_type": "code",
   "execution_count": 5,
   "metadata": {},
   "outputs": [],
   "source": [
    "games.columns = games.columns.str.lower() #приведем данные к нижнему регистру"
   ]
  },
  {
   "cell_type": "code",
   "execution_count": 6,
   "metadata": {},
   "outputs": [
    {
     "data": {
      "text/html": [
       "<div>\n",
       "<style scoped>\n",
       "    .dataframe tbody tr th:only-of-type {\n",
       "        vertical-align: middle;\n",
       "    }\n",
       "\n",
       "    .dataframe tbody tr th {\n",
       "        vertical-align: top;\n",
       "    }\n",
       "\n",
       "    .dataframe thead th {\n",
       "        text-align: right;\n",
       "    }\n",
       "</style>\n",
       "<table border=\"1\" class=\"dataframe\">\n",
       "  <thead>\n",
       "    <tr style=\"text-align: right;\">\n",
       "      <th></th>\n",
       "      <th>name</th>\n",
       "      <th>platform</th>\n",
       "      <th>year_of_release</th>\n",
       "      <th>genre</th>\n",
       "      <th>na_sales</th>\n",
       "      <th>eu_sales</th>\n",
       "      <th>jp_sales</th>\n",
       "      <th>other_sales</th>\n",
       "      <th>critic_score</th>\n",
       "      <th>user_score</th>\n",
       "      <th>rating</th>\n",
       "    </tr>\n",
       "  </thead>\n",
       "  <tbody>\n",
       "    <tr>\n",
       "      <th>0</th>\n",
       "      <td>Wii Sports</td>\n",
       "      <td>Wii</td>\n",
       "      <td>2006.0</td>\n",
       "      <td>Sports</td>\n",
       "      <td>41.36</td>\n",
       "      <td>28.96</td>\n",
       "      <td>3.77</td>\n",
       "      <td>8.45</td>\n",
       "      <td>76.0</td>\n",
       "      <td>8</td>\n",
       "      <td>E</td>\n",
       "    </tr>\n",
       "    <tr>\n",
       "      <th>1</th>\n",
       "      <td>Super Mario Bros.</td>\n",
       "      <td>NES</td>\n",
       "      <td>1985.0</td>\n",
       "      <td>Platform</td>\n",
       "      <td>29.08</td>\n",
       "      <td>3.58</td>\n",
       "      <td>6.81</td>\n",
       "      <td>0.77</td>\n",
       "      <td>NaN</td>\n",
       "      <td>NaN</td>\n",
       "      <td>NaN</td>\n",
       "    </tr>\n",
       "    <tr>\n",
       "      <th>2</th>\n",
       "      <td>Mario Kart Wii</td>\n",
       "      <td>Wii</td>\n",
       "      <td>2008.0</td>\n",
       "      <td>Racing</td>\n",
       "      <td>15.68</td>\n",
       "      <td>12.76</td>\n",
       "      <td>3.79</td>\n",
       "      <td>3.29</td>\n",
       "      <td>82.0</td>\n",
       "      <td>8.3</td>\n",
       "      <td>E</td>\n",
       "    </tr>\n",
       "    <tr>\n",
       "      <th>3</th>\n",
       "      <td>Wii Sports Resort</td>\n",
       "      <td>Wii</td>\n",
       "      <td>2009.0</td>\n",
       "      <td>Sports</td>\n",
       "      <td>15.61</td>\n",
       "      <td>10.93</td>\n",
       "      <td>3.28</td>\n",
       "      <td>2.95</td>\n",
       "      <td>80.0</td>\n",
       "      <td>8</td>\n",
       "      <td>E</td>\n",
       "    </tr>\n",
       "    <tr>\n",
       "      <th>4</th>\n",
       "      <td>Pokemon Red/Pokemon Blue</td>\n",
       "      <td>GB</td>\n",
       "      <td>1996.0</td>\n",
       "      <td>Role-Playing</td>\n",
       "      <td>11.27</td>\n",
       "      <td>8.89</td>\n",
       "      <td>10.22</td>\n",
       "      <td>1.00</td>\n",
       "      <td>NaN</td>\n",
       "      <td>NaN</td>\n",
       "      <td>NaN</td>\n",
       "    </tr>\n",
       "    <tr>\n",
       "      <th>...</th>\n",
       "      <td>...</td>\n",
       "      <td>...</td>\n",
       "      <td>...</td>\n",
       "      <td>...</td>\n",
       "      <td>...</td>\n",
       "      <td>...</td>\n",
       "      <td>...</td>\n",
       "      <td>...</td>\n",
       "      <td>...</td>\n",
       "      <td>...</td>\n",
       "      <td>...</td>\n",
       "    </tr>\n",
       "    <tr>\n",
       "      <th>16710</th>\n",
       "      <td>Samurai Warriors: Sanada Maru</td>\n",
       "      <td>PS3</td>\n",
       "      <td>2016.0</td>\n",
       "      <td>Action</td>\n",
       "      <td>0.00</td>\n",
       "      <td>0.00</td>\n",
       "      <td>0.01</td>\n",
       "      <td>0.00</td>\n",
       "      <td>NaN</td>\n",
       "      <td>NaN</td>\n",
       "      <td>NaN</td>\n",
       "    </tr>\n",
       "    <tr>\n",
       "      <th>16711</th>\n",
       "      <td>LMA Manager 2007</td>\n",
       "      <td>X360</td>\n",
       "      <td>2006.0</td>\n",
       "      <td>Sports</td>\n",
       "      <td>0.00</td>\n",
       "      <td>0.01</td>\n",
       "      <td>0.00</td>\n",
       "      <td>0.00</td>\n",
       "      <td>NaN</td>\n",
       "      <td>NaN</td>\n",
       "      <td>NaN</td>\n",
       "    </tr>\n",
       "    <tr>\n",
       "      <th>16712</th>\n",
       "      <td>Haitaka no Psychedelica</td>\n",
       "      <td>PSV</td>\n",
       "      <td>2016.0</td>\n",
       "      <td>Adventure</td>\n",
       "      <td>0.00</td>\n",
       "      <td>0.00</td>\n",
       "      <td>0.01</td>\n",
       "      <td>0.00</td>\n",
       "      <td>NaN</td>\n",
       "      <td>NaN</td>\n",
       "      <td>NaN</td>\n",
       "    </tr>\n",
       "    <tr>\n",
       "      <th>16713</th>\n",
       "      <td>Spirits &amp; Spells</td>\n",
       "      <td>GBA</td>\n",
       "      <td>2003.0</td>\n",
       "      <td>Platform</td>\n",
       "      <td>0.01</td>\n",
       "      <td>0.00</td>\n",
       "      <td>0.00</td>\n",
       "      <td>0.00</td>\n",
       "      <td>NaN</td>\n",
       "      <td>NaN</td>\n",
       "      <td>NaN</td>\n",
       "    </tr>\n",
       "    <tr>\n",
       "      <th>16714</th>\n",
       "      <td>Winning Post 8 2016</td>\n",
       "      <td>PSV</td>\n",
       "      <td>2016.0</td>\n",
       "      <td>Simulation</td>\n",
       "      <td>0.00</td>\n",
       "      <td>0.00</td>\n",
       "      <td>0.01</td>\n",
       "      <td>0.00</td>\n",
       "      <td>NaN</td>\n",
       "      <td>NaN</td>\n",
       "      <td>NaN</td>\n",
       "    </tr>\n",
       "  </tbody>\n",
       "</table>\n",
       "<p>16715 rows × 11 columns</p>\n",
       "</div>"
      ],
      "text/plain": [
       "                                name platform  year_of_release         genre  \\\n",
       "0                         Wii Sports      Wii           2006.0        Sports   \n",
       "1                  Super Mario Bros.      NES           1985.0      Platform   \n",
       "2                     Mario Kart Wii      Wii           2008.0        Racing   \n",
       "3                  Wii Sports Resort      Wii           2009.0        Sports   \n",
       "4           Pokemon Red/Pokemon Blue       GB           1996.0  Role-Playing   \n",
       "...                              ...      ...              ...           ...   \n",
       "16710  Samurai Warriors: Sanada Maru      PS3           2016.0        Action   \n",
       "16711               LMA Manager 2007     X360           2006.0        Sports   \n",
       "16712        Haitaka no Psychedelica      PSV           2016.0     Adventure   \n",
       "16713               Spirits & Spells      GBA           2003.0      Platform   \n",
       "16714            Winning Post 8 2016      PSV           2016.0    Simulation   \n",
       "\n",
       "       na_sales  eu_sales  jp_sales  other_sales  critic_score user_score  \\\n",
       "0         41.36     28.96      3.77         8.45          76.0          8   \n",
       "1         29.08      3.58      6.81         0.77           NaN        NaN   \n",
       "2         15.68     12.76      3.79         3.29          82.0        8.3   \n",
       "3         15.61     10.93      3.28         2.95          80.0          8   \n",
       "4         11.27      8.89     10.22         1.00           NaN        NaN   \n",
       "...         ...       ...       ...          ...           ...        ...   \n",
       "16710      0.00      0.00      0.01         0.00           NaN        NaN   \n",
       "16711      0.00      0.01      0.00         0.00           NaN        NaN   \n",
       "16712      0.00      0.00      0.01         0.00           NaN        NaN   \n",
       "16713      0.01      0.00      0.00         0.00           NaN        NaN   \n",
       "16714      0.00      0.00      0.01         0.00           NaN        NaN   \n",
       "\n",
       "      rating  \n",
       "0          E  \n",
       "1        NaN  \n",
       "2          E  \n",
       "3          E  \n",
       "4        NaN  \n",
       "...      ...  \n",
       "16710    NaN  \n",
       "16711    NaN  \n",
       "16712    NaN  \n",
       "16713    NaN  \n",
       "16714    NaN  \n",
       "\n",
       "[16715 rows x 11 columns]"
      ]
     },
     "metadata": {},
     "output_type": "display_data"
    }
   ],
   "source": [
    "display(games)"
   ]
  },
  {
   "cell_type": "code",
   "execution_count": 7,
   "metadata": {},
   "outputs": [
    {
     "data": {
      "text/plain": [
       "array([2006., 1985., 2008., 2009., 1996., 1989., 1984., 2005., 1999.,\n",
       "       2007., 2010., 2013., 2004., 1990., 1988., 2002., 2001., 2011.,\n",
       "       1998., 2015., 2012., 2014., 1992., 1997., 1993., 1994., 1982.,\n",
       "       2016., 2003., 1986., 2000.,   nan, 1995., 1991., 1981., 1987.,\n",
       "       1980., 1983.])"
      ]
     },
     "execution_count": 7,
     "metadata": {},
     "output_type": "execute_result"
    }
   ],
   "source": [
    "games['year_of_release'].unique() #проверяем уникальные годы и обноружили пропуск"
   ]
  },
  {
   "cell_type": "code",
   "execution_count": 8,
   "metadata": {},
   "outputs": [],
   "source": [
    "games.loc[:,'year_of_release'] = games.loc[:,'year_of_release'].astype('Int64',errors='ignore')"
   ]
  },
  {
   "cell_type": "code",
   "execution_count": 9,
   "metadata": {},
   "outputs": [
    {
     "name": "stdout",
     "output_type": "stream",
     "text": [
      "<class 'pandas.core.frame.DataFrame'>\n",
      "RangeIndex: 16715 entries, 0 to 16714\n",
      "Data columns (total 11 columns):\n",
      " #   Column           Non-Null Count  Dtype  \n",
      "---  ------           --------------  -----  \n",
      " 0   name             16713 non-null  object \n",
      " 1   platform         16715 non-null  object \n",
      " 2   year_of_release  16446 non-null  Int64  \n",
      " 3   genre            16713 non-null  object \n",
      " 4   na_sales         16715 non-null  float64\n",
      " 5   eu_sales         16715 non-null  float64\n",
      " 6   jp_sales         16715 non-null  float64\n",
      " 7   other_sales      16715 non-null  float64\n",
      " 8   critic_score     8137 non-null   float64\n",
      " 9   user_score       10014 non-null  object \n",
      " 10  rating           9949 non-null   object \n",
      "dtypes: Int64(1), float64(5), object(5)\n",
      "memory usage: 1.4+ MB\n"
     ]
    }
   ],
   "source": [
    "games.info()"
   ]
  },
  {
   "cell_type": "code",
   "execution_count": 10,
   "metadata": {},
   "outputs": [
    {
     "data": {
      "text/plain": [
       "name                  2\n",
       "platform              0\n",
       "year_of_release     269\n",
       "genre                 2\n",
       "na_sales              0\n",
       "eu_sales              0\n",
       "jp_sales              0\n",
       "other_sales           0\n",
       "critic_score       8578\n",
       "user_score         6701\n",
       "rating             6766\n",
       "dtype: int64"
      ]
     },
     "execution_count": 10,
     "metadata": {},
     "output_type": "execute_result"
    }
   ],
   "source": [
    "games.isnull().sum() # проверим количество пропусков"
   ]
  },
  {
   "cell_type": "code",
   "execution_count": 11,
   "metadata": {
    "scrolled": true
   },
   "outputs": [
    {
     "data": {
      "text/plain": [
       "platform            0.000000\n",
       "na_sales            0.000000\n",
       "eu_sales            0.000000\n",
       "jp_sales            0.000000\n",
       "other_sales         0.000000\n",
       "name                0.011965\n",
       "genre               0.011965\n",
       "year_of_release     1.609333\n",
       "user_score         40.089740\n",
       "rating             40.478612\n",
       "critic_score       51.319174\n",
       "dtype: float64"
      ]
     },
     "execution_count": 11,
     "metadata": {},
     "output_type": "execute_result"
    }
   ],
   "source": [
    "games.isnull().sum().sort_values()/games.shape[0]*100"
   ]
  },
  {
   "cell_type": "code",
   "execution_count": 12,
   "metadata": {},
   "outputs": [
    {
     "data": {
      "text/plain": [
       "0"
      ]
     },
     "execution_count": 12,
     "metadata": {},
     "output_type": "execute_result"
    }
   ],
   "source": [
    "games.duplicated().sum() # проверим наличие дубликатов"
   ]
  },
  {
   "cell_type": "markdown",
   "metadata": {},
   "source": [
    "Изучим столбцы с пропусками:\n",
    "- year_of_release: пропусков немного, маловероятно, что в какой-то год игры не выходили, скорей всего просто отсутствуют данные. Скорей всего пропуски не повлияют на результат, разберемся с этим позже\n",
    "- critic_score: большое количество пропусков. Возможно это связанно с тем , что это были малоизвестные тайтлы на которые не обратили внимания. Заполним пропуски значением '-1',чтобы не перепутать с реальными данными, поскольку оценка 0 может быть реальной, а заполнять медианной или средним значением будет некорректно\n",
    "- user_score: аналогичная ситуация с critic_score\n",
    "- rating большое количество пропусков, возможна ситуация аналогичная с оценками"
   ]
  },
  {
   "cell_type": "code",
   "execution_count": 13,
   "metadata": {},
   "outputs": [
    {
     "data": {
      "text/plain": [
       "array([76., nan, 82., 80., 89., 58., 87., 91., 61., 97., 95., 77., 88.,\n",
       "       83., 94., 93., 85., 86., 98., 96., 90., 84., 73., 74., 78., 92.,\n",
       "       71., 72., 68., 62., 49., 67., 81., 66., 56., 79., 70., 59., 64.,\n",
       "       75., 60., 63., 69., 50., 25., 42., 44., 55., 48., 57., 29., 47.,\n",
       "       65., 54., 20., 53., 37., 38., 33., 52., 30., 32., 43., 45., 51.,\n",
       "       40., 46., 39., 34., 35., 41., 36., 28., 31., 27., 26., 19., 23.,\n",
       "       24., 21., 17., 22., 13.])"
      ]
     },
     "execution_count": 13,
     "metadata": {},
     "output_type": "execute_result"
    }
   ],
   "source": [
    "games['critic_score'].unique()"
   ]
  },
  {
   "cell_type": "code",
   "execution_count": 14,
   "metadata": {},
   "outputs": [
    {
     "data": {
      "text/plain": [
       "array(['8', nan, '8.3', '8.5', '6.6', '8.4', '8.6', '7.7', '6.3', '7.4',\n",
       "       '8.2', '9', '7.9', '8.1', '8.7', '7.1', '3.4', '5.3', '4.8', '3.2',\n",
       "       '8.9', '6.4', '7.8', '7.5', '2.6', '7.2', '9.2', '7', '7.3', '4.3',\n",
       "       '7.6', '5.7', '5', '9.1', '6.5', 'tbd', '8.8', '6.9', '9.4', '6.8',\n",
       "       '6.1', '6.7', '5.4', '4', '4.9', '4.5', '9.3', '6.2', '4.2', '6',\n",
       "       '3.7', '4.1', '5.8', '5.6', '5.5', '4.4', '4.6', '5.9', '3.9',\n",
       "       '3.1', '2.9', '5.2', '3.3', '4.7', '5.1', '3.5', '2.5', '1.9', '3',\n",
       "       '2.7', '2.2', '2', '9.5', '2.1', '3.6', '2.8', '1.8', '3.8', '0',\n",
       "       '1.6', '9.6', '2.4', '1.7', '1.1', '0.3', '1.5', '0.7', '1.2',\n",
       "       '2.3', '0.5', '1.3', '0.2', '0.6', '1.4', '0.9', '1', '9.7'],\n",
       "      dtype=object)"
      ]
     },
     "execution_count": 14,
     "metadata": {},
     "output_type": "execute_result"
    }
   ],
   "source": [
    "games['user_score'].unique()"
   ]
  },
  {
   "cell_type": "code",
   "execution_count": 15,
   "metadata": {},
   "outputs": [],
   "source": [
    "games.loc[games['user_score'] == 'tbd','user_score'] = np.nan # судя по всему tbd является обычным nan\n",
    "games['user_score'] = games['user_score'].astype('float64')"
   ]
  },
  {
   "cell_type": "code",
   "execution_count": 16,
   "metadata": {},
   "outputs": [
    {
     "data": {
      "text/plain": [
       "array(['E', nan, 'M', 'T', 'E10+', 'K-A', 'AO', 'EC', 'RP'], dtype=object)"
      ]
     },
     "execution_count": 16,
     "metadata": {},
     "output_type": "execute_result"
    }
   ],
   "source": [
    "games['rating'].unique()"
   ]
  },
  {
   "cell_type": "code",
   "execution_count": 17,
   "metadata": {},
   "outputs": [
    {
     "name": "stdout",
     "output_type": "stream",
     "text": [
      "<class 'pandas.core.frame.DataFrame'>\n",
      "RangeIndex: 16715 entries, 0 to 16714\n",
      "Data columns (total 11 columns):\n",
      " #   Column           Non-Null Count  Dtype  \n",
      "---  ------           --------------  -----  \n",
      " 0   name             16713 non-null  object \n",
      " 1   platform         16715 non-null  object \n",
      " 2   year_of_release  16446 non-null  Int64  \n",
      " 3   genre            16713 non-null  object \n",
      " 4   na_sales         16715 non-null  float64\n",
      " 5   eu_sales         16715 non-null  float64\n",
      " 6   jp_sales         16715 non-null  float64\n",
      " 7   other_sales      16715 non-null  float64\n",
      " 8   critic_score     8137 non-null   float64\n",
      " 9   user_score       7590 non-null   float64\n",
      " 10  rating           9949 non-null   object \n",
      "dtypes: Int64(1), float64(6), object(4)\n",
      "memory usage: 1.4+ MB\n"
     ]
    }
   ],
   "source": [
    "games.info()"
   ]
  },
  {
   "cell_type": "markdown",
   "metadata": {},
   "source": [
    "Посчитаем суммарные продажи во всех регионах и запишем их в отдельный столбец"
   ]
  },
  {
   "cell_type": "code",
   "execution_count": 18,
   "metadata": {},
   "outputs": [],
   "source": [
    "games['total_sales'] = games['na_sales'] + games['eu_sales'] + games['jp_sales'] + games['other_sales']"
   ]
  },
  {
   "cell_type": "code",
   "execution_count": 19,
   "metadata": {},
   "outputs": [
    {
     "data": {
      "text/html": [
       "<div>\n",
       "<style scoped>\n",
       "    .dataframe tbody tr th:only-of-type {\n",
       "        vertical-align: middle;\n",
       "    }\n",
       "\n",
       "    .dataframe tbody tr th {\n",
       "        vertical-align: top;\n",
       "    }\n",
       "\n",
       "    .dataframe thead th {\n",
       "        text-align: right;\n",
       "    }\n",
       "</style>\n",
       "<table border=\"1\" class=\"dataframe\">\n",
       "  <thead>\n",
       "    <tr style=\"text-align: right;\">\n",
       "      <th></th>\n",
       "      <th>name</th>\n",
       "      <th>platform</th>\n",
       "      <th>year_of_release</th>\n",
       "      <th>genre</th>\n",
       "      <th>na_sales</th>\n",
       "      <th>eu_sales</th>\n",
       "      <th>jp_sales</th>\n",
       "      <th>other_sales</th>\n",
       "      <th>critic_score</th>\n",
       "      <th>user_score</th>\n",
       "      <th>rating</th>\n",
       "      <th>total_sales</th>\n",
       "    </tr>\n",
       "  </thead>\n",
       "  <tbody>\n",
       "    <tr>\n",
       "      <th>0</th>\n",
       "      <td>Wii Sports</td>\n",
       "      <td>Wii</td>\n",
       "      <td>2006</td>\n",
       "      <td>Sports</td>\n",
       "      <td>41.36</td>\n",
       "      <td>28.96</td>\n",
       "      <td>3.77</td>\n",
       "      <td>8.45</td>\n",
       "      <td>76.0</td>\n",
       "      <td>8.0</td>\n",
       "      <td>E</td>\n",
       "      <td>82.54</td>\n",
       "    </tr>\n",
       "    <tr>\n",
       "      <th>1</th>\n",
       "      <td>Super Mario Bros.</td>\n",
       "      <td>NES</td>\n",
       "      <td>1985</td>\n",
       "      <td>Platform</td>\n",
       "      <td>29.08</td>\n",
       "      <td>3.58</td>\n",
       "      <td>6.81</td>\n",
       "      <td>0.77</td>\n",
       "      <td>NaN</td>\n",
       "      <td>NaN</td>\n",
       "      <td>NaN</td>\n",
       "      <td>40.24</td>\n",
       "    </tr>\n",
       "    <tr>\n",
       "      <th>2</th>\n",
       "      <td>Mario Kart Wii</td>\n",
       "      <td>Wii</td>\n",
       "      <td>2008</td>\n",
       "      <td>Racing</td>\n",
       "      <td>15.68</td>\n",
       "      <td>12.76</td>\n",
       "      <td>3.79</td>\n",
       "      <td>3.29</td>\n",
       "      <td>82.0</td>\n",
       "      <td>8.3</td>\n",
       "      <td>E</td>\n",
       "      <td>35.52</td>\n",
       "    </tr>\n",
       "    <tr>\n",
       "      <th>3</th>\n",
       "      <td>Wii Sports Resort</td>\n",
       "      <td>Wii</td>\n",
       "      <td>2009</td>\n",
       "      <td>Sports</td>\n",
       "      <td>15.61</td>\n",
       "      <td>10.93</td>\n",
       "      <td>3.28</td>\n",
       "      <td>2.95</td>\n",
       "      <td>80.0</td>\n",
       "      <td>8.0</td>\n",
       "      <td>E</td>\n",
       "      <td>32.77</td>\n",
       "    </tr>\n",
       "    <tr>\n",
       "      <th>4</th>\n",
       "      <td>Pokemon Red/Pokemon Blue</td>\n",
       "      <td>GB</td>\n",
       "      <td>1996</td>\n",
       "      <td>Role-Playing</td>\n",
       "      <td>11.27</td>\n",
       "      <td>8.89</td>\n",
       "      <td>10.22</td>\n",
       "      <td>1.00</td>\n",
       "      <td>NaN</td>\n",
       "      <td>NaN</td>\n",
       "      <td>NaN</td>\n",
       "      <td>31.38</td>\n",
       "    </tr>\n",
       "  </tbody>\n",
       "</table>\n",
       "</div>"
      ],
      "text/plain": [
       "                       name platform  year_of_release         genre  na_sales  \\\n",
       "0                Wii Sports      Wii             2006        Sports     41.36   \n",
       "1         Super Mario Bros.      NES             1985      Platform     29.08   \n",
       "2            Mario Kart Wii      Wii             2008        Racing     15.68   \n",
       "3         Wii Sports Resort      Wii             2009        Sports     15.61   \n",
       "4  Pokemon Red/Pokemon Blue       GB             1996  Role-Playing     11.27   \n",
       "\n",
       "   eu_sales  jp_sales  other_sales  critic_score  user_score rating  \\\n",
       "0     28.96      3.77         8.45          76.0         8.0      E   \n",
       "1      3.58      6.81         0.77           NaN         NaN    NaN   \n",
       "2     12.76      3.79         3.29          82.0         8.3      E   \n",
       "3     10.93      3.28         2.95          80.0         8.0      E   \n",
       "4      8.89     10.22         1.00           NaN         NaN    NaN   \n",
       "\n",
       "   total_sales  \n",
       "0        82.54  \n",
       "1        40.24  \n",
       "2        35.52  \n",
       "3        32.77  \n",
       "4        31.38  "
      ]
     },
     "execution_count": 19,
     "metadata": {},
     "output_type": "execute_result"
    }
   ],
   "source": [
    "games.head()"
   ]
  },
  {
   "cell_type": "markdown",
   "metadata": {},
   "source": [
    "# Вывод:\n",
    "- Привели столбцы к нижнему регистру\n",
    "- Преобразовали данные в нужные типы данных\n",
    "- Проверили пропуски и дубликаты\n",
    "- Заменили пропуски в столбцах critic_score  и user_score на -1 \n",
    "- Посчитали суммарные продажи во всех регионах и записали их в отдельный столбец"
   ]
  },
  {
   "cell_type": "markdown",
   "metadata": {},
   "source": [
    "# Шаг 3. Анализ данных\n",
    "- Посмотрим, сколько игр выпускалось в разные годы. Важны ли данные за все периоды?\n",
    "- Посмотрим, как менялись продажи по платформам. Выберем платформы с наибольшими суммарными продажами и построим распределение по годам.\n",
    "- Возьмем данные за соответствующий актуальный период. Актуальный период определим самостоятельно в результате исследования предыдущих вопросов. \n",
    "- Определим какие платформы лидируют по продажам, растут или падают? Выберем несколько потенциально прибыльных платформ.\n",
    "- Построим график «ящик с усами» по глобальным продажам игр в разбивке по платформам. Опишим результат.\n",
    "- Посмотрим, как влияют на продажи внутри одной популярной платформы отзывы пользователей и критиков. Построим диаграмму рассеяния и посчитаем корреляцию между отзывами и продажами. \n",
    "- Соотнесем выводы с продажами игр на других платформах.\n",
    "- Посмотрим на общее распределение игр по жанрам. "
   ]
  },
  {
   "cell_type": "code",
   "execution_count": 20,
   "metadata": {},
   "outputs": [
    {
     "data": {
      "text/html": [
       "<div>\n",
       "<style scoped>\n",
       "    .dataframe tbody tr th:only-of-type {\n",
       "        vertical-align: middle;\n",
       "    }\n",
       "\n",
       "    .dataframe tbody tr th {\n",
       "        vertical-align: top;\n",
       "    }\n",
       "\n",
       "    .dataframe thead th {\n",
       "        text-align: right;\n",
       "    }\n",
       "</style>\n",
       "<table border=\"1\" class=\"dataframe\">\n",
       "  <thead>\n",
       "    <tr style=\"text-align: right;\">\n",
       "      <th></th>\n",
       "      <th>year_of_release</th>\n",
       "      <th>na_sales</th>\n",
       "      <th>eu_sales</th>\n",
       "      <th>jp_sales</th>\n",
       "      <th>other_sales</th>\n",
       "      <th>critic_score</th>\n",
       "      <th>user_score</th>\n",
       "      <th>total_sales</th>\n",
       "    </tr>\n",
       "  </thead>\n",
       "  <tbody>\n",
       "    <tr>\n",
       "      <th>count</th>\n",
       "      <td>16446.000000</td>\n",
       "      <td>16715.000000</td>\n",
       "      <td>16715.000000</td>\n",
       "      <td>16715.000000</td>\n",
       "      <td>16715.000000</td>\n",
       "      <td>8137.000000</td>\n",
       "      <td>7590.000000</td>\n",
       "      <td>16715.000000</td>\n",
       "    </tr>\n",
       "    <tr>\n",
       "      <th>mean</th>\n",
       "      <td>2006.484616</td>\n",
       "      <td>0.263377</td>\n",
       "      <td>0.145060</td>\n",
       "      <td>0.077617</td>\n",
       "      <td>0.047342</td>\n",
       "      <td>68.967679</td>\n",
       "      <td>7.125046</td>\n",
       "      <td>0.533396</td>\n",
       "    </tr>\n",
       "    <tr>\n",
       "      <th>std</th>\n",
       "      <td>5.877050</td>\n",
       "      <td>0.813604</td>\n",
       "      <td>0.503339</td>\n",
       "      <td>0.308853</td>\n",
       "      <td>0.186731</td>\n",
       "      <td>13.938165</td>\n",
       "      <td>1.500006</td>\n",
       "      <td>1.548261</td>\n",
       "    </tr>\n",
       "    <tr>\n",
       "      <th>min</th>\n",
       "      <td>1980.000000</td>\n",
       "      <td>0.000000</td>\n",
       "      <td>0.000000</td>\n",
       "      <td>0.000000</td>\n",
       "      <td>0.000000</td>\n",
       "      <td>13.000000</td>\n",
       "      <td>0.000000</td>\n",
       "      <td>0.000000</td>\n",
       "    </tr>\n",
       "    <tr>\n",
       "      <th>25%</th>\n",
       "      <td>2003.000000</td>\n",
       "      <td>0.000000</td>\n",
       "      <td>0.000000</td>\n",
       "      <td>0.000000</td>\n",
       "      <td>0.000000</td>\n",
       "      <td>60.000000</td>\n",
       "      <td>6.400000</td>\n",
       "      <td>0.060000</td>\n",
       "    </tr>\n",
       "    <tr>\n",
       "      <th>50%</th>\n",
       "      <td>2007.000000</td>\n",
       "      <td>0.080000</td>\n",
       "      <td>0.020000</td>\n",
       "      <td>0.000000</td>\n",
       "      <td>0.010000</td>\n",
       "      <td>71.000000</td>\n",
       "      <td>7.500000</td>\n",
       "      <td>0.170000</td>\n",
       "    </tr>\n",
       "    <tr>\n",
       "      <th>75%</th>\n",
       "      <td>2010.000000</td>\n",
       "      <td>0.240000</td>\n",
       "      <td>0.110000</td>\n",
       "      <td>0.040000</td>\n",
       "      <td>0.030000</td>\n",
       "      <td>79.000000</td>\n",
       "      <td>8.200000</td>\n",
       "      <td>0.470000</td>\n",
       "    </tr>\n",
       "    <tr>\n",
       "      <th>max</th>\n",
       "      <td>2016.000000</td>\n",
       "      <td>41.360000</td>\n",
       "      <td>28.960000</td>\n",
       "      <td>10.220000</td>\n",
       "      <td>10.570000</td>\n",
       "      <td>98.000000</td>\n",
       "      <td>9.700000</td>\n",
       "      <td>82.540000</td>\n",
       "    </tr>\n",
       "  </tbody>\n",
       "</table>\n",
       "</div>"
      ],
      "text/plain": [
       "       year_of_release      na_sales      eu_sales      jp_sales  \\\n",
       "count     16446.000000  16715.000000  16715.000000  16715.000000   \n",
       "mean       2006.484616      0.263377      0.145060      0.077617   \n",
       "std           5.877050      0.813604      0.503339      0.308853   \n",
       "min        1980.000000      0.000000      0.000000      0.000000   \n",
       "25%        2003.000000      0.000000      0.000000      0.000000   \n",
       "50%        2007.000000      0.080000      0.020000      0.000000   \n",
       "75%        2010.000000      0.240000      0.110000      0.040000   \n",
       "max        2016.000000     41.360000     28.960000     10.220000   \n",
       "\n",
       "        other_sales  critic_score   user_score   total_sales  \n",
       "count  16715.000000   8137.000000  7590.000000  16715.000000  \n",
       "mean       0.047342     68.967679     7.125046      0.533396  \n",
       "std        0.186731     13.938165     1.500006      1.548261  \n",
       "min        0.000000     13.000000     0.000000      0.000000  \n",
       "25%        0.000000     60.000000     6.400000      0.060000  \n",
       "50%        0.010000     71.000000     7.500000      0.170000  \n",
       "75%        0.030000     79.000000     8.200000      0.470000  \n",
       "max       10.570000     98.000000     9.700000     82.540000  "
      ]
     },
     "execution_count": 20,
     "metadata": {},
     "output_type": "execute_result"
    }
   ],
   "source": [
    "games.describe()"
   ]
  },
  {
   "cell_type": "markdown",
   "metadata": {},
   "source": [
    "Выпуск игр в разные годы\n"
   ]
  },
  {
   "cell_type": "code",
   "execution_count": 21,
   "metadata": {},
   "outputs": [
    {
     "data": {
      "text/plain": [
       "(1978.2, 2015.0)"
      ]
     },
     "execution_count": 21,
     "metadata": {},
     "output_type": "execute_result"
    },
    {
     "data": {
      "image/png": "[encoded data removed]",
      "text/plain": [
       "<Figure size 1080x360 with 1 Axes>"
      ]
     },
     "metadata": {
      "needs_background": "light"
     },
     "output_type": "display_data"
    }
   ],
   "source": [
    "games[games['year_of_release'] <= 2016]['year_of_release'].plot(kind='hist',  bins=35, ec='black', figsize = (15,5), color='#92c6ff').legend()\n",
    "plt.xlim(None, 2015)"
   ]
  },
  {
   "cell_type": "code",
   "execution_count": 22,
   "metadata": {},
   "outputs": [
    {
     "data": {
      "text/plain": [
       "2016    502\n",
       "2015    606\n",
       "2014    581\n",
       "2013    544\n",
       "2012    653\n",
       "Name: year_of_release, dtype: Int64"
      ]
     },
     "execution_count": 22,
     "metadata": {},
     "output_type": "execute_result"
    }
   ],
   "source": [
    "games.year_of_release.value_counts().sort_index(ascending=False).head()"
   ]
  },
  {
   "cell_type": "code",
   "execution_count": 23,
   "metadata": {},
   "outputs": [
    {
     "data": {
      "image/png": "[encoded data removed]",
      "text/plain": [
       "<Figure size 864x432 with 1 Axes>"
      ]
     },
     "metadata": {
      "needs_background": "light"
     },
     "output_type": "display_data"
    }
   ],
   "source": [
    "# КОД РЕВЬЮЕРА\n",
    "\n",
    "games.year_of_release.value_counts().sort_index().plot.bar(figsize=(12,6));"
   ]
  },
  {
   "cell_type": "markdown",
   "metadata": {},
   "source": [
    "ВЫВОД:\n",
    "- на графике мы видим, что первые платформы появились 1980 году. с 1993 года начался активный рост, вплоть до 2010. После роста пошел спад, который возможно связан с развитием копьютерный и мобильных игр."
   ]
  },
  {
   "cell_type": "markdown",
   "metadata": {},
   "source": [
    "Изменение продаж по платформам"
   ]
  },
  {
   "cell_type": "code",
   "execution_count": 24,
   "metadata": {},
   "outputs": [
    {
     "data": {
      "text/html": [
       "<div>\n",
       "<style scoped>\n",
       "    .dataframe tbody tr th:only-of-type {\n",
       "        vertical-align: middle;\n",
       "    }\n",
       "\n",
       "    .dataframe tbody tr th {\n",
       "        vertical-align: top;\n",
       "    }\n",
       "\n",
       "    .dataframe thead th {\n",
       "        text-align: right;\n",
       "    }\n",
       "</style>\n",
       "<table border=\"1\" class=\"dataframe\">\n",
       "  <thead>\n",
       "    <tr style=\"text-align: right;\">\n",
       "      <th></th>\n",
       "      <th></th>\n",
       "      <th>total_sales</th>\n",
       "    </tr>\n",
       "    <tr>\n",
       "      <th>platform</th>\n",
       "      <th>year_of_release</th>\n",
       "      <th></th>\n",
       "    </tr>\n",
       "  </thead>\n",
       "  <tbody>\n",
       "    <tr>\n",
       "      <th rowspan=\"5\" valign=\"top\">2600</th>\n",
       "      <th>1980</th>\n",
       "      <td>11.38</td>\n",
       "    </tr>\n",
       "    <tr>\n",
       "      <th>1981</th>\n",
       "      <td>35.68</td>\n",
       "    </tr>\n",
       "    <tr>\n",
       "      <th>1982</th>\n",
       "      <td>28.88</td>\n",
       "    </tr>\n",
       "    <tr>\n",
       "      <th>1983</th>\n",
       "      <td>5.84</td>\n",
       "    </tr>\n",
       "    <tr>\n",
       "      <th>1984</th>\n",
       "      <td>0.27</td>\n",
       "    </tr>\n",
       "  </tbody>\n",
       "</table>\n",
       "</div>"
      ],
      "text/plain": [
       "                          total_sales\n",
       "platform year_of_release             \n",
       "2600     1980                   11.38\n",
       "         1981                   35.68\n",
       "         1982                   28.88\n",
       "         1983                    5.84\n",
       "         1984                    0.27"
      ]
     },
     "execution_count": 24,
     "metadata": {},
     "output_type": "execute_result"
    }
   ],
   "source": [
    "platform_sales = games.groupby(['platform', 'year_of_release']).agg({'total_sales': 'sum'})\n",
    "platform_sales.head()"
   ]
  },
  {
   "cell_type": "code",
   "execution_count": 25,
   "metadata": {},
   "outputs": [
    {
     "data": {
      "text/plain": [
       "<AxesSubplot:xlabel='platform,year_of_release'>"
      ]
     },
     "execution_count": 25,
     "metadata": {},
     "output_type": "execute_result"
    },
    {
     "data": {
      "image/png": "[encoded data removed]",
      "text/plain": [
       "<Figure size 432x288 with 1 Axes>"
      ]
     },
     "metadata": {
      "needs_background": "light"
     },
     "output_type": "display_data"
    }
   ],
   "source": [
    "platform_sales.plot(color='#92c6ff')"
   ]
  },
  {
   "cell_type": "markdown",
   "metadata": {},
   "source": [
    "Наблюдаем активный рост с 1993"
   ]
  },
  {
   "cell_type": "code",
   "execution_count": 26,
   "metadata": {},
   "outputs": [],
   "source": [
    "def platform_sales(df):\n",
    "    return (\n",
    "        df\n",
    "            .pivot_table(index='platform', values='total_sales', aggfunc='sum')\n",
    "            .sort_values('total_sales', ascending=False)\n",
    "    )\n",
    "def platform_sales_plot(df):\n",
    "    (\n",
    "        df\n",
    "            .plot(kind='barh', figsize=(10, 5), ec='black', color='#92c6ff')\n",
    "            .set(xlabel='total_sales', ylabel='platform')\n",
    "    )\n",
    "    plt.show()"
   ]
  },
  {
   "cell_type": "code",
   "execution_count": 27,
   "metadata": {},
   "outputs": [
    {
     "data": {
      "image/png": "[encoded data removed]",
      "text/plain": [
       "<Figure size 720x360 with 1 Axes>"
      ]
     },
     "metadata": {
      "needs_background": "light"
     },
     "output_type": "display_data"
    }
   ],
   "source": [
    "platform_sales_plot(platform_sales(games))"
   ]
  },
  {
   "cell_type": "code",
   "execution_count": 28,
   "metadata": {},
   "outputs": [],
   "source": [
    "best_platform = ['ps2', 'x360', 'ps3', 'wii', 'ds', 'ps', 'gba', 'ps4', 'psp', 'pc']"
   ]
  },
  {
   "cell_type": "code",
   "execution_count": 29,
   "metadata": {},
   "outputs": [
    {
     "data": {
      "text/html": [
       "<div>\n",
       "<style scoped>\n",
       "    .dataframe tbody tr th:only-of-type {\n",
       "        vertical-align: middle;\n",
       "    }\n",
       "\n",
       "    .dataframe tbody tr th {\n",
       "        vertical-align: top;\n",
       "    }\n",
       "\n",
       "    .dataframe thead th {\n",
       "        text-align: right;\n",
       "    }\n",
       "</style>\n",
       "<table border=\"1\" class=\"dataframe\">\n",
       "  <thead>\n",
       "    <tr style=\"text-align: right;\">\n",
       "      <th>platform</th>\n",
       "      <th>2600</th>\n",
       "      <th>3DO</th>\n",
       "      <th>3DS</th>\n",
       "      <th>DC</th>\n",
       "      <th>DS</th>\n",
       "      <th>GB</th>\n",
       "      <th>GBA</th>\n",
       "      <th>GC</th>\n",
       "      <th>GEN</th>\n",
       "      <th>GG</th>\n",
       "      <th>...</th>\n",
       "      <th>SAT</th>\n",
       "      <th>SCD</th>\n",
       "      <th>SNES</th>\n",
       "      <th>TG16</th>\n",
       "      <th>WS</th>\n",
       "      <th>Wii</th>\n",
       "      <th>WiiU</th>\n",
       "      <th>X360</th>\n",
       "      <th>XB</th>\n",
       "      <th>XOne</th>\n",
       "    </tr>\n",
       "    <tr>\n",
       "      <th>year_of_release</th>\n",
       "      <th></th>\n",
       "      <th></th>\n",
       "      <th></th>\n",
       "      <th></th>\n",
       "      <th></th>\n",
       "      <th></th>\n",
       "      <th></th>\n",
       "      <th></th>\n",
       "      <th></th>\n",
       "      <th></th>\n",
       "      <th></th>\n",
       "      <th></th>\n",
       "      <th></th>\n",
       "      <th></th>\n",
       "      <th></th>\n",
       "      <th></th>\n",
       "      <th></th>\n",
       "      <th></th>\n",
       "      <th></th>\n",
       "      <th></th>\n",
       "      <th></th>\n",
       "    </tr>\n",
       "  </thead>\n",
       "  <tbody>\n",
       "    <tr>\n",
       "      <th>1980</th>\n",
       "      <td>11.38</td>\n",
       "      <td>NaN</td>\n",
       "      <td>NaN</td>\n",
       "      <td>NaN</td>\n",
       "      <td>NaN</td>\n",
       "      <td>NaN</td>\n",
       "      <td>NaN</td>\n",
       "      <td>NaN</td>\n",
       "      <td>NaN</td>\n",
       "      <td>NaN</td>\n",
       "      <td>...</td>\n",
       "      <td>NaN</td>\n",
       "      <td>NaN</td>\n",
       "      <td>NaN</td>\n",
       "      <td>NaN</td>\n",
       "      <td>NaN</td>\n",
       "      <td>NaN</td>\n",
       "      <td>NaN</td>\n",
       "      <td>NaN</td>\n",
       "      <td>NaN</td>\n",
       "      <td>NaN</td>\n",
       "    </tr>\n",
       "    <tr>\n",
       "      <th>1981</th>\n",
       "      <td>35.68</td>\n",
       "      <td>NaN</td>\n",
       "      <td>NaN</td>\n",
       "      <td>NaN</td>\n",
       "      <td>NaN</td>\n",
       "      <td>NaN</td>\n",
       "      <td>NaN</td>\n",
       "      <td>NaN</td>\n",
       "      <td>NaN</td>\n",
       "      <td>NaN</td>\n",
       "      <td>...</td>\n",
       "      <td>NaN</td>\n",
       "      <td>NaN</td>\n",
       "      <td>NaN</td>\n",
       "      <td>NaN</td>\n",
       "      <td>NaN</td>\n",
       "      <td>NaN</td>\n",
       "      <td>NaN</td>\n",
       "      <td>NaN</td>\n",
       "      <td>NaN</td>\n",
       "      <td>NaN</td>\n",
       "    </tr>\n",
       "    <tr>\n",
       "      <th>1982</th>\n",
       "      <td>28.88</td>\n",
       "      <td>NaN</td>\n",
       "      <td>NaN</td>\n",
       "      <td>NaN</td>\n",
       "      <td>NaN</td>\n",
       "      <td>NaN</td>\n",
       "      <td>NaN</td>\n",
       "      <td>NaN</td>\n",
       "      <td>NaN</td>\n",
       "      <td>NaN</td>\n",
       "      <td>...</td>\n",
       "      <td>NaN</td>\n",
       "      <td>NaN</td>\n",
       "      <td>NaN</td>\n",
       "      <td>NaN</td>\n",
       "      <td>NaN</td>\n",
       "      <td>NaN</td>\n",
       "      <td>NaN</td>\n",
       "      <td>NaN</td>\n",
       "      <td>NaN</td>\n",
       "      <td>NaN</td>\n",
       "    </tr>\n",
       "    <tr>\n",
       "      <th>1983</th>\n",
       "      <td>5.84</td>\n",
       "      <td>NaN</td>\n",
       "      <td>NaN</td>\n",
       "      <td>NaN</td>\n",
       "      <td>NaN</td>\n",
       "      <td>NaN</td>\n",
       "      <td>NaN</td>\n",
       "      <td>NaN</td>\n",
       "      <td>NaN</td>\n",
       "      <td>NaN</td>\n",
       "      <td>...</td>\n",
       "      <td>NaN</td>\n",
       "      <td>NaN</td>\n",
       "      <td>NaN</td>\n",
       "      <td>NaN</td>\n",
       "      <td>NaN</td>\n",
       "      <td>NaN</td>\n",
       "      <td>NaN</td>\n",
       "      <td>NaN</td>\n",
       "      <td>NaN</td>\n",
       "      <td>NaN</td>\n",
       "    </tr>\n",
       "    <tr>\n",
       "      <th>1984</th>\n",
       "      <td>0.27</td>\n",
       "      <td>NaN</td>\n",
       "      <td>NaN</td>\n",
       "      <td>NaN</td>\n",
       "      <td>NaN</td>\n",
       "      <td>NaN</td>\n",
       "      <td>NaN</td>\n",
       "      <td>NaN</td>\n",
       "      <td>NaN</td>\n",
       "      <td>NaN</td>\n",
       "      <td>...</td>\n",
       "      <td>NaN</td>\n",
       "      <td>NaN</td>\n",
       "      <td>NaN</td>\n",
       "      <td>NaN</td>\n",
       "      <td>NaN</td>\n",
       "      <td>NaN</td>\n",
       "      <td>NaN</td>\n",
       "      <td>NaN</td>\n",
       "      <td>NaN</td>\n",
       "      <td>NaN</td>\n",
       "    </tr>\n",
       "  </tbody>\n",
       "</table>\n",
       "<p>5 rows × 31 columns</p>\n",
       "</div>"
      ],
      "text/plain": [
       "platform          2600  3DO  3DS  DC  DS  GB  GBA  GC  GEN  GG  ...  SAT  SCD  \\\n",
       "year_of_release                                                 ...             \n",
       "1980             11.38  NaN  NaN NaN NaN NaN  NaN NaN  NaN NaN  ...  NaN  NaN   \n",
       "1981             35.68  NaN  NaN NaN NaN NaN  NaN NaN  NaN NaN  ...  NaN  NaN   \n",
       "1982             28.88  NaN  NaN NaN NaN NaN  NaN NaN  NaN NaN  ...  NaN  NaN   \n",
       "1983              5.84  NaN  NaN NaN NaN NaN  NaN NaN  NaN NaN  ...  NaN  NaN   \n",
       "1984              0.27  NaN  NaN NaN NaN NaN  NaN NaN  NaN NaN  ...  NaN  NaN   \n",
       "\n",
       "platform         SNES  TG16  WS  Wii  WiiU  X360  XB  XOne  \n",
       "year_of_release                                             \n",
       "1980              NaN   NaN NaN  NaN   NaN   NaN NaN   NaN  \n",
       "1981              NaN   NaN NaN  NaN   NaN   NaN NaN   NaN  \n",
       "1982              NaN   NaN NaN  NaN   NaN   NaN NaN   NaN  \n",
       "1983              NaN   NaN NaN  NaN   NaN   NaN NaN   NaN  \n",
       "1984              NaN   NaN NaN  NaN   NaN   NaN NaN   NaN  \n",
       "\n",
       "[5 rows x 31 columns]"
      ]
     },
     "metadata": {},
     "output_type": "display_data"
    }
   ],
   "source": [
    "games_platform_sales = pd.pivot_table(games, index='year_of_release', columns='platform', values='total_sales', aggfunc='sum')\n",
    "display(games_platform_sales.head())"
   ]
  },
  {
   "cell_type": "code",
   "execution_count": 30,
   "metadata": {},
   "outputs": [
    {
     "data": {
      "image/png": "[encoded data removed]",
      "text/plain": [
       "<Figure size 1152x720 with 1 Axes>"
      ]
     },
     "metadata": {
      "needs_background": "light"
     },
     "output_type": "display_data"
    }
   ],
   "source": [
    "games_platform_sales.plot(figsize=(16,10))\n",
    "plt.grid(True)\n",
    "plt.xlabel('Года',fontsize=12, color='red')\n",
    "plt.ylabel('Продажи млн.',fontsize=12, color='red')\n",
    "plt.title('Продажи по годам и платформам', fontsize=17, color='blue')\n",
    "plt.show()"
   ]
  },
  {
   "cell_type": "markdown",
   "metadata": {},
   "source": [
    "Вывод:\n",
    "\n",
    "Из графика мы видим, что актуальный период приблизительно 10 лет. За 10 лет появляются новые платформы, а старые уходят в небытие. Также каждая платформа в среднем живет 10 лет, следствием этого является то, что рынок постоянно модернезируется, появляется много новых платформ, старые просто уступают им."
   ]
  },
  {
   "cell_type": "markdown",
   "metadata": {},
   "source": [
    "Возьмем за актуальный период крайние 6 лет рассматриваемой выборки. Итак, актуальным периодом получаются 2010 - 2016 гг. Уменьшили период с 10 летнего до 6 летнего, чтобы рассмотреть последние поколения платформ.\n"
   ]
  },
  {
   "cell_type": "code",
   "execution_count": 31,
   "metadata": {},
   "outputs": [],
   "source": [
    "current_period = (games['year_of_release'] > 2012) & (games['year_of_release'] <= 2016)\n",
    "current_period = games.loc[current_period]"
   ]
  },
  {
   "cell_type": "code",
   "execution_count": 32,
   "metadata": {},
   "outputs": [
    {
     "data": {
      "image/png": "[encoded data removed]",
      "text/plain": [
       "<Figure size 720x360 with 1 Axes>"
      ]
     },
     "metadata": {
      "needs_background": "light"
     },
     "output_type": "display_data"
    }
   ],
   "source": [
    "total_sales = platform_sales(current_period)\n",
    "platform_sales_plot(total_sales)"
   ]
  },
  {
   "cell_type": "code",
   "execution_count": 33,
   "metadata": {},
   "outputs": [],
   "source": [
    "best_platform_in_current_period = ['ps3', 'x360', 'ps4', '3ds', 'xone', 'pc']"
   ]
  },
  {
   "cell_type": "markdown",
   "metadata": {},
   "source": [
    "Вывод:\n",
    "\n",
    "По продажам за последние 6 лет лидируют: ps4, ps3, XOne, 3DS, x360."
   ]
  },
  {
   "cell_type": "markdown",
   "metadata": {},
   "source": [
    "Какие платформы лидируют по продажам, растут или падают? Выберите несколько потенциально прибыльных платформ."
   ]
  },
  {
   "cell_type": "markdown",
   "metadata": {},
   "source": [
    "Вывод:\n",
    "\n",
    "Исходя из графиков видно, что большинство платформ испытывают спад.\n",
    "\n",
    "Потенциально прибыльные платформы на 2017 год:\n",
    "\n",
    "PS4\n",
    "Xone\n",
    "\n",
    "При этом количество выпускаемых игр падает"
   ]
  },
  {
   "cell_type": "code",
   "execution_count": 34,
   "metadata": {
    "scrolled": true
   },
   "outputs": [
    {
     "data": {
      "text/html": [
       "<div>\n",
       "<style scoped>\n",
       "    .dataframe tbody tr th:only-of-type {\n",
       "        vertical-align: middle;\n",
       "    }\n",
       "\n",
       "    .dataframe tbody tr th {\n",
       "        vertical-align: top;\n",
       "    }\n",
       "\n",
       "    .dataframe thead th {\n",
       "        text-align: right;\n",
       "    }\n",
       "</style>\n",
       "<table border=\"1\" class=\"dataframe\">\n",
       "  <thead>\n",
       "    <tr style=\"text-align: right;\">\n",
       "      <th>platform</th>\n",
       "      <th>3DS</th>\n",
       "      <th>DS</th>\n",
       "      <th>PC</th>\n",
       "      <th>PS3</th>\n",
       "      <th>PS4</th>\n",
       "      <th>PSP</th>\n",
       "      <th>PSV</th>\n",
       "      <th>Wii</th>\n",
       "      <th>WiiU</th>\n",
       "      <th>X360</th>\n",
       "      <th>XOne</th>\n",
       "    </tr>\n",
       "    <tr>\n",
       "      <th>year_of_release</th>\n",
       "      <th></th>\n",
       "      <th></th>\n",
       "      <th></th>\n",
       "      <th></th>\n",
       "      <th></th>\n",
       "      <th></th>\n",
       "      <th></th>\n",
       "      <th></th>\n",
       "      <th></th>\n",
       "      <th></th>\n",
       "      <th></th>\n",
       "    </tr>\n",
       "  </thead>\n",
       "  <tbody>\n",
       "    <tr>\n",
       "      <th>2015</th>\n",
       "      <td>27.78</td>\n",
       "      <td>NaN</td>\n",
       "      <td>8.52</td>\n",
       "      <td>16.82</td>\n",
       "      <td>118.90</td>\n",
       "      <td>0.12</td>\n",
       "      <td>6.25</td>\n",
       "      <td>1.14</td>\n",
       "      <td>16.35</td>\n",
       "      <td>11.96</td>\n",
       "      <td>60.14</td>\n",
       "    </tr>\n",
       "    <tr>\n",
       "      <th>2016</th>\n",
       "      <td>15.14</td>\n",
       "      <td>NaN</td>\n",
       "      <td>5.25</td>\n",
       "      <td>3.60</td>\n",
       "      <td>69.25</td>\n",
       "      <td>NaN</td>\n",
       "      <td>4.25</td>\n",
       "      <td>0.18</td>\n",
       "      <td>4.60</td>\n",
       "      <td>1.52</td>\n",
       "      <td>26.15</td>\n",
       "    </tr>\n",
       "  </tbody>\n",
       "</table>\n",
       "</div>"
      ],
      "text/plain": [
       "platform           3DS  DS    PC    PS3     PS4   PSP   PSV   Wii   WiiU  \\\n",
       "year_of_release                                                            \n",
       "2015             27.78 NaN  8.52  16.82  118.90  0.12  6.25  1.14  16.35   \n",
       "2016             15.14 NaN  5.25   3.60   69.25   NaN  4.25  0.18   4.60   \n",
       "\n",
       "platform          X360   XOne  \n",
       "year_of_release                \n",
       "2015             11.96  60.14  \n",
       "2016              1.52  26.15  "
      ]
     },
     "execution_count": 34,
     "metadata": {},
     "output_type": "execute_result"
    }
   ],
   "source": [
    "current_period.pivot_table(index='year_of_release', columns='platform', values='total_sales', aggfunc='sum').loc[[2015, 2016]]"
   ]
  },
  {
   "cell_type": "markdown",
   "metadata": {},
   "source": [
    "Постройте график «ящик с усами» по глобальным продажам игр в разбивке по платформам. Опишите результат."
   ]
  },
  {
   "cell_type": "code",
   "execution_count": 35,
   "metadata": {
    "scrolled": false
   },
   "outputs": [
    {
     "data": {
      "text/plain": [
       "(0.0, 3.0)"
      ]
     },
     "execution_count": 35,
     "metadata": {},
     "output_type": "execute_result"
    },
    {
     "data": {
      "image/png": "[encoded data removed]",
      "text/plain": [
       "<Figure size 360x360 with 1 Axes>"
      ]
     },
     "metadata": {
      "needs_background": "light"
     },
     "output_type": "display_data"
    }
   ],
   "source": [
    "games.boxplot('total_sales', figsize=(5,5)).set_ylim(0, 3)"
   ]
  },
  {
   "cell_type": "code",
   "execution_count": 36,
   "metadata": {},
   "outputs": [],
   "source": [
    "def total_sales_best_platform(name, df):\n",
    "    return (\n",
    "        df\n",
    "            .query(\"platform == @name\")\n",
    "            .pivot_table(index='year_of_release', values='total_sales', aggfunc='sum')\n",
    "            .sort_values('year_of_release', ascending=False)\n",
    "    )"
   ]
  },
  {
   "cell_type": "code",
   "execution_count": 73,
   "metadata": {},
   "outputs": [
    {
     "data": {
      "text/html": [
       "<div>\n",
       "<style scoped>\n",
       "    .dataframe tbody tr th:only-of-type {\n",
       "        vertical-align: middle;\n",
       "    }\n",
       "\n",
       "    .dataframe tbody tr th {\n",
       "        vertical-align: top;\n",
       "    }\n",
       "\n",
       "    .dataframe thead th {\n",
       "        text-align: right;\n",
       "    }\n",
       "</style>\n",
       "<table border=\"1\" class=\"dataframe\">\n",
       "  <thead>\n",
       "    <tr style=\"text-align: right;\">\n",
       "      <th></th>\n",
       "      <th>name</th>\n",
       "      <th>platform</th>\n",
       "      <th>year_of_release</th>\n",
       "      <th>genre</th>\n",
       "      <th>na_sales</th>\n",
       "      <th>eu_sales</th>\n",
       "      <th>jp_sales</th>\n",
       "      <th>other_sales</th>\n",
       "      <th>critic_score</th>\n",
       "      <th>user_score</th>\n",
       "      <th>rating</th>\n",
       "      <th>total_sales</th>\n",
       "    </tr>\n",
       "  </thead>\n",
       "  <tbody>\n",
       "    <tr>\n",
       "      <th>16</th>\n",
       "      <td>Grand Theft Auto V</td>\n",
       "      <td>PS3</td>\n",
       "      <td>2013</td>\n",
       "      <td>Action</td>\n",
       "      <td>7.02</td>\n",
       "      <td>9.09</td>\n",
       "      <td>0.98</td>\n",
       "      <td>3.96</td>\n",
       "      <td>97.0</td>\n",
       "      <td>8.2</td>\n",
       "      <td>M</td>\n",
       "      <td>21.05</td>\n",
       "    </tr>\n",
       "    <tr>\n",
       "      <th>23</th>\n",
       "      <td>Grand Theft Auto V</td>\n",
       "      <td>X360</td>\n",
       "      <td>2013</td>\n",
       "      <td>Action</td>\n",
       "      <td>9.66</td>\n",
       "      <td>5.14</td>\n",
       "      <td>0.06</td>\n",
       "      <td>1.41</td>\n",
       "      <td>97.0</td>\n",
       "      <td>8.1</td>\n",
       "      <td>M</td>\n",
       "      <td>16.27</td>\n",
       "    </tr>\n",
       "    <tr>\n",
       "      <th>31</th>\n",
       "      <td>Call of Duty: Black Ops 3</td>\n",
       "      <td>PS4</td>\n",
       "      <td>2015</td>\n",
       "      <td>Shooter</td>\n",
       "      <td>6.03</td>\n",
       "      <td>5.86</td>\n",
       "      <td>0.36</td>\n",
       "      <td>2.38</td>\n",
       "      <td>NaN</td>\n",
       "      <td>NaN</td>\n",
       "      <td>without_rating</td>\n",
       "      <td>14.63</td>\n",
       "    </tr>\n",
       "    <tr>\n",
       "      <th>33</th>\n",
       "      <td>Pokemon X/Pokemon Y</td>\n",
       "      <td>3DS</td>\n",
       "      <td>2013</td>\n",
       "      <td>Role-Playing</td>\n",
       "      <td>5.28</td>\n",
       "      <td>4.19</td>\n",
       "      <td>4.35</td>\n",
       "      <td>0.78</td>\n",
       "      <td>NaN</td>\n",
       "      <td>NaN</td>\n",
       "      <td>without_rating</td>\n",
       "      <td>14.60</td>\n",
       "    </tr>\n",
       "    <tr>\n",
       "      <th>42</th>\n",
       "      <td>Grand Theft Auto V</td>\n",
       "      <td>PS4</td>\n",
       "      <td>2014</td>\n",
       "      <td>Action</td>\n",
       "      <td>3.96</td>\n",
       "      <td>6.31</td>\n",
       "      <td>0.38</td>\n",
       "      <td>1.97</td>\n",
       "      <td>97.0</td>\n",
       "      <td>8.3</td>\n",
       "      <td>M</td>\n",
       "      <td>12.62</td>\n",
       "    </tr>\n",
       "    <tr>\n",
       "      <th>...</th>\n",
       "      <td>...</td>\n",
       "      <td>...</td>\n",
       "      <td>...</td>\n",
       "      <td>...</td>\n",
       "      <td>...</td>\n",
       "      <td>...</td>\n",
       "      <td>...</td>\n",
       "      <td>...</td>\n",
       "      <td>...</td>\n",
       "      <td>...</td>\n",
       "      <td>...</td>\n",
       "      <td>...</td>\n",
       "    </tr>\n",
       "    <tr>\n",
       "      <th>16703</th>\n",
       "      <td>Strawberry Nauts</td>\n",
       "      <td>PSV</td>\n",
       "      <td>2016</td>\n",
       "      <td>Adventure</td>\n",
       "      <td>0.00</td>\n",
       "      <td>0.00</td>\n",
       "      <td>0.01</td>\n",
       "      <td>0.00</td>\n",
       "      <td>NaN</td>\n",
       "      <td>NaN</td>\n",
       "      <td>without_rating</td>\n",
       "      <td>0.01</td>\n",
       "    </tr>\n",
       "    <tr>\n",
       "      <th>16707</th>\n",
       "      <td>Aiyoku no Eustia</td>\n",
       "      <td>PSV</td>\n",
       "      <td>2014</td>\n",
       "      <td>Misc</td>\n",
       "      <td>0.00</td>\n",
       "      <td>0.00</td>\n",
       "      <td>0.01</td>\n",
       "      <td>0.00</td>\n",
       "      <td>NaN</td>\n",
       "      <td>NaN</td>\n",
       "      <td>without_rating</td>\n",
       "      <td>0.01</td>\n",
       "    </tr>\n",
       "    <tr>\n",
       "      <th>16710</th>\n",
       "      <td>Samurai Warriors: Sanada Maru</td>\n",
       "      <td>PS3</td>\n",
       "      <td>2016</td>\n",
       "      <td>Action</td>\n",
       "      <td>0.00</td>\n",
       "      <td>0.00</td>\n",
       "      <td>0.01</td>\n",
       "      <td>0.00</td>\n",
       "      <td>NaN</td>\n",
       "      <td>NaN</td>\n",
       "      <td>without_rating</td>\n",
       "      <td>0.01</td>\n",
       "    </tr>\n",
       "    <tr>\n",
       "      <th>16712</th>\n",
       "      <td>Haitaka no Psychedelica</td>\n",
       "      <td>PSV</td>\n",
       "      <td>2016</td>\n",
       "      <td>Adventure</td>\n",
       "      <td>0.00</td>\n",
       "      <td>0.00</td>\n",
       "      <td>0.01</td>\n",
       "      <td>0.00</td>\n",
       "      <td>NaN</td>\n",
       "      <td>NaN</td>\n",
       "      <td>without_rating</td>\n",
       "      <td>0.01</td>\n",
       "    </tr>\n",
       "    <tr>\n",
       "      <th>16714</th>\n",
       "      <td>Winning Post 8 2016</td>\n",
       "      <td>PSV</td>\n",
       "      <td>2016</td>\n",
       "      <td>Simulation</td>\n",
       "      <td>0.00</td>\n",
       "      <td>0.00</td>\n",
       "      <td>0.01</td>\n",
       "      <td>0.00</td>\n",
       "      <td>NaN</td>\n",
       "      <td>NaN</td>\n",
       "      <td>without_rating</td>\n",
       "      <td>0.01</td>\n",
       "    </tr>\n",
       "  </tbody>\n",
       "</table>\n",
       "<p>2233 rows × 12 columns</p>\n",
       "</div>"
      ],
      "text/plain": [
       "                                name platform  year_of_release         genre  \\\n",
       "16                Grand Theft Auto V      PS3             2013        Action   \n",
       "23                Grand Theft Auto V     X360             2013        Action   \n",
       "31         Call of Duty: Black Ops 3      PS4             2015       Shooter   \n",
       "33               Pokemon X/Pokemon Y      3DS             2013  Role-Playing   \n",
       "42                Grand Theft Auto V      PS4             2014        Action   \n",
       "...                              ...      ...              ...           ...   \n",
       "16703               Strawberry Nauts      PSV             2016     Adventure   \n",
       "16707               Aiyoku no Eustia      PSV             2014          Misc   \n",
       "16710  Samurai Warriors: Sanada Maru      PS3             2016        Action   \n",
       "16712        Haitaka no Psychedelica      PSV             2016     Adventure   \n",
       "16714            Winning Post 8 2016      PSV             2016    Simulation   \n",
       "\n",
       "       na_sales  eu_sales  jp_sales  other_sales  critic_score  user_score  \\\n",
       "16         7.02      9.09      0.98         3.96          97.0         8.2   \n",
       "23         9.66      5.14      0.06         1.41          97.0         8.1   \n",
       "31         6.03      5.86      0.36         2.38           NaN         NaN   \n",
       "33         5.28      4.19      4.35         0.78           NaN         NaN   \n",
       "42         3.96      6.31      0.38         1.97          97.0         8.3   \n",
       "...         ...       ...       ...          ...           ...         ...   \n",
       "16703      0.00      0.00      0.01         0.00           NaN         NaN   \n",
       "16707      0.00      0.00      0.01         0.00           NaN         NaN   \n",
       "16710      0.00      0.00      0.01         0.00           NaN         NaN   \n",
       "16712      0.00      0.00      0.01         0.00           NaN         NaN   \n",
       "16714      0.00      0.00      0.01         0.00           NaN         NaN   \n",
       "\n",
       "               rating  total_sales  \n",
       "16                  M        21.05  \n",
       "23                  M        16.27  \n",
       "31     without_rating        14.63  \n",
       "33     without_rating        14.60  \n",
       "42                  M        12.62  \n",
       "...               ...          ...  \n",
       "16703  without_rating         0.01  \n",
       "16707  without_rating         0.01  \n",
       "16710  without_rating         0.01  \n",
       "16712  without_rating         0.01  \n",
       "16714  without_rating         0.01  \n",
       "\n",
       "[2233 rows x 12 columns]"
      ]
     },
     "execution_count": 73,
     "metadata": {},
     "output_type": "execute_result"
    }
   ],
   "source": [
    "current_period"
   ]
  },
  {
   "cell_type": "markdown",
   "metadata": {},
   "source": [
    "<div style=\"border-radius: 15px; border: 3px solid black; padding: 15px; \">\n",
    "<b> Комментарий ревьюера 2 </b>\n",
    "    \n",
    "А вот и причина: в таблице консоли прописаны заглавными буквами.\n",
    "\n",
    "\n",
    "Однако нам все-таки лучше не несколько графиков рядом изобразить, а несколько боксов на одном графике. Делается это просто: </div>"
   ]
  },
  {
   "cell_type": "code",
   "execution_count": 74,
   "metadata": {
    "scrolled": false
   },
   "outputs": [
    {
     "data": {
      "text/plain": [
       "(0.0, 3.0)"
      ]
     },
     "execution_count": 74,
     "metadata": {},
     "output_type": "execute_result"
    },
    {
     "data": {
      "image/png": "[encoded data removed]",
      "text/plain": [
       "<Figure size 864x504 with 1 Axes>"
      ]
     },
     "metadata": {
      "needs_background": "light"
     },
     "output_type": "display_data"
    }
   ],
   "source": [
    "current_period.boxplot('total_sales', by='platform', figsize=(12,7))\n",
    "plt.ylim(0,3)"
   ]
  },
  {
   "cell_type": "markdown",
   "metadata": {},
   "source": [
    "ВЫВОД:\n",
    "    \n",
    "- Наиболее перспективными платформами за последние 6 лет можно назвать: x360, ps3 и ps4.\n",
    "- Медиана по топовым платформам в промежетке 0.2-0.3 млн долларов прибыли за игру.\n",
    "- Самая большая верхняя граница предела, за которыми уже определяются аномалии у платформы PS4, приблизительно 1.7 млн долларов"
   ]
  },
  {
   "cell_type": "markdown",
   "metadata": {},
   "source": [
    "Посмотрите, как влияют на продажи внутри одной популярной платформы отзывы пользователей и критиков. Постройте диаграмму рассеяния и посчитайте корреляцию между отзывами и продажами. Сформулируйте выводы."
   ]
  },
  {
   "cell_type": "markdown",
   "metadata": {},
   "source": [
    "Отзывы критиков"
   ]
  },
  {
   "cell_type": "code",
   "execution_count": 42,
   "metadata": {
    "scrolled": true
   },
   "outputs": [
    {
     "data": {
      "text/plain": [
       "<AxesSubplot:xlabel='critic_score', ylabel='total_sales'>"
      ]
     },
     "execution_count": 42,
     "metadata": {},
     "output_type": "execute_result"
    },
    {
     "data": {
      "image/png": "[encoded data removed]",
      "text/plain": [
       "<Figure size 360x360 with 1 Axes>"
      ]
     },
     "metadata": {
      "needs_background": "light"
     },
     "output_type": "display_data"
    }
   ],
   "source": [
    "ps3 = current_period[(current_period['platform'] == 'PS3') & (current_period['critic_score'] >0)].copy()\n",
    "ps3.plot(kind='scatter', x='critic_score', y='total_sales', figsize=(5,5), color='#92c6ff', alpha=0.5)"
   ]
  },
  {
   "cell_type": "markdown",
   "metadata": {},
   "source": [
    "Отзывы пользователей"
   ]
  },
  {
   "cell_type": "code",
   "execution_count": 43,
   "metadata": {},
   "outputs": [
    {
     "data": {
      "text/plain": [
       "<AxesSubplot:xlabel='user_score', ylabel='total_sales'>"
      ]
     },
     "execution_count": 43,
     "metadata": {},
     "output_type": "execute_result"
    },
    {
     "data": {
      "image/png": "[encoded data removed]",
      "text/plain": [
       "<Figure size 360x360 with 1 Axes>"
      ]
     },
     "metadata": {
      "needs_background": "light"
     },
     "output_type": "display_data"
    }
   ],
   "source": [
    "ps3_users = current_period[(current_period['platform'] == 'PS3') & (current_period['user_score'] >0)].copy()\n",
    "ps3_users.plot(kind='scatter', x='user_score', y='total_sales', figsize=(5,5), color='#d71868', alpha=0.5)"
   ]
  },
  {
   "cell_type": "code",
   "execution_count": 44,
   "metadata": {},
   "outputs": [
    {
     "data": {
      "text/html": [
       "<div>\n",
       "<style scoped>\n",
       "    .dataframe tbody tr th:only-of-type {\n",
       "        vertical-align: middle;\n",
       "    }\n",
       "\n",
       "    .dataframe tbody tr th {\n",
       "        vertical-align: top;\n",
       "    }\n",
       "\n",
       "    .dataframe thead th {\n",
       "        text-align: right;\n",
       "    }\n",
       "</style>\n",
       "<table border=\"1\" class=\"dataframe\">\n",
       "  <thead>\n",
       "    <tr style=\"text-align: right;\">\n",
       "      <th></th>\n",
       "      <th>total_sales</th>\n",
       "      <th>critic_score</th>\n",
       "      <th>user_score</th>\n",
       "    </tr>\n",
       "  </thead>\n",
       "  <tbody>\n",
       "    <tr>\n",
       "      <th>total_sales</th>\n",
       "      <td>1.000000</td>\n",
       "      <td>0.333807</td>\n",
       "      <td>0.002394</td>\n",
       "    </tr>\n",
       "    <tr>\n",
       "      <th>critic_score</th>\n",
       "      <td>0.333807</td>\n",
       "      <td>1.000000</td>\n",
       "      <td>0.599920</td>\n",
       "    </tr>\n",
       "    <tr>\n",
       "      <th>user_score</th>\n",
       "      <td>0.002394</td>\n",
       "      <td>0.599920</td>\n",
       "      <td>1.000000</td>\n",
       "    </tr>\n",
       "  </tbody>\n",
       "</table>\n",
       "</div>"
      ],
      "text/plain": [
       "              total_sales  critic_score  user_score\n",
       "total_sales      1.000000      0.333807    0.002394\n",
       "critic_score     0.333807      1.000000    0.599920\n",
       "user_score       0.002394      0.599920    1.000000"
      ]
     },
     "execution_count": 44,
     "metadata": {},
     "output_type": "execute_result"
    }
   ],
   "source": [
    "current_period_ps3_users = ps3_users[['total_sales' ,'critic_score', 'user_score']]\n",
    "current_period_ps3_users.corr()"
   ]
  },
  {
   "cell_type": "markdown",
   "metadata": {},
   "source": [
    "- Отзывы пользователей не влияют на продажи\n",
    "- Есть связь между отзывами критиков и продажами"
   ]
  },
  {
   "cell_type": "markdown",
   "metadata": {},
   "source": [
    "матрица корреляции"
   ]
  },
  {
   "cell_type": "code",
   "execution_count": 75,
   "metadata": {
    "scrolled": true
   },
   "outputs": [
    {
     "data": {
      "text/plain": [
       "array([97., 71., 86., 95., nan, 88., 80., 81., 76., 84., 82., 94., 70.,\n",
       "       72., 91., 85., 78., 74., 66., 83., 75., 77., 55., 87., 73., 43.,\n",
       "       62., 68., 34., 61., 93., 69., 59., 52., 54., 49., 58., 64., 53.,\n",
       "       63., 65., 67., 90., 40., 56., 36., 51., 57., 13., 50.])"
      ]
     },
     "execution_count": 75,
     "metadata": {},
     "output_type": "execute_result"
    }
   ],
   "source": [
    "current_period_ps3_users.critic_score.unique()"
   ]
  },
  {
   "cell_type": "markdown",
   "metadata": {},
   "source": [
    "выделим нужные данные"
   ]
  },
  {
   "cell_type": "code",
   "execution_count": 46,
   "metadata": {},
   "outputs": [],
   "source": [
    "current_period_ps3_users_filtered = current_period_ps3_users[['total_sales' ,'critic_score', 'user_score']]"
   ]
  },
  {
   "cell_type": "code",
   "execution_count": 47,
   "metadata": {
    "scrolled": false
   },
   "outputs": [
    {
     "data": {
      "text/plain": [
       "<AxesSubplot:>"
      ]
     },
     "execution_count": 47,
     "metadata": {},
     "output_type": "execute_result"
    },
    {
     "data": {
      "image/png": "[encoded data removed]",
      "text/plain": [
       "<Figure size 72x216 with 2 Axes>"
      ]
     },
     "metadata": {
      "needs_background": "light"
     },
     "output_type": "display_data"
    }
   ],
   "source": [
    "#данные по ps3\n",
    "plt.figure(figsize=(1,3))\n",
    "sns.heatmap(current_period_ps3_users_filtered.corr()[['total_sales']].sort_values(by='total_sales', ascending=False), cmap=\"Greens\", \n",
    "            annot=True, annot_kws={'size':15})"
   ]
  },
  {
   "cell_type": "code",
   "execution_count": 48,
   "metadata": {},
   "outputs": [],
   "source": [
    "current_period_x360 = current_period[(current_period['platform'] == 'X360') & (current_period['user_score'] > 0)].copy()"
   ]
  },
  {
   "cell_type": "code",
   "execution_count": 49,
   "metadata": {},
   "outputs": [],
   "source": [
    "current_period_x360_filtered = current_period_x360[['total_sales' ,'critic_score', 'user_score']]"
   ]
  },
  {
   "cell_type": "code",
   "execution_count": 50,
   "metadata": {},
   "outputs": [
    {
     "data": {
      "text/plain": [
       "<AxesSubplot:>"
      ]
     },
     "execution_count": 50,
     "metadata": {},
     "output_type": "execute_result"
    },
    {
     "data": {
      "image/png": "[encoded data removed]",
      "text/plain": [
       "<Figure size 72x216 with 2 Axes>"
      ]
     },
     "metadata": {
      "needs_background": "light"
     },
     "output_type": "display_data"
    }
   ],
   "source": [
    "#данные по xbox360\n",
    "plt.figure(figsize=(1,3))\n",
    "sns.heatmap(current_period_x360_filtered.corr()[['total_sales']].sort_values(by='total_sales', ascending=False), cmap=\"Greens\", \n",
    "            annot=True, annot_kws={'size':15})"
   ]
  },
  {
   "cell_type": "code",
   "execution_count": 51,
   "metadata": {},
   "outputs": [],
   "source": [
    "current_period_3ds = current_period[(current_period['platform'] == '3DS') & (current_period['user_score'] > 0)].copy()"
   ]
  },
  {
   "cell_type": "code",
   "execution_count": 52,
   "metadata": {},
   "outputs": [],
   "source": [
    "current_period_3ds_filtered = current_period_3ds[['total_sales' ,'critic_score', 'user_score']]"
   ]
  },
  {
   "cell_type": "code",
   "execution_count": 53,
   "metadata": {},
   "outputs": [
    {
     "data": {
      "text/plain": [
       "<AxesSubplot:>"
      ]
     },
     "execution_count": 53,
     "metadata": {},
     "output_type": "execute_result"
    },
    {
     "data": {
      "image/png": "[encoded data removed]",
      "text/plain": [
       "<Figure size 72x216 with 2 Axes>"
      ]
     },
     "metadata": {
      "needs_background": "light"
     },
     "output_type": "display_data"
    }
   ],
   "source": [
    "#данные по 3ds\n",
    "plt.figure(figsize=(1,3))\n",
    "sns.heatmap(current_period_3ds_filtered.corr()[['total_sales']].sort_values(by='total_sales', ascending=False), cmap=\"Greens\", \n",
    "            annot=True, annot_kws={'size':15})"
   ]
  },
  {
   "cell_type": "markdown",
   "metadata": {},
   "source": [
    "Сильнее всего на стоимость влияет оценка критиков, оценка пользователей практически не влияет на стоимость"
   ]
  },
  {
   "cell_type": "markdown",
   "metadata": {},
   "source": [
    "Посмотрите на общее распределение игр по жанрам. Что можно сказать о самых прибыльных жанрах? Выделяются ли жанры с высокими и низкими продажами?"
   ]
  },
  {
   "cell_type": "code",
   "execution_count": 54,
   "metadata": {},
   "outputs": [],
   "source": [
    "def genre_sales (df):\n",
    "    return (\n",
    "        df\n",
    "            .pivot_table(index='genre', values='total_sales', aggfunc='sum')\n",
    "            .sort_values('total_sales', ascending=False)\n",
    "    )\n",
    "def genre_sales_plot(df):\n",
    "    (\n",
    "        df\n",
    "            .plot(kind='barh', figsize=(10, 5), ec='black', color='#d71868')\n",
    "            .set(xlabel='total_sales', ylabel='genre')\n",
    "    )\n",
    "    plt.show()"
   ]
  },
  {
   "cell_type": "code",
   "execution_count": 55,
   "metadata": {
    "scrolled": false
   },
   "outputs": [
    {
     "data": {
      "image/png": "[encoded data removed]",
      "text/plain": [
       "<Figure size 720x360 with 1 Axes>"
      ]
     },
     "metadata": {
      "needs_background": "light"
     },
     "output_type": "display_data"
    }
   ],
   "source": [
    "genre_sales_plot(genre_sales(current_period))"
   ]
  },
  {
   "cell_type": "code",
   "execution_count": 56,
   "metadata": {},
   "outputs": [],
   "source": [
    "def genre_sales_mean (df):\n",
    "    return (\n",
    "        df\n",
    "            .pivot_table(index='genre', values='total_sales', aggfunc='mean')\n",
    "            .sort_values('total_sales', ascending=False)\n",
    "    )\n",
    "def genre_sales_plot_mean(df):\n",
    "    (\n",
    "        df\n",
    "            .plot(kind='barh', figsize=(10, 5), ec='black', color='#d71868')\n",
    "            .set(xlabel='total_sales', ylabel='genre')\n",
    "    )\n",
    "    plt.show()"
   ]
  },
  {
   "cell_type": "code",
   "execution_count": 57,
   "metadata": {},
   "outputs": [
    {
     "data": {
      "image/png": "[encoded data removed]",
      "text/plain": [
       "<Figure size 720x360 with 1 Axes>"
      ]
     },
     "metadata": {
      "needs_background": "light"
     },
     "output_type": "display_data"
    }
   ],
   "source": [
    "genre_sales_plot_mean(genre_sales_mean(current_period))"
   ]
  },
  {
   "cell_type": "code",
   "execution_count": 58,
   "metadata": {},
   "outputs": [],
   "source": [
    "def genre_sales_median (df):\n",
    "    return (\n",
    "        df\n",
    "            .pivot_table(index='genre', values='total_sales', aggfunc='median')\n",
    "            .sort_values('total_sales', ascending=False)\n",
    "    )\n",
    "def genre_sales_plot_median(df):\n",
    "    (\n",
    "        df\n",
    "            .plot(kind='barh', figsize=(10, 5), ec='black', color='#d71868')\n",
    "            .set(xlabel='total_sales', ylabel='genre')\n",
    "    )\n",
    "    plt.show()"
   ]
  },
  {
   "cell_type": "code",
   "execution_count": 59,
   "metadata": {},
   "outputs": [
    {
     "data": {
      "image/png": "[encoded data removed]",
      "text/plain": [
       "<Figure size 720x360 with 1 Axes>"
      ]
     },
     "metadata": {
      "needs_background": "light"
     },
     "output_type": "display_data"
    }
   ],
   "source": [
    "genre_sales_plot_median(genre_sales_median(current_period))"
   ]
  },
  {
   "cell_type": "markdown",
   "metadata": {},
   "source": [
    "Наиболее популярные жанры action и shooter, наименее популярные puzzle и strategy (но также стоит учитывать, что на производство игр например в жанре action в среднем уходит значительно больше средств чем на произвоство игр например в жанре puzzle)\n",
    "Если рассматривать среднее и медианное значение, то самые популярные жанры shooter и sports, а наименее популярный жанр adventure"
   ]
  },
  {
   "cell_type": "markdown",
   "metadata": {},
   "source": [
    "# Шаг 4. Составление портрета пользователя каждого региона"
   ]
  },
  {
   "cell_type": "markdown",
   "metadata": {},
   "source": [
    "Определите для пользователя каждого региона (NA, EU, JP):\n",
    "- Самые популярные платформы (топ-5). Опишите различия в долях продаж.\n",
    "- Самые популярные жанры (топ-5). Поясните разницу.\n",
    "- Влияет ли рейтинг ESRB на продажи в отдельном регионе?"
   ]
  },
  {
   "cell_type": "markdown",
   "metadata": {},
   "source": [
    "Портрет пользователя NA (Северная Америка)"
   ]
  },
  {
   "cell_type": "code",
   "execution_count": 60,
   "metadata": {
    "scrolled": false
   },
   "outputs": [
    {
     "name": "stderr",
     "output_type": "stream",
     "text": [
      "/tmp/ipykernel_78/3798544927.py:2: SettingWithCopyWarning: \n",
      "A value is trying to be set on a copy of a slice from a DataFrame.\n",
      "Try using .loc[row_indexer,col_indexer] = value instead\n",
      "\n",
      "See the caveats in the documentation: https://pandas.pydata.org/pandas-docs/stable/user_guide/indexing.html#returning-a-view-versus-a-copy\n",
      "  current_period['rating'] = current_period['rating'].fillna('without_rating')\n"
     ]
    }
   ],
   "source": [
    "#выделим пропуски в рейтинге в категорию without_rating\n",
    "current_period['rating'] = current_period['rating'].fillna('without_rating')"
   ]
  },
  {
   "cell_type": "code",
   "execution_count": 61,
   "metadata": {},
   "outputs": [
    {
     "data": {
      "text/plain": [
       "<AxesSubplot:xlabel='platform'>"
      ]
     },
     "execution_count": 61,
     "metadata": {},
     "output_type": "execute_result"
    },
    {
     "data": {
      "image/png": "[encoded data removed]",
      "text/plain": [
       "<Figure size 432x288 with 1 Axes>"
      ]
     },
     "metadata": {
      "needs_background": "light"
     },
     "output_type": "display_data"
    }
   ],
   "source": [
    "#Самые популярные платформы (топ-5) в регионе NA\n",
    "current_period.groupby(by='platform').agg({'na_sales':'sum'}).sort_values(by='na_sales', ascending=False).head(5).plot(kind='bar', color='#d71868')"
   ]
  },
  {
   "cell_type": "code",
   "execution_count": 62,
   "metadata": {},
   "outputs": [
    {
     "data": {
      "text/plain": [
       "<AxesSubplot:xlabel='genre'>"
      ]
     },
     "execution_count": 62,
     "metadata": {},
     "output_type": "execute_result"
    },
    {
     "data": {
      "image/png": "[encoded data removed]",
      "text/plain": [
       "<Figure size 432x288 with 1 Axes>"
      ]
     },
     "metadata": {
      "needs_background": "light"
     },
     "output_type": "display_data"
    }
   ],
   "source": [
    "#Самые популярные жанры (топ-5) в регионе NA\n",
    "current_period.groupby(by='genre').agg({'na_sales':'sum'}).sort_values(by='na_sales', ascending=False).head(5).plot(kind='bar', color='#92c6ff')"
   ]
  },
  {
   "cell_type": "code",
   "execution_count": 63,
   "metadata": {},
   "outputs": [
    {
     "data": {
      "text/plain": [
       "<AxesSubplot:xlabel='rating'>"
      ]
     },
     "execution_count": 63,
     "metadata": {},
     "output_type": "execute_result"
    },
    {
     "data": {
      "image/png": "[encoded data removed]",
      "text/plain": [
       "<Figure size 432x288 with 1 Axes>"
      ]
     },
     "metadata": {
      "needs_background": "light"
     },
     "output_type": "display_data"
    }
   ],
   "source": [
    "#Влияние рейтинга ESRB на продажи в регионе NA\n",
    "current_period.groupby(by='rating').agg({'na_sales':'sum'}).sort_values(by='na_sales', ascending=False).head(5).plot(kind='bar', color='#ff0033')"
   ]
  },
  {
   "cell_type": "markdown",
   "metadata": {},
   "source": [
    "Вывод\n",
    "У жителей Северной Америки:\n",
    "\n",
    "- наиболее популярны платформы: ps4, XOne, x360, ps3 и 3ds.\n",
    "- жанры: action, shooter, sports, role-playing и misc\n",
    "- большая часть выручки идет от игр с рейтингом m и e, и игр без рейтинга"
   ]
  },
  {
   "cell_type": "markdown",
   "metadata": {},
   "source": [
    "Портрет пользователя EU (Европа)"
   ]
  },
  {
   "cell_type": "code",
   "execution_count": 64,
   "metadata": {
    "scrolled": false
   },
   "outputs": [
    {
     "data": {
      "text/plain": [
       "<AxesSubplot:xlabel='platform'>"
      ]
     },
     "execution_count": 64,
     "metadata": {},
     "output_type": "execute_result"
    },
    {
     "data": {
      "image/png": "[encoded data removed]",
      "text/plain": [
       "<Figure size 432x288 with 1 Axes>"
      ]
     },
     "metadata": {
      "needs_background": "light"
     },
     "output_type": "display_data"
    }
   ],
   "source": [
    "#Самые популярные платформы (топ-5) в регионе EU\n",
    "current_period.groupby(by='platform').agg({'eu_sales':'sum'}).sort_values(by='eu_sales', ascending=False).head(5).plot(kind='bar', color='#d71868')"
   ]
  },
  {
   "cell_type": "code",
   "execution_count": 65,
   "metadata": {},
   "outputs": [
    {
     "data": {
      "text/plain": [
       "<AxesSubplot:xlabel='genre'>"
      ]
     },
     "execution_count": 65,
     "metadata": {},
     "output_type": "execute_result"
    },
    {
     "data": {
      "image/png": "[encoded data removed]",
      "text/plain": [
       "<Figure size 432x288 with 1 Axes>"
      ]
     },
     "metadata": {
      "needs_background": "light"
     },
     "output_type": "display_data"
    }
   ],
   "source": [
    "#Самые популярные жанры (топ-5) в регионе EU\n",
    "current_period.groupby(by='genre').agg({'eu_sales':'sum'}).sort_values(by='eu_sales', ascending=False).head(5).plot(kind='bar', color='#92c6ff')"
   ]
  },
  {
   "cell_type": "code",
   "execution_count": 66,
   "metadata": {},
   "outputs": [
    {
     "data": {
      "text/plain": [
       "<AxesSubplot:xlabel='rating'>"
      ]
     },
     "execution_count": 66,
     "metadata": {},
     "output_type": "execute_result"
    },
    {
     "data": {
      "image/png": "[encoded data removed]",
      "text/plain": [
       "<Figure size 432x288 with 1 Axes>"
      ]
     },
     "metadata": {
      "needs_background": "light"
     },
     "output_type": "display_data"
    }
   ],
   "source": [
    "#Влияние рейтинга ESRB на продажи в регионе EU\n",
    "current_period.groupby(by='rating').agg({'na_sales':'sum'}).sort_values(by='na_sales', ascending=False).head(5).plot(kind='bar', color='#ff0033')"
   ]
  },
  {
   "cell_type": "markdown",
   "metadata": {},
   "source": [
    "Вывод\n",
    "- Жителям Европы нравятся следующие платформы: ps4, ps3, XOne, x360 и 3DS.\n",
    "- action, shooter, sports, role-playing и racing - самые популярные жанры\n",
    "- большая часть выручки идет от игр с рейтингом m, e. и игр без рейтинга "
   ]
  },
  {
   "cell_type": "markdown",
   "metadata": {},
   "source": [
    "Портрет пользователя JP (Япония)"
   ]
  },
  {
   "cell_type": "code",
   "execution_count": 67,
   "metadata": {},
   "outputs": [
    {
     "data": {
      "text/plain": [
       "<AxesSubplot:xlabel='platform'>"
      ]
     },
     "execution_count": 67,
     "metadata": {},
     "output_type": "execute_result"
    },
    {
     "data": {
      "image/png": "[encoded data removed]",
      "text/plain": [
       "<Figure size 432x288 with 1 Axes>"
      ]
     },
     "metadata": {
      "needs_background": "light"
     },
     "output_type": "display_data"
    }
   ],
   "source": [
    "#Самые популярные платформы (топ-5) в регионе JP\n",
    "current_period.groupby(by='platform').agg({'jp_sales':'sum'}).sort_values(by='jp_sales', ascending=False).head(5).plot(kind='bar', color='#d71868')"
   ]
  },
  {
   "cell_type": "code",
   "execution_count": 68,
   "metadata": {},
   "outputs": [
    {
     "data": {
      "text/plain": [
       "<AxesSubplot:xlabel='genre'>"
      ]
     },
     "execution_count": 68,
     "metadata": {},
     "output_type": "execute_result"
    },
    {
     "data": {
      "image/png": "[encoded data removed]",
      "text/plain": [
       "<Figure size 432x288 with 1 Axes>"
      ]
     },
     "metadata": {
      "needs_background": "light"
     },
     "output_type": "display_data"
    }
   ],
   "source": [
    "#Самые популярные жанры (топ-5) в регионе JP\n",
    "current_period.groupby(by='genre').agg({'jp_sales':'sum'}).sort_values(by='jp_sales', ascending=False).head(5).plot(kind='bar', color='#92c6ff')"
   ]
  },
  {
   "cell_type": "code",
   "execution_count": 69,
   "metadata": {},
   "outputs": [
    {
     "data": {
      "text/plain": [
       "<AxesSubplot:xlabel='rating'>"
      ]
     },
     "execution_count": 69,
     "metadata": {},
     "output_type": "execute_result"
    },
    {
     "data": {
      "image/png": "[encoded data removed]",
      "text/plain": [
       "<Figure size 432x288 with 1 Axes>"
      ]
     },
     "metadata": {
      "needs_background": "light"
     },
     "output_type": "display_data"
    }
   ],
   "source": [
    "#Влияние рейтинга ESRB на продажи в регионе JP\n",
    "current_period.groupby(by='rating').agg({'jp_sales':'sum'}).sort_values(by='jp_sales', ascending=False).head(5).plot(kind='bar', color='#ff0033')"
   ]
  },
  {
   "cell_type": "markdown",
   "metadata": {},
   "source": [
    "Вывод\n",
    "- Жителям Японии нравятся следующие платформы: самая популярная в этом регионе - 3ds, далее с большим отрывом ps3, ps5, ps4, WIIU.\n",
    "- В самом топе наиболее популярных жанров: role-playing, action, далее с большим отрывом: misc, fighting, shooter.\n",
    "- Большую часть продаж с большим отрывом приносят игру у которых отсутсвуеи рейтинг, далее идут игры с рейтингом  t, e, m."
   ]
  },
  {
   "cell_type": "markdown",
   "metadata": {},
   "source": [
    "Общий вывод:\n",
    "    \n",
    "В Северной Америки и Европе портреты пользователей похожи почти по всем параметрам. Например совпадение есть  по наиболее популярным жанрам - action и shooter. И наблюдаем полное совпадение по рейтингам. Зато у жителей Японии предпочтения отличаются, у них наиболее популярна платформа 3ds, а также игры с жанром - role-playing. А популярнее всего игры без рейтинг и с рейтингом  t,e,m. \n",
    "\n",
    "Такое отличие Японии может быть связанно с тем, что японцы реже сидят дома и поэтому чаще пользуются портативными платформами.\n",
    "Ну а по скольку японцы известны своей любовью аниме и персонажам оттуда не удивительно, что самые популярный жанр у них \n",
    "role-playing"
   ]
  },
  {
   "cell_type": "markdown",
   "metadata": {},
   "source": [
    "# Шаг 5. Проверьте гипотезы\n",
    "- Средние пользовательские рейтинги платформ Xbox One и PC одинаковые;\n",
    "- Средние пользовательские рейтинги жанров Action (англ. «действие», экшен-игры) и Sports (англ. «спортивные соревнования») разные."
   ]
  },
  {
   "cell_type": "code",
   "execution_count": 70,
   "metadata": {
    "scrolled": true
   },
   "outputs": [
    {
     "data": {
      "text/html": [
       "<div>\n",
       "<style scoped>\n",
       "    .dataframe tbody tr th:only-of-type {\n",
       "        vertical-align: middle;\n",
       "    }\n",
       "\n",
       "    .dataframe tbody tr th {\n",
       "        vertical-align: top;\n",
       "    }\n",
       "\n",
       "    .dataframe thead th {\n",
       "        text-align: right;\n",
       "    }\n",
       "</style>\n",
       "<table border=\"1\" class=\"dataframe\">\n",
       "  <thead>\n",
       "    <tr style=\"text-align: right;\">\n",
       "      <th></th>\n",
       "      <th>name</th>\n",
       "      <th>platform</th>\n",
       "      <th>year_of_release</th>\n",
       "      <th>genre</th>\n",
       "      <th>na_sales</th>\n",
       "      <th>eu_sales</th>\n",
       "      <th>jp_sales</th>\n",
       "      <th>other_sales</th>\n",
       "      <th>critic_score</th>\n",
       "      <th>user_score</th>\n",
       "      <th>rating</th>\n",
       "      <th>total_sales</th>\n",
       "    </tr>\n",
       "  </thead>\n",
       "  <tbody>\n",
       "    <tr>\n",
       "      <th>16</th>\n",
       "      <td>Grand Theft Auto V</td>\n",
       "      <td>PS3</td>\n",
       "      <td>2013</td>\n",
       "      <td>Action</td>\n",
       "      <td>7.02</td>\n",
       "      <td>9.09</td>\n",
       "      <td>0.98</td>\n",
       "      <td>3.96</td>\n",
       "      <td>97.0</td>\n",
       "      <td>8.2</td>\n",
       "      <td>M</td>\n",
       "      <td>21.05</td>\n",
       "    </tr>\n",
       "    <tr>\n",
       "      <th>23</th>\n",
       "      <td>Grand Theft Auto V</td>\n",
       "      <td>X360</td>\n",
       "      <td>2013</td>\n",
       "      <td>Action</td>\n",
       "      <td>9.66</td>\n",
       "      <td>5.14</td>\n",
       "      <td>0.06</td>\n",
       "      <td>1.41</td>\n",
       "      <td>97.0</td>\n",
       "      <td>8.1</td>\n",
       "      <td>M</td>\n",
       "      <td>16.27</td>\n",
       "    </tr>\n",
       "    <tr>\n",
       "      <th>31</th>\n",
       "      <td>Call of Duty: Black Ops 3</td>\n",
       "      <td>PS4</td>\n",
       "      <td>2015</td>\n",
       "      <td>Shooter</td>\n",
       "      <td>6.03</td>\n",
       "      <td>5.86</td>\n",
       "      <td>0.36</td>\n",
       "      <td>2.38</td>\n",
       "      <td>NaN</td>\n",
       "      <td>NaN</td>\n",
       "      <td>without_rating</td>\n",
       "      <td>14.63</td>\n",
       "    </tr>\n",
       "    <tr>\n",
       "      <th>33</th>\n",
       "      <td>Pokemon X/Pokemon Y</td>\n",
       "      <td>3DS</td>\n",
       "      <td>2013</td>\n",
       "      <td>Role-Playing</td>\n",
       "      <td>5.28</td>\n",
       "      <td>4.19</td>\n",
       "      <td>4.35</td>\n",
       "      <td>0.78</td>\n",
       "      <td>NaN</td>\n",
       "      <td>NaN</td>\n",
       "      <td>without_rating</td>\n",
       "      <td>14.60</td>\n",
       "    </tr>\n",
       "    <tr>\n",
       "      <th>42</th>\n",
       "      <td>Grand Theft Auto V</td>\n",
       "      <td>PS4</td>\n",
       "      <td>2014</td>\n",
       "      <td>Action</td>\n",
       "      <td>3.96</td>\n",
       "      <td>6.31</td>\n",
       "      <td>0.38</td>\n",
       "      <td>1.97</td>\n",
       "      <td>97.0</td>\n",
       "      <td>8.3</td>\n",
       "      <td>M</td>\n",
       "      <td>12.62</td>\n",
       "    </tr>\n",
       "  </tbody>\n",
       "</table>\n",
       "</div>"
      ],
      "text/plain": [
       "                         name platform  year_of_release         genre  \\\n",
       "16         Grand Theft Auto V      PS3             2013        Action   \n",
       "23         Grand Theft Auto V     X360             2013        Action   \n",
       "31  Call of Duty: Black Ops 3      PS4             2015       Shooter   \n",
       "33        Pokemon X/Pokemon Y      3DS             2013  Role-Playing   \n",
       "42         Grand Theft Auto V      PS4             2014        Action   \n",
       "\n",
       "    na_sales  eu_sales  jp_sales  other_sales  critic_score  user_score  \\\n",
       "16      7.02      9.09      0.98         3.96          97.0         8.2   \n",
       "23      9.66      5.14      0.06         1.41          97.0         8.1   \n",
       "31      6.03      5.86      0.36         2.38           NaN         NaN   \n",
       "33      5.28      4.19      4.35         0.78           NaN         NaN   \n",
       "42      3.96      6.31      0.38         1.97          97.0         8.3   \n",
       "\n",
       "            rating  total_sales  \n",
       "16               M        21.05  \n",
       "23               M        16.27  \n",
       "31  without_rating        14.63  \n",
       "33  without_rating        14.60  \n",
       "42               M        12.62  "
      ]
     },
     "execution_count": 70,
     "metadata": {},
     "output_type": "execute_result"
    }
   ],
   "source": [
    "current_period.head()"
   ]
  },
  {
   "cell_type": "markdown",
   "metadata": {},
   "source": [
    "Проверяем гипотезу №1\n",
    "Получается гипотеза о равенстве средних двух генеральных совокупностей.\n",
    "\n",
    "- Н0 (нулевая гипотеза) - средние пользовательские рейтинги платформ Xbox One и PC одинаковые\n",
    "- H1 (альтернативная гипотеза) - средние пользовательские рейтинги платформ Xbox One и PC различаются.\n"
   ]
  },
  {
   "cell_type": "code",
   "execution_count": 71,
   "metadata": {},
   "outputs": [
    {
     "name": "stdout",
     "output_type": "stream",
     "text": [
      "p-значение:  0.14012658403611647\n",
      "Не получилось отвергнуть нулевую гипотезу\n"
     ]
    }
   ],
   "source": [
    "xbox_one_ratings = current_period[(current_period['platform'] == 'XOne') & (current_period['user_score'] > -1)]['user_score']\n",
    "pc_ratings = current_period[(current_period['platform'] == 'PC') & (current_period['user_score'] > -1)]['user_score']\n",
    "stat, p = ttest_ind(xbox_one_ratings, pc_ratings)\n",
    "alpha = 0.05\n",
    "results = st.ttest_ind(xbox_one_ratings, pc_ratings)\n",
    "print('p-значение: ', results.pvalue)\n",
    "if (results.pvalue < alpha):\n",
    "    print(\"Отвергаем нулевую гипотезу\")\n",
    "else:\n",
    "    print(\"Не получилось отвергнуть нулевую гипотезу\")"
   ]
  },
  {
   "cell_type": "markdown",
   "metadata": {},
   "source": [
    "Верно следующее утверждение: средние пользовательские рейтинги платформ Xbox One и PC одинаковые."
   ]
  },
  {
   "cell_type": "markdown",
   "metadata": {},
   "source": [
    "# Проверяем гипотезу №2"
   ]
  },
  {
   "cell_type": "markdown",
   "metadata": {},
   "source": [
    "- Н0 (нулевая гипотеза) - cредние пользовательские рейтинги жанров Action и Sports одинаковые.\n",
    "- H1 (альтернативная гипотеза) - средние пользовательские рейтинги жанров Action и Sports различаются.\n"
   ]
  },
  {
   "cell_type": "code",
   "execution_count": 72,
   "metadata": {},
   "outputs": [
    {
     "name": "stdout",
     "output_type": "stream",
     "text": [
      "p-значение:  1.0517832389140023e-27\n",
      "Отвергаем нулевую гипотезу\n"
     ]
    }
   ],
   "source": [
    "action_ratings = current_period[(current_period['genre'] == 'Action') & (current_period['user_score'] > -1)]['user_score']\n",
    "pc_ratings = current_period[(current_period['genre'] == 'Sports') & (current_period['user_score'] > -1)]['user_score']\n",
    "stat, p = ttest_ind(action_ratings, pc_ratings)\n",
    "alpha = 0.05\n",
    "results = st.ttest_ind(action_ratings, pc_ratings)\n",
    "print('p-значение: ', results.pvalue)\n",
    "if (results.pvalue < alpha):\n",
    "    print(\"Отвергаем нулевую гипотезу\")\n",
    "else:\n",
    "    print(\"Не получилось отвергнуть нулевую гипотезу\")"
   ]
  },
  {
   "cell_type": "markdown",
   "metadata": {},
   "source": [
    "Таким образом, верное утверждение, что средние пользовательские рейтинги жанров Action и Sports различаются."
   ]
  },
  {
   "cell_type": "markdown",
   "metadata": {},
   "source": [
    "# Шаг 6. Общий вывод\n",
    "Исходя из анализа предлагаемой выборки, можно сделать следующие выводы:\n",
    "\n",
    "1. Рынок консолей находится в упадки в связи с активной конкуренцией игр на пк и мобильных игр\n",
    "2. В среднем \"жизнь\" игровой платформы длится около 10 лет\n",
    "3. По продажам за последние 6 лет лидируют: ps4, ps3 и XOne.\n",
    "4. Наблюдается взаимосвязь между отзывами критиков и пользователей\n",
    "5. Отзывы пользователей не влияют на продажи\n",
    "6. Отзывы критиков влияют на продажи.\n",
    "7. Наиболее популярные жанры с самыми прибыльными продажами - action и shooters.\n",
    "8. В Америке и Европе лучше всего продаются ps4 и XOne, а также игры с жанрами action и shooters с рейтингом M.\n",
    "9. В Японии иная ситуация: популярностью пользуются ролевый видеоигры, и платформа - 3ds \n",
    "10. Средние пользовательские рейтинги платформ Xbox One и PC одинаковые\n",
    "11. Средние пользовательские рейтинги жанров Action и Sports различаются.\n",
    "\n",
    "# Рекомендации:\n",
    "\n",
    "1. Возможно платформам с видеоиграми стоит обратить свое внимание на компьютерные игры ( в нынешнее время в моду входит кроссплатформа ( где пользователи с приставос и с пк могут играть вместе))\n",
    "2. Консолям следует сделать больший упор на сюжете, поскольку тягаться с пк в качестве графики и количестве кадров не выйдет, а также сделать упор на файтинги, гонки и спортивные симуляторы, поскольку в них удобнее играть на консоли\n",
    "3. Разобраться с пропусками, которые возникли в оценках пользователей критиков и пользователей, а также с пропусками в графе \"рейтинг\"."
   ]
  }
 ],
 "metadata": {
  "ExecuteTimeLog": [
   {
    "duration": 1801,
    "start_time": "2022-03-20T12:17:32.771Z"
   },
   {
    "duration": 86,
    "start_time": "2022-03-20T12:17:44.806Z"
   },
   {
    "duration": 46,
    "start_time": "2022-03-20T12:17:56.309Z"
   },
   {
    "duration": 23,
    "start_time": "2022-03-20T12:18:03.321Z"
   },
   {
    "duration": 58,
    "start_time": "2022-03-20T12:18:18.280Z"
   },
   {
    "duration": 89,
    "start_time": "2022-03-20T12:24:13.880Z"
   },
   {
    "duration": 46,
    "start_time": "2022-03-20T12:24:19.532Z"
   },
   {
    "duration": 19,
    "start_time": "2022-03-20T12:24:23.117Z"
   },
   {
    "duration": 221,
    "start_time": "2022-03-20T12:28:31.412Z"
   },
   {
    "duration": 207,
    "start_time": "2022-03-20T12:32:33.442Z"
   },
   {
    "duration": 5,
    "start_time": "2022-03-20T12:32:42.132Z"
   },
   {
    "duration": 31,
    "start_time": "2022-03-20T12:33:08.864Z"
   },
   {
    "duration": 7,
    "start_time": "2022-03-20T12:33:54.292Z"
   },
   {
    "duration": 14,
    "start_time": "2022-03-20T12:35:29.646Z"
   },
   {
    "duration": 7,
    "start_time": "2022-03-20T12:37:19.873Z"
   },
   {
    "duration": 18,
    "start_time": "2022-03-20T12:37:27.797Z"
   },
   {
    "duration": 13,
    "start_time": "2022-03-20T12:38:15.059Z"
   },
   {
    "duration": 26,
    "start_time": "2022-03-20T12:46:37.380Z"
   },
   {
    "duration": 21,
    "start_time": "2022-03-20T12:46:47.102Z"
   },
   {
    "duration": 19,
    "start_time": "2022-03-20T12:48:04.993Z"
   },
   {
    "duration": 8,
    "start_time": "2022-03-20T12:54:25.822Z"
   },
   {
    "duration": 7,
    "start_time": "2022-03-20T13:05:27.995Z"
   },
   {
    "duration": 8,
    "start_time": "2022-03-20T13:05:47.482Z"
   },
   {
    "duration": 7,
    "start_time": "2022-03-20T13:05:55.713Z"
   },
   {
    "duration": 13,
    "start_time": "2022-03-20T13:06:06.866Z"
   },
   {
    "duration": 13,
    "start_time": "2022-03-20T13:06:19.925Z"
   },
   {
    "duration": 9,
    "start_time": "2022-03-20T13:06:25.705Z"
   },
   {
    "duration": 7,
    "start_time": "2022-03-20T13:06:46.107Z"
   },
   {
    "duration": 17,
    "start_time": "2022-03-20T13:07:03.845Z"
   },
   {
    "duration": 24,
    "start_time": "2022-03-20T13:07:10.944Z"
   },
   {
    "duration": 1496,
    "start_time": "2022-03-20T13:07:51.518Z"
   },
   {
    "duration": 82,
    "start_time": "2022-03-20T13:07:53.017Z"
   },
   {
    "duration": 58,
    "start_time": "2022-03-20T13:07:53.102Z"
   },
   {
    "duration": 26,
    "start_time": "2022-03-20T13:07:53.164Z"
   },
   {
    "duration": 6,
    "start_time": "2022-03-20T13:07:53.196Z"
   },
   {
    "duration": 60,
    "start_time": "2022-03-20T13:07:53.204Z"
   },
   {
    "duration": 6,
    "start_time": "2022-03-20T13:07:53.267Z"
   },
   {
    "duration": 10,
    "start_time": "2022-03-20T13:07:53.276Z"
   },
   {
    "duration": 21,
    "start_time": "2022-03-20T13:07:53.289Z"
   },
   {
    "duration": 43,
    "start_time": "2022-03-20T13:07:53.312Z"
   },
   {
    "duration": 26,
    "start_time": "2022-03-20T13:07:53.358Z"
   },
   {
    "duration": 23,
    "start_time": "2022-03-20T13:07:53.386Z"
   },
   {
    "duration": 8,
    "start_time": "2022-03-20T13:07:53.411Z"
   },
   {
    "duration": 7,
    "start_time": "2022-03-20T13:07:53.446Z"
   },
   {
    "duration": 30,
    "start_time": "2022-03-20T13:07:53.455Z"
   },
   {
    "duration": 5,
    "start_time": "2022-03-20T13:07:53.487Z"
   },
   {
    "duration": 22,
    "start_time": "2022-03-20T13:07:53.495Z"
   },
   {
    "duration": 144,
    "start_time": "2022-03-20T13:08:24.981Z"
   },
   {
    "duration": 6,
    "start_time": "2022-03-20T13:08:27.872Z"
   },
   {
    "duration": 7,
    "start_time": "2022-03-20T13:12:04.667Z"
   },
   {
    "duration": 22,
    "start_time": "2022-03-20T13:12:14.525Z"
   },
   {
    "duration": 64,
    "start_time": "2022-03-20T13:18:58.391Z"
   },
   {
    "duration": 350,
    "start_time": "2022-03-20T13:20:06.076Z"
   },
   {
    "duration": 12,
    "start_time": "2022-03-20T13:25:09.234Z"
   },
   {
    "duration": 352,
    "start_time": "2022-03-20T13:25:21.756Z"
   },
   {
    "duration": 356,
    "start_time": "2022-03-20T13:25:32.178Z"
   },
   {
    "duration": 357,
    "start_time": "2022-03-20T13:25:36.405Z"
   },
   {
    "duration": 332,
    "start_time": "2022-03-20T13:25:40.903Z"
   },
   {
    "duration": 25,
    "start_time": "2022-03-20T13:25:55.732Z"
   },
   {
    "duration": 350,
    "start_time": "2022-03-20T13:26:00.157Z"
   },
   {
    "duration": 18,
    "start_time": "2022-03-20T13:26:08.977Z"
   },
   {
    "duration": 19,
    "start_time": "2022-03-20T13:26:32.111Z"
   },
   {
    "duration": 349,
    "start_time": "2022-03-20T13:26:33.869Z"
   },
   {
    "duration": 30,
    "start_time": "2022-03-20T13:30:08.047Z"
   },
   {
    "duration": 11,
    "start_time": "2022-03-20T13:30:30.326Z"
   },
   {
    "duration": 222,
    "start_time": "2022-03-20T13:30:37.792Z"
   },
   {
    "duration": 6,
    "start_time": "2022-03-20T13:31:55.675Z"
   },
   {
    "duration": 462,
    "start_time": "2022-03-20T13:32:17.166Z"
   },
   {
    "duration": 5,
    "start_time": "2022-03-20T13:32:28.434Z"
   },
   {
    "duration": 564,
    "start_time": "2022-03-20T13:32:31.133Z"
   },
   {
    "duration": 5,
    "start_time": "2022-03-20T13:34:40.524Z"
   },
   {
    "duration": 4,
    "start_time": "2022-03-20T13:34:53.629Z"
   },
   {
    "duration": 6,
    "start_time": "2022-03-20T13:35:24.303Z"
   },
   {
    "duration": 13,
    "start_time": "2022-03-20T13:35:43.025Z"
   },
   {
    "duration": 5434,
    "start_time": "2022-03-20T13:35:52.612Z"
   },
   {
    "duration": 5,
    "start_time": "2022-03-20T13:36:41.114Z"
   },
   {
    "duration": 4374,
    "start_time": "2022-03-20T13:36:42.531Z"
   },
   {
    "duration": 1525,
    "start_time": "2022-03-20T13:36:50.296Z"
   },
   {
    "duration": 81,
    "start_time": "2022-03-20T13:36:51.824Z"
   },
   {
    "duration": 43,
    "start_time": "2022-03-20T13:36:51.907Z"
   },
   {
    "duration": 24,
    "start_time": "2022-03-20T13:36:51.953Z"
   },
   {
    "duration": 4,
    "start_time": "2022-03-20T13:36:51.980Z"
   },
   {
    "duration": 65,
    "start_time": "2022-03-20T13:36:51.986Z"
   },
   {
    "duration": 7,
    "start_time": "2022-03-20T13:36:52.054Z"
   },
   {
    "duration": 21,
    "start_time": "2022-03-20T13:36:52.064Z"
   },
   {
    "duration": 24,
    "start_time": "2022-03-20T13:36:52.087Z"
   },
   {
    "duration": 14,
    "start_time": "2022-03-20T13:36:52.115Z"
   },
   {
    "duration": 22,
    "start_time": "2022-03-20T13:36:52.131Z"
   },
   {
    "duration": 24,
    "start_time": "2022-03-20T13:36:52.155Z"
   },
   {
    "duration": 7,
    "start_time": "2022-03-20T13:36:52.181Z"
   },
   {
    "duration": 10,
    "start_time": "2022-03-20T13:36:52.190Z"
   },
   {
    "duration": 13,
    "start_time": "2022-03-20T13:36:52.203Z"
   },
   {
    "duration": 12,
    "start_time": "2022-03-20T13:36:52.218Z"
   },
   {
    "duration": 7,
    "start_time": "2022-03-20T13:36:52.234Z"
   },
   {
    "duration": 47,
    "start_time": "2022-03-20T13:36:52.248Z"
   },
   {
    "duration": 5,
    "start_time": "2022-03-20T13:36:52.297Z"
   },
   {
    "duration": 22,
    "start_time": "2022-03-20T13:36:52.305Z"
   },
   {
    "duration": 66,
    "start_time": "2022-03-20T13:36:52.330Z"
   },
   {
    "duration": 725,
    "start_time": "2022-03-20T13:36:52.398Z"
   },
   {
    "duration": 15,
    "start_time": "2022-03-20T13:36:53.143Z"
   },
   {
    "duration": 24,
    "start_time": "2022-03-20T13:36:53.161Z"
   },
   {
    "duration": 247,
    "start_time": "2022-03-20T13:36:53.187Z"
   },
   {
    "duration": 14,
    "start_time": "2022-03-20T13:36:53.436Z"
   },
   {
    "duration": 503,
    "start_time": "2022-03-20T13:36:53.453Z"
   },
   {
    "duration": 5,
    "start_time": "2022-03-20T13:36:53.962Z"
   },
   {
    "duration": 14,
    "start_time": "2022-03-20T13:36:53.969Z"
   },
   {
    "duration": 4234,
    "start_time": "2022-03-20T13:36:53.986Z"
   },
   {
    "duration": 113,
    "start_time": "2022-03-20T13:38:31.249Z"
   },
   {
    "duration": 42,
    "start_time": "2022-03-20T13:38:36.406Z"
   },
   {
    "duration": 21,
    "start_time": "2022-03-20T13:38:39.390Z"
   },
   {
    "duration": 990,
    "start_time": "2022-03-20T13:38:42.651Z"
   },
   {
    "duration": 5,
    "start_time": "2022-03-20T13:38:50.576Z"
   },
   {
    "duration": 34,
    "start_time": "2022-03-20T13:38:53.356Z"
   },
   {
    "duration": 7,
    "start_time": "2022-03-20T13:38:56.260Z"
   },
   {
    "duration": 7,
    "start_time": "2022-03-20T13:38:58.306Z"
   },
   {
    "duration": 24,
    "start_time": "2022-03-20T13:39:01.009Z"
   },
   {
    "duration": 14,
    "start_time": "2022-03-20T13:39:03.791Z"
   },
   {
    "duration": 16,
    "start_time": "2022-03-20T13:39:09.225Z"
   },
   {
    "duration": 29,
    "start_time": "2022-03-20T13:39:12.034Z"
   },
   {
    "duration": 8,
    "start_time": "2022-03-20T13:39:14.356Z"
   },
   {
    "duration": 11,
    "start_time": "2022-03-20T13:39:16.643Z"
   },
   {
    "duration": 27,
    "start_time": "2022-03-20T13:39:24.021Z"
   },
   {
    "duration": 1531,
    "start_time": "2022-03-20T13:39:37.272Z"
   },
   {
    "duration": 416,
    "start_time": "2022-03-20T13:39:38.805Z"
   },
   {
    "duration": 0,
    "start_time": "2022-03-20T13:39:39.224Z"
   },
   {
    "duration": 0,
    "start_time": "2022-03-20T13:39:39.226Z"
   },
   {
    "duration": 0,
    "start_time": "2022-03-20T13:39:39.227Z"
   },
   {
    "duration": 0,
    "start_time": "2022-03-20T13:39:39.229Z"
   },
   {
    "duration": 0,
    "start_time": "2022-03-20T13:39:39.231Z"
   },
   {
    "duration": 0,
    "start_time": "2022-03-20T13:39:39.233Z"
   },
   {
    "duration": 0,
    "start_time": "2022-03-20T13:39:39.242Z"
   },
   {
    "duration": 0,
    "start_time": "2022-03-20T13:39:39.244Z"
   },
   {
    "duration": 0,
    "start_time": "2022-03-20T13:39:39.245Z"
   },
   {
    "duration": 0,
    "start_time": "2022-03-20T13:39:39.247Z"
   },
   {
    "duration": 0,
    "start_time": "2022-03-20T13:39:39.249Z"
   },
   {
    "duration": 0,
    "start_time": "2022-03-20T13:39:39.250Z"
   },
   {
    "duration": 0,
    "start_time": "2022-03-20T13:39:39.252Z"
   },
   {
    "duration": 0,
    "start_time": "2022-03-20T13:39:39.253Z"
   },
   {
    "duration": 0,
    "start_time": "2022-03-20T13:39:39.255Z"
   },
   {
    "duration": 0,
    "start_time": "2022-03-20T13:39:39.257Z"
   },
   {
    "duration": 0,
    "start_time": "2022-03-20T13:39:39.258Z"
   },
   {
    "duration": 0,
    "start_time": "2022-03-20T13:39:39.260Z"
   },
   {
    "duration": 0,
    "start_time": "2022-03-20T13:39:39.262Z"
   },
   {
    "duration": 0,
    "start_time": "2022-03-20T13:39:39.263Z"
   },
   {
    "duration": 0,
    "start_time": "2022-03-20T13:39:39.265Z"
   },
   {
    "duration": 0,
    "start_time": "2022-03-20T13:39:39.267Z"
   },
   {
    "duration": 0,
    "start_time": "2022-03-20T13:39:39.269Z"
   },
   {
    "duration": 0,
    "start_time": "2022-03-20T13:39:39.270Z"
   },
   {
    "duration": 0,
    "start_time": "2022-03-20T13:39:39.274Z"
   },
   {
    "duration": 0,
    "start_time": "2022-03-20T13:39:39.277Z"
   },
   {
    "duration": 0,
    "start_time": "2022-03-20T13:39:39.279Z"
   },
   {
    "duration": 0,
    "start_time": "2022-03-20T13:39:39.280Z"
   },
   {
    "duration": 109,
    "start_time": "2022-03-20T13:39:47.671Z"
   },
   {
    "duration": 41,
    "start_time": "2022-03-20T13:39:48.594Z"
   },
   {
    "duration": 25,
    "start_time": "2022-03-20T13:39:49.094Z"
   },
   {
    "duration": 6,
    "start_time": "2022-03-20T13:39:50.317Z"
   },
   {
    "duration": 34,
    "start_time": "2022-03-20T13:39:50.696Z"
   },
   {
    "duration": 9,
    "start_time": "2022-03-20T13:39:50.967Z"
   },
   {
    "duration": 13,
    "start_time": "2022-03-20T13:39:51.415Z"
   },
   {
    "duration": 22,
    "start_time": "2022-03-20T13:39:51.607Z"
   },
   {
    "duration": 15,
    "start_time": "2022-03-20T13:39:51.819Z"
   },
   {
    "duration": 29,
    "start_time": "2022-03-20T13:39:52.459Z"
   },
   {
    "duration": 24,
    "start_time": "2022-03-20T13:39:52.863Z"
   },
   {
    "duration": 12,
    "start_time": "2022-03-20T13:39:53.740Z"
   },
   {
    "duration": 9,
    "start_time": "2022-03-20T13:39:54.220Z"
   },
   {
    "duration": 14,
    "start_time": "2022-03-20T13:39:54.812Z"
   },
   {
    "duration": 10,
    "start_time": "2022-03-20T13:40:07.272Z"
   },
   {
    "duration": 6,
    "start_time": "2022-03-20T13:40:14.969Z"
   },
   {
    "duration": 6,
    "start_time": "2022-03-20T13:40:28.999Z"
   },
   {
    "duration": 30,
    "start_time": "2022-03-20T13:40:29.798Z"
   },
   {
    "duration": 7,
    "start_time": "2022-03-20T13:40:41.117Z"
   },
   {
    "duration": 24,
    "start_time": "2022-03-20T13:40:43.400Z"
   },
   {
    "duration": 51,
    "start_time": "2022-03-20T13:40:46.521Z"
   },
   {
    "duration": 365,
    "start_time": "2022-03-20T13:40:54.277Z"
   },
   {
    "duration": 12,
    "start_time": "2022-03-20T13:40:55.759Z"
   },
   {
    "duration": 35,
    "start_time": "2022-03-20T13:41:02.640Z"
   },
   {
    "duration": 309,
    "start_time": "2022-03-20T13:41:06.093Z"
   },
   {
    "duration": 8,
    "start_time": "2022-03-20T13:41:23.351Z"
   },
   {
    "duration": 12,
    "start_time": "2022-03-20T13:41:24.378Z"
   },
   {
    "duration": 746,
    "start_time": "2022-03-20T13:41:28.201Z"
   },
   {
    "duration": 4,
    "start_time": "2022-03-20T13:41:46.814Z"
   },
   {
    "duration": 4,
    "start_time": "2022-03-20T13:41:48.284Z"
   },
   {
    "duration": 13,
    "start_time": "2022-03-20T13:41:49.027Z"
   },
   {
    "duration": 8,
    "start_time": "2022-03-20T13:42:45.541Z"
   },
   {
    "duration": 15,
    "start_time": "2022-03-20T13:42:46.075Z"
   },
   {
    "duration": 3621,
    "start_time": "2022-03-20T13:43:22.726Z"
   },
   {
    "duration": 1468,
    "start_time": "2022-03-20T13:43:41.329Z"
   },
   {
    "duration": 80,
    "start_time": "2022-03-20T13:43:42.800Z"
   },
   {
    "duration": 42,
    "start_time": "2022-03-20T13:43:42.883Z"
   },
   {
    "duration": 36,
    "start_time": "2022-03-20T13:43:42.927Z"
   },
   {
    "duration": 4,
    "start_time": "2022-03-20T13:43:42.968Z"
   },
   {
    "duration": 34,
    "start_time": "2022-03-20T13:43:42.975Z"
   },
   {
    "duration": 9,
    "start_time": "2022-03-20T13:43:43.048Z"
   },
   {
    "duration": 152,
    "start_time": "2022-03-20T13:43:43.059Z"
   },
   {
    "duration": 0,
    "start_time": "2022-03-20T13:43:43.214Z"
   },
   {
    "duration": 0,
    "start_time": "2022-03-20T13:43:43.215Z"
   },
   {
    "duration": 0,
    "start_time": "2022-03-20T13:43:43.217Z"
   },
   {
    "duration": 0,
    "start_time": "2022-03-20T13:43:43.219Z"
   },
   {
    "duration": 0,
    "start_time": "2022-03-20T13:43:43.220Z"
   },
   {
    "duration": 0,
    "start_time": "2022-03-20T13:43:43.222Z"
   },
   {
    "duration": 0,
    "start_time": "2022-03-20T13:43:43.224Z"
   },
   {
    "duration": 0,
    "start_time": "2022-03-20T13:43:43.225Z"
   },
   {
    "duration": 0,
    "start_time": "2022-03-20T13:43:43.246Z"
   },
   {
    "duration": 0,
    "start_time": "2022-03-20T13:43:43.250Z"
   },
   {
    "duration": 0,
    "start_time": "2022-03-20T13:43:43.254Z"
   },
   {
    "duration": 0,
    "start_time": "2022-03-20T13:43:43.258Z"
   },
   {
    "duration": 0,
    "start_time": "2022-03-20T13:43:43.260Z"
   },
   {
    "duration": 0,
    "start_time": "2022-03-20T13:43:43.262Z"
   },
   {
    "duration": 0,
    "start_time": "2022-03-20T13:43:43.264Z"
   },
   {
    "duration": 0,
    "start_time": "2022-03-20T13:43:43.265Z"
   },
   {
    "duration": 0,
    "start_time": "2022-03-20T13:43:43.267Z"
   },
   {
    "duration": 0,
    "start_time": "2022-03-20T13:43:43.269Z"
   },
   {
    "duration": 0,
    "start_time": "2022-03-20T13:43:43.270Z"
   },
   {
    "duration": 0,
    "start_time": "2022-03-20T13:43:43.272Z"
   },
   {
    "duration": 0,
    "start_time": "2022-03-20T13:43:43.273Z"
   },
   {
    "duration": 0,
    "start_time": "2022-03-20T13:43:43.275Z"
   },
   {
    "duration": 1669,
    "start_time": "2022-03-20T13:44:12.724Z"
   },
   {
    "duration": 736,
    "start_time": "2022-03-20T13:44:14.396Z"
   },
   {
    "duration": 52,
    "start_time": "2022-03-20T13:44:15.134Z"
   },
   {
    "duration": 23,
    "start_time": "2022-03-20T13:44:15.189Z"
   },
   {
    "duration": 31,
    "start_time": "2022-03-20T13:44:15.217Z"
   },
   {
    "duration": 43,
    "start_time": "2022-03-20T13:44:15.251Z"
   },
   {
    "duration": 8,
    "start_time": "2022-03-20T13:44:15.297Z"
   },
   {
    "duration": 9,
    "start_time": "2022-03-20T13:44:15.308Z"
   },
   {
    "duration": 28,
    "start_time": "2022-03-20T13:44:15.347Z"
   },
   {
    "duration": 14,
    "start_time": "2022-03-20T13:44:15.378Z"
   },
   {
    "duration": 17,
    "start_time": "2022-03-20T13:44:15.395Z"
   },
   {
    "duration": 63,
    "start_time": "2022-03-20T13:44:15.414Z"
   },
   {
    "duration": 8,
    "start_time": "2022-03-20T13:44:15.479Z"
   },
   {
    "duration": 7,
    "start_time": "2022-03-20T13:44:15.491Z"
   },
   {
    "duration": 11,
    "start_time": "2022-03-20T13:44:15.501Z"
   },
   {
    "duration": 37,
    "start_time": "2022-03-20T13:44:15.514Z"
   },
   {
    "duration": 32,
    "start_time": "2022-03-20T13:44:15.554Z"
   },
   {
    "duration": 21,
    "start_time": "2022-03-20T13:44:15.588Z"
   },
   {
    "duration": 6,
    "start_time": "2022-03-20T13:44:15.611Z"
   },
   {
    "duration": 37,
    "start_time": "2022-03-20T13:44:15.619Z"
   },
   {
    "duration": 73,
    "start_time": "2022-03-20T13:44:15.658Z"
   },
   {
    "duration": 473,
    "start_time": "2022-03-20T13:44:15.733Z"
   },
   {
    "duration": 15,
    "start_time": "2022-03-20T13:44:16.210Z"
   },
   {
    "duration": 35,
    "start_time": "2022-03-20T13:44:16.228Z"
   },
   {
    "duration": 273,
    "start_time": "2022-03-20T13:44:16.266Z"
   },
   {
    "duration": 9,
    "start_time": "2022-03-20T13:44:16.542Z"
   },
   {
    "duration": 552,
    "start_time": "2022-03-20T13:44:16.554Z"
   },
   {
    "duration": 4,
    "start_time": "2022-03-20T13:44:17.109Z"
   },
   {
    "duration": 25,
    "start_time": "2022-03-20T13:44:17.116Z"
   },
   {
    "duration": 4564,
    "start_time": "2022-03-20T13:44:17.147Z"
   },
   {
    "duration": 3879,
    "start_time": "2022-03-20T13:46:31.568Z"
   },
   {
    "duration": 5,
    "start_time": "2022-03-20T13:50:59.961Z"
   },
   {
    "duration": 3687,
    "start_time": "2022-03-20T13:52:12.574Z"
   },
   {
    "duration": 215,
    "start_time": "2022-03-20T13:53:38.194Z"
   },
   {
    "duration": 3746,
    "start_time": "2022-03-20T13:53:55.869Z"
   },
   {
    "duration": 209,
    "start_time": "2022-03-20T13:54:01.014Z"
   },
   {
    "duration": 17,
    "start_time": "2022-03-20T13:54:30.138Z"
   },
   {
    "duration": 207,
    "start_time": "2022-03-20T13:54:46.916Z"
   },
   {
    "duration": 204,
    "start_time": "2022-03-20T13:54:53.436Z"
   },
   {
    "duration": 3987,
    "start_time": "2022-03-20T13:55:03.583Z"
   },
   {
    "duration": 10,
    "start_time": "2022-03-20T13:56:30.699Z"
   },
   {
    "duration": 1533,
    "start_time": "2022-03-20T13:56:35.436Z"
   },
   {
    "duration": 79,
    "start_time": "2022-03-20T13:56:36.972Z"
   },
   {
    "duration": 50,
    "start_time": "2022-03-20T13:56:37.053Z"
   },
   {
    "duration": 40,
    "start_time": "2022-03-20T13:56:37.107Z"
   },
   {
    "duration": 5,
    "start_time": "2022-03-20T13:56:37.151Z"
   },
   {
    "duration": 42,
    "start_time": "2022-03-20T13:56:37.158Z"
   },
   {
    "duration": 10,
    "start_time": "2022-03-20T13:56:37.203Z"
   },
   {
    "duration": 33,
    "start_time": "2022-03-20T13:56:37.215Z"
   },
   {
    "duration": 52,
    "start_time": "2022-03-20T13:56:37.250Z"
   },
   {
    "duration": 20,
    "start_time": "2022-03-20T13:56:37.305Z"
   },
   {
    "duration": 23,
    "start_time": "2022-03-20T13:56:37.328Z"
   },
   {
    "duration": 45,
    "start_time": "2022-03-20T13:56:37.354Z"
   },
   {
    "duration": 10,
    "start_time": "2022-03-20T13:56:37.401Z"
   },
   {
    "duration": 10,
    "start_time": "2022-03-20T13:56:37.417Z"
   },
   {
    "duration": 21,
    "start_time": "2022-03-20T13:56:37.429Z"
   },
   {
    "duration": 14,
    "start_time": "2022-03-20T13:56:37.452Z"
   },
   {
    "duration": 9,
    "start_time": "2022-03-20T13:56:37.469Z"
   },
   {
    "duration": 21,
    "start_time": "2022-03-20T13:56:37.480Z"
   },
   {
    "duration": 45,
    "start_time": "2022-03-20T13:56:37.504Z"
   },
   {
    "duration": 25,
    "start_time": "2022-03-20T13:56:37.552Z"
   },
   {
    "duration": 80,
    "start_time": "2022-03-20T13:56:37.580Z"
   },
   {
    "duration": 400,
    "start_time": "2022-03-20T13:56:37.662Z"
   },
   {
    "duration": 13,
    "start_time": "2022-03-20T13:56:38.067Z"
   },
   {
    "duration": 28,
    "start_time": "2022-03-20T13:56:38.083Z"
   },
   {
    "duration": 324,
    "start_time": "2022-03-20T13:56:38.114Z"
   },
   {
    "duration": 8,
    "start_time": "2022-03-20T13:56:38.442Z"
   },
   {
    "duration": 495,
    "start_time": "2022-03-20T13:56:38.453Z"
   },
   {
    "duration": 6,
    "start_time": "2022-03-20T13:56:38.950Z"
   },
   {
    "duration": 25,
    "start_time": "2022-03-20T13:56:38.960Z"
   },
   {
    "duration": 3847,
    "start_time": "2022-03-20T13:56:38.988Z"
   },
   {
    "duration": 3705,
    "start_time": "2022-03-20T13:57:23.096Z"
   },
   {
    "duration": 232,
    "start_time": "2022-03-20T13:58:20.522Z"
   },
   {
    "duration": 46,
    "start_time": "2022-03-20T13:59:57.066Z"
   },
   {
    "duration": 1030,
    "start_time": "2022-03-20T14:01:03.565Z"
   },
   {
    "duration": 9,
    "start_time": "2022-03-20T14:17:54.470Z"
   },
   {
    "duration": 287,
    "start_time": "2022-03-20T14:18:17.178Z"
   },
   {
    "duration": 3,
    "start_time": "2022-03-20T14:18:38.679Z"
   },
   {
    "duration": 210,
    "start_time": "2022-03-20T14:20:58.126Z"
   },
   {
    "duration": 240,
    "start_time": "2022-03-20T14:21:04.471Z"
   },
   {
    "duration": 317,
    "start_time": "2022-03-20T14:21:10.321Z"
   },
   {
    "duration": 3660,
    "start_time": "2022-03-20T14:21:20.617Z"
   },
   {
    "duration": 186,
    "start_time": "2022-03-20T14:26:20.489Z"
   },
   {
    "duration": 4315,
    "start_time": "2022-03-20T14:27:03.866Z"
   },
   {
    "duration": 473,
    "start_time": "2022-03-20T14:27:46.310Z"
   },
   {
    "duration": 555,
    "start_time": "2022-03-20T14:27:58.165Z"
   },
   {
    "duration": 211,
    "start_time": "2022-03-20T14:32:24.747Z"
   },
   {
    "duration": 8,
    "start_time": "2022-03-20T14:32:32.106Z"
   },
   {
    "duration": 11,
    "start_time": "2022-03-20T14:35:01.631Z"
   },
   {
    "duration": 8314,
    "start_time": "2022-03-20T14:35:43.322Z"
   },
   {
    "duration": 478,
    "start_time": "2022-03-20T14:38:48.804Z"
   },
   {
    "duration": 206,
    "start_time": "2022-03-20T14:40:12.701Z"
   },
   {
    "duration": 199,
    "start_time": "2022-03-20T14:40:32.154Z"
   },
   {
    "duration": 435,
    "start_time": "2022-03-20T14:41:42.880Z"
   },
   {
    "duration": 453,
    "start_time": "2022-03-20T14:41:51.613Z"
   },
   {
    "duration": 10,
    "start_time": "2022-03-20T14:43:40.283Z"
   },
   {
    "duration": 121,
    "start_time": "2022-03-20T14:44:46.399Z"
   },
   {
    "duration": 47,
    "start_time": "2022-03-20T14:44:49.015Z"
   },
   {
    "duration": 357,
    "start_time": "2022-03-20T14:45:06.525Z"
   },
   {
    "duration": 393,
    "start_time": "2022-03-20T14:45:27.457Z"
   },
   {
    "duration": 508,
    "start_time": "2022-03-20T14:45:54.142Z"
   },
   {
    "duration": 346,
    "start_time": "2022-03-20T14:46:24.529Z"
   },
   {
    "duration": 345,
    "start_time": "2022-03-20T14:47:13.520Z"
   },
   {
    "duration": 351,
    "start_time": "2022-03-20T14:47:30.076Z"
   },
   {
    "duration": 482,
    "start_time": "2022-03-20T14:47:35.732Z"
   },
   {
    "duration": 424,
    "start_time": "2022-03-20T14:48:10.723Z"
   },
   {
    "duration": 412,
    "start_time": "2022-03-20T14:48:18.531Z"
   },
   {
    "duration": 454,
    "start_time": "2022-03-20T14:49:08.792Z"
   },
   {
    "duration": 11,
    "start_time": "2022-03-20T14:50:48.701Z"
   },
   {
    "duration": 12,
    "start_time": "2022-03-20T14:50:53.062Z"
   },
   {
    "duration": 427,
    "start_time": "2022-03-20T14:50:53.524Z"
   },
   {
    "duration": 1389,
    "start_time": "2022-03-20T14:51:02.267Z"
   },
   {
    "duration": 73,
    "start_time": "2022-03-20T14:51:03.659Z"
   },
   {
    "duration": 43,
    "start_time": "2022-03-20T14:51:03.734Z"
   },
   {
    "duration": 22,
    "start_time": "2022-03-20T14:51:03.779Z"
   },
   {
    "duration": 4,
    "start_time": "2022-03-20T14:51:03.804Z"
   },
   {
    "duration": 61,
    "start_time": "2022-03-20T14:51:03.810Z"
   },
   {
    "duration": 13,
    "start_time": "2022-03-20T14:51:03.873Z"
   },
   {
    "duration": 16,
    "start_time": "2022-03-20T14:51:03.888Z"
   },
   {
    "duration": 19,
    "start_time": "2022-03-20T14:51:03.906Z"
   },
   {
    "duration": 13,
    "start_time": "2022-03-20T14:51:03.943Z"
   },
   {
    "duration": 22,
    "start_time": "2022-03-20T14:51:03.958Z"
   },
   {
    "duration": 27,
    "start_time": "2022-03-20T14:51:03.982Z"
   },
   {
    "duration": 7,
    "start_time": "2022-03-20T14:51:04.011Z"
   },
   {
    "duration": 7,
    "start_time": "2022-03-20T14:51:04.045Z"
   },
   {
    "duration": 17,
    "start_time": "2022-03-20T14:51:04.054Z"
   },
   {
    "duration": 19,
    "start_time": "2022-03-20T14:51:04.073Z"
   },
   {
    "duration": 21,
    "start_time": "2022-03-20T14:51:04.095Z"
   },
   {
    "duration": 30,
    "start_time": "2022-03-20T14:51:04.118Z"
   },
   {
    "duration": 6,
    "start_time": "2022-03-20T14:51:04.150Z"
   },
   {
    "duration": 28,
    "start_time": "2022-03-20T14:51:04.158Z"
   },
   {
    "duration": 75,
    "start_time": "2022-03-20T14:51:04.188Z"
   },
   {
    "duration": 362,
    "start_time": "2022-03-20T14:51:04.265Z"
   },
   {
    "duration": 15,
    "start_time": "2022-03-20T14:51:04.629Z"
   },
   {
    "duration": 33,
    "start_time": "2022-03-20T14:51:04.646Z"
   },
   {
    "duration": 213,
    "start_time": "2022-03-20T14:51:04.681Z"
   },
   {
    "duration": 5,
    "start_time": "2022-03-20T14:51:04.897Z"
   },
   {
    "duration": 569,
    "start_time": "2022-03-20T14:51:04.905Z"
   },
   {
    "duration": 4,
    "start_time": "2022-03-20T14:51:05.477Z"
   },
   {
    "duration": 61,
    "start_time": "2022-03-20T14:51:05.483Z"
   },
   {
    "duration": 905,
    "start_time": "2022-03-20T14:51:05.546Z"
   },
   {
    "duration": 7,
    "start_time": "2022-03-20T14:51:06.454Z"
   },
   {
    "duration": 283,
    "start_time": "2022-03-20T14:51:06.463Z"
   },
   {
    "duration": 4,
    "start_time": "2022-03-20T14:51:06.748Z"
   },
   {
    "duration": 167,
    "start_time": "2022-03-20T14:51:06.754Z"
   },
   {
    "duration": 0,
    "start_time": "2022-03-20T14:51:06.925Z"
   },
   {
    "duration": 0,
    "start_time": "2022-03-20T14:51:06.926Z"
   },
   {
    "duration": 0,
    "start_time": "2022-03-20T14:51:06.927Z"
   },
   {
    "duration": 0,
    "start_time": "2022-03-20T14:51:06.943Z"
   },
   {
    "duration": 1465,
    "start_time": "2022-03-20T14:51:25.516Z"
   },
   {
    "duration": 77,
    "start_time": "2022-03-20T14:51:26.984Z"
   },
   {
    "duration": 45,
    "start_time": "2022-03-20T14:51:27.063Z"
   },
   {
    "duration": 46,
    "start_time": "2022-03-20T14:51:27.110Z"
   },
   {
    "duration": 5,
    "start_time": "2022-03-20T14:51:27.159Z"
   },
   {
    "duration": 32,
    "start_time": "2022-03-20T14:51:27.167Z"
   },
   {
    "duration": 10,
    "start_time": "2022-03-20T14:51:27.201Z"
   },
   {
    "duration": 7,
    "start_time": "2022-03-20T14:51:27.244Z"
   },
   {
    "duration": 26,
    "start_time": "2022-03-20T14:51:27.253Z"
   },
   {
    "duration": 13,
    "start_time": "2022-03-20T14:51:27.281Z"
   },
   {
    "duration": 47,
    "start_time": "2022-03-20T14:51:27.296Z"
   },
   {
    "duration": 25,
    "start_time": "2022-03-20T14:51:27.345Z"
   },
   {
    "duration": 8,
    "start_time": "2022-03-20T14:51:27.372Z"
   },
   {
    "duration": 6,
    "start_time": "2022-03-20T14:51:27.387Z"
   },
   {
    "duration": 53,
    "start_time": "2022-03-20T14:51:27.396Z"
   },
   {
    "duration": 5,
    "start_time": "2022-03-20T14:51:27.451Z"
   },
   {
    "duration": 8,
    "start_time": "2022-03-20T14:51:27.458Z"
   },
   {
    "duration": 20,
    "start_time": "2022-03-20T14:51:27.468Z"
   },
   {
    "duration": 6,
    "start_time": "2022-03-20T14:51:27.490Z"
   },
   {
    "duration": 61,
    "start_time": "2022-03-20T14:51:27.497Z"
   },
   {
    "duration": 61,
    "start_time": "2022-03-20T14:51:27.560Z"
   },
   {
    "duration": 353,
    "start_time": "2022-03-20T14:51:27.642Z"
   },
   {
    "duration": 10,
    "start_time": "2022-03-20T14:51:27.997Z"
   },
   {
    "duration": 41,
    "start_time": "2022-03-20T14:51:28.010Z"
   },
   {
    "duration": 218,
    "start_time": "2022-03-20T14:51:28.053Z"
   },
   {
    "duration": 5,
    "start_time": "2022-03-20T14:51:28.274Z"
   },
   {
    "duration": 477,
    "start_time": "2022-03-20T14:51:28.282Z"
   },
   {
    "duration": 4,
    "start_time": "2022-03-20T14:51:28.761Z"
   },
   {
    "duration": 48,
    "start_time": "2022-03-20T14:51:28.767Z"
   },
   {
    "duration": 906,
    "start_time": "2022-03-20T14:51:28.817Z"
   },
   {
    "duration": 7,
    "start_time": "2022-03-20T14:51:29.726Z"
   },
   {
    "duration": 284,
    "start_time": "2022-03-20T14:51:29.735Z"
   },
   {
    "duration": 4,
    "start_time": "2022-03-20T14:51:30.021Z"
   },
   {
    "duration": 1196,
    "start_time": "2022-03-20T14:51:30.027Z"
   },
   {
    "duration": 0,
    "start_time": "2022-03-20T14:51:31.226Z"
   },
   {
    "duration": 1,
    "start_time": "2022-03-20T14:51:31.227Z"
   },
   {
    "duration": 0,
    "start_time": "2022-03-20T14:51:31.229Z"
   },
   {
    "duration": 1411,
    "start_time": "2022-03-20T14:51:44.147Z"
   },
   {
    "duration": 90,
    "start_time": "2022-03-20T14:51:45.560Z"
   },
   {
    "duration": 41,
    "start_time": "2022-03-20T14:51:45.653Z"
   },
   {
    "duration": 19,
    "start_time": "2022-03-20T14:51:45.697Z"
   },
   {
    "duration": 24,
    "start_time": "2022-03-20T14:51:45.719Z"
   },
   {
    "duration": 40,
    "start_time": "2022-03-20T14:51:45.745Z"
   },
   {
    "duration": 25,
    "start_time": "2022-03-20T14:51:45.788Z"
   },
   {
    "duration": 18,
    "start_time": "2022-03-20T14:51:45.816Z"
   },
   {
    "duration": 36,
    "start_time": "2022-03-20T14:51:45.836Z"
   },
   {
    "duration": 17,
    "start_time": "2022-03-20T14:51:45.875Z"
   },
   {
    "duration": 21,
    "start_time": "2022-03-20T14:51:45.894Z"
   },
   {
    "duration": 39,
    "start_time": "2022-03-20T14:51:45.917Z"
   },
   {
    "duration": 7,
    "start_time": "2022-03-20T14:51:45.959Z"
   },
   {
    "duration": 21,
    "start_time": "2022-03-20T14:51:45.970Z"
   },
   {
    "duration": 21,
    "start_time": "2022-03-20T14:51:45.994Z"
   },
   {
    "duration": 24,
    "start_time": "2022-03-20T14:51:46.018Z"
   },
   {
    "duration": 16,
    "start_time": "2022-03-20T14:51:46.045Z"
   },
   {
    "duration": 31,
    "start_time": "2022-03-20T14:51:46.063Z"
   },
   {
    "duration": 13,
    "start_time": "2022-03-20T14:51:46.096Z"
   },
   {
    "duration": 30,
    "start_time": "2022-03-20T14:51:46.112Z"
   },
   {
    "duration": 72,
    "start_time": "2022-03-20T14:51:46.144Z"
   },
   {
    "duration": 372,
    "start_time": "2022-03-20T14:51:46.219Z"
   },
   {
    "duration": 10,
    "start_time": "2022-03-20T14:51:46.593Z"
   },
   {
    "duration": 39,
    "start_time": "2022-03-20T14:51:46.605Z"
   },
   {
    "duration": 225,
    "start_time": "2022-03-20T14:51:46.646Z"
   },
   {
    "duration": 6,
    "start_time": "2022-03-20T14:51:46.873Z"
   },
   {
    "duration": 485,
    "start_time": "2022-03-20T14:51:46.881Z"
   },
   {
    "duration": 4,
    "start_time": "2022-03-20T14:51:47.368Z"
   },
   {
    "duration": 46,
    "start_time": "2022-03-20T14:51:47.374Z"
   },
   {
    "duration": 924,
    "start_time": "2022-03-20T14:51:47.443Z"
   },
   {
    "duration": 9,
    "start_time": "2022-03-20T14:51:48.370Z"
   },
   {
    "duration": 318,
    "start_time": "2022-03-20T14:51:48.382Z"
   },
   {
    "duration": 5,
    "start_time": "2022-03-20T14:51:48.703Z"
   },
   {
    "duration": 243,
    "start_time": "2022-03-20T14:51:48.710Z"
   },
   {
    "duration": 15,
    "start_time": "2022-03-20T14:51:48.955Z"
   },
   {
    "duration": 565,
    "start_time": "2022-03-20T14:51:48.972Z"
   },
   {
    "duration": 246,
    "start_time": "2022-03-20T14:55:13.238Z"
   },
   {
    "duration": 265,
    "start_time": "2022-03-20T14:56:05.712Z"
   },
   {
    "duration": 1590,
    "start_time": "2022-03-20T14:56:30.130Z"
   },
   {
    "duration": 76,
    "start_time": "2022-03-20T14:56:31.723Z"
   },
   {
    "duration": 54,
    "start_time": "2022-03-20T14:56:31.801Z"
   },
   {
    "duration": 20,
    "start_time": "2022-03-20T14:56:31.857Z"
   },
   {
    "duration": 5,
    "start_time": "2022-03-20T14:56:31.880Z"
   },
   {
    "duration": 60,
    "start_time": "2022-03-20T14:56:31.887Z"
   },
   {
    "duration": 9,
    "start_time": "2022-03-20T14:56:31.949Z"
   },
   {
    "duration": 7,
    "start_time": "2022-03-20T14:56:31.960Z"
   },
   {
    "duration": 19,
    "start_time": "2022-03-20T14:56:31.969Z"
   },
   {
    "duration": 12,
    "start_time": "2022-03-20T14:56:31.990Z"
   },
   {
    "duration": 15,
    "start_time": "2022-03-20T14:56:32.043Z"
   },
   {
    "duration": 23,
    "start_time": "2022-03-20T14:56:32.060Z"
   },
   {
    "duration": 6,
    "start_time": "2022-03-20T14:56:32.085Z"
   },
   {
    "duration": 45,
    "start_time": "2022-03-20T14:56:32.098Z"
   },
   {
    "duration": 11,
    "start_time": "2022-03-20T14:56:32.145Z"
   },
   {
    "duration": 5,
    "start_time": "2022-03-20T14:56:32.158Z"
   },
   {
    "duration": 10,
    "start_time": "2022-03-20T14:56:32.165Z"
   },
   {
    "duration": 24,
    "start_time": "2022-03-20T14:56:32.177Z"
   },
   {
    "duration": 5,
    "start_time": "2022-03-20T14:56:32.204Z"
   },
   {
    "duration": 22,
    "start_time": "2022-03-20T14:56:32.243Z"
   },
   {
    "duration": 78,
    "start_time": "2022-03-20T14:56:32.267Z"
   },
   {
    "duration": 358,
    "start_time": "2022-03-20T14:56:32.347Z"
   },
   {
    "duration": 10,
    "start_time": "2022-03-20T14:56:32.707Z"
   },
   {
    "duration": 37,
    "start_time": "2022-03-20T14:56:32.719Z"
   },
   {
    "duration": 222,
    "start_time": "2022-03-20T14:56:32.758Z"
   },
   {
    "duration": 5,
    "start_time": "2022-03-20T14:56:32.982Z"
   },
   {
    "duration": 472,
    "start_time": "2022-03-20T14:56:32.989Z"
   },
   {
    "duration": 3,
    "start_time": "2022-03-20T14:56:33.464Z"
   },
   {
    "duration": 49,
    "start_time": "2022-03-20T14:56:33.470Z"
   },
   {
    "duration": 918,
    "start_time": "2022-03-20T14:56:33.521Z"
   },
   {
    "duration": 10,
    "start_time": "2022-03-20T14:56:34.443Z"
   },
   {
    "duration": 447,
    "start_time": "2022-03-20T14:56:34.455Z"
   },
   {
    "duration": 5,
    "start_time": "2022-03-20T14:56:34.904Z"
   },
   {
    "duration": 236,
    "start_time": "2022-03-20T14:56:34.912Z"
   },
   {
    "duration": 13,
    "start_time": "2022-03-20T14:56:35.150Z"
   },
   {
    "duration": 566,
    "start_time": "2022-03-20T14:56:35.166Z"
   },
   {
    "duration": 218,
    "start_time": "2022-03-20T14:56:35.742Z"
   },
   {
    "duration": 223,
    "start_time": "2022-03-20T14:56:35.962Z"
   },
   {
    "duration": 4154,
    "start_time": "2022-03-20T14:59:13.038Z"
   },
   {
    "duration": 220,
    "start_time": "2022-03-20T14:59:27.377Z"
   },
   {
    "duration": 1412,
    "start_time": "2022-03-20T15:00:12.872Z"
   },
   {
    "duration": 82,
    "start_time": "2022-03-20T15:00:14.287Z"
   },
   {
    "duration": 45,
    "start_time": "2022-03-20T15:00:14.371Z"
   },
   {
    "duration": 39,
    "start_time": "2022-03-20T15:00:14.418Z"
   },
   {
    "duration": 4,
    "start_time": "2022-03-20T15:00:14.461Z"
   },
   {
    "duration": 35,
    "start_time": "2022-03-20T15:00:14.467Z"
   },
   {
    "duration": 44,
    "start_time": "2022-03-20T15:00:14.505Z"
   },
   {
    "duration": 7,
    "start_time": "2022-03-20T15:00:14.551Z"
   },
   {
    "duration": 18,
    "start_time": "2022-03-20T15:00:14.560Z"
   },
   {
    "duration": 12,
    "start_time": "2022-03-20T15:00:14.580Z"
   },
   {
    "duration": 55,
    "start_time": "2022-03-20T15:00:14.594Z"
   },
   {
    "duration": 25,
    "start_time": "2022-03-20T15:00:14.652Z"
   },
   {
    "duration": 7,
    "start_time": "2022-03-20T15:00:14.680Z"
   },
   {
    "duration": 7,
    "start_time": "2022-03-20T15:00:14.695Z"
   },
   {
    "duration": 11,
    "start_time": "2022-03-20T15:00:14.744Z"
   },
   {
    "duration": 10,
    "start_time": "2022-03-20T15:00:14.757Z"
   },
   {
    "duration": 9,
    "start_time": "2022-03-20T15:00:14.769Z"
   },
   {
    "duration": 21,
    "start_time": "2022-03-20T15:00:14.780Z"
   },
   {
    "duration": 43,
    "start_time": "2022-03-20T15:00:14.803Z"
   },
   {
    "duration": 26,
    "start_time": "2022-03-20T15:00:14.849Z"
   },
   {
    "duration": 78,
    "start_time": "2022-03-20T15:00:14.878Z"
   },
   {
    "duration": 387,
    "start_time": "2022-03-20T15:00:14.959Z"
   },
   {
    "duration": 11,
    "start_time": "2022-03-20T15:00:15.348Z"
   },
   {
    "duration": 19,
    "start_time": "2022-03-20T15:00:15.361Z"
   },
   {
    "duration": 342,
    "start_time": "2022-03-20T15:00:15.383Z"
   },
   {
    "duration": 7,
    "start_time": "2022-03-20T15:00:15.728Z"
   },
   {
    "duration": 713,
    "start_time": "2022-03-20T15:00:15.744Z"
   },
   {
    "duration": 5,
    "start_time": "2022-03-20T15:00:16.460Z"
   },
   {
    "duration": 49,
    "start_time": "2022-03-20T15:00:16.467Z"
   },
   {
    "duration": 926,
    "start_time": "2022-03-20T15:00:16.518Z"
   },
   {
    "duration": 7,
    "start_time": "2022-03-20T15:00:17.447Z"
   },
   {
    "duration": 312,
    "start_time": "2022-03-20T15:00:17.456Z"
   },
   {
    "duration": 4,
    "start_time": "2022-03-20T15:00:17.770Z"
   },
   {
    "duration": 215,
    "start_time": "2022-03-20T15:00:17.776Z"
   },
   {
    "duration": 13,
    "start_time": "2022-03-20T15:00:17.993Z"
   },
   {
    "duration": 535,
    "start_time": "2022-03-20T15:00:18.008Z"
   },
   {
    "duration": 245,
    "start_time": "2022-03-20T15:00:18.545Z"
   },
   {
    "duration": 219,
    "start_time": "2022-03-20T15:00:18.792Z"
   },
   {
    "duration": 230,
    "start_time": "2022-03-20T15:00:45.817Z"
   },
   {
    "duration": 223,
    "start_time": "2022-03-20T15:00:50.910Z"
   },
   {
    "duration": 237,
    "start_time": "2022-03-20T15:01:06.171Z"
   },
   {
    "duration": 238,
    "start_time": "2022-03-20T15:01:13.012Z"
   },
   {
    "duration": 231,
    "start_time": "2022-03-20T15:01:23.617Z"
   },
   {
    "duration": 333,
    "start_time": "2022-03-20T15:01:40.939Z"
   },
   {
    "duration": 3995,
    "start_time": "2022-03-20T15:02:09.450Z"
   },
   {
    "duration": 332,
    "start_time": "2022-03-20T15:02:19.446Z"
   },
   {
    "duration": 15,
    "start_time": "2022-03-20T15:08:37.826Z"
   },
   {
    "duration": 1598,
    "start_time": "2022-03-20T15:09:34.864Z"
   },
   {
    "duration": 77,
    "start_time": "2022-03-20T15:09:36.465Z"
   },
   {
    "duration": 41,
    "start_time": "2022-03-20T15:09:36.544Z"
   },
   {
    "duration": 21,
    "start_time": "2022-03-20T15:09:36.588Z"
   },
   {
    "duration": 32,
    "start_time": "2022-03-20T15:09:36.612Z"
   },
   {
    "duration": 38,
    "start_time": "2022-03-20T15:09:36.647Z"
   },
   {
    "duration": 10,
    "start_time": "2022-03-20T15:09:36.687Z"
   },
   {
    "duration": 7,
    "start_time": "2022-03-20T15:09:36.699Z"
   },
   {
    "duration": 49,
    "start_time": "2022-03-20T15:09:36.708Z"
   },
   {
    "duration": 13,
    "start_time": "2022-03-20T15:09:36.759Z"
   },
   {
    "duration": 15,
    "start_time": "2022-03-20T15:09:36.774Z"
   },
   {
    "duration": 56,
    "start_time": "2022-03-20T15:09:36.792Z"
   },
   {
    "duration": 6,
    "start_time": "2022-03-20T15:09:36.851Z"
   },
   {
    "duration": 6,
    "start_time": "2022-03-20T15:09:36.862Z"
   },
   {
    "duration": 10,
    "start_time": "2022-03-20T15:09:36.870Z"
   },
   {
    "duration": 5,
    "start_time": "2022-03-20T15:09:36.882Z"
   },
   {
    "duration": 10,
    "start_time": "2022-03-20T15:09:36.889Z"
   },
   {
    "duration": 25,
    "start_time": "2022-03-20T15:09:36.943Z"
   },
   {
    "duration": 6,
    "start_time": "2022-03-20T15:09:36.971Z"
   },
   {
    "duration": 24,
    "start_time": "2022-03-20T15:09:36.980Z"
   },
   {
    "duration": 91,
    "start_time": "2022-03-20T15:09:37.007Z"
   },
   {
    "duration": 359,
    "start_time": "2022-03-20T15:09:37.100Z"
   },
   {
    "duration": 10,
    "start_time": "2022-03-20T15:09:37.462Z"
   },
   {
    "duration": 19,
    "start_time": "2022-03-20T15:09:37.475Z"
   },
   {
    "duration": 238,
    "start_time": "2022-03-20T15:09:37.497Z"
   },
   {
    "duration": 7,
    "start_time": "2022-03-20T15:09:37.737Z"
   },
   {
    "duration": 497,
    "start_time": "2022-03-20T15:09:37.746Z"
   },
   {
    "duration": 4,
    "start_time": "2022-03-20T15:09:38.245Z"
   },
   {
    "duration": 48,
    "start_time": "2022-03-20T15:09:38.250Z"
   },
   {
    "duration": 932,
    "start_time": "2022-03-20T15:09:38.300Z"
   },
   {
    "duration": 9,
    "start_time": "2022-03-20T15:09:39.235Z"
   },
   {
    "duration": 305,
    "start_time": "2022-03-20T15:09:39.246Z"
   },
   {
    "duration": 4,
    "start_time": "2022-03-20T15:09:39.553Z"
   },
   {
    "duration": 212,
    "start_time": "2022-03-20T15:09:39.559Z"
   },
   {
    "duration": 88,
    "start_time": "2022-03-20T15:09:39.774Z"
   },
   {
    "duration": 448,
    "start_time": "2022-03-20T15:09:39.864Z"
   },
   {
    "duration": 242,
    "start_time": "2022-03-20T15:09:40.314Z"
   },
   {
    "duration": 235,
    "start_time": "2022-03-20T15:09:40.558Z"
   },
   {
    "duration": 1039,
    "start_time": "2022-03-20T15:09:40.795Z"
   },
   {
    "duration": 168,
    "start_time": "2022-03-20T15:11:47.025Z"
   },
   {
    "duration": 26,
    "start_time": "2022-03-20T15:11:50.817Z"
   },
   {
    "duration": 1039,
    "start_time": "2022-03-20T15:11:58.586Z"
   },
   {
    "duration": 6,
    "start_time": "2022-03-20T15:13:00.511Z"
   },
   {
    "duration": 321,
    "start_time": "2022-03-20T15:14:04.847Z"
   },
   {
    "duration": 6,
    "start_time": "2022-03-20T15:17:08.037Z"
   },
   {
    "duration": 432,
    "start_time": "2022-03-20T15:17:19.724Z"
   },
   {
    "duration": 276,
    "start_time": "2022-03-20T15:22:41.222Z"
   },
   {
    "duration": 202,
    "start_time": "2022-03-20T15:22:50.932Z"
   },
   {
    "duration": 206,
    "start_time": "2022-03-20T15:23:02.579Z"
   },
   {
    "duration": 238,
    "start_time": "2022-03-20T15:23:23.349Z"
   },
   {
    "duration": 217,
    "start_time": "2022-03-20T15:24:34.239Z"
   },
   {
    "duration": 227,
    "start_time": "2022-03-20T15:28:04.950Z"
   },
   {
    "duration": 229,
    "start_time": "2022-03-20T15:28:25.017Z"
   },
   {
    "duration": 272,
    "start_time": "2022-03-20T15:29:13.607Z"
   },
   {
    "duration": 208,
    "start_time": "2022-03-20T15:29:31.262Z"
   },
   {
    "duration": 215,
    "start_time": "2022-03-20T15:29:32.887Z"
   },
   {
    "duration": 220,
    "start_time": "2022-03-20T15:29:52.003Z"
   },
   {
    "duration": 209,
    "start_time": "2022-03-20T15:31:07.414Z"
   },
   {
    "duration": 232,
    "start_time": "2022-03-20T15:31:34.664Z"
   },
   {
    "duration": 214,
    "start_time": "2022-03-20T15:32:04.065Z"
   },
   {
    "duration": 365,
    "start_time": "2022-03-20T15:36:09.979Z"
   },
   {
    "duration": 24,
    "start_time": "2022-03-20T15:37:08.471Z"
   },
   {
    "duration": 12,
    "start_time": "2022-03-20T15:38:56.992Z"
   },
   {
    "duration": 20,
    "start_time": "2022-03-20T15:39:37.717Z"
   },
   {
    "duration": 6,
    "start_time": "2022-03-20T15:40:27.495Z"
   },
   {
    "duration": 1733,
    "start_time": "2022-03-20T15:40:32.734Z"
   },
   {
    "duration": 81,
    "start_time": "2022-03-20T15:40:34.469Z"
   },
   {
    "duration": 43,
    "start_time": "2022-03-20T15:40:34.552Z"
   },
   {
    "duration": 46,
    "start_time": "2022-03-20T15:40:34.597Z"
   },
   {
    "duration": 5,
    "start_time": "2022-03-20T15:40:34.646Z"
   },
   {
    "duration": 35,
    "start_time": "2022-03-20T15:40:34.653Z"
   },
   {
    "duration": 12,
    "start_time": "2022-03-20T15:40:34.691Z"
   },
   {
    "duration": 13,
    "start_time": "2022-03-20T15:40:34.705Z"
   },
   {
    "duration": 40,
    "start_time": "2022-03-20T15:40:34.720Z"
   },
   {
    "duration": 15,
    "start_time": "2022-03-20T15:40:34.763Z"
   },
   {
    "duration": 16,
    "start_time": "2022-03-20T15:40:34.780Z"
   },
   {
    "duration": 64,
    "start_time": "2022-03-20T15:40:34.798Z"
   },
   {
    "duration": 8,
    "start_time": "2022-03-20T15:40:34.865Z"
   },
   {
    "duration": 9,
    "start_time": "2022-03-20T15:40:34.878Z"
   },
   {
    "duration": 12,
    "start_time": "2022-03-20T15:40:34.890Z"
   },
   {
    "duration": 38,
    "start_time": "2022-03-20T15:40:34.905Z"
   },
   {
    "duration": 7,
    "start_time": "2022-03-20T15:40:34.945Z"
   },
   {
    "duration": 22,
    "start_time": "2022-03-20T15:40:34.955Z"
   },
   {
    "duration": 8,
    "start_time": "2022-03-20T15:40:34.980Z"
   },
   {
    "duration": 60,
    "start_time": "2022-03-20T15:40:34.990Z"
   },
   {
    "duration": 65,
    "start_time": "2022-03-20T15:40:35.053Z"
   },
   {
    "duration": 375,
    "start_time": "2022-03-20T15:40:35.121Z"
   },
   {
    "duration": 11,
    "start_time": "2022-03-20T15:40:35.498Z"
   },
   {
    "duration": 43,
    "start_time": "2022-03-20T15:40:35.511Z"
   },
   {
    "duration": 231,
    "start_time": "2022-03-20T15:40:35.556Z"
   },
   {
    "duration": 6,
    "start_time": "2022-03-20T15:40:35.790Z"
   },
   {
    "duration": 488,
    "start_time": "2022-03-20T15:40:35.798Z"
   },
   {
    "duration": 4,
    "start_time": "2022-03-20T15:40:36.289Z"
   },
   {
    "duration": 67,
    "start_time": "2022-03-20T15:40:36.295Z"
   },
   {
    "duration": 919,
    "start_time": "2022-03-20T15:40:36.365Z"
   },
   {
    "duration": 9,
    "start_time": "2022-03-20T15:40:37.286Z"
   },
   {
    "duration": 294,
    "start_time": "2022-03-20T15:40:37.297Z"
   },
   {
    "duration": 5,
    "start_time": "2022-03-20T15:40:37.593Z"
   },
   {
    "duration": 222,
    "start_time": "2022-03-20T15:40:37.600Z"
   },
   {
    "duration": 102,
    "start_time": "2022-03-20T15:40:37.824Z"
   },
   {
    "duration": 579,
    "start_time": "2022-03-20T15:40:37.928Z"
   },
   {
    "duration": 257,
    "start_time": "2022-03-20T15:40:38.509Z"
   },
   {
    "duration": 267,
    "start_time": "2022-03-20T15:40:38.769Z"
   },
   {
    "duration": 1185,
    "start_time": "2022-03-20T15:40:39.039Z"
   },
   {
    "duration": 16,
    "start_time": "2022-03-20T15:40:40.227Z"
   },
   {
    "duration": 354,
    "start_time": "2022-03-20T15:40:40.249Z"
   },
   {
    "duration": 6,
    "start_time": "2022-03-20T15:40:40.605Z"
   },
   {
    "duration": 319,
    "start_time": "2022-03-20T15:40:40.613Z"
   },
   {
    "duration": 229,
    "start_time": "2022-03-20T15:40:40.935Z"
   },
   {
    "duration": 233,
    "start_time": "2022-03-20T15:40:41.166Z"
   },
   {
    "duration": 230,
    "start_time": "2022-03-20T15:40:41.402Z"
   },
   {
    "duration": 314,
    "start_time": "2022-03-20T15:40:41.634Z"
   },
   {
    "duration": 255,
    "start_time": "2022-03-20T15:40:41.950Z"
   },
   {
    "duration": 237,
    "start_time": "2022-03-20T15:40:42.207Z"
   },
   {
    "duration": 225,
    "start_time": "2022-03-20T15:40:42.447Z"
   },
   {
    "duration": 245,
    "start_time": "2022-03-20T15:40:42.674Z"
   },
   {
    "duration": 243,
    "start_time": "2022-03-20T15:40:42.921Z"
   },
   {
    "duration": 22,
    "start_time": "2022-03-20T15:40:43.167Z"
   },
   {
    "duration": 18,
    "start_time": "2022-03-20T15:40:43.191Z"
   },
   {
    "duration": 12,
    "start_time": "2022-03-20T15:41:24.280Z"
   },
   {
    "duration": 14,
    "start_time": "2022-03-20T15:41:33.674Z"
   },
   {
    "duration": 13,
    "start_time": "2022-03-20T15:41:37.124Z"
   },
   {
    "duration": 13,
    "start_time": "2022-03-20T15:42:08.825Z"
   },
   {
    "duration": 16,
    "start_time": "2022-03-20T15:43:42.966Z"
   },
   {
    "duration": 16,
    "start_time": "2022-03-20T15:44:24.216Z"
   },
   {
    "duration": 16,
    "start_time": "2022-03-20T15:45:20.872Z"
   },
   {
    "duration": 14,
    "start_time": "2022-03-20T15:45:38.907Z"
   },
   {
    "duration": 16,
    "start_time": "2022-03-20T15:45:44.971Z"
   },
   {
    "duration": 16,
    "start_time": "2022-03-20T15:45:48.449Z"
   },
   {
    "duration": 16,
    "start_time": "2022-03-20T15:45:58.988Z"
   },
   {
    "duration": 13,
    "start_time": "2022-03-20T15:46:58.506Z"
   },
   {
    "duration": 16,
    "start_time": "2022-03-20T15:47:15.391Z"
   },
   {
    "duration": 146,
    "start_time": "2022-03-20T15:47:45.987Z"
   },
   {
    "duration": 14,
    "start_time": "2022-03-20T15:47:56.366Z"
   },
   {
    "duration": 13,
    "start_time": "2022-03-20T15:50:07.531Z"
   },
   {
    "duration": 12,
    "start_time": "2022-03-20T15:50:25.847Z"
   },
   {
    "duration": 11,
    "start_time": "2022-03-20T15:50:34.333Z"
   },
   {
    "duration": 4,
    "start_time": "2022-03-20T15:50:43.885Z"
   },
   {
    "duration": 6,
    "start_time": "2022-03-20T15:50:50.177Z"
   },
   {
    "duration": 1668,
    "start_time": "2022-03-20T15:52:22.901Z"
   },
   {
    "duration": 715,
    "start_time": "2022-03-20T15:52:24.573Z"
   },
   {
    "duration": 40,
    "start_time": "2022-03-20T15:52:25.291Z"
   },
   {
    "duration": 124,
    "start_time": "2022-03-20T15:52:25.333Z"
   },
   {
    "duration": 5,
    "start_time": "2022-03-20T15:52:25.460Z"
   },
   {
    "duration": 41,
    "start_time": "2022-03-20T15:52:25.468Z"
   },
   {
    "duration": 32,
    "start_time": "2022-03-20T15:52:25.512Z"
   },
   {
    "duration": 9,
    "start_time": "2022-03-20T15:52:25.547Z"
   },
   {
    "duration": 27,
    "start_time": "2022-03-20T15:52:25.559Z"
   },
   {
    "duration": 18,
    "start_time": "2022-03-20T15:52:25.588Z"
   },
   {
    "duration": 51,
    "start_time": "2022-03-20T15:52:25.608Z"
   },
   {
    "duration": 23,
    "start_time": "2022-03-20T15:52:25.661Z"
   },
   {
    "duration": 7,
    "start_time": "2022-03-20T15:52:25.686Z"
   },
   {
    "duration": 9,
    "start_time": "2022-03-20T15:52:25.698Z"
   },
   {
    "duration": 11,
    "start_time": "2022-03-20T15:52:25.743Z"
   },
   {
    "duration": 8,
    "start_time": "2022-03-20T15:52:25.757Z"
   },
   {
    "duration": 15,
    "start_time": "2022-03-20T15:52:25.768Z"
   },
   {
    "duration": 24,
    "start_time": "2022-03-20T15:52:25.785Z"
   },
   {
    "duration": 5,
    "start_time": "2022-03-20T15:52:25.812Z"
   },
   {
    "duration": 24,
    "start_time": "2022-03-20T15:52:25.843Z"
   },
   {
    "duration": 79,
    "start_time": "2022-03-20T15:52:25.869Z"
   },
   {
    "duration": 372,
    "start_time": "2022-03-20T15:52:25.951Z"
   },
   {
    "duration": 19,
    "start_time": "2022-03-20T15:52:26.325Z"
   },
   {
    "duration": 20,
    "start_time": "2022-03-20T15:52:26.346Z"
   },
   {
    "duration": 245,
    "start_time": "2022-03-20T15:52:26.368Z"
   },
   {
    "duration": 5,
    "start_time": "2022-03-20T15:52:26.616Z"
   },
   {
    "duration": 499,
    "start_time": "2022-03-20T15:52:26.623Z"
   },
   {
    "duration": 4,
    "start_time": "2022-03-20T15:52:27.124Z"
   },
   {
    "duration": 57,
    "start_time": "2022-03-20T15:52:27.130Z"
   },
   {
    "duration": 995,
    "start_time": "2022-03-20T15:52:27.189Z"
   },
   {
    "duration": 8,
    "start_time": "2022-03-20T15:52:28.187Z"
   },
   {
    "duration": 304,
    "start_time": "2022-03-20T15:52:28.197Z"
   },
   {
    "duration": 3,
    "start_time": "2022-03-20T15:52:28.504Z"
   },
   {
    "duration": 247,
    "start_time": "2022-03-20T15:52:28.510Z"
   },
   {
    "duration": 95,
    "start_time": "2022-03-20T15:52:28.759Z"
   },
   {
    "duration": 467,
    "start_time": "2022-03-20T15:52:28.857Z"
   },
   {
    "duration": 258,
    "start_time": "2022-03-20T15:52:29.326Z"
   },
   {
    "duration": 244,
    "start_time": "2022-03-20T15:52:29.586Z"
   },
   {
    "duration": 1129,
    "start_time": "2022-03-20T15:52:29.832Z"
   },
   {
    "duration": 6,
    "start_time": "2022-03-20T15:52:30.963Z"
   },
   {
    "duration": 406,
    "start_time": "2022-03-20T15:52:30.977Z"
   },
   {
    "duration": 7,
    "start_time": "2022-03-20T15:52:31.386Z"
   },
   {
    "duration": 359,
    "start_time": "2022-03-20T15:52:31.396Z"
   },
   {
    "duration": 230,
    "start_time": "2022-03-20T15:52:31.757Z"
   },
   {
    "duration": 221,
    "start_time": "2022-03-20T15:52:31.989Z"
   },
   {
    "duration": 231,
    "start_time": "2022-03-20T15:52:32.212Z"
   },
   {
    "duration": 432,
    "start_time": "2022-03-20T15:52:32.445Z"
   },
   {
    "duration": 270,
    "start_time": "2022-03-20T15:52:32.880Z"
   },
   {
    "duration": 240,
    "start_time": "2022-03-20T15:52:33.152Z"
   },
   {
    "duration": 231,
    "start_time": "2022-03-20T15:52:33.395Z"
   },
   {
    "duration": 258,
    "start_time": "2022-03-20T15:52:33.628Z"
   },
   {
    "duration": 259,
    "start_time": "2022-03-20T15:52:33.889Z"
   },
   {
    "duration": 23,
    "start_time": "2022-03-20T15:52:34.151Z"
   },
   {
    "duration": 15,
    "start_time": "2022-03-20T15:52:34.176Z"
   },
   {
    "duration": 8,
    "start_time": "2022-03-20T15:52:34.193Z"
   },
   {
    "duration": 176,
    "start_time": "2022-03-20T15:52:34.204Z"
   },
   {
    "duration": 0,
    "start_time": "2022-03-20T15:52:34.383Z"
   },
   {
    "duration": 14,
    "start_time": "2022-03-20T15:52:48.309Z"
   },
   {
    "duration": 3,
    "start_time": "2022-03-20T15:53:11.442Z"
   },
   {
    "duration": 12,
    "start_time": "2022-03-20T15:53:11.986Z"
   },
   {
    "duration": 4,
    "start_time": "2022-03-20T15:53:12.363Z"
   },
   {
    "duration": 6,
    "start_time": "2022-03-20T15:53:12.822Z"
   },
   {
    "duration": 11,
    "start_time": "2022-03-20T15:53:25.914Z"
   },
   {
    "duration": 4,
    "start_time": "2022-03-20T15:53:26.599Z"
   },
   {
    "duration": 5,
    "start_time": "2022-03-20T15:53:26.840Z"
   },
   {
    "duration": 1488,
    "start_time": "2022-03-20T15:54:32.044Z"
   },
   {
    "duration": 85,
    "start_time": "2022-03-20T15:54:33.536Z"
   },
   {
    "duration": 39,
    "start_time": "2022-03-20T15:54:33.623Z"
   },
   {
    "duration": 20,
    "start_time": "2022-03-20T15:54:33.664Z"
   },
   {
    "duration": 4,
    "start_time": "2022-03-20T15:54:33.687Z"
   },
   {
    "duration": 60,
    "start_time": "2022-03-20T15:54:33.693Z"
   },
   {
    "duration": 11,
    "start_time": "2022-03-20T15:54:33.756Z"
   },
   {
    "duration": 6,
    "start_time": "2022-03-20T15:54:33.770Z"
   },
   {
    "duration": 18,
    "start_time": "2022-03-20T15:54:33.779Z"
   },
   {
    "duration": 45,
    "start_time": "2022-03-20T15:54:33.799Z"
   },
   {
    "duration": 15,
    "start_time": "2022-03-20T15:54:33.847Z"
   },
   {
    "duration": 23,
    "start_time": "2022-03-20T15:54:33.865Z"
   },
   {
    "duration": 7,
    "start_time": "2022-03-20T15:54:33.890Z"
   },
   {
    "duration": 49,
    "start_time": "2022-03-20T15:54:33.901Z"
   },
   {
    "duration": 11,
    "start_time": "2022-03-20T15:54:33.952Z"
   },
   {
    "duration": 6,
    "start_time": "2022-03-20T15:54:33.965Z"
   },
   {
    "duration": 6,
    "start_time": "2022-03-20T15:54:33.974Z"
   },
   {
    "duration": 61,
    "start_time": "2022-03-20T15:54:33.983Z"
   },
   {
    "duration": 6,
    "start_time": "2022-03-20T15:54:34.046Z"
   },
   {
    "duration": 26,
    "start_time": "2022-03-20T15:54:34.054Z"
   },
   {
    "duration": 85,
    "start_time": "2022-03-20T15:54:34.082Z"
   },
   {
    "duration": 360,
    "start_time": "2022-03-20T15:54:34.169Z"
   },
   {
    "duration": 15,
    "start_time": "2022-03-20T15:54:34.532Z"
   },
   {
    "duration": 18,
    "start_time": "2022-03-20T15:54:34.550Z"
   },
   {
    "duration": 238,
    "start_time": "2022-03-20T15:54:34.570Z"
   },
   {
    "duration": 6,
    "start_time": "2022-03-20T15:54:34.810Z"
   },
   {
    "duration": 485,
    "start_time": "2022-03-20T15:54:34.818Z"
   },
   {
    "duration": 4,
    "start_time": "2022-03-20T15:54:35.305Z"
   },
   {
    "duration": 68,
    "start_time": "2022-03-20T15:54:35.311Z"
   },
   {
    "duration": 889,
    "start_time": "2022-03-20T15:54:35.382Z"
   },
   {
    "duration": 9,
    "start_time": "2022-03-20T15:54:36.273Z"
   },
   {
    "duration": 293,
    "start_time": "2022-03-20T15:54:36.284Z"
   },
   {
    "duration": 3,
    "start_time": "2022-03-20T15:54:36.579Z"
   },
   {
    "duration": 238,
    "start_time": "2022-03-20T15:54:36.584Z"
   },
   {
    "duration": 90,
    "start_time": "2022-03-20T15:54:36.824Z"
   },
   {
    "duration": 475,
    "start_time": "2022-03-20T15:54:36.916Z"
   },
   {
    "duration": 249,
    "start_time": "2022-03-20T15:54:37.394Z"
   },
   {
    "duration": 351,
    "start_time": "2022-03-20T15:54:37.646Z"
   },
   {
    "duration": 1113,
    "start_time": "2022-03-20T15:54:38.000Z"
   },
   {
    "duration": 7,
    "start_time": "2022-03-20T15:54:39.116Z"
   },
   {
    "duration": 366,
    "start_time": "2022-03-20T15:54:39.142Z"
   },
   {
    "duration": 6,
    "start_time": "2022-03-20T15:54:39.511Z"
   },
   {
    "duration": 369,
    "start_time": "2022-03-20T15:54:39.519Z"
   },
   {
    "duration": 225,
    "start_time": "2022-03-20T15:54:39.891Z"
   },
   {
    "duration": 231,
    "start_time": "2022-03-20T15:54:40.119Z"
   },
   {
    "duration": 244,
    "start_time": "2022-03-20T15:54:40.353Z"
   },
   {
    "duration": 323,
    "start_time": "2022-03-20T15:54:40.600Z"
   },
   {
    "duration": 326,
    "start_time": "2022-03-20T15:54:40.926Z"
   },
   {
    "duration": 330,
    "start_time": "2022-03-20T15:54:41.255Z"
   },
   {
    "duration": 233,
    "start_time": "2022-03-20T15:54:41.588Z"
   },
   {
    "duration": 348,
    "start_time": "2022-03-20T15:54:41.823Z"
   },
   {
    "duration": 234,
    "start_time": "2022-03-20T15:54:42.174Z"
   },
   {
    "duration": 34,
    "start_time": "2022-03-20T15:54:42.410Z"
   },
   {
    "duration": 166,
    "start_time": "2022-03-20T15:54:42.447Z"
   },
   {
    "duration": 23,
    "start_time": "2022-03-20T15:56:01.320Z"
   },
   {
    "duration": 18,
    "start_time": "2022-03-20T15:56:21.208Z"
   },
   {
    "duration": 15,
    "start_time": "2022-03-20T15:56:37.477Z"
   },
   {
    "duration": 16,
    "start_time": "2022-03-20T15:56:40.654Z"
   },
   {
    "duration": 199,
    "start_time": "2022-03-20T15:56:54.475Z"
   },
   {
    "duration": 211,
    "start_time": "2022-03-20T15:57:00.331Z"
   },
   {
    "duration": 16,
    "start_time": "2022-03-20T15:57:09.422Z"
   },
   {
    "duration": 17,
    "start_time": "2022-03-20T15:57:17.510Z"
   },
   {
    "duration": 193,
    "start_time": "2022-03-20T16:11:52.953Z"
   },
   {
    "duration": 12,
    "start_time": "2022-03-20T16:12:25.617Z"
   },
   {
    "duration": 18,
    "start_time": "2022-03-20T16:12:48.151Z"
   },
   {
    "duration": 18,
    "start_time": "2022-03-20T16:12:51.327Z"
   },
   {
    "duration": 18,
    "start_time": "2022-03-20T16:13:28.171Z"
   },
   {
    "duration": 23,
    "start_time": "2022-03-20T16:13:59.542Z"
   },
   {
    "duration": 17,
    "start_time": "2022-03-20T16:14:00.856Z"
   },
   {
    "duration": 21,
    "start_time": "2022-03-20T16:14:12.552Z"
   },
   {
    "duration": 16,
    "start_time": "2022-03-20T16:14:16.580Z"
   },
   {
    "duration": 18,
    "start_time": "2022-03-20T16:14:37.466Z"
   },
   {
    "duration": 1496,
    "start_time": "2022-03-20T16:14:56.341Z"
   },
   {
    "duration": 87,
    "start_time": "2022-03-20T16:14:57.842Z"
   },
   {
    "duration": 42,
    "start_time": "2022-03-20T16:14:57.932Z"
   },
   {
    "duration": 21,
    "start_time": "2022-03-20T16:14:57.976Z"
   },
   {
    "duration": 4,
    "start_time": "2022-03-20T16:14:58.000Z"
   },
   {
    "duration": 64,
    "start_time": "2022-03-20T16:14:58.006Z"
   },
   {
    "duration": 7,
    "start_time": "2022-03-20T16:14:58.072Z"
   },
   {
    "duration": 6,
    "start_time": "2022-03-20T16:14:58.081Z"
   },
   {
    "duration": 18,
    "start_time": "2022-03-20T16:14:58.089Z"
   },
   {
    "duration": 44,
    "start_time": "2022-03-20T16:14:58.109Z"
   },
   {
    "duration": 19,
    "start_time": "2022-03-20T16:14:58.155Z"
   },
   {
    "duration": 21,
    "start_time": "2022-03-20T16:14:58.176Z"
   },
   {
    "duration": 6,
    "start_time": "2022-03-20T16:14:58.199Z"
   },
   {
    "duration": 6,
    "start_time": "2022-03-20T16:14:58.246Z"
   },
   {
    "duration": 9,
    "start_time": "2022-03-20T16:14:58.255Z"
   },
   {
    "duration": 5,
    "start_time": "2022-03-20T16:14:58.266Z"
   },
   {
    "duration": 10,
    "start_time": "2022-03-20T16:14:58.273Z"
   },
   {
    "duration": 19,
    "start_time": "2022-03-20T16:14:58.285Z"
   },
   {
    "duration": 39,
    "start_time": "2022-03-20T16:14:58.306Z"
   },
   {
    "duration": 32,
    "start_time": "2022-03-20T16:14:58.347Z"
   },
   {
    "duration": 73,
    "start_time": "2022-03-20T16:14:58.381Z"
   },
   {
    "duration": 363,
    "start_time": "2022-03-20T16:14:58.457Z"
   },
   {
    "duration": 24,
    "start_time": "2022-03-20T16:14:58.823Z"
   },
   {
    "duration": 21,
    "start_time": "2022-03-20T16:14:58.850Z"
   },
   {
    "duration": 234,
    "start_time": "2022-03-20T16:14:58.873Z"
   },
   {
    "duration": 5,
    "start_time": "2022-03-20T16:14:59.109Z"
   },
   {
    "duration": 470,
    "start_time": "2022-03-20T16:14:59.117Z"
   },
   {
    "duration": 4,
    "start_time": "2022-03-20T16:14:59.589Z"
   },
   {
    "duration": 67,
    "start_time": "2022-03-20T16:14:59.595Z"
   },
   {
    "duration": 932,
    "start_time": "2022-03-20T16:14:59.664Z"
   },
   {
    "duration": 8,
    "start_time": "2022-03-20T16:15:00.598Z"
   },
   {
    "duration": 293,
    "start_time": "2022-03-20T16:15:00.609Z"
   },
   {
    "duration": 4,
    "start_time": "2022-03-20T16:15:00.905Z"
   },
   {
    "duration": 249,
    "start_time": "2022-03-20T16:15:00.911Z"
   },
   {
    "duration": 113,
    "start_time": "2022-03-20T16:15:01.162Z"
   },
   {
    "duration": 459,
    "start_time": "2022-03-20T16:15:01.278Z"
   },
   {
    "duration": 259,
    "start_time": "2022-03-20T16:15:01.743Z"
   },
   {
    "duration": 253,
    "start_time": "2022-03-20T16:15:02.005Z"
   },
   {
    "duration": 1114,
    "start_time": "2022-03-20T16:15:02.261Z"
   },
   {
    "duration": 5,
    "start_time": "2022-03-20T16:15:03.377Z"
   },
   {
    "duration": 362,
    "start_time": "2022-03-20T16:15:03.388Z"
   },
   {
    "duration": 6,
    "start_time": "2022-03-20T16:15:03.753Z"
   },
   {
    "duration": 323,
    "start_time": "2022-03-20T16:15:03.761Z"
   },
   {
    "duration": 239,
    "start_time": "2022-03-20T16:15:04.087Z"
   },
   {
    "duration": 225,
    "start_time": "2022-03-20T16:15:04.328Z"
   },
   {
    "duration": 232,
    "start_time": "2022-03-20T16:15:04.555Z"
   },
   {
    "duration": 337,
    "start_time": "2022-03-20T16:15:04.789Z"
   },
   {
    "duration": 252,
    "start_time": "2022-03-20T16:15:05.129Z"
   },
   {
    "duration": 223,
    "start_time": "2022-03-20T16:15:05.383Z"
   },
   {
    "duration": 215,
    "start_time": "2022-03-20T16:15:05.608Z"
   },
   {
    "duration": 250,
    "start_time": "2022-03-20T16:15:05.826Z"
   },
   {
    "duration": 232,
    "start_time": "2022-03-20T16:15:06.079Z"
   },
   {
    "duration": 31,
    "start_time": "2022-03-20T16:15:06.314Z"
   },
   {
    "duration": 15,
    "start_time": "2022-03-20T16:15:06.347Z"
   },
   {
    "duration": 179,
    "start_time": "2022-03-20T16:15:06.365Z"
   },
   {
    "duration": 17,
    "start_time": "2022-03-20T16:15:45.392Z"
   },
   {
    "duration": 1592,
    "start_time": "2022-03-20T16:34:19.483Z"
   },
   {
    "duration": 83,
    "start_time": "2022-03-20T16:34:21.078Z"
   },
   {
    "duration": 42,
    "start_time": "2022-03-20T16:34:21.164Z"
   },
   {
    "duration": 38,
    "start_time": "2022-03-20T16:34:21.209Z"
   },
   {
    "duration": 5,
    "start_time": "2022-03-20T16:34:21.251Z"
   },
   {
    "duration": 37,
    "start_time": "2022-03-20T16:34:21.258Z"
   },
   {
    "duration": 9,
    "start_time": "2022-03-20T16:34:21.298Z"
   },
   {
    "duration": 36,
    "start_time": "2022-03-20T16:34:21.309Z"
   },
   {
    "duration": 20,
    "start_time": "2022-03-20T16:34:21.348Z"
   },
   {
    "duration": 16,
    "start_time": "2022-03-20T16:34:21.371Z"
   },
   {
    "duration": 17,
    "start_time": "2022-03-20T16:34:21.389Z"
   },
   {
    "duration": 23,
    "start_time": "2022-03-20T16:34:21.443Z"
   },
   {
    "duration": 9,
    "start_time": "2022-03-20T16:34:21.468Z"
   },
   {
    "duration": 9,
    "start_time": "2022-03-20T16:34:21.482Z"
   },
   {
    "duration": 53,
    "start_time": "2022-03-20T16:34:21.494Z"
   },
   {
    "duration": 5,
    "start_time": "2022-03-20T16:34:21.550Z"
   },
   {
    "duration": 10,
    "start_time": "2022-03-20T16:34:21.557Z"
   },
   {
    "duration": 25,
    "start_time": "2022-03-20T16:34:21.570Z"
   },
   {
    "duration": 7,
    "start_time": "2022-03-20T16:34:21.598Z"
   },
   {
    "duration": 23,
    "start_time": "2022-03-20T16:34:21.644Z"
   },
   {
    "duration": 91,
    "start_time": "2022-03-20T16:34:21.670Z"
   },
   {
    "duration": 392,
    "start_time": "2022-03-20T16:34:21.764Z"
   },
   {
    "duration": 11,
    "start_time": "2022-03-20T16:34:22.159Z"
   },
   {
    "duration": 22,
    "start_time": "2022-03-20T16:34:22.172Z"
   },
   {
    "duration": 249,
    "start_time": "2022-03-20T16:34:22.196Z"
   },
   {
    "duration": 6,
    "start_time": "2022-03-20T16:34:22.447Z"
   },
   {
    "duration": 614,
    "start_time": "2022-03-20T16:34:22.454Z"
   },
   {
    "duration": 5,
    "start_time": "2022-03-20T16:34:23.070Z"
   },
   {
    "duration": 88,
    "start_time": "2022-03-20T16:34:23.078Z"
   },
   {
    "duration": 1003,
    "start_time": "2022-03-20T16:34:23.169Z"
   },
   {
    "duration": 8,
    "start_time": "2022-03-20T16:34:24.174Z"
   },
   {
    "duration": 339,
    "start_time": "2022-03-20T16:34:24.184Z"
   },
   {
    "duration": 5,
    "start_time": "2022-03-20T16:34:24.526Z"
   },
   {
    "duration": 256,
    "start_time": "2022-03-20T16:34:24.534Z"
   },
   {
    "duration": 99,
    "start_time": "2022-03-20T16:34:24.793Z"
   },
   {
    "duration": 478,
    "start_time": "2022-03-20T16:34:24.895Z"
   },
   {
    "duration": 261,
    "start_time": "2022-03-20T16:34:25.375Z"
   },
   {
    "duration": 261,
    "start_time": "2022-03-20T16:34:25.638Z"
   },
   {
    "duration": 1113,
    "start_time": "2022-03-20T16:34:25.902Z"
   },
   {
    "duration": 6,
    "start_time": "2022-03-20T16:34:27.018Z"
   },
   {
    "duration": 459,
    "start_time": "2022-03-20T16:34:27.045Z"
   },
   {
    "duration": 8,
    "start_time": "2022-03-20T16:34:27.507Z"
   },
   {
    "duration": 334,
    "start_time": "2022-03-20T16:34:27.517Z"
   },
   {
    "duration": 220,
    "start_time": "2022-03-20T16:34:27.853Z"
   },
   {
    "duration": 227,
    "start_time": "2022-03-20T16:34:28.075Z"
   },
   {
    "duration": 230,
    "start_time": "2022-03-20T16:34:28.304Z"
   },
   {
    "duration": 462,
    "start_time": "2022-03-20T16:34:28.537Z"
   },
   {
    "duration": 256,
    "start_time": "2022-03-20T16:34:29.001Z"
   },
   {
    "duration": 242,
    "start_time": "2022-03-20T16:34:29.260Z"
   },
   {
    "duration": 236,
    "start_time": "2022-03-20T16:34:29.504Z"
   },
   {
    "duration": 271,
    "start_time": "2022-03-20T16:34:29.744Z"
   },
   {
    "duration": 258,
    "start_time": "2022-03-20T16:34:30.017Z"
   },
   {
    "duration": 25,
    "start_time": "2022-03-20T16:34:30.277Z"
   },
   {
    "duration": 38,
    "start_time": "2022-03-20T16:34:30.306Z"
   },
   {
    "duration": 35,
    "start_time": "2022-03-20T16:34:30.346Z"
   },
   {
    "duration": 1542,
    "start_time": "2022-03-20T16:36:43.043Z"
   },
   {
    "duration": 86,
    "start_time": "2022-03-20T16:36:44.588Z"
   },
   {
    "duration": 40,
    "start_time": "2022-03-20T16:36:44.676Z"
   },
   {
    "duration": 36,
    "start_time": "2022-03-20T16:36:44.719Z"
   },
   {
    "duration": 5,
    "start_time": "2022-03-20T16:36:44.757Z"
   },
   {
    "duration": 46,
    "start_time": "2022-03-20T16:36:44.764Z"
   },
   {
    "duration": 31,
    "start_time": "2022-03-20T16:36:44.813Z"
   },
   {
    "duration": 11,
    "start_time": "2022-03-20T16:36:44.847Z"
   },
   {
    "duration": 20,
    "start_time": "2022-03-20T16:36:44.860Z"
   },
   {
    "duration": 13,
    "start_time": "2022-03-20T16:36:44.885Z"
   },
   {
    "duration": 58,
    "start_time": "2022-03-20T16:36:44.901Z"
   },
   {
    "duration": 22,
    "start_time": "2022-03-20T16:36:44.962Z"
   },
   {
    "duration": 8,
    "start_time": "2022-03-20T16:36:44.986Z"
   },
   {
    "duration": 8,
    "start_time": "2022-03-20T16:36:44.997Z"
   },
   {
    "duration": 14,
    "start_time": "2022-03-20T16:36:45.042Z"
   },
   {
    "duration": 8,
    "start_time": "2022-03-20T16:36:45.058Z"
   },
   {
    "duration": 12,
    "start_time": "2022-03-20T16:36:45.068Z"
   },
   {
    "duration": 20,
    "start_time": "2022-03-20T16:36:45.082Z"
   },
   {
    "duration": 38,
    "start_time": "2022-03-20T16:36:45.105Z"
   },
   {
    "duration": 31,
    "start_time": "2022-03-20T16:36:45.145Z"
   },
   {
    "duration": 104,
    "start_time": "2022-03-20T16:36:45.178Z"
   },
   {
    "duration": 365,
    "start_time": "2022-03-20T16:36:45.285Z"
   },
   {
    "duration": 11,
    "start_time": "2022-03-20T16:36:45.652Z"
   },
   {
    "duration": 23,
    "start_time": "2022-03-20T16:36:45.665Z"
   },
   {
    "duration": 245,
    "start_time": "2022-03-20T16:36:45.690Z"
   },
   {
    "duration": 10,
    "start_time": "2022-03-20T16:36:45.937Z"
   },
   {
    "duration": 477,
    "start_time": "2022-03-20T16:36:45.949Z"
   },
   {
    "duration": 5,
    "start_time": "2022-03-20T16:36:46.446Z"
   },
   {
    "duration": 49,
    "start_time": "2022-03-20T16:36:46.452Z"
   },
   {
    "duration": 897,
    "start_time": "2022-03-20T16:36:46.503Z"
   },
   {
    "duration": 9,
    "start_time": "2022-03-20T16:36:47.403Z"
   },
   {
    "duration": 302,
    "start_time": "2022-03-20T16:36:47.415Z"
   },
   {
    "duration": 4,
    "start_time": "2022-03-20T16:36:47.720Z"
   },
   {
    "duration": 220,
    "start_time": "2022-03-20T16:36:47.726Z"
   },
   {
    "duration": 101,
    "start_time": "2022-03-20T16:36:47.948Z"
   },
   {
    "duration": 714,
    "start_time": "2022-03-20T16:36:48.052Z"
   },
   {
    "duration": 332,
    "start_time": "2022-03-20T16:36:48.768Z"
   },
   {
    "duration": 331,
    "start_time": "2022-03-20T16:36:49.103Z"
   },
   {
    "duration": 995,
    "start_time": "2022-03-20T16:36:49.444Z"
   },
   {
    "duration": 5,
    "start_time": "2022-03-20T16:36:50.443Z"
   },
   {
    "duration": 325,
    "start_time": "2022-03-20T16:36:50.450Z"
   },
   {
    "duration": 6,
    "start_time": "2022-03-20T16:36:50.777Z"
   },
   {
    "duration": 470,
    "start_time": "2022-03-20T16:36:50.786Z"
   },
   {
    "duration": 339,
    "start_time": "2022-03-20T16:36:51.259Z"
   },
   {
    "duration": 295,
    "start_time": "2022-03-20T16:36:51.601Z"
   },
   {
    "duration": 228,
    "start_time": "2022-03-20T16:36:51.899Z"
   },
   {
    "duration": 324,
    "start_time": "2022-03-20T16:36:52.129Z"
   },
   {
    "duration": 248,
    "start_time": "2022-03-20T16:36:52.455Z"
   },
   {
    "duration": 311,
    "start_time": "2022-03-20T16:36:52.706Z"
   },
   {
    "duration": 275,
    "start_time": "2022-03-20T16:36:53.020Z"
   },
   {
    "duration": 283,
    "start_time": "2022-03-20T16:36:53.298Z"
   },
   {
    "duration": 234,
    "start_time": "2022-03-20T16:36:53.584Z"
   },
   {
    "duration": 27,
    "start_time": "2022-03-20T16:36:53.820Z"
   },
   {
    "duration": 15,
    "start_time": "2022-03-20T16:36:53.849Z"
   },
   {
    "duration": 16,
    "start_time": "2022-03-20T16:36:53.867Z"
   },
   {
    "duration": 1221,
    "start_time": "2022-03-31T09:17:31.396Z"
   },
   {
    "duration": 54,
    "start_time": "2022-03-31T09:17:32.619Z"
   },
   {
    "duration": 26,
    "start_time": "2022-03-31T09:17:32.674Z"
   },
   {
    "duration": 38,
    "start_time": "2022-03-31T09:17:32.702Z"
   },
   {
    "duration": 4,
    "start_time": "2022-03-31T09:17:32.742Z"
   },
   {
    "duration": 29,
    "start_time": "2022-03-31T09:17:32.748Z"
   },
   {
    "duration": 23,
    "start_time": "2022-03-31T09:17:32.779Z"
   },
   {
    "duration": 8,
    "start_time": "2022-03-31T09:17:32.803Z"
   },
   {
    "duration": 15,
    "start_time": "2022-03-31T09:17:32.812Z"
   },
   {
    "duration": 12,
    "start_time": "2022-03-31T09:17:32.830Z"
   },
   {
    "duration": 22,
    "start_time": "2022-03-31T09:17:32.843Z"
   },
   {
    "duration": 16,
    "start_time": "2022-03-31T09:17:32.866Z"
   },
   {
    "duration": 6,
    "start_time": "2022-03-31T09:17:32.884Z"
   },
   {
    "duration": 8,
    "start_time": "2022-03-31T09:17:32.892Z"
   },
   {
    "duration": 12,
    "start_time": "2022-03-31T09:17:32.901Z"
   },
   {
    "duration": 23,
    "start_time": "2022-03-31T09:17:32.915Z"
   },
   {
    "duration": 8,
    "start_time": "2022-03-31T09:17:32.939Z"
   },
   {
    "duration": 15,
    "start_time": "2022-03-31T09:17:32.948Z"
   },
   {
    "duration": 4,
    "start_time": "2022-03-31T09:17:32.964Z"
   },
   {
    "duration": 17,
    "start_time": "2022-03-31T09:17:32.970Z"
   },
   {
    "duration": 50,
    "start_time": "2022-03-31T09:17:32.988Z"
   },
   {
    "duration": 208,
    "start_time": "2022-03-31T09:17:33.040Z"
   },
   {
    "duration": 7,
    "start_time": "2022-03-31T09:17:33.250Z"
   },
   {
    "duration": 14,
    "start_time": "2022-03-31T09:17:33.258Z"
   },
   {
    "duration": 137,
    "start_time": "2022-03-31T09:17:33.274Z"
   },
   {
    "duration": 4,
    "start_time": "2022-03-31T09:17:33.412Z"
   },
   {
    "duration": 261,
    "start_time": "2022-03-31T09:17:33.417Z"
   },
   {
    "duration": 3,
    "start_time": "2022-03-31T09:17:33.681Z"
   },
   {
    "duration": 32,
    "start_time": "2022-03-31T09:17:33.685Z"
   },
   {
    "duration": 502,
    "start_time": "2022-03-31T09:17:33.719Z"
   },
   {
    "duration": 5,
    "start_time": "2022-03-31T09:17:34.223Z"
   },
   {
    "duration": 176,
    "start_time": "2022-03-31T09:17:34.229Z"
   },
   {
    "duration": 2,
    "start_time": "2022-03-31T09:17:34.406Z"
   },
   {
    "duration": 117,
    "start_time": "2022-03-31T09:17:34.410Z"
   },
   {
    "duration": 75,
    "start_time": "2022-03-31T09:17:34.532Z"
   },
   {
    "duration": 232,
    "start_time": "2022-03-31T09:17:34.608Z"
   },
   {
    "duration": 138,
    "start_time": "2022-03-31T09:17:34.841Z"
   },
   {
    "duration": 132,
    "start_time": "2022-03-31T09:17:34.981Z"
   },
   {
    "duration": 684,
    "start_time": "2022-03-31T09:17:35.114Z"
   },
   {
    "duration": 4,
    "start_time": "2022-03-31T09:17:35.799Z"
   },
   {
    "duration": 265,
    "start_time": "2022-03-31T09:17:35.804Z"
   },
   {
    "duration": 4,
    "start_time": "2022-03-31T09:17:36.071Z"
   },
   {
    "duration": 191,
    "start_time": "2022-03-31T09:17:36.076Z"
   },
   {
    "duration": 123,
    "start_time": "2022-03-31T09:17:36.268Z"
   },
   {
    "duration": 129,
    "start_time": "2022-03-31T09:17:36.392Z"
   },
   {
    "duration": 129,
    "start_time": "2022-03-31T09:17:36.523Z"
   },
   {
    "duration": 208,
    "start_time": "2022-03-31T09:17:36.654Z"
   },
   {
    "duration": 134,
    "start_time": "2022-03-31T09:17:36.864Z"
   },
   {
    "duration": 131,
    "start_time": "2022-03-31T09:17:36.999Z"
   },
   {
    "duration": 114,
    "start_time": "2022-03-31T09:17:37.140Z"
   },
   {
    "duration": 141,
    "start_time": "2022-03-31T09:17:37.255Z"
   },
   {
    "duration": 131,
    "start_time": "2022-03-31T09:17:37.397Z"
   },
   {
    "duration": 20,
    "start_time": "2022-03-31T09:17:37.529Z"
   },
   {
    "duration": 12,
    "start_time": "2022-03-31T09:17:37.551Z"
   },
   {
    "duration": 11,
    "start_time": "2022-03-31T09:17:37.565Z"
   },
   {
    "duration": 4,
    "start_time": "2022-03-31T09:17:59.562Z"
   },
   {
    "duration": 52,
    "start_time": "2022-03-31T09:17:59.567Z"
   },
   {
    "duration": 29,
    "start_time": "2022-03-31T09:17:59.621Z"
   },
   {
    "duration": 12,
    "start_time": "2022-03-31T09:17:59.653Z"
   },
   {
    "duration": 3,
    "start_time": "2022-03-31T09:17:59.667Z"
   },
   {
    "duration": 19,
    "start_time": "2022-03-31T09:17:59.671Z"
   },
   {
    "duration": 6,
    "start_time": "2022-03-31T09:17:59.692Z"
   },
   {
    "duration": 20,
    "start_time": "2022-03-31T09:17:59.699Z"
   },
   {
    "duration": 31,
    "start_time": "2022-03-31T09:17:59.720Z"
   },
   {
    "duration": 9,
    "start_time": "2022-03-31T09:17:59.754Z"
   },
   {
    "duration": 9,
    "start_time": "2022-03-31T09:17:59.765Z"
   },
   {
    "duration": 14,
    "start_time": "2022-03-31T09:17:59.776Z"
   },
   {
    "duration": 5,
    "start_time": "2022-03-31T09:17:59.791Z"
   },
   {
    "duration": 9,
    "start_time": "2022-03-31T09:17:59.797Z"
   },
   {
    "duration": 30,
    "start_time": "2022-03-31T09:17:59.807Z"
   },
   {
    "duration": 4,
    "start_time": "2022-03-31T09:17:59.839Z"
   },
   {
    "duration": 9,
    "start_time": "2022-03-31T09:17:59.845Z"
   },
   {
    "duration": 14,
    "start_time": "2022-03-31T09:17:59.856Z"
   },
   {
    "duration": 4,
    "start_time": "2022-03-31T09:17:59.871Z"
   },
   {
    "duration": 18,
    "start_time": "2022-03-31T09:17:59.876Z"
   },
   {
    "duration": 63,
    "start_time": "2022-03-31T09:17:59.895Z"
   },
   {
    "duration": 201,
    "start_time": "2022-03-31T09:17:59.960Z"
   },
   {
    "duration": 6,
    "start_time": "2022-03-31T09:18:00.163Z"
   },
   {
    "duration": 30,
    "start_time": "2022-03-31T09:18:00.170Z"
   },
   {
    "duration": 123,
    "start_time": "2022-03-31T09:18:00.201Z"
   },
   {
    "duration": 8,
    "start_time": "2022-03-31T09:18:00.326Z"
   },
   {
    "duration": 270,
    "start_time": "2022-03-31T09:18:00.335Z"
   },
   {
    "duration": 3,
    "start_time": "2022-03-31T09:18:00.609Z"
   },
   {
    "duration": 46,
    "start_time": "2022-03-31T09:18:00.613Z"
   },
   {
    "duration": 598,
    "start_time": "2022-03-31T09:18:00.661Z"
   },
   {
    "duration": 5,
    "start_time": "2022-03-31T09:18:01.260Z"
   },
   {
    "duration": 181,
    "start_time": "2022-03-31T09:18:01.266Z"
   },
   {
    "duration": 2,
    "start_time": "2022-03-31T09:18:01.449Z"
   },
   {
    "duration": 116,
    "start_time": "2022-03-31T09:18:01.453Z"
   },
   {
    "duration": 8,
    "start_time": "2022-03-31T09:18:01.570Z"
   },
   {
    "duration": 228,
    "start_time": "2022-03-31T09:18:01.580Z"
   },
   {
    "duration": 148,
    "start_time": "2022-03-31T09:18:01.810Z"
   },
   {
    "duration": 159,
    "start_time": "2022-03-31T09:18:01.960Z"
   },
   {
    "duration": 681,
    "start_time": "2022-03-31T09:18:02.120Z"
   },
   {
    "duration": 4,
    "start_time": "2022-03-31T09:18:02.802Z"
   },
   {
    "duration": 234,
    "start_time": "2022-03-31T09:18:02.833Z"
   },
   {
    "duration": 4,
    "start_time": "2022-03-31T09:18:03.069Z"
   },
   {
    "duration": 185,
    "start_time": "2022-03-31T09:18:03.074Z"
   },
   {
    "duration": 127,
    "start_time": "2022-03-31T09:18:03.261Z"
   },
   {
    "duration": 127,
    "start_time": "2022-03-31T09:18:03.390Z"
   },
   {
    "duration": 129,
    "start_time": "2022-03-31T09:18:03.519Z"
   },
   {
    "duration": 150,
    "start_time": "2022-03-31T09:18:03.650Z"
   },
   {
    "duration": 147,
    "start_time": "2022-03-31T09:18:03.802Z"
   },
   {
    "duration": 230,
    "start_time": "2022-03-31T09:18:03.951Z"
   },
   {
    "duration": 129,
    "start_time": "2022-03-31T09:18:04.182Z"
   },
   {
    "duration": 146,
    "start_time": "2022-03-31T09:18:04.312Z"
   },
   {
    "duration": 134,
    "start_time": "2022-03-31T09:18:04.459Z"
   },
   {
    "duration": 14,
    "start_time": "2022-03-31T09:18:04.594Z"
   },
   {
    "duration": 31,
    "start_time": "2022-03-31T09:18:04.610Z"
   },
   {
    "duration": 12,
    "start_time": "2022-03-31T09:18:04.642Z"
   },
   {
    "duration": 7,
    "start_time": "2022-03-31T09:23:24.247Z"
   },
   {
    "duration": 20,
    "start_time": "2022-03-31T09:24:00.485Z"
   },
   {
    "duration": 6,
    "start_time": "2022-03-31T09:24:27.101Z"
   },
   {
    "duration": 187,
    "start_time": "2022-03-31T09:25:32.560Z"
   },
   {
    "duration": 186280,
    "start_time": "2022-03-31T09:25:51.802Z"
   },
   {
    "duration": 137,
    "start_time": "2022-03-31T09:30:41.311Z"
   },
   {
    "duration": 125,
    "start_time": "2022-03-31T09:30:59.563Z"
   },
   {
    "duration": 144,
    "start_time": "2022-03-31T09:31:02.874Z"
   },
   {
    "duration": 162,
    "start_time": "2022-03-31T09:31:07.193Z"
   },
   {
    "duration": 3,
    "start_time": "2022-03-31T09:31:11.421Z"
   },
   {
    "duration": 63,
    "start_time": "2022-03-31T09:31:11.426Z"
   },
   {
    "duration": 27,
    "start_time": "2022-03-31T09:31:11.490Z"
   },
   {
    "duration": 22,
    "start_time": "2022-03-31T09:31:11.519Z"
   },
   {
    "duration": 15,
    "start_time": "2022-03-31T09:31:11.543Z"
   },
   {
    "duration": 32,
    "start_time": "2022-03-31T09:31:11.559Z"
   },
   {
    "duration": 19,
    "start_time": "2022-03-31T09:31:11.593Z"
   },
   {
    "duration": 7,
    "start_time": "2022-03-31T09:31:11.614Z"
   },
   {
    "duration": 26,
    "start_time": "2022-03-31T09:31:11.623Z"
   },
   {
    "duration": 20,
    "start_time": "2022-03-31T09:31:11.651Z"
   },
   {
    "duration": 12,
    "start_time": "2022-03-31T09:31:11.673Z"
   },
   {
    "duration": 15,
    "start_time": "2022-03-31T09:31:11.687Z"
   },
   {
    "duration": 6,
    "start_time": "2022-03-31T09:31:11.704Z"
   },
   {
    "duration": 42,
    "start_time": "2022-03-31T09:31:11.732Z"
   },
   {
    "duration": 13,
    "start_time": "2022-03-31T09:31:11.776Z"
   },
   {
    "duration": 9,
    "start_time": "2022-03-31T09:31:11.790Z"
   },
   {
    "duration": 12,
    "start_time": "2022-03-31T09:31:11.800Z"
   },
   {
    "duration": 44,
    "start_time": "2022-03-31T09:31:11.813Z"
   },
   {
    "duration": 26,
    "start_time": "2022-03-31T09:31:11.858Z"
   },
   {
    "duration": 20,
    "start_time": "2022-03-31T09:31:11.885Z"
   },
   {
    "duration": 51,
    "start_time": "2022-03-31T09:31:11.907Z"
   },
   {
    "duration": 200,
    "start_time": "2022-03-31T09:31:11.960Z"
   },
   {
    "duration": 158,
    "start_time": "2022-03-31T09:31:12.162Z"
   },
   {
    "duration": 150,
    "start_time": "2022-03-31T09:31:18.764Z"
   },
   {
    "duration": 161,
    "start_time": "2022-03-31T09:31:37.995Z"
   },
   {
    "duration": 8,
    "start_time": "2022-03-31T09:32:02.896Z"
   },
   {
    "duration": 22,
    "start_time": "2022-03-31T09:33:54.050Z"
   },
   {
    "duration": 4,
    "start_time": "2022-03-31T09:45:13.970Z"
   },
   {
    "duration": 58,
    "start_time": "2022-03-31T09:45:13.977Z"
   },
   {
    "duration": 27,
    "start_time": "2022-03-31T09:45:14.037Z"
   },
   {
    "duration": 14,
    "start_time": "2022-03-31T09:45:14.066Z"
   },
   {
    "duration": 4,
    "start_time": "2022-03-31T09:45:14.082Z"
   },
   {
    "duration": 52,
    "start_time": "2022-03-31T09:45:14.088Z"
   },
   {
    "duration": 5,
    "start_time": "2022-03-31T09:45:14.142Z"
   },
   {
    "duration": 12,
    "start_time": "2022-03-31T09:45:14.149Z"
   },
   {
    "duration": 40,
    "start_time": "2022-03-31T09:45:14.163Z"
   },
   {
    "duration": 11,
    "start_time": "2022-03-31T09:45:14.205Z"
   },
   {
    "duration": 15,
    "start_time": "2022-03-31T09:45:14.218Z"
   },
   {
    "duration": 17,
    "start_time": "2022-03-31T09:45:14.235Z"
   },
   {
    "duration": 6,
    "start_time": "2022-03-31T09:45:14.254Z"
   },
   {
    "duration": 5,
    "start_time": "2022-03-31T09:45:14.264Z"
   },
   {
    "duration": 15,
    "start_time": "2022-03-31T09:45:14.271Z"
   },
   {
    "duration": 5,
    "start_time": "2022-03-31T09:45:14.288Z"
   },
   {
    "duration": 6,
    "start_time": "2022-03-31T09:45:14.294Z"
   },
   {
    "duration": 15,
    "start_time": "2022-03-31T09:45:14.333Z"
   },
   {
    "duration": 6,
    "start_time": "2022-03-31T09:45:14.349Z"
   },
   {
    "duration": 20,
    "start_time": "2022-03-31T09:45:14.356Z"
   },
   {
    "duration": 59,
    "start_time": "2022-03-31T09:45:14.377Z"
   },
   {
    "duration": 194,
    "start_time": "2022-03-31T09:45:14.438Z"
   },
   {
    "duration": 7,
    "start_time": "2022-03-31T09:45:14.634Z"
   },
   {
    "duration": 19,
    "start_time": "2022-03-31T09:45:14.642Z"
   },
   {
    "duration": 134,
    "start_time": "2022-03-31T09:45:14.662Z"
   },
   {
    "duration": 3,
    "start_time": "2022-03-31T09:45:14.798Z"
   },
   {
    "duration": 265,
    "start_time": "2022-03-31T09:45:14.803Z"
   },
   {
    "duration": 3,
    "start_time": "2022-03-31T09:45:15.070Z"
   },
   {
    "duration": 30,
    "start_time": "2022-03-31T09:45:15.075Z"
   },
   {
    "duration": 481,
    "start_time": "2022-03-31T09:45:15.107Z"
   },
   {
    "duration": 5,
    "start_time": "2022-03-31T09:45:15.589Z"
   },
   {
    "duration": 163,
    "start_time": "2022-03-31T09:45:15.596Z"
   },
   {
    "duration": 3,
    "start_time": "2022-03-31T09:45:15.761Z"
   },
   {
    "duration": 25,
    "start_time": "2022-03-31T09:45:15.765Z"
   },
   {
    "duration": 123,
    "start_time": "2022-03-31T09:45:15.791Z"
   },
   {
    "duration": 7,
    "start_time": "2022-03-31T09:45:15.916Z"
   },
   {
    "duration": 221,
    "start_time": "2022-03-31T09:45:15.933Z"
   },
   {
    "duration": 151,
    "start_time": "2022-03-31T09:45:16.156Z"
   },
   {
    "duration": 137,
    "start_time": "2022-03-31T09:45:16.309Z"
   },
   {
    "duration": 997,
    "start_time": "2022-03-31T09:45:16.448Z"
   },
   {
    "duration": 4,
    "start_time": "2022-03-31T09:45:17.449Z"
   },
   {
    "duration": 392,
    "start_time": "2022-03-31T09:45:17.454Z"
   },
   {
    "duration": 5,
    "start_time": "2022-03-31T09:45:17.848Z"
   },
   {
    "duration": 380,
    "start_time": "2022-03-31T09:45:17.855Z"
   },
   {
    "duration": 187,
    "start_time": "2022-03-31T09:45:18.236Z"
   },
   {
    "duration": 141,
    "start_time": "2022-03-31T09:45:18.425Z"
   },
   {
    "duration": 131,
    "start_time": "2022-03-31T09:45:18.567Z"
   },
   {
    "duration": 135,
    "start_time": "2022-03-31T09:45:18.699Z"
   },
   {
    "duration": 142,
    "start_time": "2022-03-31T09:45:18.835Z"
   },
   {
    "duration": 128,
    "start_time": "2022-03-31T09:45:18.979Z"
   },
   {
    "duration": 132,
    "start_time": "2022-03-31T09:45:19.109Z"
   },
   {
    "duration": 159,
    "start_time": "2022-03-31T09:45:19.243Z"
   },
   {
    "duration": 130,
    "start_time": "2022-03-31T09:45:19.404Z"
   },
   {
    "duration": 13,
    "start_time": "2022-03-31T09:45:19.536Z"
   },
   {
    "duration": 16,
    "start_time": "2022-03-31T09:45:19.551Z"
   },
   {
    "duration": 12,
    "start_time": "2022-03-31T09:45:19.568Z"
   },
   {
    "duration": 22,
    "start_time": "2022-03-31T09:45:19.686Z"
   },
   {
    "duration": 50,
    "start_time": "2022-04-02T13:16:55.681Z"
   },
   {
    "duration": 1448,
    "start_time": "2022-04-02T13:17:01.016Z"
   },
   {
    "duration": 71,
    "start_time": "2022-04-02T13:17:02.466Z"
   },
   {
    "duration": 33,
    "start_time": "2022-04-02T13:17:02.539Z"
   },
   {
    "duration": 16,
    "start_time": "2022-04-02T13:17:02.574Z"
   },
   {
    "duration": 6,
    "start_time": "2022-04-02T13:17:02.592Z"
   },
   {
    "duration": 44,
    "start_time": "2022-04-02T13:17:02.600Z"
   },
   {
    "duration": 9,
    "start_time": "2022-04-02T13:17:02.646Z"
   },
   {
    "duration": 11,
    "start_time": "2022-04-02T13:17:02.657Z"
   },
   {
    "duration": 19,
    "start_time": "2022-04-02T13:17:02.670Z"
   },
   {
    "duration": 10,
    "start_time": "2022-04-02T13:17:02.692Z"
   },
   {
    "duration": 33,
    "start_time": "2022-04-02T13:17:02.704Z"
   },
   {
    "duration": 18,
    "start_time": "2022-04-02T13:17:02.739Z"
   },
   {
    "duration": 6,
    "start_time": "2022-04-02T13:17:02.758Z"
   },
   {
    "duration": 8,
    "start_time": "2022-04-02T13:17:02.765Z"
   },
   {
    "duration": 13,
    "start_time": "2022-04-02T13:17:02.775Z"
   },
   {
    "duration": 7,
    "start_time": "2022-04-02T13:17:02.790Z"
   },
   {
    "duration": 34,
    "start_time": "2022-04-02T13:17:02.799Z"
   },
   {
    "duration": 16,
    "start_time": "2022-04-02T13:17:02.834Z"
   },
   {
    "duration": 4,
    "start_time": "2022-04-02T13:17:02.852Z"
   },
   {
    "duration": 22,
    "start_time": "2022-04-02T13:17:02.858Z"
   },
   {
    "duration": 71,
    "start_time": "2022-04-02T13:17:02.881Z"
   },
   {
    "duration": 246,
    "start_time": "2022-04-02T13:17:02.954Z"
   },
   {
    "duration": 7,
    "start_time": "2022-04-02T13:17:03.202Z"
   },
   {
    "duration": 28,
    "start_time": "2022-04-02T13:17:03.211Z"
   },
   {
    "duration": 144,
    "start_time": "2022-04-02T13:17:03.241Z"
   },
   {
    "duration": 4,
    "start_time": "2022-04-02T13:17:03.387Z"
   },
   {
    "duration": 299,
    "start_time": "2022-04-02T13:17:03.393Z"
   },
   {
    "duration": 3,
    "start_time": "2022-04-02T13:17:03.695Z"
   },
   {
    "duration": 41,
    "start_time": "2022-04-02T13:17:03.700Z"
   },
   {
    "duration": 574,
    "start_time": "2022-04-02T13:17:03.742Z"
   },
   {
    "duration": 6,
    "start_time": "2022-04-02T13:17:04.317Z"
   },
   {
    "duration": 174,
    "start_time": "2022-04-02T13:17:04.325Z"
   },
   {
    "duration": 3,
    "start_time": "2022-04-02T13:17:04.501Z"
   },
   {
    "duration": 33,
    "start_time": "2022-04-02T13:17:04.506Z"
   },
   {
    "duration": 134,
    "start_time": "2022-04-02T13:17:04.540Z"
   },
   {
    "duration": 86,
    "start_time": "2022-04-02T13:17:04.676Z"
   },
   {
    "duration": 259,
    "start_time": "2022-04-02T13:17:04.764Z"
   },
   {
    "duration": 160,
    "start_time": "2022-04-02T13:17:05.025Z"
   },
   {
    "duration": 156,
    "start_time": "2022-04-02T13:17:05.187Z"
   },
   {
    "duration": 759,
    "start_time": "2022-04-02T13:17:05.345Z"
   },
   {
    "duration": 3,
    "start_time": "2022-04-02T13:17:06.106Z"
   },
   {
    "duration": 267,
    "start_time": "2022-04-02T13:17:06.111Z"
   },
   {
    "duration": 4,
    "start_time": "2022-04-02T13:17:06.381Z"
   },
   {
    "duration": 218,
    "start_time": "2022-04-02T13:17:06.387Z"
   },
   {
    "duration": 146,
    "start_time": "2022-04-02T13:17:06.607Z"
   },
   {
    "duration": 146,
    "start_time": "2022-04-02T13:17:06.756Z"
   },
   {
    "duration": 158,
    "start_time": "2022-04-02T13:17:06.904Z"
   },
   {
    "duration": 402,
    "start_time": "2022-04-02T13:17:07.063Z"
   },
   {
    "duration": 311,
    "start_time": "2022-04-02T13:17:07.467Z"
   },
   {
    "duration": 243,
    "start_time": "2022-04-02T13:17:07.832Z"
   },
   {
    "duration": 291,
    "start_time": "2022-04-02T13:17:08.077Z"
   },
   {
    "duration": 308,
    "start_time": "2022-04-02T13:17:08.369Z"
   },
   {
    "duration": 162,
    "start_time": "2022-04-02T13:17:08.732Z"
   },
   {
    "duration": 15,
    "start_time": "2022-04-02T13:17:08.896Z"
   },
   {
    "duration": 25,
    "start_time": "2022-04-02T13:17:08.914Z"
   },
   {
    "duration": 13,
    "start_time": "2022-04-02T13:17:08.941Z"
   },
   {
    "duration": 209,
    "start_time": "2022-04-02T13:17:18.673Z"
   },
   {
    "duration": 214,
    "start_time": "2022-04-02T13:17:42.173Z"
   },
   {
    "duration": 226,
    "start_time": "2022-04-02T13:17:50.628Z"
   },
   {
    "duration": 211,
    "start_time": "2022-04-02T13:17:57.062Z"
   },
   {
    "duration": 227,
    "start_time": "2022-04-02T13:18:16.298Z"
   },
   {
    "duration": 317,
    "start_time": "2022-04-02T13:19:41.571Z"
   },
   {
    "duration": 220,
    "start_time": "2022-04-02T13:19:46.293Z"
   },
   {
    "duration": 223,
    "start_time": "2022-04-02T13:22:11.577Z"
   },
   {
    "duration": 241,
    "start_time": "2022-04-02T13:22:22.008Z"
   },
   {
    "duration": 223,
    "start_time": "2022-04-02T13:22:27.616Z"
   },
   {
    "duration": 260,
    "start_time": "2022-04-02T13:22:44.323Z"
   },
   {
    "duration": 229,
    "start_time": "2022-04-02T13:22:48.891Z"
   },
   {
    "duration": 177,
    "start_time": "2022-04-02T13:23:01.413Z"
   },
   {
    "duration": 171,
    "start_time": "2022-04-02T13:23:04.960Z"
   },
   {
    "duration": 228,
    "start_time": "2022-04-02T13:23:08.609Z"
   },
   {
    "duration": 151,
    "start_time": "2022-04-02T13:23:36.798Z"
   },
   {
    "duration": 231,
    "start_time": "2022-04-02T13:23:40.206Z"
   },
   {
    "duration": 13,
    "start_time": "2022-04-02T13:23:53.061Z"
   },
   {
    "duration": 227,
    "start_time": "2022-04-02T13:23:57.634Z"
   },
   {
    "duration": 177,
    "start_time": "2022-04-02T13:24:19.957Z"
   },
   {
    "duration": 345,
    "start_time": "2022-04-02T13:24:24.027Z"
   },
   {
    "duration": 225,
    "start_time": "2022-04-02T13:27:11.372Z"
   },
   {
    "duration": 5,
    "start_time": "2022-04-02T13:28:34.196Z"
   },
   {
    "duration": 177,
    "start_time": "2022-04-02T13:28:37.704Z"
   },
   {
    "duration": 108,
    "start_time": "2022-04-02T13:30:28.166Z"
   },
   {
    "duration": 296,
    "start_time": "2022-04-02T13:30:40.904Z"
   },
   {
    "duration": 9,
    "start_time": "2022-04-02T13:30:48.000Z"
   },
   {
    "duration": 292,
    "start_time": "2022-04-02T14:23:31.978Z"
   },
   {
    "duration": 295,
    "start_time": "2022-04-02T14:23:51.541Z"
   },
   {
    "duration": 291,
    "start_time": "2022-04-02T14:24:14.867Z"
   },
   {
    "duration": 274,
    "start_time": "2022-04-02T14:25:58.112Z"
   },
   {
    "duration": 466,
    "start_time": "2022-04-02T14:26:27.974Z"
   },
   {
    "duration": 278,
    "start_time": "2022-04-02T14:26:55.983Z"
   },
   {
    "duration": 171,
    "start_time": "2022-04-02T14:27:46.208Z"
   },
   {
    "duration": 273,
    "start_time": "2022-04-02T14:27:53.472Z"
   },
   {
    "duration": 1160,
    "start_time": "2022-04-02T14:28:54.177Z"
   },
   {
    "duration": 69,
    "start_time": "2022-04-02T14:28:55.339Z"
   },
   {
    "duration": 31,
    "start_time": "2022-04-02T14:28:55.409Z"
   },
   {
    "duration": 14,
    "start_time": "2022-04-02T14:28:55.443Z"
   },
   {
    "duration": 5,
    "start_time": "2022-04-02T14:28:55.459Z"
   },
   {
    "duration": 23,
    "start_time": "2022-04-02T14:28:55.466Z"
   },
   {
    "duration": 9,
    "start_time": "2022-04-02T14:28:55.491Z"
   },
   {
    "duration": 7,
    "start_time": "2022-04-02T14:28:55.502Z"
   },
   {
    "duration": 31,
    "start_time": "2022-04-02T14:28:55.510Z"
   },
   {
    "duration": 9,
    "start_time": "2022-04-02T14:28:55.544Z"
   },
   {
    "duration": 13,
    "start_time": "2022-04-02T14:28:55.555Z"
   },
   {
    "duration": 18,
    "start_time": "2022-04-02T14:28:55.569Z"
   },
   {
    "duration": 6,
    "start_time": "2022-04-02T14:28:55.588Z"
   },
   {
    "duration": 6,
    "start_time": "2022-04-02T14:28:55.632Z"
   },
   {
    "duration": 9,
    "start_time": "2022-04-02T14:28:55.639Z"
   },
   {
    "duration": 4,
    "start_time": "2022-04-02T14:28:55.650Z"
   },
   {
    "duration": 6,
    "start_time": "2022-04-02T14:28:55.656Z"
   },
   {
    "duration": 15,
    "start_time": "2022-04-02T14:28:55.663Z"
   },
   {
    "duration": 5,
    "start_time": "2022-04-02T14:28:55.680Z"
   },
   {
    "duration": 51,
    "start_time": "2022-04-02T14:28:55.687Z"
   },
   {
    "duration": 46,
    "start_time": "2022-04-02T14:28:55.740Z"
   },
   {
    "duration": 263,
    "start_time": "2022-04-02T14:28:55.788Z"
   },
   {
    "duration": 8,
    "start_time": "2022-04-02T14:28:56.053Z"
   },
   {
    "duration": 15,
    "start_time": "2022-04-02T14:28:56.063Z"
   },
   {
    "duration": 158,
    "start_time": "2022-04-02T14:28:56.080Z"
   },
   {
    "duration": 5,
    "start_time": "2022-04-02T14:28:56.239Z"
   },
   {
    "duration": 314,
    "start_time": "2022-04-02T14:28:56.245Z"
   },
   {
    "duration": 3,
    "start_time": "2022-04-02T14:28:56.563Z"
   },
   {
    "duration": 39,
    "start_time": "2022-04-02T14:28:56.568Z"
   },
   {
    "duration": 963,
    "start_time": "2022-04-02T14:28:56.609Z"
   },
   {
    "duration": 6,
    "start_time": "2022-04-02T14:28:57.573Z"
   },
   {
    "duration": 387,
    "start_time": "2022-04-02T14:28:57.580Z"
   },
   {
    "duration": 3,
    "start_time": "2022-04-02T14:28:57.968Z"
   },
   {
    "duration": 81,
    "start_time": "2022-04-02T14:28:57.973Z"
   },
   {
    "duration": 276,
    "start_time": "2022-04-02T14:28:58.056Z"
   },
   {
    "duration": 564,
    "start_time": "2022-04-02T14:28:58.334Z"
   },
   {
    "duration": 0,
    "start_time": "2022-04-02T14:28:58.900Z"
   },
   {
    "duration": 0,
    "start_time": "2022-04-02T14:28:58.901Z"
   },
   {
    "duration": 0,
    "start_time": "2022-04-02T14:28:58.902Z"
   },
   {
    "duration": 0,
    "start_time": "2022-04-02T14:28:58.903Z"
   },
   {
    "duration": 0,
    "start_time": "2022-04-02T14:28:58.904Z"
   },
   {
    "duration": 0,
    "start_time": "2022-04-02T14:28:58.905Z"
   },
   {
    "duration": 0,
    "start_time": "2022-04-02T14:28:58.905Z"
   },
   {
    "duration": 0,
    "start_time": "2022-04-02T14:28:58.907Z"
   },
   {
    "duration": 0,
    "start_time": "2022-04-02T14:28:58.908Z"
   },
   {
    "duration": 0,
    "start_time": "2022-04-02T14:28:58.909Z"
   },
   {
    "duration": 0,
    "start_time": "2022-04-02T14:28:58.910Z"
   },
   {
    "duration": 0,
    "start_time": "2022-04-02T14:28:58.911Z"
   },
   {
    "duration": 0,
    "start_time": "2022-04-02T14:28:58.912Z"
   },
   {
    "duration": 0,
    "start_time": "2022-04-02T14:28:58.913Z"
   },
   {
    "duration": 0,
    "start_time": "2022-04-02T14:28:58.915Z"
   },
   {
    "duration": 0,
    "start_time": "2022-04-02T14:28:58.916Z"
   },
   {
    "duration": 0,
    "start_time": "2022-04-02T14:28:58.917Z"
   },
   {
    "duration": 0,
    "start_time": "2022-04-02T14:28:58.918Z"
   },
   {
    "duration": 0,
    "start_time": "2022-04-02T14:28:58.931Z"
   },
   {
    "duration": 0,
    "start_time": "2022-04-02T14:28:58.932Z"
   },
   {
    "duration": 280,
    "start_time": "2022-04-02T14:43:50.920Z"
   },
   {
    "duration": 3,
    "start_time": "2022-04-02T14:44:11.102Z"
   },
   {
    "duration": 3058,
    "start_time": "2022-04-02T14:44:22.015Z"
   },
   {
    "duration": 3,
    "start_time": "2022-04-02T14:47:49.676Z"
   },
   {
    "duration": 3050,
    "start_time": "2022-04-02T14:48:03.385Z"
   },
   {
    "duration": 1261,
    "start_time": "2022-04-02T14:48:12.200Z"
   },
   {
    "duration": 72,
    "start_time": "2022-04-02T14:48:13.463Z"
   },
   {
    "duration": 42,
    "start_time": "2022-04-02T14:48:13.537Z"
   },
   {
    "duration": 15,
    "start_time": "2022-04-02T14:48:13.582Z"
   },
   {
    "duration": 3,
    "start_time": "2022-04-02T14:48:13.598Z"
   },
   {
    "duration": 45,
    "start_time": "2022-04-02T14:48:13.603Z"
   },
   {
    "duration": 6,
    "start_time": "2022-04-02T14:48:13.649Z"
   },
   {
    "duration": 7,
    "start_time": "2022-04-02T14:48:13.656Z"
   },
   {
    "duration": 18,
    "start_time": "2022-04-02T14:48:13.665Z"
   },
   {
    "duration": 11,
    "start_time": "2022-04-02T14:48:13.685Z"
   },
   {
    "duration": 42,
    "start_time": "2022-04-02T14:48:13.698Z"
   },
   {
    "duration": 19,
    "start_time": "2022-04-02T14:48:13.741Z"
   },
   {
    "duration": 5,
    "start_time": "2022-04-02T14:48:13.762Z"
   },
   {
    "duration": 7,
    "start_time": "2022-04-02T14:48:13.769Z"
   },
   {
    "duration": 13,
    "start_time": "2022-04-02T14:48:13.778Z"
   },
   {
    "duration": 4,
    "start_time": "2022-04-02T14:48:13.793Z"
   },
   {
    "duration": 36,
    "start_time": "2022-04-02T14:48:13.799Z"
   },
   {
    "duration": 17,
    "start_time": "2022-04-02T14:48:13.836Z"
   },
   {
    "duration": 5,
    "start_time": "2022-04-02T14:48:13.854Z"
   },
   {
    "duration": 18,
    "start_time": "2022-04-02T14:48:13.860Z"
   },
   {
    "duration": 75,
    "start_time": "2022-04-02T14:48:13.880Z"
   },
   {
    "duration": 274,
    "start_time": "2022-04-02T14:48:13.957Z"
   },
   {
    "duration": 8,
    "start_time": "2022-04-02T14:48:14.233Z"
   },
   {
    "duration": 17,
    "start_time": "2022-04-02T14:48:14.243Z"
   },
   {
    "duration": 166,
    "start_time": "2022-04-02T14:48:14.262Z"
   },
   {
    "duration": 4,
    "start_time": "2022-04-02T14:48:14.432Z"
   },
   {
    "duration": 319,
    "start_time": "2022-04-02T14:48:14.437Z"
   },
   {
    "duration": 3,
    "start_time": "2022-04-02T14:48:14.760Z"
   },
   {
    "duration": 43,
    "start_time": "2022-04-02T14:48:14.764Z"
   },
   {
    "duration": 624,
    "start_time": "2022-04-02T14:48:14.808Z"
   },
   {
    "duration": 6,
    "start_time": "2022-04-02T14:48:15.434Z"
   },
   {
    "duration": 206,
    "start_time": "2022-04-02T14:48:15.441Z"
   },
   {
    "duration": 3,
    "start_time": "2022-04-02T14:48:15.648Z"
   },
   {
    "duration": 32,
    "start_time": "2022-04-02T14:48:15.653Z"
   },
   {
    "duration": 131,
    "start_time": "2022-04-02T14:48:15.687Z"
   },
   {
    "duration": 12,
    "start_time": "2022-04-02T14:48:15.819Z"
   },
   {
    "duration": 3731,
    "start_time": "2022-04-02T14:48:15.833Z"
   },
   {
    "duration": 0,
    "start_time": "2022-04-02T14:48:19.566Z"
   },
   {
    "duration": 0,
    "start_time": "2022-04-02T14:48:19.568Z"
   },
   {
    "duration": 0,
    "start_time": "2022-04-02T14:48:19.569Z"
   },
   {
    "duration": 0,
    "start_time": "2022-04-02T14:48:19.570Z"
   },
   {
    "duration": 0,
    "start_time": "2022-04-02T14:48:19.572Z"
   },
   {
    "duration": 0,
    "start_time": "2022-04-02T14:48:19.573Z"
   },
   {
    "duration": 0,
    "start_time": "2022-04-02T14:48:19.574Z"
   },
   {
    "duration": 0,
    "start_time": "2022-04-02T14:48:19.575Z"
   },
   {
    "duration": 0,
    "start_time": "2022-04-02T14:48:19.576Z"
   },
   {
    "duration": 0,
    "start_time": "2022-04-02T14:48:19.578Z"
   },
   {
    "duration": 0,
    "start_time": "2022-04-02T14:48:19.579Z"
   },
   {
    "duration": 0,
    "start_time": "2022-04-02T14:48:19.580Z"
   },
   {
    "duration": 0,
    "start_time": "2022-04-02T14:48:19.581Z"
   },
   {
    "duration": 0,
    "start_time": "2022-04-02T14:48:19.581Z"
   },
   {
    "duration": 0,
    "start_time": "2022-04-02T14:48:19.583Z"
   },
   {
    "duration": 0,
    "start_time": "2022-04-02T14:48:19.583Z"
   },
   {
    "duration": 0,
    "start_time": "2022-04-02T14:48:19.584Z"
   },
   {
    "duration": 0,
    "start_time": "2022-04-02T14:48:19.586Z"
   },
   {
    "duration": 0,
    "start_time": "2022-04-02T14:48:19.587Z"
   },
   {
    "duration": 0,
    "start_time": "2022-04-02T14:48:19.588Z"
   },
   {
    "duration": 3210,
    "start_time": "2022-04-02T14:48:45.372Z"
   },
   {
    "duration": 1250,
    "start_time": "2022-04-02T14:49:00.714Z"
   },
   {
    "duration": 62,
    "start_time": "2022-04-02T14:49:01.967Z"
   },
   {
    "duration": 33,
    "start_time": "2022-04-02T14:49:02.030Z"
   },
   {
    "duration": 15,
    "start_time": "2022-04-02T14:49:02.066Z"
   },
   {
    "duration": 15,
    "start_time": "2022-04-02T14:49:02.083Z"
   },
   {
    "duration": 37,
    "start_time": "2022-04-02T14:49:02.100Z"
   },
   {
    "duration": 16,
    "start_time": "2022-04-02T14:49:02.139Z"
   },
   {
    "duration": 11,
    "start_time": "2022-04-02T14:49:02.156Z"
   },
   {
    "duration": 30,
    "start_time": "2022-04-02T14:49:02.169Z"
   },
   {
    "duration": 13,
    "start_time": "2022-04-02T14:49:02.202Z"
   },
   {
    "duration": 21,
    "start_time": "2022-04-02T14:49:02.217Z"
   },
   {
    "duration": 18,
    "start_time": "2022-04-02T14:49:02.240Z"
   },
   {
    "duration": 6,
    "start_time": "2022-04-02T14:49:02.260Z"
   },
   {
    "duration": 14,
    "start_time": "2022-04-02T14:49:02.268Z"
   },
   {
    "duration": 15,
    "start_time": "2022-04-02T14:49:02.284Z"
   },
   {
    "duration": 15,
    "start_time": "2022-04-02T14:49:02.301Z"
   },
   {
    "duration": 17,
    "start_time": "2022-04-02T14:49:02.318Z"
   },
   {
    "duration": 18,
    "start_time": "2022-04-02T14:49:02.337Z"
   },
   {
    "duration": 5,
    "start_time": "2022-04-02T14:49:02.357Z"
   },
   {
    "duration": 21,
    "start_time": "2022-04-02T14:49:02.364Z"
   },
   {
    "duration": 75,
    "start_time": "2022-04-02T14:49:02.386Z"
   },
   {
    "duration": 271,
    "start_time": "2022-04-02T14:49:02.463Z"
   },
   {
    "duration": 8,
    "start_time": "2022-04-02T14:49:02.736Z"
   },
   {
    "duration": 21,
    "start_time": "2022-04-02T14:49:02.746Z"
   },
   {
    "duration": 163,
    "start_time": "2022-04-02T14:49:02.769Z"
   },
   {
    "duration": 5,
    "start_time": "2022-04-02T14:49:02.933Z"
   },
   {
    "duration": 307,
    "start_time": "2022-04-02T14:49:02.939Z"
   },
   {
    "duration": 3,
    "start_time": "2022-04-02T14:49:03.250Z"
   },
   {
    "duration": 39,
    "start_time": "2022-04-02T14:49:03.254Z"
   },
   {
    "duration": 589,
    "start_time": "2022-04-02T14:49:03.295Z"
   },
   {
    "duration": 6,
    "start_time": "2022-04-02T14:49:03.886Z"
   },
   {
    "duration": 185,
    "start_time": "2022-04-02T14:49:03.894Z"
   },
   {
    "duration": 3,
    "start_time": "2022-04-02T14:49:04.080Z"
   },
   {
    "duration": 31,
    "start_time": "2022-04-02T14:49:04.084Z"
   },
   {
    "duration": 134,
    "start_time": "2022-04-02T14:49:04.117Z"
   },
   {
    "duration": 3,
    "start_time": "2022-04-02T14:49:04.253Z"
   },
   {
    "duration": 3255,
    "start_time": "2022-04-02T14:49:04.258Z"
   },
   {
    "duration": 0,
    "start_time": "2022-04-02T14:49:07.515Z"
   },
   {
    "duration": 0,
    "start_time": "2022-04-02T14:49:07.516Z"
   },
   {
    "duration": 0,
    "start_time": "2022-04-02T14:49:07.517Z"
   },
   {
    "duration": 0,
    "start_time": "2022-04-02T14:49:07.518Z"
   },
   {
    "duration": 0,
    "start_time": "2022-04-02T14:49:07.532Z"
   },
   {
    "duration": 0,
    "start_time": "2022-04-02T14:49:07.533Z"
   },
   {
    "duration": 0,
    "start_time": "2022-04-02T14:49:07.534Z"
   },
   {
    "duration": 0,
    "start_time": "2022-04-02T14:49:07.535Z"
   },
   {
    "duration": 0,
    "start_time": "2022-04-02T14:49:07.536Z"
   },
   {
    "duration": 0,
    "start_time": "2022-04-02T14:49:07.537Z"
   },
   {
    "duration": 0,
    "start_time": "2022-04-02T14:49:07.538Z"
   },
   {
    "duration": 0,
    "start_time": "2022-04-02T14:49:07.539Z"
   },
   {
    "duration": 0,
    "start_time": "2022-04-02T14:49:07.540Z"
   },
   {
    "duration": 0,
    "start_time": "2022-04-02T14:49:07.541Z"
   },
   {
    "duration": 0,
    "start_time": "2022-04-02T14:49:07.542Z"
   },
   {
    "duration": 0,
    "start_time": "2022-04-02T14:49:07.543Z"
   },
   {
    "duration": 0,
    "start_time": "2022-04-02T14:49:07.544Z"
   },
   {
    "duration": 0,
    "start_time": "2022-04-02T14:49:07.546Z"
   },
   {
    "duration": 0,
    "start_time": "2022-04-02T14:49:07.546Z"
   },
   {
    "duration": 0,
    "start_time": "2022-04-02T14:49:07.548Z"
   },
   {
    "duration": 1308,
    "start_time": "2022-04-03T07:28:06.944Z"
   },
   {
    "duration": 54,
    "start_time": "2022-04-03T07:28:08.254Z"
   },
   {
    "duration": 25,
    "start_time": "2022-04-03T07:28:08.309Z"
   },
   {
    "duration": 12,
    "start_time": "2022-04-03T07:28:08.336Z"
   },
   {
    "duration": 14,
    "start_time": "2022-04-03T07:28:08.349Z"
   },
   {
    "duration": 22,
    "start_time": "2022-04-03T07:28:08.364Z"
   },
   {
    "duration": 6,
    "start_time": "2022-04-03T07:28:08.387Z"
   },
   {
    "duration": 5,
    "start_time": "2022-04-03T07:28:08.395Z"
   },
   {
    "duration": 13,
    "start_time": "2022-04-03T07:28:08.402Z"
   },
   {
    "duration": 8,
    "start_time": "2022-04-03T07:28:08.418Z"
   },
   {
    "duration": 42,
    "start_time": "2022-04-03T07:28:08.428Z"
   },
   {
    "duration": 16,
    "start_time": "2022-04-03T07:28:08.472Z"
   },
   {
    "duration": 4,
    "start_time": "2022-04-03T07:28:08.490Z"
   },
   {
    "duration": 6,
    "start_time": "2022-04-03T07:28:08.496Z"
   },
   {
    "duration": 7,
    "start_time": "2022-04-03T07:28:08.504Z"
   },
   {
    "duration": 4,
    "start_time": "2022-04-03T07:28:08.513Z"
   },
   {
    "duration": 5,
    "start_time": "2022-04-03T07:28:08.519Z"
   },
   {
    "duration": 14,
    "start_time": "2022-04-03T07:28:08.563Z"
   },
   {
    "duration": 5,
    "start_time": "2022-04-03T07:28:08.578Z"
   },
   {
    "duration": 15,
    "start_time": "2022-04-03T07:28:08.585Z"
   },
   {
    "duration": 62,
    "start_time": "2022-04-03T07:28:08.601Z"
   },
   {
    "duration": 215,
    "start_time": "2022-04-03T07:28:08.665Z"
   },
   {
    "duration": 190,
    "start_time": "2022-04-03T07:28:14.143Z"
   },
   {
    "duration": 199,
    "start_time": "2022-04-03T07:28:16.983Z"
   },
   {
    "duration": 190,
    "start_time": "2022-04-03T07:28:20.284Z"
   },
   {
    "duration": 192,
    "start_time": "2022-04-03T07:29:06.235Z"
   },
   {
    "duration": 195,
    "start_time": "2022-04-03T07:29:09.845Z"
   },
   {
    "duration": 190,
    "start_time": "2022-04-03T07:29:15.227Z"
   },
   {
    "duration": 127,
    "start_time": "2022-04-03T07:32:23.538Z"
   },
   {
    "duration": 139,
    "start_time": "2022-04-03T07:32:26.602Z"
   },
   {
    "duration": 323,
    "start_time": "2022-04-03T07:32:30.489Z"
   },
   {
    "duration": 263,
    "start_time": "2022-04-03T07:32:40.468Z"
   },
   {
    "duration": 263,
    "start_time": "2022-04-03T07:32:43.087Z"
   },
   {
    "duration": 91,
    "start_time": "2022-04-03T07:35:52.256Z"
   },
   {
    "duration": 3,
    "start_time": "2022-04-03T07:35:59.210Z"
   },
   {
    "duration": 8,
    "start_time": "2022-04-03T07:35:59.668Z"
   },
   {
    "duration": 4,
    "start_time": "2022-04-03T07:36:14.733Z"
   },
   {
    "duration": 52,
    "start_time": "2022-04-03T07:36:14.739Z"
   },
   {
    "duration": 26,
    "start_time": "2022-04-03T07:36:14.793Z"
   },
   {
    "duration": 41,
    "start_time": "2022-04-03T07:36:14.822Z"
   },
   {
    "duration": 5,
    "start_time": "2022-04-03T07:36:14.865Z"
   },
   {
    "duration": 22,
    "start_time": "2022-04-03T07:36:14.871Z"
   },
   {
    "duration": 9,
    "start_time": "2022-04-03T07:36:14.895Z"
   },
   {
    "duration": 10,
    "start_time": "2022-04-03T07:36:14.905Z"
   },
   {
    "duration": 15,
    "start_time": "2022-04-03T07:36:14.916Z"
   },
   {
    "duration": 9,
    "start_time": "2022-04-03T07:36:14.934Z"
   },
   {
    "duration": 28,
    "start_time": "2022-04-03T07:36:14.944Z"
   },
   {
    "duration": 17,
    "start_time": "2022-04-03T07:36:14.974Z"
   },
   {
    "duration": 5,
    "start_time": "2022-04-03T07:36:14.993Z"
   },
   {
    "duration": 11,
    "start_time": "2022-04-03T07:36:15.000Z"
   },
   {
    "duration": 48,
    "start_time": "2022-04-03T07:36:15.013Z"
   },
   {
    "duration": 7,
    "start_time": "2022-04-03T07:36:15.063Z"
   },
   {
    "duration": 6,
    "start_time": "2022-04-03T07:36:15.072Z"
   },
   {
    "duration": 28,
    "start_time": "2022-04-03T07:36:15.080Z"
   },
   {
    "duration": 6,
    "start_time": "2022-04-03T07:36:15.110Z"
   },
   {
    "duration": 20,
    "start_time": "2022-04-03T07:36:15.117Z"
   },
   {
    "duration": 42,
    "start_time": "2022-04-03T07:36:15.139Z"
   },
   {
    "duration": 204,
    "start_time": "2022-04-03T07:36:15.182Z"
   },
   {
    "duration": 7,
    "start_time": "2022-04-03T07:36:15.388Z"
   },
   {
    "duration": 256,
    "start_time": "2022-04-03T07:36:15.396Z"
   },
   {
    "duration": 17,
    "start_time": "2022-04-03T07:36:15.653Z"
   },
   {
    "duration": 123,
    "start_time": "2022-04-03T07:36:15.672Z"
   },
   {
    "duration": 4,
    "start_time": "2022-04-03T07:36:15.796Z"
   },
   {
    "duration": 236,
    "start_time": "2022-04-03T07:36:15.803Z"
   },
   {
    "duration": 2,
    "start_time": "2022-04-03T07:36:16.041Z"
   },
   {
    "duration": 39,
    "start_time": "2022-04-03T07:36:16.045Z"
   },
   {
    "duration": 565,
    "start_time": "2022-04-03T07:36:16.086Z"
   },
   {
    "duration": 5,
    "start_time": "2022-04-03T07:36:16.653Z"
   },
   {
    "duration": 146,
    "start_time": "2022-04-03T07:36:16.659Z"
   },
   {
    "duration": 3,
    "start_time": "2022-04-03T07:36:16.806Z"
   },
   {
    "duration": 23,
    "start_time": "2022-04-03T07:36:16.811Z"
   },
   {
    "duration": 107,
    "start_time": "2022-04-03T07:36:16.835Z"
   },
   {
    "duration": 2,
    "start_time": "2022-04-03T07:36:16.944Z"
   },
   {
    "duration": 24,
    "start_time": "2022-04-03T07:36:16.948Z"
   },
   {
    "duration": 12,
    "start_time": "2022-04-03T07:38:55.463Z"
   },
   {
    "duration": 12,
    "start_time": "2022-04-03T07:39:00.712Z"
   },
   {
    "duration": 12,
    "start_time": "2022-04-03T07:40:56.851Z"
   },
   {
    "duration": 9,
    "start_time": "2022-04-03T07:41:20.231Z"
   },
   {
    "duration": 20,
    "start_time": "2022-04-03T07:41:32.556Z"
   },
   {
    "duration": 9,
    "start_time": "2022-04-03T07:41:36.452Z"
   },
   {
    "duration": 9,
    "start_time": "2022-04-03T07:42:52.575Z"
   },
   {
    "duration": 116,
    "start_time": "2022-04-03T07:42:55.079Z"
   },
   {
    "duration": 220,
    "start_time": "2022-04-03T07:43:50.069Z"
   },
   {
    "duration": 21,
    "start_time": "2022-04-03T07:46:22.438Z"
   },
   {
    "duration": 118,
    "start_time": "2022-04-03T07:46:47.444Z"
   },
   {
    "duration": 658,
    "start_time": "2022-04-03T07:46:47.564Z"
   },
   {
    "duration": 4,
    "start_time": "2022-04-03T07:46:48.223Z"
   },
   {
    "duration": 277,
    "start_time": "2022-04-03T07:46:48.229Z"
   },
   {
    "duration": 4,
    "start_time": "2022-04-03T07:46:48.508Z"
   },
   {
    "duration": 485,
    "start_time": "2022-04-03T07:46:48.514Z"
   },
   {
    "duration": 262,
    "start_time": "2022-04-03T07:46:49.001Z"
   },
   {
    "duration": 227,
    "start_time": "2022-04-03T07:46:49.265Z"
   },
   {
    "duration": 275,
    "start_time": "2022-04-03T07:46:49.493Z"
   },
   {
    "duration": 214,
    "start_time": "2022-04-03T07:46:49.771Z"
   },
   {
    "duration": 228,
    "start_time": "2022-04-03T07:46:49.986Z"
   },
   {
    "duration": 137,
    "start_time": "2022-04-03T07:46:50.215Z"
   },
   {
    "duration": 137,
    "start_time": "2022-04-03T07:46:50.353Z"
   },
   {
    "duration": 121,
    "start_time": "2022-04-03T07:46:50.492Z"
   },
   {
    "duration": 127,
    "start_time": "2022-04-03T07:46:50.614Z"
   },
   {
    "duration": 22,
    "start_time": "2022-04-03T07:46:50.743Z"
   },
   {
    "duration": 27,
    "start_time": "2022-04-03T07:46:50.766Z"
   },
   {
    "duration": 20,
    "start_time": "2022-04-03T07:46:50.794Z"
   },
   {
    "duration": 22,
    "start_time": "2022-04-03T07:47:21.773Z"
   },
   {
    "duration": 5,
    "start_time": "2022-04-03T07:47:36.307Z"
   },
   {
    "duration": 44,
    "start_time": "2022-04-03T13:07:12.400Z"
   },
   {
    "duration": 7,
    "start_time": "2022-04-03T13:07:40.775Z"
   },
   {
    "duration": 7,
    "start_time": "2022-04-03T13:07:47.937Z"
   },
   {
    "duration": 6,
    "start_time": "2022-04-03T13:07:57.621Z"
   },
   {
    "duration": 1331,
    "start_time": "2022-04-03T13:08:06.244Z"
   },
   {
    "duration": 50,
    "start_time": "2022-04-03T13:08:07.578Z"
   },
   {
    "duration": 26,
    "start_time": "2022-04-03T13:08:07.629Z"
   },
   {
    "duration": 12,
    "start_time": "2022-04-03T13:08:07.663Z"
   },
   {
    "duration": 3,
    "start_time": "2022-04-03T13:08:07.677Z"
   },
   {
    "duration": 19,
    "start_time": "2022-04-03T13:08:07.681Z"
   },
   {
    "duration": 7,
    "start_time": "2022-04-03T13:08:07.702Z"
   },
   {
    "duration": 8,
    "start_time": "2022-04-03T13:08:07.711Z"
   },
   {
    "duration": 12,
    "start_time": "2022-04-03T13:08:07.720Z"
   },
   {
    "duration": 32,
    "start_time": "2022-04-03T13:08:07.735Z"
   },
   {
    "duration": 14,
    "start_time": "2022-04-03T13:08:07.768Z"
   },
   {
    "duration": 16,
    "start_time": "2022-04-03T13:08:07.784Z"
   },
   {
    "duration": 5,
    "start_time": "2022-04-03T13:08:07.801Z"
   },
   {
    "duration": 12,
    "start_time": "2022-04-03T13:08:07.808Z"
   },
   {
    "duration": 8,
    "start_time": "2022-04-03T13:08:07.821Z"
   },
   {
    "duration": 4,
    "start_time": "2022-04-03T13:08:07.831Z"
   },
   {
    "duration": 5,
    "start_time": "2022-04-03T13:08:07.862Z"
   },
   {
    "duration": 13,
    "start_time": "2022-04-03T13:08:07.869Z"
   },
   {
    "duration": 5,
    "start_time": "2022-04-03T13:08:07.883Z"
   },
   {
    "duration": 13,
    "start_time": "2022-04-03T13:08:07.889Z"
   },
   {
    "duration": 37,
    "start_time": "2022-04-03T13:08:07.904Z"
   },
   {
    "duration": 215,
    "start_time": "2022-04-03T13:08:07.962Z"
   },
   {
    "duration": 7,
    "start_time": "2022-04-03T13:08:08.179Z"
   },
   {
    "duration": 273,
    "start_time": "2022-04-03T13:08:08.188Z"
   },
   {
    "duration": 12,
    "start_time": "2022-04-03T13:08:08.463Z"
   },
   {
    "duration": 125,
    "start_time": "2022-04-03T13:08:08.477Z"
   },
   {
    "duration": 4,
    "start_time": "2022-04-03T13:08:08.604Z"
   },
   {
    "duration": 256,
    "start_time": "2022-04-03T13:08:08.612Z"
   },
   {
    "duration": 2,
    "start_time": "2022-04-03T13:08:08.870Z"
   },
   {
    "duration": 31,
    "start_time": "2022-04-03T13:08:08.874Z"
   },
   {
    "duration": 501,
    "start_time": "2022-04-03T13:08:08.906Z"
   },
   {
    "duration": 6,
    "start_time": "2022-04-03T13:08:09.409Z"
   },
   {
    "duration": 224,
    "start_time": "2022-04-03T13:08:09.416Z"
   },
   {
    "duration": 2,
    "start_time": "2022-04-03T13:08:09.642Z"
   },
   {
    "duration": 33,
    "start_time": "2022-04-03T13:08:09.646Z"
   },
   {
    "duration": 104,
    "start_time": "2022-04-03T13:08:09.681Z"
   },
   {
    "duration": 3,
    "start_time": "2022-04-03T13:08:09.788Z"
   },
   {
    "duration": 2800,
    "start_time": "2022-04-03T13:08:09.793Z"
   },
   {
    "duration": 0,
    "start_time": "2022-04-03T13:08:12.595Z"
   },
   {
    "duration": 0,
    "start_time": "2022-04-03T13:08:12.596Z"
   },
   {
    "duration": 0,
    "start_time": "2022-04-03T13:08:12.597Z"
   },
   {
    "duration": 0,
    "start_time": "2022-04-03T13:08:12.598Z"
   },
   {
    "duration": 0,
    "start_time": "2022-04-03T13:08:12.599Z"
   },
   {
    "duration": 0,
    "start_time": "2022-04-03T13:08:12.600Z"
   },
   {
    "duration": 0,
    "start_time": "2022-04-03T13:08:12.601Z"
   },
   {
    "duration": 0,
    "start_time": "2022-04-03T13:08:12.602Z"
   },
   {
    "duration": 0,
    "start_time": "2022-04-03T13:08:12.603Z"
   },
   {
    "duration": 0,
    "start_time": "2022-04-03T13:08:12.605Z"
   },
   {
    "duration": 0,
    "start_time": "2022-04-03T13:08:12.606Z"
   },
   {
    "duration": 0,
    "start_time": "2022-04-03T13:08:12.607Z"
   },
   {
    "duration": 0,
    "start_time": "2022-04-03T13:08:12.608Z"
   },
   {
    "duration": 0,
    "start_time": "2022-04-03T13:08:12.609Z"
   },
   {
    "duration": 0,
    "start_time": "2022-04-03T13:08:12.610Z"
   },
   {
    "duration": 0,
    "start_time": "2022-04-03T13:08:12.611Z"
   },
   {
    "duration": 0,
    "start_time": "2022-04-03T13:08:12.612Z"
   },
   {
    "duration": 0,
    "start_time": "2022-04-03T13:08:12.613Z"
   },
   {
    "duration": 0,
    "start_time": "2022-04-03T13:08:12.614Z"
   },
   {
    "duration": 0,
    "start_time": "2022-04-03T13:08:12.615Z"
   },
   {
    "duration": 0,
    "start_time": "2022-04-03T13:08:12.616Z"
   },
   {
    "duration": 0,
    "start_time": "2022-04-03T13:08:12.617Z"
   },
   {
    "duration": 0,
    "start_time": "2022-04-03T13:08:12.618Z"
   },
   {
    "duration": 0,
    "start_time": "2022-04-03T13:08:12.619Z"
   },
   {
    "duration": 0,
    "start_time": "2022-04-03T13:08:12.663Z"
   },
   {
    "duration": 0,
    "start_time": "2022-04-03T13:08:12.664Z"
   },
   {
    "duration": 0,
    "start_time": "2022-04-03T13:08:12.665Z"
   },
   {
    "duration": 113,
    "start_time": "2022-04-03T13:08:29.158Z"
   },
   {
    "duration": 113,
    "start_time": "2022-04-03T13:08:48.160Z"
   },
   {
    "duration": 119,
    "start_time": "2022-04-03T13:08:52.332Z"
   },
   {
    "duration": 171,
    "start_time": "2022-04-03T13:09:28.518Z"
   },
   {
    "duration": 118,
    "start_time": "2022-04-03T13:09:36.909Z"
   },
   {
    "duration": 127,
    "start_time": "2022-04-03T13:09:47.863Z"
   },
   {
    "duration": 107,
    "start_time": "2022-04-03T13:10:06.312Z"
   },
   {
    "duration": 224,
    "start_time": "2022-04-03T13:12:06.819Z"
   },
   {
    "duration": 9,
    "start_time": "2022-04-03T13:12:30.941Z"
   },
   {
    "duration": 2133,
    "start_time": "2022-04-04T12:41:57.806Z"
   },
   {
    "duration": 95,
    "start_time": "2022-04-04T12:41:59.942Z"
   },
   {
    "duration": 51,
    "start_time": "2022-04-04T12:42:00.040Z"
   },
   {
    "duration": 29,
    "start_time": "2022-04-04T12:42:00.094Z"
   },
   {
    "duration": 12,
    "start_time": "2022-04-04T12:42:00.127Z"
   },
   {
    "duration": 67,
    "start_time": "2022-04-04T12:42:00.141Z"
   },
   {
    "duration": 30,
    "start_time": "2022-04-04T12:42:00.211Z"
   },
   {
    "duration": 6,
    "start_time": "2022-04-04T12:42:00.246Z"
   },
   {
    "duration": 19,
    "start_time": "2022-04-04T12:42:00.255Z"
   },
   {
    "duration": 25,
    "start_time": "2022-04-04T12:42:00.276Z"
   },
   {
    "duration": 30,
    "start_time": "2022-04-04T12:42:00.304Z"
   },
   {
    "duration": 22,
    "start_time": "2022-04-04T12:42:00.337Z"
   },
   {
    "duration": 36,
    "start_time": "2022-04-04T12:42:00.361Z"
   },
   {
    "duration": 36,
    "start_time": "2022-04-04T12:42:00.403Z"
   },
   {
    "duration": 13,
    "start_time": "2022-04-04T12:42:00.442Z"
   },
   {
    "duration": 7,
    "start_time": "2022-04-04T12:42:00.458Z"
   },
   {
    "duration": 11,
    "start_time": "2022-04-04T12:42:00.467Z"
   },
   {
    "duration": 59,
    "start_time": "2022-04-04T12:42:00.480Z"
   },
   {
    "duration": 6,
    "start_time": "2022-04-04T12:42:00.542Z"
   },
   {
    "duration": 43,
    "start_time": "2022-04-04T12:42:00.551Z"
   },
   {
    "duration": 126,
    "start_time": "2022-04-04T12:42:00.597Z"
   },
   {
    "duration": 408,
    "start_time": "2022-04-04T12:42:00.731Z"
   },
   {
    "duration": 10,
    "start_time": "2022-04-04T12:42:01.141Z"
   },
   {
    "duration": 518,
    "start_time": "2022-04-04T12:42:01.154Z"
   },
   {
    "duration": 29,
    "start_time": "2022-04-04T12:42:01.681Z"
   },
   {
    "duration": 250,
    "start_time": "2022-04-04T12:42:01.713Z"
   },
   {
    "duration": 6,
    "start_time": "2022-04-04T12:42:01.965Z"
   },
   {
    "duration": 546,
    "start_time": "2022-04-04T12:42:01.987Z"
   },
   {
    "duration": 4,
    "start_time": "2022-04-04T12:42:02.535Z"
   },
   {
    "duration": 79,
    "start_time": "2022-04-04T12:42:02.541Z"
   },
   {
    "duration": 949,
    "start_time": "2022-04-04T12:42:02.626Z"
   },
   {
    "duration": 18,
    "start_time": "2022-04-04T12:42:03.577Z"
   },
   {
    "duration": 438,
    "start_time": "2022-04-04T12:42:03.598Z"
   },
   {
    "duration": 5,
    "start_time": "2022-04-04T12:42:04.039Z"
   },
   {
    "duration": 67,
    "start_time": "2022-04-04T12:42:04.047Z"
   },
   {
    "duration": 201,
    "start_time": "2022-04-04T12:42:04.119Z"
   },
   {
    "duration": 8,
    "start_time": "2022-04-04T12:42:04.322Z"
   },
   {
    "duration": 3876,
    "start_time": "2022-04-04T12:42:04.332Z"
   },
   {
    "duration": 0,
    "start_time": "2022-04-04T12:42:08.213Z"
   },
   {
    "duration": 0,
    "start_time": "2022-04-04T12:42:08.215Z"
   },
   {
    "duration": 0,
    "start_time": "2022-04-04T12:42:08.220Z"
   },
   {
    "duration": 0,
    "start_time": "2022-04-04T12:42:08.223Z"
   },
   {
    "duration": 0,
    "start_time": "2022-04-04T12:42:08.225Z"
   },
   {
    "duration": 0,
    "start_time": "2022-04-04T12:42:08.227Z"
   },
   {
    "duration": 0,
    "start_time": "2022-04-04T12:42:08.232Z"
   },
   {
    "duration": 0,
    "start_time": "2022-04-04T12:42:08.234Z"
   },
   {
    "duration": 0,
    "start_time": "2022-04-04T12:42:08.235Z"
   },
   {
    "duration": 1,
    "start_time": "2022-04-04T12:42:08.236Z"
   },
   {
    "duration": 0,
    "start_time": "2022-04-04T12:42:08.238Z"
   },
   {
    "duration": 0,
    "start_time": "2022-04-04T12:42:08.239Z"
   },
   {
    "duration": 0,
    "start_time": "2022-04-04T12:42:08.240Z"
   },
   {
    "duration": 0,
    "start_time": "2022-04-04T12:42:08.242Z"
   },
   {
    "duration": 0,
    "start_time": "2022-04-04T12:42:08.243Z"
   },
   {
    "duration": 0,
    "start_time": "2022-04-04T12:42:08.245Z"
   },
   {
    "duration": 0,
    "start_time": "2022-04-04T12:42:08.246Z"
   },
   {
    "duration": 0,
    "start_time": "2022-04-04T12:42:08.285Z"
   },
   {
    "duration": 0,
    "start_time": "2022-04-04T12:42:08.286Z"
   },
   {
    "duration": 0,
    "start_time": "2022-04-04T12:42:08.288Z"
   },
   {
    "duration": 0,
    "start_time": "2022-04-04T12:42:08.297Z"
   },
   {
    "duration": 0,
    "start_time": "2022-04-04T12:42:08.299Z"
   },
   {
    "duration": 0,
    "start_time": "2022-04-04T12:42:08.301Z"
   },
   {
    "duration": 0,
    "start_time": "2022-04-04T12:42:08.304Z"
   },
   {
    "duration": 0,
    "start_time": "2022-04-04T12:42:08.305Z"
   },
   {
    "duration": 0,
    "start_time": "2022-04-04T12:42:08.312Z"
   },
   {
    "duration": 0,
    "start_time": "2022-04-04T12:42:08.315Z"
   },
   {
    "duration": 1661,
    "start_time": "2022-04-04T12:43:10.549Z"
   },
   {
    "duration": 89,
    "start_time": "2022-04-04T12:43:12.216Z"
   },
   {
    "duration": 47,
    "start_time": "2022-04-04T12:43:12.311Z"
   },
   {
    "duration": 28,
    "start_time": "2022-04-04T12:43:12.360Z"
   },
   {
    "duration": 10,
    "start_time": "2022-04-04T12:43:12.390Z"
   },
   {
    "duration": 72,
    "start_time": "2022-04-04T12:43:12.403Z"
   },
   {
    "duration": 22,
    "start_time": "2022-04-04T12:43:12.478Z"
   },
   {
    "duration": 31,
    "start_time": "2022-04-04T12:43:12.505Z"
   },
   {
    "duration": 19,
    "start_time": "2022-04-04T12:43:12.542Z"
   },
   {
    "duration": 14,
    "start_time": "2022-04-04T12:43:12.564Z"
   },
   {
    "duration": 48,
    "start_time": "2022-04-04T12:43:12.581Z"
   },
   {
    "duration": 25,
    "start_time": "2022-04-04T12:43:12.632Z"
   },
   {
    "duration": 7,
    "start_time": "2022-04-04T12:43:12.660Z"
   },
   {
    "duration": 19,
    "start_time": "2022-04-04T12:43:12.670Z"
   },
   {
    "duration": 45,
    "start_time": "2022-04-04T12:43:12.692Z"
   },
   {
    "duration": 5,
    "start_time": "2022-04-04T12:43:12.740Z"
   },
   {
    "duration": 13,
    "start_time": "2022-04-04T12:43:12.748Z"
   },
   {
    "duration": 46,
    "start_time": "2022-04-04T12:43:12.763Z"
   },
   {
    "duration": 6,
    "start_time": "2022-04-04T12:43:12.822Z"
   },
   {
    "duration": 30,
    "start_time": "2022-04-04T12:43:12.832Z"
   },
   {
    "duration": 83,
    "start_time": "2022-04-04T12:43:12.864Z"
   },
   {
    "duration": 409,
    "start_time": "2022-04-04T12:43:12.951Z"
   },
   {
    "duration": 27,
    "start_time": "2022-04-04T12:43:13.362Z"
   },
   {
    "duration": 554,
    "start_time": "2022-04-04T12:43:13.391Z"
   },
   {
    "duration": 18,
    "start_time": "2022-04-04T12:43:13.947Z"
   },
   {
    "duration": 242,
    "start_time": "2022-04-04T12:43:13.994Z"
   },
   {
    "duration": 5,
    "start_time": "2022-04-04T12:43:14.243Z"
   },
   {
    "duration": 550,
    "start_time": "2022-04-04T12:43:14.251Z"
   },
   {
    "duration": 5,
    "start_time": "2022-04-04T12:43:14.803Z"
   },
   {
    "duration": 84,
    "start_time": "2022-04-04T12:43:14.811Z"
   },
   {
    "duration": 1065,
    "start_time": "2022-04-04T12:43:14.898Z"
   },
   {
    "duration": 9,
    "start_time": "2022-04-04T12:43:15.966Z"
   },
   {
    "duration": 443,
    "start_time": "2022-04-04T12:43:15.978Z"
   },
   {
    "duration": 8,
    "start_time": "2022-04-04T12:43:16.426Z"
   },
   {
    "duration": 48,
    "start_time": "2022-04-04T12:43:16.436Z"
   },
   {
    "duration": 204,
    "start_time": "2022-04-04T12:43:16.495Z"
   },
   {
    "duration": 13,
    "start_time": "2022-04-04T12:43:16.703Z"
   },
   {
    "duration": 37,
    "start_time": "2022-04-04T12:43:16.720Z"
   },
   {
    "duration": 23,
    "start_time": "2022-04-04T12:43:16.760Z"
   },
   {
    "duration": 59,
    "start_time": "2022-04-04T12:43:16.788Z"
   },
   {
    "duration": 59,
    "start_time": "2022-04-04T12:43:16.850Z"
   },
   {
    "duration": 439,
    "start_time": "2022-04-04T12:43:16.912Z"
   },
   {
    "duration": 202,
    "start_time": "2022-04-04T12:43:17.353Z"
   },
   {
    "duration": 0,
    "start_time": "2022-04-04T12:43:17.558Z"
   },
   {
    "duration": 0,
    "start_time": "2022-04-04T12:43:17.561Z"
   },
   {
    "duration": 0,
    "start_time": "2022-04-04T12:43:17.563Z"
   },
   {
    "duration": 0,
    "start_time": "2022-04-04T12:43:17.565Z"
   },
   {
    "duration": 0,
    "start_time": "2022-04-04T12:43:17.591Z"
   },
   {
    "duration": 0,
    "start_time": "2022-04-04T12:43:17.593Z"
   },
   {
    "duration": 0,
    "start_time": "2022-04-04T12:43:17.596Z"
   },
   {
    "duration": 0,
    "start_time": "2022-04-04T12:43:17.598Z"
   },
   {
    "duration": 0,
    "start_time": "2022-04-04T12:43:17.599Z"
   },
   {
    "duration": 0,
    "start_time": "2022-04-04T12:43:17.603Z"
   },
   {
    "duration": 0,
    "start_time": "2022-04-04T12:43:17.605Z"
   },
   {
    "duration": 0,
    "start_time": "2022-04-04T12:43:17.610Z"
   },
   {
    "duration": 0,
    "start_time": "2022-04-04T12:43:17.612Z"
   },
   {
    "duration": 0,
    "start_time": "2022-04-04T12:43:17.614Z"
   },
   {
    "duration": 0,
    "start_time": "2022-04-04T12:43:17.616Z"
   },
   {
    "duration": 0,
    "start_time": "2022-04-04T12:43:17.619Z"
   },
   {
    "duration": 0,
    "start_time": "2022-04-04T12:43:17.622Z"
   },
   {
    "duration": 0,
    "start_time": "2022-04-04T12:43:17.624Z"
   },
   {
    "duration": 0,
    "start_time": "2022-04-04T12:43:17.625Z"
   },
   {
    "duration": 0,
    "start_time": "2022-04-04T12:43:17.626Z"
   },
   {
    "duration": 0,
    "start_time": "2022-04-04T12:43:17.627Z"
   },
   {
    "duration": 287,
    "start_time": "2022-04-04T12:44:03.575Z"
   },
   {
    "duration": 203,
    "start_time": "2022-04-04T12:44:05.819Z"
   },
   {
    "duration": 13,
    "start_time": "2022-04-04T12:44:07.726Z"
   },
   {
    "duration": 14,
    "start_time": "2022-04-04T12:48:24.145Z"
   },
   {
    "duration": 19,
    "start_time": "2022-04-04T12:48:29.793Z"
   },
   {
    "duration": 22,
    "start_time": "2022-04-04T12:48:36.179Z"
   },
   {
    "duration": 24,
    "start_time": "2022-04-04T12:48:38.002Z"
   },
   {
    "duration": 1948,
    "start_time": "2022-04-04T12:49:09.037Z"
   },
   {
    "duration": 86,
    "start_time": "2022-04-04T12:49:10.988Z"
   },
   {
    "duration": 61,
    "start_time": "2022-04-04T12:49:11.078Z"
   },
   {
    "duration": 22,
    "start_time": "2022-04-04T12:49:11.143Z"
   },
   {
    "duration": 5,
    "start_time": "2022-04-04T12:49:11.191Z"
   },
   {
    "duration": 69,
    "start_time": "2022-04-04T12:49:11.199Z"
   },
   {
    "duration": 23,
    "start_time": "2022-04-04T12:49:11.270Z"
   },
   {
    "duration": 44,
    "start_time": "2022-04-04T12:49:11.296Z"
   },
   {
    "duration": 22,
    "start_time": "2022-04-04T12:49:11.343Z"
   },
   {
    "duration": 30,
    "start_time": "2022-04-04T12:49:11.370Z"
   },
   {
    "duration": 52,
    "start_time": "2022-04-04T12:49:11.403Z"
   },
   {
    "duration": 58,
    "start_time": "2022-04-04T12:49:11.457Z"
   },
   {
    "duration": 20,
    "start_time": "2022-04-04T12:49:11.519Z"
   },
   {
    "duration": 11,
    "start_time": "2022-04-04T12:49:11.541Z"
   },
   {
    "duration": 14,
    "start_time": "2022-04-04T12:49:11.555Z"
   },
   {
    "duration": 15,
    "start_time": "2022-04-04T12:49:11.572Z"
   },
   {
    "duration": 51,
    "start_time": "2022-04-04T12:49:11.589Z"
   },
   {
    "duration": 23,
    "start_time": "2022-04-04T12:49:11.642Z"
   },
   {
    "duration": 6,
    "start_time": "2022-04-04T12:49:11.668Z"
   },
   {
    "duration": 59,
    "start_time": "2022-04-04T12:49:11.676Z"
   },
   {
    "duration": 65,
    "start_time": "2022-04-04T12:49:11.737Z"
   },
   {
    "duration": 434,
    "start_time": "2022-04-04T12:49:11.808Z"
   },
   {
    "duration": 13,
    "start_time": "2022-04-04T12:49:12.246Z"
   },
   {
    "duration": 568,
    "start_time": "2022-04-04T12:49:12.261Z"
   },
   {
    "duration": 20,
    "start_time": "2022-04-04T12:49:12.832Z"
   },
   {
    "duration": 250,
    "start_time": "2022-04-04T12:49:12.854Z"
   },
   {
    "duration": 13,
    "start_time": "2022-04-04T12:49:13.115Z"
   },
   {
    "duration": 517,
    "start_time": "2022-04-04T12:49:13.138Z"
   },
   {
    "duration": 5,
    "start_time": "2022-04-04T12:49:13.657Z"
   },
   {
    "duration": 69,
    "start_time": "2022-04-04T12:49:13.664Z"
   },
   {
    "duration": 991,
    "start_time": "2022-04-04T12:49:13.736Z"
   },
   {
    "duration": 12,
    "start_time": "2022-04-04T12:49:14.730Z"
   },
   {
    "duration": 483,
    "start_time": "2022-04-04T12:49:14.745Z"
   },
   {
    "duration": 5,
    "start_time": "2022-04-04T12:49:15.230Z"
   },
   {
    "duration": 39,
    "start_time": "2022-04-04T12:49:15.237Z"
   },
   {
    "duration": 208,
    "start_time": "2022-04-04T12:49:15.279Z"
   },
   {
    "duration": 6,
    "start_time": "2022-04-04T12:49:15.490Z"
   },
   {
    "duration": 56,
    "start_time": "2022-04-04T12:49:15.499Z"
   },
   {
    "duration": 22,
    "start_time": "2022-04-04T12:49:15.558Z"
   },
   {
    "duration": 51,
    "start_time": "2022-04-04T12:49:15.586Z"
   },
   {
    "duration": 37,
    "start_time": "2022-04-04T12:49:15.640Z"
   },
   {
    "duration": 486,
    "start_time": "2022-04-04T12:49:15.680Z"
   },
   {
    "duration": 246,
    "start_time": "2022-04-04T12:49:16.169Z"
   },
   {
    "duration": 229,
    "start_time": "2022-04-04T12:49:16.418Z"
   },
   {
    "duration": 14,
    "start_time": "2022-04-04T12:49:16.649Z"
   },
   {
    "duration": 229,
    "start_time": "2022-04-04T12:49:16.665Z"
   },
   {
    "duration": 0,
    "start_time": "2022-04-04T12:49:16.896Z"
   },
   {
    "duration": 0,
    "start_time": "2022-04-04T12:49:16.898Z"
   },
   {
    "duration": 0,
    "start_time": "2022-04-04T12:49:16.900Z"
   },
   {
    "duration": 0,
    "start_time": "2022-04-04T12:49:16.905Z"
   },
   {
    "duration": 0,
    "start_time": "2022-04-04T12:49:16.906Z"
   },
   {
    "duration": 0,
    "start_time": "2022-04-04T12:49:16.910Z"
   },
   {
    "duration": 0,
    "start_time": "2022-04-04T12:49:16.913Z"
   },
   {
    "duration": 0,
    "start_time": "2022-04-04T12:49:16.917Z"
   },
   {
    "duration": 0,
    "start_time": "2022-04-04T12:49:16.919Z"
   },
   {
    "duration": 0,
    "start_time": "2022-04-04T12:49:16.923Z"
   },
   {
    "duration": 0,
    "start_time": "2022-04-04T12:49:16.924Z"
   },
   {
    "duration": 0,
    "start_time": "2022-04-04T12:49:16.926Z"
   },
   {
    "duration": 0,
    "start_time": "2022-04-04T12:49:16.932Z"
   },
   {
    "duration": 0,
    "start_time": "2022-04-04T12:49:16.936Z"
   },
   {
    "duration": 0,
    "start_time": "2022-04-04T12:49:16.938Z"
   },
   {
    "duration": 0,
    "start_time": "2022-04-04T12:49:16.941Z"
   },
   {
    "duration": 0,
    "start_time": "2022-04-04T12:49:16.942Z"
   },
   {
    "duration": 12,
    "start_time": "2022-04-04T12:50:43.351Z"
   },
   {
    "duration": 464,
    "start_time": "2022-04-04T12:51:35.775Z"
   },
   {
    "duration": 226,
    "start_time": "2022-04-04T12:52:18.580Z"
   },
   {
    "duration": 227,
    "start_time": "2022-04-04T12:52:20.109Z"
   },
   {
    "duration": 25,
    "start_time": "2022-04-04T12:52:21.985Z"
   },
   {
    "duration": 465,
    "start_time": "2022-04-04T12:52:24.013Z"
   },
   {
    "duration": 14,
    "start_time": "2022-04-04T12:53:30.137Z"
   },
   {
    "duration": 8,
    "start_time": "2022-04-04T13:23:14.960Z"
   },
   {
    "duration": 11,
    "start_time": "2022-04-04T13:23:19.996Z"
   },
   {
    "duration": 12,
    "start_time": "2022-04-04T13:23:27.294Z"
   },
   {
    "duration": 5,
    "start_time": "2022-04-04T13:23:33.360Z"
   },
   {
    "duration": 401,
    "start_time": "2022-04-04T13:23:45.361Z"
   },
   {
    "duration": 1386,
    "start_time": "2022-04-04T13:26:11.376Z"
   },
   {
    "duration": 68,
    "start_time": "2022-04-04T13:26:12.765Z"
   },
   {
    "duration": 56,
    "start_time": "2022-04-04T13:26:12.835Z"
   },
   {
    "duration": 19,
    "start_time": "2022-04-04T13:26:12.895Z"
   },
   {
    "duration": 7,
    "start_time": "2022-04-04T13:26:12.916Z"
   },
   {
    "duration": 28,
    "start_time": "2022-04-04T13:26:12.926Z"
   },
   {
    "duration": 37,
    "start_time": "2022-04-04T13:26:12.956Z"
   },
   {
    "duration": 11,
    "start_time": "2022-04-04T13:26:12.995Z"
   },
   {
    "duration": 24,
    "start_time": "2022-04-04T13:26:13.008Z"
   },
   {
    "duration": 12,
    "start_time": "2022-04-04T13:26:13.036Z"
   },
   {
    "duration": 47,
    "start_time": "2022-04-04T13:26:13.050Z"
   },
   {
    "duration": 21,
    "start_time": "2022-04-04T13:26:13.100Z"
   },
   {
    "duration": 7,
    "start_time": "2022-04-04T13:26:13.123Z"
   },
   {
    "duration": 8,
    "start_time": "2022-04-04T13:26:13.132Z"
   },
   {
    "duration": 47,
    "start_time": "2022-04-04T13:26:13.142Z"
   },
   {
    "duration": 5,
    "start_time": "2022-04-04T13:26:13.192Z"
   },
   {
    "duration": 9,
    "start_time": "2022-04-04T13:26:13.199Z"
   },
   {
    "duration": 18,
    "start_time": "2022-04-04T13:26:13.210Z"
   },
   {
    "duration": 6,
    "start_time": "2022-04-04T13:26:13.230Z"
   },
   {
    "duration": 23,
    "start_time": "2022-04-04T13:26:13.238Z"
   },
   {
    "duration": 58,
    "start_time": "2022-04-04T13:26:13.285Z"
   },
   {
    "duration": 392,
    "start_time": "2022-04-04T13:26:13.345Z"
   },
   {
    "duration": 12,
    "start_time": "2022-04-04T13:26:13.740Z"
   },
   {
    "duration": 466,
    "start_time": "2022-04-04T13:26:13.754Z"
   },
   {
    "duration": 19,
    "start_time": "2022-04-04T13:26:14.222Z"
   },
   {
    "duration": 215,
    "start_time": "2022-04-04T13:26:14.243Z"
   },
   {
    "duration": 5,
    "start_time": "2022-04-04T13:26:14.461Z"
   },
   {
    "duration": 431,
    "start_time": "2022-04-04T13:26:14.472Z"
   },
   {
    "duration": 4,
    "start_time": "2022-04-04T13:26:14.905Z"
   },
   {
    "duration": 42,
    "start_time": "2022-04-04T13:26:14.912Z"
   },
   {
    "duration": 823,
    "start_time": "2022-04-04T13:26:14.956Z"
   },
   {
    "duration": 9,
    "start_time": "2022-04-04T13:26:15.781Z"
   },
   {
    "duration": 330,
    "start_time": "2022-04-04T13:26:15.796Z"
   },
   {
    "duration": 4,
    "start_time": "2022-04-04T13:26:16.128Z"
   },
   {
    "duration": 57,
    "start_time": "2022-04-04T13:26:16.134Z"
   },
   {
    "duration": 171,
    "start_time": "2022-04-04T13:26:16.194Z"
   },
   {
    "duration": 6,
    "start_time": "2022-04-04T13:26:16.367Z"
   },
   {
    "duration": 22,
    "start_time": "2022-04-04T13:26:16.385Z"
   },
   {
    "duration": 16,
    "start_time": "2022-04-04T13:26:16.409Z"
   },
   {
    "duration": 14,
    "start_time": "2022-04-04T13:26:16.428Z"
   },
   {
    "duration": 68,
    "start_time": "2022-04-04T13:26:16.444Z"
   },
   {
    "duration": 408,
    "start_time": "2022-04-04T13:26:16.514Z"
   },
   {
    "duration": 197,
    "start_time": "2022-04-04T13:26:16.924Z"
   },
   {
    "duration": 187,
    "start_time": "2022-04-04T13:26:17.124Z"
   },
   {
    "duration": 14,
    "start_time": "2022-04-04T13:26:17.314Z"
   },
   {
    "duration": 178,
    "start_time": "2022-04-04T13:26:17.331Z"
   },
   {
    "duration": 0,
    "start_time": "2022-04-04T13:26:17.511Z"
   },
   {
    "duration": 0,
    "start_time": "2022-04-04T13:26:17.513Z"
   },
   {
    "duration": 0,
    "start_time": "2022-04-04T13:26:17.514Z"
   },
   {
    "duration": 0,
    "start_time": "2022-04-04T13:26:17.516Z"
   },
   {
    "duration": 0,
    "start_time": "2022-04-04T13:26:17.517Z"
   },
   {
    "duration": 0,
    "start_time": "2022-04-04T13:26:17.519Z"
   },
   {
    "duration": 0,
    "start_time": "2022-04-04T13:26:17.521Z"
   },
   {
    "duration": 0,
    "start_time": "2022-04-04T13:26:17.522Z"
   },
   {
    "duration": 0,
    "start_time": "2022-04-04T13:26:17.524Z"
   },
   {
    "duration": 0,
    "start_time": "2022-04-04T13:26:17.525Z"
   },
   {
    "duration": 0,
    "start_time": "2022-04-04T13:26:17.526Z"
   },
   {
    "duration": 0,
    "start_time": "2022-04-04T13:26:17.528Z"
   },
   {
    "duration": 0,
    "start_time": "2022-04-04T13:26:17.529Z"
   },
   {
    "duration": 0,
    "start_time": "2022-04-04T13:26:17.531Z"
   },
   {
    "duration": 0,
    "start_time": "2022-04-04T13:26:17.532Z"
   },
   {
    "duration": 0,
    "start_time": "2022-04-04T13:26:17.533Z"
   },
   {
    "duration": 0,
    "start_time": "2022-04-04T13:26:17.535Z"
   },
   {
    "duration": 420,
    "start_time": "2022-04-04T13:26:34.596Z"
   },
   {
    "duration": 8,
    "start_time": "2022-04-04T13:26:39.130Z"
   },
   {
    "duration": 211,
    "start_time": "2022-04-04T14:04:14.679Z"
   },
   {
    "duration": 199,
    "start_time": "2022-04-04T14:04:21.716Z"
   },
   {
    "duration": 193,
    "start_time": "2022-04-04T14:04:46.418Z"
   },
   {
    "duration": 495,
    "start_time": "2022-04-04T14:06:59.509Z"
   },
   {
    "duration": 436,
    "start_time": "2022-04-04T14:07:09.735Z"
   },
   {
    "duration": 148,
    "start_time": "2022-04-04T14:07:23.285Z"
   },
   {
    "duration": 145,
    "start_time": "2022-04-04T14:07:30.939Z"
   },
   {
    "duration": 405,
    "start_time": "2022-04-04T14:07:34.565Z"
   },
   {
    "duration": 402,
    "start_time": "2022-04-04T14:08:08.167Z"
   },
   {
    "duration": 134,
    "start_time": "2022-04-04T14:08:15.074Z"
   },
   {
    "duration": 145,
    "start_time": "2022-04-04T14:08:20.414Z"
   },
   {
    "duration": 448,
    "start_time": "2022-04-04T14:08:31.810Z"
   },
   {
    "duration": 1415,
    "start_time": "2022-04-04T14:10:23.613Z"
   },
   {
    "duration": 76,
    "start_time": "2022-04-04T14:10:25.031Z"
   },
   {
    "duration": 38,
    "start_time": "2022-04-04T14:10:25.109Z"
   },
   {
    "duration": 45,
    "start_time": "2022-04-04T14:10:25.149Z"
   },
   {
    "duration": 4,
    "start_time": "2022-04-04T14:10:25.745Z"
   },
   {
    "duration": 28,
    "start_time": "2022-04-04T14:10:25.950Z"
   },
   {
    "duration": 7,
    "start_time": "2022-04-04T14:10:26.159Z"
   },
   {
    "duration": 6,
    "start_time": "2022-04-04T14:10:26.363Z"
   },
   {
    "duration": 18,
    "start_time": "2022-04-04T14:10:26.532Z"
   },
   {
    "duration": 13,
    "start_time": "2022-04-04T14:10:26.696Z"
   },
   {
    "duration": 19,
    "start_time": "2022-04-04T14:10:26.842Z"
   },
   {
    "duration": 23,
    "start_time": "2022-04-04T14:10:26.999Z"
   },
   {
    "duration": 7,
    "start_time": "2022-04-04T14:10:27.561Z"
   },
   {
    "duration": 8,
    "start_time": "2022-04-04T14:10:27.778Z"
   },
   {
    "duration": 11,
    "start_time": "2022-04-04T14:10:27.996Z"
   },
   {
    "duration": 6,
    "start_time": "2022-04-04T14:10:28.773Z"
   },
   {
    "duration": 8,
    "start_time": "2022-04-04T14:10:28.935Z"
   },
   {
    "duration": 19,
    "start_time": "2022-04-04T14:10:29.095Z"
   },
   {
    "duration": 6,
    "start_time": "2022-04-04T14:10:29.510Z"
   },
   {
    "duration": 28,
    "start_time": "2022-04-04T14:10:29.866Z"
   },
   {
    "duration": 59,
    "start_time": "2022-04-04T14:10:30.349Z"
   },
   {
    "duration": 364,
    "start_time": "2022-04-04T14:10:30.924Z"
   },
   {
    "duration": 13,
    "start_time": "2022-04-04T14:10:31.291Z"
   },
   {
    "duration": 446,
    "start_time": "2022-04-04T14:10:31.926Z"
   },
   {
    "duration": 18,
    "start_time": "2022-04-04T14:10:32.498Z"
   },
   {
    "duration": 182,
    "start_time": "2022-04-04T14:10:32.699Z"
   },
   {
    "duration": 6,
    "start_time": "2022-04-04T14:10:33.272Z"
   },
   {
    "duration": 427,
    "start_time": "2022-04-04T14:10:33.494Z"
   },
   {
    "duration": 4,
    "start_time": "2022-04-04T14:10:33.923Z"
   },
   {
    "duration": 43,
    "start_time": "2022-04-04T14:10:34.297Z"
   },
   {
    "duration": 823,
    "start_time": "2022-04-04T14:10:34.496Z"
   },
   {
    "duration": 8,
    "start_time": "2022-04-04T14:10:35.691Z"
   },
   {
    "duration": 338,
    "start_time": "2022-04-04T14:10:36.550Z"
   },
   {
    "duration": 5,
    "start_time": "2022-04-04T14:10:36.892Z"
   },
   {
    "duration": 34,
    "start_time": "2022-04-04T14:10:38.097Z"
   },
   {
    "duration": 179,
    "start_time": "2022-04-04T14:10:38.971Z"
   },
   {
    "duration": 5,
    "start_time": "2022-04-04T14:10:39.193Z"
   },
   {
    "duration": 19,
    "start_time": "2022-04-04T14:10:40.100Z"
   },
   {
    "duration": 17,
    "start_time": "2022-04-04T14:10:40.342Z"
   },
   {
    "duration": 16,
    "start_time": "2022-04-04T14:10:40.848Z"
   },
   {
    "duration": 35,
    "start_time": "2022-04-04T14:10:41.161Z"
   },
   {
    "duration": 392,
    "start_time": "2022-04-04T14:10:42.457Z"
   },
   {
    "duration": 164,
    "start_time": "2022-04-04T14:10:51.666Z"
   },
   {
    "duration": 20,
    "start_time": "2022-04-04T14:10:59.079Z"
   },
   {
    "duration": 195,
    "start_time": "2022-04-04T14:11:06.376Z"
   },
   {
    "duration": 15,
    "start_time": "2022-04-04T14:11:10.802Z"
   },
   {
    "duration": 16,
    "start_time": "2022-04-04T14:11:14.573Z"
   },
   {
    "duration": 439,
    "start_time": "2022-04-04T14:11:16.359Z"
   },
   {
    "duration": 10,
    "start_time": "2022-04-04T14:11:30.169Z"
   },
   {
    "duration": 1386,
    "start_time": "2022-04-04T14:11:35.296Z"
   },
   {
    "duration": 67,
    "start_time": "2022-04-04T14:11:36.689Z"
   },
   {
    "duration": 46,
    "start_time": "2022-04-04T14:11:36.758Z"
   },
   {
    "duration": 20,
    "start_time": "2022-04-04T14:11:36.806Z"
   },
   {
    "duration": 4,
    "start_time": "2022-04-04T14:11:36.829Z"
   },
   {
    "duration": 64,
    "start_time": "2022-04-04T14:11:36.835Z"
   },
   {
    "duration": 11,
    "start_time": "2022-04-04T14:11:36.902Z"
   },
   {
    "duration": 8,
    "start_time": "2022-04-04T14:11:36.915Z"
   },
   {
    "duration": 20,
    "start_time": "2022-04-04T14:11:36.925Z"
   },
   {
    "duration": 44,
    "start_time": "2022-04-04T14:11:36.947Z"
   },
   {
    "duration": 18,
    "start_time": "2022-04-04T14:11:36.994Z"
   },
   {
    "duration": 21,
    "start_time": "2022-04-04T14:11:37.014Z"
   },
   {
    "duration": 6,
    "start_time": "2022-04-04T14:11:37.037Z"
   },
   {
    "duration": 37,
    "start_time": "2022-04-04T14:11:37.047Z"
   },
   {
    "duration": 20,
    "start_time": "2022-04-04T14:11:37.088Z"
   },
   {
    "duration": 6,
    "start_time": "2022-04-04T14:11:37.110Z"
   },
   {
    "duration": 8,
    "start_time": "2022-04-04T14:11:37.119Z"
   },
   {
    "duration": 20,
    "start_time": "2022-04-04T14:11:37.130Z"
   },
   {
    "duration": 43,
    "start_time": "2022-04-04T14:11:37.152Z"
   },
   {
    "duration": 25,
    "start_time": "2022-04-04T14:11:37.197Z"
   },
   {
    "duration": 77,
    "start_time": "2022-04-04T14:11:37.224Z"
   },
   {
    "duration": 366,
    "start_time": "2022-04-04T14:11:37.303Z"
   },
   {
    "duration": 16,
    "start_time": "2022-04-04T14:11:37.671Z"
   },
   {
    "duration": 464,
    "start_time": "2022-04-04T14:11:37.690Z"
   },
   {
    "duration": 41,
    "start_time": "2022-04-04T14:11:38.156Z"
   },
   {
    "duration": 250,
    "start_time": "2022-04-04T14:11:38.199Z"
   },
   {
    "duration": 5,
    "start_time": "2022-04-04T14:11:38.451Z"
   },
   {
    "duration": 452,
    "start_time": "2022-04-04T14:11:38.458Z"
   },
   {
    "duration": 4,
    "start_time": "2022-04-04T14:11:38.912Z"
   },
   {
    "duration": 45,
    "start_time": "2022-04-04T14:11:38.918Z"
   },
   {
    "duration": 1269,
    "start_time": "2022-04-04T14:11:38.966Z"
   },
   {
    "duration": 7,
    "start_time": "2022-04-04T14:11:40.237Z"
   },
   {
    "duration": 329,
    "start_time": "2022-04-04T14:11:40.245Z"
   },
   {
    "duration": 5,
    "start_time": "2022-04-04T14:11:40.589Z"
   },
   {
    "duration": 36,
    "start_time": "2022-04-04T14:11:40.596Z"
   },
   {
    "duration": 186,
    "start_time": "2022-04-04T14:11:40.634Z"
   },
   {
    "duration": 4,
    "start_time": "2022-04-04T14:11:40.823Z"
   },
   {
    "duration": 22,
    "start_time": "2022-04-04T14:11:40.830Z"
   },
   {
    "duration": 41,
    "start_time": "2022-04-04T14:11:40.854Z"
   },
   {
    "duration": 17,
    "start_time": "2022-04-04T14:11:40.897Z"
   },
   {
    "duration": 30,
    "start_time": "2022-04-04T14:11:40.920Z"
   },
   {
    "duration": 443,
    "start_time": "2022-04-04T14:11:40.952Z"
   },
   {
    "duration": 156,
    "start_time": "2022-04-04T14:11:41.398Z"
   },
   {
    "duration": 0,
    "start_time": "2022-04-04T14:11:41.557Z"
   },
   {
    "duration": 0,
    "start_time": "2022-04-04T14:11:41.558Z"
   },
   {
    "duration": 0,
    "start_time": "2022-04-04T14:11:41.560Z"
   },
   {
    "duration": 0,
    "start_time": "2022-04-04T14:11:41.562Z"
   },
   {
    "duration": 0,
    "start_time": "2022-04-04T14:11:41.563Z"
   },
   {
    "duration": 0,
    "start_time": "2022-04-04T14:11:41.582Z"
   },
   {
    "duration": 0,
    "start_time": "2022-04-04T14:11:41.583Z"
   },
   {
    "duration": 0,
    "start_time": "2022-04-04T14:11:41.584Z"
   },
   {
    "duration": 0,
    "start_time": "2022-04-04T14:11:41.586Z"
   },
   {
    "duration": 0,
    "start_time": "2022-04-04T14:11:41.590Z"
   },
   {
    "duration": 0,
    "start_time": "2022-04-04T14:11:41.592Z"
   },
   {
    "duration": 0,
    "start_time": "2022-04-04T14:11:41.593Z"
   },
   {
    "duration": 0,
    "start_time": "2022-04-04T14:11:41.596Z"
   },
   {
    "duration": 0,
    "start_time": "2022-04-04T14:11:41.597Z"
   },
   {
    "duration": 0,
    "start_time": "2022-04-04T14:11:41.599Z"
   },
   {
    "duration": 0,
    "start_time": "2022-04-04T14:11:41.600Z"
   },
   {
    "duration": 0,
    "start_time": "2022-04-04T14:11:41.602Z"
   },
   {
    "duration": 0,
    "start_time": "2022-04-04T14:11:41.603Z"
   },
   {
    "duration": 0,
    "start_time": "2022-04-04T14:11:41.605Z"
   },
   {
    "duration": 0,
    "start_time": "2022-04-04T14:11:41.607Z"
   },
   {
    "duration": 0,
    "start_time": "2022-04-04T14:11:41.608Z"
   },
   {
    "duration": 187,
    "start_time": "2022-04-04T14:11:45.723Z"
   },
   {
    "duration": 15,
    "start_time": "2022-04-04T14:11:46.841Z"
   },
   {
    "duration": 439,
    "start_time": "2022-04-04T14:11:48.854Z"
   },
   {
    "duration": 7,
    "start_time": "2022-04-04T14:11:51.395Z"
   },
   {
    "duration": 1466,
    "start_time": "2022-04-04T14:12:05.544Z"
   },
   {
    "duration": 75,
    "start_time": "2022-04-04T14:12:07.012Z"
   },
   {
    "duration": 41,
    "start_time": "2022-04-04T14:12:07.090Z"
   },
   {
    "duration": 20,
    "start_time": "2022-04-04T14:12:07.135Z"
   },
   {
    "duration": 28,
    "start_time": "2022-04-04T14:12:07.157Z"
   },
   {
    "duration": 41,
    "start_time": "2022-04-04T14:12:07.188Z"
   },
   {
    "duration": 10,
    "start_time": "2022-04-04T14:12:07.231Z"
   },
   {
    "duration": 7,
    "start_time": "2022-04-04T14:12:07.243Z"
   },
   {
    "duration": 45,
    "start_time": "2022-04-04T14:12:07.252Z"
   },
   {
    "duration": 13,
    "start_time": "2022-04-04T14:12:07.301Z"
   },
   {
    "duration": 15,
    "start_time": "2022-04-04T14:12:07.316Z"
   },
   {
    "duration": 60,
    "start_time": "2022-04-04T14:12:07.333Z"
   },
   {
    "duration": 8,
    "start_time": "2022-04-04T14:12:07.395Z"
   },
   {
    "duration": 13,
    "start_time": "2022-04-04T14:12:07.406Z"
   },
   {
    "duration": 12,
    "start_time": "2022-04-04T14:12:07.421Z"
   },
   {
    "duration": 14,
    "start_time": "2022-04-04T14:12:07.435Z"
   },
   {
    "duration": 8,
    "start_time": "2022-04-04T14:12:07.451Z"
   },
   {
    "duration": 21,
    "start_time": "2022-04-04T14:12:07.491Z"
   },
   {
    "duration": 6,
    "start_time": "2022-04-04T14:12:07.514Z"
   },
   {
    "duration": 22,
    "start_time": "2022-04-04T14:12:07.522Z"
   },
   {
    "duration": 84,
    "start_time": "2022-04-04T14:12:07.546Z"
   },
   {
    "duration": 375,
    "start_time": "2022-04-04T14:12:07.632Z"
   },
   {
    "duration": 10,
    "start_time": "2022-04-04T14:12:08.009Z"
   },
   {
    "duration": 477,
    "start_time": "2022-04-04T14:12:08.022Z"
   },
   {
    "duration": 18,
    "start_time": "2022-04-04T14:12:08.502Z"
   },
   {
    "duration": 221,
    "start_time": "2022-04-04T14:12:08.522Z"
   },
   {
    "duration": 5,
    "start_time": "2022-04-04T14:12:08.745Z"
   },
   {
    "duration": 442,
    "start_time": "2022-04-04T14:12:08.756Z"
   },
   {
    "duration": 5,
    "start_time": "2022-04-04T14:12:09.201Z"
   },
   {
    "duration": 47,
    "start_time": "2022-04-04T14:12:09.209Z"
   },
   {
    "duration": 865,
    "start_time": "2022-04-04T14:12:09.258Z"
   },
   {
    "duration": 8,
    "start_time": "2022-04-04T14:12:10.125Z"
   },
   {
    "duration": 334,
    "start_time": "2022-04-04T14:12:10.135Z"
   },
   {
    "duration": 21,
    "start_time": "2022-04-04T14:12:10.471Z"
   },
   {
    "duration": 45,
    "start_time": "2022-04-04T14:12:10.494Z"
   },
   {
    "duration": 167,
    "start_time": "2022-04-04T14:12:10.541Z"
   },
   {
    "duration": 5,
    "start_time": "2022-04-04T14:12:10.711Z"
   },
   {
    "duration": 21,
    "start_time": "2022-04-04T14:12:10.718Z"
   },
   {
    "duration": 48,
    "start_time": "2022-04-04T14:12:10.741Z"
   },
   {
    "duration": 15,
    "start_time": "2022-04-04T14:12:10.795Z"
   },
   {
    "duration": 38,
    "start_time": "2022-04-04T14:12:10.812Z"
   },
   {
    "duration": 408,
    "start_time": "2022-04-04T14:12:10.852Z"
   },
   {
    "duration": 163,
    "start_time": "2022-04-04T14:12:11.262Z"
   },
   {
    "duration": 0,
    "start_time": "2022-04-04T14:12:11.427Z"
   },
   {
    "duration": 0,
    "start_time": "2022-04-04T14:12:11.429Z"
   },
   {
    "duration": 0,
    "start_time": "2022-04-04T14:12:11.431Z"
   },
   {
    "duration": 0,
    "start_time": "2022-04-04T14:12:11.432Z"
   },
   {
    "duration": 0,
    "start_time": "2022-04-04T14:12:11.433Z"
   },
   {
    "duration": 0,
    "start_time": "2022-04-04T14:12:11.434Z"
   },
   {
    "duration": 0,
    "start_time": "2022-04-04T14:12:11.436Z"
   },
   {
    "duration": 0,
    "start_time": "2022-04-04T14:12:11.437Z"
   },
   {
    "duration": 0,
    "start_time": "2022-04-04T14:12:11.439Z"
   },
   {
    "duration": 0,
    "start_time": "2022-04-04T14:12:11.440Z"
   },
   {
    "duration": 0,
    "start_time": "2022-04-04T14:12:11.441Z"
   },
   {
    "duration": 0,
    "start_time": "2022-04-04T14:12:11.443Z"
   },
   {
    "duration": 0,
    "start_time": "2022-04-04T14:12:11.444Z"
   },
   {
    "duration": 0,
    "start_time": "2022-04-04T14:12:11.446Z"
   },
   {
    "duration": 0,
    "start_time": "2022-04-04T14:12:11.448Z"
   },
   {
    "duration": 0,
    "start_time": "2022-04-04T14:12:11.449Z"
   },
   {
    "duration": 0,
    "start_time": "2022-04-04T14:12:11.482Z"
   },
   {
    "duration": 0,
    "start_time": "2022-04-04T14:12:11.484Z"
   },
   {
    "duration": 0,
    "start_time": "2022-04-04T14:12:11.494Z"
   },
   {
    "duration": 0,
    "start_time": "2022-04-04T14:12:11.496Z"
   },
   {
    "duration": 0,
    "start_time": "2022-04-04T14:12:11.499Z"
   },
   {
    "duration": 1843,
    "start_time": "2022-04-07T13:11:27.767Z"
   },
   {
    "duration": 79,
    "start_time": "2022-04-07T13:11:29.613Z"
   },
   {
    "duration": 44,
    "start_time": "2022-04-07T13:11:29.694Z"
   },
   {
    "duration": 53,
    "start_time": "2022-04-07T13:11:29.742Z"
   },
   {
    "duration": 4,
    "start_time": "2022-04-07T13:11:29.798Z"
   },
   {
    "duration": 30,
    "start_time": "2022-04-07T13:11:29.805Z"
   },
   {
    "duration": 8,
    "start_time": "2022-04-07T13:11:29.837Z"
   },
   {
    "duration": 33,
    "start_time": "2022-04-07T13:11:29.847Z"
   },
   {
    "duration": 27,
    "start_time": "2022-04-07T13:11:29.881Z"
   },
   {
    "duration": 11,
    "start_time": "2022-04-07T13:11:29.913Z"
   },
   {
    "duration": 16,
    "start_time": "2022-04-07T13:11:29.926Z"
   },
   {
    "duration": 56,
    "start_time": "2022-04-07T13:11:29.943Z"
   },
   {
    "duration": 6,
    "start_time": "2022-04-07T13:11:30.001Z"
   },
   {
    "duration": 11,
    "start_time": "2022-04-07T13:11:30.010Z"
   },
   {
    "duration": 22,
    "start_time": "2022-04-07T13:11:30.024Z"
   },
   {
    "duration": 26,
    "start_time": "2022-04-07T13:11:30.048Z"
   },
   {
    "duration": 8,
    "start_time": "2022-04-07T13:11:30.076Z"
   },
   {
    "duration": 24,
    "start_time": "2022-04-07T13:11:30.089Z"
   },
   {
    "duration": 7,
    "start_time": "2022-04-07T13:11:30.115Z"
   },
   {
    "duration": 60,
    "start_time": "2022-04-07T13:11:30.123Z"
   },
   {
    "duration": 66,
    "start_time": "2022-04-07T13:11:30.186Z"
   },
   {
    "duration": 409,
    "start_time": "2022-04-07T13:11:30.254Z"
   },
   {
    "duration": 18,
    "start_time": "2022-04-07T13:11:30.665Z"
   },
   {
    "duration": 499,
    "start_time": "2022-04-07T13:11:30.685Z"
   },
   {
    "duration": 19,
    "start_time": "2022-04-07T13:11:31.186Z"
   },
   {
    "duration": 226,
    "start_time": "2022-04-07T13:11:31.207Z"
   },
   {
    "duration": 5,
    "start_time": "2022-04-07T13:11:31.436Z"
   },
   {
    "duration": 496,
    "start_time": "2022-04-07T13:11:31.447Z"
   },
   {
    "duration": 4,
    "start_time": "2022-04-07T13:11:31.945Z"
   },
   {
    "duration": 60,
    "start_time": "2022-04-07T13:11:31.951Z"
   },
   {
    "duration": 990,
    "start_time": "2022-04-07T13:11:32.013Z"
   },
   {
    "duration": 7,
    "start_time": "2022-04-07T13:11:33.005Z"
   },
   {
    "duration": 281,
    "start_time": "2022-04-07T13:11:33.014Z"
   },
   {
    "duration": 3,
    "start_time": "2022-04-07T13:11:33.297Z"
   },
   {
    "duration": 38,
    "start_time": "2022-04-07T13:11:33.302Z"
   },
   {
    "duration": 197,
    "start_time": "2022-04-07T13:11:33.342Z"
   },
   {
    "duration": 4,
    "start_time": "2022-04-07T13:11:33.542Z"
   },
   {
    "duration": 40,
    "start_time": "2022-04-07T13:11:33.548Z"
   },
   {
    "duration": 17,
    "start_time": "2022-04-07T13:11:33.591Z"
   },
   {
    "duration": 21,
    "start_time": "2022-04-07T13:11:33.610Z"
   },
   {
    "duration": 58,
    "start_time": "2022-04-07T13:11:33.633Z"
   },
   {
    "duration": 471,
    "start_time": "2022-04-07T13:11:33.693Z"
   },
   {
    "duration": 158,
    "start_time": "2022-04-07T13:11:34.176Z"
   },
   {
    "duration": 0,
    "start_time": "2022-04-07T13:11:34.337Z"
   },
   {
    "duration": 0,
    "start_time": "2022-04-07T13:11:34.340Z"
   },
   {
    "duration": 0,
    "start_time": "2022-04-07T13:11:34.342Z"
   },
   {
    "duration": 0,
    "start_time": "2022-04-07T13:11:34.344Z"
   },
   {
    "duration": 0,
    "start_time": "2022-04-07T13:11:34.346Z"
   },
   {
    "duration": 0,
    "start_time": "2022-04-07T13:11:34.349Z"
   },
   {
    "duration": 0,
    "start_time": "2022-04-07T13:11:34.374Z"
   },
   {
    "duration": 0,
    "start_time": "2022-04-07T13:11:34.376Z"
   },
   {
    "duration": 0,
    "start_time": "2022-04-07T13:11:34.378Z"
   },
   {
    "duration": 0,
    "start_time": "2022-04-07T13:11:34.380Z"
   },
   {
    "duration": 0,
    "start_time": "2022-04-07T13:11:34.381Z"
   },
   {
    "duration": 0,
    "start_time": "2022-04-07T13:11:34.383Z"
   },
   {
    "duration": 0,
    "start_time": "2022-04-07T13:11:34.385Z"
   },
   {
    "duration": 0,
    "start_time": "2022-04-07T13:11:34.386Z"
   },
   {
    "duration": 0,
    "start_time": "2022-04-07T13:11:34.388Z"
   },
   {
    "duration": 0,
    "start_time": "2022-04-07T13:11:34.390Z"
   },
   {
    "duration": 0,
    "start_time": "2022-04-07T13:11:34.391Z"
   },
   {
    "duration": 0,
    "start_time": "2022-04-07T13:11:34.393Z"
   },
   {
    "duration": 0,
    "start_time": "2022-04-07T13:11:34.394Z"
   },
   {
    "duration": 0,
    "start_time": "2022-04-07T13:11:34.395Z"
   },
   {
    "duration": 0,
    "start_time": "2022-04-07T13:11:34.397Z"
   },
   {
    "duration": 2096,
    "start_time": "2022-04-10T13:16:32.432Z"
   },
   {
    "duration": 99,
    "start_time": "2022-04-10T13:16:34.531Z"
   },
   {
    "duration": 74,
    "start_time": "2022-04-10T13:16:34.633Z"
   },
   {
    "duration": 21,
    "start_time": "2022-04-10T13:16:34.711Z"
   },
   {
    "duration": 4,
    "start_time": "2022-04-10T13:16:34.734Z"
   },
   {
    "duration": 55,
    "start_time": "2022-04-10T13:16:34.739Z"
   },
   {
    "duration": 10,
    "start_time": "2022-04-10T13:16:34.796Z"
   },
   {
    "duration": 7,
    "start_time": "2022-04-10T13:16:34.809Z"
   },
   {
    "duration": 20,
    "start_time": "2022-04-10T13:16:34.819Z"
   },
   {
    "duration": 41,
    "start_time": "2022-04-10T13:16:34.843Z"
   },
   {
    "duration": 18,
    "start_time": "2022-04-10T13:16:34.886Z"
   },
   {
    "duration": 22,
    "start_time": "2022-04-10T13:16:34.906Z"
   },
   {
    "duration": 6,
    "start_time": "2022-04-10T13:16:34.931Z"
   },
   {
    "duration": 8,
    "start_time": "2022-04-10T13:16:34.974Z"
   },
   {
    "duration": 18,
    "start_time": "2022-04-10T13:16:34.984Z"
   },
   {
    "duration": 6,
    "start_time": "2022-04-10T13:16:35.004Z"
   },
   {
    "duration": 8,
    "start_time": "2022-04-10T13:16:35.012Z"
   },
   {
    "duration": 51,
    "start_time": "2022-04-10T13:16:35.023Z"
   },
   {
    "duration": 6,
    "start_time": "2022-04-10T13:16:35.076Z"
   },
   {
    "duration": 27,
    "start_time": "2022-04-10T13:16:35.084Z"
   },
   {
    "duration": 78,
    "start_time": "2022-04-10T13:16:35.113Z"
   },
   {
    "duration": 398,
    "start_time": "2022-04-10T13:16:35.193Z"
   },
   {
    "duration": 11,
    "start_time": "2022-04-10T13:16:35.593Z"
   },
   {
    "duration": 497,
    "start_time": "2022-04-10T13:16:35.607Z"
   },
   {
    "duration": 18,
    "start_time": "2022-04-10T13:16:36.108Z"
   },
   {
    "duration": 238,
    "start_time": "2022-04-10T13:16:36.128Z"
   },
   {
    "duration": 9,
    "start_time": "2022-04-10T13:16:36.368Z"
   },
   {
    "duration": 471,
    "start_time": "2022-04-10T13:16:36.383Z"
   },
   {
    "duration": 18,
    "start_time": "2022-04-10T13:16:36.856Z"
   },
   {
    "duration": 47,
    "start_time": "2022-04-10T13:16:36.875Z"
   },
   {
    "duration": 915,
    "start_time": "2022-04-10T13:16:36.924Z"
   },
   {
    "duration": 7,
    "start_time": "2022-04-10T13:16:37.841Z"
   },
   {
    "duration": 346,
    "start_time": "2022-04-10T13:16:37.851Z"
   },
   {
    "duration": 4,
    "start_time": "2022-04-10T13:16:38.199Z"
   },
   {
    "duration": 37,
    "start_time": "2022-04-10T13:16:38.205Z"
   },
   {
    "duration": 209,
    "start_time": "2022-04-10T13:16:38.244Z"
   },
   {
    "duration": 10,
    "start_time": "2022-04-10T13:16:38.455Z"
   },
   {
    "duration": 28,
    "start_time": "2022-04-10T13:16:38.467Z"
   },
   {
    "duration": 22,
    "start_time": "2022-04-10T13:16:38.497Z"
   },
   {
    "duration": 16,
    "start_time": "2022-04-10T13:16:38.521Z"
   },
   {
    "duration": 59,
    "start_time": "2022-04-10T13:16:38.540Z"
   },
   {
    "duration": 448,
    "start_time": "2022-04-10T13:16:38.601Z"
   },
   {
    "duration": 164,
    "start_time": "2022-04-10T13:16:39.052Z"
   },
   {
    "duration": 0,
    "start_time": "2022-04-10T13:16:39.219Z"
   },
   {
    "duration": 0,
    "start_time": "2022-04-10T13:16:39.221Z"
   },
   {
    "duration": 1,
    "start_time": "2022-04-10T13:16:39.223Z"
   },
   {
    "duration": 0,
    "start_time": "2022-04-10T13:16:39.226Z"
   },
   {
    "duration": 0,
    "start_time": "2022-04-10T13:16:39.229Z"
   },
   {
    "duration": 0,
    "start_time": "2022-04-10T13:16:39.231Z"
   },
   {
    "duration": 0,
    "start_time": "2022-04-10T13:16:39.233Z"
   },
   {
    "duration": 0,
    "start_time": "2022-04-10T13:16:39.235Z"
   },
   {
    "duration": 0,
    "start_time": "2022-04-10T13:16:39.237Z"
   },
   {
    "duration": 0,
    "start_time": "2022-04-10T13:16:39.275Z"
   },
   {
    "duration": 0,
    "start_time": "2022-04-10T13:16:39.277Z"
   },
   {
    "duration": 0,
    "start_time": "2022-04-10T13:16:39.279Z"
   },
   {
    "duration": 0,
    "start_time": "2022-04-10T13:16:39.281Z"
   },
   {
    "duration": 0,
    "start_time": "2022-04-10T13:16:39.284Z"
   },
   {
    "duration": 0,
    "start_time": "2022-04-10T13:16:39.286Z"
   },
   {
    "duration": 0,
    "start_time": "2022-04-10T13:16:39.288Z"
   },
   {
    "duration": 0,
    "start_time": "2022-04-10T13:16:39.290Z"
   },
   {
    "duration": 0,
    "start_time": "2022-04-10T13:16:39.292Z"
   },
   {
    "duration": 0,
    "start_time": "2022-04-10T13:16:39.294Z"
   },
   {
    "duration": 0,
    "start_time": "2022-04-10T13:16:39.297Z"
   },
   {
    "duration": 0,
    "start_time": "2022-04-10T13:16:39.299Z"
   },
   {
    "duration": 212,
    "start_time": "2022-04-10T13:18:52.843Z"
   },
   {
    "duration": 197,
    "start_time": "2022-04-10T13:18:54.530Z"
   },
   {
    "duration": 14,
    "start_time": "2022-04-10T13:18:54.960Z"
   },
   {
    "duration": 530,
    "start_time": "2022-04-10T13:18:57.125Z"
   },
   {
    "duration": 250,
    "start_time": "2022-04-10T13:19:05.936Z"
   },
   {
    "duration": 465,
    "start_time": "2022-04-10T13:19:09.833Z"
   },
   {
    "duration": 481,
    "start_time": "2022-04-10T13:19:17.159Z"
   },
   {
    "duration": 436,
    "start_time": "2022-04-10T13:19:24.474Z"
   },
   {
    "duration": 11,
    "start_time": "2022-04-10T13:20:24.487Z"
   },
   {
    "duration": 7,
    "start_time": "2022-04-10T13:20:33.663Z"
   },
   {
    "duration": 5,
    "start_time": "2022-04-10T13:22:25.752Z"
   },
   {
    "duration": 338,
    "start_time": "2022-04-10T13:22:26.924Z"
   },
   {
    "duration": 10,
    "start_time": "2022-04-10T13:23:04.274Z"
   },
   {
    "duration": 5,
    "start_time": "2022-04-10T13:23:25.897Z"
   },
   {
    "duration": 365,
    "start_time": "2022-04-10T13:23:27.219Z"
   },
   {
    "duration": 4,
    "start_time": "2022-04-10T13:24:21.013Z"
   },
   {
    "duration": 301,
    "start_time": "2022-04-10T13:24:22.362Z"
   },
   {
    "duration": 5,
    "start_time": "2022-04-10T13:24:31.940Z"
   },
   {
    "duration": 301,
    "start_time": "2022-04-10T13:24:33.234Z"
   },
   {
    "duration": 8,
    "start_time": "2022-04-10T13:33:06.459Z"
   },
   {
    "duration": 5,
    "start_time": "2022-04-10T13:34:26.810Z"
   },
   {
    "duration": 210,
    "start_time": "2022-04-10T13:34:45.367Z"
   },
   {
    "duration": 89,
    "start_time": "2022-04-10T13:34:59.399Z"
   },
   {
    "duration": 121,
    "start_time": "2022-04-10T13:35:25.468Z"
   },
   {
    "duration": 90,
    "start_time": "2022-04-10T13:35:56.593Z"
   },
   {
    "duration": 94,
    "start_time": "2022-04-10T13:36:12.916Z"
   },
   {
    "duration": 95,
    "start_time": "2022-04-10T13:36:22.739Z"
   },
   {
    "duration": 107,
    "start_time": "2022-04-10T13:36:31.649Z"
   },
   {
    "duration": 220,
    "start_time": "2022-04-10T13:36:35.509Z"
   },
   {
    "duration": 88,
    "start_time": "2022-04-10T13:37:50.190Z"
   },
   {
    "duration": 92,
    "start_time": "2022-04-10T13:38:10.829Z"
   },
   {
    "duration": 16,
    "start_time": "2022-04-10T13:38:16.200Z"
   },
   {
    "duration": 11,
    "start_time": "2022-04-10T13:43:15.420Z"
   },
   {
    "duration": 11,
    "start_time": "2022-04-10T13:43:28.254Z"
   },
   {
    "duration": 4,
    "start_time": "2022-04-10T13:44:01.935Z"
   },
   {
    "duration": 4,
    "start_time": "2022-04-10T13:44:09.587Z"
   },
   {
    "duration": 1784,
    "start_time": "2022-04-10T13:45:01.592Z"
   },
   {
    "duration": 1662,
    "start_time": "2022-04-10T13:45:11.080Z"
   },
   {
    "duration": 1389,
    "start_time": "2022-04-10T13:45:23.681Z"
   },
   {
    "duration": 89,
    "start_time": "2022-04-10T13:46:04.880Z"
   },
   {
    "duration": 1720,
    "start_time": "2022-04-10T13:46:14.854Z"
   },
   {
    "duration": 11,
    "start_time": "2022-04-10T13:46:35.979Z"
   },
   {
    "duration": 5,
    "start_time": "2022-04-10T13:46:40.486Z"
   },
   {
    "duration": 11,
    "start_time": "2022-04-10T13:46:58.219Z"
   },
   {
    "duration": 8,
    "start_time": "2022-04-10T13:47:14.333Z"
   },
   {
    "duration": 4,
    "start_time": "2022-04-10T13:48:10.669Z"
   },
   {
    "duration": 10,
    "start_time": "2022-04-10T13:48:21.184Z"
   },
   {
    "duration": 5,
    "start_time": "2022-04-10T13:48:40.085Z"
   },
   {
    "duration": 11,
    "start_time": "2022-04-10T13:48:41.388Z"
   },
   {
    "duration": 5,
    "start_time": "2022-04-10T13:48:45.355Z"
   },
   {
    "duration": 15,
    "start_time": "2022-04-10T13:48:55.021Z"
   },
   {
    "duration": 466,
    "start_time": "2022-04-10T13:48:58.645Z"
   },
   {
    "duration": 10,
    "start_time": "2022-04-10T13:49:56.006Z"
   },
   {
    "duration": 16,
    "start_time": "2022-04-10T13:51:26.452Z"
   },
   {
    "duration": 15,
    "start_time": "2022-04-10T13:51:30.678Z"
   },
   {
    "duration": 5,
    "start_time": "2022-04-10T13:51:41.848Z"
   },
   {
    "duration": 5,
    "start_time": "2022-04-10T13:53:00.836Z"
   },
   {
    "duration": 11,
    "start_time": "2022-04-10T13:53:01.444Z"
   },
   {
    "duration": 15,
    "start_time": "2022-04-10T13:53:16.719Z"
   },
   {
    "duration": 5,
    "start_time": "2022-04-10T13:53:23.202Z"
   },
   {
    "duration": 12,
    "start_time": "2022-04-10T13:54:39.678Z"
   },
   {
    "duration": 7,
    "start_time": "2022-04-10T13:54:51.931Z"
   },
   {
    "duration": 7,
    "start_time": "2022-04-10T13:55:04.300Z"
   },
   {
    "duration": 16,
    "start_time": "2022-04-10T13:55:15.251Z"
   },
   {
    "duration": 6,
    "start_time": "2022-04-10T13:56:29.362Z"
   },
   {
    "duration": 11,
    "start_time": "2022-04-10T14:02:03.670Z"
   },
   {
    "duration": 1694,
    "start_time": "2022-04-10T14:02:08.028Z"
   },
   {
    "duration": 97,
    "start_time": "2022-04-10T14:02:09.725Z"
   },
   {
    "duration": 72,
    "start_time": "2022-04-10T14:02:09.824Z"
   },
   {
    "duration": 32,
    "start_time": "2022-04-10T14:02:09.901Z"
   },
   {
    "duration": 6,
    "start_time": "2022-04-10T14:02:09.936Z"
   },
   {
    "duration": 75,
    "start_time": "2022-04-10T14:02:09.945Z"
   },
   {
    "duration": 7,
    "start_time": "2022-04-10T14:02:10.022Z"
   },
   {
    "duration": 13,
    "start_time": "2022-04-10T14:02:10.031Z"
   },
   {
    "duration": 44,
    "start_time": "2022-04-10T14:02:10.047Z"
   },
   {
    "duration": 13,
    "start_time": "2022-04-10T14:02:10.095Z"
   },
   {
    "duration": 15,
    "start_time": "2022-04-10T14:02:10.110Z"
   },
   {
    "duration": 61,
    "start_time": "2022-04-10T14:02:10.127Z"
   },
   {
    "duration": 8,
    "start_time": "2022-04-10T14:02:10.191Z"
   },
   {
    "duration": 8,
    "start_time": "2022-04-10T14:02:10.201Z"
   },
   {
    "duration": 11,
    "start_time": "2022-04-10T14:02:10.211Z"
   },
   {
    "duration": 8,
    "start_time": "2022-04-10T14:02:10.224Z"
   },
   {
    "duration": 7,
    "start_time": "2022-04-10T14:02:10.273Z"
   },
   {
    "duration": 20,
    "start_time": "2022-04-10T14:02:10.282Z"
   },
   {
    "duration": 6,
    "start_time": "2022-04-10T14:02:10.304Z"
   },
   {
    "duration": 24,
    "start_time": "2022-04-10T14:02:10.312Z"
   },
   {
    "duration": 87,
    "start_time": "2022-04-10T14:02:10.339Z"
   },
   {
    "duration": 407,
    "start_time": "2022-04-10T14:02:10.428Z"
   },
   {
    "duration": 9,
    "start_time": "2022-04-10T14:02:10.838Z"
   },
   {
    "duration": 740,
    "start_time": "2022-04-10T14:02:10.849Z"
   },
   {
    "duration": 28,
    "start_time": "2022-04-10T14:02:11.592Z"
   },
   {
    "duration": 234,
    "start_time": "2022-04-10T14:02:11.622Z"
   },
   {
    "duration": 15,
    "start_time": "2022-04-10T14:02:11.860Z"
   },
   {
    "duration": 471,
    "start_time": "2022-04-10T14:02:11.882Z"
   },
   {
    "duration": 4,
    "start_time": "2022-04-10T14:02:12.356Z"
   },
   {
    "duration": 45,
    "start_time": "2022-04-10T14:02:12.373Z"
   },
   {
    "duration": 1282,
    "start_time": "2022-04-10T14:02:12.420Z"
   },
   {
    "duration": 8,
    "start_time": "2022-04-10T14:02:13.704Z"
   },
   {
    "duration": 353,
    "start_time": "2022-04-10T14:02:13.714Z"
   },
   {
    "duration": 5,
    "start_time": "2022-04-10T14:02:14.069Z"
   },
   {
    "duration": 35,
    "start_time": "2022-04-10T14:02:14.077Z"
   },
   {
    "duration": 213,
    "start_time": "2022-04-10T14:02:14.114Z"
   },
   {
    "duration": 5,
    "start_time": "2022-04-10T14:02:14.329Z"
   },
   {
    "duration": 45,
    "start_time": "2022-04-10T14:02:14.336Z"
   },
   {
    "duration": 18,
    "start_time": "2022-04-10T14:02:14.383Z"
   },
   {
    "duration": 14,
    "start_time": "2022-04-10T14:02:14.403Z"
   },
   {
    "duration": 69,
    "start_time": "2022-04-10T14:02:14.419Z"
   },
   {
    "duration": 431,
    "start_time": "2022-04-10T14:02:14.490Z"
   },
   {
    "duration": 166,
    "start_time": "2022-04-10T14:02:14.924Z"
   },
   {
    "duration": 0,
    "start_time": "2022-04-10T14:02:15.092Z"
   },
   {
    "duration": 0,
    "start_time": "2022-04-10T14:02:15.094Z"
   },
   {
    "duration": 0,
    "start_time": "2022-04-10T14:02:15.096Z"
   },
   {
    "duration": 0,
    "start_time": "2022-04-10T14:02:15.097Z"
   },
   {
    "duration": 0,
    "start_time": "2022-04-10T14:02:15.099Z"
   },
   {
    "duration": 0,
    "start_time": "2022-04-10T14:02:15.100Z"
   },
   {
    "duration": 0,
    "start_time": "2022-04-10T14:02:15.102Z"
   },
   {
    "duration": 0,
    "start_time": "2022-04-10T14:02:15.103Z"
   },
   {
    "duration": 0,
    "start_time": "2022-04-10T14:02:15.104Z"
   },
   {
    "duration": 0,
    "start_time": "2022-04-10T14:02:15.106Z"
   },
   {
    "duration": 0,
    "start_time": "2022-04-10T14:02:15.107Z"
   },
   {
    "duration": 0,
    "start_time": "2022-04-10T14:02:15.108Z"
   },
   {
    "duration": 0,
    "start_time": "2022-04-10T14:02:15.110Z"
   },
   {
    "duration": 0,
    "start_time": "2022-04-10T14:02:15.111Z"
   },
   {
    "duration": 0,
    "start_time": "2022-04-10T14:02:15.113Z"
   },
   {
    "duration": 0,
    "start_time": "2022-04-10T14:02:15.114Z"
   },
   {
    "duration": 0,
    "start_time": "2022-04-10T14:02:15.116Z"
   },
   {
    "duration": 0,
    "start_time": "2022-04-10T14:02:15.117Z"
   },
   {
    "duration": 0,
    "start_time": "2022-04-10T14:02:15.119Z"
   },
   {
    "duration": 0,
    "start_time": "2022-04-10T14:02:15.120Z"
   },
   {
    "duration": 0,
    "start_time": "2022-04-10T14:02:15.122Z"
   },
   {
    "duration": 0,
    "start_time": "2022-04-10T14:02:15.174Z"
   },
   {
    "duration": 0,
    "start_time": "2022-04-10T14:02:15.176Z"
   },
   {
    "duration": 0,
    "start_time": "2022-04-10T14:02:15.177Z"
   },
   {
    "duration": 0,
    "start_time": "2022-04-10T14:02:15.179Z"
   },
   {
    "duration": 196,
    "start_time": "2022-04-10T14:02:20.880Z"
   },
   {
    "duration": 11,
    "start_time": "2022-04-10T14:02:23.018Z"
   },
   {
    "duration": 11,
    "start_time": "2022-04-10T14:02:35.730Z"
   },
   {
    "duration": 11,
    "start_time": "2022-04-10T14:02:37.277Z"
   },
   {
    "duration": 208,
    "start_time": "2022-04-10T14:02:44.141Z"
   },
   {
    "duration": 14,
    "start_time": "2022-04-10T14:02:45.368Z"
   },
   {
    "duration": 16,
    "start_time": "2022-04-10T14:05:43.876Z"
   },
   {
    "duration": 6,
    "start_time": "2022-04-10T14:05:45.515Z"
   },
   {
    "duration": 344,
    "start_time": "2022-04-10T14:05:46.314Z"
   },
   {
    "duration": 11,
    "start_time": "2022-04-10T14:06:52.017Z"
   },
   {
    "duration": 1563,
    "start_time": "2022-04-10T14:44:19.146Z"
   },
   {
    "duration": 81,
    "start_time": "2022-04-10T14:44:20.712Z"
   },
   {
    "duration": 58,
    "start_time": "2022-04-10T14:44:20.796Z"
   },
   {
    "duration": 26,
    "start_time": "2022-04-10T14:44:20.875Z"
   },
   {
    "duration": 5,
    "start_time": "2022-04-10T14:44:20.903Z"
   },
   {
    "duration": 34,
    "start_time": "2022-04-10T14:44:20.910Z"
   },
   {
    "duration": 34,
    "start_time": "2022-04-10T14:44:20.946Z"
   },
   {
    "duration": 9,
    "start_time": "2022-04-10T14:44:20.983Z"
   },
   {
    "duration": 27,
    "start_time": "2022-04-10T14:44:20.994Z"
   },
   {
    "duration": 19,
    "start_time": "2022-04-10T14:44:21.026Z"
   },
   {
    "duration": 19,
    "start_time": "2022-04-10T14:44:21.075Z"
   },
   {
    "duration": 23,
    "start_time": "2022-04-10T14:44:21.096Z"
   },
   {
    "duration": 7,
    "start_time": "2022-04-10T14:44:21.121Z"
   },
   {
    "duration": 45,
    "start_time": "2022-04-10T14:44:21.130Z"
   },
   {
    "duration": 9,
    "start_time": "2022-04-10T14:44:21.178Z"
   },
   {
    "duration": 6,
    "start_time": "2022-04-10T14:44:21.190Z"
   },
   {
    "duration": 17,
    "start_time": "2022-04-10T14:44:21.198Z"
   },
   {
    "duration": 6,
    "start_time": "2022-04-10T14:44:21.217Z"
   },
   {
    "duration": 68,
    "start_time": "2022-04-10T14:44:21.225Z"
   },
   {
    "duration": 79,
    "start_time": "2022-04-10T14:44:21.295Z"
   },
   {
    "duration": 512,
    "start_time": "2022-04-10T14:44:21.376Z"
   },
   {
    "duration": 13,
    "start_time": "2022-04-10T14:44:21.890Z"
   },
   {
    "duration": 482,
    "start_time": "2022-04-10T14:44:21.905Z"
   },
   {
    "duration": 19,
    "start_time": "2022-04-10T14:44:22.389Z"
   },
   {
    "duration": 232,
    "start_time": "2022-04-10T14:44:22.410Z"
   },
   {
    "duration": 6,
    "start_time": "2022-04-10T14:44:22.645Z"
   },
   {
    "duration": 442,
    "start_time": "2022-04-10T14:44:22.654Z"
   },
   {
    "duration": 5,
    "start_time": "2022-04-10T14:44:23.103Z"
   },
   {
    "duration": 78,
    "start_time": "2022-04-10T14:44:23.111Z"
   },
   {
    "duration": 1076,
    "start_time": "2022-04-10T14:44:23.191Z"
   },
   {
    "duration": 7,
    "start_time": "2022-04-10T14:44:24.269Z"
   },
   {
    "duration": 345,
    "start_time": "2022-04-10T14:44:24.279Z"
   },
   {
    "duration": 4,
    "start_time": "2022-04-10T14:44:24.627Z"
   },
   {
    "duration": 65,
    "start_time": "2022-04-10T14:44:24.633Z"
   },
   {
    "duration": 268,
    "start_time": "2022-04-10T14:44:24.700Z"
   },
   {
    "duration": 6,
    "start_time": "2022-04-10T14:44:24.974Z"
   },
   {
    "duration": 33,
    "start_time": "2022-04-10T14:44:24.982Z"
   },
   {
    "duration": 30,
    "start_time": "2022-04-10T14:44:25.017Z"
   },
   {
    "duration": 35,
    "start_time": "2022-04-10T14:44:25.050Z"
   },
   {
    "duration": 48,
    "start_time": "2022-04-10T14:44:25.088Z"
   },
   {
    "duration": 599,
    "start_time": "2022-04-10T14:44:25.139Z"
   },
   {
    "duration": 206,
    "start_time": "2022-04-10T14:44:25.740Z"
   },
   {
    "duration": 199,
    "start_time": "2022-04-10T14:44:25.948Z"
   },
   {
    "duration": 25,
    "start_time": "2022-04-10T14:44:26.150Z"
   },
   {
    "duration": 5,
    "start_time": "2022-04-10T14:44:26.178Z"
   },
   {
    "duration": 159,
    "start_time": "2022-04-10T14:44:26.185Z"
   },
   {
    "duration": 0,
    "start_time": "2022-04-10T14:44:26.346Z"
   },
   {
    "duration": 0,
    "start_time": "2022-04-10T14:44:26.349Z"
   },
   {
    "duration": 0,
    "start_time": "2022-04-10T14:44:26.351Z"
   },
   {
    "duration": 0,
    "start_time": "2022-04-10T14:44:26.353Z"
   },
   {
    "duration": 0,
    "start_time": "2022-04-10T14:44:26.355Z"
   },
   {
    "duration": 0,
    "start_time": "2022-04-10T14:44:26.357Z"
   },
   {
    "duration": 0,
    "start_time": "2022-04-10T14:44:26.374Z"
   },
   {
    "duration": 0,
    "start_time": "2022-04-10T14:44:26.376Z"
   },
   {
    "duration": 0,
    "start_time": "2022-04-10T14:44:26.378Z"
   },
   {
    "duration": 0,
    "start_time": "2022-04-10T14:44:26.379Z"
   },
   {
    "duration": 0,
    "start_time": "2022-04-10T14:44:26.382Z"
   },
   {
    "duration": 0,
    "start_time": "2022-04-10T14:44:26.384Z"
   },
   {
    "duration": 0,
    "start_time": "2022-04-10T14:44:26.386Z"
   },
   {
    "duration": 0,
    "start_time": "2022-04-10T14:44:26.388Z"
   },
   {
    "duration": 0,
    "start_time": "2022-04-10T14:44:26.390Z"
   },
   {
    "duration": 0,
    "start_time": "2022-04-10T14:44:26.392Z"
   },
   {
    "duration": 0,
    "start_time": "2022-04-10T14:44:26.394Z"
   },
   {
    "duration": 0,
    "start_time": "2022-04-10T14:44:26.396Z"
   },
   {
    "duration": 0,
    "start_time": "2022-04-10T14:44:26.398Z"
   },
   {
    "duration": 0,
    "start_time": "2022-04-10T14:44:26.400Z"
   },
   {
    "duration": 0,
    "start_time": "2022-04-10T14:44:26.401Z"
   },
   {
    "duration": 99,
    "start_time": "2022-04-10T14:47:29.672Z"
   },
   {
    "duration": 1888,
    "start_time": "2022-04-11T09:48:32.336Z"
   },
   {
    "duration": 137,
    "start_time": "2022-04-11T09:48:34.242Z"
   },
   {
    "duration": 101,
    "start_time": "2022-04-11T09:48:34.381Z"
   },
   {
    "duration": 79,
    "start_time": "2022-04-11T09:48:34.485Z"
   },
   {
    "duration": 5,
    "start_time": "2022-04-11T09:48:34.567Z"
   },
   {
    "duration": 92,
    "start_time": "2022-04-11T09:48:34.574Z"
   },
   {
    "duration": 13,
    "start_time": "2022-04-11T09:48:34.668Z"
   },
   {
    "duration": 65,
    "start_time": "2022-04-11T09:48:34.683Z"
   },
   {
    "duration": 50,
    "start_time": "2022-04-11T09:48:34.751Z"
   },
   {
    "duration": 20,
    "start_time": "2022-04-11T09:48:34.846Z"
   },
   {
    "duration": 18,
    "start_time": "2022-04-11T09:48:34.868Z"
   },
   {
    "duration": 28,
    "start_time": "2022-04-11T09:48:34.949Z"
   },
   {
    "duration": 69,
    "start_time": "2022-04-11T09:48:34.980Z"
   },
   {
    "duration": 11,
    "start_time": "2022-04-11T09:48:35.053Z"
   },
   {
    "duration": 14,
    "start_time": "2022-04-11T09:48:35.066Z"
   },
   {
    "duration": 59,
    "start_time": "2022-04-11T09:48:35.083Z"
   },
   {
    "duration": 19,
    "start_time": "2022-04-11T09:48:35.156Z"
   },
   {
    "duration": 77,
    "start_time": "2022-04-11T09:48:35.177Z"
   },
   {
    "duration": 22,
    "start_time": "2022-04-11T09:48:35.257Z"
   },
   {
    "duration": 201,
    "start_time": "2022-04-11T09:48:35.282Z"
   },
   {
    "duration": 989,
    "start_time": "2022-04-11T09:48:35.485Z"
   },
   {
    "duration": 71,
    "start_time": "2022-04-11T09:48:36.477Z"
   },
   {
    "duration": 980,
    "start_time": "2022-04-11T09:48:36.553Z"
   },
   {
    "duration": 30,
    "start_time": "2022-04-11T09:48:37.536Z"
   },
   {
    "duration": 239,
    "start_time": "2022-04-11T09:48:37.568Z"
   },
   {
    "duration": 5,
    "start_time": "2022-04-11T09:48:37.809Z"
   },
   {
    "duration": 517,
    "start_time": "2022-04-11T09:48:37.817Z"
   },
   {
    "duration": 5,
    "start_time": "2022-04-11T09:48:38.340Z"
   },
   {
    "duration": 231,
    "start_time": "2022-04-11T09:48:38.349Z"
   },
   {
    "duration": 886,
    "start_time": "2022-04-11T09:48:38.582Z"
   },
   {
    "duration": 8,
    "start_time": "2022-04-11T09:48:39.470Z"
   },
   {
    "duration": 383,
    "start_time": "2022-04-11T09:48:39.480Z"
   },
   {
    "duration": 4,
    "start_time": "2022-04-11T09:48:39.865Z"
   },
   {
    "duration": 48,
    "start_time": "2022-04-11T09:48:39.871Z"
   },
   {
    "duration": 219,
    "start_time": "2022-04-11T09:48:39.921Z"
   },
   {
    "duration": 6,
    "start_time": "2022-04-11T09:48:40.146Z"
   },
   {
    "duration": 34,
    "start_time": "2022-04-11T09:48:40.156Z"
   },
   {
    "duration": 32,
    "start_time": "2022-04-11T09:48:40.192Z"
   },
   {
    "duration": 32,
    "start_time": "2022-04-11T09:48:40.226Z"
   },
   {
    "duration": 42,
    "start_time": "2022-04-11T09:48:40.260Z"
   },
   {
    "duration": 429,
    "start_time": "2022-04-11T09:48:40.304Z"
   },
   {
    "duration": 226,
    "start_time": "2022-04-11T09:48:40.736Z"
   },
   {
    "duration": 231,
    "start_time": "2022-04-11T09:48:40.964Z"
   },
   {
    "duration": 14,
    "start_time": "2022-04-11T09:48:41.197Z"
   },
   {
    "duration": 27,
    "start_time": "2022-04-11T09:48:41.213Z"
   },
   {
    "duration": 191,
    "start_time": "2022-04-11T09:48:41.243Z"
   },
   {
    "duration": 0,
    "start_time": "2022-04-11T09:48:41.436Z"
   },
   {
    "duration": 0,
    "start_time": "2022-04-11T09:48:41.438Z"
   },
   {
    "duration": 0,
    "start_time": "2022-04-11T09:48:41.439Z"
   },
   {
    "duration": 0,
    "start_time": "2022-04-11T09:48:41.445Z"
   },
   {
    "duration": 0,
    "start_time": "2022-04-11T09:48:41.447Z"
   },
   {
    "duration": 0,
    "start_time": "2022-04-11T09:48:41.450Z"
   },
   {
    "duration": 0,
    "start_time": "2022-04-11T09:48:41.452Z"
   },
   {
    "duration": 0,
    "start_time": "2022-04-11T09:48:41.455Z"
   },
   {
    "duration": 0,
    "start_time": "2022-04-11T09:48:41.457Z"
   },
   {
    "duration": 0,
    "start_time": "2022-04-11T09:48:41.460Z"
   },
   {
    "duration": 0,
    "start_time": "2022-04-11T09:48:41.462Z"
   },
   {
    "duration": 0,
    "start_time": "2022-04-11T09:48:41.464Z"
   },
   {
    "duration": 0,
    "start_time": "2022-04-11T09:48:41.466Z"
   },
   {
    "duration": 0,
    "start_time": "2022-04-11T09:48:41.469Z"
   },
   {
    "duration": 0,
    "start_time": "2022-04-11T09:48:41.471Z"
   },
   {
    "duration": 0,
    "start_time": "2022-04-11T09:48:41.473Z"
   },
   {
    "duration": 0,
    "start_time": "2022-04-11T09:48:41.475Z"
   },
   {
    "duration": 0,
    "start_time": "2022-04-11T09:48:41.477Z"
   },
   {
    "duration": 0,
    "start_time": "2022-04-11T09:48:41.478Z"
   },
   {
    "duration": 0,
    "start_time": "2022-04-11T09:48:41.480Z"
   },
   {
    "duration": 0,
    "start_time": "2022-04-11T09:48:41.481Z"
   },
   {
    "duration": 42,
    "start_time": "2022-04-11T14:19:49.218Z"
   },
   {
    "duration": 32,
    "start_time": "2022-04-11T14:20:03.100Z"
   },
   {
    "duration": 197,
    "start_time": "2022-04-11T14:21:17.395Z"
   },
   {
    "duration": 184,
    "start_time": "2022-04-11T14:21:26.934Z"
   },
   {
    "duration": 14,
    "start_time": "2022-04-11T14:21:41.803Z"
   },
   {
    "duration": 494,
    "start_time": "2022-04-11T14:22:01.019Z"
   },
   {
    "duration": 7,
    "start_time": "2022-04-11T14:22:12.155Z"
   },
   {
    "duration": 15,
    "start_time": "2022-04-11T14:22:21.225Z"
   },
   {
    "duration": 4,
    "start_time": "2022-04-11T14:22:36.134Z"
   },
   {
    "duration": 366,
    "start_time": "2022-04-11T14:22:46.133Z"
   },
   {
    "duration": 13,
    "start_time": "2022-04-11T14:22:53.873Z"
   },
   {
    "duration": 12,
    "start_time": "2022-04-11T14:22:59.256Z"
   },
   {
    "duration": 12,
    "start_time": "2022-04-11T14:23:03.975Z"
   },
   {
    "duration": 2603,
    "start_time": "2022-04-12T14:21:21.940Z"
   },
   {
    "duration": 87,
    "start_time": "2022-04-12T14:21:24.546Z"
   },
   {
    "duration": 56,
    "start_time": "2022-04-12T14:21:24.639Z"
   },
   {
    "duration": 22,
    "start_time": "2022-04-12T14:21:24.698Z"
   },
   {
    "duration": 5,
    "start_time": "2022-04-12T14:21:24.722Z"
   },
   {
    "duration": 36,
    "start_time": "2022-04-12T14:21:24.729Z"
   },
   {
    "duration": 7,
    "start_time": "2022-04-12T14:21:24.793Z"
   },
   {
    "duration": 10,
    "start_time": "2022-04-12T14:21:24.802Z"
   },
   {
    "duration": 20,
    "start_time": "2022-04-12T14:21:24.816Z"
   },
   {
    "duration": 14,
    "start_time": "2022-04-12T14:21:24.838Z"
   },
   {
    "duration": 19,
    "start_time": "2022-04-12T14:21:24.894Z"
   },
   {
    "duration": 27,
    "start_time": "2022-04-12T14:21:24.916Z"
   },
   {
    "duration": 7,
    "start_time": "2022-04-12T14:21:24.946Z"
   },
   {
    "duration": 8,
    "start_time": "2022-04-12T14:21:24.993Z"
   },
   {
    "duration": 17,
    "start_time": "2022-04-12T14:21:25.003Z"
   },
   {
    "duration": 8,
    "start_time": "2022-04-12T14:21:25.022Z"
   },
   {
    "duration": 22,
    "start_time": "2022-04-12T14:21:25.032Z"
   },
   {
    "duration": 41,
    "start_time": "2022-04-12T14:21:25.056Z"
   },
   {
    "duration": 24,
    "start_time": "2022-04-12T14:21:25.099Z"
   },
   {
    "duration": 82,
    "start_time": "2022-04-12T14:21:25.126Z"
   },
   {
    "duration": 402,
    "start_time": "2022-04-12T14:21:25.210Z"
   },
   {
    "duration": 11,
    "start_time": "2022-04-12T14:21:25.615Z"
   },
   {
    "duration": 498,
    "start_time": "2022-04-12T14:21:25.629Z"
   },
   {
    "duration": 21,
    "start_time": "2022-04-12T14:21:26.130Z"
   },
   {
    "duration": 234,
    "start_time": "2022-04-12T14:21:26.154Z"
   },
   {
    "duration": 12,
    "start_time": "2022-04-12T14:21:26.390Z"
   },
   {
    "duration": 456,
    "start_time": "2022-04-12T14:21:26.410Z"
   },
   {
    "duration": 3,
    "start_time": "2022-04-12T14:21:26.868Z"
   },
   {
    "duration": 59,
    "start_time": "2022-04-12T14:21:26.873Z"
   },
   {
    "duration": 1159,
    "start_time": "2022-04-12T14:21:26.934Z"
   },
   {
    "duration": 7,
    "start_time": "2022-04-12T14:21:28.096Z"
   },
   {
    "duration": 707,
    "start_time": "2022-04-12T14:21:28.105Z"
   },
   {
    "duration": 4,
    "start_time": "2022-04-12T14:21:28.814Z"
   },
   {
    "duration": 90,
    "start_time": "2022-04-12T14:21:28.820Z"
   },
   {
    "duration": 326,
    "start_time": "2022-04-12T14:21:28.912Z"
   },
   {
    "duration": 4,
    "start_time": "2022-04-12T14:21:29.294Z"
   },
   {
    "duration": 22,
    "start_time": "2022-04-12T14:21:29.301Z"
   },
   {
    "duration": 70,
    "start_time": "2022-04-12T14:21:29.325Z"
   },
   {
    "duration": 17,
    "start_time": "2022-04-12T14:21:29.397Z"
   },
   {
    "duration": 86,
    "start_time": "2022-04-12T14:21:29.416Z"
   },
   {
    "duration": 1040,
    "start_time": "2022-04-12T14:21:29.504Z"
   },
   {
    "duration": 293,
    "start_time": "2022-04-12T14:21:30.546Z"
   },
   {
    "duration": 282,
    "start_time": "2022-04-12T14:21:30.842Z"
   },
   {
    "duration": 13,
    "start_time": "2022-04-12T14:21:31.128Z"
   },
   {
    "duration": 168,
    "start_time": "2022-04-12T14:21:31.144Z"
   },
   {
    "duration": 0,
    "start_time": "2022-04-12T14:21:31.314Z"
   },
   {
    "duration": 0,
    "start_time": "2022-04-12T14:21:31.316Z"
   },
   {
    "duration": 0,
    "start_time": "2022-04-12T14:21:31.318Z"
   },
   {
    "duration": 0,
    "start_time": "2022-04-12T14:21:31.319Z"
   },
   {
    "duration": 0,
    "start_time": "2022-04-12T14:21:31.321Z"
   },
   {
    "duration": 0,
    "start_time": "2022-04-12T14:21:31.322Z"
   },
   {
    "duration": 0,
    "start_time": "2022-04-12T14:21:31.323Z"
   },
   {
    "duration": 0,
    "start_time": "2022-04-12T14:21:31.325Z"
   },
   {
    "duration": 0,
    "start_time": "2022-04-12T14:21:31.326Z"
   },
   {
    "duration": 0,
    "start_time": "2022-04-12T14:21:31.327Z"
   },
   {
    "duration": 0,
    "start_time": "2022-04-12T14:21:31.329Z"
   },
   {
    "duration": 0,
    "start_time": "2022-04-12T14:21:31.330Z"
   },
   {
    "duration": 0,
    "start_time": "2022-04-12T14:21:31.331Z"
   },
   {
    "duration": 0,
    "start_time": "2022-04-12T14:21:31.333Z"
   },
   {
    "duration": 1,
    "start_time": "2022-04-12T14:21:31.333Z"
   },
   {
    "duration": 0,
    "start_time": "2022-04-12T14:21:31.335Z"
   },
   {
    "duration": 0,
    "start_time": "2022-04-12T14:21:31.336Z"
   },
   {
    "duration": 7,
    "start_time": "2022-04-12T14:33:27.328Z"
   },
   {
    "duration": 11,
    "start_time": "2022-04-12T14:33:29.482Z"
   },
   {
    "duration": 6,
    "start_time": "2022-04-12T14:33:33.125Z"
   },
   {
    "duration": 5,
    "start_time": "2022-04-12T14:33:37.608Z"
   },
   {
    "duration": 408,
    "start_time": "2022-04-12T14:33:39.719Z"
   },
   {
    "duration": 11,
    "start_time": "2022-04-12T14:33:42.638Z"
   },
   {
    "duration": 11,
    "start_time": "2022-04-12T14:34:11.286Z"
   },
   {
    "duration": 26,
    "start_time": "2022-04-12T14:36:18.299Z"
   },
   {
    "duration": 10,
    "start_time": "2022-04-12T14:36:22.793Z"
   },
   {
    "duration": 7,
    "start_time": "2022-04-12T14:36:32.988Z"
   },
   {
    "duration": 10,
    "start_time": "2022-04-12T14:36:34.334Z"
   },
   {
    "duration": 6,
    "start_time": "2022-04-12T14:36:36.337Z"
   },
   {
    "duration": 12,
    "start_time": "2022-04-12T14:36:37.239Z"
   },
   {
    "duration": 45,
    "start_time": "2022-04-12T14:36:51.308Z"
   },
   {
    "duration": 10,
    "start_time": "2022-04-12T14:38:48.685Z"
   },
   {
    "duration": 18,
    "start_time": "2022-04-12T14:38:57.055Z"
   },
   {
    "duration": 5,
    "start_time": "2022-04-12T14:39:22.647Z"
   },
   {
    "duration": 373,
    "start_time": "2022-04-12T14:39:59.832Z"
   },
   {
    "duration": 7,
    "start_time": "2022-04-12T14:42:44.732Z"
   },
   {
    "duration": 6,
    "start_time": "2022-04-12T14:43:02.075Z"
   },
   {
    "duration": 342,
    "start_time": "2022-04-12T14:43:12.998Z"
   },
   {
    "duration": 5,
    "start_time": "2022-04-12T14:44:54.521Z"
   },
   {
    "duration": 10,
    "start_time": "2022-04-12T14:45:00.787Z"
   },
   {
    "duration": 11,
    "start_time": "2022-04-12T14:45:07.565Z"
   },
   {
    "duration": 9,
    "start_time": "2022-04-12T14:45:08.841Z"
   },
   {
    "duration": 297,
    "start_time": "2022-04-12T14:45:09.816Z"
   },
   {
    "duration": 189,
    "start_time": "2022-04-12T14:45:26.017Z"
   },
   {
    "duration": 187,
    "start_time": "2022-04-12T14:45:29.256Z"
   },
   {
    "duration": 287,
    "start_time": "2022-04-12T14:45:51.761Z"
   },
   {
    "duration": 481,
    "start_time": "2022-04-12T14:45:56.029Z"
   },
   {
    "duration": 284,
    "start_time": "2022-04-12T14:46:00.717Z"
   },
   {
    "duration": 287,
    "start_time": "2022-04-12T14:46:37.578Z"
   },
   {
    "duration": 285,
    "start_time": "2022-04-12T14:46:48.665Z"
   },
   {
    "duration": 11,
    "start_time": "2022-04-12T14:50:12.642Z"
   },
   {
    "duration": 7,
    "start_time": "2022-04-12T14:50:29.401Z"
   },
   {
    "duration": 33,
    "start_time": "2022-04-12T14:50:49.590Z"
   },
   {
    "duration": 1545,
    "start_time": "2022-04-12T14:51:10.301Z"
   },
   {
    "duration": 81,
    "start_time": "2022-04-12T14:51:11.849Z"
   },
   {
    "duration": 60,
    "start_time": "2022-04-12T14:51:11.933Z"
   },
   {
    "duration": 21,
    "start_time": "2022-04-12T14:51:11.997Z"
   },
   {
    "duration": 9,
    "start_time": "2022-04-12T14:51:12.020Z"
   },
   {
    "duration": 64,
    "start_time": "2022-04-12T14:51:12.031Z"
   },
   {
    "duration": 8,
    "start_time": "2022-04-12T14:51:12.097Z"
   },
   {
    "duration": 8,
    "start_time": "2022-04-12T14:51:12.107Z"
   },
   {
    "duration": 20,
    "start_time": "2022-04-12T14:51:12.117Z"
   },
   {
    "duration": 52,
    "start_time": "2022-04-12T14:51:12.141Z"
   },
   {
    "duration": 19,
    "start_time": "2022-04-12T14:51:12.196Z"
   },
   {
    "duration": 23,
    "start_time": "2022-04-12T14:51:12.217Z"
   },
   {
    "duration": 9,
    "start_time": "2022-04-12T14:51:12.243Z"
   },
   {
    "duration": 7,
    "start_time": "2022-04-12T14:51:12.294Z"
   },
   {
    "duration": 18,
    "start_time": "2022-04-12T14:51:12.303Z"
   },
   {
    "duration": 11,
    "start_time": "2022-04-12T14:51:12.323Z"
   },
   {
    "duration": 23,
    "start_time": "2022-04-12T14:51:12.337Z"
   },
   {
    "duration": 36,
    "start_time": "2022-04-12T14:51:12.363Z"
   },
   {
    "duration": 29,
    "start_time": "2022-04-12T14:51:12.401Z"
   },
   {
    "duration": 79,
    "start_time": "2022-04-12T14:51:12.432Z"
   },
   {
    "duration": 393,
    "start_time": "2022-04-12T14:51:12.514Z"
   },
   {
    "duration": 11,
    "start_time": "2022-04-12T14:51:12.909Z"
   },
   {
    "duration": 488,
    "start_time": "2022-04-12T14:51:12.922Z"
   },
   {
    "duration": 18,
    "start_time": "2022-04-12T14:51:13.412Z"
   },
   {
    "duration": 226,
    "start_time": "2022-04-12T14:51:13.432Z"
   },
   {
    "duration": 7,
    "start_time": "2022-04-12T14:51:13.661Z"
   },
   {
    "duration": 479,
    "start_time": "2022-04-12T14:51:13.671Z"
   },
   {
    "duration": 4,
    "start_time": "2022-04-12T14:51:14.156Z"
   },
   {
    "duration": 67,
    "start_time": "2022-04-12T14:51:14.162Z"
   },
   {
    "duration": 887,
    "start_time": "2022-04-12T14:51:14.231Z"
   },
   {
    "duration": 9,
    "start_time": "2022-04-12T14:51:15.120Z"
   },
   {
    "duration": 525,
    "start_time": "2022-04-12T14:51:15.131Z"
   },
   {
    "duration": 3,
    "start_time": "2022-04-12T14:51:15.659Z"
   },
   {
    "duration": 51,
    "start_time": "2022-04-12T14:51:15.664Z"
   },
   {
    "duration": 181,
    "start_time": "2022-04-12T14:51:15.717Z"
   },
   {
    "duration": 5,
    "start_time": "2022-04-12T14:51:15.900Z"
   },
   {
    "duration": 21,
    "start_time": "2022-04-12T14:51:15.907Z"
   },
   {
    "duration": 18,
    "start_time": "2022-04-12T14:51:15.930Z"
   },
   {
    "duration": 44,
    "start_time": "2022-04-12T14:51:15.950Z"
   },
   {
    "duration": 31,
    "start_time": "2022-04-12T14:51:15.997Z"
   },
   {
    "duration": 428,
    "start_time": "2022-04-12T14:51:16.030Z"
   },
   {
    "duration": 213,
    "start_time": "2022-04-12T14:51:16.460Z"
   },
   {
    "duration": 200,
    "start_time": "2022-04-12T14:51:16.675Z"
   },
   {
    "duration": 18,
    "start_time": "2022-04-12T14:51:16.878Z"
   },
   {
    "duration": 9,
    "start_time": "2022-04-12T14:51:16.898Z"
   },
   {
    "duration": 9,
    "start_time": "2022-04-12T14:51:16.909Z"
   },
   {
    "duration": 361,
    "start_time": "2022-04-12T14:51:16.920Z"
   },
   {
    "duration": 12,
    "start_time": "2022-04-12T14:51:17.284Z"
   },
   {
    "duration": 11,
    "start_time": "2022-04-12T14:51:17.298Z"
   },
   {
    "duration": 335,
    "start_time": "2022-04-12T14:51:17.311Z"
   },
   {
    "duration": 7,
    "start_time": "2022-04-12T14:51:17.648Z"
   },
   {
    "duration": 11,
    "start_time": "2022-04-12T14:51:17.657Z"
   },
   {
    "duration": 336,
    "start_time": "2022-04-12T14:51:17.671Z"
   },
   {
    "duration": 6,
    "start_time": "2022-04-12T14:51:18.009Z"
   },
   {
    "duration": 319,
    "start_time": "2022-04-12T14:51:18.018Z"
   },
   {
    "duration": 53,
    "start_time": "2022-04-12T14:51:18.340Z"
   },
   {
    "duration": 223,
    "start_time": "2022-04-12T14:51:18.396Z"
   },
   {
    "duration": 318,
    "start_time": "2022-04-12T14:51:18.622Z"
   },
   {
    "duration": 238,
    "start_time": "2022-04-12T14:51:18.943Z"
   },
   {
    "duration": 226,
    "start_time": "2022-04-12T14:51:19.183Z"
   },
   {
    "duration": 230,
    "start_time": "2022-04-12T14:51:19.412Z"
   },
   {
    "duration": 227,
    "start_time": "2022-04-12T14:51:19.645Z"
   },
   {
    "duration": 331,
    "start_time": "2022-04-12T14:51:19.874Z"
   },
   {
    "duration": 411,
    "start_time": "2022-04-12T14:51:20.207Z"
   },
   {
    "duration": 473,
    "start_time": "2022-04-12T14:51:20.620Z"
   },
   {
    "duration": 22,
    "start_time": "2022-04-12T14:51:21.096Z"
   },
   {
    "duration": 15,
    "start_time": "2022-04-12T14:51:21.120Z"
   },
   {
    "duration": 17,
    "start_time": "2022-04-12T14:51:21.193Z"
   },
   {
    "duration": 6,
    "start_time": "2022-04-12T14:52:07.498Z"
   },
   {
    "duration": 33,
    "start_time": "2022-04-12T14:52:18.602Z"
   },
   {
    "duration": 211,
    "start_time": "2022-04-12T14:52:22.780Z"
   },
   {
    "duration": 208,
    "start_time": "2022-04-12T14:52:23.741Z"
   },
   {
    "duration": 307,
    "start_time": "2022-04-12T14:52:25.002Z"
   },
   {
    "duration": 304,
    "start_time": "2022-04-12T14:52:43.461Z"
   },
   {
    "duration": 215,
    "start_time": "2022-04-12T14:52:44.703Z"
   },
   {
    "duration": 301,
    "start_time": "2022-04-12T14:52:45.563Z"
   },
   {
    "duration": 212,
    "start_time": "2022-04-12T14:52:49.529Z"
   },
   {
    "duration": 208,
    "start_time": "2022-04-12T14:52:52.255Z"
   },
   {
    "duration": 223,
    "start_time": "2022-04-12T14:52:53.651Z"
   },
   {
    "duration": 1661,
    "start_time": "2022-04-12T14:54:16.221Z"
   },
   {
    "duration": 75,
    "start_time": "2022-04-12T14:54:17.884Z"
   },
   {
    "duration": 50,
    "start_time": "2022-04-12T14:54:17.961Z"
   },
   {
    "duration": 21,
    "start_time": "2022-04-12T14:54:18.014Z"
   },
   {
    "duration": 7,
    "start_time": "2022-04-12T14:54:18.037Z"
   },
   {
    "duration": 57,
    "start_time": "2022-04-12T14:54:18.046Z"
   },
   {
    "duration": 7,
    "start_time": "2022-04-12T14:54:18.106Z"
   },
   {
    "duration": 12,
    "start_time": "2022-04-12T14:54:18.116Z"
   },
   {
    "duration": 20,
    "start_time": "2022-04-12T14:54:18.131Z"
   },
   {
    "duration": 40,
    "start_time": "2022-04-12T14:54:18.155Z"
   },
   {
    "duration": 17,
    "start_time": "2022-04-12T14:54:18.197Z"
   },
   {
    "duration": 34,
    "start_time": "2022-04-12T14:54:18.216Z"
   },
   {
    "duration": 42,
    "start_time": "2022-04-12T14:54:18.253Z"
   },
   {
    "duration": 9,
    "start_time": "2022-04-12T14:54:18.298Z"
   },
   {
    "duration": 15,
    "start_time": "2022-04-12T14:54:18.310Z"
   },
   {
    "duration": 11,
    "start_time": "2022-04-12T14:54:18.328Z"
   },
   {
    "duration": 55,
    "start_time": "2022-04-12T14:54:18.341Z"
   },
   {
    "duration": 6,
    "start_time": "2022-04-12T14:54:18.398Z"
   },
   {
    "duration": 24,
    "start_time": "2022-04-12T14:54:18.406Z"
   },
   {
    "duration": 87,
    "start_time": "2022-04-12T14:54:18.432Z"
   },
   {
    "duration": 394,
    "start_time": "2022-04-12T14:54:18.522Z"
   },
   {
    "duration": 10,
    "start_time": "2022-04-12T14:54:18.919Z"
   },
   {
    "duration": 551,
    "start_time": "2022-04-12T14:54:18.931Z"
   },
   {
    "duration": 22,
    "start_time": "2022-04-12T14:54:19.484Z"
   },
   {
    "duration": 207,
    "start_time": "2022-04-12T14:54:19.508Z"
   },
   {
    "duration": 6,
    "start_time": "2022-04-12T14:54:19.717Z"
   },
   {
    "duration": 671,
    "start_time": "2022-04-12T14:54:19.726Z"
   },
   {
    "duration": 11,
    "start_time": "2022-04-12T14:54:20.407Z"
   },
   {
    "duration": 83,
    "start_time": "2022-04-12T14:54:20.420Z"
   },
   {
    "duration": 1588,
    "start_time": "2022-04-12T14:54:20.506Z"
   },
   {
    "duration": 9,
    "start_time": "2022-04-12T14:54:22.096Z"
   },
   {
    "duration": 369,
    "start_time": "2022-04-12T14:54:22.107Z"
   },
   {
    "duration": 3,
    "start_time": "2022-04-12T14:54:22.479Z"
   },
   {
    "duration": 36,
    "start_time": "2022-04-12T14:54:22.492Z"
   },
   {
    "duration": 207,
    "start_time": "2022-04-12T14:54:22.530Z"
   },
   {
    "duration": 4,
    "start_time": "2022-04-12T14:54:22.739Z"
   },
   {
    "duration": 21,
    "start_time": "2022-04-12T14:54:22.745Z"
   },
   {
    "duration": 39,
    "start_time": "2022-04-12T14:54:22.769Z"
   },
   {
    "duration": 19,
    "start_time": "2022-04-12T14:54:22.810Z"
   },
   {
    "duration": 66,
    "start_time": "2022-04-12T14:54:22.831Z"
   },
   {
    "duration": 426,
    "start_time": "2022-04-12T14:54:22.899Z"
   },
   {
    "duration": 233,
    "start_time": "2022-04-12T14:54:23.328Z"
   },
   {
    "duration": 206,
    "start_time": "2022-04-12T14:54:23.563Z"
   },
   {
    "duration": 26,
    "start_time": "2022-04-12T14:54:23.772Z"
   },
   {
    "duration": 9,
    "start_time": "2022-04-12T14:54:23.801Z"
   },
   {
    "duration": 11,
    "start_time": "2022-04-12T14:54:23.812Z"
   },
   {
    "duration": 356,
    "start_time": "2022-04-12T14:54:23.824Z"
   },
   {
    "duration": 15,
    "start_time": "2022-04-12T14:54:24.183Z"
   },
   {
    "duration": 10,
    "start_time": "2022-04-12T14:54:24.201Z"
   },
   {
    "duration": 459,
    "start_time": "2022-04-12T14:54:24.213Z"
   },
   {
    "duration": 6,
    "start_time": "2022-04-12T14:54:24.675Z"
   },
   {
    "duration": 5,
    "start_time": "2022-04-12T14:54:24.692Z"
   },
   {
    "duration": 346,
    "start_time": "2022-04-12T14:54:24.699Z"
   },
   {
    "duration": 6,
    "start_time": "2022-04-12T14:54:25.047Z"
   },
   {
    "duration": 300,
    "start_time": "2022-04-12T14:54:25.055Z"
   },
   {
    "duration": 47,
    "start_time": "2022-04-12T14:54:25.358Z"
   },
   {
    "duration": 7,
    "start_time": "2022-04-12T14:54:25.408Z"
   },
   {
    "duration": 220,
    "start_time": "2022-04-12T14:54:25.417Z"
   },
   {
    "duration": 327,
    "start_time": "2022-04-12T14:54:25.639Z"
   },
   {
    "duration": 248,
    "start_time": "2022-04-12T14:54:25.968Z"
   },
   {
    "duration": 233,
    "start_time": "2022-04-12T14:54:26.218Z"
   },
   {
    "duration": 321,
    "start_time": "2022-04-12T14:54:26.455Z"
   },
   {
    "duration": 530,
    "start_time": "2022-04-12T14:54:26.780Z"
   },
   {
    "duration": 628,
    "start_time": "2022-04-12T14:54:27.313Z"
   },
   {
    "duration": 413,
    "start_time": "2022-04-12T14:54:27.994Z"
   },
   {
    "duration": 421,
    "start_time": "2022-04-12T14:54:28.409Z"
   },
   {
    "duration": 76,
    "start_time": "2022-04-12T14:54:28.832Z"
   },
   {
    "duration": 16,
    "start_time": "2022-04-12T14:54:28.910Z"
   },
   {
    "duration": 68,
    "start_time": "2022-04-12T14:54:28.928Z"
   },
   {
    "duration": 36,
    "start_time": "2022-04-12T14:54:37.995Z"
   },
   {
    "duration": 1656,
    "start_time": "2022-04-12T14:56:32.886Z"
   },
   {
    "duration": 85,
    "start_time": "2022-04-12T14:56:34.546Z"
   },
   {
    "duration": 39,
    "start_time": "2022-04-12T14:56:34.633Z"
   },
   {
    "duration": 34,
    "start_time": "2022-04-12T14:56:34.675Z"
   },
   {
    "duration": 6,
    "start_time": "2022-04-12T14:56:34.711Z"
   },
   {
    "duration": 32,
    "start_time": "2022-04-12T14:56:34.719Z"
   },
   {
    "duration": 41,
    "start_time": "2022-04-12T14:56:34.753Z"
   },
   {
    "duration": 7,
    "start_time": "2022-04-12T14:56:34.797Z"
   },
   {
    "duration": 23,
    "start_time": "2022-04-12T14:56:34.806Z"
   },
   {
    "duration": 20,
    "start_time": "2022-04-12T14:56:34.834Z"
   },
   {
    "duration": 60,
    "start_time": "2022-04-12T14:56:34.856Z"
   },
   {
    "duration": 35,
    "start_time": "2022-04-12T14:56:34.918Z"
   },
   {
    "duration": 7,
    "start_time": "2022-04-12T14:56:34.955Z"
   },
   {
    "duration": 34,
    "start_time": "2022-04-12T14:56:34.964Z"
   },
   {
    "duration": 11,
    "start_time": "2022-04-12T14:56:35.000Z"
   },
   {
    "duration": 8,
    "start_time": "2022-04-12T14:56:35.013Z"
   },
   {
    "duration": 20,
    "start_time": "2022-04-12T14:56:35.023Z"
   },
   {
    "duration": 49,
    "start_time": "2022-04-12T14:56:35.045Z"
   },
   {
    "duration": 24,
    "start_time": "2022-04-12T14:56:35.097Z"
   },
   {
    "duration": 74,
    "start_time": "2022-04-12T14:56:35.123Z"
   },
   {
    "duration": 502,
    "start_time": "2022-04-12T14:56:35.199Z"
   },
   {
    "duration": 11,
    "start_time": "2022-04-12T14:56:35.703Z"
   },
   {
    "duration": 490,
    "start_time": "2022-04-12T14:56:35.717Z"
   },
   {
    "duration": 21,
    "start_time": "2022-04-12T14:56:36.210Z"
   },
   {
    "duration": 297,
    "start_time": "2022-04-12T14:56:36.234Z"
   },
   {
    "duration": 6,
    "start_time": "2022-04-12T14:56:36.533Z"
   },
   {
    "duration": 841,
    "start_time": "2022-04-12T14:56:36.593Z"
   },
   {
    "duration": 53,
    "start_time": "2022-04-12T14:56:37.443Z"
   },
   {
    "duration": 127,
    "start_time": "2022-04-12T14:56:37.499Z"
   },
   {
    "duration": 1826,
    "start_time": "2022-04-12T14:56:37.628Z"
   },
   {
    "duration": 8,
    "start_time": "2022-04-12T14:56:39.456Z"
   },
   {
    "duration": 419,
    "start_time": "2022-04-12T14:56:39.466Z"
   },
   {
    "duration": 7,
    "start_time": "2022-04-12T14:56:39.887Z"
   },
   {
    "duration": 37,
    "start_time": "2022-04-12T14:56:39.896Z"
   },
   {
    "duration": 192,
    "start_time": "2022-04-12T14:56:39.935Z"
   },
   {
    "duration": 4,
    "start_time": "2022-04-12T14:56:40.130Z"
   },
   {
    "duration": 22,
    "start_time": "2022-04-12T14:56:40.136Z"
   },
   {
    "duration": 45,
    "start_time": "2022-04-12T14:56:40.161Z"
   },
   {
    "duration": 19,
    "start_time": "2022-04-12T14:56:40.209Z"
   },
   {
    "duration": 33,
    "start_time": "2022-04-12T14:56:40.230Z"
   },
   {
    "duration": 446,
    "start_time": "2022-04-12T14:56:40.294Z"
   },
   {
    "duration": 309,
    "start_time": "2022-04-12T14:56:40.743Z"
   },
   {
    "duration": 303,
    "start_time": "2022-04-12T14:56:41.055Z"
   },
   {
    "duration": 17,
    "start_time": "2022-04-12T14:56:41.361Z"
   },
   {
    "duration": 7,
    "start_time": "2022-04-12T14:56:41.393Z"
   },
   {
    "duration": 6,
    "start_time": "2022-04-12T14:56:41.402Z"
   },
   {
    "duration": 368,
    "start_time": "2022-04-12T14:56:41.410Z"
   },
   {
    "duration": 15,
    "start_time": "2022-04-12T14:56:41.781Z"
   },
   {
    "duration": 8,
    "start_time": "2022-04-12T14:56:41.798Z"
   },
   {
    "duration": 370,
    "start_time": "2022-04-12T14:56:41.809Z"
   },
   {
    "duration": 13,
    "start_time": "2022-04-12T14:56:42.181Z"
   },
   {
    "duration": 8,
    "start_time": "2022-04-12T14:56:42.196Z"
   },
   {
    "duration": 347,
    "start_time": "2022-04-12T14:56:42.206Z"
   },
   {
    "duration": 7,
    "start_time": "2022-04-12T14:56:42.556Z"
   },
   {
    "duration": 309,
    "start_time": "2022-04-12T14:56:42.565Z"
   },
   {
    "duration": 17,
    "start_time": "2022-04-12T14:56:42.876Z"
   },
   {
    "duration": 222,
    "start_time": "2022-04-12T14:56:42.895Z"
   },
   {
    "duration": 313,
    "start_time": "2022-04-12T14:56:43.120Z"
   },
   {
    "duration": 240,
    "start_time": "2022-04-12T14:56:43.435Z"
   },
   {
    "duration": 236,
    "start_time": "2022-04-12T14:56:43.677Z"
   },
   {
    "duration": 233,
    "start_time": "2022-04-12T14:56:43.915Z"
   },
   {
    "duration": 246,
    "start_time": "2022-04-12T14:56:44.150Z"
   },
   {
    "duration": 226,
    "start_time": "2022-04-12T14:56:44.398Z"
   },
   {
    "duration": 225,
    "start_time": "2022-04-12T14:56:44.626Z"
   },
   {
    "duration": 253,
    "start_time": "2022-04-12T14:56:44.853Z"
   },
   {
    "duration": 23,
    "start_time": "2022-04-12T14:56:45.108Z"
   },
   {
    "duration": 14,
    "start_time": "2022-04-12T14:56:45.133Z"
   },
   {
    "duration": 43,
    "start_time": "2022-04-12T14:56:45.150Z"
   },
   {
    "duration": 13,
    "start_time": "2022-04-12T15:10:13.678Z"
   },
   {
    "duration": 13,
    "start_time": "2022-04-12T15:11:09.149Z"
   },
   {
    "duration": 226,
    "start_time": "2022-04-12T15:14:17.914Z"
   },
   {
    "duration": 184,
    "start_time": "2022-04-12T15:14:27.834Z"
   },
   {
    "duration": 6,
    "start_time": "2022-04-12T15:49:38.061Z"
   },
   {
    "duration": 173,
    "start_time": "2022-04-12T15:49:40.154Z"
   },
   {
    "duration": 6,
    "start_time": "2022-04-12T15:49:47.253Z"
   },
   {
    "duration": 341,
    "start_time": "2022-04-12T15:49:48.501Z"
   },
   {
    "duration": 6,
    "start_time": "2022-04-12T15:50:29.335Z"
   },
   {
    "duration": 26,
    "start_time": "2022-04-12T15:50:31.218Z"
   },
   {
    "duration": 5,
    "start_time": "2022-04-12T15:50:39.862Z"
   },
   {
    "duration": 290,
    "start_time": "2022-04-12T15:50:41.431Z"
   },
   {
    "duration": 6,
    "start_time": "2022-04-12T15:50:54.120Z"
   },
   {
    "duration": 5,
    "start_time": "2022-04-12T15:50:58.210Z"
   },
   {
    "duration": 297,
    "start_time": "2022-04-12T15:51:00.928Z"
   },
   {
    "duration": 11,
    "start_time": "2022-04-12T15:51:38.116Z"
   },
   {
    "duration": 6,
    "start_time": "2022-04-12T15:51:40.474Z"
   },
   {
    "duration": 449,
    "start_time": "2022-04-12T15:51:41.014Z"
   },
   {
    "duration": 7,
    "start_time": "2022-04-12T15:51:51.262Z"
   },
   {
    "duration": 386,
    "start_time": "2022-04-12T15:51:52.219Z"
   },
   {
    "duration": 9,
    "start_time": "2022-04-12T15:52:00.882Z"
   },
   {
    "duration": 309,
    "start_time": "2022-04-12T15:52:01.971Z"
   },
   {
    "duration": 6,
    "start_time": "2022-04-12T15:52:05.040Z"
   },
   {
    "duration": 292,
    "start_time": "2022-04-12T15:52:06.015Z"
   },
   {
    "duration": 12,
    "start_time": "2022-04-12T15:52:28.825Z"
   },
   {
    "duration": 27,
    "start_time": "2022-04-12T15:52:32.514Z"
   },
   {
    "duration": 6,
    "start_time": "2022-04-12T15:52:47.832Z"
   },
   {
    "duration": 291,
    "start_time": "2022-04-12T15:52:49.469Z"
   },
   {
    "duration": 6,
    "start_time": "2022-04-12T15:52:55.418Z"
   },
   {
    "duration": 286,
    "start_time": "2022-04-12T15:52:57.028Z"
   },
   {
    "duration": 6,
    "start_time": "2022-04-12T15:53:03.614Z"
   },
   {
    "duration": 26,
    "start_time": "2022-04-12T15:53:04.074Z"
   },
   {
    "duration": 287,
    "start_time": "2022-04-12T15:53:10.773Z"
   },
   {
    "duration": 313,
    "start_time": "2022-04-12T15:53:17.736Z"
   },
   {
    "duration": 12,
    "start_time": "2022-04-12T15:54:45.297Z"
   },
   {
    "duration": 5,
    "start_time": "2022-04-12T15:54:48.293Z"
   },
   {
    "duration": 11,
    "start_time": "2022-04-12T15:54:52.006Z"
   },
   {
    "duration": 6,
    "start_time": "2022-04-12T15:55:09.342Z"
   },
   {
    "duration": 278,
    "start_time": "2022-04-12T15:55:10.337Z"
   },
   {
    "duration": 44,
    "start_time": "2023-02-03T13:38:43.419Z"
   },
   {
    "duration": 1287,
    "start_time": "2023-02-03T13:38:47.440Z"
   },
   {
    "duration": 238,
    "start_time": "2023-02-03T13:38:48.729Z"
   },
   {
    "duration": 29,
    "start_time": "2023-02-03T13:38:48.969Z"
   },
   {
    "duration": 14,
    "start_time": "2023-02-03T13:38:49.001Z"
   },
   {
    "duration": 3,
    "start_time": "2023-02-03T13:38:49.017Z"
   },
   {
    "duration": 40,
    "start_time": "2023-02-03T13:38:49.022Z"
   },
   {
    "duration": 8,
    "start_time": "2023-02-03T13:38:49.064Z"
   },
   {
    "duration": 7,
    "start_time": "2023-02-03T13:38:49.074Z"
   },
   {
    "duration": 15,
    "start_time": "2023-02-03T13:38:49.083Z"
   },
   {
    "duration": 13,
    "start_time": "2023-02-03T13:38:49.102Z"
   },
   {
    "duration": 35,
    "start_time": "2023-02-03T13:38:49.118Z"
   },
   {
    "duration": 16,
    "start_time": "2023-02-03T13:38:49.155Z"
   },
   {
    "duration": 5,
    "start_time": "2023-02-03T13:38:49.173Z"
   },
   {
    "duration": 11,
    "start_time": "2023-02-03T13:38:49.179Z"
   },
   {
    "duration": 10,
    "start_time": "2023-02-03T13:38:49.191Z"
   },
   {
    "duration": 5,
    "start_time": "2023-02-03T13:38:49.202Z"
   },
   {
    "duration": 41,
    "start_time": "2023-02-03T13:38:49.208Z"
   },
   {
    "duration": 4,
    "start_time": "2023-02-03T13:38:49.251Z"
   },
   {
    "duration": 29,
    "start_time": "2023-02-03T13:38:49.257Z"
   },
   {
    "duration": 46,
    "start_time": "2023-02-03T13:38:49.288Z"
   },
   {
    "duration": 239,
    "start_time": "2023-02-03T13:38:49.336Z"
   },
   {
    "duration": 6,
    "start_time": "2023-02-03T13:38:49.576Z"
   },
   {
    "duration": 282,
    "start_time": "2023-02-03T13:38:49.583Z"
   },
   {
    "duration": 11,
    "start_time": "2023-02-03T13:38:49.867Z"
   },
   {
    "duration": 140,
    "start_time": "2023-02-03T13:38:49.880Z"
   },
   {
    "duration": 3,
    "start_time": "2023-02-03T13:38:50.022Z"
   },
   {
    "duration": 265,
    "start_time": "2023-02-03T13:38:50.027Z"
   },
   {
    "duration": 3,
    "start_time": "2023-02-03T13:38:50.296Z"
   },
   {
    "duration": 29,
    "start_time": "2023-02-03T13:38:50.301Z"
   },
   {
    "duration": 635,
    "start_time": "2023-02-03T13:38:50.332Z"
   },
   {
    "duration": 6,
    "start_time": "2023-02-03T13:38:50.969Z"
   },
   {
    "duration": 178,
    "start_time": "2023-02-03T13:38:50.977Z"
   },
   {
    "duration": 4,
    "start_time": "2023-02-03T13:38:51.156Z"
   },
   {
    "duration": 25,
    "start_time": "2023-02-03T13:38:51.161Z"
   },
   {
    "duration": 114,
    "start_time": "2023-02-03T13:38:51.188Z"
   },
   {
    "duration": 3,
    "start_time": "2023-02-03T13:38:51.304Z"
   },
   {
    "duration": 15,
    "start_time": "2023-02-03T13:38:51.308Z"
   },
   {
    "duration": 28,
    "start_time": "2023-02-03T13:38:51.324Z"
   },
   {
    "duration": 16,
    "start_time": "2023-02-03T13:38:51.354Z"
   },
   {
    "duration": 23,
    "start_time": "2023-02-03T13:38:51.372Z"
   },
   {
    "duration": 256,
    "start_time": "2023-02-03T13:38:51.397Z"
   },
   {
    "duration": 122,
    "start_time": "2023-02-03T13:38:51.654Z"
   },
   {
    "duration": 117,
    "start_time": "2023-02-03T13:38:51.778Z"
   },
   {
    "duration": 9,
    "start_time": "2023-02-03T13:38:51.896Z"
   },
   {
    "duration": 7,
    "start_time": "2023-02-03T13:38:51.907Z"
   },
   {
    "duration": 5,
    "start_time": "2023-02-03T13:38:51.916Z"
   },
   {
    "duration": 298,
    "start_time": "2023-02-03T13:38:51.922Z"
   },
   {
    "duration": 5,
    "start_time": "2023-02-03T13:38:52.221Z"
   },
   {
    "duration": 21,
    "start_time": "2023-02-03T13:38:52.227Z"
   },
   {
    "duration": 252,
    "start_time": "2023-02-03T13:38:52.250Z"
   },
   {
    "duration": 4,
    "start_time": "2023-02-03T13:38:52.504Z"
   },
   {
    "duration": 7,
    "start_time": "2023-02-03T13:38:52.509Z"
   },
   {
    "duration": 295,
    "start_time": "2023-02-03T13:38:52.517Z"
   },
   {
    "duration": 5,
    "start_time": "2023-02-03T13:38:52.814Z"
   },
   {
    "duration": 218,
    "start_time": "2023-02-03T13:38:52.820Z"
   },
   {
    "duration": 4,
    "start_time": "2023-02-03T13:38:53.040Z"
   },
   {
    "duration": 266,
    "start_time": "2023-02-03T13:38:53.045Z"
   },
   {
    "duration": 4,
    "start_time": "2023-02-03T13:38:53.313Z"
   },
   {
    "duration": 179,
    "start_time": "2023-02-03T13:38:53.318Z"
   },
   {
    "duration": 4,
    "start_time": "2023-02-03T13:38:53.499Z"
   },
   {
    "duration": 128,
    "start_time": "2023-02-03T13:38:53.505Z"
   },
   {
    "duration": 143,
    "start_time": "2023-02-03T13:38:53.635Z"
   },
   {
    "duration": 145,
    "start_time": "2023-02-03T13:38:53.779Z"
   },
   {
    "duration": 140,
    "start_time": "2023-02-03T13:38:53.925Z"
   },
   {
    "duration": 149,
    "start_time": "2023-02-03T13:38:54.067Z"
   },
   {
    "duration": 143,
    "start_time": "2023-02-03T13:38:54.218Z"
   },
   {
    "duration": 132,
    "start_time": "2023-02-03T13:38:54.362Z"
   },
   {
    "duration": 130,
    "start_time": "2023-02-03T13:38:54.495Z"
   },
   {
    "duration": 138,
    "start_time": "2023-02-03T13:38:54.626Z"
   },
   {
    "duration": 14,
    "start_time": "2023-02-03T13:38:54.765Z"
   },
   {
    "duration": 10,
    "start_time": "2023-02-03T13:38:54.781Z"
   },
   {
    "duration": 9,
    "start_time": "2023-02-03T13:38:54.792Z"
   },
   {
    "duration": 20,
    "start_time": "2023-02-03T13:39:22.896Z"
   },
   {
    "duration": 343,
    "start_time": "2023-02-03T13:39:29.642Z"
   },
   {
    "duration": 5,
    "start_time": "2023-02-03T13:39:57.551Z"
   }
  ],
  "kernelspec": {
   "display_name": "Python 3 (ipykernel)",
   "language": "python",
   "name": "python3"
  },
  "language_info": {
   "codemirror_mode": {
    "name": "ipython",
    "version": 3
   },
   "file_extension": ".py",
   "mimetype": "text/x-python",
   "name": "python",
   "nbconvert_exporter": "python",
   "pygments_lexer": "ipython3",
   "version": "3.9.5"
  },
  "toc": {
   "base_numbering": 1,
   "nav_menu": {},
   "number_sections": true,
   "sideBar": true,
   "skip_h1_title": true,
   "title_cell": "Table of Contents",
   "title_sidebar": "Contents",
   "toc_cell": false,
   "toc_position": {
    "height": "calc(100% - 180px)",
    "left": "10px",
    "top": "150px",
    "width": "292px"
   },
   "toc_section_display": true,
   "toc_window_display": true
  }
 },
 "nbformat": 4,
 "nbformat_minor": 2
}
